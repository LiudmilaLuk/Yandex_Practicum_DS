{
 "cells": [
  {
   "cell_type": "code",
   "execution_count": 1,
   "metadata": {},
   "outputs": [],
   "source": [
    "import pandas as pd\n",
    "import numpy as np\n",
    "import matplotlib.pyplot as plt\n",
    "\n",
    "from sklearn.model_selection import train_test_split\n",
    "from sklearn.linear_model import LinearRegression\n",
    "from sklearn.metrics import r2_score, mean_squared_error"
   ]
  },
  {
   "cell_type": "markdown",
   "metadata": {
    "toc": true
   },
   "source": [
    "<h1>Содержание<span class=\"tocSkip\"></span></h1>\n",
    "<div class=\"toc\"><ul class=\"toc-item\"><li><span><a href=\"#Загрузка-данных\" data-toc-modified-id=\"Загрузка-данных-1\"><span class=\"toc-item-num\">1&nbsp;&nbsp;</span>Загрузка данных</a></span><ul class=\"toc-item\"><li><span><a href=\"#Вывод\" data-toc-modified-id=\"Вывод-1.1\"><span class=\"toc-item-num\">1.1&nbsp;&nbsp;</span>Вывод</a></span></li></ul></li><li><span><a href=\"#Умножение-матриц\" data-toc-modified-id=\"Умножение-матриц-2\"><span class=\"toc-item-num\">2&nbsp;&nbsp;</span>Умножение матриц</a></span></li><li><span><a href=\"#Алгоритм-преобразования\" data-toc-modified-id=\"Алгоритм-преобразования-3\"><span class=\"toc-item-num\">3&nbsp;&nbsp;</span>Алгоритм преобразования</a></span></li><li><span><a href=\"#Проверка-алгоритма\" data-toc-modified-id=\"Проверка-алгоритма-4\"><span class=\"toc-item-num\">4&nbsp;&nbsp;</span>Проверка алгоритма</a></span><ul class=\"toc-item\"><li><span><a href=\"#Вывод\" data-toc-modified-id=\"Вывод-4.1\"><span class=\"toc-item-num\">4.1&nbsp;&nbsp;</span>Вывод</a></span></li></ul></li><li><span><a href=\"#Чек-лист-проверки\" data-toc-modified-id=\"Чек-лист-проверки-5\"><span class=\"toc-item-num\">5&nbsp;&nbsp;</span>Чек-лист проверки</a></span></li></ul></div>"
   ]
  },
  {
   "cell_type": "markdown",
   "metadata": {},
   "source": [
    "# Защита персональных данных клиентов"
   ]
  },
  {
   "cell_type": "markdown",
   "metadata": {},
   "source": [
    "Вам нужно защитить данные клиентов страховой компании «Хоть потоп». Разработайте такой метод преобразования данных, чтобы по ним было сложно восстановить персональную информацию. Обоснуйте корректность его работы.\n",
    "\n",
    "Нужно защитить данные, чтобы при преобразовании качество моделей машинного обучения не ухудшилось. Подбирать наилучшую модель не требуется."
   ]
  },
  {
   "cell_type": "markdown",
   "metadata": {},
   "source": [
    "## Загрузка данных"
   ]
  },
  {
   "cell_type": "code",
   "execution_count": 2,
   "metadata": {
    "scrolled": false
   },
   "outputs": [
    {
     "data": {
      "text/html": [
       "<div>\n",
       "<style scoped>\n",
       "    .dataframe tbody tr th:only-of-type {\n",
       "        vertical-align: middle;\n",
       "    }\n",
       "\n",
       "    .dataframe tbody tr th {\n",
       "        vertical-align: top;\n",
       "    }\n",
       "\n",
       "    .dataframe thead th {\n",
       "        text-align: right;\n",
       "    }\n",
       "</style>\n",
       "<table border=\"1\" class=\"dataframe\">\n",
       "  <thead>\n",
       "    <tr style=\"text-align: right;\">\n",
       "      <th></th>\n",
       "      <th>Пол</th>\n",
       "      <th>Возраст</th>\n",
       "      <th>Зарплата</th>\n",
       "      <th>Члены семьи</th>\n",
       "      <th>Страховые выплаты</th>\n",
       "    </tr>\n",
       "  </thead>\n",
       "  <tbody>\n",
       "    <tr>\n",
       "      <th>0</th>\n",
       "      <td>1</td>\n",
       "      <td>41.0</td>\n",
       "      <td>49600.0</td>\n",
       "      <td>1</td>\n",
       "      <td>0</td>\n",
       "    </tr>\n",
       "    <tr>\n",
       "      <th>1</th>\n",
       "      <td>0</td>\n",
       "      <td>46.0</td>\n",
       "      <td>38000.0</td>\n",
       "      <td>1</td>\n",
       "      <td>1</td>\n",
       "    </tr>\n",
       "    <tr>\n",
       "      <th>2</th>\n",
       "      <td>0</td>\n",
       "      <td>29.0</td>\n",
       "      <td>21000.0</td>\n",
       "      <td>0</td>\n",
       "      <td>0</td>\n",
       "    </tr>\n",
       "    <tr>\n",
       "      <th>3</th>\n",
       "      <td>0</td>\n",
       "      <td>21.0</td>\n",
       "      <td>41700.0</td>\n",
       "      <td>2</td>\n",
       "      <td>0</td>\n",
       "    </tr>\n",
       "    <tr>\n",
       "      <th>4</th>\n",
       "      <td>1</td>\n",
       "      <td>28.0</td>\n",
       "      <td>26100.0</td>\n",
       "      <td>0</td>\n",
       "      <td>0</td>\n",
       "    </tr>\n",
       "    <tr>\n",
       "      <th>5</th>\n",
       "      <td>1</td>\n",
       "      <td>43.0</td>\n",
       "      <td>41000.0</td>\n",
       "      <td>2</td>\n",
       "      <td>1</td>\n",
       "    </tr>\n",
       "    <tr>\n",
       "      <th>6</th>\n",
       "      <td>1</td>\n",
       "      <td>39.0</td>\n",
       "      <td>39700.0</td>\n",
       "      <td>2</td>\n",
       "      <td>0</td>\n",
       "    </tr>\n",
       "    <tr>\n",
       "      <th>7</th>\n",
       "      <td>1</td>\n",
       "      <td>25.0</td>\n",
       "      <td>38600.0</td>\n",
       "      <td>4</td>\n",
       "      <td>0</td>\n",
       "    </tr>\n",
       "    <tr>\n",
       "      <th>8</th>\n",
       "      <td>1</td>\n",
       "      <td>36.0</td>\n",
       "      <td>49700.0</td>\n",
       "      <td>1</td>\n",
       "      <td>0</td>\n",
       "    </tr>\n",
       "    <tr>\n",
       "      <th>9</th>\n",
       "      <td>1</td>\n",
       "      <td>32.0</td>\n",
       "      <td>51700.0</td>\n",
       "      <td>1</td>\n",
       "      <td>0</td>\n",
       "    </tr>\n",
       "  </tbody>\n",
       "</table>\n",
       "</div>"
      ],
      "text/plain": [
       "   Пол  Возраст  Зарплата  Члены семьи  Страховые выплаты\n",
       "0    1     41.0   49600.0            1                  0\n",
       "1    0     46.0   38000.0            1                  1\n",
       "2    0     29.0   21000.0            0                  0\n",
       "3    0     21.0   41700.0            2                  0\n",
       "4    1     28.0   26100.0            0                  0\n",
       "5    1     43.0   41000.0            2                  1\n",
       "6    1     39.0   39700.0            2                  0\n",
       "7    1     25.0   38600.0            4                  0\n",
       "8    1     36.0   49700.0            1                  0\n",
       "9    1     32.0   51700.0            1                  0"
      ]
     },
     "metadata": {},
     "output_type": "display_data"
    },
    {
     "name": "stdout",
     "output_type": "stream",
     "text": [
      "               Пол      Возраст      Зарплата  Члены семьи  Страховые выплаты\n",
      "count  5000.000000  5000.000000   5000.000000  5000.000000        5000.000000\n",
      "mean      0.499000    30.952800  39916.360000     1.194200           0.148000\n",
      "std       0.500049     8.440807   9900.083569     1.091387           0.463183\n",
      "min       0.000000    18.000000   5300.000000     0.000000           0.000000\n",
      "25%       0.000000    24.000000  33300.000000     0.000000           0.000000\n",
      "50%       0.000000    30.000000  40200.000000     1.000000           0.000000\n",
      "75%       1.000000    37.000000  46600.000000     2.000000           0.000000\n",
      "max       1.000000    65.000000  79000.000000     6.000000           5.000000\n",
      "<class 'pandas.core.frame.DataFrame'>\n",
      "RangeIndex: 5000 entries, 0 to 4999\n",
      "Data columns (total 5 columns):\n",
      " #   Column             Non-Null Count  Dtype  \n",
      "---  ------             --------------  -----  \n",
      " 0   Пол                5000 non-null   int64  \n",
      " 1   Возраст            5000 non-null   float64\n",
      " 2   Зарплата           5000 non-null   float64\n",
      " 3   Члены семьи        5000 non-null   int64  \n",
      " 4   Страховые выплаты  5000 non-null   int64  \n",
      "dtypes: float64(2), int64(3)\n",
      "memory usage: 195.4 KB\n",
      "None\n"
     ]
    }
   ],
   "source": [
    "data = pd.read_csv('/datasets/insurance.csv')\n",
    "display(data.head(10))\n",
    "print(data.describe())\n",
    "print(data.info())"
   ]
  },
  {
   "cell_type": "markdown",
   "metadata": {},
   "source": [
    "* В исходной таблице содержится 5000 объектов;\n",
    "* пропусков в таблице нет;\n",
    "* имена столбцов записаны кириллицей;"
   ]
  },
  {
   "cell_type": "markdown",
   "metadata": {},
   "source": [
    "Заменим тип данных в столбце \"Возраст\" на целочисленный:"
   ]
  },
  {
   "cell_type": "code",
   "execution_count": 3,
   "metadata": {},
   "outputs": [],
   "source": [
    "data['Возраст'] = data['Возраст'].astype(int)"
   ]
  },
  {
   "cell_type": "markdown",
   "metadata": {},
   "source": [
    "Изменим имена колонок:"
   ]
  },
  {
   "cell_type": "code",
   "execution_count": 4,
   "metadata": {},
   "outputs": [],
   "source": [
    "data = data.rename(columns={'Пол': 'sex', \n",
    "                            'Возраст': 'age',\n",
    "                            'Зарплата': 'salary',\n",
    "                           'Члены семьи': 'family_ members ',\n",
    "                           'Страховые выплаты': 'insurance_payments'})"
   ]
  },
  {
   "cell_type": "markdown",
   "metadata": {},
   "source": [
    "\n",
    "Проверим данные на дубликаты:"
   ]
  },
  {
   "cell_type": "code",
   "execution_count": 5,
   "metadata": {},
   "outputs": [
    {
     "data": {
      "text/plain": [
       "153"
      ]
     },
     "execution_count": 5,
     "metadata": {},
     "output_type": "execute_result"
    }
   ],
   "source": [
    "data.duplicated().sum()"
   ]
  },
  {
   "cell_type": "markdown",
   "metadata": {},
   "source": [
    "Удалим дубликаты из выборки:"
   ]
  },
  {
   "cell_type": "code",
   "execution_count": 6,
   "metadata": {},
   "outputs": [],
   "source": [
    "data.drop_duplicates(inplace=True)\n",
    "data.reset_index(inplace=True, drop=True)"
   ]
  },
  {
   "cell_type": "markdown",
   "metadata": {},
   "source": [
    "Теперь посмотрим на распределения признаков и степень их корреляции друг с другом."
   ]
  },
  {
   "cell_type": "code",
   "execution_count": 7,
   "metadata": {},
   "outputs": [
    {
     "data": {
      "text/plain": [
       "<Figure size 1440x1152 with 0 Axes>"
      ]
     },
     "metadata": {},
     "output_type": "display_data"
    },
    {
     "data": {
      "image/png": "[encoded data removed]",
      "text/plain": [
       "<Figure size 1440x1080 with 6 Axes>"
      ]
     },
     "metadata": {
      "needs_background": "light"
     },
     "output_type": "display_data"
    },
    {
     "data": {
      "image/png": "[encoded data removed]",
      "text/plain": [
       "<Figure size 720x720 with 25 Axes>"
      ]
     },
     "metadata": {
      "needs_background": "light"
     },
     "output_type": "display_data"
    }
   ],
   "source": [
    "plt.figure(figsize=(20, 16))\n",
    "data.hist(bins=50, figsize=(20,15), color='seagreen', linewidth=2)\n",
    "plt.grid()\n",
    "plt.show()\n",
    "\n",
    "\n",
    "\n",
    "pd.plotting.scatter_matrix(data, color='seagreen',figsize=(10, 10))\n",
    "plt.show()"
   ]
  },
  {
   "cell_type": "code",
   "execution_count": 8,
   "metadata": {
    "scrolled": true
   },
   "outputs": [
    {
     "data": {
      "text/html": [
       "<style  type=\"text/css\" >\n",
       "#T_b6f90_row0_col0,#T_b6f90_row1_col0,#T_b6f90_row3_col3{\n",
       "            background-color:  #3c4ec2;\n",
       "            color:  #f1f1f1;\n",
       "        }#T_b6f90_row0_col1{\n",
       "            background-color:  #ecd3c5;\n",
       "            color:  #000000;\n",
       "        }#T_b6f90_row0_col2{\n",
       "            background-color:  #4055c8;\n",
       "            color:  #f1f1f1;\n",
       "        }#T_b6f90_row0_col3,#T_b6f90_row3_col1,#T_b6f90_row4_col0,#T_b6f90_row4_col2,#T_b6f90_row4_col4{\n",
       "            background-color:  #3b4cc0;\n",
       "            color:  #f1f1f1;\n",
       "        }#T_b6f90_row0_col4,#T_b6f90_row1_col1,#T_b6f90_row2_col0,#T_b6f90_row3_col2,#T_b6f90_row4_col3{\n",
       "            background-color:  #b40426;\n",
       "            color:  #f1f1f1;\n",
       "        }#T_b6f90_row1_col2{\n",
       "            background-color:  #3d50c3;\n",
       "            color:  #f1f1f1;\n",
       "        }#T_b6f90_row1_col3,#T_b6f90_row3_col4{\n",
       "            background-color:  #4358cb;\n",
       "            color:  #f1f1f1;\n",
       "        }#T_b6f90_row1_col4{\n",
       "            background-color:  #edd2c3;\n",
       "            color:  #000000;\n",
       "        }#T_b6f90_row2_col1,#T_b6f90_row3_col0{\n",
       "            background-color:  #3f53c6;\n",
       "            color:  #f1f1f1;\n",
       "        }#T_b6f90_row2_col2{\n",
       "            background-color:  #455cce;\n",
       "            color:  #f1f1f1;\n",
       "        }#T_b6f90_row2_col3{\n",
       "            background-color:  #4257c9;\n",
       "            color:  #f1f1f1;\n",
       "        }#T_b6f90_row2_col4{\n",
       "            background-color:  #445acc;\n",
       "            color:  #f1f1f1;\n",
       "        }#T_b6f90_row4_col1{\n",
       "            background-color:  #3e51c5;\n",
       "            color:  #f1f1f1;\n",
       "        }</style><table id=\"T_b6f90_\" ><thead>    <tr>        <th class=\"blank level0\" ></th>        <th class=\"col_heading level0 col0\" >sex</th>        <th class=\"col_heading level0 col1\" >age</th>        <th class=\"col_heading level0 col2\" >salary</th>        <th class=\"col_heading level0 col3\" >family_ members </th>        <th class=\"col_heading level0 col4\" >insurance_payments</th>    </tr></thead><tbody>\n",
       "                <tr>\n",
       "                        <th id=\"T_b6f90_level0_row0\" class=\"row_heading level0 row0\" >insurance_payments</th>\n",
       "                        <td id=\"T_b6f90_row0_col0\" class=\"data row0 col0\" >0.000964</td>\n",
       "                        <td id=\"T_b6f90_row0_col1\" class=\"data row0 col1\" >0.555655</td>\n",
       "                        <td id=\"T_b6f90_row0_col2\" class=\"data row0 col2\" >-0.003878</td>\n",
       "                        <td id=\"T_b6f90_row0_col3\" class=\"data row0 col3\" >-0.032201</td>\n",
       "                        <td id=\"T_b6f90_row0_col4\" class=\"data row0 col4\" >1.000000</td>\n",
       "            </tr>\n",
       "            <tr>\n",
       "                        <th id=\"T_b6f90_level0_row1\" class=\"row_heading level0 row1\" >age</th>\n",
       "                        <td id=\"T_b6f90_row1_col0\" class=\"data row1 col0\" >-0.000092</td>\n",
       "                        <td id=\"T_b6f90_row1_col1\" class=\"data row1 col1\" >1.000000</td>\n",
       "                        <td id=\"T_b6f90_row1_col2\" class=\"data row1 col2\" >-0.018972</td>\n",
       "                        <td id=\"T_b6f90_row1_col3\" class=\"data row1 col3\" >-0.003414</td>\n",
       "                        <td id=\"T_b6f90_row1_col4\" class=\"data row1 col4\" >0.555655</td>\n",
       "            </tr>\n",
       "            <tr>\n",
       "                        <th id=\"T_b6f90_level0_row2\" class=\"row_heading level0 row2\" >sex</th>\n",
       "                        <td id=\"T_b6f90_row2_col0\" class=\"data row2 col0\" >1.000000</td>\n",
       "                        <td id=\"T_b6f90_row2_col1\" class=\"data row2 col1\" >-0.000092</td>\n",
       "                        <td id=\"T_b6f90_row2_col2\" class=\"data row2 col2\" >0.012079</td>\n",
       "                        <td id=\"T_b6f90_row2_col3\" class=\"data row2 col3\" >-0.004594</td>\n",
       "                        <td id=\"T_b6f90_row2_col4\" class=\"data row2 col4\" >0.000964</td>\n",
       "            </tr>\n",
       "            <tr>\n",
       "                        <th id=\"T_b6f90_level0_row3\" class=\"row_heading level0 row3\" >salary</th>\n",
       "                        <td id=\"T_b6f90_row3_col0\" class=\"data row3 col0\" >0.012079</td>\n",
       "                        <td id=\"T_b6f90_row3_col1\" class=\"data row3 col1\" >-0.018972</td>\n",
       "                        <td id=\"T_b6f90_row3_col2\" class=\"data row3 col2\" >1.000000</td>\n",
       "                        <td id=\"T_b6f90_row3_col3\" class=\"data row3 col3\" >-0.027361</td>\n",
       "                        <td id=\"T_b6f90_row3_col4\" class=\"data row3 col4\" >-0.003878</td>\n",
       "            </tr>\n",
       "            <tr>\n",
       "                        <th id=\"T_b6f90_level0_row4\" class=\"row_heading level0 row4\" >family_ members </th>\n",
       "                        <td id=\"T_b6f90_row4_col0\" class=\"data row4 col0\" >-0.004594</td>\n",
       "                        <td id=\"T_b6f90_row4_col1\" class=\"data row4 col1\" >-0.003414</td>\n",
       "                        <td id=\"T_b6f90_row4_col2\" class=\"data row4 col2\" >-0.027361</td>\n",
       "                        <td id=\"T_b6f90_row4_col3\" class=\"data row4 col3\" >1.000000</td>\n",
       "                        <td id=\"T_b6f90_row4_col4\" class=\"data row4 col4\" >-0.032201</td>\n",
       "            </tr>\n",
       "    </tbody></table>"
      ],
      "text/plain": [
       "<pandas.io.formats.style.Styler at 0x7f59a6b03910>"
      ]
     },
     "execution_count": 8,
     "metadata": {},
     "output_type": "execute_result"
    }
   ],
   "source": [
    "(data.corr(method = 'spearman')\n",
    " .sort_values(by = 'insurance_payments', ascending = False)\n",
    " .style.background_gradient(cmap = 'coolwarm')\n",
    ")"
   ]
  },
  {
   "cell_type": "markdown",
   "metadata": {},
   "source": [
    "### Вывод\n",
    "* В исходных данных содержится информация о 5000 объектах. \n",
    "* Из начальной выборки мы удалили 153 дубликата, таким образом в данных, которые будут использоваться далее, содержится информация о 4847 уникальных объектах.\n",
    "\n",
    "Мы посмотрели, как рапределяются данные и на степень их корреляции друг с другом:\n",
    "* количество мужчин и женщин в данных совпадает;\n",
    "* средняя зарплата лежит в диапазоне от 35 до 45 тыс. рублей;\n",
    "* средний возраст клиентов составляет 31 год;\n",
    "* больше всего целевой признак коррелирует с возрастом клиентов;"
   ]
  },
  {
   "cell_type": "markdown",
   "metadata": {},
   "source": [
    "## Умножение матриц"
   ]
  },
  {
   "cell_type": "markdown",
   "metadata": {},
   "source": [
    "Убедимся, что умножение признаков на обратимую матрицу не изменяет качество линейной регрессии. Для этого будем использовать следующие обозначения:"
   ]
  },
  {
   "cell_type": "markdown",
   "metadata": {},
   "source": [
    "- $X$ — матрица признаков (нулевой столбец состоит из единиц)\n",
    "\n",
    "- $y$ — вектор целевого признака\n",
    "\n",
    "- $P$ — матрица, на которую умножаются признаки\n",
    "\n",
    "- $w$ — вектор весов линейной регрессии (нулевой элемент равен сдвигу)"
   ]
  },
  {
   "cell_type": "markdown",
   "metadata": {},
   "source": [
    "Предсказания:\n",
    "\n",
    "$$\n",
    "a = Xw\n",
    "\\tag{1}\n",
    "$$\n",
    "\n",
    "Задача обучения:\n",
    "\n",
    "$$\n",
    "w = \\arg\\min_w MSE(Xw, y)\n",
    "\\tag{2}\n",
    "$$"
   ]
  },
  {
   "cell_type": "markdown",
   "metadata": {},
   "source": [
    "Формула обучения:\n",
    "\n",
    "$$\n",
    "w = (X^T X)^{-1} X^T y\n",
    "\\tag{3}\n",
    "$$\n",
    "\n",
    "Раскроем скобки и упростим выражения (1) и (3). Для этого воспользуемся свойствами матриц:"
   ]
  },
  {
   "cell_type": "markdown",
   "metadata": {},
   "source": [
    "$$\n",
    "(AB)^{T} = B^{T}A^{T}\n",
    "\\tag{4}\n",
    "$$\n",
    "\n",
    "$$\n",
    "(AB)^{-1} = B^{-1}A^{-1}\n",
    "\\tag{5}\n",
    "$$\n",
    "\n",
    "Таким образом получим:\n",
    "$$ \n",
    "w = X^{-1}(X^{T})^{-1}X^{T}y = X^{-1}y\n",
    "\\tag{6}\n",
    "$$\n",
    "\n",
    "$$\n",
    "a = XX^{-1}y = y\n",
    "\\tag{7}\n",
    "$$"
   ]
  },
  {
   "cell_type": "markdown",
   "metadata": {},
   "source": [
    "Обозначим через $\\hat{X}$ новую матрицу:\n",
    "\n",
    "$$\n",
    "\\hat{X} = X \\cdot P\n",
    "\\tag{8}\n",
    "$$\n",
    "\n",
    "Тогда формула обучения (6) примет вид:\n",
    "\n",
    "$$\n",
    "\\hat{w} = (\\hat{X}^{t}\\hat{X})^{-1}\\hat{X}^{T}y = (P^{T}X^{T}XP)^{-1}P^{T}X^{T}y;\n",
    "\\tag{9}\n",
    "$$\n",
    "    \n",
    "$$\n",
    "\\hat{w} = (P^{T}(X^{T}X)P)^{-1}P^{T}X^{T}y = P^{-1}(P^{T}(X^{T}X))^{-1}P^{T}X^{T}y;\n",
    "\\tag{10}\n",
    "$$\n",
    "    \n",
    "Матрица $X^{T}X$ квадратная, но в общем случае мы также ничего не знаем о ее обратимости. Предположим, что она тоже обратима, тогда:\n",
    "\n",
    "$$\n",
    "\\hat{w} =  P^{-1}(X^{T}X)^{-1}(P^{T})^{-1}P^{T}X^{T}y = P^{-1}w;\n",
    "\\tag{11}\n",
    "$$\n",
    "    \n",
    "$$\n",
    "\\hat{a} = XPP^{-1}w = Xw;\n",
    "\\tag{12}\n",
    "$$\n",
    "    \n",
    "$$\n",
    "\\hat{a} = a\n",
    "\\tag{13}\n",
    "$$\n",
    "Таким образом можно видеть, что $a = \\hat{a}$, а значит умножение признаков на обратимую матрицу не изменяет качество линейной регрессии."
   ]
  },
  {
   "cell_type": "markdown",
   "metadata": {},
   "source": [
    "## Алгоритм преобразования"
   ]
  },
  {
   "cell_type": "markdown",
   "metadata": {},
   "source": [
    "**Алгоритм**\n",
    "\n",
    "Как было показано в предыдущем пункте, умножение признаков на обратимую матрицу не изменяет качество линейной регрессии. Зашифруем данные умножив исходную матрицу признаков на матрицу из больших простых чисел: качество модели не изменится, а восстановить данные без ключа будет не так просто."
   ]
  },
  {
   "cell_type": "markdown",
   "metadata": {},
   "source": [
    "Шифрующую матрицу составим из больших простых чисел:"
   ]
  },
  {
   "cell_type": "code",
   "execution_count": 9,
   "metadata": {},
   "outputs": [],
   "source": [
    "#**************************************\n",
    "# Определитель простых чисел\n",
    "#**************************************\n",
    "def is_prime(num):\n",
    "\n",
    "    if num == 0 or num == 1:\n",
    "        return False\n",
    "    for x in range(2, num):\n",
    "        if num % x == 0:\n",
    "            return False\n",
    "    else:\n",
    "        return True"
   ]
  },
  {
   "cell_type": "code",
   "execution_count": 10,
   "metadata": {},
   "outputs": [],
   "source": [
    "#**************************************\n",
    "# Генератор случайной обратимой матрицы\n",
    "#**************************************\n",
    "def matrix_gen(features_shape):\n",
    "    \n",
    "    rows = features_shape\n",
    "    cols =rows\n",
    "    \n",
    "    primes = []\n",
    "    \n",
    "    inv = False\n",
    "    \n",
    "\n",
    "    for i in range(0, rows**2):\n",
    "        n = 4\n",
    "        while is_prime(n) == False:\n",
    "            n = np.random.randint(1e5, 1e7)\n",
    "        primes.append(n)\n",
    "    P = np.array(primes).reshape(rows, cols)\n",
    "    \n",
    "    if np.linalg.det(P) == 0:\n",
    "        print('!!! МАТРИЦА НЕОБРАТИМА !!!')\n",
    "    return P\n"
   ]
  },
  {
   "cell_type": "markdown",
   "metadata": {},
   "source": [
    "Разобьем исходную выборку на тренировочную и тестовую:"
   ]
  },
  {
   "cell_type": "code",
   "execution_count": 11,
   "metadata": {
    "scrolled": true
   },
   "outputs": [
    {
     "name": "stdout",
     "output_type": "stream",
     "text": [
      "0.7499484217041469\n"
     ]
    }
   ],
   "source": [
    "train, test = train_test_split(data, test_size=0.25, random_state=42)\n",
    "print(train.shape[0]/data.shape[0])"
   ]
  },
  {
   "cell_type": "markdown",
   "metadata": {},
   "source": [
    "Определим признаки:"
   ]
  },
  {
   "cell_type": "code",
   "execution_count": 12,
   "metadata": {},
   "outputs": [],
   "source": [
    "features_train = train.drop('insurance_payments', axis=1)\n",
    "features_test = test.drop('insurance_payments', axis=1)\n",
    "\n",
    "target_train = train['insurance_payments']\n",
    "target_test = test['insurance_payments']"
   ]
  },
  {
   "cell_type": "markdown",
   "metadata": {},
   "source": [
    "Создадим шифрующую матрицу:"
   ]
  },
  {
   "cell_type": "code",
   "execution_count": 13,
   "metadata": {},
   "outputs": [],
   "source": [
    "P_train = matrix_gen(features_train.shape[1])"
   ]
  },
  {
   "cell_type": "markdown",
   "metadata": {},
   "source": [
    "И зашифруем признаки:"
   ]
  },
  {
   "cell_type": "code",
   "execution_count": 14,
   "metadata": {},
   "outputs": [],
   "source": [
    "features_train_hat = pd.DataFrame(features_train.values @ P_train, columns=features_train.columns)"
   ]
  },
  {
   "cell_type": "markdown",
   "metadata": {},
   "source": [
    "## Проверка алгоритма"
   ]
  },
  {
   "cell_type": "markdown",
   "metadata": {},
   "source": [
    "Создадим и обучим модель линейной регрессии на исходных и зашифрованных данных."
   ]
  },
  {
   "cell_type": "code",
   "execution_count": 15,
   "metadata": {},
   "outputs": [],
   "source": [
    "model = LinearRegression()\n",
    "\n",
    "model_crypt = model.fit(features_train_hat, target_train)\n",
    "model = model.fit(features_train, target_train)"
   ]
  },
  {
   "cell_type": "markdown",
   "metadata": {},
   "source": [
    "Предскажем целевые признаки и сравним метрики R2 для различных исходных данных:"
   ]
  },
  {
   "cell_type": "code",
   "execution_count": 16,
   "metadata": {
    "scrolled": true
   },
   "outputs": [
    {
     "name": "stdout",
     "output_type": "stream",
     "text": [
      "R2 для зашифровванных данных:0.44;\n",
      "R2 для незашифровванных данных:0.44;\n",
      "Среднее MSE для предсказаний моделей: 0.0\n"
     ]
    }
   ],
   "source": [
    "predictions_crypt = model_crypt.predict(features_test)\n",
    "predictions = model.predict(features_test)\n",
    "\n",
    "R2_crypt = r2_score(target_test, predictions_crypt)\n",
    "R2 = r2_score(target_test, predictions)\n",
    "\n",
    "print('R2 для зашифровванных данных:{0:0.2};'.format(R2_crypt))\n",
    "print('R2 для незашифровванных данных:{0:0.2};'.format(R2))\n",
    "print('Среднее MSE для предсказаний моделей:', mean_squared_error(predictions, predictions_crypt))"
   ]
  },
  {
   "cell_type": "markdown",
   "metadata": {},
   "source": [
    "### Вывод\n",
    "\n",
    "Как и предполагалось, умножение матрицы признаков на шифрующую обратимую матрицу не привело к изменению качества модели."
   ]
  }
 ],
 "metadata": {
  "ExecuteTimeLog": [
   {
    "duration": 521,
    "start_time": "2022-03-15T11:37:09.920Z"
   },
   {
    "duration": 251,
    "start_time": "2022-03-15T11:37:36.819Z"
   },
   {
    "duration": 212,
    "start_time": "2022-03-15T11:37:42.017Z"
   },
   {
    "duration": 42,
    "start_time": "2022-03-15T11:37:49.554Z"
   },
   {
    "duration": 37,
    "start_time": "2022-03-15T11:39:14.970Z"
   },
   {
    "duration": 37,
    "start_time": "2022-03-15T11:39:36.371Z"
   },
   {
    "duration": 38,
    "start_time": "2022-03-15T11:39:45.866Z"
   },
   {
    "duration": 188,
    "start_time": "2022-03-15T11:41:21.036Z"
   },
   {
    "duration": 13986,
    "start_time": "2022-03-15T11:41:48.153Z"
   },
   {
    "duration": 2,
    "start_time": "2022-03-15T11:42:06.172Z"
   },
   {
    "duration": 573,
    "start_time": "2022-03-15T11:42:14.330Z"
   },
   {
    "duration": 259,
    "start_time": "2022-03-15T11:43:41.388Z"
   },
   {
    "duration": 2,
    "start_time": "2022-03-15T11:44:02.627Z"
   },
   {
    "duration": 1527,
    "start_time": "2022-03-15T11:44:05.139Z"
   },
   {
    "duration": 1832,
    "start_time": "2022-03-15T11:46:02.362Z"
   },
   {
    "duration": 1166,
    "start_time": "2022-03-15T11:51:18.419Z"
   },
   {
    "duration": 2112,
    "start_time": "2022-03-15T11:51:38.269Z"
   },
   {
    "duration": 1673,
    "start_time": "2022-03-15T11:52:15.356Z"
   },
   {
    "duration": 66,
    "start_time": "2022-03-15T11:55:38.231Z"
   },
   {
    "duration": 1687,
    "start_time": "2022-03-15T11:55:46.322Z"
   },
   {
    "duration": 5263,
    "start_time": "2022-03-15T11:55:59.188Z"
   },
   {
    "duration": 5193,
    "start_time": "2022-03-15T11:57:26.470Z"
   },
   {
    "duration": 59,
    "start_time": "2022-03-15T11:57:47.517Z"
   },
   {
    "duration": 5274,
    "start_time": "2022-03-15T11:58:00.051Z"
   },
   {
    "duration": 5254,
    "start_time": "2022-03-15T11:58:18.156Z"
   },
   {
    "duration": 4,
    "start_time": "2022-03-15T12:00:45.296Z"
   },
   {
    "duration": 6,
    "start_time": "2022-03-15T12:01:03.580Z"
   },
   {
    "duration": 4,
    "start_time": "2022-03-15T12:40:35.670Z"
   },
   {
    "duration": 231,
    "start_time": "2022-03-16T11:49:01.929Z"
   },
   {
    "duration": 1400,
    "start_time": "2022-03-16T11:49:05.056Z"
   },
   {
    "duration": 6605,
    "start_time": "2022-03-16T11:49:10.962Z"
   },
   {
    "duration": 440,
    "start_time": "2022-03-16T11:49:20.717Z"
   },
   {
    "duration": 48,
    "start_time": "2022-03-16T12:00:09.986Z"
   },
   {
    "duration": 5981,
    "start_time": "2022-03-16T12:00:14.396Z"
   },
   {
    "duration": 8,
    "start_time": "2022-03-16T12:00:35.264Z"
   },
   {
    "duration": 6,
    "start_time": "2022-03-16T12:00:46.997Z"
   },
   {
    "duration": 6,
    "start_time": "2022-03-16T12:01:28.921Z"
   },
   {
    "duration": 5268,
    "start_time": "2022-03-16T12:02:03.056Z"
   },
   {
    "duration": 240,
    "start_time": "2022-03-16T12:11:51.748Z"
   },
   {
    "duration": 5,
    "start_time": "2022-03-16T12:11:55.852Z"
   },
   {
    "duration": 5,
    "start_time": "2022-03-16T12:11:59.101Z"
   },
   {
    "duration": 5,
    "start_time": "2022-03-16T12:12:00.944Z"
   },
   {
    "duration": 887,
    "start_time": "2022-03-16T12:13:00.347Z"
   },
   {
    "duration": 5,
    "start_time": "2022-03-16T12:13:22.367Z"
   },
   {
    "duration": 1807,
    "start_time": "2022-03-16T12:14:13.726Z"
   },
   {
    "duration": 5,
    "start_time": "2022-03-16T12:14:20.851Z"
   },
   {
    "duration": 4,
    "start_time": "2022-03-16T12:14:24.458Z"
   },
   {
    "duration": 5,
    "start_time": "2022-03-16T12:14:35.138Z"
   },
   {
    "duration": 5,
    "start_time": "2022-03-16T12:16:35.155Z"
   },
   {
    "duration": 213,
    "start_time": "2022-03-16T12:21:02.736Z"
   },
   {
    "duration": 10269,
    "start_time": "2022-03-16T12:21:14.851Z"
   },
   {
    "duration": 4,
    "start_time": "2022-03-16T12:21:28.407Z"
   },
   {
    "duration": 5,
    "start_time": "2022-03-16T12:21:37.315Z"
   },
   {
    "duration": 6,
    "start_time": "2022-03-16T12:21:56.323Z"
   },
   {
    "duration": 8,
    "start_time": "2022-03-16T12:22:06.855Z"
   },
   {
    "duration": 4,
    "start_time": "2022-03-16T12:23:20.939Z"
   },
   {
    "duration": 5,
    "start_time": "2022-03-16T12:24:08.138Z"
   },
   {
    "duration": 6,
    "start_time": "2022-03-16T12:24:11.631Z"
   },
   {
    "duration": 4,
    "start_time": "2022-03-16T12:24:18.816Z"
   },
   {
    "duration": 5,
    "start_time": "2022-03-16T12:27:14.848Z"
   },
   {
    "duration": 396,
    "start_time": "2022-03-16T12:27:33.183Z"
   },
   {
    "duration": 4,
    "start_time": "2022-03-16T12:27:41.524Z"
   },
   {
    "duration": 599,
    "start_time": "2022-03-16T12:27:43.458Z"
   },
   {
    "duration": 4,
    "start_time": "2022-03-16T12:27:54.367Z"
   },
   {
    "duration": 553,
    "start_time": "2022-03-16T12:27:56.497Z"
   },
   {
    "duration": 4,
    "start_time": "2022-03-16T12:28:00.083Z"
   },
   {
    "duration": 13,
    "start_time": "2022-03-16T12:28:05.347Z"
   },
   {
    "duration": 4,
    "start_time": "2022-03-16T12:28:20.095Z"
   },
   {
    "duration": 41,
    "start_time": "2022-03-16T12:30:06.498Z"
   },
   {
    "duration": 6,
    "start_time": "2022-03-16T12:31:15.330Z"
   },
   {
    "duration": 7,
    "start_time": "2022-03-16T12:31:34.996Z"
   },
   {
    "duration": 206,
    "start_time": "2022-03-16T12:32:48.474Z"
   },
   {
    "duration": 4,
    "start_time": "2022-03-16T12:32:55.445Z"
   },
   {
    "duration": 16,
    "start_time": "2022-03-16T12:33:08.189Z"
   },
   {
    "duration": 5,
    "start_time": "2022-03-16T12:33:55.936Z"
   },
   {
    "duration": 5,
    "start_time": "2022-03-16T12:39:41.225Z"
   },
   {
    "duration": 494,
    "start_time": "2022-03-16T12:40:13.890Z"
   },
   {
    "duration": 366,
    "start_time": "2022-03-16T12:40:23.784Z"
   },
   {
    "duration": 5,
    "start_time": "2022-03-16T12:41:30.146Z"
   },
   {
    "duration": 427,
    "start_time": "2022-03-16T12:41:31.725Z"
   },
   {
    "duration": 4,
    "start_time": "2022-03-16T12:41:50.093Z"
   },
   {
    "duration": 393,
    "start_time": "2022-03-16T12:41:52.319Z"
   },
   {
    "duration": 3,
    "start_time": "2022-03-16T12:42:04.099Z"
   },
   {
    "duration": 209,
    "start_time": "2022-03-16T12:42:14.519Z"
   },
   {
    "duration": 3,
    "start_time": "2022-03-16T12:42:22.385Z"
   },
   {
    "duration": 4,
    "start_time": "2022-03-16T12:42:31.658Z"
   },
   {
    "duration": 394,
    "start_time": "2022-03-16T12:42:37.772Z"
   },
   {
    "duration": 4,
    "start_time": "2022-03-16T12:42:53.988Z"
   },
   {
    "duration": 410,
    "start_time": "2022-03-16T12:43:10.751Z"
   },
   {
    "duration": 3,
    "start_time": "2022-03-16T12:43:16.563Z"
   },
   {
    "duration": 5,
    "start_time": "2022-03-16T12:43:17.965Z"
   },
   {
    "duration": 8,
    "start_time": "2022-03-16T12:45:37.148Z"
   },
   {
    "duration": 569,
    "start_time": "2022-03-16T12:45:45.225Z"
   },
   {
    "duration": 280,
    "start_time": "2022-03-16T12:53:37.817Z"
   },
   {
    "duration": 5,
    "start_time": "2022-03-16T12:54:13.684Z"
   },
   {
    "duration": 5,
    "start_time": "2022-03-16T12:56:28.487Z"
   },
   {
    "duration": 463,
    "start_time": "2022-03-16T12:56:30.210Z"
   },
   {
    "duration": 4,
    "start_time": "2022-03-16T12:56:40.606Z"
   },
   {
    "duration": 359,
    "start_time": "2022-03-16T12:56:42.940Z"
   },
   {
    "duration": 6,
    "start_time": "2022-03-16T12:59:49.966Z"
   },
   {
    "duration": 368,
    "start_time": "2022-03-16T12:59:52.523Z"
   },
   {
    "duration": 5,
    "start_time": "2022-03-16T13:01:50.085Z"
   },
   {
    "duration": 401,
    "start_time": "2022-03-16T13:01:51.907Z"
   },
   {
    "duration": 4,
    "start_time": "2022-03-16T13:02:29.994Z"
   },
   {
    "duration": 174,
    "start_time": "2022-03-16T13:02:40.368Z"
   },
   {
    "duration": 69,
    "start_time": "2022-03-16T13:03:02.988Z"
   },
   {
    "duration": 4,
    "start_time": "2022-03-16T13:03:10.744Z"
   },
   {
    "duration": 1858,
    "start_time": "2022-03-16T13:03:12.728Z"
   },
   {
    "duration": 6,
    "start_time": "2022-03-16T13:03:33.138Z"
   },
   {
    "duration": 3,
    "start_time": "2022-03-16T13:03:46.750Z"
   },
   {
    "duration": 174,
    "start_time": "2022-03-16T13:03:57.411Z"
   },
   {
    "duration": 23274,
    "start_time": "2022-03-16T13:04:07.225Z"
   },
   {
    "duration": 3,
    "start_time": "2022-03-16T13:04:50.977Z"
   },
   {
    "duration": 7,
    "start_time": "2022-03-16T13:04:52.827Z"
   },
   {
    "duration": 5,
    "start_time": "2022-03-16T13:04:53.743Z"
   },
   {
    "duration": 187,
    "start_time": "2022-03-16T13:06:13.319Z"
   },
   {
    "duration": 3,
    "start_time": "2022-03-16T13:16:59.094Z"
   },
   {
    "duration": 185,
    "start_time": "2022-03-16T13:17:30.261Z"
   },
   {
    "duration": 185,
    "start_time": "2022-03-16T13:17:36.855Z"
   },
   {
    "duration": 191,
    "start_time": "2022-03-16T13:17:47.863Z"
   },
   {
    "duration": 191,
    "start_time": "2022-03-16T13:17:53.614Z"
   },
   {
    "duration": 4,
    "start_time": "2022-03-16T13:18:32.592Z"
   },
   {
    "duration": 210,
    "start_time": "2022-03-16T13:27:29.108Z"
   },
   {
    "duration": 1959,
    "start_time": "2022-03-16T13:27:35.276Z"
   },
   {
    "duration": 1272,
    "start_time": "2022-03-16T13:27:43.177Z"
   },
   {
    "duration": 605,
    "start_time": "2022-03-16T13:27:52.884Z"
   },
   {
    "duration": 1738,
    "start_time": "2022-03-16T13:27:57.956Z"
   },
   {
    "duration": 5,
    "start_time": "2022-03-16T13:28:07.714Z"
   },
   {
    "duration": 64,
    "start_time": "2022-03-16T13:29:18.808Z"
   },
   {
    "duration": 73,
    "start_time": "2022-03-16T13:29:51.928Z"
   },
   {
    "duration": 4,
    "start_time": "2022-03-16T13:30:14.637Z"
   },
   {
    "duration": 4,
    "start_time": "2022-03-16T13:30:30.766Z"
   },
   {
    "duration": 67,
    "start_time": "2022-03-16T13:31:44.295Z"
   },
   {
    "duration": 5,
    "start_time": "2022-03-16T13:31:50.212Z"
   },
   {
    "duration": 24,
    "start_time": "2022-03-16T13:32:03.032Z"
   },
   {
    "duration": 23835,
    "start_time": "2022-03-16T13:32:16.868Z"
   },
   {
    "duration": 73,
    "start_time": "2022-03-16T13:32:48.720Z"
   },
   {
    "duration": 4,
    "start_time": "2022-03-16T13:32:52.560Z"
   },
   {
    "duration": 228,
    "start_time": "2022-03-16T13:35:26.695Z"
   },
   {
    "duration": 17844,
    "start_time": "2022-03-16T13:35:40.345Z"
   },
   {
    "duration": 17893,
    "start_time": "2022-03-16T13:36:02.952Z"
   },
   {
    "duration": 35310,
    "start_time": "2022-03-16T13:36:25.275Z"
   },
   {
    "duration": 4,
    "start_time": "2022-03-16T13:37:15.573Z"
   },
   {
    "duration": 3,
    "start_time": "2022-03-16T13:37:17.854Z"
   },
   {
    "duration": 14,
    "start_time": "2022-03-16T13:37:38.871Z"
   },
   {
    "duration": 60,
    "start_time": "2022-03-16T13:37:46.830Z"
   },
   {
    "duration": 15,
    "start_time": "2022-03-16T13:37:51.395Z"
   },
   {
    "duration": 65,
    "start_time": "2022-03-16T13:39:11.273Z"
   },
   {
    "duration": 410,
    "start_time": "2022-03-16T13:39:18.536Z"
   },
   {
    "duration": 5,
    "start_time": "2022-03-16T13:39:55.400Z"
   },
   {
    "duration": 5,
    "start_time": "2022-03-16T13:40:14.347Z"
   },
   {
    "duration": 5,
    "start_time": "2022-03-16T13:41:11.348Z"
   },
   {
    "duration": 2191,
    "start_time": "2022-03-16T13:41:30.891Z"
   },
   {
    "duration": 443,
    "start_time": "2022-03-16T13:41:44.959Z"
   },
   {
    "duration": 413,
    "start_time": "2022-03-16T13:41:57.277Z"
   },
   {
    "duration": 31,
    "start_time": "2022-03-16T13:42:03.941Z"
   },
   {
    "duration": 6,
    "start_time": "2022-03-16T13:42:08.265Z"
   },
   {
    "duration": 4,
    "start_time": "2022-03-16T13:42:21.686Z"
   },
   {
    "duration": 4,
    "start_time": "2022-03-16T13:42:26.284Z"
   },
   {
    "duration": 4,
    "start_time": "2022-03-16T13:42:27.269Z"
   },
   {
    "duration": 66,
    "start_time": "2022-03-16T13:43:47.224Z"
   },
   {
    "duration": 5212,
    "start_time": "2022-03-16T13:43:55.994Z"
   },
   {
    "duration": 4728,
    "start_time": "2022-03-16T13:44:28.417Z"
   },
   {
    "duration": 3,
    "start_time": "2022-03-16T13:44:44.658Z"
   },
   {
    "duration": 3057,
    "start_time": "2022-03-16T13:44:48.828Z"
   },
   {
    "duration": 4,
    "start_time": "2022-03-16T13:44:51.887Z"
   },
   {
    "duration": 7,
    "start_time": "2022-03-16T13:45:03.745Z"
   },
   {
    "duration": 5,
    "start_time": "2022-03-16T13:46:58.345Z"
   },
   {
    "duration": 61,
    "start_time": "2022-03-16T13:48:21.342Z"
   },
   {
    "duration": 229,
    "start_time": "2022-03-16T13:48:30.834Z"
   },
   {
    "duration": 4,
    "start_time": "2022-03-16T13:48:58.366Z"
   },
   {
    "duration": 4,
    "start_time": "2022-03-16T13:50:24.840Z"
   },
   {
    "duration": 4742,
    "start_time": "2022-03-16T13:50:37.351Z"
   },
   {
    "duration": 4,
    "start_time": "2022-03-16T13:51:19.378Z"
   },
   {
    "duration": 3608,
    "start_time": "2022-03-16T13:51:26.002Z"
   },
   {
    "duration": 4,
    "start_time": "2022-03-16T13:52:39.290Z"
   },
   {
    "duration": 759,
    "start_time": "2022-03-16T13:52:43.976Z"
   },
   {
    "duration": 4,
    "start_time": "2022-03-16T13:53:15.814Z"
   },
   {
    "duration": 4643,
    "start_time": "2022-03-16T13:53:17.891Z"
   },
   {
    "duration": 3,
    "start_time": "2022-03-16T13:53:57.253Z"
   },
   {
    "duration": 4,
    "start_time": "2022-03-16T13:55:09.295Z"
   },
   {
    "duration": 3862,
    "start_time": "2022-03-16T13:55:13.347Z"
   },
   {
    "duration": 9108,
    "start_time": "2022-03-16T13:57:46.771Z"
   },
   {
    "duration": 1947,
    "start_time": "2022-03-16T19:04:13.097Z"
   },
   {
    "duration": 62,
    "start_time": "2022-03-16T19:04:15.047Z"
   },
   {
    "duration": 4,
    "start_time": "2022-03-16T19:04:15.112Z"
   },
   {
    "duration": 12,
    "start_time": "2022-03-16T19:04:15.119Z"
   },
   {
    "duration": 9,
    "start_time": "2022-03-16T19:04:15.134Z"
   },
   {
    "duration": 10147,
    "start_time": "2022-03-16T19:04:15.145Z"
   },
   {
    "duration": 658,
    "start_time": "2022-03-16T19:04:25.295Z"
   },
   {
    "duration": 4,
    "start_time": "2022-03-16T19:04:25.958Z"
   },
   {
    "duration": 19,
    "start_time": "2022-03-16T19:04:25.965Z"
   },
   {
    "duration": 12,
    "start_time": "2022-03-16T19:04:25.986Z"
   },
   {
    "duration": 8,
    "start_time": "2022-03-16T19:04:26.000Z"
   },
   {
    "duration": 13620,
    "start_time": "2022-03-16T19:04:26.010Z"
   },
   {
    "duration": 5236,
    "start_time": "2022-03-16T19:04:39.632Z"
   },
   {
    "duration": 389,
    "start_time": "2022-03-16T19:09:32.343Z"
   },
   {
    "duration": 5,
    "start_time": "2022-03-16T19:09:37.979Z"
   },
   {
    "duration": 18,
    "start_time": "2022-03-16T19:09:50.874Z"
   },
   {
    "duration": 7,
    "start_time": "2022-03-16T19:10:14.964Z"
   },
   {
    "duration": 6,
    "start_time": "2022-03-16T19:10:38.555Z"
   },
   {
    "duration": 6,
    "start_time": "2022-03-16T19:10:44.910Z"
   },
   {
    "duration": 74,
    "start_time": "2022-03-16T19:15:00.728Z"
   },
   {
    "duration": 6,
    "start_time": "2022-03-16T19:15:10.078Z"
   },
   {
    "duration": 7761,
    "start_time": "2022-03-16T19:15:16.012Z"
   },
   {
    "duration": 241,
    "start_time": "2022-03-16T19:15:23.783Z"
   },
   {
    "duration": 42,
    "start_time": "2022-03-16T19:15:44.174Z"
   },
   {
    "duration": 10,
    "start_time": "2022-03-16T19:16:08.369Z"
   },
   {
    "duration": 8,
    "start_time": "2022-03-16T19:16:09.249Z"
   },
   {
    "duration": 24462,
    "start_time": "2022-03-16T19:16:12.115Z"
   },
   {
    "duration": 7,
    "start_time": "2022-03-16T19:16:36.580Z"
   },
   {
    "duration": 7,
    "start_time": "2022-03-16T19:19:20.564Z"
   },
   {
    "duration": 686,
    "start_time": "2022-03-16T19:19:23.230Z"
   },
   {
    "duration": 6,
    "start_time": "2022-03-16T19:19:38.160Z"
   },
   {
    "duration": 7791,
    "start_time": "2022-03-16T19:19:40.348Z"
   },
   {
    "duration": 6,
    "start_time": "2022-03-16T19:20:21.799Z"
   },
   {
    "duration": 694,
    "start_time": "2022-03-16T19:20:24.356Z"
   },
   {
    "duration": 6,
    "start_time": "2022-03-16T19:21:00.330Z"
   },
   {
    "duration": 14754,
    "start_time": "2022-03-16T19:21:03.277Z"
   },
   {
    "duration": 21,
    "start_time": "2022-03-16T19:31:27.532Z"
   },
   {
    "duration": 15,
    "start_time": "2022-03-16T19:33:21.953Z"
   },
   {
    "duration": 9,
    "start_time": "2022-03-16T19:34:13.978Z"
   },
   {
    "duration": 6,
    "start_time": "2022-03-16T19:35:51.188Z"
   },
   {
    "duration": 222,
    "start_time": "2022-03-16T19:36:11.501Z"
   },
   {
    "duration": 9,
    "start_time": "2022-03-16T19:36:39.490Z"
   },
   {
    "duration": 253,
    "start_time": "2022-03-16T19:36:41.827Z"
   },
   {
    "duration": 8,
    "start_time": "2022-03-16T19:36:57.990Z"
   },
   {
    "duration": 11,
    "start_time": "2022-03-16T19:37:57.019Z"
   },
   {
    "duration": 10,
    "start_time": "2022-03-16T19:38:11.815Z"
   },
   {
    "duration": 10,
    "start_time": "2022-03-16T19:39:13.683Z"
   },
   {
    "duration": 72,
    "start_time": "2022-03-16T19:43:48.942Z"
   },
   {
    "duration": 10,
    "start_time": "2022-03-16T19:43:52.879Z"
   },
   {
    "duration": 12,
    "start_time": "2022-03-16T19:50:44.432Z"
   },
   {
    "duration": 13,
    "start_time": "2022-03-16T19:50:53.637Z"
   },
   {
    "duration": 14,
    "start_time": "2022-03-16T19:51:25.304Z"
   },
   {
    "duration": 14,
    "start_time": "2022-03-16T19:51:50.319Z"
   },
   {
    "duration": 11,
    "start_time": "2022-03-16T19:52:00.244Z"
   },
   {
    "duration": 4,
    "start_time": "2022-03-16T19:53:33.073Z"
   },
   {
    "duration": 259,
    "start_time": "2022-03-16T19:53:46.072Z"
   },
   {
    "duration": 4,
    "start_time": "2022-03-16T19:53:55.519Z"
   },
   {
    "duration": 4,
    "start_time": "2022-03-16T19:54:14.636Z"
   },
   {
    "duration": 7,
    "start_time": "2022-03-16T19:54:24.782Z"
   },
   {
    "duration": 269,
    "start_time": "2022-03-16T19:55:09.179Z"
   },
   {
    "duration": 5,
    "start_time": "2022-03-16T19:55:17.511Z"
   },
   {
    "duration": 1404,
    "start_time": "2022-03-16T20:50:47.278Z"
   },
   {
    "duration": 57,
    "start_time": "2022-03-16T20:50:48.686Z"
   },
   {
    "duration": 6,
    "start_time": "2022-03-16T20:50:48.746Z"
   },
   {
    "duration": 27,
    "start_time": "2022-03-16T20:50:48.755Z"
   },
   {
    "duration": 8,
    "start_time": "2022-03-16T20:50:48.785Z"
   },
   {
    "duration": 7,
    "start_time": "2022-03-16T20:50:48.796Z"
   },
   {
    "duration": 8248,
    "start_time": "2022-03-16T20:50:48.805Z"
   },
   {
    "duration": 558,
    "start_time": "2022-03-16T20:50:57.057Z"
   },
   {
    "duration": 6,
    "start_time": "2022-03-16T20:50:57.618Z"
   },
   {
    "duration": 8,
    "start_time": "2022-03-16T20:50:57.627Z"
   },
   {
    "duration": 14,
    "start_time": "2022-03-16T20:50:57.638Z"
   },
   {
    "duration": 8,
    "start_time": "2022-03-16T20:50:57.683Z"
   },
   {
    "duration": 14878,
    "start_time": "2022-03-16T20:50:57.693Z"
   },
   {
    "duration": 14,
    "start_time": "2022-03-16T20:51:12.573Z"
   },
   {
    "duration": 12,
    "start_time": "2022-03-16T20:51:12.589Z"
   },
   {
    "duration": 181,
    "start_time": "2022-03-16T20:51:12.604Z"
   },
   {
    "duration": 1365,
    "start_time": "2022-03-16T20:55:38.008Z"
   },
   {
    "duration": 57,
    "start_time": "2022-03-16T20:55:39.376Z"
   },
   {
    "duration": 5,
    "start_time": "2022-03-16T20:55:39.436Z"
   },
   {
    "duration": 9,
    "start_time": "2022-03-16T20:55:39.443Z"
   },
   {
    "duration": 29,
    "start_time": "2022-03-16T20:55:39.454Z"
   },
   {
    "duration": 6,
    "start_time": "2022-03-16T20:55:39.486Z"
   },
   {
    "duration": 7221,
    "start_time": "2022-03-16T20:55:39.494Z"
   },
   {
    "duration": 522,
    "start_time": "2022-03-16T20:55:46.719Z"
   },
   {
    "duration": 5,
    "start_time": "2022-03-16T20:55:47.245Z"
   },
   {
    "duration": 31,
    "start_time": "2022-03-16T20:55:47.252Z"
   },
   {
    "duration": 15,
    "start_time": "2022-03-16T20:55:47.285Z"
   },
   {
    "duration": 8,
    "start_time": "2022-03-16T20:55:47.302Z"
   },
   {
    "duration": 7696,
    "start_time": "2022-03-16T20:55:47.312Z"
   },
   {
    "duration": 7,
    "start_time": "2022-03-16T20:55:55.011Z"
   },
   {
    "duration": 65,
    "start_time": "2022-03-16T20:55:55.020Z"
   },
   {
    "duration": 102,
    "start_time": "2022-03-16T20:55:55.088Z"
   },
   {
    "duration": 6,
    "start_time": "2022-03-16T21:03:01.653Z"
   },
   {
    "duration": 1932,
    "start_time": "2022-03-16T21:03:07.185Z"
   },
   {
    "duration": 7,
    "start_time": "2022-03-16T21:03:26.065Z"
   },
   {
    "duration": 49082,
    "start_time": "2022-03-16T21:03:31.098Z"
   },
   {
    "duration": 6,
    "start_time": "2022-03-16T21:04:37.626Z"
   },
   {
    "duration": 60843,
    "start_time": "2022-03-16T21:04:41.565Z"
   },
   {
    "duration": 7,
    "start_time": "2022-03-16T21:05:45.074Z"
   },
   {
    "duration": 6788,
    "start_time": "2022-03-16T21:05:48.252Z"
   },
   {
    "duration": 1418,
    "start_time": "2022-03-16T21:06:10.668Z"
   },
   {
    "duration": 61,
    "start_time": "2022-03-16T21:06:12.089Z"
   },
   {
    "duration": 5,
    "start_time": "2022-03-16T21:06:12.153Z"
   },
   {
    "duration": 22,
    "start_time": "2022-03-16T21:06:12.161Z"
   },
   {
    "duration": 23,
    "start_time": "2022-03-16T21:06:12.185Z"
   },
   {
    "duration": 8,
    "start_time": "2022-03-16T21:06:12.211Z"
   },
   {
    "duration": 7331,
    "start_time": "2022-03-16T21:06:12.222Z"
   },
   {
    "duration": 547,
    "start_time": "2022-03-16T21:06:19.557Z"
   },
   {
    "duration": 5,
    "start_time": "2022-03-16T21:06:20.107Z"
   },
   {
    "duration": 21,
    "start_time": "2022-03-16T21:06:20.114Z"
   },
   {
    "duration": 14,
    "start_time": "2022-03-16T21:06:20.138Z"
   },
   {
    "duration": 7,
    "start_time": "2022-03-16T21:06:20.154Z"
   },
   {
    "duration": 7561,
    "start_time": "2022-03-16T21:06:20.183Z"
   },
   {
    "duration": 5,
    "start_time": "2022-03-16T21:06:27.747Z"
   },
   {
    "duration": 27,
    "start_time": "2022-03-16T21:06:27.755Z"
   },
   {
    "duration": 204,
    "start_time": "2022-03-16T21:06:27.786Z"
   },
   {
    "duration": 2590,
    "start_time": "2022-03-17T19:09:08.753Z"
   },
   {
    "duration": 44,
    "start_time": "2022-03-17T19:09:11.345Z"
   },
   {
    "duration": 4,
    "start_time": "2022-03-17T19:09:12.432Z"
   },
   {
    "duration": 4,
    "start_time": "2022-03-17T19:09:12.773Z"
   },
   {
    "duration": 8,
    "start_time": "2022-03-17T19:09:13.116Z"
   },
   {
    "duration": 6,
    "start_time": "2022-03-17T19:09:13.477Z"
   },
   {
    "duration": 2643,
    "start_time": "2022-03-17T19:09:13.866Z"
   },
   {
    "duration": 59,
    "start_time": "2022-03-17T19:09:16.511Z"
   },
   {
    "duration": 4,
    "start_time": "2022-03-17T19:11:05.106Z"
   },
   {
    "duration": 5,
    "start_time": "2022-03-17T19:11:06.000Z"
   },
   {
    "duration": 5,
    "start_time": "2022-03-17T19:11:13.778Z"
   },
   {
    "duration": 5,
    "start_time": "2022-03-17T19:11:14.170Z"
   },
   {
    "duration": 3451,
    "start_time": "2022-03-17T19:11:15.072Z"
   },
   {
    "duration": 3,
    "start_time": "2022-03-17T19:11:18.526Z"
   },
   {
    "duration": 8,
    "start_time": "2022-03-17T19:11:20.002Z"
   },
   {
    "duration": 10,
    "start_time": "2022-03-17T19:11:20.419Z"
   }
  ],
  "kernelspec": {
   "display_name": "Python 3",
   "language": "python",
   "name": "python3"
  },
  "language_info": {
   "codemirror_mode": {
    "name": "ipython",
    "version": 3
   },
   "file_extension": ".py",
   "mimetype": "text/x-python",
   "name": "python",
   "nbconvert_exporter": "python",
   "pygments_lexer": "ipython3",
   "version": "3.9.2"
  },
  "toc": {
   "base_numbering": 1,
   "nav_menu": {},
   "number_sections": true,
   "sideBar": true,
   "skip_h1_title": true,
   "title_cell": "Содержание",
   "title_sidebar": "Contents",
   "toc_cell": true,
   "toc_position": {},
   "toc_section_display": true,
   "toc_window_display": true
  }
 },
 "nbformat": 4,
 "nbformat_minor": 2
}
