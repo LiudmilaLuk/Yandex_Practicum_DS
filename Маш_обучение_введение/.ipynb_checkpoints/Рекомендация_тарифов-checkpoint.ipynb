{
 "cells": [
  {
   "cell_type": "markdown",
   "metadata": {},
   "source": [
    "# Рекомендация тарифов"
   ]
  },
  {
   "cell_type": "markdown",
   "metadata": {},
   "source": [
    "В вашем распоряжении данные о поведении клиентов, которые уже перешли на эти тарифы (из проекта курса «Статистический анализ данных»). Нужно построить модель для задачи классификации, которая выберет подходящий тариф. Предобработка данных не понадобится — вы её уже сделали.\n",
    "\n",
    "Постройте модель с максимально большим значением *accuracy*. Чтобы сдать проект успешно, нужно довести долю правильных ответов по крайней мере до 0.75. Проверьте *accuracy* на тестовой выборке самостоятельно."
   ]
  },
  {
   "cell_type": "markdown",
   "metadata": {},
   "source": [
    "# Цель работы:\n",
    "построить модель  с максимально большим значением accuracy (больше 75% правильных ответов) для задачи классификации, которая выберет подходящий тариф в зависимости от активности пользователя."
   ]
  },
  {
   "cell_type": "markdown",
   "metadata": {
    "toc": true
   },
   "source": [
    "<h1>Содержание<span class=\"tocSkip\"></span></h1>\n",
    "<div class=\"toc\"><ul class=\"toc-item\"><li><ul class=\"toc-item\"><li><span><a href=\"#Общее-впечатление\" data-toc-modified-id=\"Общее-впечатление-0.1\"><span class=\"toc-item-num\">0.1&nbsp;&nbsp;</span><font color=\"orange\">Общее впечатление</font></a></span></li><li><span><a href=\"#Общее-впечатление-(ревью-2)\" data-toc-modified-id=\"Общее-впечатление-(ревью-2)-0.2\"><span class=\"toc-item-num\">0.2&nbsp;&nbsp;</span><font color=\"orange\">Общее впечатление (ревью 2)</font></a></span></li></ul></li><li><span><a href=\"#Откройте-и-изучите-файл\" data-toc-modified-id=\"Откройте-и-изучите-файл-1\"><span class=\"toc-item-num\">1&nbsp;&nbsp;</span>Откройте и изучите файл</a></span><ul class=\"toc-item\"><li><span><a href=\"#Вывод\" data-toc-modified-id=\"Вывод-1.1\"><span class=\"toc-item-num\">1.1&nbsp;&nbsp;</span>Вывод</a></span></li></ul></li><li><span><a href=\"#Разбейте-данные-на-выборки\" data-toc-modified-id=\"Разбейте-данные-на-выборки-2\"><span class=\"toc-item-num\">2&nbsp;&nbsp;</span>Разбейте данные на выборки</a></span></li><li><span><a href=\"#Исследуйте-модели\" data-toc-modified-id=\"Исследуйте-модели-3\"><span class=\"toc-item-num\">3&nbsp;&nbsp;</span>Исследуйте модели</a></span><ul class=\"toc-item\"><li><span><a href=\"#Метод-ближайших-соседей\" data-toc-modified-id=\"Метод-ближайших-соседей-3.1\"><span class=\"toc-item-num\">3.1&nbsp;&nbsp;</span>Метод ближайших соседей</a></span><ul class=\"toc-item\"><li><span><a href=\"#Вывод\" data-toc-modified-id=\"Вывод-3.1.1\"><span class=\"toc-item-num\">3.1.1&nbsp;&nbsp;</span>Вывод</a></span></li></ul></li><li><span><a href=\"#Дерево-решений\" data-toc-modified-id=\"Дерево-решений-3.2\"><span class=\"toc-item-num\">3.2&nbsp;&nbsp;</span>Дерево решений</a></span><ul class=\"toc-item\"><li><span><a href=\"#Вывод\" data-toc-modified-id=\"Вывод-3.2.1\"><span class=\"toc-item-num\">3.2.1&nbsp;&nbsp;</span>Вывод</a></span></li></ul></li><li><span><a href=\"#Случайный-лес\" data-toc-modified-id=\"Случайный-лес-3.3\"><span class=\"toc-item-num\">3.3&nbsp;&nbsp;</span>Случайный лес</a></span><ul class=\"toc-item\"><li><span><a href=\"#Вывод\" data-toc-modified-id=\"Вывод-3.3.1\"><span class=\"toc-item-num\">3.3.1&nbsp;&nbsp;</span>Вывод</a></span></li></ul></li><li><span><a href=\"#Логистическая-регрессия\" data-toc-modified-id=\"Логистическая-регрессия-3.4\"><span class=\"toc-item-num\">3.4&nbsp;&nbsp;</span>Логистическая регрессия</a></span></li><li><span><a href=\"#Заключение\" data-toc-modified-id=\"Заключение-3.5\"><span class=\"toc-item-num\">3.5&nbsp;&nbsp;</span>Заключение</a></span></li></ul></li><li><span><a href=\"#Проверьте-модель-на-тестовой-выборке\" data-toc-modified-id=\"Проверьте-модель-на-тестовой-выборке-4\"><span class=\"toc-item-num\">4&nbsp;&nbsp;</span>Проверьте модель на тестовой выборке</a></span></li><li><span><a href=\"#(бонус)-Проверьте-модели-на-адекватность\" data-toc-modified-id=\"(бонус)-Проверьте-модели-на-адекватность-5\"><span class=\"toc-item-num\">5&nbsp;&nbsp;</span>(бонус) Проверьте модели на адекватность</a></span><ul class=\"toc-item\"><li><ul class=\"toc-item\"><li><span><a href=\"#Вывод\" data-toc-modified-id=\"Вывод-5.0.1\"><span class=\"toc-item-num\">5.0.1&nbsp;&nbsp;</span>Вывод</a></span></li></ul></li></ul></li><li><span><a href=\"#Заключение\" data-toc-modified-id=\"Заключение-6\"><span class=\"toc-item-num\">6&nbsp;&nbsp;</span>Заключение</a></span></li><li><span><a href=\"#Чек-лист-готовности-проекта\" data-toc-modified-id=\"Чек-лист-готовности-проекта-7\"><span class=\"toc-item-num\">7&nbsp;&nbsp;</span>Чек-лист готовности проекта</a></span></li></ul></div>"
   ]
  },
  {
   "cell_type": "markdown",
   "metadata": {},
   "source": [
    "## Откройте и изучите файл"
   ]
  },
  {
   "cell_type": "markdown",
   "metadata": {},
   "source": [
    "Проверим версию seaborn'a и обновим до последней, если требуется:"
   ]
  },
  {
   "cell_type": "code",
   "execution_count": 1,
   "metadata": {},
   "outputs": [],
   "source": [
    "import seaborn as sns\n",
    "if sns.__version__ != '0.11.2':\n",
    "    !pip install seaborn --upgrade\n",
    "    %reset -f"
   ]
  },
  {
   "cell_type": "markdown",
   "metadata": {},
   "source": [
    "Теперь загрузим библиотеки:"
   ]
  },
  {
   "cell_type": "code",
   "execution_count": 2,
   "metadata": {},
   "outputs": [],
   "source": [
    "import pandas as pd\n",
    "import matplotlib.pyplot as plt\n",
    "import numpy as np\n",
    "# и инструменты для постороения разных моделей:\n",
    "from sklearn.neighbors import KNeighborsClassifier\n",
    "from sklearn.tree import DecisionTreeClassifier\n",
    "from sklearn.ensemble import RandomForestClassifier\n",
    "from sklearn.linear_model import LogisticRegression\n",
    "from sklearn.dummy import DummyClassifier\n",
    "\n",
    "from sklearn.model_selection import RandomizedSearchCV\n",
    "from sklearn.model_selection import GridSearchCV\n",
    "from sklearn.model_selection import train_test_split\n",
    "from sklearn.metrics import accuracy_score\n",
    "from sklearn.metrics import precision_score\n",
    "from sklearn.metrics import confusion_matrix\n",
    "from sklearn.metrics import classification_report"
   ]
  },
  {
   "cell_type": "markdown",
   "metadata": {},
   "source": [
    "Теперь откроем файл и посмотрим, что у него внутри:"
   ]
  },
  {
   "cell_type": "code",
   "execution_count": 3,
   "metadata": {},
   "outputs": [
    {
     "data": {
      "text/html": [
       "<div>\n",
       "<style scoped>\n",
       "    .dataframe tbody tr th:only-of-type {\n",
       "        vertical-align: middle;\n",
       "    }\n",
       "\n",
       "    .dataframe tbody tr th {\n",
       "        vertical-align: top;\n",
       "    }\n",
       "\n",
       "    .dataframe thead th {\n",
       "        text-align: right;\n",
       "    }\n",
       "</style>\n",
       "<table border=\"1\" class=\"dataframe\">\n",
       "  <thead>\n",
       "    <tr style=\"text-align: right;\">\n",
       "      <th></th>\n",
       "      <th>calls</th>\n",
       "      <th>minutes</th>\n",
       "      <th>messages</th>\n",
       "      <th>mb_used</th>\n",
       "      <th>is_ultra</th>\n",
       "    </tr>\n",
       "  </thead>\n",
       "  <tbody>\n",
       "    <tr>\n",
       "      <th>0</th>\n",
       "      <td>40.0</td>\n",
       "      <td>311.90</td>\n",
       "      <td>83.0</td>\n",
       "      <td>19915.42</td>\n",
       "      <td>0</td>\n",
       "    </tr>\n",
       "    <tr>\n",
       "      <th>1</th>\n",
       "      <td>85.0</td>\n",
       "      <td>516.75</td>\n",
       "      <td>56.0</td>\n",
       "      <td>22696.96</td>\n",
       "      <td>0</td>\n",
       "    </tr>\n",
       "    <tr>\n",
       "      <th>2</th>\n",
       "      <td>77.0</td>\n",
       "      <td>467.66</td>\n",
       "      <td>86.0</td>\n",
       "      <td>21060.45</td>\n",
       "      <td>0</td>\n",
       "    </tr>\n",
       "    <tr>\n",
       "      <th>3</th>\n",
       "      <td>106.0</td>\n",
       "      <td>745.53</td>\n",
       "      <td>81.0</td>\n",
       "      <td>8437.39</td>\n",
       "      <td>1</td>\n",
       "    </tr>\n",
       "    <tr>\n",
       "      <th>4</th>\n",
       "      <td>66.0</td>\n",
       "      <td>418.74</td>\n",
       "      <td>1.0</td>\n",
       "      <td>14502.75</td>\n",
       "      <td>0</td>\n",
       "    </tr>\n",
       "    <tr>\n",
       "      <th>5</th>\n",
       "      <td>58.0</td>\n",
       "      <td>344.56</td>\n",
       "      <td>21.0</td>\n",
       "      <td>15823.37</td>\n",
       "      <td>0</td>\n",
       "    </tr>\n",
       "    <tr>\n",
       "      <th>6</th>\n",
       "      <td>57.0</td>\n",
       "      <td>431.64</td>\n",
       "      <td>20.0</td>\n",
       "      <td>3738.90</td>\n",
       "      <td>1</td>\n",
       "    </tr>\n",
       "    <tr>\n",
       "      <th>7</th>\n",
       "      <td>15.0</td>\n",
       "      <td>132.40</td>\n",
       "      <td>6.0</td>\n",
       "      <td>21911.60</td>\n",
       "      <td>0</td>\n",
       "    </tr>\n",
       "    <tr>\n",
       "      <th>8</th>\n",
       "      <td>7.0</td>\n",
       "      <td>43.39</td>\n",
       "      <td>3.0</td>\n",
       "      <td>2538.67</td>\n",
       "      <td>1</td>\n",
       "    </tr>\n",
       "    <tr>\n",
       "      <th>9</th>\n",
       "      <td>90.0</td>\n",
       "      <td>665.41</td>\n",
       "      <td>38.0</td>\n",
       "      <td>17358.61</td>\n",
       "      <td>0</td>\n",
       "    </tr>\n",
       "  </tbody>\n",
       "</table>\n",
       "</div>"
      ],
      "text/plain": [
       "   calls  minutes  messages   mb_used  is_ultra\n",
       "0   40.0   311.90      83.0  19915.42         0\n",
       "1   85.0   516.75      56.0  22696.96         0\n",
       "2   77.0   467.66      86.0  21060.45         0\n",
       "3  106.0   745.53      81.0   8437.39         1\n",
       "4   66.0   418.74       1.0  14502.75         0\n",
       "5   58.0   344.56      21.0  15823.37         0\n",
       "6   57.0   431.64      20.0   3738.90         1\n",
       "7   15.0   132.40       6.0  21911.60         0\n",
       "8    7.0    43.39       3.0   2538.67         1\n",
       "9   90.0   665.41      38.0  17358.61         0"
      ]
     },
     "metadata": {},
     "output_type": "display_data"
    },
    {
     "name": "stdout",
     "output_type": "stream",
     "text": [
      "<class 'pandas.core.frame.DataFrame'>\n",
      "RangeIndex: 3214 entries, 0 to 3213\n",
      "Data columns (total 5 columns):\n",
      " #   Column    Non-Null Count  Dtype  \n",
      "---  ------    --------------  -----  \n",
      " 0   calls     3214 non-null   float64\n",
      " 1   minutes   3214 non-null   float64\n",
      " 2   messages  3214 non-null   float64\n",
      " 3   mb_used   3214 non-null   float64\n",
      " 4   is_ultra  3214 non-null   int64  \n",
      "dtypes: float64(4), int64(1)\n",
      "memory usage: 125.7 KB\n"
     ]
    },
    {
     "data": {
      "text/html": [
       "<div>\n",
       "<style scoped>\n",
       "    .dataframe tbody tr th:only-of-type {\n",
       "        vertical-align: middle;\n",
       "    }\n",
       "\n",
       "    .dataframe tbody tr th {\n",
       "        vertical-align: top;\n",
       "    }\n",
       "\n",
       "    .dataframe thead th {\n",
       "        text-align: right;\n",
       "    }\n",
       "</style>\n",
       "<table border=\"1\" class=\"dataframe\">\n",
       "  <thead>\n",
       "    <tr style=\"text-align: right;\">\n",
       "      <th></th>\n",
       "      <th>calls</th>\n",
       "      <th>minutes</th>\n",
       "      <th>messages</th>\n",
       "      <th>mb_used</th>\n",
       "      <th>is_ultra</th>\n",
       "    </tr>\n",
       "  </thead>\n",
       "  <tbody>\n",
       "    <tr>\n",
       "      <th>count</th>\n",
       "      <td>3214.000000</td>\n",
       "      <td>3214.000000</td>\n",
       "      <td>3214.000000</td>\n",
       "      <td>3214.000000</td>\n",
       "      <td>3214.000000</td>\n",
       "    </tr>\n",
       "    <tr>\n",
       "      <th>mean</th>\n",
       "      <td>63.038892</td>\n",
       "      <td>438.208787</td>\n",
       "      <td>38.281269</td>\n",
       "      <td>17207.673836</td>\n",
       "      <td>0.306472</td>\n",
       "    </tr>\n",
       "    <tr>\n",
       "      <th>std</th>\n",
       "      <td>33.236368</td>\n",
       "      <td>234.569872</td>\n",
       "      <td>36.148326</td>\n",
       "      <td>7570.968246</td>\n",
       "      <td>0.461100</td>\n",
       "    </tr>\n",
       "    <tr>\n",
       "      <th>min</th>\n",
       "      <td>0.000000</td>\n",
       "      <td>0.000000</td>\n",
       "      <td>0.000000</td>\n",
       "      <td>0.000000</td>\n",
       "      <td>0.000000</td>\n",
       "    </tr>\n",
       "    <tr>\n",
       "      <th>25%</th>\n",
       "      <td>40.000000</td>\n",
       "      <td>274.575000</td>\n",
       "      <td>9.000000</td>\n",
       "      <td>12491.902500</td>\n",
       "      <td>0.000000</td>\n",
       "    </tr>\n",
       "    <tr>\n",
       "      <th>50%</th>\n",
       "      <td>62.000000</td>\n",
       "      <td>430.600000</td>\n",
       "      <td>30.000000</td>\n",
       "      <td>16943.235000</td>\n",
       "      <td>0.000000</td>\n",
       "    </tr>\n",
       "    <tr>\n",
       "      <th>75%</th>\n",
       "      <td>82.000000</td>\n",
       "      <td>571.927500</td>\n",
       "      <td>57.000000</td>\n",
       "      <td>21424.700000</td>\n",
       "      <td>1.000000</td>\n",
       "    </tr>\n",
       "    <tr>\n",
       "      <th>max</th>\n",
       "      <td>244.000000</td>\n",
       "      <td>1632.060000</td>\n",
       "      <td>224.000000</td>\n",
       "      <td>49745.730000</td>\n",
       "      <td>1.000000</td>\n",
       "    </tr>\n",
       "  </tbody>\n",
       "</table>\n",
       "</div>"
      ],
      "text/plain": [
       "             calls      minutes     messages       mb_used     is_ultra\n",
       "count  3214.000000  3214.000000  3214.000000   3214.000000  3214.000000\n",
       "mean     63.038892   438.208787    38.281269  17207.673836     0.306472\n",
       "std      33.236368   234.569872    36.148326   7570.968246     0.461100\n",
       "min       0.000000     0.000000     0.000000      0.000000     0.000000\n",
       "25%      40.000000   274.575000     9.000000  12491.902500     0.000000\n",
       "50%      62.000000   430.600000    30.000000  16943.235000     0.000000\n",
       "75%      82.000000   571.927500    57.000000  21424.700000     1.000000\n",
       "max     244.000000  1632.060000   224.000000  49745.730000     1.000000"
      ]
     },
     "execution_count": 3,
     "metadata": {},
     "output_type": "execute_result"
    }
   ],
   "source": [
    "data = pd.read_csv('/datasets/users_behavior.csv') # версия для сервера\n",
    "\n",
    "display(data.head(10))\n",
    "data.info()\n",
    "data.describe()"
   ]
  },
  {
   "cell_type": "markdown",
   "metadata": {},
   "source": [
    "Пропусков в таблице нет, заменим тип переменных в столбцах с количеством звонков и смс на целочисленный. Для моделей целевым признаком будет столбец is_ultra.\n",
    "\n",
    "Посмотрим, как рапределяются активности пользователей:"
   ]
  },
  {
   "cell_type": "code",
   "execution_count": 4,
   "metadata": {},
   "outputs": [
    {
     "data": {
      "image/png": "[encoded data removed]",
      "text/plain": [
       "<Figure size 720x432 with 1 Axes>"
      ]
     },
     "metadata": {
      "needs_background": "light"
     },
     "output_type": "display_data"
    }
   ],
   "source": [
    "data[['calls', 'messages']] = data[['calls', 'messages']].astype(int)\n",
    "\n",
    "plt.figure(figsize=(10, 6))\n",
    "s = sns.histplot(data=data, x = 'calls', bins=25, color='seagreen')\n",
    "plt.grid()\n",
    "plt.title('Распределение количества звонков', fontsize=16)\n",
    "plt.xlabel('Количество звонков', fontsize=16);\n",
    "plt.ylabel('Количество пользователей', fontsize=16)\n",
    "plt.show()"
   ]
  },
  {
   "cell_type": "markdown",
   "metadata": {},
   "source": [
    "В выборке есть пользователи, которые часто совершают звонки, но есть и те, кто совсем не пользуется звонками."
   ]
  },
  {
   "cell_type": "code",
   "execution_count": 5,
   "metadata": {},
   "outputs": [
    {
     "name": "stdout",
     "output_type": "stream",
     "text": [
      "Количество пользователей, которые не пользуются звонками: 40\n",
      "Количество пользователей тарифа Смарт: 2229\n",
      "Количество пользователей тарифа Ультра: 985\n"
     ]
    },
    {
     "data": {
      "image/png": "[encoded data removed]",
      "text/plain": [
       "<Figure size 288x360 with 1 Axes>"
      ]
     },
     "metadata": {
      "needs_background": "light"
     },
     "output_type": "display_data"
    }
   ],
   "source": [
    "print('Количество пользователей, которые не пользуются звонками:', data.query('calls == 0')['calls'].count())\n",
    "smart_people = data.query('is_ultra == 0')['calls'].count()\n",
    "ultra_people = data.query('is_ultra == 1')['calls'].count()\n",
    "print('Количество пользователей тарифа Смарт:', smart_people)\n",
    "print('Количество пользователей тарифа Ультра:', ultra_people)\n",
    "s = sns.catplot(data=data.query('calls == 0'), x='is_ultra', hue='is_ultra', kind='count', \n",
    "                height=5, aspect=0.8, palette=['palegreen', 'seagreen'], dodge=False)\n",
    "s.set_xticklabels(['Смарт', 'Ультра'], fontsize=16)\n",
    "plt.grid()\n",
    "plt.title('Любимый тариф тех, кто не звонит', fontsize=16)\n",
    "plt.xlabel('')\n",
    "plt.ylabel('Количество пользователей', fontsize=16)\n",
    "plt.show()"
   ]
  },
  {
   "cell_type": "markdown",
   "metadata": {},
   "source": [
    "Всего 0.3% от общего числа пользователей тарифа \"Смарт\" не пользуются функцией звонков, а среди пользователей тарифа \"Ультра\" число таких пользователей составляет уже 3%."
   ]
  },
  {
   "cell_type": "code",
   "execution_count": 6,
   "metadata": {},
   "outputs": [
    {
     "data": {
      "image/png": "[encoded data removed]",
      "text/plain": [
       "<Figure size 1440x432 with 1 Axes>"
      ]
     },
     "metadata": {
      "needs_background": "light"
     },
     "output_type": "display_data"
    }
   ],
   "source": [
    "plt.figure(figsize=(20, 6))\n",
    "s = sns.histplot(data=data, x = 'minutes', bins=50, color='seagreen')\n",
    "plt.grid()\n",
    "plt.title('Распределение суммарной длительности звонков', fontsize=16)\n",
    "plt.xlabel('Длительность звонков, мин.', fontsize=16);\n",
    "plt.ylabel('Число пользователей', fontsize=16)\n",
    "plt.show()"
   ]
  },
  {
   "cell_type": "code",
   "execution_count": 7,
   "metadata": {},
   "outputs": [
    {
     "data": {
      "image/png": "[encoded data removed]",
      "text/plain": [
       "<Figure size 432x576 with 1 Axes>"
      ]
     },
     "metadata": {
      "needs_background": "light"
     },
     "output_type": "display_data"
    }
   ],
   "source": [
    "fig, ax = plt.subplots(figsize=(6, 8))\n",
    "s = sns.boxplot(ax=ax, data=data, x='is_ultra', y='minutes', hue='is_ultra',\n",
    "                palette=['palegreen', 'seagreen'], dodge=False)\n",
    "s.set_xticklabels(['Смарт', 'Ультра'], fontsize=16)\n",
    "s.legend_.remove()\n",
    "plt.grid()\n",
    "plt.title('Количество расходуемых минут в зависимости от тарифа', fontsize=16)\n",
    "plt.xlabel('', fontsize=16)\n",
    "plt.ylabel('Количество израсходованных минут', fontsize=16)\n",
    "plt.show()"
   ]
  },
  {
   "cell_type": "code",
   "execution_count": 8,
   "metadata": {},
   "outputs": [
    {
     "name": "stdout",
     "output_type": "stream",
     "text": [
      "Число звонков для тарифа \"Смарт\": 130315\n",
      "Число звонков для тарифа \"Ультра\": 72292\n"
     ]
    }
   ],
   "source": [
    "print('Число звонков для тарифа \"Смарт\":', data.query('is_ultra==0 and calls>0')['calls'].sum())\n",
    "print('Число звонков для тарифа \"Ультра\":', data.query('is_ultra==1 and calls>0')['calls'].sum())"
   ]
  },
  {
   "cell_type": "markdown",
   "metadata": {},
   "source": [
    "В среднем пользователи тарифа \"Ультра\" тратят на 90 минут больше. При этом пользователи тарифа \"Смарт\" в среднем используют 80% предоплаченного пакета минут, а пользователи тарифа \"Ультра\" -- только около 16%."
   ]
  },
  {
   "cell_type": "code",
   "execution_count": 9,
   "metadata": {},
   "outputs": [
    {
     "data": {
      "image/png": "[encoded data removed]",
      "text/plain": [
       "<Figure size 1440x432 with 1 Axes>"
      ]
     },
     "metadata": {
      "needs_background": "light"
     },
     "output_type": "display_data"
    },
    {
     "name": "stdout",
     "output_type": "stream",
     "text": [
      "Количество пользователей, которые не пользуются сообщениями: 497\n",
      "Доля пользователей тарифа \"Смарт\", которые не пользуются смс-ками:13.8%\n",
      "Доля пользователей тарифа \"Ультра\", которые не пользуются смс-ками:19.3%\n"
     ]
    }
   ],
   "source": [
    "plt.figure(figsize=(20, 6))\n",
    "s = sns.histplot(data=data, x = 'messages', bins=50, color='seagreen')\n",
    "plt.grid()\n",
    "plt.title('Распределение суммарного количества сообщений', fontsize=16)\n",
    "plt.xlabel('Количество сообщений отправленных пользователем', fontsize=16);\n",
    "plt.ylabel('Число пользователей', fontsize=16)\n",
    "plt.show()\n",
    "\n",
    "print('Количество пользователей, которые не пользуются сообщениями:', data.query('messages == 0')['calls'].count())\n",
    "print('Доля пользователей тарифа \"Смарт\", которые не пользуются смс-ками:{:.1%}'.format(\n",
    "data.query('messages == 0 and is_ultra == 0')['calls'].count()/smart_people))\n",
    "print('Доля пользователей тарифа \"Ультра\", которые не пользуются смс-ками:{:.1%}'.format(\n",
    "data.query('messages == 0 and is_ultra == 1')['calls'].count()/ultra_people))"
   ]
  },
  {
   "cell_type": "code",
   "execution_count": 10,
   "metadata": {},
   "outputs": [
    {
     "data": {
      "image/png": "[encoded data removed]",
      "text/plain": [
       "<Figure size 432x576 with 1 Axes>"
      ]
     },
     "metadata": {
      "needs_background": "light"
     },
     "output_type": "display_data"
    }
   ],
   "source": [
    "fig, ax = plt.subplots(figsize=(6, 8))\n",
    "s = sns.boxplot(ax=ax, data=data, x='is_ultra', y='messages', hue='is_ultra', \n",
    "                palette=['palegreen', 'seagreen'], dodge=False)\n",
    "s.set_xticklabels(['Смарт', 'Ультра'], fontsize=16)\n",
    "s.legend_.remove()\n",
    "plt.title('Число отправляемых смс в зависимости от тарифа', fontsize=16)\n",
    "plt.xlabel('', fontsize=16)\n",
    "plt.ylabel('Число отправленных смс', fontsize=16)\n",
    "plt.grid()\n",
    "plt.show()"
   ]
  },
  {
   "cell_type": "code",
   "execution_count": 11,
   "metadata": {},
   "outputs": [
    {
     "name": "stdout",
     "output_type": "stream",
     "text": [
      "Число отправленных сообщений для тарифа \"Смарт\": 74413\n",
      "Число отправленных сообщений для тарифа \"Ультра\": 48623\n"
     ]
    }
   ],
   "source": [
    "print('Число отправленных сообщений для тарифа \"Смарт\":', data.query('is_ultra==0 and messages>0')['messages'].sum())\n",
    "print('Число отправленных сообщений для тарифа \"Ультра\":', data.query('is_ultra==1 and messages>0')['messages'].sum())"
   ]
  },
  {
   "cell_type": "markdown",
   "metadata": {},
   "source": [
    "В среднем пользователи тарифа \"Ультра\" отправляют на 10 сообщений больше и при этом выбирают меньше 5% предлопаченного пакета смс; пользователи тарифа \"Смарт\" в то же время выбирают почти 70% предоплаченного пакета."
   ]
  },
  {
   "cell_type": "code",
   "execution_count": 12,
   "metadata": {},
   "outputs": [
    {
     "data": {
      "image/png": "[encoded data removed]",
      "text/plain": [
       "<Figure size 1440x432 with 1 Axes>"
      ]
     },
     "metadata": {
      "needs_background": "light"
     },
     "output_type": "display_data"
    }
   ],
   "source": [
    "plt.figure(figsize=(20, 6))\n",
    "s = sns.histplot(data=data, x = 'mb_used', bins=50, color='seagreen')\n",
    "plt.grid()\n",
    "plt.title('Распределение суммарного трафика', fontsize=16)\n",
    "plt.xlabel('Трафик использованный пользователем, МБайт', fontsize=16);\n",
    "plt.ylabel('Число пользователей', fontsize=16)\n",
    "plt.show()"
   ]
  },
  {
   "cell_type": "code",
   "execution_count": 13,
   "metadata": {},
   "outputs": [
    {
     "data": {
      "image/png": "[encoded data removed]",
      "text/plain": [
       "<Figure size 432x576 with 1 Axes>"
      ]
     },
     "metadata": {
      "needs_background": "light"
     },
     "output_type": "display_data"
    }
   ],
   "source": [
    "fig, ax = plt.subplots(figsize=(6, 8))\n",
    "s = sns.boxplot(ax=ax, data=data, x='is_ultra', y='mb_used', hue='is_ultra',\n",
    "               palette=['palegreen', 'seagreen'], dodge=False)\n",
    "s.set_xticklabels(['Смарт', 'Ультра'], fontsize=16)\n",
    "s.legend_.remove()\n",
    "plt.grid()\n",
    "plt.title('Среднее значение интернет-трафика для различных тарифов', fontsize=16)\n",
    "plt.xlabel('')\n",
    "plt.ylabel('Количество пользователей', fontsize=16)\n",
    "plt.show()"
   ]
  },
  {
   "cell_type": "markdown",
   "metadata": {},
   "source": [
    "Пользователи тарифа \"Ультра\" в среднем используют интернет-трафика на 4 Гб больше чем пользователи тарифа \"Смарт\"."
   ]
  },
  {
   "cell_type": "markdown",
   "metadata": {},
   "source": [
    "### Вывод\n",
    "Исходная выборка содержит информацию об активности 3214 пользователей двух тарифных планов. Пропусков в данных нет. При предобработке мы только изменили тип данных в колонках с количеством звонков и смс на целочисленный.\n",
    "\n",
    "Пользователей тарифа \"Смарт\" больше, и они в срденем на 70-80% исчерпывают предоплаченный пакет минут и смс, и на 100% -- пакет инетрнета. Пользователи тарифа \"Ультра\" активнее пользуются звонками и интернетом, но при этом выбирают лишь около 16% предоплаченных минут, 63% предоплаченного трафика и всего 5% -- предоплаченных сообщений."
   ]
  },
  {
   "cell_type": "markdown",
   "metadata": {},
   "source": [
    "## Разбейте данные на выборки"
   ]
  },
  {
   "cell_type": "markdown",
   "metadata": {},
   "source": [
    "Разобьем исходные данные на три части в соотношении 3:1:1. Для этого сначала разобьем исходный датасет на обучающую и валидационную выборки, а потом разделим пополам валидационную выборку."
   ]
  },
  {
   "cell_type": "code",
   "execution_count": 14,
   "metadata": {},
   "outputs": [],
   "source": [
    "data_train, data_valid = train_test_split(data, test_size=0.4, random_state=299792458)\n",
    "data_valid, data_test = train_test_split(data_valid, test_size=0.5, random_state=299792458)"
   ]
  },
  {
   "cell_type": "markdown",
   "metadata": {},
   "source": [
    "Посмотрим на распределение данных в выборках: не появилось ли каких-нибудь артефактов."
   ]
  },
  {
   "cell_type": "code",
   "execution_count": 15,
   "metadata": {},
   "outputs": [
    {
     "data": {
      "image/png": "[encoded data removed]",
      "text/plain": [
       "<Figure size 1440x1440 with 12 Axes>"
      ]
     },
     "metadata": {
      "needs_background": "light"
     },
     "output_type": "display_data"
    }
   ],
   "source": [
    "names = ['Число звонков', 'Количество минут', 'Число сообщений', 'Использовано Мб']\n",
    "names_i = 0\n",
    "f, axes = plt.subplots(4, 3, figsize=(20, 20), sharex=False)\n",
    "features = ['calls', 'minutes', 'messages', 'mb_used']\n",
    "for i in range(0,4):\n",
    "    train = sns.histplot(data=data_train, x=features[i], ax=axes[i,0], color='seagreen')\n",
    "    valid = sns.histplot(data=data_valid, x=features[i], ax=axes[i,1], color='palegreen')\n",
    "    test = sns.histplot(data=data_test, x=features[i], ax=axes[i, 2], color='springgreen')\n",
    "    for j in range(0,3):\n",
    "        axes[i,j].set(xlabel=names[names_i], ylabel='')\n",
    "\n",
    "\n",
    "    train.grid()\n",
    "    valid.grid()\n",
    "    test.grid()\n",
    "    train.title.set_text('Обучающая выборка')\n",
    "    valid.title.set_text('Проверочная выборка')\n",
    "    test.title.set_text('Тестовая выборка')\n",
    "    names_i+=1"
   ]
  },
  {
   "cell_type": "markdown",
   "metadata": {},
   "source": [
    "Формы распределений схожи, можно двигаться дальше.\n",
    "\n",
    "Нашим целевым признаком является значение столбца is_ultra для каждого объекта, остальные отнесем к features:"
   ]
  },
  {
   "cell_type": "code",
   "execution_count": 16,
   "metadata": {},
   "outputs": [],
   "source": [
    "features_train = data_train.drop('is_ultra', axis=1)                \n",
    "features_valid = data_valid.drop('is_ultra', axis=1)         \n",
    "features_test = data_test.drop('is_ultra', axis=1) \n",
    "\n",
    "target_train = data_train['is_ultra']\n",
    "target_valid = data_valid['is_ultra']\n",
    "target_test = data_test['is_ultra']"
   ]
  },
  {
   "cell_type": "markdown",
   "metadata": {},
   "source": [
    "## Исследуйте модели"
   ]
  },
  {
   "cell_type": "markdown",
   "metadata": {},
   "source": [
    "Нам нужна модель, которая анализировала бы поведение клиентов и предлагала бы им на выбор один из тарифных планов. Таким образом наша задача -- задача классификации. Построим несколько моделей и выберем ту, чье значение метрики accuracy будет максимальным.\n",
    "\n",
    "В основе каждой модели будет лежать один из четырех методов классификации:\n",
    "1. метод ближайших соседей;\n",
    "2. дерево решений;\n",
    "3. метод случайного леса;\n",
    "4. метод логистической регрессии;\n",
    "\n",
    "Подбирать значения гиперпаратмеров будем с помощью методов RandomizedSearchCV и GridSearchCV библиотеки scikit-learn. Диапазоны поиска параметров определим по зависимости accuracy для каждого из параметров."
   ]
  },
  {
   "cell_type": "markdown",
   "metadata": {},
   "source": [
    "### Метод ближайших соседей"
   ]
  },
  {
   "cell_type": "markdown",
   "metadata": {},
   "source": [
    "Построим зависимость accuracy для этого метода от следующих параметров:\n",
    "1. число соседей;\n",
    "2. метрика расстояния;"
   ]
  },
  {
   "cell_type": "code",
   "execution_count": 17,
   "metadata": {},
   "outputs": [
    {
     "data": {
      "image/png": "[encoded data removed]",
      "text/plain": [
       "<Figure size 720x720 with 1 Axes>"
      ]
     },
     "metadata": {
      "needs_background": "light"
     },
     "output_type": "display_data"
    },
    {
     "data": {
      "image/png": "[encoded data removed]",
      "text/plain": [
       "<Figure size 720x720 with 1 Axes>"
      ]
     },
     "metadata": {
      "needs_background": "light"
     },
     "output_type": "display_data"
    }
   ],
   "source": [
    "param_knn = range(1,100)\n",
    "accuracy_knn = []\n",
    "\n",
    "for n_neigh in param_knn:\n",
    "    knn = KNeighborsClassifier(n_neighbors=n_neigh)\n",
    "    knn.fit(features_train, target_train)\n",
    "    accuracy_knn.append(accuracy_score(target_valid, knn.predict(features_valid)))\n",
    "    \n",
    "f, axes = plt.subplots(1, figsize=(10, 10))\n",
    "s = sns.lineplot(x=param_knn, y=accuracy_knn, linewidth = 7, color='seagreen')\n",
    "s.set_title('Выбор оптимального диапазона для подбора числа соседей', fontsize=16)\n",
    "s.set_xlabel('Число \"соседей\" в кластере', fontsize=16)\n",
    "s.set_ylabel('Доля правильных ответов', fontsize=16)\n",
    "s.grid()\n",
    "plt.show()\n",
    "\n",
    "metrics = ['euclidean', 'manhattan', 'minkowski']\n",
    "accuracy_metrics = []\n",
    "\n",
    "for name in metrics:\n",
    "    knn = KNeighborsClassifier(n_neighbors=6, metric=name) \n",
    "    knn.fit(features_train, target_train)\n",
    "    accuracy_metrics.append(accuracy_score(target_valid, knn.predict(features_valid)))\n",
    "    \n",
    "f, axes = plt.subplots(1, figsize=(10, 10))\n",
    "s = sns.pointplot(x=metrics, y=accuracy_metrics, color='seagreen')\n",
    "s.set_title('Выбор наилучшей метрики расстояния (число соседей = 6)', fontsize=16)\n",
    "s.set_xlabel('Метрика расстояния', fontsize=16)\n",
    "s.set_ylabel(ylabel='Доля правильных ответов', fontsize=16)\n",
    "s.grid()\n",
    "plt.show()"
   ]
  },
  {
   "cell_type": "markdown",
   "metadata": {},
   "source": [
    "От метрики accuracy зависит не очень сильно, а для окрестности n_neighbors = 2 значение accuracy максимально, а после 10 начинает убывать. Таким образом зададим диапазон числа соседей от 1 до 15 и подберем подоходящие метрику расстояния и алгоритм поиска с помощью методов поиска по сетке и случайного поиска."
   ]
  },
  {
   "cell_type": "code",
   "execution_count": 18,
   "metadata": {},
   "outputs": [
    {
     "name": "stdout",
     "output_type": "stream",
     "text": [
      "Параметры определенные поиском по сетке: 0.7728066751900948 {'algorithm': 'ball_tree', 'metric': 'manhattan', 'n_neighbors': 9}\n",
      "Параметры определенные случайным поиском: 0.769174348967095 {'n_neighbors': 6, 'metric': 'manhattan', 'algorithm': 'brute'}\n"
     ]
    }
   ],
   "source": [
    "neigh_params = {'n_neighbors': range(1, 15),\n",
    "               'metric' : ['manhattan', 'minkowski'],\n",
    "               'algorithm': ['ball_tree', 'kd_tree', 'brute']}\n",
    "\n",
    "neigh_grid = GridSearchCV(KNeighborsClassifier(), neigh_params, cv=5, n_jobs=3)\n",
    "neigh_rand = RandomizedSearchCV(KNeighborsClassifier(), neigh_params, cv=5, n_jobs=3, random_state = 299792458)\n",
    "\n",
    "result_grid = neigh_grid.fit(features_train, target_train)\n",
    "result_rand = neigh_rand.fit(features_train, target_train)\n",
    "\n",
    "print('Параметры определенные поиском по сетке:',result_grid.best_score_, result_grid.best_params_)\n",
    "print('Параметры определенные случайным поиском:',result_rand.best_score_, result_rand.best_params_)"
   ]
  },
  {
   "cell_type": "code",
   "execution_count": 19,
   "metadata": {},
   "outputs": [
    {
     "name": "stdout",
     "output_type": "stream",
     "text": [
      "accuracy и precision для параметров подобранных поиском на сетке: 76.5%, 73.3%\n",
      "accuracy и precision для параметров подобранных случайным поиском: 77.4%, 79.3%\n"
     ]
    }
   ],
   "source": [
    "model_knn = KNeighborsClassifier(n_neighbors=9, algorithm='ball_tree', metric='manhattan')\n",
    "model_knn.fit(features_train, target_train)\n",
    "\n",
    "prd_knn = model_knn.predict(features_valid)\n",
    "accuracy_knn = accuracy_score(target_valid, prd_knn)\n",
    "precision_knn = precision_score(target_valid, prd_knn)\n",
    "\n",
    "print('accuracy и precision для параметров подобранных поиском на сетке: {0:0.1%}, {1:0.1%}'.format(\n",
    "    accuracy_knn, precision_knn))\n",
    "\n",
    "model_knn = KNeighborsClassifier(n_neighbors=6, algorithm='brute', metric='manhattan')\n",
    "model_knn.fit(features_train, target_train)\n",
    "\n",
    "prd_knn = model_knn.predict(features_valid)\n",
    "accuracy_knn = accuracy_score(target_valid, prd_knn)\n",
    "precision_knn = precision_score(target_valid, prd_knn)\n",
    "\n",
    "print('accuracy и precision для параметров подобранных случайным поиском: {0:0.1%}, {1:0.1%}'.format(\n",
    "    accuracy_knn, precision_knn))"
   ]
  },
  {
   "cell_type": "markdown",
   "metadata": {},
   "source": [
    "#### Вывод\n",
    "Мы рассмотрели, как меняется значение accuracy в зависимости от параметров модели (число соседей, метрика растояния). С помощью этих зависимость определили диапазон поиска оптимальных значений гиперпараметров для методов поиска по сетке и случайного поиска. Найденные значенения гиперпараметров:\n",
    "\n",
    "|Метод поиска|Оптимальное число соседей|Оптимальная метрика расстояния|Оптимальный метод классификации|accuracy|\n",
    "|---|---|---|---|---|\n",
    "|GridSearchCV|manhattan|9|ball_tree|77.3%| \n",
    "|RandomizeSearchCV|manhattan|6|brute|76.9%| \n",
    "\n",
    "После проверки на валидационной выборке модели с разными параметрами показали схожие accuracy, однако модели с гиперпараметрами подобранными случайным поиском показали большую точность: 79.3% против 73.3%."
   ]
  },
  {
   "cell_type": "markdown",
   "metadata": {},
   "source": [
    "### Дерево решений"
   ]
  },
  {
   "cell_type": "code",
   "execution_count": 20,
   "metadata": {},
   "outputs": [
    {
     "data": {
      "image/png": "[encoded data removed]",
      "text/plain": [
       "<Figure size 720x720 with 1 Axes>"
      ]
     },
     "metadata": {
      "needs_background": "light"
     },
     "output_type": "display_data"
    }
   ],
   "source": [
    "param_depth = range(1, 100)\n",
    "accuracy_depth = []\n",
    "for depth in param_depth:\n",
    "    tree = DecisionTreeClassifier(random_state = 299792458, max_depth=depth)\n",
    "    tree.fit(features_train, target_train)\n",
    "    accuracy_depth.append(accuracy_score(target_valid, tree.predict(features_valid)))\n",
    "\n",
    "f, axes = plt.subplots(1, figsize=(10, 10))\n",
    "depth = sns.lineplot(x=param_depth, y=accuracy_depth, linewidth = 7, color='seagreen')\n",
    "depth.set_title('Выбор оптимальной глубины дерева решений', fontsize=16)\n",
    "depth.set_xlabel('Максимальная глубина дерева', fontsize=16) \n",
    "depth.set_ylabel('Доля правильных ответов', fontsize=16)\n",
    "depth.grid()\n",
    "plt.rc('axes', titlesize=20)\n",
    "plt.rc('axes', labelsize=20)\n",
    "plt.rc('xtick', labelsize=20)\n",
    "plt.rc('ytick', labelsize=20)\n",
    "plt.show()"
   ]
  },
  {
   "cell_type": "markdown",
   "metadata": {},
   "source": [
    "Максиммальное значение accuracy достигает где-то в окрестности max_depth=10, но посли примерно 15 начинается сильное падение. Ограничим диапазон поиска областью от 1 до 15."
   ]
  },
  {
   "cell_type": "code",
   "execution_count": 21,
   "metadata": {},
   "outputs": [
    {
     "name": "stdout",
     "output_type": "stream",
     "text": [
      "Параметры подобранные методом поиска по сетке: 0.8013471502590674 {'criterion': 'gini', 'max_depth': 7}\n",
      "Параметры подобранные методом случайного перебора: 0.7946073615503668 {'max_depth': 7, 'criterion': 'entropy'}\n"
     ]
    }
   ],
   "source": [
    "tree = DecisionTreeClassifier(random_state = 299792458)\n",
    "tree_params = {'max_depth' : range(1, 15),\n",
    "              'criterion' : ['gini', 'entropy']}\n",
    "\n",
    "tree_grid = GridSearchCV(tree, tree_params, cv=5)\n",
    "tree_rand = RandomizedSearchCV(tree, tree_params, cv=5,random_state = 299792458)\n",
    "\n",
    "result = tree_grid.fit(features_train, target_train)\n",
    "result_rand = tree_rand.fit(features_train, target_train)\n",
    "\n",
    "print('Параметры подобранные методом поиска по сетке:',result.best_score_, result.best_params_)\n",
    "print('Параметры подобранные методом случайного перебора:',result_rand.best_score_, result_rand.best_params_)"
   ]
  },
  {
   "cell_type": "markdown",
   "metadata": {},
   "source": [
    "Предлагаемые значения глубины и доли правильных ответов очень близки."
   ]
  },
  {
   "cell_type": "code",
   "execution_count": 22,
   "metadata": {
    "scrolled": true
   },
   "outputs": [
    {
     "name": "stdout",
     "output_type": "stream",
     "text": [
      "accuracy и precision для параметров подобранных случайным перебором: 78.8%, 72.4%\n",
      "accuracy и precision для параметров подобранных поиском на сетке: 78.8%, 73.6%\n"
     ]
    }
   ],
   "source": [
    "model_tree = DecisionTreeClassifier(max_depth=7, criterion='entropy',random_state = 299792458)\n",
    "model_tree.fit(features_train, target_train)\n",
    "\n",
    "prd_tree = model_tree.predict(features_valid)\n",
    "accuracy_tree = accuracy_score(target_valid, prd_tree)\n",
    "precision_tree = precision_score(target_valid, prd_tree)\n",
    "\n",
    "print('accuracy и precision для параметров подобранных случайным перебором: {0:0.1%}, {1:0.1%}'.format(\n",
    "    accuracy_tree, precision_tree))\n",
    "\n",
    "model_tree = DecisionTreeClassifier(max_depth=7, criterion='gini',random_state = 299792458)\n",
    "model_tree.fit(features_train, target_train)\n",
    "\n",
    "prd_tree = model_tree.predict(features_valid)\n",
    "accuracy_tree = accuracy_score(target_valid, prd_tree)\n",
    "precision_tree = precision_score(target_valid, prd_tree)\n",
    "\n",
    "print('accuracy и precision для параметров подобранных поиском на сетке: {0:0.1%}, {1:0.1%}'.format(\n",
    "    accuracy_tree, precision_tree))\n"
   ]
  },
  {
   "cell_type": "markdown",
   "metadata": {},
   "source": [
    "Значения accuracy для обеих моделей одинаковы, но точность выше у той, чьи параметры подбирались случайным перебором."
   ]
  },
  {
   "cell_type": "markdown",
   "metadata": {},
   "source": [
    "#### Вывод\n",
    "Мы рассмотрели, как глубина дерева влияет на значение accuracy, и выбрали оптимальный диапазон, в котором будем искать оптимальное значение этого гиперпараметра. \n",
    "\n",
    "Наиболее подходящие значения гиперпараметров подбирались с помощью метода поиска на сетке и случайного подбора. Получены следующие результаты на тренировочной выборке:\n",
    "\n",
    "|Метод подбора параметров|Глубина дерева| Критерий разбиения| accuracy |\n",
    "|---|---|---|---|\n",
    "|GridSearchCV|7|gini|80.13%|\n",
    "|RandomizeSearchCV|7|entropy|79.46%|\n",
    "\n",
    "При проверке на валидацинной выборке модель с параметрами подобранными GridSearchCV имеет большую точность (73.6% против 72.4%)."
   ]
  },
  {
   "cell_type": "markdown",
   "metadata": {},
   "source": [
    "### Случайный лес"
   ]
  },
  {
   "cell_type": "code",
   "execution_count": 23,
   "metadata": {},
   "outputs": [],
   "source": [
    "accuracy_depth = []\n",
    "param_depth = range(1, 100) \n",
    "for depth in param_depth:\n",
    "    forest = RandomForestClassifier(random_state = 299792458, max_depth=depth)\n",
    "    forest.fit(features_train, target_train)\n",
    "    accuracy_depth.append(accuracy_score(target_valid, forest.predict(features_valid)))\n",
    "\n",
    "accuracy_est = []\n",
    "param_est = range(1,200,10) \n",
    "for est in param_est:\n",
    "    forest = RandomForestClassifier(random_state = 299792458, n_estimators=est)\n",
    "    forest.fit(features_train, target_train)\n",
    "    accuracy_est.append(accuracy_score(target_valid, forest.predict(features_valid)))"
   ]
  },
  {
   "cell_type": "code",
   "execution_count": 24,
   "metadata": {},
   "outputs": [
    {
     "data": {
      "image/png": "[encoded data removed]",
      "text/plain": [
       "<Figure size 1440x1440 with 2 Axes>"
      ]
     },
     "metadata": {
      "needs_background": "light"
     },
     "output_type": "display_data"
    }
   ],
   "source": [
    "f, axes = plt.subplots(2, 1, figsize=(20, 20))\n",
    "depth = sns.lineplot(ax=axes[0], x=param_depth, y=accuracy_depth, linewidth = 7, color='palegreen')\n",
    "est = sns.lineplot(ax=axes[1],  x=param_est, y=accuracy_est, linewidth = 7, color='seagreen')\n",
    "depth.set(title='Выбор значения гиперпараметров',xlabel='Максимальная глубина дерева', \n",
    "          ylabel='Доля правильных ответов')\n",
    "est.set(xlabel='Число деревьев', ylabel='Доля правильных ответов')\n",
    "depth.grid()\n",
    "est.grid()\n",
    "plt.rc('axes', titlesize=20)\n",
    "plt.rc('axes', labelsize=20)\n",
    "plt.rc('xtick', labelsize=20)\n",
    "plt.rc('ytick', labelsize=20)\n",
    "plt.show()"
   ]
  },
  {
   "cell_type": "markdown",
   "metadata": {},
   "source": [
    "Оптимальные значения глубины деревьев лежат в диапазоне от примерно 10 до 20. При количестве деревьев от 25 и до 200 accuracy остается примерно постоянной, поэтому будем искать оптимальные параметры в области от 20 до 50."
   ]
  },
  {
   "cell_type": "code",
   "execution_count": 25,
   "metadata": {},
   "outputs": [
    {
     "name": "stdout",
     "output_type": "stream",
     "text": [
      "Параметры подобранные методом поиска по сетке: 0.812754188816365 {'criterion': 'entropy', 'max_depth': 12, 'n_estimators': 21}\n",
      "Параметры подобранные методом случайного перебора: 0.8112024762801964 {'n_estimators': 33, 'max_depth': 12, 'criterion': 'entropy'}\n"
     ]
    }
   ],
   "source": [
    "forest = RandomForestClassifier(random_state = 299792458)\n",
    "forest_params = { 'max_depth' : range(10, 20),\n",
    "                  'n_estimators':range(20,50),\n",
    "                  'criterion' : ['gini', 'entropy']}\n",
    "\n",
    "forest_grid = GridSearchCV(forest, forest_params, cv=5, n_jobs=15)\n",
    "forest_rand = RandomizedSearchCV(forest, forest_params, cv=5,random_state = 299792458, n_jobs=15)\n",
    "\n",
    "result_grid = forest_grid.fit(features_train, target_train)\n",
    "result_rand = forest_rand.fit(features_train, target_train)\n",
    "\n",
    "print('Параметры подобранные методом поиска по сетке:',result_grid.best_score_, result_grid.best_params_)\n",
    "print('Параметры подобранные методом случайного перебора:',result_rand.best_score_, result_rand.best_params_)"
   ]
  },
  {
   "cell_type": "code",
   "execution_count": 26,
   "metadata": {},
   "outputs": [
    {
     "name": "stdout",
     "output_type": "stream",
     "text": [
      "accuracy и precision для параметров подобранных поиском по сетке: 78.8%, 73.6%\n",
      "accuracy и precision для параметров подобранных случайным поиском: 78.8%, 73.6%\n"
     ]
    }
   ],
   "source": [
    "model_forest = RandomForestClassifier(random_state = 299792458, n_estimators=21, max_depth=12, criterion='entropy') \n",
    "forest.fit(features_train, target_train)\n",
    "\n",
    "prd_forest = model_tree.predict(features_valid)\n",
    "accuracy_forest = accuracy_score(target_valid, prd_forest)\n",
    "precision_forest = precision_score(target_valid, prd_forest)\n",
    "\n",
    "print('accuracy и precision для параметров подобранных поиском по сетке: {0:0.1%}, {1:0.1%}'.format(\n",
    "    accuracy_forest, precision_forest))\n",
    "\n",
    "model_forest = RandomForestClassifier(random_state = 299792458, n_estimators=33, max_depth=12, criterion='entropy') \n",
    "forest.fit(features_train, target_train)\n",
    "\n",
    "prd_forest = model_tree.predict(features_valid)\n",
    "accuracy_forest = accuracy_score(target_valid, prd_forest)\n",
    "precision_forest = precision_score(target_valid, prd_forest)\n",
    "\n",
    "print('accuracy и precision для параметров подобранных случайным поиском: {0:0.1%}, {1:0.1%}'.format(\n",
    "    accuracy_forest, precision_forest))"
   ]
  },
  {
   "cell_type": "markdown",
   "metadata": {},
   "source": [
    "#### Вывод\n",
    "Мы рассморели, как глубина и количество деревьев влияют на значение accuracy этой модели, и выбрали оптимальный диапазон, в котором будем искать оптимальное значение этих гиперпараметров.\n",
    "\n",
    "Наиболее подходящие значения гиперпараметров подбирались с помощью метода поиска на сетке и случайного подбора. Получены следующие результаты на тренировочной выборке:\n",
    "\n",
    "|Метод подбора параметров |Глубина дерева| Количество деревьев|Критерий разбиения|accuracy|\n",
    "|---|---|---|---|---|\n",
    "|GridSearchCV|12|21|entropy|81.28%|\n",
    "|RandomizeSearchCV|12|33|entropy|81.12%|\n",
    "\n",
    "Значения гиперпараметров подобранных оазными методами, в принципе, близки. При проверке на валидацинной выборке обе модели дают одинковое количество верных ответов: 78.8%."
   ]
  },
  {
   "cell_type": "markdown",
   "metadata": {},
   "source": [
    "### Логистическая регрессия"
   ]
  },
  {
   "cell_type": "markdown",
   "metadata": {},
   "source": [
    "Для логистической регрессии посмотрим, насколько будут разнится доли правильных ответов при выборе различных алгоримов классификации. В документации для небольших выборок советуют использовать liblinear."
   ]
  },
  {
   "cell_type": "code",
   "execution_count": 27,
   "metadata": {},
   "outputs": [],
   "source": [
    "%%capture\n",
    "iters = range(1, 300, 10)  \n",
    "accuracy_it = []\n",
    "\n",
    "for i in iters:\n",
    "    model_rgr= LogisticRegression(random_state=299792458, max_iter=i)\n",
    "    model_rgr.fit(features_train, target_train)\n",
    "    accuracy_it.append(accuracy_score(target_valid, model_rgr.predict(features_valid)))"
   ]
  },
  {
   "cell_type": "code",
   "execution_count": 28,
   "metadata": {},
   "outputs": [
    {
     "data": {
      "image/png": "[encoded data removed]",
      "text/plain": [
       "<Figure size 1440x1440 with 1 Axes>"
      ]
     },
     "metadata": {
      "needs_background": "light"
     },
     "output_type": "display_data"
    }
   ],
   "source": [
    "f, axes = plt.subplots(1, figsize=(20, 20))\n",
    "it = sns.lineplot(ax=axes,  x=iters, y=accuracy_it, linewidth = 7, color='seagreen')\n",
    "it.set(title='Выбор значения гиперпараметров',xlabel='Максимальное число итераций', \n",
    "          ylabel='Доля правильных ответов')\n",
    "it.grid()\n",
    "plt.rc('axes', titlesize=20)\n",
    "plt.rc('axes', labelsize=20)\n",
    "plt.rc('xtick', labelsize=20)\n",
    "plt.rc('ytick', labelsize=20)\n",
    "plt.show()"
   ]
  },
  {
   "cell_type": "markdown",
   "metadata": {},
   "source": [
    "Большая доля правильных ответов достигается после 75 итераций. Будем искать оптимальные значения для гиперпараметра solver при максимальном количестве итераций лежащем в диапазон от 50 до 100."
   ]
  },
  {
   "cell_type": "code",
   "execution_count": 29,
   "metadata": {},
   "outputs": [
    {
     "name": "stderr",
     "output_type": "stream",
     "text": [
      "/home/liudmila/.local/lib/python3.9/site-packages/sklearn/utils/optimize.py:210: ConvergenceWarning: newton-cg failed to converge. Increase the number of iterations.\n",
      "  warnings.warn(\n"
     ]
    },
    {
     "name": "stdout",
     "output_type": "stream",
     "text": [
      "Параметры подобранные методом поиска по сетке: 0.7572639795437723 {'max_iter': 50, 'solver': 'newton-cg'}\n",
      "Параметры подобранные методом случайного перебора: 0.7572639795437723 {'solver': 'newton-cg', 'max_iter': 50}\n"
     ]
    },
    {
     "name": "stderr",
     "output_type": "stream",
     "text": [
      "/home/liudmila/.local/lib/python3.9/site-packages/sklearn/utils/optimize.py:210: ConvergenceWarning: newton-cg failed to converge. Increase the number of iterations.\n",
      "  warnings.warn(\n"
     ]
    }
   ],
   "source": [
    "regression = LogisticRegression(random_state = 299792458)\n",
    "regression_params = {'solver' : ['newton-cg','liblinear','saga'],\n",
    "                        'max_iter' : range(50, 100)}\n",
    "\n",
    "regression_grid = GridSearchCV(regression, regression_params, cv=5,n_jobs=3)\n",
    "regression_rand = RandomizedSearchCV(regression, regression_params, cv=5, n_jobs=3)\n",
    "\n",
    "result_grid = regression_grid.fit(features_train, target_train)\n",
    "result_rand = regression_rand.fit(features_train, target_train)\n",
    "\n",
    "print('Параметры подобранные методом поиска по сетке:',result_grid.best_score_, result_grid.best_params_)\n",
    "print('Параметры подобранные методом случайного перебора:',result_rand.best_score_, result_rand.best_params_)"
   ]
  },
  {
   "cell_type": "markdown",
   "metadata": {},
   "source": [
    "Разные методы оптимизации гиперпараметров выдали разное число max_iter, но, скорее всего, эффективность обеих моделей будет одинаковая."
   ]
  },
  {
   "cell_type": "code",
   "execution_count": 30,
   "metadata": {},
   "outputs": [
    {
     "name": "stderr",
     "output_type": "stream",
     "text": [
      "/home/liudmila/.local/lib/python3.9/site-packages/sklearn/utils/optimize.py:210: ConvergenceWarning: newton-cg failed to converge. Increase the number of iterations.\n",
      "  warnings.warn(\n"
     ]
    },
    {
     "name": "stdout",
     "output_type": "stream",
     "text": [
      "accuracy и precision для параметров подобранных поиском по сетке: 73.7%, 75.0%\n",
      "accuracy и precision для параметров подобранных случайным перебором: 73.7%, 75.0%\n"
     ]
    }
   ],
   "source": [
    "model_rgr = LogisticRegression(random_state=299792458, max_iter=50, solver='newton-cg')\n",
    "model_rgr.fit(features_train, target_train)\n",
    "result_rgr = model_rgr.predict(features_valid)\n",
    "accuracy_rgr = accuracy_score(target_valid, result_rgr)\n",
    "precision_rgr = precision_score(target_valid, result_rgr)\n",
    "print('accuracy и precision для параметров подобранных поиском по сетке: {0:0.1%}, {1:0.1%}'.format(accuracy_rgr,\n",
    "                                                                                                    precision_rgr))\n",
    "      \n",
    "model_rgr = LogisticRegression(random_state = 299792458, max_iter=83, solver='newton-cg')\n",
    "model_rgr.fit(features_train, target_train)\n",
    "result_rgr = model_rgr.predict(features_valid)\n",
    "accuracy_rgr = accuracy_score(target_valid, result_rgr)\n",
    "precision_rgr = precision_score(target_valid, result_rgr)\n",
    "print('accuracy и precision для параметров подобранных случайным перебором: {0:0.1%}, {1:0.1%}'.format(accuracy_rgr,\n",
    "                                                                                                    precision_rgr))"
   ]
  },
  {
   "cell_type": "markdown",
   "metadata": {},
   "source": [
    "К сожалению, доля правильных ответов для всех моделей небольшая -- 73.7%."
   ]
  },
  {
   "cell_type": "markdown",
   "metadata": {},
   "source": [
    "### Заключение\n",
    "\n",
    "Мы построили четыре различных модели, оптимальные значения гиперпараметров для каждой подбирались методами поиска по сетке и случайным перебором. После проверки моделей на валидационной выборке, получены следующие результаты: \n",
    "\n",
    "| Модель | Доля правильных ответов | Точность |\n",
    "|---|---|---|\n",
    "| Метод ближайших соседей | 77.4% | 79.3% |\n",
    "| Дерево решений | 78.8% | 73.6%|\n",
    "| Метод случайного леса | 78.8%| 73.6%|\n",
    "| Логистическая регрессия | 73.7% | 75.0%|\n",
    "\n",
    "Проверим на тестовой выборке две лучшие модели: модель на основе решающего дерева и на основе метода случайного леса."
   ]
  },
  {
   "cell_type": "markdown",
   "metadata": {},
   "source": [
    "## Проверьте модель на тестовой выборке"
   ]
  },
  {
   "cell_type": "code",
   "execution_count": 31,
   "metadata": {},
   "outputs": [
    {
     "name": "stdout",
     "output_type": "stream",
     "text": [
      "accuracy: 0.8087091757387247 (решающее дерево); 0.807153965785381 (случайный лес);\n",
      "precision: 0.828125 (решающее дерево); 0.7862068965517242 (случайный лес);\n"
     ]
    }
   ],
   "source": [
    "model_tree = DecisionTreeClassifier(max_depth=7, criterion='gini',random_state = 299792458)\n",
    "model_tree.fit(features_train, target_train)\n",
    "result_tree = model_tree.predict(features_test)\n",
    "\n",
    "model_forest = RandomForestClassifier(random_state = 299792458, n_estimators=33, max_depth=12, criterion='entropy')  \n",
    "model_forest.fit(features_train, target_train)\n",
    "result_forest = model_forest.predict(features_test)\n",
    "\n",
    "accuracy_tree = accuracy_score(target_test, result_tree)\n",
    "precision_tree = precision_score(target_test, result_tree)\n",
    "\n",
    "accuracy_forest = accuracy_score(target_test, result_forest)\n",
    "precision_forest = precision_score(target_test, result_forest)\n",
    "\n",
    "print('accuracy:', accuracy_tree, '(решающее дерево);', accuracy_forest, '(случайный лес);')\n",
    "print('precision:', precision_tree, '(решающее дерево);', precision_forest, '(случайный лес);')"
   ]
  },
  {
   "cell_type": "markdown",
   "metadata": {},
   "source": [
    "Итак, лучшая из построенных моделей -- модель на основе метода решающего дерева."
   ]
  },
  {
   "cell_type": "markdown",
   "metadata": {},
   "source": [
    "## (бонус) Проверьте модели на адекватность"
   ]
  },
  {
   "cell_type": "markdown",
   "metadata": {},
   "source": [
    "Проверим, что наша лучшая модель адекватна, для этого:\n",
    "1. сравним размер входных и выходных данных;\n",
    "2. проверим, что модель не предсказала ничего кроме 0 и 1;"
   ]
  },
  {
   "cell_type": "code",
   "execution_count": 32,
   "metadata": {},
   "outputs": [
    {
     "name": "stdout",
     "output_type": "stream",
     "text": [
      "Размерность данных одинакова\n",
      "Выходные данные содержат следущие уникальные значения: [0 1]\n"
     ]
    }
   ],
   "source": [
    "if len(features_test) == len(result_tree):\n",
    "    print('Размерность данных одинакова')\n",
    "else:\n",
    "    print('Размерность входных и выходных данных отличается на', abs(len(features_tree) - len(result_tree)))\n",
    "    \n",
    "print('Выходные данные содержат следущие уникальные значения:', np.unique(result_tree))"
   ]
  },
  {
   "cell_type": "markdown",
   "metadata": {},
   "source": [
    "Сравним матрицу ошибок нашей модели с матрицей ошибок для модели, которая бы предсказывала только часто встречающийся класс (majority), и генератором, который предсказывал бы один из классов с равной вероятностью(uniform). Построим такие модели с помощью генератора DummyClassifier."
   ]
  },
  {
   "cell_type": "code",
   "execution_count": 33,
   "metadata": {},
   "outputs": [
    {
     "name": "stdout",
     "output_type": "stream",
     "text": [
      "accuracy для генератора случайных прогнозов (majority): 0.6780715396578538\n",
      "accuracy для генератора случайных прогнозов (uniform): 0.5381026438569206\n",
      "Матрица ошибок (решающее дерево):\n",
      " [[414  22]\n",
      " [101 106]]\n",
      "Матрица ошибок (majority):\n",
      " [[436   0]\n",
      " [207   0]]\n",
      "Матрица ошибок (uniform):\n",
      " [[232 204]\n",
      " [ 93 114]]\n"
     ]
    }
   ],
   "source": [
    "model_majority = DummyClassifier(strategy='most_frequent')\n",
    "model_majority.fit(features_train, target_train) \n",
    "result_majority = model_majority.predict(target_test) \n",
    "print('accuracy для генератора случайных прогнозов (majority):', \n",
    "      accuracy_score(target_test, result_majority))\n",
    "\n",
    "model_uniform = DummyClassifier(strategy='uniform')\n",
    "model_uniform.fit(features_train, target_train) \n",
    "result_uniform = model_uniform.predict(target_test) \n",
    "print('accuracy для генератора случайных прогнозов (uniform):', \n",
    "      accuracy_score(target_test, result_uniform))\n",
    "\n",
    "matrix_tree = confusion_matrix(target_test, result_tree)\n",
    "print('Матрица ошибок (решающее дерево):\\n', matrix_tree)\n",
    "\n",
    "matrix_majority = confusion_matrix(target_test, result_majority)\n",
    "print('Матрица ошибок (majority):\\n', matrix_majority)\n",
    "\n",
    "matrix_uniform = confusion_matrix(target_test, result_uniform)\n",
    "print('Матрица ошибок (uniform):\\n', matrix_uniform)"
   ]
  },
  {
   "cell_type": "markdown",
   "metadata": {},
   "source": [
    "Наша модель отличается от моделей на основе простейших генераторов. Сформируем теперь наиболее полный отчет по метрикам качества нашей модели:"
   ]
  },
  {
   "cell_type": "code",
   "execution_count": 34,
   "metadata": {
    "scrolled": true
   },
   "outputs": [
    {
     "name": "stdout",
     "output_type": "stream",
     "text": [
      "              precision    recall  f1-score   support\n",
      "\n",
      "       smart       0.80      0.95      0.87       436\n",
      "       ultra       0.83      0.51      0.63       207\n",
      "\n",
      "    accuracy                           0.81       643\n",
      "   macro avg       0.82      0.73      0.75       643\n",
      "weighted avg       0.81      0.81      0.79       643\n",
      "\n"
     ]
    }
   ],
   "source": [
    "print(classification_report(target_test, result_tree,\n",
    "                              target_names=['smart', 'ultra']))"
   ]
  },
  {
   "cell_type": "markdown",
   "metadata": {},
   "source": [
    "#### Вывод\n",
    "* Прогнозы нашей модели на основе решающего дерева значительно отличаются от предсказаний моделей построенных с помощью DummyClassifier (модель, предсказывающая наиболее частовстречающийся класс, и модель, которая предсзывает класс с вероятностью 50%). \n",
    "\n",
    "* Взвешенные значения метрик составляют 81% (точность), 81% (полнота), 81% (доля верных ответов) и 79% (f1).\n",
    "\n",
    "* Размерность входных и выходных данных совпадает, лишних значений модель не выдает. \n",
    "\n",
    "Таким образом модель можно считать адекватной."
   ]
  },
  {
   "cell_type": "markdown",
   "metadata": {},
   "source": [
    "## Заключение\n",
    "\n",
    "Мы построили четыре модели основавнных на разных методах классификации:\n",
    "\n",
    "1. метод ближайших соседей;\n",
    "2. дерево решений;\n",
    "3. метод случайного леса;\n",
    "4. метод логистической регрессии;\n",
    "\n",
    "С помощью методов RandomizedSearchCV и GridSearchCV библиотеки scikit-learn подбирались оптимальные значения гиперпараметров. Диапазоны поиска параметров определялись по зависимости accuracy от каждого из параметров.\n",
    "\n",
    "Получены следующий результаты:\n",
    "\n",
    "| Модель | Доля правильных ответов | Точность |\n",
    "|---|---|---|\n",
    "| Метод ближайших соседей | 77.4% | 79.3% |\n",
    "| Дерево решений | 78.8% | 73.6%|\n",
    "| Метод случайного леса | 78.8%| 73.6%|\n",
    "| Логистическая регрессия | 73.7% | 75.0%|\n",
    "\n",
    "На тестовой выборке проверялись две лучшие модели: дерево решений и случайный лес. Модель на основе метода решающего показала дерева лучшие результаты: значение accuracy составило 80%, а precision -- 83%.\n",
    "\n",
    "Модель случайного леса проверялась на адекватность:\n",
    "\n",
    "* Прогнозы нашей модели на основе решающего дерева значительно отличаются от предсказаний моделей построенных с помощью DummyClassifier (модель, предсказывающая наиболее частовстречающийся класс, и модель, которая предсзывает класс с вероятностью 50%). \n",
    "\n",
    "* Взвешенные значения метрик составляют 81% (точность), 81% (полнота), 81% (доля верных ответов) и 79% (f1).\n",
    "\n",
    "* Размерность входных и выходных данных совпадает, лишних значений модель не выдает. \n",
    "\n",
    "Таким образом модель можно считать адекватной.\n",
    "\n"
   ]
  },
  {
   "cell_type": "code",
   "execution_count": null,
   "metadata": {},
   "outputs": [],
   "source": []
  }
 ],
 "metadata": {
  "ExecuteTimeLog": [
   {
    "duration": 1177,
    "start_time": "2022-01-12T16:39:34.672Z"
   },
   {
    "duration": 29,
    "start_time": "2022-01-12T16:40:40.615Z"
   },
   {
    "duration": 405,
    "start_time": "2022-01-12T16:41:11.233Z"
   },
   {
    "duration": 45,
    "start_time": "2022-01-12T16:41:22.808Z"
   },
   {
    "duration": 4,
    "start_time": "2022-01-12T16:49:28.224Z"
   },
   {
    "duration": 48,
    "start_time": "2022-01-12T16:49:29.384Z"
   },
   {
    "duration": 284,
    "start_time": "2022-01-12T16:50:01.140Z"
   },
   {
    "duration": 88,
    "start_time": "2022-01-12T16:50:14.851Z"
   },
   {
    "duration": 2601,
    "start_time": "2022-01-12T16:50:18.517Z"
   },
   {
    "duration": 3,
    "start_time": "2022-01-12T16:50:43.277Z"
   },
   {
    "duration": 279,
    "start_time": "2022-01-12T16:50:47.245Z"
   },
   {
    "duration": 1184,
    "start_time": "2022-01-12T16:51:03.280Z"
   },
   {
    "duration": 256,
    "start_time": "2022-01-12T16:51:04.466Z"
   },
   {
    "duration": 1134,
    "start_time": "2022-01-12T16:51:19.254Z"
   },
   {
    "duration": 262,
    "start_time": "2022-01-12T16:51:20.390Z"
   },
   {
    "duration": 259,
    "start_time": "2022-01-12T16:51:31.073Z"
   },
   {
    "duration": 4,
    "start_time": "2022-01-12T16:52:18.901Z"
   },
   {
    "duration": 258,
    "start_time": "2022-01-12T16:52:21.217Z"
   },
   {
    "duration": 345,
    "start_time": "2022-01-12T16:54:01.853Z"
   },
   {
    "duration": 463,
    "start_time": "2022-01-12T16:54:20.597Z"
   },
   {
    "duration": 308,
    "start_time": "2022-01-12T16:54:36.474Z"
   },
   {
    "duration": 659,
    "start_time": "2022-01-12T16:55:52.489Z"
   },
   {
    "duration": 674,
    "start_time": "2022-01-12T16:56:29.898Z"
   },
   {
    "duration": 670,
    "start_time": "2022-01-12T16:56:44.092Z"
   },
   {
    "duration": 409,
    "start_time": "2022-01-12T16:57:13.910Z"
   },
   {
    "duration": 298,
    "start_time": "2022-01-12T16:57:20.978Z"
   },
   {
    "duration": 318,
    "start_time": "2022-01-12T16:57:29.683Z"
   },
   {
    "duration": 51,
    "start_time": "2022-01-12T16:57:40.894Z"
   },
   {
    "duration": 316,
    "start_time": "2022-01-12T16:59:13.060Z"
   },
   {
    "duration": 669,
    "start_time": "2022-01-12T17:00:02.709Z"
   },
   {
    "duration": 546,
    "start_time": "2022-01-12T17:00:10.812Z"
   },
   {
    "duration": 598,
    "start_time": "2022-01-12T17:01:02.379Z"
   },
   {
    "duration": 591,
    "start_time": "2022-01-12T17:01:12.391Z"
   },
   {
    "duration": 669,
    "start_time": "2022-01-12T17:01:35.412Z"
   },
   {
    "duration": 831,
    "start_time": "2022-01-12T17:01:40.945Z"
   },
   {
    "duration": 466,
    "start_time": "2022-01-12T17:01:51.687Z"
   },
   {
    "duration": 259,
    "start_time": "2022-01-12T17:02:05.787Z"
   },
   {
    "duration": 715,
    "start_time": "2022-01-12T17:02:47.443Z"
   },
   {
    "duration": 326,
    "start_time": "2022-01-12T17:02:55.960Z"
   },
   {
    "duration": 337,
    "start_time": "2022-01-12T17:03:09.543Z"
   },
   {
    "duration": 324,
    "start_time": "2022-01-12T17:03:15.458Z"
   },
   {
    "duration": 432,
    "start_time": "2022-01-12T17:03:26.731Z"
   },
   {
    "duration": 1216,
    "start_time": "2022-01-12T17:03:35.009Z"
   },
   {
    "duration": 50,
    "start_time": "2022-01-12T17:03:36.227Z"
   },
   {
    "duration": 316,
    "start_time": "2022-01-12T17:03:36.279Z"
   },
   {
    "duration": 216,
    "start_time": "2022-01-12T17:03:48.314Z"
   },
   {
    "duration": 516,
    "start_time": "2022-01-12T17:04:01.043Z"
   },
   {
    "duration": 473,
    "start_time": "2022-01-12T17:04:13.490Z"
   },
   {
    "duration": 296,
    "start_time": "2022-01-12T17:04:17.994Z"
   },
   {
    "duration": 223,
    "start_time": "2022-01-12T17:04:31.238Z"
   },
   {
    "duration": 278,
    "start_time": "2022-01-12T17:04:38.454Z"
   },
   {
    "duration": 350,
    "start_time": "2022-01-12T17:04:47.847Z"
   },
   {
    "duration": 384,
    "start_time": "2022-01-12T17:05:46.935Z"
   },
   {
    "duration": 285,
    "start_time": "2022-01-12T17:05:54.841Z"
   },
   {
    "duration": 257,
    "start_time": "2022-01-12T17:06:00.709Z"
   },
   {
    "duration": 347,
    "start_time": "2022-01-12T17:06:05.997Z"
   },
   {
    "duration": 1488,
    "start_time": "2022-01-12T17:06:15.993Z"
   },
   {
    "duration": 60,
    "start_time": "2022-01-12T17:06:17.483Z"
   },
   {
    "duration": 500,
    "start_time": "2022-01-12T17:06:17.545Z"
   },
   {
    "duration": 327,
    "start_time": "2022-01-12T17:06:34.935Z"
   },
   {
    "duration": 1118,
    "start_time": "2022-01-12T17:06:41.698Z"
   },
   {
    "duration": 51,
    "start_time": "2022-01-12T17:06:42.818Z"
   },
   {
    "duration": 278,
    "start_time": "2022-01-12T17:06:42.871Z"
   },
   {
    "duration": 274,
    "start_time": "2022-01-12T17:07:12.252Z"
   },
   {
    "duration": 256,
    "start_time": "2022-01-12T17:07:47.357Z"
   },
   {
    "duration": 304,
    "start_time": "2022-01-12T17:08:01.207Z"
   },
   {
    "duration": 8,
    "start_time": "2022-01-12T17:10:06.184Z"
   },
   {
    "duration": 11,
    "start_time": "2022-01-12T17:10:34.587Z"
   },
   {
    "duration": 7,
    "start_time": "2022-01-12T17:11:03.031Z"
   },
   {
    "duration": 4,
    "start_time": "2022-01-12T17:12:19.710Z"
   },
   {
    "duration": 4,
    "start_time": "2022-01-12T17:12:26.639Z"
   },
   {
    "duration": 5,
    "start_time": "2022-01-12T17:13:45.880Z"
   },
   {
    "duration": 81,
    "start_time": "2022-01-12T17:14:01.543Z"
   },
   {
    "duration": 15,
    "start_time": "2022-01-12T17:14:59.065Z"
   },
   {
    "duration": 344,
    "start_time": "2022-01-12T17:17:14.338Z"
   },
   {
    "duration": 425,
    "start_time": "2022-01-12T17:17:21.198Z"
   },
   {
    "duration": 85,
    "start_time": "2022-01-12T17:18:13.693Z"
   },
   {
    "duration": 324,
    "start_time": "2022-01-12T17:18:20.687Z"
   },
   {
    "duration": 355,
    "start_time": "2022-01-12T17:18:28.749Z"
   },
   {
    "duration": 457,
    "start_time": "2022-01-12T17:18:53.176Z"
   },
   {
    "duration": 415,
    "start_time": "2022-01-12T17:19:03.129Z"
   },
   {
    "duration": 410,
    "start_time": "2022-01-12T17:20:15.542Z"
   },
   {
    "duration": 416,
    "start_time": "2022-01-12T17:20:18.967Z"
   },
   {
    "duration": 489,
    "start_time": "2022-01-12T17:21:07.684Z"
   },
   {
    "duration": 399,
    "start_time": "2022-01-12T17:21:47.832Z"
   },
   {
    "duration": 440,
    "start_time": "2022-01-12T17:24:01.814Z"
   },
   {
    "duration": 405,
    "start_time": "2022-01-12T17:24:23.536Z"
   },
   {
    "duration": 409,
    "start_time": "2022-01-12T17:24:37.540Z"
   },
   {
    "duration": 520,
    "start_time": "2022-01-12T17:24:52.664Z"
   },
   {
    "duration": 427,
    "start_time": "2022-01-12T17:25:02.714Z"
   },
   {
    "duration": 470,
    "start_time": "2022-01-12T17:25:08.078Z"
   },
   {
    "duration": 437,
    "start_time": "2022-01-12T17:25:14.371Z"
   },
   {
    "duration": 429,
    "start_time": "2022-01-12T17:25:41.312Z"
   },
   {
    "duration": 398,
    "start_time": "2022-01-12T17:27:55.465Z"
   },
   {
    "duration": 1200,
    "start_time": "2022-01-12T17:35:05.477Z"
   },
   {
    "duration": 398,
    "start_time": "2022-01-12T17:35:10.866Z"
   },
   {
    "duration": 446,
    "start_time": "2022-01-12T17:35:34.859Z"
   },
   {
    "duration": 253,
    "start_time": "2022-01-12T17:35:46.726Z"
   },
   {
    "duration": 415,
    "start_time": "2022-01-12T17:36:25.797Z"
   },
   {
    "duration": 363,
    "start_time": "2022-01-12T17:37:13.716Z"
   },
   {
    "duration": 265,
    "start_time": "2022-01-12T17:38:09.661Z"
   },
   {
    "duration": 2974,
    "start_time": "2022-01-12T17:38:26.383Z"
   },
   {
    "duration": 529,
    "start_time": "2022-01-12T17:38:32.730Z"
   },
   {
    "duration": 822,
    "start_time": "2022-01-12T17:38:56.290Z"
   },
   {
    "duration": 286,
    "start_time": "2022-01-12T17:39:01.217Z"
   },
   {
    "duration": 250,
    "start_time": "2022-01-12T17:39:09.523Z"
   },
   {
    "duration": 265,
    "start_time": "2022-01-12T17:39:17.646Z"
   },
   {
    "duration": 271,
    "start_time": "2022-01-12T17:39:26.100Z"
   },
   {
    "duration": 255,
    "start_time": "2022-01-12T17:39:40.887Z"
   },
   {
    "duration": 484,
    "start_time": "2022-01-12T17:39:48.913Z"
   },
   {
    "duration": 2996,
    "start_time": "2022-01-12T17:40:04.682Z"
   },
   {
    "duration": 2920,
    "start_time": "2022-01-12T17:40:26.661Z"
   },
   {
    "duration": 582,
    "start_time": "2022-01-12T17:41:14.422Z"
   },
   {
    "duration": 1039,
    "start_time": "2022-01-12T17:41:22.928Z"
   },
   {
    "duration": 563,
    "start_time": "2022-01-12T17:41:42.053Z"
   },
   {
    "duration": 576,
    "start_time": "2022-01-12T17:42:12.082Z"
   },
   {
    "duration": 327,
    "start_time": "2022-01-12T17:42:36.032Z"
   },
   {
    "duration": 557,
    "start_time": "2022-01-12T17:42:40.562Z"
   },
   {
    "duration": 510,
    "start_time": "2022-01-12T17:42:51.465Z"
   },
   {
    "duration": 465,
    "start_time": "2022-01-12T17:42:58.890Z"
   },
   {
    "duration": 434,
    "start_time": "2022-01-12T17:43:05.952Z"
   },
   {
    "duration": 430,
    "start_time": "2022-01-12T17:44:31.713Z"
   },
   {
    "duration": 447,
    "start_time": "2022-01-12T17:45:01.089Z"
   },
   {
    "duration": 412,
    "start_time": "2022-01-12T17:47:34.111Z"
   },
   {
    "duration": 334,
    "start_time": "2022-01-12T17:47:39.919Z"
   },
   {
    "duration": 335,
    "start_time": "2022-01-12T17:47:47.343Z"
   },
   {
    "duration": 349,
    "start_time": "2022-01-12T17:48:20.785Z"
   },
   {
    "duration": 429,
    "start_time": "2022-01-12T17:50:54.791Z"
   },
   {
    "duration": 318,
    "start_time": "2022-01-12T17:52:17.874Z"
   },
   {
    "duration": 342,
    "start_time": "2022-01-12T17:52:30.934Z"
   },
   {
    "duration": 339,
    "start_time": "2022-01-12T17:52:35.204Z"
   },
   {
    "duration": 388,
    "start_time": "2022-01-12T17:53:12.091Z"
   },
   {
    "duration": 514,
    "start_time": "2022-01-12T17:53:34.206Z"
   },
   {
    "duration": 371,
    "start_time": "2022-01-12T17:54:29.580Z"
   },
   {
    "duration": 704,
    "start_time": "2022-01-12T17:56:29.055Z"
   },
   {
    "duration": 387,
    "start_time": "2022-01-12T17:56:40.102Z"
   },
   {
    "duration": 366,
    "start_time": "2022-01-12T17:57:07.663Z"
   },
   {
    "duration": 393,
    "start_time": "2022-01-12T19:17:45.018Z"
   },
   {
    "duration": 486,
    "start_time": "2022-01-12T19:18:51.896Z"
   },
   {
    "duration": 392,
    "start_time": "2022-01-12T19:19:07.475Z"
   },
   {
    "duration": 269,
    "start_time": "2022-01-12T19:40:06.519Z"
   },
   {
    "duration": 64777,
    "start_time": "2022-01-12T19:40:25.970Z"
   },
   {
    "duration": 334,
    "start_time": "2022-01-12T19:41:39.654Z"
   },
   {
    "duration": 257,
    "start_time": "2022-01-12T19:43:44.617Z"
   },
   {
    "duration": 499,
    "start_time": "2022-01-12T19:44:16.392Z"
   },
   {
    "duration": 422,
    "start_time": "2022-01-12T19:45:11.464Z"
   },
   {
    "duration": 472,
    "start_time": "2022-01-12T19:45:22.692Z"
   },
   {
    "duration": 250,
    "start_time": "2022-01-12T19:45:36.885Z"
   },
   {
    "duration": 467,
    "start_time": "2022-01-12T19:45:44.330Z"
   },
   {
    "duration": 464,
    "start_time": "2022-01-12T19:46:11.215Z"
   },
   {
    "duration": 901,
    "start_time": "2022-01-12T19:46:44.478Z"
   },
   {
    "duration": 272,
    "start_time": "2022-01-12T19:47:18.827Z"
   },
   {
    "duration": 454,
    "start_time": "2022-01-12T19:47:26.758Z"
   },
   {
    "duration": 308,
    "start_time": "2022-01-12T19:48:20.758Z"
   },
   {
    "duration": 435,
    "start_time": "2022-01-12T19:48:31.895Z"
   },
   {
    "duration": 82,
    "start_time": "2022-01-12T19:50:15.273Z"
   },
   {
    "duration": 482,
    "start_time": "2022-01-12T19:50:23.787Z"
   },
   {
    "duration": 414,
    "start_time": "2022-01-12T19:50:38.654Z"
   },
   {
    "duration": 431,
    "start_time": "2022-01-12T19:51:21.622Z"
   },
   {
    "duration": 446,
    "start_time": "2022-01-12T19:51:29.422Z"
   },
   {
    "duration": 459,
    "start_time": "2022-01-12T19:51:39.737Z"
   },
   {
    "duration": 494,
    "start_time": "2022-01-12T19:52:07.571Z"
   },
   {
    "duration": 1006,
    "start_time": "2022-01-12T19:56:04.961Z"
   },
   {
    "duration": 804,
    "start_time": "2022-01-12T19:56:17.006Z"
   },
   {
    "duration": 1007,
    "start_time": "2022-01-12T19:56:34.170Z"
   },
   {
    "duration": 1166,
    "start_time": "2022-01-12T19:57:52.341Z"
   },
   {
    "duration": 52,
    "start_time": "2022-01-12T19:57:53.509Z"
   },
   {
    "duration": 267,
    "start_time": "2022-01-12T19:57:53.563Z"
   },
   {
    "duration": 338,
    "start_time": "2022-01-12T19:57:53.832Z"
   },
   {
    "duration": 363,
    "start_time": "2022-01-12T19:57:54.171Z"
   },
   {
    "duration": 544,
    "start_time": "2022-01-12T19:57:54.540Z"
   },
   {
    "duration": 360,
    "start_time": "2022-01-12T19:57:55.086Z"
   },
   {
    "duration": 1029,
    "start_time": "2022-01-12T19:57:55.449Z"
   },
   {
    "duration": 377,
    "start_time": "2022-01-12T19:57:56.480Z"
   },
   {
    "duration": 415,
    "start_time": "2022-01-12T19:57:56.858Z"
   },
   {
    "duration": 1373,
    "start_time": "2022-01-12T19:58:30.904Z"
   },
   {
    "duration": 1246,
    "start_time": "2022-01-12T19:59:14.217Z"
   },
   {
    "duration": 766,
    "start_time": "2022-01-12T20:00:04.295Z"
   },
   {
    "duration": 402,
    "start_time": "2022-01-12T20:00:12.811Z"
   },
   {
    "duration": 304,
    "start_time": "2022-01-12T20:00:22.883Z"
   },
   {
    "duration": 173,
    "start_time": "2022-01-12T20:00:34.805Z"
   },
   {
    "duration": 234,
    "start_time": "2022-01-12T20:00:52.527Z"
   },
   {
    "duration": 330,
    "start_time": "2022-01-12T20:01:30.260Z"
   },
   {
    "duration": 237,
    "start_time": "2022-01-12T20:01:35.654Z"
   },
   {
    "duration": 160,
    "start_time": "2022-01-12T20:02:05.911Z"
   },
   {
    "duration": 359,
    "start_time": "2022-01-12T20:03:41.796Z"
   },
   {
    "duration": 86,
    "start_time": "2022-01-12T20:04:32.078Z"
   },
   {
    "duration": 384,
    "start_time": "2022-01-12T20:04:34.788Z"
   },
   {
    "duration": 253,
    "start_time": "2022-01-12T20:05:13.889Z"
   },
   {
    "duration": 367,
    "start_time": "2022-01-12T20:05:18.875Z"
   },
   {
    "duration": 233,
    "start_time": "2022-01-12T20:05:23.756Z"
   },
   {
    "duration": 31952,
    "start_time": "2022-01-12T20:05:26.961Z"
   },
   {
    "duration": 170,
    "start_time": "2022-01-12T20:06:33.282Z"
   },
   {
    "duration": 176,
    "start_time": "2022-01-12T20:06:39.445Z"
   },
   {
    "duration": 81,
    "start_time": "2022-01-12T20:06:46.046Z"
   },
   {
    "duration": 81,
    "start_time": "2022-01-12T20:06:47.855Z"
   },
   {
    "duration": 193,
    "start_time": "2022-01-12T20:06:55.677Z"
   },
   {
    "duration": 237,
    "start_time": "2022-01-12T20:07:00.907Z"
   },
   {
    "duration": 205,
    "start_time": "2022-01-12T20:07:38.558Z"
   },
   {
    "duration": 193,
    "start_time": "2022-01-12T20:08:14.311Z"
   },
   {
    "duration": 194,
    "start_time": "2022-01-12T20:08:27.692Z"
   },
   {
    "duration": 586,
    "start_time": "2022-01-12T20:09:11.735Z"
   },
   {
    "duration": 649,
    "start_time": "2022-01-12T20:09:59.984Z"
   },
   {
    "duration": 529,
    "start_time": "2022-01-12T20:10:30.799Z"
   },
   {
    "duration": 563,
    "start_time": "2022-01-12T20:10:46.165Z"
   },
   {
    "duration": 52,
    "start_time": "2022-01-12T20:11:34.166Z"
   },
   {
    "duration": 159,
    "start_time": "2022-01-12T20:11:41.824Z"
   },
   {
    "duration": 179,
    "start_time": "2022-01-12T20:12:20.025Z"
   },
   {
    "duration": 116,
    "start_time": "2022-01-12T20:12:22.254Z"
   },
   {
    "duration": 165,
    "start_time": "2022-01-12T20:12:24.899Z"
   },
   {
    "duration": 1155,
    "start_time": "2022-01-12T20:13:40.656Z"
   },
   {
    "duration": 54,
    "start_time": "2022-01-12T20:13:41.813Z"
   },
   {
    "duration": 279,
    "start_time": "2022-01-12T20:13:41.869Z"
   },
   {
    "duration": 320,
    "start_time": "2022-01-12T20:13:42.150Z"
   },
   {
    "duration": 385,
    "start_time": "2022-01-12T20:13:42.472Z"
   },
   {
    "duration": 236,
    "start_time": "2022-01-12T20:13:42.858Z"
   },
   {
    "duration": 374,
    "start_time": "2022-01-12T20:13:43.095Z"
   },
   {
    "duration": 191,
    "start_time": "2022-01-12T20:13:43.471Z"
   },
   {
    "duration": 391,
    "start_time": "2022-01-12T20:13:43.664Z"
   },
   {
    "duration": 402,
    "start_time": "2022-01-12T20:13:44.057Z"
   },
   {
    "duration": 171,
    "start_time": "2022-01-12T20:14:07.752Z"
   },
   {
    "duration": 163,
    "start_time": "2022-01-12T20:14:24.179Z"
   },
   {
    "duration": 577,
    "start_time": "2022-01-12T20:14:51.606Z"
   },
   {
    "duration": 182,
    "start_time": "2022-01-12T20:18:44.561Z"
   },
   {
    "duration": 407,
    "start_time": "2022-01-12T20:19:31.364Z"
   },
   {
    "duration": 184,
    "start_time": "2022-01-12T20:19:38.121Z"
   },
   {
    "duration": 441,
    "start_time": "2022-01-12T20:26:44.424Z"
   },
   {
    "duration": 421,
    "start_time": "2022-01-12T20:27:10.738Z"
   },
   {
    "duration": 483,
    "start_time": "2022-01-12T20:27:29.004Z"
   },
   {
    "duration": 452,
    "start_time": "2022-01-12T20:27:44.981Z"
   },
   {
    "duration": 207,
    "start_time": "2022-01-12T20:29:19.033Z"
   },
   {
    "duration": 212,
    "start_time": "2022-01-12T20:29:39.520Z"
   },
   {
    "duration": 174,
    "start_time": "2022-01-12T20:31:18.330Z"
   },
   {
    "duration": 108,
    "start_time": "2022-01-12T20:32:09.013Z"
   },
   {
    "duration": 185,
    "start_time": "2022-01-12T20:32:11.824Z"
   },
   {
    "duration": 209,
    "start_time": "2022-01-12T20:32:36.339Z"
   },
   {
    "duration": 306,
    "start_time": "2022-01-12T20:33:17.039Z"
   },
   {
    "duration": 210,
    "start_time": "2022-01-12T20:33:23.440Z"
   },
   {
    "duration": 183,
    "start_time": "2022-01-12T20:34:18.220Z"
   },
   {
    "duration": 190,
    "start_time": "2022-01-12T20:34:50.721Z"
   },
   {
    "duration": 195,
    "start_time": "2022-01-12T20:37:44.256Z"
   },
   {
    "duration": 174,
    "start_time": "2022-01-12T20:39:08.685Z"
   },
   {
    "duration": 206,
    "start_time": "2022-01-12T20:39:26.542Z"
   },
   {
    "duration": 198,
    "start_time": "2022-01-12T20:39:59.305Z"
   },
   {
    "duration": 193,
    "start_time": "2022-01-12T20:40:10.799Z"
   },
   {
    "duration": 189,
    "start_time": "2022-01-12T20:40:59.005Z"
   },
   {
    "duration": 177,
    "start_time": "2022-01-12T20:41:07.216Z"
   },
   {
    "duration": 267,
    "start_time": "2022-01-12T20:41:32.238Z"
   },
   {
    "duration": 10,
    "start_time": "2022-01-12T20:44:15.821Z"
   },
   {
    "duration": 7,
    "start_time": "2022-01-12T20:44:25.418Z"
   },
   {
    "duration": 11,
    "start_time": "2022-01-12T20:44:33.714Z"
   },
   {
    "duration": 11,
    "start_time": "2022-01-12T20:44:54.683Z"
   },
   {
    "duration": 10,
    "start_time": "2022-01-12T20:45:29.401Z"
   },
   {
    "duration": 11,
    "start_time": "2022-01-12T20:46:58.913Z"
   },
   {
    "duration": 11,
    "start_time": "2022-01-12T20:47:22.722Z"
   },
   {
    "duration": 18,
    "start_time": "2022-01-12T20:47:36.015Z"
   },
   {
    "duration": 13,
    "start_time": "2022-01-12T20:47:53.028Z"
   },
   {
    "duration": 11,
    "start_time": "2022-01-12T20:49:08.845Z"
   },
   {
    "duration": 10,
    "start_time": "2022-01-12T20:49:46.219Z"
   },
   {
    "duration": 16,
    "start_time": "2022-01-12T20:50:52.594Z"
   },
   {
    "duration": 20,
    "start_time": "2022-01-12T20:51:01.887Z"
   },
   {
    "duration": 319,
    "start_time": "2022-01-12T20:59:55.625Z"
   },
   {
    "duration": 383,
    "start_time": "2022-01-12T21:00:00.079Z"
   },
   {
    "duration": 271,
    "start_time": "2022-01-12T21:12:12.810Z"
   },
   {
    "duration": 268,
    "start_time": "2022-01-12T21:12:26.018Z"
   },
   {
    "duration": 2148,
    "start_time": "2022-01-13T10:35:32.126Z"
   },
   {
    "duration": 70,
    "start_time": "2022-01-13T10:35:34.277Z"
   },
   {
    "duration": 2058,
    "start_time": "2022-01-13T10:35:34.350Z"
   },
   {
    "duration": -277,
    "start_time": "2022-01-13T10:35:36.688Z"
   },
   {
    "duration": -284,
    "start_time": "2022-01-13T10:35:36.696Z"
   },
   {
    "duration": -292,
    "start_time": "2022-01-13T10:35:36.705Z"
   },
   {
    "duration": -298,
    "start_time": "2022-01-13T10:35:36.713Z"
   },
   {
    "duration": -315,
    "start_time": "2022-01-13T10:35:36.731Z"
   },
   {
    "duration": -322,
    "start_time": "2022-01-13T10:35:36.739Z"
   },
   {
    "duration": -330,
    "start_time": "2022-01-13T10:35:36.749Z"
   },
   {
    "duration": -334,
    "start_time": "2022-01-13T10:35:36.754Z"
   },
   {
    "duration": -337,
    "start_time": "2022-01-13T10:35:36.758Z"
   },
   {
    "duration": 6848,
    "start_time": "2022-01-13T10:36:28.428Z"
   },
   {
    "duration": 81,
    "start_time": "2022-01-13T10:36:35.279Z"
   },
   {
    "duration": 770,
    "start_time": "2022-01-13T10:36:35.364Z"
   },
   {
    "duration": -339,
    "start_time": "2022-01-13T10:36:36.476Z"
   },
   {
    "duration": -344,
    "start_time": "2022-01-13T10:36:36.483Z"
   },
   {
    "duration": -348,
    "start_time": "2022-01-13T10:36:36.488Z"
   },
   {
    "duration": -352,
    "start_time": "2022-01-13T10:36:36.493Z"
   },
   {
    "duration": -355,
    "start_time": "2022-01-13T10:36:36.498Z"
   },
   {
    "duration": -359,
    "start_time": "2022-01-13T10:36:36.503Z"
   },
   {
    "duration": -364,
    "start_time": "2022-01-13T10:36:36.509Z"
   },
   {
    "duration": -375,
    "start_time": "2022-01-13T10:36:36.521Z"
   },
   {
    "duration": -379,
    "start_time": "2022-01-13T10:36:36.527Z"
   },
   {
    "duration": 448,
    "start_time": "2022-01-13T10:36:42.901Z"
   },
   {
    "duration": 1653,
    "start_time": "2022-01-13T10:36:55.787Z"
   },
   {
    "duration": 72,
    "start_time": "2022-01-13T10:36:57.443Z"
   },
   {
    "duration": 495,
    "start_time": "2022-01-13T10:36:57.518Z"
   },
   {
    "duration": 585,
    "start_time": "2022-01-13T10:36:58.015Z"
   },
   {
    "duration": 769,
    "start_time": "2022-01-13T10:36:58.603Z"
   },
   {
    "duration": 466,
    "start_time": "2022-01-13T10:36:59.374Z"
   },
   {
    "duration": 13,
    "start_time": "2022-01-13T10:36:59.843Z"
   },
   {
    "duration": 677,
    "start_time": "2022-01-13T10:36:59.860Z"
   },
   {
    "duration": 348,
    "start_time": "2022-01-13T10:37:00.540Z"
   },
   {
    "duration": 22,
    "start_time": "2022-01-13T10:37:00.891Z"
   },
   {
    "duration": 693,
    "start_time": "2022-01-13T10:37:00.915Z"
   },
   {
    "duration": 373,
    "start_time": "2022-01-13T10:37:01.611Z"
   },
   {
    "duration": 4138,
    "start_time": "2022-01-13T10:41:15.916Z"
   },
   {
    "duration": -265,
    "start_time": "2022-01-13T10:41:20.322Z"
   },
   {
    "duration": -272,
    "start_time": "2022-01-13T10:41:20.331Z"
   },
   {
    "duration": -274,
    "start_time": "2022-01-13T10:41:20.334Z"
   },
   {
    "duration": -280,
    "start_time": "2022-01-13T10:41:20.341Z"
   },
   {
    "duration": -283,
    "start_time": "2022-01-13T10:41:20.346Z"
   },
   {
    "duration": -288,
    "start_time": "2022-01-13T10:41:20.352Z"
   },
   {
    "duration": -293,
    "start_time": "2022-01-13T10:41:20.358Z"
   },
   {
    "duration": -306,
    "start_time": "2022-01-13T10:41:20.373Z"
   },
   {
    "duration": -323,
    "start_time": "2022-01-13T10:41:20.391Z"
   },
   {
    "duration": -327,
    "start_time": "2022-01-13T10:41:20.396Z"
   },
   {
    "duration": -331,
    "start_time": "2022-01-13T10:41:20.402Z"
   },
   {
    "duration": -336,
    "start_time": "2022-01-13T10:41:20.408Z"
   },
   {
    "duration": 4373,
    "start_time": "2022-01-13T10:43:31.671Z"
   },
   {
    "duration": 9911,
    "start_time": "2022-01-13T10:43:59.521Z"
   },
   {
    "duration": 6720,
    "start_time": "2022-01-13T10:44:23.738Z"
   },
   {
    "duration": 1639,
    "start_time": "2022-01-13T10:44:30.462Z"
   },
   {
    "duration": 92,
    "start_time": "2022-01-13T10:44:32.104Z"
   },
   {
    "duration": 488,
    "start_time": "2022-01-13T10:44:32.199Z"
   },
   {
    "duration": 522,
    "start_time": "2022-01-13T10:44:32.690Z"
   },
   {
    "duration": 675,
    "start_time": "2022-01-13T10:44:33.215Z"
   },
   {
    "duration": 377,
    "start_time": "2022-01-13T10:44:33.892Z"
   },
   {
    "duration": 31,
    "start_time": "2022-01-13T10:44:34.274Z"
   },
   {
    "duration": 656,
    "start_time": "2022-01-13T10:44:34.308Z"
   },
   {
    "duration": 350,
    "start_time": "2022-01-13T10:44:34.967Z"
   },
   {
    "duration": 16,
    "start_time": "2022-01-13T10:44:35.319Z"
   },
   {
    "duration": 752,
    "start_time": "2022-01-13T10:44:35.337Z"
   },
   {
    "duration": 390,
    "start_time": "2022-01-13T10:44:36.091Z"
   },
   {
    "duration": 126,
    "start_time": "2022-01-13T10:47:43.727Z"
   },
   {
    "duration": 152,
    "start_time": "2022-01-13T10:48:32.596Z"
   },
   {
    "duration": 14,
    "start_time": "2022-01-13T10:49:04.999Z"
   },
   {
    "duration": 127,
    "start_time": "2022-01-13T10:49:20.275Z"
   },
   {
    "duration": 3776,
    "start_time": "2022-01-13T10:49:44.375Z"
   },
   {
    "duration": 3962,
    "start_time": "2022-01-13T10:49:55.394Z"
   },
   {
    "duration": 1625,
    "start_time": "2022-01-13T10:49:59.358Z"
   },
   {
    "duration": 71,
    "start_time": "2022-01-13T10:50:00.987Z"
   },
   {
    "duration": 492,
    "start_time": "2022-01-13T10:50:01.061Z"
   },
   {
    "duration": 544,
    "start_time": "2022-01-13T10:50:01.556Z"
   },
   {
    "duration": 863,
    "start_time": "2022-01-13T10:50:02.104Z"
   },
   {
    "duration": 480,
    "start_time": "2022-01-13T10:50:02.970Z"
   },
   {
    "duration": 16,
    "start_time": "2022-01-13T10:50:03.455Z"
   },
   {
    "duration": 674,
    "start_time": "2022-01-13T10:50:03.473Z"
   },
   {
    "duration": 333,
    "start_time": "2022-01-13T10:50:04.149Z"
   },
   {
    "duration": 28,
    "start_time": "2022-01-13T10:50:04.484Z"
   },
   {
    "duration": 773,
    "start_time": "2022-01-13T10:50:04.514Z"
   },
   {
    "duration": 460,
    "start_time": "2022-01-13T10:50:05.289Z"
   },
   {
    "duration": 10,
    "start_time": "2022-01-13T11:01:57.453Z"
   },
   {
    "duration": 9,
    "start_time": "2022-01-13T11:03:37.259Z"
   },
   {
    "duration": 1708,
    "start_time": "2022-01-13T11:08:35.571Z"
   },
   {
    "duration": 1708,
    "start_time": "2022-01-13T11:08:45.223Z"
   },
   {
    "duration": 1713,
    "start_time": "2022-01-13T11:08:48.847Z"
   },
   {
    "duration": 1725,
    "start_time": "2022-01-13T11:09:22.362Z"
   },
   {
    "duration": 1828,
    "start_time": "2022-01-13T11:09:55.780Z"
   },
   {
    "duration": 2335,
    "start_time": "2022-01-13T11:10:26.590Z"
   },
   {
    "duration": 1763,
    "start_time": "2022-01-13T11:11:42.485Z"
   },
   {
    "duration": 1754,
    "start_time": "2022-01-13T11:12:25.098Z"
   },
   {
    "duration": 1585,
    "start_time": "2022-01-13T11:13:30.573Z"
   },
   {
    "duration": 1921,
    "start_time": "2022-01-13T11:13:41.952Z"
   },
   {
    "duration": 1767,
    "start_time": "2022-01-13T11:14:09.626Z"
   },
   {
    "duration": 1707,
    "start_time": "2022-01-13T11:14:47.425Z"
   },
   {
    "duration": 1809,
    "start_time": "2022-01-13T11:15:36.794Z"
   },
   {
    "duration": 1743,
    "start_time": "2022-01-13T11:15:40.231Z"
   },
   {
    "duration": 1796,
    "start_time": "2022-01-13T11:16:48.326Z"
   },
   {
    "duration": 1829,
    "start_time": "2022-01-13T11:17:25.738Z"
   },
   {
    "duration": 1892,
    "start_time": "2022-01-13T11:17:41.573Z"
   },
   {
    "duration": 2023,
    "start_time": "2022-01-13T11:19:04.363Z"
   },
   {
    "duration": 2036,
    "start_time": "2022-01-13T11:19:27.472Z"
   },
   {
    "duration": 2146,
    "start_time": "2022-01-13T11:19:31.363Z"
   },
   {
    "duration": 1840,
    "start_time": "2022-01-13T11:19:43.542Z"
   },
   {
    "duration": 1809,
    "start_time": "2022-01-13T11:19:56.057Z"
   },
   {
    "duration": 1951,
    "start_time": "2022-01-13T11:20:30.190Z"
   },
   {
    "duration": 1991,
    "start_time": "2022-01-13T11:20:39.993Z"
   },
   {
    "duration": 2232,
    "start_time": "2022-01-13T11:20:57.364Z"
   },
   {
    "duration": 1877,
    "start_time": "2022-01-13T11:21:06.765Z"
   },
   {
    "duration": 7653,
    "start_time": "2022-01-13T11:22:51.033Z"
   },
   {
    "duration": 7815,
    "start_time": "2022-01-13T11:23:47.734Z"
   },
   {
    "duration": 7875,
    "start_time": "2022-01-13T11:24:06.230Z"
   },
   {
    "duration": 7453,
    "start_time": "2022-01-13T11:24:21.504Z"
   },
   {
    "duration": 2267,
    "start_time": "2022-01-13T11:26:51.205Z"
   },
   {
    "duration": 7838,
    "start_time": "2022-01-13T11:27:18.338Z"
   },
   {
    "duration": 7903,
    "start_time": "2022-01-13T11:27:44.113Z"
   },
   {
    "duration": 7539,
    "start_time": "2022-01-13T11:28:24.140Z"
   },
   {
    "duration": 8020,
    "start_time": "2022-01-13T11:28:41.593Z"
   },
   {
    "duration": 8391,
    "start_time": "2022-01-13T11:30:11.721Z"
   },
   {
    "duration": 2342,
    "start_time": "2022-01-13T11:30:28.872Z"
   },
   {
    "duration": 7601,
    "start_time": "2022-01-13T11:30:32.861Z"
   },
   {
    "duration": 7546,
    "start_time": "2022-01-13T11:31:19.243Z"
   },
   {
    "duration": 7550,
    "start_time": "2022-01-13T11:32:23.239Z"
   },
   {
    "duration": 2369,
    "start_time": "2022-01-13T11:33:13.360Z"
   },
   {
    "duration": 2484,
    "start_time": "2022-01-13T11:33:30.992Z"
   },
   {
    "duration": 9331,
    "start_time": "2022-01-13T11:33:40.899Z"
   },
   {
    "duration": 36644,
    "start_time": "2022-01-13T11:35:58.730Z"
   },
   {
    "duration": 26237,
    "start_time": "2022-01-13T11:36:41.028Z"
   },
   {
    "duration": 4148,
    "start_time": "2022-01-13T11:37:30.303Z"
   },
   {
    "duration": 6110,
    "start_time": "2022-01-13T11:38:24.219Z"
   },
   {
    "duration": 9280,
    "start_time": "2022-01-13T11:39:07.201Z"
   },
   {
    "duration": 9850,
    "start_time": "2022-01-13T11:39:30.265Z"
   },
   {
    "duration": 10166,
    "start_time": "2022-01-13T11:40:04.772Z"
   },
   {
    "duration": 7481,
    "start_time": "2022-01-13T11:40:47.922Z"
   },
   {
    "duration": 5886,
    "start_time": "2022-01-13T11:41:09.940Z"
   },
   {
    "duration": 10566,
    "start_time": "2022-01-13T11:41:28.063Z"
   },
   {
    "duration": 10502,
    "start_time": "2022-01-13T11:41:58.968Z"
   },
   {
    "duration": 7502,
    "start_time": "2022-01-13T11:42:17.978Z"
   },
   {
    "duration": 7346,
    "start_time": "2022-01-13T11:42:42.302Z"
   },
   {
    "duration": 8424,
    "start_time": "2022-01-13T11:43:44.808Z"
   },
   {
    "duration": 12440,
    "start_time": "2022-01-13T11:44:04.124Z"
   },
   {
    "duration": 10964,
    "start_time": "2022-01-13T11:44:23.155Z"
   },
   {
    "duration": 137,
    "start_time": "2022-01-13T11:48:05.359Z"
   },
   {
    "duration": 8595,
    "start_time": "2022-01-13T11:48:09.238Z"
   },
   {
    "duration": 5850,
    "start_time": "2022-01-13T11:48:43.799Z"
   },
   {
    "duration": 8648,
    "start_time": "2022-01-13T11:50:31.737Z"
   },
   {
    "duration": 4013,
    "start_time": "2022-01-13T11:51:55.120Z"
   },
   {
    "duration": 4310,
    "start_time": "2022-01-13T11:52:10.562Z"
   },
   {
    "duration": 4900,
    "start_time": "2022-01-13T11:52:23.469Z"
   },
   {
    "duration": 5133,
    "start_time": "2022-01-13T11:53:11.040Z"
   },
   {
    "duration": 4936,
    "start_time": "2022-01-13T11:53:23.275Z"
   },
   {
    "duration": 4837,
    "start_time": "2022-01-13T11:53:47.575Z"
   },
   {
    "duration": 5095,
    "start_time": "2022-01-13T11:54:38.634Z"
   },
   {
    "duration": 3843,
    "start_time": "2022-01-13T11:54:57.157Z"
   },
   {
    "duration": 3574,
    "start_time": "2022-01-13T11:55:24.616Z"
   },
   {
    "duration": 4085,
    "start_time": "2022-01-13T11:55:35.095Z"
   },
   {
    "duration": 5073,
    "start_time": "2022-01-13T11:57:07.551Z"
   },
   {
    "duration": 5094,
    "start_time": "2022-01-13T11:58:09.812Z"
   },
   {
    "duration": 134,
    "start_time": "2022-01-13T11:58:56.148Z"
   },
   {
    "duration": 4891,
    "start_time": "2022-01-13T11:59:04.465Z"
   },
   {
    "duration": 1641,
    "start_time": "2022-01-13T16:03:41.179Z"
   },
   {
    "duration": 1628,
    "start_time": "2022-01-13T16:03:41.194Z"
   },
   {
    "duration": 3,
    "start_time": "2022-01-13T16:03:48.730Z"
   },
   {
    "duration": 224,
    "start_time": "2022-01-13T16:04:00.097Z"
   },
   {
    "duration": 19804,
    "start_time": "2022-01-13T16:05:50.525Z"
   },
   {
    "duration": 1036,
    "start_time": "2022-01-13T16:06:41.217Z"
   },
   {
    "duration": 4,
    "start_time": "2022-01-13T16:06:53.320Z"
   },
   {
    "duration": 7834,
    "start_time": "2022-01-13T16:07:20.154Z"
   },
   {
    "duration": 4,
    "start_time": "2022-01-13T16:08:52.893Z"
   },
   {
    "duration": 4,
    "start_time": "2022-01-13T16:08:57.325Z"
   },
   {
    "duration": 47,
    "start_time": "2022-01-13T16:08:59.617Z"
   },
   {
    "duration": 282,
    "start_time": "2022-01-13T16:09:03.510Z"
   },
   {
    "duration": 22390,
    "start_time": "2022-01-13T16:09:12.711Z"
   },
   {
    "duration": 3,
    "start_time": "2022-01-13T16:09:35.103Z"
   },
   {
    "duration": 1097,
    "start_time": "2022-01-13T16:09:42.286Z"
   },
   {
    "duration": 43,
    "start_time": "2022-01-13T16:09:46.348Z"
   },
   {
    "duration": 265,
    "start_time": "2022-01-13T16:09:49.580Z"
   },
   {
    "duration": 359,
    "start_time": "2022-01-13T16:09:53.009Z"
   },
   {
    "duration": 382,
    "start_time": "2022-01-13T16:09:56.059Z"
   },
   {
    "duration": 256,
    "start_time": "2022-01-13T16:09:58.300Z"
   },
   {
    "duration": 9,
    "start_time": "2022-01-13T16:10:01.564Z"
   },
   {
    "duration": 359,
    "start_time": "2022-01-13T16:10:03.253Z"
   },
   {
    "duration": 179,
    "start_time": "2022-01-13T16:10:06.218Z"
   },
   {
    "duration": 9,
    "start_time": "2022-01-13T16:10:08.961Z"
   },
   {
    "duration": 363,
    "start_time": "2022-01-13T16:10:17.196Z"
   },
   {
    "duration": 204,
    "start_time": "2022-01-13T16:10:19.998Z"
   },
   {
    "duration": 7,
    "start_time": "2022-01-13T16:10:39.207Z"
   },
   {
    "duration": 2696,
    "start_time": "2022-01-13T16:10:43.989Z"
   },
   {
    "duration": 4,
    "start_time": "2022-01-13T16:12:05.413Z"
   },
   {
    "duration": 4,
    "start_time": "2022-01-13T16:19:40.220Z"
   },
   {
    "duration": 4,
    "start_time": "2022-01-13T16:19:52.542Z"
   },
   {
    "duration": 4,
    "start_time": "2022-01-13T16:20:16.943Z"
   },
   {
    "duration": 310,
    "start_time": "2022-01-13T16:21:22.567Z"
   },
   {
    "duration": 193,
    "start_time": "2022-01-13T16:22:06.204Z"
   },
   {
    "duration": 6,
    "start_time": "2022-01-13T16:23:43.395Z"
   },
   {
    "duration": 13,
    "start_time": "2022-01-13T16:24:00.010Z"
   },
   {
    "duration": 211,
    "start_time": "2022-01-13T16:25:39.236Z"
   },
   {
    "duration": 256,
    "start_time": "2022-01-13T16:25:47.582Z"
   },
   {
    "duration": 3,
    "start_time": "2022-01-13T16:26:08.643Z"
   },
   {
    "duration": 41,
    "start_time": "2022-01-13T16:26:17.551Z"
   },
   {
    "duration": 6,
    "start_time": "2022-01-13T16:33:13.727Z"
   },
   {
    "duration": 3,
    "start_time": "2022-01-13T16:35:17.483Z"
   },
   {
    "duration": 2459,
    "start_time": "2022-01-13T16:36:06.881Z"
   },
   {
    "duration": 2032,
    "start_time": "2022-01-13T16:36:24.722Z"
   },
   {
    "duration": 2007,
    "start_time": "2022-01-13T16:36:50.039Z"
   },
   {
    "duration": 2253,
    "start_time": "2022-01-13T16:37:38.073Z"
   },
   {
    "duration": 247,
    "start_time": "2022-01-13T16:37:49.239Z"
   },
   {
    "duration": 208,
    "start_time": "2022-01-13T16:39:39.551Z"
   },
   {
    "duration": 58,
    "start_time": "2022-01-13T16:43:31.793Z"
   },
   {
    "duration": 74,
    "start_time": "2022-01-13T16:43:41.885Z"
   },
   {
    "duration": 774,
    "start_time": "2022-01-13T16:43:45.129Z"
   },
   {
    "duration": 196,
    "start_time": "2022-01-13T16:44:09.140Z"
   },
   {
    "duration": 203,
    "start_time": "2022-01-13T16:44:13.665Z"
   },
   {
    "duration": 226,
    "start_time": "2022-01-13T16:44:44.632Z"
   },
   {
    "duration": 3,
    "start_time": "2022-01-13T16:44:52.924Z"
   },
   {
    "duration": 239,
    "start_time": "2022-01-13T16:45:28.761Z"
   },
   {
    "duration": 204,
    "start_time": "2022-01-13T16:45:32.997Z"
   },
   {
    "duration": 4,
    "start_time": "2022-01-13T16:45:58.552Z"
   },
   {
    "duration": 1008,
    "start_time": "2022-01-13T16:46:33.547Z"
   },
   {
    "duration": 193,
    "start_time": "2022-01-13T16:46:51.609Z"
   },
   {
    "duration": 194,
    "start_time": "2022-01-13T16:47:04.937Z"
   },
   {
    "duration": 224,
    "start_time": "2022-01-13T16:47:14.663Z"
   },
   {
    "duration": 487,
    "start_time": "2022-01-13T16:47:45.571Z"
   },
   {
    "duration": 698,
    "start_time": "2022-01-13T16:48:20.407Z"
   },
   {
    "duration": 490,
    "start_time": "2022-01-13T16:48:34.530Z"
   },
   {
    "duration": 474,
    "start_time": "2022-01-13T16:48:53.752Z"
   },
   {
    "duration": 194,
    "start_time": "2022-01-13T16:50:17.050Z"
   },
   {
    "duration": 3144,
    "start_time": "2022-01-13T16:50:56.123Z"
   },
   {
    "duration": 45579,
    "start_time": "2022-01-13T16:51:18.750Z"
   },
   {
    "duration": 563,
    "start_time": "2022-01-13T16:53:29.046Z"
   },
   {
    "duration": 27489,
    "start_time": "2022-01-13T16:53:58.549Z"
   },
   {
    "duration": 27170,
    "start_time": "2022-01-13T16:54:47.770Z"
   },
   {
    "duration": 28364,
    "start_time": "2022-01-13T16:56:21.572Z"
   },
   {
    "duration": 277,
    "start_time": "2022-01-13T16:57:48.359Z"
   },
   {
    "duration": 31107,
    "start_time": "2022-01-13T16:57:53.132Z"
   },
   {
    "duration": 210,
    "start_time": "2022-01-13T16:58:39.701Z"
   },
   {
    "duration": 28597,
    "start_time": "2022-01-13T16:58:44.979Z"
   },
   {
    "duration": 45,
    "start_time": "2022-01-13T17:02:31.738Z"
   },
   {
    "duration": 45,
    "start_time": "2022-01-13T17:02:40.447Z"
   },
   {
    "duration": 48,
    "start_time": "2022-01-13T17:03:00.676Z"
   },
   {
    "duration": 233,
    "start_time": "2022-01-13T17:03:11.303Z"
   },
   {
    "duration": 47,
    "start_time": "2022-01-13T17:03:25.080Z"
   },
   {
    "duration": 239,
    "start_time": "2022-01-13T17:04:00.761Z"
   },
   {
    "duration": 45,
    "start_time": "2022-01-13T17:04:13.126Z"
   },
   {
    "duration": 230,
    "start_time": "2022-01-13T17:05:28.433Z"
   },
   {
    "duration": 4,
    "start_time": "2022-01-13T17:05:45.737Z"
   },
   {
    "duration": 246,
    "start_time": "2022-01-13T17:05:52.776Z"
   },
   {
    "duration": 45,
    "start_time": "2022-01-13T17:06:15.560Z"
   },
   {
    "duration": 47,
    "start_time": "2022-01-13T17:06:20.914Z"
   },
   {
    "duration": 45,
    "start_time": "2022-01-13T17:07:37.591Z"
   },
   {
    "duration": 47,
    "start_time": "2022-01-13T17:07:54.250Z"
   },
   {
    "duration": 50,
    "start_time": "2022-01-13T17:11:38.451Z"
   },
   {
    "duration": 53,
    "start_time": "2022-01-13T17:11:41.925Z"
   },
   {
    "duration": 7261,
    "start_time": "2022-01-13T17:22:27.004Z"
   },
   {
    "duration": 1086,
    "start_time": "2022-01-13T17:22:34.267Z"
   },
   {
    "duration": 46,
    "start_time": "2022-01-13T17:22:35.355Z"
   },
   {
    "duration": 276,
    "start_time": "2022-01-13T17:22:35.403Z"
   },
   {
    "duration": 357,
    "start_time": "2022-01-13T17:22:35.681Z"
   },
   {
    "duration": 377,
    "start_time": "2022-01-13T17:22:36.040Z"
   },
   {
    "duration": 209,
    "start_time": "2022-01-13T17:22:36.418Z"
   },
   {
    "duration": 9,
    "start_time": "2022-01-13T17:22:36.629Z"
   },
   {
    "duration": 365,
    "start_time": "2022-01-13T17:22:36.639Z"
   },
   {
    "duration": 192,
    "start_time": "2022-01-13T17:22:37.006Z"
   },
   {
    "duration": 14,
    "start_time": "2022-01-13T17:22:37.200Z"
   },
   {
    "duration": 422,
    "start_time": "2022-01-13T17:22:37.215Z"
   },
   {
    "duration": 201,
    "start_time": "2022-01-13T17:22:37.639Z"
   },
   {
    "duration": 6,
    "start_time": "2022-01-13T17:22:37.841Z"
   },
   {
    "duration": 2691,
    "start_time": "2022-01-13T17:22:37.848Z"
   },
   {
    "duration": 5,
    "start_time": "2022-01-13T17:22:40.541Z"
   },
   {
    "duration": 31489,
    "start_time": "2022-01-13T17:22:40.548Z"
   },
   {
    "duration": 75,
    "start_time": "2022-01-13T17:23:12.039Z"
   },
   {
    "duration": 4,
    "start_time": "2022-01-13T17:29:35.201Z"
   },
   {
    "duration": 49,
    "start_time": "2022-01-13T17:30:16.690Z"
   },
   {
    "duration": 278,
    "start_time": "2022-01-13T17:39:21.717Z"
   },
   {
    "duration": 3,
    "start_time": "2022-01-13T17:39:30.500Z"
   },
   {
    "duration": 18935,
    "start_time": "2022-01-13T17:39:45.899Z"
   },
   {
    "duration": 2301,
    "start_time": "2022-01-13T17:41:00.741Z"
   },
   {
    "duration": 395,
    "start_time": "2022-01-13T17:41:20.617Z"
   },
   {
    "duration": 272,
    "start_time": "2022-01-13T17:42:16.357Z"
   },
   {
    "duration": 293,
    "start_time": "2022-01-13T17:42:21.442Z"
   },
   {
    "duration": 332,
    "start_time": "2022-01-13T17:42:24.900Z"
   },
   {
    "duration": 736,
    "start_time": "2022-01-13T17:42:28.178Z"
   },
   {
    "duration": 326,
    "start_time": "2022-01-13T17:42:33.610Z"
   },
   {
    "duration": 472,
    "start_time": "2022-01-13T17:44:07.563Z"
   },
   {
    "duration": 251,
    "start_time": "2022-01-13T17:44:12.484Z"
   },
   {
    "duration": 76,
    "start_time": "2022-01-13T17:45:38.120Z"
   },
   {
    "duration": 197,
    "start_time": "2022-01-13T17:45:48.555Z"
   },
   {
    "duration": 6,
    "start_time": "2022-01-13T17:46:20.945Z"
   },
   {
    "duration": 196,
    "start_time": "2022-01-13T17:46:26.762Z"
   },
   {
    "duration": 8,
    "start_time": "2022-01-13T17:46:42.861Z"
   },
   {
    "duration": 7,
    "start_time": "2022-01-13T17:46:57.635Z"
   },
   {
    "duration": 8,
    "start_time": "2022-01-13T17:47:03.992Z"
   },
   {
    "duration": 318,
    "start_time": "2022-01-13T17:47:17.615Z"
   },
   {
    "duration": 8,
    "start_time": "2022-01-13T17:47:21.449Z"
   },
   {
    "duration": 8,
    "start_time": "2022-01-13T17:47:25.453Z"
   },
   {
    "duration": 12,
    "start_time": "2022-01-13T17:47:31.952Z"
   },
   {
    "duration": 7,
    "start_time": "2022-01-13T17:47:43.995Z"
   },
   {
    "duration": 229,
    "start_time": "2022-01-13T17:47:53.838Z"
   },
   {
    "duration": 7,
    "start_time": "2022-01-13T17:47:56.301Z"
   },
   {
    "duration": 187,
    "start_time": "2022-01-13T17:48:49.253Z"
   },
   {
    "duration": 4,
    "start_time": "2022-01-13T17:48:55.501Z"
   },
   {
    "duration": 243,
    "start_time": "2022-01-13T17:49:17.112Z"
   },
   {
    "duration": 11,
    "start_time": "2022-01-13T17:49:22.185Z"
   },
   {
    "duration": 11,
    "start_time": "2022-01-13T17:49:29.051Z"
   },
   {
    "duration": 14,
    "start_time": "2022-01-13T17:50:04.128Z"
   },
   {
    "duration": 75,
    "start_time": "2022-01-13T17:50:24.260Z"
   },
   {
    "duration": 17,
    "start_time": "2022-01-13T17:50:27.169Z"
   },
   {
    "duration": 592,
    "start_time": "2022-01-13T17:52:39.400Z"
   },
   {
    "duration": 9121,
    "start_time": "2022-01-13T19:32:54.009Z"
   },
   {
    "duration": 1675,
    "start_time": "2022-01-13T19:33:03.134Z"
   },
   {
    "duration": 75,
    "start_time": "2022-01-13T19:33:04.814Z"
   },
   {
    "duration": 489,
    "start_time": "2022-01-13T19:33:04.892Z"
   },
   {
    "duration": 567,
    "start_time": "2022-01-13T19:33:05.384Z"
   },
   {
    "duration": 800,
    "start_time": "2022-01-13T19:33:05.954Z"
   },
   {
    "duration": 375,
    "start_time": "2022-01-13T19:33:06.756Z"
   },
   {
    "duration": 16,
    "start_time": "2022-01-13T19:33:07.136Z"
   },
   {
    "duration": 679,
    "start_time": "2022-01-13T19:33:07.155Z"
   },
   {
    "duration": 341,
    "start_time": "2022-01-13T19:33:07.836Z"
   },
   {
    "duration": 25,
    "start_time": "2022-01-13T19:33:08.180Z"
   },
   {
    "duration": 737,
    "start_time": "2022-01-13T19:33:08.208Z"
   },
   {
    "duration": 388,
    "start_time": "2022-01-13T19:33:08.948Z"
   },
   {
    "duration": 8,
    "start_time": "2022-01-13T19:33:09.339Z"
   },
   {
    "duration": 4754,
    "start_time": "2022-01-13T19:33:09.350Z"
   },
   {
    "duration": 9,
    "start_time": "2022-01-13T19:33:14.106Z"
   },
   {
    "duration": 63283,
    "start_time": "2022-01-13T19:33:14.118Z"
   },
   {
    "duration": 114,
    "start_time": "2022-01-13T19:34:17.405Z"
   },
   {
    "duration": 1141,
    "start_time": "2022-01-13T19:34:17.522Z"
   },
   {
    "duration": 20,
    "start_time": "2022-01-13T19:34:18.666Z"
   },
   {
    "duration": 1562,
    "start_time": "2022-01-13T19:47:14.888Z"
   },
   {
    "duration": 7234,
    "start_time": "2022-01-13T19:47:29.370Z"
   },
   {
    "duration": 17,
    "start_time": "2022-01-13T19:47:43.646Z"
   },
   {
    "duration": 19,
    "start_time": "2022-01-13T19:47:54.015Z"
   },
   {
    "duration": 15195,
    "start_time": "2022-01-13T19:48:38.186Z"
   },
   {
    "duration": 1465,
    "start_time": "2022-01-13T19:52:11.104Z"
   },
   {
    "duration": 4035,
    "start_time": "2022-01-13T19:52:22.172Z"
   },
   {
    "duration": 786,
    "start_time": "2022-01-13T19:52:26.209Z"
   },
   {
    "duration": 99,
    "start_time": "2022-01-13T19:52:27.276Z"
   },
   {
    "duration": 767,
    "start_time": "2022-01-13T19:52:27.379Z"
   },
   {
    "duration": 587,
    "start_time": "2022-01-13T19:52:28.150Z"
   },
   {
    "duration": 715,
    "start_time": "2022-01-13T19:52:31.624Z"
   },
   {
    "duration": 575,
    "start_time": "2022-01-13T19:52:32.342Z"
   },
   {
    "duration": 16,
    "start_time": "2022-01-13T19:52:32.921Z"
   },
   {
    "duration": 739,
    "start_time": "2022-01-13T19:52:32.941Z"
   },
   {
    "duration": 443,
    "start_time": "2022-01-13T19:52:33.682Z"
   },
   {
    "duration": 24,
    "start_time": "2022-01-13T19:52:34.128Z"
   },
   {
    "duration": 700,
    "start_time": "2022-01-13T19:52:34.154Z"
   },
   {
    "duration": 367,
    "start_time": "2022-01-13T19:52:34.857Z"
   },
   {
    "duration": 11,
    "start_time": "2022-01-13T19:52:35.229Z"
   },
   {
    "duration": 7845,
    "start_time": "2022-01-13T19:52:35.242Z"
   },
   {
    "duration": 9,
    "start_time": "2022-01-13T19:52:43.102Z"
   },
   {
    "duration": 66910,
    "start_time": "2022-01-13T19:52:43.113Z"
   },
   {
    "duration": 111,
    "start_time": "2022-01-13T19:53:50.026Z"
   },
   {
    "duration": 44069,
    "start_time": "2022-01-13T19:53:50.139Z"
   },
   {
    "duration": 20,
    "start_time": "2022-01-13T19:54:34.210Z"
   },
   {
    "duration": 24,
    "start_time": "2022-01-13T19:55:23.269Z"
   },
   {
    "duration": 1422,
    "start_time": "2022-01-13T19:55:37.349Z"
   },
   {
    "duration": 21,
    "start_time": "2022-01-13T19:55:52.110Z"
   },
   {
    "duration": 1277,
    "start_time": "2022-01-13T19:56:52.162Z"
   },
   {
    "duration": 1303,
    "start_time": "2022-01-13T19:57:11.682Z"
   },
   {
    "duration": 1272,
    "start_time": "2022-01-13T19:57:32.000Z"
   },
   {
    "duration": 1285,
    "start_time": "2022-01-13T19:57:45.927Z"
   },
   {
    "duration": 20,
    "start_time": "2022-01-13T19:58:00.238Z"
   },
   {
    "duration": 7,
    "start_time": "2022-01-13T19:58:40.645Z"
   },
   {
    "duration": 1347,
    "start_time": "2022-01-13T20:00:01.163Z"
   },
   {
    "duration": 18,
    "start_time": "2022-01-13T20:00:11.489Z"
   },
   {
    "duration": 1336,
    "start_time": "2022-01-13T20:00:16.824Z"
   },
   {
    "duration": 1243,
    "start_time": "2022-01-13T20:00:23.112Z"
   },
   {
    "duration": 1253,
    "start_time": "2022-01-13T20:00:28.062Z"
   },
   {
    "duration": 1307,
    "start_time": "2022-01-13T20:00:33.885Z"
   },
   {
    "duration": 1289,
    "start_time": "2022-01-13T20:00:45.849Z"
   },
   {
    "duration": 20,
    "start_time": "2022-01-13T20:01:02.047Z"
   },
   {
    "duration": 27,
    "start_time": "2022-01-13T20:01:08.661Z"
   },
   {
    "duration": 27,
    "start_time": "2022-01-13T20:01:14.897Z"
   },
   {
    "duration": 1938,
    "start_time": "2022-01-13T20:01:22.806Z"
   },
   {
    "duration": 25,
    "start_time": "2022-01-13T20:01:31.089Z"
   },
   {
    "duration": 19,
    "start_time": "2022-01-13T20:01:38.387Z"
   },
   {
    "duration": 20,
    "start_time": "2022-01-13T20:01:44.930Z"
   },
   {
    "duration": 21,
    "start_time": "2022-01-13T20:01:48.420Z"
   },
   {
    "duration": 20,
    "start_time": "2022-01-13T20:01:52.995Z"
   },
   {
    "duration": 20,
    "start_time": "2022-01-13T20:01:56.004Z"
   },
   {
    "duration": 29,
    "start_time": "2022-01-13T20:01:59.420Z"
   },
   {
    "duration": 3286,
    "start_time": "2022-01-13T20:02:16.232Z"
   },
   {
    "duration": 2840,
    "start_time": "2022-01-13T20:02:35.797Z"
   },
   {
    "duration": 16,
    "start_time": "2022-01-13T20:02:52.435Z"
   },
   {
    "duration": 2621,
    "start_time": "2022-01-13T20:03:02.966Z"
   },
   {
    "duration": 1928,
    "start_time": "2022-01-13T20:03:12.042Z"
   },
   {
    "duration": 20,
    "start_time": "2022-01-13T20:03:19.972Z"
   },
   {
    "duration": 1768,
    "start_time": "2022-01-13T20:03:27.116Z"
   },
   {
    "duration": 1321,
    "start_time": "2022-01-13T20:03:35.838Z"
   },
   {
    "duration": 20,
    "start_time": "2022-01-13T20:03:42.974Z"
   },
   {
    "duration": 1427,
    "start_time": "2022-01-13T20:03:48.617Z"
   },
   {
    "duration": 20,
    "start_time": "2022-01-13T20:04:01.465Z"
   },
   {
    "duration": 32,
    "start_time": "2022-01-13T20:05:49.105Z"
   },
   {
    "duration": 35,
    "start_time": "2022-01-13T20:05:57.906Z"
   },
   {
    "duration": 33,
    "start_time": "2022-01-13T20:06:35.060Z"
   },
   {
    "duration": 33,
    "start_time": "2022-01-13T20:06:45.699Z"
   },
   {
    "duration": 32,
    "start_time": "2022-01-13T20:06:55.189Z"
   },
   {
    "duration": 32,
    "start_time": "2022-01-13T20:07:07.524Z"
   },
   {
    "duration": 1547,
    "start_time": "2022-01-13T20:07:20.766Z"
   },
   {
    "duration": 1339,
    "start_time": "2022-01-13T20:07:30.466Z"
   },
   {
    "duration": 31,
    "start_time": "2022-01-13T20:07:44.315Z"
   },
   {
    "duration": 1682,
    "start_time": "2022-01-13T20:07:53.194Z"
   },
   {
    "duration": 1536,
    "start_time": "2022-01-13T20:08:01.712Z"
   },
   {
    "duration": 42,
    "start_time": "2022-01-13T20:08:11.706Z"
   },
   {
    "duration": 60998,
    "start_time": "2022-01-13T20:09:28.450Z"
   },
   {
    "duration": 4987,
    "start_time": "2022-01-13T20:12:10.574Z"
   },
   {
    "duration": 5565,
    "start_time": "2022-01-13T20:12:22.170Z"
   },
   {
    "duration": 5902,
    "start_time": "2022-01-13T20:12:53.842Z"
   },
   {
    "duration": 16696,
    "start_time": "2022-01-13T20:13:34.218Z"
   },
   {
    "duration": 225,
    "start_time": "2022-01-13T20:15:50.774Z"
   },
   {
    "duration": 249344,
    "start_time": "2022-01-13T20:21:50.320Z"
   },
   {
    "duration": 213872,
    "start_time": "2022-01-13T20:26:16.741Z"
   },
   {
    "duration": 23127,
    "start_time": "2022-01-13T20:29:54.190Z"
   },
   {
    "duration": 61549,
    "start_time": "2022-01-13T20:30:18.618Z"
   },
   {
    "duration": 184,
    "start_time": "2022-01-13T20:38:47.161Z"
   },
   {
    "duration": 147925,
    "start_time": "2022-01-13T20:39:55.759Z"
   },
   {
    "duration": 127,
    "start_time": "2022-01-13T20:44:18.957Z"
   },
   {
    "duration": -197,
    "start_time": "2022-01-13T20:52:32.851Z"
   },
   {
    "duration": 147862,
    "start_time": "2022-01-13T20:52:34.795Z"
   },
   {
    "duration": 7,
    "start_time": "2022-01-13T21:04:15.925Z"
   },
   {
    "duration": 18554,
    "start_time": "2022-01-13T21:11:15.721Z"
   },
   {
    "duration": 37681,
    "start_time": "2022-01-13T21:12:22.476Z"
   },
   {
    "duration": 422,
    "start_time": "2022-01-13T21:15:24.809Z"
   },
   {
    "duration": 423,
    "start_time": "2022-01-13T21:15:34.189Z"
   },
   {
    "duration": 26,
    "start_time": "2022-01-13T21:15:41.058Z"
   },
   {
    "duration": 27,
    "start_time": "2022-01-13T21:16:14.030Z"
   },
   {
    "duration": 692,
    "start_time": "2022-01-13T21:16:43.387Z"
   },
   {
    "duration": 256203,
    "start_time": "2022-01-13T21:16:54.255Z"
   },
   {
    "duration": 44,
    "start_time": "2022-01-13T21:21:22.686Z"
   },
   {
    "duration": 169,
    "start_time": "2022-01-13T21:21:38.425Z"
   },
   {
    "duration": 41,
    "start_time": "2022-01-13T21:21:45.613Z"
   },
   {
    "duration": 219,
    "start_time": "2022-01-13T21:22:56.318Z"
   },
   {
    "duration": 28035,
    "start_time": "2022-01-13T21:23:08.917Z"
   },
   {
    "duration": 986,
    "start_time": "2022-01-13T21:27:34.882Z"
   },
   {
    "duration": 348,
    "start_time": "2022-01-13T21:27:48.808Z"
   },
   {
    "duration": 5946,
    "start_time": "2022-01-13T21:28:02.242Z"
   },
   {
    "duration": 11036,
    "start_time": "2022-01-13T21:28:22.513Z"
   },
   {
    "duration": 1073,
    "start_time": "2022-01-13T21:28:42.207Z"
   },
   {
    "duration": 1491,
    "start_time": "2022-01-13T21:29:48.980Z"
   },
   {
    "duration": 1078,
    "start_time": "2022-01-13T21:30:27.784Z"
   },
   {
    "duration": 1527,
    "start_time": "2022-01-13T21:30:43.193Z"
   },
   {
    "duration": 1373,
    "start_time": "2022-01-13T21:31:09.469Z"
   },
   {
    "duration": 611,
    "start_time": "2022-01-13T21:31:50.891Z"
   },
   {
    "duration": 733,
    "start_time": "2022-01-13T21:31:58.356Z"
   },
   {
    "duration": 640,
    "start_time": "2022-01-13T21:32:11.278Z"
   },
   {
    "duration": 390,
    "start_time": "2022-01-13T21:32:39.942Z"
   },
   {
    "duration": 6080,
    "start_time": "2022-01-13T21:32:47.543Z"
   },
   {
    "duration": 1784,
    "start_time": "2022-01-13T21:33:02.184Z"
   },
   {
    "duration": 4746,
    "start_time": "2022-01-13T21:33:52.334Z"
   },
   {
    "duration": 4655,
    "start_time": "2022-01-13T21:34:09.326Z"
   },
   {
    "duration": 27440,
    "start_time": "2022-01-13T21:34:54.146Z"
   },
   {
    "duration": 26425,
    "start_time": "2022-01-13T21:35:39.915Z"
   },
   {
    "duration": 23729,
    "start_time": "2022-01-13T21:36:19.946Z"
   },
   {
    "duration": 9977,
    "start_time": "2022-01-13T21:36:51.799Z"
   },
   {
    "duration": 4361,
    "start_time": "2022-01-13T21:37:15.046Z"
   },
   {
    "duration": 209103,
    "start_time": "2022-01-13T21:38:26.635Z"
   },
   {
    "duration": 65,
    "start_time": "2022-01-13T21:43:04.203Z"
   },
   {
    "duration": 65,
    "start_time": "2022-01-13T21:43:08.945Z"
   },
   {
    "duration": 4254,
    "start_time": "2022-01-13T21:46:39.920Z"
   },
   {
    "duration": 2887,
    "start_time": "2022-01-13T21:47:04.691Z"
   },
   {
    "duration": 1443,
    "start_time": "2022-01-13T21:47:45.464Z"
   },
   {
    "duration": 402,
    "start_time": "2022-01-13T21:48:27.280Z"
   },
   {
    "duration": 4240,
    "start_time": "2022-01-13T21:48:44.188Z"
   },
   {
    "duration": 1115,
    "start_time": "2022-01-13T21:49:02.680Z"
   },
   {
    "duration": 1502,
    "start_time": "2022-01-13T21:49:17.298Z"
   },
   {
    "duration": 1133,
    "start_time": "2022-01-13T21:49:29.515Z"
   },
   {
    "duration": 1172,
    "start_time": "2022-01-13T21:51:46.360Z"
   },
   {
    "duration": 1224,
    "start_time": "2022-01-13T21:51:59.184Z"
   },
   {
    "duration": 1232,
    "start_time": "2022-01-13T21:53:37.394Z"
   },
   {
    "duration": 1255,
    "start_time": "2022-01-13T21:53:58.950Z"
   },
   {
    "duration": 1270,
    "start_time": "2022-01-13T21:54:32.435Z"
   },
   {
    "duration": 1259,
    "start_time": "2022-01-13T21:55:07.390Z"
   },
   {
    "duration": 1227,
    "start_time": "2022-01-13T21:55:21.772Z"
   },
   {
    "duration": 1420,
    "start_time": "2022-01-13T21:55:54.539Z"
   },
   {
    "duration": 7,
    "start_time": "2022-01-13T21:57:11.700Z"
   },
   {
    "duration": 134,
    "start_time": "2022-01-13T22:00:43.863Z"
   },
   {
    "duration": 2598,
    "start_time": "2022-01-13T22:00:52.172Z"
   },
   {
    "duration": 2631,
    "start_time": "2022-01-13T22:01:04.973Z"
   },
   {
    "duration": 3163,
    "start_time": "2022-01-13T22:01:29.179Z"
   },
   {
    "duration": 40,
    "start_time": "2022-01-13T22:01:47.505Z"
   },
   {
    "duration": 9270,
    "start_time": "2022-01-13T22:07:19.400Z"
   },
   {
    "duration": 9325,
    "start_time": "2022-01-13T22:07:37.816Z"
   },
   {
    "duration": 9871,
    "start_time": "2022-01-13T22:08:11.485Z"
   },
   {
    "duration": 15252,
    "start_time": "2022-01-13T22:08:36.072Z"
   },
   {
    "duration": 9773,
    "start_time": "2022-01-13T22:09:36.668Z"
   },
   {
    "duration": 9685,
    "start_time": "2022-01-13T22:10:06.684Z"
   },
   {
    "duration": 31808,
    "start_time": "2022-01-13T22:10:29.492Z"
   },
   {
    "duration": 223,
    "start_time": "2022-01-13T22:11:16.889Z"
   },
   {
    "duration": 9779,
    "start_time": "2022-01-13T22:11:31.605Z"
   },
   {
    "duration": 5075,
    "start_time": "2022-01-14T10:55:52.433Z"
   },
   {
    "duration": 1531,
    "start_time": "2022-01-14T10:55:57.511Z"
   },
   {
    "duration": 71,
    "start_time": "2022-01-14T10:55:59.044Z"
   },
   {
    "duration": 610,
    "start_time": "2022-01-14T10:55:59.118Z"
   },
   {
    "duration": 547,
    "start_time": "2022-01-14T10:55:59.731Z"
   },
   {
    "duration": 690,
    "start_time": "2022-01-14T10:56:00.280Z"
   },
   {
    "duration": 400,
    "start_time": "2022-01-14T10:56:00.973Z"
   },
   {
    "duration": 14,
    "start_time": "2022-01-14T10:56:01.378Z"
   },
   {
    "duration": 680,
    "start_time": "2022-01-14T10:56:01.396Z"
   },
   {
    "duration": 346,
    "start_time": "2022-01-14T10:56:02.078Z"
   },
   {
    "duration": 17,
    "start_time": "2022-01-14T10:56:02.427Z"
   },
   {
    "duration": 747,
    "start_time": "2022-01-14T10:56:02.447Z"
   },
   {
    "duration": 354,
    "start_time": "2022-01-14T10:56:03.197Z"
   },
   {
    "duration": 14,
    "start_time": "2022-01-14T10:56:03.554Z"
   },
   {
    "duration": 5105,
    "start_time": "2022-01-14T10:56:03.570Z"
   },
   {
    "duration": 11,
    "start_time": "2022-01-14T10:56:08.678Z"
   },
   {
    "duration": 14017,
    "start_time": "2022-01-14T10:56:08.692Z"
   },
   {
    "duration": 16689,
    "start_time": "2022-01-14T10:56:22.713Z"
   },
   {
    "duration": 295,
    "start_time": "2022-01-14T10:56:39.405Z"
   },
   {
    "duration": 2280,
    "start_time": "2022-01-14T10:56:39.703Z"
   },
   {
    "duration": 2912,
    "start_time": "2022-01-14T10:56:41.986Z"
   },
   {
    "duration": 43,
    "start_time": "2022-01-14T10:56:44.900Z"
   },
   {
    "duration": 3772,
    "start_time": "2022-01-14T10:56:44.966Z"
   },
   {
    "duration": 1268,
    "start_time": "2022-01-14T10:56:48.741Z"
   },
   {
    "duration": 202769,
    "start_time": "2022-01-14T10:56:50.011Z"
   },
   {
    "duration": 66,
    "start_time": "2022-01-14T11:00:12.783Z"
   },
   {
    "duration": 274,
    "start_time": "2022-01-14T11:00:12.864Z"
   },
   {
    "duration": 10724,
    "start_time": "2022-01-14T11:00:13.141Z"
   },
   {
    "duration": 104,
    "start_time": "2022-01-14T11:01:54.148Z"
   },
   {
    "duration": 9679,
    "start_time": "2022-01-14T11:01:58.436Z"
   },
   {
    "duration": 9256,
    "start_time": "2022-01-14T11:03:11.540Z"
   },
   {
    "duration": 107,
    "start_time": "2022-01-14T11:08:47.151Z"
   },
   {
    "duration": 10092,
    "start_time": "2022-01-14T11:08:53.772Z"
   },
   {
    "duration": 10083,
    "start_time": "2022-01-14T11:09:41.359Z"
   },
   {
    "duration": 9955,
    "start_time": "2022-01-14T11:10:34.972Z"
   },
   {
    "duration": 9011,
    "start_time": "2022-01-14T11:11:04.598Z"
   },
   {
    "duration": 9390,
    "start_time": "2022-01-14T11:16:04.422Z"
   },
   {
    "duration": 9954,
    "start_time": "2022-01-14T11:16:47.742Z"
   },
   {
    "duration": 4,
    "start_time": "2022-01-14T11:17:37.770Z"
   },
   {
    "duration": 12318,
    "start_time": "2022-01-14T11:18:14.196Z"
   },
   {
    "duration": 9715,
    "start_time": "2022-01-14T11:18:50.777Z"
   },
   {
    "duration": 9958,
    "start_time": "2022-01-14T11:19:22.075Z"
   },
   {
    "duration": 10024,
    "start_time": "2022-01-14T11:20:04.469Z"
   },
   {
    "duration": 9650,
    "start_time": "2022-01-14T11:20:32.740Z"
   },
   {
    "duration": 9510,
    "start_time": "2022-01-14T11:21:43.280Z"
   },
   {
    "duration": 394,
    "start_time": "2022-01-14T11:22:07.416Z"
   },
   {
    "duration": 318,
    "start_time": "2022-01-14T11:23:06.816Z"
   },
   {
    "duration": 327,
    "start_time": "2022-01-14T11:23:23.538Z"
   },
   {
    "duration": 468,
    "start_time": "2022-01-14T11:23:51.671Z"
   },
   {
    "duration": 489,
    "start_time": "2022-01-14T11:24:16.629Z"
   },
   {
    "duration": 218,
    "start_time": "2022-01-14T11:25:03.773Z"
   },
   {
    "duration": 261,
    "start_time": "2022-01-14T11:25:19.189Z"
   },
   {
    "duration": 236,
    "start_time": "2022-01-14T11:26:04.842Z"
   },
   {
    "duration": 376,
    "start_time": "2022-01-14T11:26:16.362Z"
   },
   {
    "duration": 337,
    "start_time": "2022-01-14T11:26:40.343Z"
   },
   {
    "duration": 417,
    "start_time": "2022-01-14T11:27:00.964Z"
   },
   {
    "duration": 347,
    "start_time": "2022-01-14T11:27:04.452Z"
   },
   {
    "duration": 329,
    "start_time": "2022-01-14T11:27:49.067Z"
   },
   {
    "duration": 345,
    "start_time": "2022-01-14T11:28:02.555Z"
   },
   {
    "duration": 337,
    "start_time": "2022-01-14T11:28:06.028Z"
   },
   {
    "duration": 320,
    "start_time": "2022-01-14T11:28:19.773Z"
   },
   {
    "duration": 321,
    "start_time": "2022-01-14T11:28:26.506Z"
   },
   {
    "duration": 477,
    "start_time": "2022-01-14T11:28:31.563Z"
   },
   {
    "duration": 635,
    "start_time": "2022-01-14T11:28:54.256Z"
   },
   {
    "duration": 666,
    "start_time": "2022-01-14T11:29:24.938Z"
   },
   {
    "duration": 316,
    "start_time": "2022-01-14T11:29:31.572Z"
   },
   {
    "duration": 372,
    "start_time": "2022-01-14T11:30:34.642Z"
   },
   {
    "duration": 528,
    "start_time": "2022-01-14T11:30:47.738Z"
   },
   {
    "duration": 510,
    "start_time": "2022-01-14T11:31:57.371Z"
   },
   {
    "duration": 534,
    "start_time": "2022-01-14T11:32:08.039Z"
   },
   {
    "duration": 3628,
    "start_time": "2022-01-14T11:32:45.811Z"
   },
   {
    "duration": 1601,
    "start_time": "2022-01-14T11:32:49.442Z"
   },
   {
    "duration": 72,
    "start_time": "2022-01-14T11:32:51.045Z"
   },
   {
    "duration": 488,
    "start_time": "2022-01-14T11:32:51.120Z"
   },
   {
    "duration": 529,
    "start_time": "2022-01-14T11:32:51.611Z"
   },
   {
    "duration": 770,
    "start_time": "2022-01-14T11:32:52.143Z"
   },
   {
    "duration": 371,
    "start_time": "2022-01-14T11:32:52.917Z"
   },
   {
    "duration": 17,
    "start_time": "2022-01-14T11:32:53.291Z"
   },
   {
    "duration": 659,
    "start_time": "2022-01-14T11:32:53.311Z"
   },
   {
    "duration": 432,
    "start_time": "2022-01-14T11:32:53.973Z"
   },
   {
    "duration": 19,
    "start_time": "2022-01-14T11:32:54.408Z"
   },
   {
    "duration": 799,
    "start_time": "2022-01-14T11:32:54.430Z"
   },
   {
    "duration": 372,
    "start_time": "2022-01-14T11:32:55.233Z"
   },
   {
    "duration": 11,
    "start_time": "2022-01-14T11:32:55.608Z"
   },
   {
    "duration": 5272,
    "start_time": "2022-01-14T11:32:55.621Z"
   },
   {
    "duration": 9,
    "start_time": "2022-01-14T11:33:00.896Z"
   },
   {
    "duration": 9644,
    "start_time": "2022-01-14T11:33:00.907Z"
   },
   {
    "duration": 509,
    "start_time": "2022-01-14T11:33:10.553Z"
   },
   {
    "duration": 15716,
    "start_time": "2022-01-14T11:33:11.066Z"
   },
   {
    "duration": 251,
    "start_time": "2022-01-14T11:33:26.784Z"
   },
   {
    "duration": 2227,
    "start_time": "2022-01-14T11:33:27.038Z"
   },
   {
    "duration": 3067,
    "start_time": "2022-01-14T11:33:29.268Z"
   },
   {
    "duration": 45,
    "start_time": "2022-01-14T11:33:32.338Z"
   },
   {
    "duration": 3672,
    "start_time": "2022-01-14T11:33:32.386Z"
   },
   {
    "duration": 1253,
    "start_time": "2022-01-14T11:33:36.067Z"
   },
   {
    "duration": 103550,
    "start_time": "2022-01-14T11:33:37.323Z"
   },
   {
    "duration": 32,
    "start_time": "2022-01-14T11:35:20.844Z"
   },
   {
    "duration": 26,
    "start_time": "2022-01-14T11:35:20.852Z"
   },
   {
    "duration": 22,
    "start_time": "2022-01-14T11:35:20.858Z"
   },
   {
    "duration": 609,
    "start_time": "2022-01-14T11:35:24.489Z"
   },
   {
    "duration": 573,
    "start_time": "2022-01-14T11:35:57.612Z"
   },
   {
    "duration": 945,
    "start_time": "2022-01-14T11:36:08.388Z"
   },
   {
    "duration": 710,
    "start_time": "2022-01-14T11:36:15.808Z"
   },
   {
    "duration": 666,
    "start_time": "2022-01-14T11:36:22.978Z"
   },
   {
    "duration": 9849,
    "start_time": "2022-01-14T11:36:43.636Z"
   },
   {
    "duration": 10968,
    "start_time": "2022-01-14T11:37:32.945Z"
   },
   {
    "duration": 12037,
    "start_time": "2022-01-14T11:42:57.041Z"
   },
   {
    "duration": 345,
    "start_time": "2022-01-14T11:43:09.082Z"
   },
   {
    "duration": 9959,
    "start_time": "2022-01-14T11:44:52.871Z"
   },
   {
    "duration": 422,
    "start_time": "2022-01-14T11:45:49.238Z"
   },
   {
    "duration": 230,
    "start_time": "2022-01-14T11:46:43.128Z"
   },
   {
    "duration": 13223,
    "start_time": "2022-01-14T11:47:09.966Z"
   },
   {
    "duration": 3728,
    "start_time": "2022-01-14T11:48:16.132Z"
   },
   {
    "duration": 1538,
    "start_time": "2022-01-14T11:48:22.002Z"
   },
   {
    "duration": 74,
    "start_time": "2022-01-14T11:48:23.543Z"
   },
   {
    "duration": 486,
    "start_time": "2022-01-14T11:48:23.620Z"
   },
   {
    "duration": 524,
    "start_time": "2022-01-14T11:48:57.988Z"
   },
   {
    "duration": 665,
    "start_time": "2022-01-14T11:48:58.515Z"
   },
   {
    "duration": 372,
    "start_time": "2022-01-14T11:48:59.184Z"
   },
   {
    "duration": 15,
    "start_time": "2022-01-14T11:48:59.563Z"
   },
   {
    "duration": 668,
    "start_time": "2022-01-14T11:48:59.581Z"
   },
   {
    "duration": 348,
    "start_time": "2022-01-14T11:49:00.251Z"
   },
   {
    "duration": 16,
    "start_time": "2022-01-14T11:49:00.602Z"
   },
   {
    "duration": 773,
    "start_time": "2022-01-14T11:49:00.621Z"
   },
   {
    "duration": 360,
    "start_time": "2022-01-14T11:49:01.397Z"
   },
   {
    "duration": 10,
    "start_time": "2022-01-14T11:49:01.760Z"
   },
   {
    "duration": 4811,
    "start_time": "2022-01-14T11:49:01.773Z"
   },
   {
    "duration": 10,
    "start_time": "2022-01-14T11:49:06.587Z"
   },
   {
    "duration": 9989,
    "start_time": "2022-01-14T11:49:06.599Z"
   },
   {
    "duration": 16201,
    "start_time": "2022-01-14T11:49:16.591Z"
   },
   {
    "duration": 239,
    "start_time": "2022-01-14T11:49:32.794Z"
   },
   {
    "duration": 2371,
    "start_time": "2022-01-14T11:49:33.036Z"
   },
   {
    "duration": 2929,
    "start_time": "2022-01-14T11:49:35.410Z"
   },
   {
    "duration": 48,
    "start_time": "2022-01-14T11:49:38.341Z"
   },
   {
    "duration": 3804,
    "start_time": "2022-01-14T11:49:38.391Z"
   },
   {
    "duration": 1288,
    "start_time": "2022-01-14T11:49:42.198Z"
   },
   {
    "duration": 201375,
    "start_time": "2022-01-14T11:49:43.489Z"
   },
   {
    "duration": 66,
    "start_time": "2022-01-14T11:53:04.867Z"
   },
   {
    "duration": 255,
    "start_time": "2022-01-14T11:53:04.936Z"
   },
   {
    "duration": 105263,
    "start_time": "2022-01-14T15:23:13.221Z"
   },
   {
    "duration": 1201,
    "start_time": "2022-01-14T15:24:58.486Z"
   },
   {
    "duration": 50,
    "start_time": "2022-01-14T15:24:59.689Z"
   },
   {
    "duration": 364,
    "start_time": "2022-01-14T15:24:59.741Z"
   },
   {
    "duration": 435,
    "start_time": "2022-01-14T15:24:59.673Z"
   },
   {
    "duration": 425,
    "start_time": "2022-01-14T15:24:59.684Z"
   },
   {
    "duration": 415,
    "start_time": "2022-01-14T15:24:59.695Z"
   },
   {
    "duration": 405,
    "start_time": "2022-01-14T15:24:59.706Z"
   },
   {
    "duration": 399,
    "start_time": "2022-01-14T15:24:59.713Z"
   },
   {
    "duration": 394,
    "start_time": "2022-01-14T15:24:59.719Z"
   },
   {
    "duration": 385,
    "start_time": "2022-01-14T15:24:59.729Z"
   },
   {
    "duration": 382,
    "start_time": "2022-01-14T15:24:59.733Z"
   },
   {
    "duration": 375,
    "start_time": "2022-01-14T15:24:59.741Z"
   },
   {
    "duration": 368,
    "start_time": "2022-01-14T15:24:59.749Z"
   },
   {
    "duration": 363,
    "start_time": "2022-01-14T15:24:59.755Z"
   },
   {
    "duration": 355,
    "start_time": "2022-01-14T15:24:59.764Z"
   },
   {
    "duration": 350,
    "start_time": "2022-01-14T15:24:59.770Z"
   },
   {
    "duration": 338,
    "start_time": "2022-01-14T15:24:59.782Z"
   },
   {
    "duration": 333,
    "start_time": "2022-01-14T15:24:59.788Z"
   },
   {
    "duration": 325,
    "start_time": "2022-01-14T15:24:59.797Z"
   },
   {
    "duration": 320,
    "start_time": "2022-01-14T15:24:59.803Z"
   },
   {
    "duration": 312,
    "start_time": "2022-01-14T15:24:59.812Z"
   },
   {
    "duration": 305,
    "start_time": "2022-01-14T15:24:59.820Z"
   },
   {
    "duration": 294,
    "start_time": "2022-01-14T15:24:59.832Z"
   },
   {
    "duration": 286,
    "start_time": "2022-01-14T15:24:59.841Z"
   },
   {
    "duration": 279,
    "start_time": "2022-01-14T15:24:59.849Z"
   },
   {
    "duration": 270,
    "start_time": "2022-01-14T15:24:59.859Z"
   },
   {
    "duration": 2485,
    "start_time": "2022-01-14T20:49:55.127Z"
   },
   {
    "duration": 1150,
    "start_time": "2022-01-14T20:49:57.614Z"
   },
   {
    "duration": 47,
    "start_time": "2022-01-14T20:49:58.766Z"
   },
   {
    "duration": 255,
    "start_time": "2022-01-14T20:50:00.051Z"
   },
   {
    "duration": 333,
    "start_time": "2022-01-14T20:50:00.307Z"
   },
   {
    "duration": 426,
    "start_time": "2022-01-14T20:50:18.889Z"
   },
   {
    "duration": 201,
    "start_time": "2022-01-14T20:50:19.317Z"
   },
   {
    "duration": 12,
    "start_time": "2022-01-14T20:50:19.520Z"
   },
   {
    "duration": 340,
    "start_time": "2022-01-14T20:50:21.754Z"
   },
   {
    "duration": 185,
    "start_time": "2022-01-14T20:50:22.096Z"
   },
   {
    "duration": 8,
    "start_time": "2022-01-14T20:50:22.283Z"
   },
   {
    "duration": 412,
    "start_time": "2022-01-14T20:50:22.293Z"
   },
   {
    "duration": 184,
    "start_time": "2022-01-14T20:50:22.706Z"
   },
   {
    "duration": 6,
    "start_time": "2022-01-14T20:50:22.892Z"
   },
   {
    "duration": 2573,
    "start_time": "2022-01-14T20:50:22.899Z"
   },
   {
    "duration": 6,
    "start_time": "2022-01-14T20:50:25.473Z"
   },
   {
    "duration": 5413,
    "start_time": "2022-01-14T20:50:25.481Z"
   },
   {
    "duration": 8259,
    "start_time": "2022-01-14T20:50:30.895Z"
   },
   {
    "duration": 130,
    "start_time": "2022-01-14T20:50:39.156Z"
   },
   {
    "duration": 1051,
    "start_time": "2022-01-14T20:50:39.288Z"
   },
   {
    "duration": 1986,
    "start_time": "2022-01-14T20:50:40.341Z"
   },
   {
    "duration": 27,
    "start_time": "2022-01-14T20:50:42.328Z"
   },
   {
    "duration": 2418,
    "start_time": "2022-01-14T20:50:42.357Z"
   },
   {
    "duration": 681,
    "start_time": "2022-01-14T20:50:44.777Z"
   },
   {
    "duration": 209678,
    "start_time": "2022-01-14T20:50:45.460Z"
   },
   {
    "duration": 75,
    "start_time": "2022-01-14T20:54:15.140Z"
   },
   {
    "duration": 135,
    "start_time": "2022-01-14T20:54:15.217Z"
   },
   {
    "duration": 182,
    "start_time": "2022-01-14T20:54:15.354Z"
   },
   {
    "duration": 4,
    "start_time": "2022-01-14T20:54:15.538Z"
   },
   {
    "duration": 16,
    "start_time": "2022-01-14T20:54:15.543Z"
   },
   {
    "duration": 7,
    "start_time": "2022-01-14T20:54:15.560Z"
   },
   {
    "duration": 5,
    "start_time": "2022-01-14T21:21:57.286Z"
   },
   {
    "duration": 1105,
    "start_time": "2022-01-14T21:22:17.559Z"
   },
   {
    "duration": 5,
    "start_time": "2022-01-14T21:23:01.112Z"
   },
   {
    "duration": 5,
    "start_time": "2022-01-14T21:23:07.156Z"
   },
   {
    "duration": 54,
    "start_time": "2022-01-14T21:23:07.164Z"
   },
   {
    "duration": 272,
    "start_time": "2022-01-14T21:23:07.221Z"
   },
   {
    "duration": 363,
    "start_time": "2022-01-14T21:23:07.495Z"
   },
   {
    "duration": 354,
    "start_time": "2022-01-14T21:23:07.860Z"
   },
   {
    "duration": 250,
    "start_time": "2022-01-14T21:23:08.216Z"
   },
   {
    "duration": 10,
    "start_time": "2022-01-14T21:23:08.468Z"
   },
   {
    "duration": 354,
    "start_time": "2022-01-14T21:23:08.480Z"
   },
   {
    "duration": 178,
    "start_time": "2022-01-14T21:23:08.836Z"
   },
   {
    "duration": 14,
    "start_time": "2022-01-14T21:23:09.016Z"
   },
   {
    "duration": 353,
    "start_time": "2022-01-14T21:23:09.032Z"
   },
   {
    "duration": 186,
    "start_time": "2022-01-14T21:23:09.387Z"
   },
   {
    "duration": 6,
    "start_time": "2022-01-14T21:23:09.574Z"
   },
   {
    "duration": 2498,
    "start_time": "2022-01-14T21:23:09.581Z"
   },
   {
    "duration": 7,
    "start_time": "2022-01-14T21:23:12.081Z"
   },
   {
    "duration": 5176,
    "start_time": "2022-01-14T21:23:12.089Z"
   },
   {
    "duration": 9677,
    "start_time": "2022-01-14T21:23:17.267Z"
   },
   {
    "duration": 107,
    "start_time": "2022-01-14T21:23:26.946Z"
   },
   {
    "duration": 1048,
    "start_time": "2022-01-14T21:23:27.055Z"
   },
   {
    "duration": 1797,
    "start_time": "2022-01-14T21:23:28.104Z"
   },
   {
    "duration": 37,
    "start_time": "2022-01-14T21:23:29.902Z"
   },
   {
    "duration": 2319,
    "start_time": "2022-01-14T21:23:29.940Z"
   },
   {
    "duration": 668,
    "start_time": "2022-01-14T21:23:32.261Z"
   },
   {
    "duration": 209737,
    "start_time": "2022-01-14T21:23:32.933Z"
   },
   {
    "duration": 81,
    "start_time": "2022-01-14T21:27:02.672Z"
   },
   {
    "duration": 128,
    "start_time": "2022-01-14T21:27:02.754Z"
   },
   {
    "duration": 187,
    "start_time": "2022-01-14T21:27:02.884Z"
   },
   {
    "duration": 4,
    "start_time": "2022-01-14T21:27:03.073Z"
   },
   {
    "duration": 14,
    "start_time": "2022-01-14T21:27:03.078Z"
   },
   {
    "duration": 7,
    "start_time": "2022-01-14T21:27:03.094Z"
   },
   {
    "duration": 330,
    "start_time": "2022-01-14T21:41:26.178Z"
   },
   {
    "duration": 327,
    "start_time": "2022-01-14T21:43:14.517Z"
   },
   {
    "duration": 329,
    "start_time": "2022-01-14T21:43:26.948Z"
   },
   {
    "duration": 25,
    "start_time": "2022-01-14T21:55:28.430Z"
   },
   {
    "duration": 80,
    "start_time": "2022-01-14T22:01:46.282Z"
   },
   {
    "duration": 7,
    "start_time": "2022-01-14T22:14:14.824Z"
   },
   {
    "duration": 12,
    "start_time": "2022-01-14T22:14:28.719Z"
   },
   {
    "duration": 8,
    "start_time": "2022-01-14T22:14:36.584Z"
   },
   {
    "duration": 8,
    "start_time": "2022-01-14T22:14:49.287Z"
   },
   {
    "duration": 8,
    "start_time": "2022-01-14T22:15:03.595Z"
   },
   {
    "duration": 7,
    "start_time": "2022-01-14T22:15:17.098Z"
   },
   {
    "duration": 2211,
    "start_time": "2022-01-14T22:15:20.038Z"
   },
   {
    "duration": 2489,
    "start_time": "2022-01-14T22:15:44.688Z"
   },
   {
    "duration": 1206,
    "start_time": "2022-01-14T22:15:47.179Z"
   },
   {
    "duration": 52,
    "start_time": "2022-01-14T22:15:48.388Z"
   },
   {
    "duration": 286,
    "start_time": "2022-01-14T22:15:48.442Z"
   },
   {
    "duration": 329,
    "start_time": "2022-01-14T22:15:48.730Z"
   },
   {
    "duration": 368,
    "start_time": "2022-01-14T22:15:49.061Z"
   },
   {
    "duration": 201,
    "start_time": "2022-01-14T22:15:49.430Z"
   },
   {
    "duration": 9,
    "start_time": "2022-01-14T22:15:49.634Z"
   },
   {
    "duration": 385,
    "start_time": "2022-01-14T22:15:49.645Z"
   },
   {
    "duration": 182,
    "start_time": "2022-01-14T22:15:50.031Z"
   },
   {
    "duration": 13,
    "start_time": "2022-01-14T22:15:50.215Z"
   },
   {
    "duration": 420,
    "start_time": "2022-01-14T22:15:50.230Z"
   },
   {
    "duration": 193,
    "start_time": "2022-01-14T22:15:50.651Z"
   },
   {
    "duration": 5,
    "start_time": "2022-01-14T22:15:50.846Z"
   },
   {
    "duration": 2544,
    "start_time": "2022-01-14T22:15:50.853Z"
   },
   {
    "duration": 5,
    "start_time": "2022-01-14T22:15:53.399Z"
   },
   {
    "duration": 2847,
    "start_time": "2022-01-14T22:15:53.406Z"
   },
   {
    "duration": 9006,
    "start_time": "2022-01-14T22:15:56.254Z"
   },
   {
    "duration": 107,
    "start_time": "2022-01-14T22:16:05.261Z"
   },
   {
    "duration": 1033,
    "start_time": "2022-01-14T22:16:05.369Z"
   },
   {
    "duration": 1881,
    "start_time": "2022-01-14T22:16:06.404Z"
   },
   {
    "duration": 23,
    "start_time": "2022-01-14T22:16:08.287Z"
   },
   {
    "duration": 2474,
    "start_time": "2022-01-14T22:16:08.314Z"
   },
   {
    "duration": 670,
    "start_time": "2022-01-14T22:16:10.790Z"
   },
   {
    "duration": 210814,
    "start_time": "2022-01-14T22:16:11.462Z"
   },
   {
    "duration": 80,
    "start_time": "2022-01-14T22:19:42.278Z"
   },
   {
    "duration": 125,
    "start_time": "2022-01-14T22:19:42.360Z"
   },
   {
    "duration": 182,
    "start_time": "2022-01-14T22:19:42.487Z"
   },
   {
    "duration": 4,
    "start_time": "2022-01-14T22:19:42.671Z"
   },
   {
    "duration": 12,
    "start_time": "2022-01-14T22:19:42.676Z"
   },
   {
    "duration": 6,
    "start_time": "2022-01-14T22:19:42.689Z"
   },
   {
    "duration": 1138,
    "start_time": "2022-01-14T22:20:44.450Z"
   },
   {
    "duration": 19,
    "start_time": "2022-01-14T22:21:23.857Z"
   },
   {
    "duration": 10130,
    "start_time": "2022-01-14T22:22:07.813Z"
   },
   {
    "duration": 6925,
    "start_time": "2022-01-14T22:22:33.733Z"
   },
   {
    "duration": 714,
    "start_time": "2022-01-14T22:23:02.027Z"
   },
   {
    "duration": 370721,
    "start_time": "2022-01-14T22:23:55.062Z"
   },
   {
    "duration": 220,
    "start_time": "2022-01-14T22:30:05.786Z"
   },
   {
    "duration": 77,
    "start_time": "2022-01-14T22:31:22.362Z"
   },
   {
    "duration": 368,
    "start_time": "2022-01-14T22:41:59.923Z"
   },
   {
    "duration": 5,
    "start_time": "2022-01-14T22:43:48.576Z"
   },
   {
    "duration": 12,
    "start_time": "2022-01-14T22:43:55.501Z"
   },
   {
    "duration": 12,
    "start_time": "2022-01-14T22:44:36.348Z"
   },
   {
    "duration": 331,
    "start_time": "2022-01-14T22:44:45.055Z"
   },
   {
    "duration": 5,
    "start_time": "2022-01-14T22:45:09.825Z"
   },
   {
    "duration": 12,
    "start_time": "2022-01-14T22:45:11.765Z"
   },
   {
    "duration": 2484,
    "start_time": "2022-01-14T22:45:36.623Z"
   },
   {
    "duration": 1191,
    "start_time": "2022-01-14T22:45:39.109Z"
   },
   {
    "duration": 47,
    "start_time": "2022-01-14T22:45:40.302Z"
   },
   {
    "duration": 294,
    "start_time": "2022-01-14T22:45:40.350Z"
   },
   {
    "duration": 315,
    "start_time": "2022-01-14T22:45:40.645Z"
   },
   {
    "duration": 386,
    "start_time": "2022-01-14T22:45:40.962Z"
   },
   {
    "duration": 213,
    "start_time": "2022-01-14T22:45:41.350Z"
   },
   {
    "duration": 10,
    "start_time": "2022-01-14T22:45:41.567Z"
   },
   {
    "duration": 384,
    "start_time": "2022-01-14T22:45:41.579Z"
   },
   {
    "duration": 191,
    "start_time": "2022-01-14T22:45:41.965Z"
   },
   {
    "duration": 10,
    "start_time": "2022-01-14T22:45:42.158Z"
   },
   {
    "duration": 447,
    "start_time": "2022-01-14T22:45:42.170Z"
   },
   {
    "duration": 196,
    "start_time": "2022-01-14T22:45:42.627Z"
   },
   {
    "duration": 9,
    "start_time": "2022-01-14T22:45:42.825Z"
   },
   {
    "duration": 2527,
    "start_time": "2022-01-14T22:45:42.836Z"
   },
   {
    "duration": 6,
    "start_time": "2022-01-14T22:45:45.365Z"
   },
   {
    "duration": 2823,
    "start_time": "2022-01-14T22:45:45.372Z"
   },
   {
    "duration": 10464,
    "start_time": "2022-01-14T22:45:48.197Z"
   },
   {
    "duration": 96,
    "start_time": "2022-01-14T22:45:58.663Z"
   },
   {
    "duration": 1084,
    "start_time": "2022-01-14T22:45:58.761Z"
   },
   {
    "duration": 1370,
    "start_time": "2022-01-14T22:45:59.846Z"
   },
   {
    "duration": 23,
    "start_time": "2022-01-14T22:46:01.217Z"
   },
   {
    "duration": 7622,
    "start_time": "2022-01-14T22:46:01.244Z"
   },
   {
    "duration": 723,
    "start_time": "2022-01-14T22:46:08.868Z"
   },
   {
    "duration": 365757,
    "start_time": "2022-01-14T22:46:09.592Z"
   },
   {
    "duration": 83,
    "start_time": "2022-01-14T22:52:15.351Z"
   },
   {
    "duration": 122,
    "start_time": "2022-01-14T22:52:15.435Z"
   },
   {
    "duration": 314,
    "start_time": "2022-01-14T22:52:15.559Z"
   },
   {
    "duration": 4,
    "start_time": "2022-01-14T22:52:15.874Z"
   },
   {
    "duration": 13,
    "start_time": "2022-01-14T22:52:15.879Z"
   },
   {
    "duration": 5,
    "start_time": "2022-01-14T22:52:15.894Z"
   }
  ],
  "kernelspec": {
   "display_name": "Python 3",
   "language": "python",
   "name": "python3"
  },
  "language_info": {
   "codemirror_mode": {
    "name": "ipython",
    "version": 3
   },
   "file_extension": ".py",
   "mimetype": "text/x-python",
   "name": "python",
   "nbconvert_exporter": "python",
   "pygments_lexer": "ipython3",
   "version": "3.9.2"
  },
  "toc": {
   "base_numbering": 1,
   "nav_menu": {},
   "number_sections": true,
   "sideBar": true,
   "skip_h1_title": true,
   "title_cell": "Содержание",
   "title_sidebar": "Contents",
   "toc_cell": true,
   "toc_position": {},
   "toc_section_display": true,
   "toc_window_display": false
  }
 },
 "nbformat": 4,
 "nbformat_minor": 2
}
