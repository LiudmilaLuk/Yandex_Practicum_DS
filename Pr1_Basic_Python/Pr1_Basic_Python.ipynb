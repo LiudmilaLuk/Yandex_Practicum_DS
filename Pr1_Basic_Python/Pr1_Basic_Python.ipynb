{
 "cells": [
  {
   "cell_type": "markdown",
   "metadata": {
    "id": "E0vqbgi9ay0H"
   },
   "source": [
    "# Яндекс.Музыка"
   ]
  },
  {
   "cell_type": "markdown",
   "metadata": {
    "id": "VUC88oWjTJw2"
   },
   "source": [
    " * Москва — мегаполис, подчинённый жёсткому ритму рабочей недели;\n",
    " * Петербург — культурная столица, со своими вкусами.\n",
    "\n",
    "На данных Яндекс.Музыки необходимо провести сравнение поведения пользователей двух столиц.\n",
    "\n",
    "**Цель исследования** — проверьте три гипотезы:\n",
    "1. Активность пользователей зависит от дня недели. Причём в Москве и Петербурге это проявляется по-разному.\n",
    "2. В понедельник утром в Москве преобладают одни жанры, а в Петербурге — другие. Так же и вечером пятницы преобладают разные жанры — в зависимости от города. \n",
    "3. Москва и Петербург предпочитают разные жанры музыки. В Москве чаще слушают поп-музыку, в Петербурге — русский рэп.\n",
    "\n",
    "**Ход исследования**\n",
    "\n",
    "Данные о поведении пользователей вы получите из файла `yandex_music_project.csv`. О качестве данных ничего не известно. Поэтому перед проверкой гипотез понадобится обзор данных. \n",
    "\n",
    "Вы проверите данные на ошибки и оцените их влияние на исследование. Затем, на этапе предобработки вы поищете возможность исправить самые критичные ошибки данных.\n",
    " \n",
    "Таким образом, исследование пройдёт в три этапа:\n",
    " 1. Обзор данных.\n",
    " 2. Предобработка данных.\n",
    " 3. Проверка гипотез."
   ]
  },
  {
   "cell_type": "markdown",
   "metadata": {},
   "source": [
    "<h1>Содержание<span class=\"tocSkip\"></span></h1>\n",
    "<div class=\"toc\"><ul class=\"toc-item\"><li><span><a href=\"#Обзор-данных\" data-toc-modified-id=\"Обзор-данных-1\"><span class=\"toc-item-num\">1&nbsp;&nbsp;</span>Обзор данных</a></span></li><li><span><a href=\"#Предобработка-данных\" data-toc-modified-id=\"Предобработка-данных-2\"><span class=\"toc-item-num\">2&nbsp;&nbsp;</span>Предобработка данных</a></span><ul class=\"toc-item\"><li><span><a href=\"#Стиль-заголовков\" data-toc-modified-id=\"Стиль-заголовков-2.1\"><span class=\"toc-item-num\">2.1&nbsp;&nbsp;</span>Стиль заголовков</a></span></li><li><span><a href=\"#Пропуски-значений\" data-toc-modified-id=\"Пропуски-значений-2.2\"><span class=\"toc-item-num\">2.2&nbsp;&nbsp;</span>Пропуски значений</a></span></li><li><span><a href=\"#Дубликаты\" data-toc-modified-id=\"Дубликаты-2.3\"><span class=\"toc-item-num\">2.3&nbsp;&nbsp;</span>Дубликаты</a></span></li></ul></li><li><span><a href=\"#Проверка-гипотез\" data-toc-modified-id=\"Проверка-гипотез-3\"><span class=\"toc-item-num\">3&nbsp;&nbsp;</span>Проверка гипотез</a></span><ul class=\"toc-item\"><li><span><a href=\"#Сравнение-поведения-пользователей-двух-столиц\" data-toc-modified-id=\"Сравнение-поведения-пользователей-двух-столиц-3.1\"><span class=\"toc-item-num\">3.1&nbsp;&nbsp;</span>Сравнение поведения пользователей двух столиц</a></span></li><li><span><a href=\"#Музыка-в-начале-и-в-конце-недели\" data-toc-modified-id=\"Музыка-в-начале-и-в-конце-недели-3.2\"><span class=\"toc-item-num\">3.2&nbsp;&nbsp;</span>Музыка в начале и в конце недели</a></span></li><li><span><a href=\"#Жанровые-предпочтения-в-Москве-и-Петербурге\" data-toc-modified-id=\"Жанровые-предпочтения-в-Москве-и-Петербурге-3.3\"><span class=\"toc-item-num\">3.3&nbsp;&nbsp;</span>Жанровые предпочтения в Москве и Петербурге</a></span></li></ul></li><li><span><a href=\"#Итоги-исследования\" data-toc-modified-id=\"Итоги-исследования-4\"><span class=\"toc-item-num\">4&nbsp;&nbsp;</span>Итоги исследования</a></span></li></ul></div>"
   ]
  },
  {
   "cell_type": "markdown",
   "metadata": {
    "id": "Ml1hmfXC_Zcs"
   },
   "source": [
    "## Обзор данных\n",
    "\n",
    "Составьте первое представление о данных Яндекс.Музыки.\n",
    "\n",
    "\n"
   ]
  },
  {
   "cell_type": "markdown",
   "metadata": {
    "id": "57eAOGIz_Zcs"
   },
   "source": [
    "Основной инструмент аналитика — `pandas`. Импортируйте эту библиотеку."
   ]
  },
  {
   "cell_type": "code",
   "execution_count": 2,
   "metadata": {
    "id": "AXN7PHPN_Zcs"
   },
   "outputs": [],
   "source": [
    "# импорт библиотеки pandas\n",
    "import pandas as pd"
   ]
  },
  {
   "cell_type": "markdown",
   "metadata": {
    "id": "SG23P8tt_Zcs"
   },
   "source": [
    "Прочитайте файл `yandex_music_project.csv` из папки `/datasets` и сохраните его в переменной `df`:"
   ]
  },
  {
   "cell_type": "code",
   "execution_count": 3,
   "metadata": {
    "id": "fFVu7vqh_Zct"
   },
   "outputs": [],
   "source": [
    "# чтение файла с данными и сохранение в df\n",
    "df = pd.read_csv('/datasets/yandex_music_project.csv')"
   ]
  },
  {
   "cell_type": "markdown",
   "metadata": {
    "id": "rDoOMd3uTqnZ"
   },
   "source": [
    "Выведите на экран первые десять строк таблицы:"
   ]
  },
  {
   "cell_type": "code",
   "execution_count": 4,
   "metadata": {
    "id": "oWTVX3gW_Zct",
    "scrolled": true
   },
   "outputs": [
    {
     "data": {
      "text/html": [
       "<div>\n",
       "<style scoped>\n",
       "    .dataframe tbody tr th:only-of-type {\n",
       "        vertical-align: middle;\n",
       "    }\n",
       "\n",
       "    .dataframe tbody tr th {\n",
       "        vertical-align: top;\n",
       "    }\n",
       "\n",
       "    .dataframe thead th {\n",
       "        text-align: right;\n",
       "    }\n",
       "</style>\n",
       "<table border=\"1\" class=\"dataframe\">\n",
       "  <thead>\n",
       "    <tr style=\"text-align: right;\">\n",
       "      <th></th>\n",
       "      <th>userID</th>\n",
       "      <th>Track</th>\n",
       "      <th>artist</th>\n",
       "      <th>genre</th>\n",
       "      <th>City</th>\n",
       "      <th>time</th>\n",
       "      <th>Day</th>\n",
       "    </tr>\n",
       "  </thead>\n",
       "  <tbody>\n",
       "    <tr>\n",
       "      <th>0</th>\n",
       "      <td>FFB692EC</td>\n",
       "      <td>Kamigata To Boots</td>\n",
       "      <td>The Mass Missile</td>\n",
       "      <td>rock</td>\n",
       "      <td>Saint-Petersburg</td>\n",
       "      <td>20:28:33</td>\n",
       "      <td>Wednesday</td>\n",
       "    </tr>\n",
       "    <tr>\n",
       "      <th>1</th>\n",
       "      <td>55204538</td>\n",
       "      <td>Delayed Because of Accident</td>\n",
       "      <td>Andreas Rönnberg</td>\n",
       "      <td>rock</td>\n",
       "      <td>Moscow</td>\n",
       "      <td>14:07:09</td>\n",
       "      <td>Friday</td>\n",
       "    </tr>\n",
       "    <tr>\n",
       "      <th>2</th>\n",
       "      <td>20EC38</td>\n",
       "      <td>Funiculì funiculà</td>\n",
       "      <td>Mario Lanza</td>\n",
       "      <td>pop</td>\n",
       "      <td>Saint-Petersburg</td>\n",
       "      <td>20:58:07</td>\n",
       "      <td>Wednesday</td>\n",
       "    </tr>\n",
       "    <tr>\n",
       "      <th>3</th>\n",
       "      <td>A3DD03C9</td>\n",
       "      <td>Dragons in the Sunset</td>\n",
       "      <td>Fire + Ice</td>\n",
       "      <td>folk</td>\n",
       "      <td>Saint-Petersburg</td>\n",
       "      <td>08:37:09</td>\n",
       "      <td>Monday</td>\n",
       "    </tr>\n",
       "    <tr>\n",
       "      <th>4</th>\n",
       "      <td>E2DC1FAE</td>\n",
       "      <td>Soul People</td>\n",
       "      <td>Space Echo</td>\n",
       "      <td>dance</td>\n",
       "      <td>Moscow</td>\n",
       "      <td>08:34:34</td>\n",
       "      <td>Monday</td>\n",
       "    </tr>\n",
       "    <tr>\n",
       "      <th>5</th>\n",
       "      <td>842029A1</td>\n",
       "      <td>Преданная</td>\n",
       "      <td>IMPERVTOR</td>\n",
       "      <td>rusrap</td>\n",
       "      <td>Saint-Petersburg</td>\n",
       "      <td>13:09:41</td>\n",
       "      <td>Friday</td>\n",
       "    </tr>\n",
       "    <tr>\n",
       "      <th>6</th>\n",
       "      <td>4CB90AA5</td>\n",
       "      <td>True</td>\n",
       "      <td>Roman Messer</td>\n",
       "      <td>dance</td>\n",
       "      <td>Moscow</td>\n",
       "      <td>13:00:07</td>\n",
       "      <td>Wednesday</td>\n",
       "    </tr>\n",
       "    <tr>\n",
       "      <th>7</th>\n",
       "      <td>F03E1C1F</td>\n",
       "      <td>Feeling This Way</td>\n",
       "      <td>Polina Griffith</td>\n",
       "      <td>dance</td>\n",
       "      <td>Moscow</td>\n",
       "      <td>20:47:49</td>\n",
       "      <td>Wednesday</td>\n",
       "    </tr>\n",
       "    <tr>\n",
       "      <th>8</th>\n",
       "      <td>8FA1D3BE</td>\n",
       "      <td>И вновь продолжается бой</td>\n",
       "      <td>NaN</td>\n",
       "      <td>ruspop</td>\n",
       "      <td>Moscow</td>\n",
       "      <td>09:17:40</td>\n",
       "      <td>Friday</td>\n",
       "    </tr>\n",
       "    <tr>\n",
       "      <th>9</th>\n",
       "      <td>E772D5C0</td>\n",
       "      <td>Pessimist</td>\n",
       "      <td>NaN</td>\n",
       "      <td>dance</td>\n",
       "      <td>Saint-Petersburg</td>\n",
       "      <td>21:20:49</td>\n",
       "      <td>Wednesday</td>\n",
       "    </tr>\n",
       "  </tbody>\n",
       "</table>\n",
       "</div>"
      ],
      "text/plain": [
       "     userID                        Track            artist   genre  \\\n",
       "0  FFB692EC            Kamigata To Boots  The Mass Missile    rock   \n",
       "1  55204538  Delayed Because of Accident  Andreas Rönnberg    rock   \n",
       "2    20EC38            Funiculì funiculà       Mario Lanza     pop   \n",
       "3  A3DD03C9        Dragons in the Sunset        Fire + Ice    folk   \n",
       "4  E2DC1FAE                  Soul People        Space Echo   dance   \n",
       "5  842029A1                    Преданная         IMPERVTOR  rusrap   \n",
       "6  4CB90AA5                         True      Roman Messer   dance   \n",
       "7  F03E1C1F             Feeling This Way   Polina Griffith   dance   \n",
       "8  8FA1D3BE     И вновь продолжается бой               NaN  ruspop   \n",
       "9  E772D5C0                    Pessimist               NaN   dance   \n",
       "\n",
       "             City        time        Day  \n",
       "0  Saint-Petersburg  20:28:33  Wednesday  \n",
       "1            Moscow  14:07:09     Friday  \n",
       "2  Saint-Petersburg  20:58:07  Wednesday  \n",
       "3  Saint-Petersburg  08:37:09     Monday  \n",
       "4            Moscow  08:34:34     Monday  \n",
       "5  Saint-Petersburg  13:09:41     Friday  \n",
       "6            Moscow  13:00:07  Wednesday  \n",
       "7            Moscow  20:47:49  Wednesday  \n",
       "8            Moscow  09:17:40     Friday  \n",
       "9  Saint-Petersburg  21:20:49  Wednesday  "
      ]
     },
     "execution_count": 4,
     "metadata": {},
     "output_type": "execute_result"
    }
   ],
   "source": [
    "# получение первых 10 строк таблицы df\n",
    "df.head(10)"
   ]
  },
  {
   "cell_type": "markdown",
   "metadata": {
    "id": "EO73Kwic_Zct"
   },
   "source": [
    "Одной командой получить общую информацию о таблице:"
   ]
  },
  {
   "cell_type": "code",
   "execution_count": 5,
   "metadata": {
    "id": "DSf2kIb-_Zct",
    "scrolled": true
   },
   "outputs": [
    {
     "name": "stdout",
     "output_type": "stream",
     "text": [
      "<class 'pandas.core.frame.DataFrame'>\n",
      "RangeIndex: 65079 entries, 0 to 65078\n",
      "Data columns (total 7 columns):\n",
      " #   Column    Non-Null Count  Dtype \n",
      "---  ------    --------------  ----- \n",
      " 0     userID  65079 non-null  object\n",
      " 1   Track     63848 non-null  object\n",
      " 2   artist    57876 non-null  object\n",
      " 3   genre     63881 non-null  object\n",
      " 4     City    65079 non-null  object\n",
      " 5   time      65079 non-null  object\n",
      " 6   Day       65079 non-null  object\n",
      "dtypes: object(7)\n",
      "memory usage: 3.5+ MB\n"
     ]
    }
   ],
   "source": [
    "# получение общей информации о данных в таблице df\n",
    "df.info()"
   ]
  },
  {
   "cell_type": "markdown",
   "metadata": {
    "id": "TaQ2Iwbr_Zct"
   },
   "source": [
    "Итак, в таблице семь столбцов. Тип данных во всех столбцах — `object`.\n",
    "\n",
    "Согласно документации к данным:\n",
    "* `userID` — идентификатор пользователя;\n",
    "* `Track` — название трека;  \n",
    "* `artist` — имя исполнителя;\n",
    "* `genre` — название жанра;\n",
    "* `City` — город пользователя;\n",
    "* `time` — время начала прослушивания;\n",
    "* `Day` — день недели.\n",
    "\n",
    "В названиях колонок видны три нарушения стиля:\n",
    "1. Строчные буквы сочетаются с прописными.\n",
    "2. Встречаются пробелы.\n",
    "3. 'userID' записан с применением Camel case, лучше переписать в змеином регистре.\n",
    "\n",
    "\n",
    "\n",
    "Количество значений в столбцах различается. Значит, в данных есть пропущенные значения.\n"
   ]
  },
  {
   "cell_type": "markdown",
   "metadata": {
    "id": "MCB6-dXG_Zct"
   },
   "source": [
    "**Выводы**\n",
    "\n",
    "В каждой строке таблицы — данные о прослушанном треке. Часть колонок описывает саму композицию: название, исполнителя и жанр. Остальные данные рассказывают о пользователе: из какого он города, когда он слушал музыку. \n",
    "\n",
    "Предварительно можно утверждать, что, данных достаточно для проверки гипотез. Но встречаются пропуски в данных, а в названиях колонок — расхождения с хорошим стилем.\n",
    "\n",
    "Чтобы двигаться дальше, нужно устранить проблемы в данных."
   ]
  },
  {
   "cell_type": "markdown",
   "metadata": {
    "id": "SjYF6Ub9_Zct"
   },
   "source": [
    "## Предобработка данных\n",
    "Исправьте стиль в заголовках столбцов, исключите пропуски. Затем проверьте данные на дубликаты."
   ]
  },
  {
   "cell_type": "markdown",
   "metadata": {
    "id": "dIaKXr29_Zct"
   },
   "source": [
    "### Стиль заголовков\n",
    "Выведите на экран названия столбцов:"
   ]
  },
  {
   "cell_type": "code",
   "execution_count": 6,
   "metadata": {
    "id": "oKOTdF_Q_Zct"
   },
   "outputs": [
    {
     "data": {
      "text/plain": [
       "Index(['  userID', 'Track', 'artist', 'genre', '  City  ', 'time', 'Day'], dtype='object')"
      ]
     },
     "execution_count": 6,
     "metadata": {},
     "output_type": "execute_result"
    }
   ],
   "source": [
    "# перечень названий столбцов таблицы df\n",
    "df.columns"
   ]
  },
  {
   "cell_type": "markdown",
   "metadata": {
    "id": "FPZA3ki8xe7T"
   },
   "source": []
  },
  {
   "cell_type": "markdown",
   "metadata": {
    "id": "zj5534cv_Zct"
   },
   "source": [
    "Приведите названия в соответствие с хорошим стилем:\n",
    "* несколько слов в названии запишите в «змеином_регистре»,\n",
    "* все символы сделайте строчными,\n",
    "* устраните пробелы.\n",
    "\n",
    "Для этого переименуйте колонки так:\n",
    "* `'  userID'` → `'user_id'`;\n",
    "* `'Track'` → `'track'`;\n",
    "* `'  City  '` → `'city'`;\n",
    "* `'Day'` → `'day'`."
   ]
  },
  {
   "cell_type": "code",
   "execution_count": 7,
   "metadata": {
    "id": "ISlFqs5y_Zct"
   },
   "outputs": [],
   "source": [
    "# переименование столбцов\n",
    "df = df.rename(columns={'  userID': 'user_id',\n",
    "                        'Track': 'track',\n",
    "                        '  City  ': 'city',\n",
    "                        'Day': 'day'})"
   ]
  },
  {
   "cell_type": "markdown",
   "metadata": {
    "id": "1dqbh00J_Zct"
   },
   "source": [
    "Проверьте результат. Для этого ещё раз выведите на экран названия столбцов:"
   ]
  },
  {
   "cell_type": "code",
   "execution_count": 8,
   "metadata": {
    "id": "d4NOAmTW_Zct"
   },
   "outputs": [
    {
     "data": {
      "text/plain": [
       "Index(['user_id', 'track', 'artist', 'genre', 'city', 'time', 'day'], dtype='object')"
      ]
     },
     "execution_count": 8,
     "metadata": {},
     "output_type": "execute_result"
    }
   ],
   "source": [
    "# проверка результатов - перечень названий столбцов\n",
    "df.columns"
   ]
  },
  {
   "cell_type": "markdown",
   "metadata": {
    "id": "5ISfbcfY_Zct"
   },
   "source": [
    "### Пропуски значений\n",
    "Сначала посчитайте, сколько в таблице пропущенных значений. Для этого достаточно двух методов `pandas`:"
   ]
  },
  {
   "cell_type": "code",
   "execution_count": 9,
   "metadata": {
    "id": "RskX29qr_Zct"
   },
   "outputs": [
    {
     "data": {
      "text/plain": [
       "user_id       0\n",
       "track      1231\n",
       "artist     7203\n",
       "genre      1198\n",
       "city          0\n",
       "time          0\n",
       "day           0\n",
       "dtype: int64"
      ]
     },
     "metadata": {},
     "output_type": "display_data"
    }
   ],
   "source": [
    "# подсчёт пропусков\n",
    "display(df.isna().sum())"
   ]
  },
  {
   "cell_type": "markdown",
   "metadata": {
    "id": "qubhgnlO_Zct"
   },
   "source": [
    "Не все пропущенные значения влияют на исследование. Так в `track` и `artist` пропуски не важны для вашей работы. Достаточно заменить их явными обозначениями.\n",
    "\n",
    "Но пропуски в `genre` могут помешать сравнению музыкальных вкусов в Москве и Санкт-Петербурге. На практике было бы правильно установить причину пропусков и восстановить данные. Такой возможности нет в учебном проекте. Придётся:\n",
    "* заполнить и эти пропуски явными обозначениями,\n",
    "* оценить, насколько они повредят расчётам. "
   ]
  },
  {
   "cell_type": "markdown",
   "metadata": {
    "id": "fSv2laPA_Zct"
   },
   "source": [
    "Замените пропущенные значения в столбцах `track`, `artist` и `genre` на строку `'unknown'`. Для этого создайте список `columns_to_replace`, переберите его элементы циклом `for` и для каждого столбца выполните замену пропущенных значений:"
   ]
  },
  {
   "cell_type": "code",
   "execution_count": 10,
   "metadata": {
    "id": "KplB5qWs_Zct"
   },
   "outputs": [],
   "source": [
    "# перебор названий столбцов в цикле и замена пропущенных значений на 'unknown'\n",
    "columns_to_replace = ['track', 'artist', 'genre']\n",
    "df[columns_to_replace] = df[columns_to_replace].fillna('unknown')"
   ]
  },
  {
   "cell_type": "markdown",
   "metadata": {
    "id": "Ilsm-MZo_Zct"
   },
   "source": [
    "Убедитесь, что в таблице не осталось пропусков. Для этого ещё раз посчитайте пропущенные значения."
   ]
  },
  {
   "cell_type": "code",
   "execution_count": 11,
   "metadata": {
    "id": "Tq4nYRX4_Zct"
   },
   "outputs": [
    {
     "data": {
      "text/plain": [
       "user_id    0\n",
       "track      0\n",
       "artist     0\n",
       "genre      0\n",
       "city       0\n",
       "time       0\n",
       "day        0\n",
       "dtype: int64"
      ]
     },
     "metadata": {},
     "output_type": "display_data"
    }
   ],
   "source": [
    "# подсчёт пропусков\n",
    "display(df.isna().sum())"
   ]
  },
  {
   "cell_type": "markdown",
   "metadata": {
    "id": "BWKRtBJ3_Zct"
   },
   "source": [
    "### Дубликаты\n",
    "Посчитайте явные дубликаты в таблице одной командой:"
   ]
  },
  {
   "cell_type": "code",
   "execution_count": 12,
   "metadata": {
    "id": "36eES_S0_Zct"
   },
   "outputs": [
    {
     "name": "stdout",
     "output_type": "stream",
     "text": [
      "Явных дубликатов: 3826\n"
     ]
    }
   ],
   "source": [
    "# подсчёт явных дубликатов\n",
    "print('Явных дубликатов:', df.duplicated().sum())"
   ]
  },
  {
   "cell_type": "markdown",
   "metadata": {
    "id": "Ot25h6XR_Zct"
   },
   "source": [
    "Вызовите специальный метод `pandas`, чтобы удалить явные дубликаты:"
   ]
  },
  {
   "cell_type": "code",
   "execution_count": 13,
   "metadata": {
    "id": "exFHq6tt_Zct"
   },
   "outputs": [],
   "source": [
    "# удаление явных дубликатов (с удалением старых индексов и формированием новых)\n",
    "df = df.drop_duplicates().reset_index(drop=True)"
   ]
  },
  {
   "cell_type": "markdown",
   "metadata": {
    "id": "Im2YwBEG_Zct"
   },
   "source": [
    "Ещё раз посчитайте явные дубликаты в таблице — убедитесь, что полностью от них избавились:"
   ]
  },
  {
   "cell_type": "code",
   "execution_count": 14,
   "metadata": {
    "id": "-8PuNWQ0_Zct"
   },
   "outputs": [
    {
     "name": "stdout",
     "output_type": "stream",
     "text": [
      "Явных дубликатов: 0\n"
     ]
    }
   ],
   "source": [
    "# проверка на отсутствие дубликатов\n",
    "print('Явных дубликатов:', df.duplicated().sum())"
   ]
  },
  {
   "cell_type": "markdown",
   "metadata": {
    "id": "QlFBsxAr_Zct"
   },
   "source": [
    "Теперь избавьтесь от неявных дубликатов в колонке `genre`. Например, название одного и того же жанра может быть записано немного по-разному. Такие ошибки тоже повлияют на результат исследования."
   ]
  },
  {
   "cell_type": "markdown",
   "metadata": {
    "id": "eSjWwsOh_Zct"
   },
   "source": [
    "Выведите на экран список уникальных названий жанров, отсортированный в алфавитном порядке. Для этого:\n",
    "* извлеките нужный столбец датафрейма, \n",
    "* примените к нему метод сортировки,\n",
    "* для отсортированного столбца вызовите метод, который вернёт уникальные значения из столбца."
   ]
  },
  {
   "cell_type": "code",
   "execution_count": 17,
   "metadata": {
    "id": "JIUcqzZN_Zct"
   },
   "outputs": [
    {
     "name": "stdout",
     "output_type": "stream",
     "text": [
      "['acid' 'acoustic' 'action' 'adult' 'africa' 'afrikaans' 'alternative'\n",
      " 'alternativepunk' 'ambient' 'americana' 'animated' 'anime' 'arabesk'\n",
      " 'arabic' 'arena' 'argentinetango' 'art' 'audiobook' 'author' 'avantgarde'\n",
      " 'axé' 'baile' 'balkan' 'beats' 'bigroom' 'black' 'bluegrass' 'blues'\n",
      " 'bollywood' 'bossa' 'brazilian' 'breakbeat' 'breaks' 'broadway'\n",
      " 'cantautori' 'cantopop' 'canzone' 'caribbean' 'caucasian' 'celtic'\n",
      " 'chamber' 'chanson' 'children' 'chill' 'chinese' 'choral' 'christian'\n",
      " 'christmas' 'classical' 'classicmetal' 'club' 'colombian' 'comedy'\n",
      " 'conjazz' 'contemporary' 'country' 'cuban' 'dance' 'dancehall' 'dancepop'\n",
      " 'dark' 'death' 'deep' 'deutschrock' 'deutschspr' 'dirty' 'disco' 'dnb'\n",
      " 'documentary' 'downbeat' 'downtempo' 'drum' 'dub' 'dubstep' 'eastern'\n",
      " 'easy' 'electronic' 'electropop' 'emo' 'entehno' 'epicmetal' 'estrada'\n",
      " 'ethnic' 'eurofolk' 'european' 'experimental' 'extrememetal' 'fado'\n",
      " 'fairytail' 'film' 'fitness' 'flamenco' 'folk' 'folklore' 'folkmetal'\n",
      " 'folkrock' 'folktronica' 'forró' 'frankreich' 'französisch' 'french'\n",
      " 'funk' 'future' 'gangsta' 'garage' 'german' 'ghazal' 'gitarre' 'glitch'\n",
      " 'gospel' 'gothic' 'grime' 'grunge' 'gypsy' 'handsup' \"hard'n'heavy\"\n",
      " 'hardcore' 'hardstyle' 'hardtechno' 'hip' 'hip-hop' 'hiphop' 'historisch'\n",
      " 'holiday' 'hop' 'horror' 'house' 'hymn' 'idm' 'independent' 'indian'\n",
      " 'indie' 'indipop' 'industrial' 'inspirational' 'instrumental'\n",
      " 'international' 'irish' 'jam' 'japanese' 'jazz' 'jewish' 'jpop' 'jungle'\n",
      " 'k-pop' 'karadeniz' 'karaoke' 'kayokyoku' 'korean' 'laiko' 'latin'\n",
      " 'latino' 'leftfield' 'local' 'lounge' 'loungeelectronic' 'lovers'\n",
      " 'malaysian' 'mandopop' 'marschmusik' 'meditative' 'mediterranean'\n",
      " 'melodic' 'metal' 'metalcore' 'mexican' 'middle' 'minimal'\n",
      " 'miscellaneous' 'modern' 'mood' 'mpb' 'muslim' 'native' 'neoklassik'\n",
      " 'neue' 'new' 'newage' 'newwave' 'nu' 'nujazz' 'numetal' 'oceania' 'old'\n",
      " 'opera' 'orchestral' 'other' 'piano' 'podcasts' 'pop' 'popdance'\n",
      " 'popelectronic' 'popeurodance' 'poprussian' 'post' 'posthardcore'\n",
      " 'postrock' 'power' 'progmetal' 'progressive' 'psychedelic' 'punjabi'\n",
      " 'punk' 'quebecois' 'ragga' 'ram' 'rancheras' 'rap' 'rave' 'reggae'\n",
      " 'reggaeton' 'regional' 'relax' 'religious' 'retro' 'rhythm' 'rnb' 'rnr'\n",
      " 'rock' 'rockabilly' 'rockalternative' 'rockindie' 'rockother' 'romance'\n",
      " 'roots' 'ruspop' 'rusrap' 'rusrock' 'russian' 'salsa' 'samba' 'scenic'\n",
      " 'schlager' 'self' 'sertanejo' 'shanson' 'shoegazing' 'showtunes' 'singer'\n",
      " 'ska' 'skarock' 'slow' 'smooth' 'soft' 'soul' 'soulful' 'sound'\n",
      " 'soundtrack' 'southern' 'specialty' 'speech' 'spiritual' 'sport'\n",
      " 'stonerrock' 'surf' 'swing' 'synthpop' 'synthrock' 'sängerportrait'\n",
      " 'tango' 'tanzorchester' 'taraftar' 'tatar' 'tech' 'techno' 'teen'\n",
      " 'thrash' 'top' 'traditional' 'tradjazz' 'trance' 'tribal' 'trip'\n",
      " 'triphop' 'tropical' 'türk' 'türkçe' 'ukrrock' 'unknown' 'urban' 'uzbek'\n",
      " 'variété' 'vi' 'videogame' 'vocal' 'western' 'world' 'worldbeat' 'ïîï'\n",
      " 'электроника']\n"
     ]
    }
   ],
   "source": [
    "# Просмотр уникальных названий жанров\n",
    "print(df['genre'].sort_values().unique())"
   ]
  },
  {
   "cell_type": "markdown",
   "metadata": {
    "id": "qej-Qmuo_Zct"
   },
   "source": [
    "Просмотрите список и найдите неявные дубликаты названия `hiphop`. Это могут быть названия с ошибками или альтернативные названия того же жанра.\n",
    "\n",
    "Вы увидите следующие неявные дубликаты:\n",
    "* *hip*,\n",
    "* *hop*,\n",
    "* *hip-hop*.\n",
    "\n",
    "Чтобы очистить от них таблицу, напишите функцию `replace_wrong_genres()` с двумя параметрами: \n",
    "* `wrong_genres` — список дубликатов,\n",
    "* `correct_genre` — строка с правильным значением.\n",
    "\n",
    "Функция должна исправить колонку `genre` в таблице `df`: заменить каждое значение из списка `wrong_genres` на значение из `correct_genre`."
   ]
  },
  {
   "cell_type": "code",
   "execution_count": 18,
   "metadata": {
    "id": "ErNDkmns_Zct"
   },
   "outputs": [],
   "source": [
    "# Функция для замены неявных дубликатов\n",
    "def replace_wrong_genre(wrong_genre, correct_genre):\n",
    "        df['genre'] = df['genre'].replace(wrong_genre, correct_genre)"
   ]
  },
  {
   "cell_type": "markdown",
   "metadata": {
    "id": "aDoBJxbA_Zct"
   },
   "source": [
    "Вызовите `replace_wrong_genres()` и передайте ей такие аргументы, чтобы она устранила неявные дубликаты: вместо `hip`, `hop` и `hip-hop` в таблице должно быть значение `hiphop`:"
   ]
  },
  {
   "cell_type": "code",
   "execution_count": 19,
   "metadata": {
    "id": "YN5i2hpmSo09"
   },
   "outputs": [],
   "source": [
    "# Устранение неявных дубликатов\n",
    "incorrect_genres_list = ['hip', 'hop', 'hip-hop']\n",
    "correct_genre = 'hiphop'\n",
    "replace_wrong_genre(incorrect_genres_list, correct_genre)"
   ]
  },
  {
   "cell_type": "markdown",
   "metadata": {
    "id": "zQKF16_RG15m"
   },
   "source": [
    "Проверьте, что заменили неправильные названия:\n",
    "\n",
    "*   hip\n",
    "*   hop\n",
    "*   hip-hop\n",
    "\n",
    "Выведите отсортированный список уникальных значений столбца `genre`:"
   ]
  },
  {
   "cell_type": "code",
   "execution_count": 20,
   "metadata": {
    "id": "wvixALnFG15m"
   },
   "outputs": [
    {
     "name": "stdout",
     "output_type": "stream",
     "text": [
      "['acid' 'acoustic' 'action' 'adult' 'africa' 'afrikaans' 'alternative'\n",
      " 'alternativepunk' 'ambient' 'americana' 'animated' 'anime' 'arabesk'\n",
      " 'arabic' 'arena' 'argentinetango' 'art' 'audiobook' 'author' 'avantgarde'\n",
      " 'axé' 'baile' 'balkan' 'beats' 'bigroom' 'black' 'bluegrass' 'blues'\n",
      " 'bollywood' 'bossa' 'brazilian' 'breakbeat' 'breaks' 'broadway'\n",
      " 'cantautori' 'cantopop' 'canzone' 'caribbean' 'caucasian' 'celtic'\n",
      " 'chamber' 'chanson' 'children' 'chill' 'chinese' 'choral' 'christian'\n",
      " 'christmas' 'classical' 'classicmetal' 'club' 'colombian' 'comedy'\n",
      " 'conjazz' 'contemporary' 'country' 'cuban' 'dance' 'dancehall' 'dancepop'\n",
      " 'dark' 'death' 'deep' 'deutschrock' 'deutschspr' 'dirty' 'disco' 'dnb'\n",
      " 'documentary' 'downbeat' 'downtempo' 'drum' 'dub' 'dubstep' 'eastern'\n",
      " 'easy' 'electronic' 'electropop' 'emo' 'entehno' 'epicmetal' 'estrada'\n",
      " 'ethnic' 'eurofolk' 'european' 'experimental' 'extrememetal' 'fado'\n",
      " 'fairytail' 'film' 'fitness' 'flamenco' 'folk' 'folklore' 'folkmetal'\n",
      " 'folkrock' 'folktronica' 'forró' 'frankreich' 'französisch' 'french'\n",
      " 'funk' 'future' 'gangsta' 'garage' 'german' 'ghazal' 'gitarre' 'glitch'\n",
      " 'gospel' 'gothic' 'grime' 'grunge' 'gypsy' 'handsup' \"hard'n'heavy\"\n",
      " 'hardcore' 'hardstyle' 'hardtechno' 'hiphop' 'historisch' 'holiday'\n",
      " 'horror' 'house' 'hymn' 'idm' 'independent' 'indian' 'indie' 'indipop'\n",
      " 'industrial' 'inspirational' 'instrumental' 'international' 'irish' 'jam'\n",
      " 'japanese' 'jazz' 'jewish' 'jpop' 'jungle' 'k-pop' 'karadeniz' 'karaoke'\n",
      " 'kayokyoku' 'korean' 'laiko' 'latin' 'latino' 'leftfield' 'local'\n",
      " 'lounge' 'loungeelectronic' 'lovers' 'malaysian' 'mandopop' 'marschmusik'\n",
      " 'meditative' 'mediterranean' 'melodic' 'metal' 'metalcore' 'mexican'\n",
      " 'middle' 'minimal' 'miscellaneous' 'modern' 'mood' 'mpb' 'muslim'\n",
      " 'native' 'neoklassik' 'neue' 'new' 'newage' 'newwave' 'nu' 'nujazz'\n",
      " 'numetal' 'oceania' 'old' 'opera' 'orchestral' 'other' 'piano' 'podcasts'\n",
      " 'pop' 'popdance' 'popelectronic' 'popeurodance' 'poprussian' 'post'\n",
      " 'posthardcore' 'postrock' 'power' 'progmetal' 'progressive' 'psychedelic'\n",
      " 'punjabi' 'punk' 'quebecois' 'ragga' 'ram' 'rancheras' 'rap' 'rave'\n",
      " 'reggae' 'reggaeton' 'regional' 'relax' 'religious' 'retro' 'rhythm'\n",
      " 'rnb' 'rnr' 'rock' 'rockabilly' 'rockalternative' 'rockindie' 'rockother'\n",
      " 'romance' 'roots' 'ruspop' 'rusrap' 'rusrock' 'russian' 'salsa' 'samba'\n",
      " 'scenic' 'schlager' 'self' 'sertanejo' 'shanson' 'shoegazing' 'showtunes'\n",
      " 'singer' 'ska' 'skarock' 'slow' 'smooth' 'soft' 'soul' 'soulful' 'sound'\n",
      " 'soundtrack' 'southern' 'specialty' 'speech' 'spiritual' 'sport'\n",
      " 'stonerrock' 'surf' 'swing' 'synthpop' 'synthrock' 'sängerportrait'\n",
      " 'tango' 'tanzorchester' 'taraftar' 'tatar' 'tech' 'techno' 'teen'\n",
      " 'thrash' 'top' 'traditional' 'tradjazz' 'trance' 'tribal' 'trip'\n",
      " 'triphop' 'tropical' 'türk' 'türkçe' 'ukrrock' 'unknown' 'urban' 'uzbek'\n",
      " 'variété' 'vi' 'videogame' 'vocal' 'western' 'world' 'worldbeat' 'ïîï'\n",
      " 'электроника']\n"
     ]
    }
   ],
   "source": [
    "# Проверка на неявные дубликаты\n",
    "print(df['genre'].sort_values().unique())"
   ]
  },
  {
   "cell_type": "markdown",
   "metadata": {
    "id": "jz6a9-7HQUDd"
   },
   "source": [
    "**Выводы**\n",
    "\n",
    "Предобработка обнаружила три проблемы в данных:\n",
    "\n",
    "- нарушения в стиле заголовков,\n",
    "- пропущенные значения,\n",
    "- дубликаты — явные и неявные.\n",
    "\n",
    "Вы исправили заголовки, чтобы упростить работу с таблицей. Без дубликатов исследование станет более точным.\n",
    "\n",
    "Пропущенные значения вы заменили на `'unknown'`. Ещё предстоит увидеть, не повредят ли исследованию пропуски в колонке `genre`.\n",
    "\n",
    "Теперь можно перейти к проверке гипотез. "
   ]
  },
  {
   "cell_type": "markdown",
   "metadata": {
    "id": "WttZHXH0SqKk"
   },
   "source": [
    "## Проверка гипотез"
   ]
  },
  {
   "cell_type": "markdown",
   "metadata": {
    "id": "Im936VVi_Zcu"
   },
   "source": [
    "### Сравнение поведения пользователей двух столиц"
   ]
  },
  {
   "cell_type": "markdown",
   "metadata": {
    "id": "nwt_MuaL_Zcu"
   },
   "source": [
    "Первая гипотеза утверждает, что пользователи по-разному слушают музыку в Москве и Санкт-Петербурге. Проверьте это предположение по данным о трёх днях недели — понедельнике, среде и пятнице. Для этого:\n",
    "\n",
    "* Разделите пользователей Москвы и Санкт-Петербурга\n",
    "* Сравните, сколько треков послушала каждая группа пользователей в понедельник, среду и пятницу.\n"
   ]
  },
  {
   "cell_type": "markdown",
   "metadata": {
    "id": "8Dw_YMmT_Zcu"
   },
   "source": [
    "Для тренировки сначала выполните каждый из расчётов по отдельности. \n",
    "\n",
    "Оцените активность пользователей в каждом городе. Сгруппируйте данные по городу и посчитайте прослушивания в каждой группе.\n",
    "\n"
   ]
  },
  {
   "cell_type": "code",
   "execution_count": 21,
   "metadata": {
    "id": "0_Qs96oh_Zcu"
   },
   "outputs": [
    {
     "name": "stdout",
     "output_type": "stream",
     "text": [
      "Общее количество прослушиваний в Москве: 42741\n",
      "Общее количество прослушиваний в Санкт-Петербурге: 18512\n"
     ]
    }
   ],
   "source": [
    "# Подсчёт прослушиваний в каждом городе\n",
    "print('Общее количество прослушиваний в Москве:', df[df['city'] == 'Moscow']['city'].count())\n",
    "print('Общее количество прослушиваний в Санкт-Петербурге:', df[df['city']=='Saint-Petersburg']['city'].count())"
   ]
  },
  {
   "cell_type": "markdown",
   "metadata": {
    "id": "dzli3w8o_Zcu"
   },
   "source": [
    "В Москве прослушиваний больше, чем в Петербурге. Из этого не следует, что московские пользователи чаще слушают музыку. Просто самих пользователей в Москве больше.\n",
    "\n",
    "Теперь сгруппируйте данные по дню недели и подсчитайте прослушивания в понедельник, среду и пятницу. Учтите, что в данных есть информация только о прослушиваниях только за эти дни.\n"
   ]
  },
  {
   "cell_type": "code",
   "execution_count": 22,
   "metadata": {
    "id": "uZMKjiJz_Zcu"
   },
   "outputs": [
    {
     "name": "stdout",
     "output_type": "stream",
     "text": [
      "Общее количество прослушиваний в понедельник: 21354\n",
      "Общее количество прослушиваний в среду: 18059\n",
      "Общее количество прослушиваний в пятницу: 21840\n"
     ]
    }
   ],
   "source": [
    "# Подсчёт прослушиваний в каждый из трёх дней\n",
    "print('Общее количество прослушиваний в понедельник:', df[df['day'] == 'Monday']['day'].count())\n",
    "print('Общее количество прослушиваний в среду:', df[df['day'] == 'Wednesday']['day'].count())\n",
    "print('Общее количество прослушиваний в пятницу:', df[df['day'] == 'Friday']['day'].count())"
   ]
  },
  {
   "cell_type": "markdown",
   "metadata": {
    "id": "cC2tNrlL_Zcu"
   },
   "source": [
    "В среднем пользователи из двух городов менее активны по средам. Но картина может измениться, если рассмотреть каждый город в отдельности."
   ]
  },
  {
   "cell_type": "markdown",
   "metadata": {
    "id": "POzs8bGa_Zcu"
   },
   "source": [
    "Вы видели, как работает группировка по городу и по дням недели. Теперь напишите функцию, которая объединит два эти расчёта.\n",
    "\n",
    "Создайте функцию `number_tracks()`, которая посчитает прослушивания для заданного дня и города. Ей понадобятся два параметра:\n",
    "* день недели,\n",
    "* название города.\n",
    "\n",
    "В функции сохраните в переменную строки исходной таблицы, у которых значение:\n",
    "  * в колонке `day` равно параметру `day`,\n",
    "  * в колонке `city` равно параметру `city`.\n",
    "\n",
    "Для этого примените последовательную фильтрацию с логической индексацией.\n",
    "\n",
    "Затем посчитайте значения в столбце `user_id` получившейся таблицы. Результат сохраните в новую переменную. Верните эту переменную из функции."
   ]
  },
  {
   "cell_type": "code",
   "execution_count": 23,
   "metadata": {
    "id": "Nz3GdQB1_Zcu"
   },
   "outputs": [],
   "source": [
    "# <создание функции number_tracks()>\n",
    "# Объявляется функция с двумя параметрами: day, city.\n",
    "# В переменной track_list сохраняются те строки таблицы df, для которых \n",
    "# значение в столбце 'day' равно параметру day и одновременно значение\n",
    "# в столбце 'city' равно параметру city (используйте последовательную фильтрацию\n",
    "# с помощью логической индексации).\n",
    "# В переменной track_list_count сохраняется число значений столбца 'user_id',\n",
    "# рассчитанное методом count() для таблицы track_list.\n",
    "# Функция возвращает число - значение track_list_count.\n",
    "# Функция для подсчёта прослушиваний для конкретного города и дня.\n",
    "# С помощью последовательной фильтрации с логической индексацией она \n",
    "# сначала получит из исходной таблицы строки с нужным днём,\n",
    "# затем из результата отфильтрует строки с нужным городом,\n",
    "# методом count() посчитает количество значений в колонке user_id. \n",
    "# Это количество функция вернёт в качестве результата\n",
    "\n",
    "def number_tracks(day, city):\n",
    "    track_list = df[df['day'] == day]\n",
    "    track_list_count = track_list[track_list['city'] == city]['user_id'].count()\n",
    "    return track_list_count\n"
   ]
  },
  {
   "cell_type": "markdown",
   "metadata": {
    "id": "ytf7xFrFJQ2r"
   },
   "source": [
    "Вызовите `number_tracks()` шесть раз, меняя значение параметров — так, чтобы получить данные для каждого города в каждый из трёх дней."
   ]
  },
  {
   "cell_type": "code",
   "execution_count": 24,
   "metadata": {
    "id": "rJcRATNQ_Zcu"
   },
   "outputs": [],
   "source": [
    "# количество прослушиваний в Москве и Санкт-Петербурге в зависимости от дня недели:\n",
    "days = ['Monday', 'Wednesday', 'Friday']\n",
    "cities = ['Moscow', 'Saint-Petersburg']\n",
    "tracks_per_city_per_day = [] # список, содержащий информацию о количестве прослушиваний \n",
    "                             # в разных городах в разные дни                                            \n",
    "for city in cities:\n",
    "    counts_per_city_per_day = []\n",
    "    counts_per_city_per_day.append(city)\n",
    "    for day in days:\n",
    "        counts_per_city_per_day.append(number_tracks(day, city))\n",
    "    tracks_per_city_per_day.append(counts_per_city_per_day)"
   ]
  },
  {
   "cell_type": "markdown",
   "metadata": {
    "id": "7QXffbO-_Zcu"
   },
   "source": [
    "Создайте c помощью конструктора `pd.DataFrame` таблицу, где\n",
    "* названия колонок — `['city', 'monday', 'wednesday', 'friday']`;\n",
    "* данные — результаты, которые вы получили с помощью `number_tracks`."
   ]
  },
  {
   "cell_type": "code",
   "execution_count": 25,
   "metadata": {
    "id": "APAcLpOr_Zcu"
   },
   "outputs": [
    {
     "data": {
      "text/html": [
       "<div>\n",
       "<style scoped>\n",
       "    .dataframe tbody tr th:only-of-type {\n",
       "        vertical-align: middle;\n",
       "    }\n",
       "\n",
       "    .dataframe tbody tr th {\n",
       "        vertical-align: top;\n",
       "    }\n",
       "\n",
       "    .dataframe thead th {\n",
       "        text-align: right;\n",
       "    }\n",
       "</style>\n",
       "<table border=\"1\" class=\"dataframe\">\n",
       "  <thead>\n",
       "    <tr style=\"text-align: right;\">\n",
       "      <th></th>\n",
       "      <th>city</th>\n",
       "      <th>monday</th>\n",
       "      <th>wednesday</th>\n",
       "      <th>friday</th>\n",
       "    </tr>\n",
       "  </thead>\n",
       "  <tbody>\n",
       "    <tr>\n",
       "      <th>0</th>\n",
       "      <td>Moscow</td>\n",
       "      <td>15740</td>\n",
       "      <td>11056</td>\n",
       "      <td>15945</td>\n",
       "    </tr>\n",
       "    <tr>\n",
       "      <th>1</th>\n",
       "      <td>Saint-Petersburg</td>\n",
       "      <td>5614</td>\n",
       "      <td>7003</td>\n",
       "      <td>5895</td>\n",
       "    </tr>\n",
       "  </tbody>\n",
       "</table>\n",
       "</div>"
      ],
      "text/plain": [
       "               city  monday  wednesday  friday\n",
       "0            Moscow   15740      11056   15945\n",
       "1  Saint-Petersburg    5614       7003    5895"
      ]
     },
     "metadata": {},
     "output_type": "display_data"
    }
   ],
   "source": [
    "# Таблица с результатами\n",
    "entries = ['city', 'monday', 'wednesday', 'friday']\n",
    "tracks_per_city_per_day = pd.DataFrame(data=tracks_per_city_per_day, columns=entries)\n",
    "display(tracks_per_city_per_day)"
   ]
  },
  {
   "cell_type": "markdown",
   "metadata": {
    "id": "-EgPIHYu_Zcu"
   },
   "source": [
    "**Выводы**\n",
    "\n",
    "Данные показывают разницу поведения пользователей:\n",
    "\n",
    "- В Москве пик прослушиваний приходится на понедельник и пятницу, а в среду заметен спад.\n",
    "- В Петербурге, наоборот, больше слушают музыку по средам. Активность в понедельник и пятницу здесь почти в равной мере уступает среде.\n",
    "\n",
    "Значит, данные говорят в пользу первой гипотезы."
   ]
  },
  {
   "cell_type": "markdown",
   "metadata": {
    "id": "atZAxtq4_Zcu"
   },
   "source": [
    "### Музыка в начале и в конце недели"
   ]
  },
  {
   "cell_type": "markdown",
   "metadata": {
    "id": "eXrQqXFH_Zcu"
   },
   "source": [
    "Согласно второй гипотезе, утром в понедельник в Москве преобладают одни жанры, а в Петербурге — другие. Так же и вечером пятницы преобладают разные жанры — в зависимости от города."
   ]
  },
  {
   "cell_type": "markdown",
   "metadata": {
    "id": "S8UcW6Hw_Zcu"
   },
   "source": [
    "Сохраните таблицы с данными в две переменные:\n",
    "* по Москве — в `moscow_general`;\n",
    "* по Санкт-Петербургу — в `spb_general`."
   ]
  },
  {
   "cell_type": "code",
   "execution_count": 26,
   "metadata": {
    "id": "qeaFfM_P_Zcu"
   },
   "outputs": [],
   "source": [
    "# получение таблицы moscow_general из тех строк таблицы df, \n",
    "# для которых значение в столбце 'city' равно 'Moscow'\n",
    "moscow_general = df[df['city'] == 'Moscow']"
   ]
  },
  {
   "cell_type": "code",
   "execution_count": 27,
   "metadata": {
    "id": "ORaVRKto_Zcu"
   },
   "outputs": [],
   "source": [
    "# получение таблицы spb_general из тех строк таблицы df,\n",
    "# для которых значение в столбце 'city' равно 'Saint-Petersburg'\n",
    "spb_general = df[df['city'] == 'Saint-Petersburg']"
   ]
  },
  {
   "cell_type": "markdown",
   "metadata": {
    "id": "MEJV-CX2_Zcu"
   },
   "source": [
    "Создайте функцию `genre_weekday()` с четырьмя параметрами:\n",
    "* таблица (датафрейм) с данными,\n",
    "* день недели,\n",
    "* начальная временная метка в формате 'hh:mm', \n",
    "* последняя временная метка в формате 'hh:mm'.\n",
    "\n",
    "Функция должна вернуть информацию о топ-10 жанров тех треков, которые прослушивали в указанный день, в промежутке между двумя отметками времени."
   ]
  },
  {
   "cell_type": "code",
   "execution_count": 28,
   "metadata": {
    "id": "laJT9BYl_Zcu"
   },
   "outputs": [],
   "source": [
    "# Объявление функции genre_weekday() с параметрами table, day, time1, time2,\n",
    "# которая возвращает информацию о самых популярных жанрах в указанный день в\n",
    "# заданное время:\n",
    "# 1) в переменную genre_df сохраняются те строки переданного датафрейма table, для\n",
    "#    которых одновременно:\n",
    "#    - значение в столбце day равно значению аргумента day\n",
    "#    - значение в столбце time больше значения аргумента time1\n",
    "#    - значение в столбце time меньше значения аргумента time2\n",
    "#    Используйте последовательную фильтрацию с помощью логической индексации.\n",
    "# 2) сгруппировать датафрейм genre_df по столбцу genre, взять один из его\n",
    "#    столбцов и посчитать методом count() количество записей для каждого из\n",
    "#    присутствующих жанров, получившийся Series записать в переменную\n",
    "#    genre_df_count\n",
    "# 3) отсортировать genre_df_count по убыванию встречаемости и сохранить\n",
    "#    в переменную genre_df_sorted\n",
    "# 4) вернуть Series из 10 первых значений genre_df_sorted, это будут топ-10\n",
    "#    популярных жанров (в указанный день, в заданное время)\n",
    "def genre_weekday(table, day, time1, time2):\n",
    "    genre_df = table[table['day'] == day]\n",
    "    genre_df = genre_df[genre_df['time'] > time1]\n",
    "    genre_df = genre_df[genre_df['time'] < time2]\n",
    "    \n",
    "    genre_df_sorted = genre_df.groupby(by='genre')['time'].count().sort_values(ascending=False)\n",
    "    \n",
    "    return genre_df_sorted.head(10)\n",
    "    "
   ]
  },
  {
   "cell_type": "markdown",
   "metadata": {
    "id": "la2s2_PF_Zcu"
   },
   "source": [
    "Cравните результаты функции `genre_weekday()` для Москвы и Санкт-Петербурга в понедельник утром (с 7:00 до 11:00) и в пятницу вечером (с 17:00 до 23:00):"
   ]
  },
  {
   "cell_type": "code",
   "execution_count": 29,
   "metadata": {
    "id": "yz7itPUQ_Zcu"
   },
   "outputs": [
    {
     "data": {
      "text/html": [
       "<div>\n",
       "<style scoped>\n",
       "    .dataframe tbody tr th:only-of-type {\n",
       "        vertical-align: middle;\n",
       "    }\n",
       "\n",
       "    .dataframe tbody tr th {\n",
       "        vertical-align: top;\n",
       "    }\n",
       "\n",
       "    .dataframe thead th {\n",
       "        text-align: right;\n",
       "    }\n",
       "</style>\n",
       "<table border=\"1\" class=\"dataframe\">\n",
       "  <thead>\n",
       "    <tr style=\"text-align: right;\">\n",
       "      <th></th>\n",
       "      <th>genre</th>\n",
       "      <th>Moscow, Monday, 7:00-11:00</th>\n",
       "    </tr>\n",
       "  </thead>\n",
       "  <tbody>\n",
       "    <tr>\n",
       "      <th>0</th>\n",
       "      <td>pop</td>\n",
       "      <td>781</td>\n",
       "    </tr>\n",
       "    <tr>\n",
       "      <th>1</th>\n",
       "      <td>dance</td>\n",
       "      <td>549</td>\n",
       "    </tr>\n",
       "    <tr>\n",
       "      <th>2</th>\n",
       "      <td>electronic</td>\n",
       "      <td>480</td>\n",
       "    </tr>\n",
       "    <tr>\n",
       "      <th>3</th>\n",
       "      <td>rock</td>\n",
       "      <td>474</td>\n",
       "    </tr>\n",
       "    <tr>\n",
       "      <th>4</th>\n",
       "      <td>hiphop</td>\n",
       "      <td>286</td>\n",
       "    </tr>\n",
       "    <tr>\n",
       "      <th>5</th>\n",
       "      <td>ruspop</td>\n",
       "      <td>186</td>\n",
       "    </tr>\n",
       "    <tr>\n",
       "      <th>6</th>\n",
       "      <td>world</td>\n",
       "      <td>181</td>\n",
       "    </tr>\n",
       "    <tr>\n",
       "      <th>7</th>\n",
       "      <td>rusrap</td>\n",
       "      <td>175</td>\n",
       "    </tr>\n",
       "    <tr>\n",
       "      <th>8</th>\n",
       "      <td>alternative</td>\n",
       "      <td>164</td>\n",
       "    </tr>\n",
       "    <tr>\n",
       "      <th>9</th>\n",
       "      <td>unknown</td>\n",
       "      <td>161</td>\n",
       "    </tr>\n",
       "  </tbody>\n",
       "</table>\n",
       "</div>"
      ],
      "text/plain": [
       "         genre  Moscow, Monday, 7:00-11:00\n",
       "0          pop                         781\n",
       "1        dance                         549\n",
       "2   electronic                         480\n",
       "3         rock                         474\n",
       "4       hiphop                         286\n",
       "5       ruspop                         186\n",
       "6        world                         181\n",
       "7       rusrap                         175\n",
       "8  alternative                         164\n",
       "9      unknown                         161"
      ]
     },
     "metadata": {},
     "output_type": "display_data"
    },
    {
     "data": {
      "text/html": [
       "<div>\n",
       "<style scoped>\n",
       "    .dataframe tbody tr th:only-of-type {\n",
       "        vertical-align: middle;\n",
       "    }\n",
       "\n",
       "    .dataframe tbody tr th {\n",
       "        vertical-align: top;\n",
       "    }\n",
       "\n",
       "    .dataframe thead th {\n",
       "        text-align: right;\n",
       "    }\n",
       "</style>\n",
       "<table border=\"1\" class=\"dataframe\">\n",
       "  <thead>\n",
       "    <tr style=\"text-align: right;\">\n",
       "      <th></th>\n",
       "      <th>genre</th>\n",
       "      <th>S.-Petersburg, Monday,7:00-11:00</th>\n",
       "    </tr>\n",
       "  </thead>\n",
       "  <tbody>\n",
       "    <tr>\n",
       "      <th>0</th>\n",
       "      <td>pop</td>\n",
       "      <td>218</td>\n",
       "    </tr>\n",
       "    <tr>\n",
       "      <th>1</th>\n",
       "      <td>dance</td>\n",
       "      <td>182</td>\n",
       "    </tr>\n",
       "    <tr>\n",
       "      <th>2</th>\n",
       "      <td>rock</td>\n",
       "      <td>162</td>\n",
       "    </tr>\n",
       "    <tr>\n",
       "      <th>3</th>\n",
       "      <td>electronic</td>\n",
       "      <td>147</td>\n",
       "    </tr>\n",
       "    <tr>\n",
       "      <th>4</th>\n",
       "      <td>hiphop</td>\n",
       "      <td>80</td>\n",
       "    </tr>\n",
       "    <tr>\n",
       "      <th>5</th>\n",
       "      <td>ruspop</td>\n",
       "      <td>64</td>\n",
       "    </tr>\n",
       "    <tr>\n",
       "      <th>6</th>\n",
       "      <td>alternative</td>\n",
       "      <td>58</td>\n",
       "    </tr>\n",
       "    <tr>\n",
       "      <th>7</th>\n",
       "      <td>rusrap</td>\n",
       "      <td>55</td>\n",
       "    </tr>\n",
       "    <tr>\n",
       "      <th>8</th>\n",
       "      <td>jazz</td>\n",
       "      <td>44</td>\n",
       "    </tr>\n",
       "    <tr>\n",
       "      <th>9</th>\n",
       "      <td>classical</td>\n",
       "      <td>40</td>\n",
       "    </tr>\n",
       "  </tbody>\n",
       "</table>\n",
       "</div>"
      ],
      "text/plain": [
       "         genre  S.-Petersburg, Monday,7:00-11:00\n",
       "0          pop                               218\n",
       "1        dance                               182\n",
       "2         rock                               162\n",
       "3   electronic                               147\n",
       "4       hiphop                                80\n",
       "5       ruspop                                64\n",
       "6  alternative                                58\n",
       "7       rusrap                                55\n",
       "8         jazz                                44\n",
       "9    classical                                40"
      ]
     },
     "metadata": {},
     "output_type": "display_data"
    }
   ],
   "source": [
    "# запишем в переменные city_morning данные из функции genre_weekday для утра понедельника\n",
    "moscow_morning = genre_weekday(moscow_general, 'Monday', '07:00', '11:00').to_frame(name='Moscow, Monday, 7:00-11:00').reset_index()\n",
    "spb_morning = genre_weekday(spb_general, 'Monday', '07:00', '11:00').to_frame(name='S.-Petersburg, Monday,7:00-11:00').reset_index()\n",
    "# сравним жанры, которые слушают в разных городах утром в понедельник:\n",
    "display(moscow_morning, spb_morning)"
   ]
  },
  {
   "cell_type": "code",
   "execution_count": 30,
   "metadata": {
    "id": "EzXVRE1o_Zcu"
   },
   "outputs": [
    {
     "data": {
      "text/html": [
       "<div>\n",
       "<style scoped>\n",
       "    .dataframe tbody tr th:only-of-type {\n",
       "        vertical-align: middle;\n",
       "    }\n",
       "\n",
       "    .dataframe tbody tr th {\n",
       "        vertical-align: top;\n",
       "    }\n",
       "\n",
       "    .dataframe thead th {\n",
       "        text-align: right;\n",
       "    }\n",
       "</style>\n",
       "<table border=\"1\" class=\"dataframe\">\n",
       "  <thead>\n",
       "    <tr style=\"text-align: right;\">\n",
       "      <th></th>\n",
       "      <th>genre</th>\n",
       "      <th>Moscow, Friday, 17:00-23:00</th>\n",
       "    </tr>\n",
       "  </thead>\n",
       "  <tbody>\n",
       "    <tr>\n",
       "      <th>0</th>\n",
       "      <td>pop</td>\n",
       "      <td>713</td>\n",
       "    </tr>\n",
       "    <tr>\n",
       "      <th>1</th>\n",
       "      <td>rock</td>\n",
       "      <td>517</td>\n",
       "    </tr>\n",
       "    <tr>\n",
       "      <th>2</th>\n",
       "      <td>dance</td>\n",
       "      <td>495</td>\n",
       "    </tr>\n",
       "    <tr>\n",
       "      <th>3</th>\n",
       "      <td>electronic</td>\n",
       "      <td>482</td>\n",
       "    </tr>\n",
       "    <tr>\n",
       "      <th>4</th>\n",
       "      <td>hiphop</td>\n",
       "      <td>273</td>\n",
       "    </tr>\n",
       "    <tr>\n",
       "      <th>5</th>\n",
       "      <td>world</td>\n",
       "      <td>208</td>\n",
       "    </tr>\n",
       "    <tr>\n",
       "      <th>6</th>\n",
       "      <td>ruspop</td>\n",
       "      <td>170</td>\n",
       "    </tr>\n",
       "    <tr>\n",
       "      <th>7</th>\n",
       "      <td>alternative</td>\n",
       "      <td>163</td>\n",
       "    </tr>\n",
       "    <tr>\n",
       "      <th>8</th>\n",
       "      <td>classical</td>\n",
       "      <td>163</td>\n",
       "    </tr>\n",
       "    <tr>\n",
       "      <th>9</th>\n",
       "      <td>rusrap</td>\n",
       "      <td>142</td>\n",
       "    </tr>\n",
       "  </tbody>\n",
       "</table>\n",
       "</div>"
      ],
      "text/plain": [
       "         genre  Moscow, Friday, 17:00-23:00\n",
       "0          pop                          713\n",
       "1         rock                          517\n",
       "2        dance                          495\n",
       "3   electronic                          482\n",
       "4       hiphop                          273\n",
       "5        world                          208\n",
       "6       ruspop                          170\n",
       "7  alternative                          163\n",
       "8    classical                          163\n",
       "9       rusrap                          142"
      ]
     },
     "metadata": {},
     "output_type": "display_data"
    },
    {
     "data": {
      "text/html": [
       "<div>\n",
       "<style scoped>\n",
       "    .dataframe tbody tr th:only-of-type {\n",
       "        vertical-align: middle;\n",
       "    }\n",
       "\n",
       "    .dataframe tbody tr th {\n",
       "        vertical-align: top;\n",
       "    }\n",
       "\n",
       "    .dataframe thead th {\n",
       "        text-align: right;\n",
       "    }\n",
       "</style>\n",
       "<table border=\"1\" class=\"dataframe\">\n",
       "  <thead>\n",
       "    <tr style=\"text-align: right;\">\n",
       "      <th></th>\n",
       "      <th>genre</th>\n",
       "      <th>S.-Petersburg, Friday, 17:00-23:00</th>\n",
       "    </tr>\n",
       "  </thead>\n",
       "  <tbody>\n",
       "    <tr>\n",
       "      <th>0</th>\n",
       "      <td>pop</td>\n",
       "      <td>256</td>\n",
       "    </tr>\n",
       "    <tr>\n",
       "      <th>1</th>\n",
       "      <td>electronic</td>\n",
       "      <td>216</td>\n",
       "    </tr>\n",
       "    <tr>\n",
       "      <th>2</th>\n",
       "      <td>rock</td>\n",
       "      <td>216</td>\n",
       "    </tr>\n",
       "    <tr>\n",
       "      <th>3</th>\n",
       "      <td>dance</td>\n",
       "      <td>210</td>\n",
       "    </tr>\n",
       "    <tr>\n",
       "      <th>4</th>\n",
       "      <td>hiphop</td>\n",
       "      <td>97</td>\n",
       "    </tr>\n",
       "    <tr>\n",
       "      <th>5</th>\n",
       "      <td>alternative</td>\n",
       "      <td>63</td>\n",
       "    </tr>\n",
       "    <tr>\n",
       "      <th>6</th>\n",
       "      <td>jazz</td>\n",
       "      <td>61</td>\n",
       "    </tr>\n",
       "    <tr>\n",
       "      <th>7</th>\n",
       "      <td>classical</td>\n",
       "      <td>60</td>\n",
       "    </tr>\n",
       "    <tr>\n",
       "      <th>8</th>\n",
       "      <td>rusrap</td>\n",
       "      <td>59</td>\n",
       "    </tr>\n",
       "    <tr>\n",
       "      <th>9</th>\n",
       "      <td>world</td>\n",
       "      <td>54</td>\n",
       "    </tr>\n",
       "  </tbody>\n",
       "</table>\n",
       "</div>"
      ],
      "text/plain": [
       "         genre  S.-Petersburg, Friday, 17:00-23:00\n",
       "0          pop                                 256\n",
       "1   electronic                                 216\n",
       "2         rock                                 216\n",
       "3        dance                                 210\n",
       "4       hiphop                                  97\n",
       "5  alternative                                  63\n",
       "6         jazz                                  61\n",
       "7    classical                                  60\n",
       "8       rusrap                                  59\n",
       "9        world                                  54"
      ]
     },
     "metadata": {},
     "output_type": "display_data"
    }
   ],
   "source": [
    "# аналогично найдем и срваним вечерние предпочтения в жвух городах:\n",
    "moscow_evening = genre_weekday(moscow_general, 'Friday', '17:00', '23:00').to_frame(name='Moscow, Friday, 17:00-23:00').reset_index() \n",
    "spb_evening = genre_weekday(spb_general, 'Friday', '17:00', '23:00').to_frame(name='S.-Petersburg, Friday, 17:00-23:00').reset_index()\n",
    "display(moscow_evening, spb_evening)"
   ]
  },
  {
   "cell_type": "code",
   "execution_count": 31,
   "metadata": {
    "id": "JZaEKu5v_Zcu"
   },
   "outputs": [
    {
     "name": "stdout",
     "output_type": "stream",
     "text": [
      "Треки с пометкой pop составляет 13.59% от общего числа треков;\n",
      "Треки с пометкой unknown составляет 1.84% от общего числа треков;\n",
      "Треки с пометкой reggae составляет 0.98% от общего числа треков;\n"
     ]
    }
   ],
   "source": [
    "# Оценим, насколько значимы пропуски в колонке 'genre'\n",
    "\n",
    "genre_sum = df['genre'].count() # суммарное количество треков всех жанров\n",
    "\n",
    "# функция для оценки доли конкретного жанра:\n",
    "def genre_percentage(genre): \n",
    "    genre_type = df[df['genre'] == genre]['genre'].count()\n",
    "    percentage = genre_type*100/genre_sum\n",
    "    \n",
    "    return print(f\"Треки с пометкой {genre} составляет {round(percentage,2)}% от общего числа треков;\")\n",
    "\n",
    "# посчитаем, сколько процентов треков содержат пометку 'unknown', \n",
    "# 'pop' (самый популярный жанр в обоих городах) и 'reggae' (находится на 20м-м месте в Москве утром)\n",
    "genre_percentage('pop')\n",
    "genre_percentage('unknown')\n",
    "genre_percentage('reggae')"
   ]
  },
  {
   "cell_type": "markdown",
   "metadata": {
    "id": "wrCe4MNX_Zcu"
   },
   "source": [
    "**Выводы**\n",
    "\n",
    "Если сравнить топ-10 жанров в понедельник утром, можно сделать такие выводы:\n",
    "\n",
    "1. В Москве и Петербурге слушают похожую музыку: в обоих городах самым популярным стилем является популярная музыка, а второе и третье место в обоих городах занимают стили рок, \"dance\" и \"electronic\". Единственное отличие — в московский утренний рейтинг вошёл жанр “world”, а в петербургский — джаз и классика.\n",
    "2. В Москве пропущенных значений оказалось так много, что значение `'unknown'` заняло десятое место среди самых популярных жанров. Однако от общего числа композиций треки с пометкой 'unknown' составляют лишь 2%, а значит при заполнении пропусков маловероятно, чтобы общая картина топ-10 треков поменялась радикально.\n",
    "\n",
    "Вечер пятницы не меняет эту картину. Некоторые жанры поднимаются немного выше, другие спускаются:в московском топ-10 появляется классическая музыка, а в петербругском -- жанр \"world\". В целом список популярных музыкальных стилей остаётся тем же самым.\n",
    "\n",
    "Таким образом, вторая гипотеза подтвердилась лишь частично:\n",
    "* Пользователи слушают похожую музыку в начале недели и в конце.\n",
    "* Разница между Москвой и Петербургом не слишком выражена. В выбранные временные промежутки в Петербурге чаще слушают джаз, чем в Москве."
   ]
  },
  {
   "cell_type": "markdown",
   "metadata": {
    "id": "JolODAqr_Zcu"
   },
   "source": [
    "### Жанровые предпочтения в Москве и Петербурге\n",
    "\n",
    "Гипотеза: Петербург — столица рэпа, музыку этого жанра там слушают чаще, чем в Москве.  А Москва — город контрастов, в котором, тем не менее, преобладает поп-музыка."
   ]
  },
  {
   "cell_type": "markdown",
   "metadata": {
    "id": "DlegSvaT_Zcu"
   },
   "source": [
    "Сгруппируйте таблицу `moscow_general` по жанру и посчитайте прослушивания треков каждого жанра методом `count()`. Затем отсортируйте результат в порядке убывания и сохраните его в таблице `moscow_genres`."
   ]
  },
  {
   "cell_type": "code",
   "execution_count": 32,
   "metadata": {
    "id": "r19lIPke_Zcu"
   },
   "outputs": [],
   "source": [
    "# одной строкой: группировка таблицы moscow_general по столбцу 'genre', \n",
    "# подсчёт числа значений 'genre' в этой группировке методом count(), \n",
    "# сортировка получившегося Series в порядке убывания и сохранение в moscow_genres\n",
    "moscow_genres = moscow_general.groupby(by='genre')['genre'].count().sort_values(ascending=False)"
   ]
  },
  {
   "cell_type": "markdown",
   "metadata": {
    "id": "6kMuomxTiIr8"
   },
   "source": [
    "Выведите на экран первые десять строк `moscow_genres`:"
   ]
  },
  {
   "cell_type": "code",
   "execution_count": 33,
   "metadata": {
    "id": "WhCSooF8_Zcv"
   },
   "outputs": [
    {
     "data": {
      "text/plain": [
       "genre\n",
       "pop            5892\n",
       "dance          4435\n",
       "rock           3965\n",
       "electronic     3786\n",
       "hiphop         2096\n",
       "classical      1616\n",
       "world          1432\n",
       "alternative    1379\n",
       "ruspop         1372\n",
       "rusrap         1161\n",
       "Name: genre, dtype: int64"
      ]
     },
     "metadata": {},
     "output_type": "display_data"
    }
   ],
   "source": [
    "# просмотр первых 10 строк moscow_genres\n",
    "display(moscow_genres.head(10))"
   ]
  },
  {
   "cell_type": "markdown",
   "metadata": {
    "id": "cnPG2vnN_Zcv"
   },
   "source": [
    "Теперь повторите то же и для Петербурга.\n",
    "\n",
    "Сгруппируйте таблицу `spb_general` по жанру. Посчитайте прослушивания треков каждого жанра. Результат отсортируйте в порядке убывания и сохраните в таблице `spb_genres`:\n"
   ]
  },
  {
   "cell_type": "code",
   "execution_count": 34,
   "metadata": {
    "id": "gluLIpE7_Zcv"
   },
   "outputs": [],
   "source": [
    "# одной строкой: группировка таблицы spb_general по столбцу 'genre', \n",
    "# подсчёт числа значений 'genre' в этой группировке методом count(), \n",
    "# сортировка получившегося Series в порядке убывания и сохранение в spb_genres\n",
    "spb_genres = spb_general.groupby(by='genre')['genre'].count().sort_values(ascending=False)"
   ]
  },
  {
   "cell_type": "markdown",
   "metadata": {
    "id": "5Doha_ODgyQ8"
   },
   "source": [
    "Выведите на экран первые десять строк `spb_genres`:"
   ]
  },
  {
   "cell_type": "code",
   "execution_count": 35,
   "metadata": {
    "id": "uaGJHjVU_Zcv"
   },
   "outputs": [
    {
     "data": {
      "text/plain": [
       "genre\n",
       "pop            2431\n",
       "dance          1932\n",
       "rock           1879\n",
       "electronic     1736\n",
       "hiphop          960\n",
       "alternative     649\n",
       "classical       646\n",
       "rusrap          564\n",
       "ruspop          538\n",
       "world           515\n",
       "Name: genre, dtype: int64"
      ]
     },
     "metadata": {},
     "output_type": "display_data"
    }
   ],
   "source": [
    "# просмотр первых 10 строк spb_genres\n",
    "display(spb_genres.head(10))"
   ]
  },
  {
   "cell_type": "markdown",
   "metadata": {
    "id": "RY51YJYu_Zcv"
   },
   "source": [
    "**Выводы**"
   ]
  },
  {
   "cell_type": "markdown",
   "metadata": {
    "id": "nVhnJEm__Zcv"
   },
   "source": [
    "Гипотеза частично подтвердилась:\n",
    "* Поп-музыка — самый популярный жанр в Москве, как и предполагала гипотеза.\n",
    "* Вопреки ожиданиям, рэп одинаково популярен в Москве и Петербурге. \n"
   ]
  },
  {
   "cell_type": "markdown",
   "metadata": {
    "id": "ykKQ0N65_Zcv"
   },
   "source": [
    "## Итоги исследования"
   ]
  },
  {
   "cell_type": "markdown",
   "metadata": {
    "id": "tjUwbHb3_Zcv"
   },
   "source": [
    "Вы проверили три гипотезы и установили:\n",
    "\n",
    "1. День недели по-разному влияет на активность пользователей в Москве и Петербурге. \n",
    "\n",
    "Первая гипотеза полностью подтвердилась: в среду в Москве наблюдается спад общего числа прослушиваний на 30%, а в Петербурге наоборот -- увеличение на почти 20%.\n",
    "\n",
    "2. Музыкальные предпочтения не сильно меняются в течение недели — будь то Москва или Петербург. Небольшие различия заметны в начале недели, по понедельникам:\n",
    "* в Москве слушают музыку жанра “world”,\n",
    "* в Петербурге — джаз и классику.\n",
    "\n",
    "Таким образом, вторая гипотеза подтвердилась лишь отчасти. К сожалению, в данных много пропусков: жанры с пометкой 'unknown' вошли в топ-10 популярных жанров утром в понедельник в Москве (10 место). Однако треки с такой пометкой составляют лишь 2% от общего числа треков (самый популярный в Москве и Петербурге жанр \"pop\" составляет 14%), а значит восполнение пропусков вряд ли бы существенно изменило распределение жанров.  \n",
    "\n",
    "3. Во вкусах пользователей Москвы и Петербурга больше общего чем различий. Вопреки ожиданиям, предпочтения жанров в Петербурге напоминают московские: списки пяти самых популярных жанров для обоих городов полностью идентичны.\n",
    "\n",
    "Третья гипотеза не подтвердилась. Если различия в предпочтениях и существуют, на основной массе пользователей они незаметны, более того списки из пяти самых популярных жанров для обоих городов полностью совпадают.\n",
    "\n",
    "**На практике исследования содержат проверки статистических гипотез.**\n",
    "Из данных одного сервиса не всегда можно сделать вывод о всех жителях города.\n",
    "Проверки статистических гипотез покажут, насколько они достоверны, исходя из имеющихся данных. \n",
    "С методами проверок гипотез вы ещё познакомитесь в следующих темах."
   ]
  }
 ],
 "metadata": {
  "ExecuteTimeLog": [
   {
    "duration": 585,
    "start_time": "2021-10-27T19:13:32.180Z"
   },
   {
    "duration": 128,
    "start_time": "2021-10-27T19:14:07.261Z"
   },
   {
    "duration": 2,
    "start_time": "2021-10-27T19:15:25.713Z"
   },
   {
    "duration": 7,
    "start_time": "2021-10-27T19:15:36.609Z"
   },
   {
    "duration": 13,
    "start_time": "2021-10-27T19:15:49.601Z"
   },
   {
    "duration": 4,
    "start_time": "2021-10-27T19:21:08.571Z"
   },
   {
    "duration": 30,
    "start_time": "2021-10-27T19:24:57.092Z"
   },
   {
    "duration": 5,
    "start_time": "2021-10-27T19:25:21.950Z"
   },
   {
    "duration": 4,
    "start_time": "2021-10-27T19:25:30.691Z"
   },
   {
    "duration": 39,
    "start_time": "2021-10-27T19:27:32.233Z"
   },
   {
    "duration": 93,
    "start_time": "2021-10-27T19:29:21.972Z"
   },
   {
    "duration": 7351,
    "start_time": "2021-10-27T19:33:24.645Z"
   },
   {
    "duration": 6920,
    "start_time": "2021-10-27T19:36:39.230Z"
   },
   {
    "duration": 7258,
    "start_time": "2021-10-27T19:39:14.868Z"
   },
   {
    "duration": 8095,
    "start_time": "2021-10-27T19:41:39.701Z"
   },
   {
    "duration": 23,
    "start_time": "2021-10-27T19:42:22.336Z"
   },
   {
    "duration": 4,
    "start_time": "2021-10-27T19:42:30.891Z"
   },
   {
    "duration": 33,
    "start_time": "2021-10-27T19:42:33.723Z"
   },
   {
    "duration": 17,
    "start_time": "2021-10-27T19:42:37.902Z"
   },
   {
    "duration": 24,
    "start_time": "2021-10-27T19:42:50.471Z"
   },
   {
    "duration": 16,
    "start_time": "2021-10-27T19:43:18.891Z"
   },
   {
    "duration": 13,
    "start_time": "2021-10-27T19:44:21.594Z"
   },
   {
    "duration": 22,
    "start_time": "2021-10-27T19:44:48.565Z"
   },
   {
    "duration": 22,
    "start_time": "2021-10-27T19:44:56.593Z"
   },
   {
    "duration": 3,
    "start_time": "2021-10-27T19:45:04.045Z"
   },
   {
    "duration": 140,
    "start_time": "2021-10-27T19:45:06.774Z"
   },
   {
    "duration": 576,
    "start_time": "2021-10-27T19:45:32.874Z"
   },
   {
    "duration": 142,
    "start_time": "2021-10-27T19:45:36.054Z"
   },
   {
    "duration": 7,
    "start_time": "2021-10-27T19:45:39.366Z"
   },
   {
    "duration": 12,
    "start_time": "2021-10-27T19:45:42.875Z"
   },
   {
    "duration": 4,
    "start_time": "2021-10-27T19:45:47.686Z"
   },
   {
    "duration": 20,
    "start_time": "2021-10-27T19:45:50.556Z"
   },
   {
    "duration": 4,
    "start_time": "2021-10-27T19:45:53.006Z"
   },
   {
    "duration": 23,
    "start_time": "2021-10-27T19:45:56.474Z"
   },
   {
    "duration": 17,
    "start_time": "2021-10-27T19:46:12.954Z"
   },
   {
    "duration": 21,
    "start_time": "2021-10-27T19:46:15.187Z"
   },
   {
    "duration": 57,
    "start_time": "2021-10-27T19:46:36.775Z"
   },
   {
    "duration": 63,
    "start_time": "2021-10-27T19:47:05.947Z"
   },
   {
    "duration": 83,
    "start_time": "2021-10-27T19:48:32.155Z"
   },
   {
    "duration": 74,
    "start_time": "2021-10-27T19:48:42.756Z"
   },
   {
    "duration": 50,
    "start_time": "2021-10-27T19:48:53.555Z"
   },
   {
    "duration": 21,
    "start_time": "2021-10-27T19:50:08.354Z"
   },
   {
    "duration": 21,
    "start_time": "2021-10-27T19:50:14.295Z"
   },
   {
    "duration": 21,
    "start_time": "2021-10-27T19:50:21.108Z"
   },
   {
    "duration": 8,
    "start_time": "2021-10-27T19:50:43.776Z"
   },
   {
    "duration": 12,
    "start_time": "2021-10-27T19:51:08.223Z"
   },
   {
    "duration": 10,
    "start_time": "2021-10-27T19:51:20.473Z"
   },
   {
    "duration": 356,
    "start_time": "2021-10-27T19:52:35.713Z"
   },
   {
    "duration": 41,
    "start_time": "2021-10-27T19:52:43.592Z"
   },
   {
    "duration": 46,
    "start_time": "2021-10-27T19:53:11.613Z"
   },
   {
    "duration": 47,
    "start_time": "2021-10-27T19:53:16.605Z"
   },
   {
    "duration": 4,
    "start_time": "2021-10-27T20:05:43.838Z"
   },
   {
    "duration": 6,
    "start_time": "2021-10-27T20:07:02.342Z"
   },
   {
    "duration": 16,
    "start_time": "2021-10-27T20:07:36.000Z"
   },
   {
    "duration": 270,
    "start_time": "2021-10-27T20:08:22.922Z"
   },
   {
    "duration": 283,
    "start_time": "2021-10-27T20:08:42.102Z"
   },
   {
    "duration": 86,
    "start_time": "2021-10-27T20:08:57.162Z"
   },
   {
    "duration": 8,
    "start_time": "2021-10-27T20:09:04.604Z"
   },
   {
    "duration": 15,
    "start_time": "2021-10-27T20:09:11.562Z"
   },
   {
    "duration": 298,
    "start_time": "2021-10-27T20:09:24.294Z"
   },
   {
    "duration": 301,
    "start_time": "2021-10-27T20:09:30.182Z"
   },
   {
    "duration": 275,
    "start_time": "2021-10-27T20:09:38.915Z"
   },
   {
    "duration": 40,
    "start_time": "2021-10-27T20:10:05.372Z"
   },
   {
    "duration": 7437,
    "start_time": "2021-10-27T20:11:27.144Z"
   },
   {
    "duration": 6853,
    "start_time": "2021-10-27T20:12:32.101Z"
   },
   {
    "duration": 9149,
    "start_time": "2021-10-27T20:13:09.641Z"
   },
   {
    "duration": 43,
    "start_time": "2021-10-27T20:13:57.959Z"
   },
   {
    "duration": 41,
    "start_time": "2021-10-27T20:14:04.399Z"
   },
   {
    "duration": 17,
    "start_time": "2021-10-27T20:15:44.620Z"
   },
   {
    "duration": 291,
    "start_time": "2021-10-27T20:15:54.892Z"
   },
   {
    "duration": 7914,
    "start_time": "2021-10-27T20:16:21.940Z"
   },
   {
    "duration": 305,
    "start_time": "2021-10-27T20:16:45.982Z"
   },
   {
    "duration": 21,
    "start_time": "2021-10-27T20:16:57.861Z"
   },
   {
    "duration": 16,
    "start_time": "2021-10-27T20:17:01.741Z"
   },
   {
    "duration": 11,
    "start_time": "2021-10-27T20:17:11.462Z"
   },
   {
    "duration": 2,
    "start_time": "2021-10-27T20:17:19.036Z"
   },
   {
    "duration": 162,
    "start_time": "2021-10-27T20:17:21.916Z"
   },
   {
    "duration": 12,
    "start_time": "2021-10-27T20:17:24.033Z"
   },
   {
    "duration": 8,
    "start_time": "2021-10-27T20:17:27.322Z"
   },
   {
    "duration": 9,
    "start_time": "2021-10-27T20:17:33.554Z"
   },
   {
    "duration": 20,
    "start_time": "2021-10-27T20:17:36.462Z"
   },
   {
    "duration": 4,
    "start_time": "2021-10-27T20:17:39.522Z"
   },
   {
    "duration": 22,
    "start_time": "2021-10-27T20:17:42.683Z"
   },
   {
    "duration": 20,
    "start_time": "2021-10-27T20:17:45.864Z"
   },
   {
    "duration": 22,
    "start_time": "2021-10-27T20:17:47.815Z"
   },
   {
    "duration": 59,
    "start_time": "2021-10-27T20:17:50.794Z"
   },
   {
    "duration": 65,
    "start_time": "2021-10-27T20:17:52.862Z"
   },
   {
    "duration": 50,
    "start_time": "2021-10-27T20:17:54.794Z"
   },
   {
    "duration": 49,
    "start_time": "2021-10-27T20:17:59.613Z"
   },
   {
    "duration": 280,
    "start_time": "2021-10-27T20:19:31.801Z"
   },
   {
    "duration": 272,
    "start_time": "2021-10-27T20:19:42.222Z"
   },
   {
    "duration": 8900,
    "start_time": "2021-10-27T20:19:55.795Z"
   },
   {
    "duration": 41,
    "start_time": "2021-10-27T20:20:15.000Z"
   },
   {
    "duration": 3,
    "start_time": "2021-10-27T20:20:18.932Z"
   },
   {
    "duration": 24,
    "start_time": "2021-10-27T20:20:21.232Z"
   },
   {
    "duration": 18,
    "start_time": "2021-10-27T20:20:29.441Z"
   },
   {
    "duration": 54,
    "start_time": "2021-10-27T20:20:49.540Z"
   },
   {
    "duration": 272,
    "start_time": "2021-10-27T20:25:10.299Z"
   },
   {
    "duration": 280,
    "start_time": "2021-10-27T20:25:49.719Z"
   },
   {
    "duration": 268,
    "start_time": "2021-10-27T20:27:07.482Z"
   },
   {
    "duration": 5,
    "start_time": "2021-10-27T20:27:18.417Z"
   },
   {
    "duration": 10,
    "start_time": "2021-10-27T20:27:36.421Z"
   },
   {
    "duration": 4,
    "start_time": "2021-10-27T20:27:38.233Z"
   },
   {
    "duration": 16,
    "start_time": "2021-10-27T20:27:42.361Z"
   },
   {
    "duration": 4,
    "start_time": "2021-10-27T20:27:44.541Z"
   },
   {
    "duration": 15,
    "start_time": "2021-10-27T20:27:53.234Z"
   },
   {
    "duration": 5,
    "start_time": "2021-10-27T20:27:55.242Z"
   },
   {
    "duration": 28,
    "start_time": "2021-10-27T20:27:59.041Z"
   },
   {
    "duration": 15,
    "start_time": "2021-10-27T20:28:03.415Z"
   },
   {
    "duration": 26,
    "start_time": "2021-10-27T20:28:05.342Z"
   },
   {
    "duration": 13,
    "start_time": "2021-10-27T20:28:55.163Z"
   },
   {
    "duration": 31,
    "start_time": "2021-10-27T20:29:01.123Z"
   },
   {
    "duration": 18,
    "start_time": "2021-10-27T20:29:45.503Z"
   },
   {
    "duration": 20,
    "start_time": "2021-10-27T20:29:56.684Z"
   },
   {
    "duration": 378,
    "start_time": "2021-10-27T20:31:17.544Z"
   },
   {
    "duration": 27,
    "start_time": "2021-10-27T20:32:54.705Z"
   },
   {
    "duration": 30,
    "start_time": "2021-10-27T20:33:38.906Z"
   },
   {
    "duration": 5879,
    "start_time": "2021-10-27T20:33:58.905Z"
   },
   {
    "duration": -181,
    "start_time": "2021-10-27T20:34:13.121Z"
   },
   {
    "duration": 19,
    "start_time": "2021-10-27T20:34:30.926Z"
   },
   {
    "duration": 21,
    "start_time": "2021-10-27T20:34:58.266Z"
   },
   {
    "duration": 20,
    "start_time": "2021-10-27T20:35:01.826Z"
   },
   {
    "duration": 19,
    "start_time": "2021-10-27T20:35:11.487Z"
   },
   {
    "duration": 21,
    "start_time": "2021-10-27T20:35:22.666Z"
   },
   {
    "duration": 20,
    "start_time": "2021-10-27T20:35:36.686Z"
   },
   {
    "duration": 21,
    "start_time": "2021-10-27T20:36:41.867Z"
   },
   {
    "duration": 20,
    "start_time": "2021-10-27T20:36:49.087Z"
   },
   {
    "duration": 117,
    "start_time": "2021-10-27T20:41:47.808Z"
   },
   {
    "duration": 20,
    "start_time": "2021-10-27T20:42:01.889Z"
   },
   {
    "duration": 28,
    "start_time": "2021-10-27T20:42:42.948Z"
   },
   {
    "duration": 29,
    "start_time": "2021-10-27T20:42:57.728Z"
   },
   {
    "duration": 3,
    "start_time": "2021-10-27T20:44:14.850Z"
   },
   {
    "duration": 281,
    "start_time": "2021-10-27T20:45:23.163Z"
   },
   {
    "duration": 39,
    "start_time": "2021-10-27T20:45:33.329Z"
   },
   {
    "duration": 41,
    "start_time": "2021-10-27T20:45:44.929Z"
   },
   {
    "duration": 88,
    "start_time": "2021-10-27T20:46:29.862Z"
   },
   {
    "duration": 29,
    "start_time": "2021-10-27T20:46:39.534Z"
   },
   {
    "duration": 31,
    "start_time": "2021-10-27T20:47:22.639Z"
   },
   {
    "duration": 6972,
    "start_time": "2021-10-27T20:48:21.489Z"
   },
   {
    "duration": 90,
    "start_time": "2021-10-27T20:48:37.429Z"
   },
   {
    "duration": 6224,
    "start_time": "2021-10-27T20:48:40.589Z"
   },
   {
    "duration": 41,
    "start_time": "2021-10-27T20:48:55.163Z"
   },
   {
    "duration": 28,
    "start_time": "2021-10-27T20:49:48.309Z"
   },
   {
    "duration": 20,
    "start_time": "2021-10-27T20:50:14.189Z"
   },
   {
    "duration": 45,
    "start_time": "2021-10-27T21:14:52.654Z"
   },
   {
    "duration": 38,
    "start_time": "2021-10-27T21:15:09.685Z"
   },
   {
    "duration": 25,
    "start_time": "2021-10-27T21:15:53.945Z"
   },
   {
    "duration": 47,
    "start_time": "2021-10-27T21:18:29.242Z"
   },
   {
    "duration": 31,
    "start_time": "2021-10-27T21:18:47.401Z"
   },
   {
    "duration": 86,
    "start_time": "2021-10-27T21:18:55.822Z"
   },
   {
    "duration": 32,
    "start_time": "2021-10-27T21:19:06.201Z"
   },
   {
    "duration": 617,
    "start_time": "2021-10-27T21:21:13.867Z"
   },
   {
    "duration": 137,
    "start_time": "2021-10-27T21:21:16.563Z"
   },
   {
    "duration": 16,
    "start_time": "2021-10-27T21:21:18.463Z"
   },
   {
    "duration": 8,
    "start_time": "2021-10-27T21:21:21.556Z"
   },
   {
    "duration": 4,
    "start_time": "2021-10-27T21:21:38.935Z"
   },
   {
    "duration": 20,
    "start_time": "2021-10-27T21:21:42.163Z"
   },
   {
    "duration": 4,
    "start_time": "2021-10-27T21:21:44.512Z"
   },
   {
    "duration": 21,
    "start_time": "2021-10-27T21:21:50.523Z"
   },
   {
    "duration": 16,
    "start_time": "2021-10-27T21:21:53.623Z"
   },
   {
    "duration": 20,
    "start_time": "2021-10-27T21:21:57.125Z"
   },
   {
    "duration": 55,
    "start_time": "2021-10-27T21:22:07.803Z"
   },
   {
    "duration": 67,
    "start_time": "2021-10-27T21:22:16.623Z"
   },
   {
    "duration": 51,
    "start_time": "2021-10-27T21:22:20.175Z"
   },
   {
    "duration": 49,
    "start_time": "2021-10-27T21:22:47.442Z"
   },
   {
    "duration": 49,
    "start_time": "2021-10-27T21:22:57.174Z"
   },
   {
    "duration": 39,
    "start_time": "2021-10-27T21:23:10.154Z"
   },
   {
    "duration": 3,
    "start_time": "2021-10-27T21:23:14.962Z"
   },
   {
    "duration": 15,
    "start_time": "2021-10-27T21:23:17.473Z"
   },
   {
    "duration": 40,
    "start_time": "2021-10-27T21:23:20.694Z"
   },
   {
    "duration": 41,
    "start_time": "2021-10-27T21:23:50.083Z"
   },
   {
    "duration": 23,
    "start_time": "2021-10-27T21:24:13.181Z"
   },
   {
    "duration": 31,
    "start_time": "2021-10-27T21:25:00.066Z"
   },
   {
    "duration": 133,
    "start_time": "2021-10-28T16:15:05.412Z"
   },
   {
    "duration": 549,
    "start_time": "2021-10-28T16:15:16.084Z"
   },
   {
    "duration": 3,
    "start_time": "2021-10-28T16:15:24.345Z"
   },
   {
    "duration": 558,
    "start_time": "2021-10-28T16:17:13.939Z"
   },
   {
    "duration": 571,
    "start_time": "2021-10-28T16:17:40.661Z"
   },
   {
    "duration": 136,
    "start_time": "2021-10-28T16:17:41.650Z"
   },
   {
    "duration": 16,
    "start_time": "2021-10-28T16:17:42.509Z"
   },
   {
    "duration": 8,
    "start_time": "2021-10-28T16:17:45.013Z"
   },
   {
    "duration": 4,
    "start_time": "2021-10-28T16:17:47.874Z"
   },
   {
    "duration": 20,
    "start_time": "2021-10-28T16:17:49.768Z"
   },
   {
    "duration": 3,
    "start_time": "2021-10-28T16:17:50.725Z"
   },
   {
    "duration": 22,
    "start_time": "2021-10-28T16:17:52.811Z"
   },
   {
    "duration": 18,
    "start_time": "2021-10-28T16:17:54.665Z"
   },
   {
    "duration": 22,
    "start_time": "2021-10-28T16:17:55.925Z"
   },
   {
    "duration": 56,
    "start_time": "2021-10-28T16:17:57.831Z"
   },
   {
    "duration": 63,
    "start_time": "2021-10-28T16:17:59.256Z"
   },
   {
    "duration": 52,
    "start_time": "2021-10-28T16:18:00.943Z"
   },
   {
    "duration": 38,
    "start_time": "2021-10-28T16:18:03.071Z"
   },
   {
    "duration": 3,
    "start_time": "2021-10-28T16:18:06.341Z"
   },
   {
    "duration": 16,
    "start_time": "2021-10-28T16:18:07.153Z"
   },
   {
    "duration": 39,
    "start_time": "2021-10-28T16:18:08.864Z"
   },
   {
    "duration": 23,
    "start_time": "2021-10-28T16:18:12.432Z"
   },
   {
    "duration": 28,
    "start_time": "2021-10-28T16:18:13.560Z"
   },
   {
    "duration": 3,
    "start_time": "2021-10-28T16:18:16.329Z"
   },
   {
    "duration": 7773,
    "start_time": "2021-10-28T16:18:17.956Z"
   },
   {
    "duration": 9794,
    "start_time": "2021-10-28T16:19:56.563Z"
   },
   {
    "duration": 102,
    "start_time": "2021-10-28T16:20:49.876Z"
   },
   {
    "duration": 108,
    "start_time": "2021-10-28T16:20:54.459Z"
   },
   {
    "duration": 7125,
    "start_time": "2021-10-28T16:21:00.635Z"
   },
   {
    "duration": 7053,
    "start_time": "2021-10-28T16:21:35.564Z"
   },
   {
    "duration": 8598,
    "start_time": "2021-10-28T16:22:13.388Z"
   },
   {
    "duration": 3,
    "start_time": "2021-10-28T16:23:45.025Z"
   },
   {
    "duration": 12,
    "start_time": "2021-10-28T16:23:53.817Z"
   },
   {
    "duration": 4,
    "start_time": "2021-10-28T16:25:26.994Z"
   },
   {
    "duration": 1683,
    "start_time": "2021-10-28T16:25:33.791Z"
   },
   {
    "duration": 3,
    "start_time": "2021-10-28T16:26:22.393Z"
   },
   {
    "duration": 20,
    "start_time": "2021-10-28T16:26:23.734Z"
   },
   {
    "duration": 4,
    "start_time": "2021-10-28T16:26:50.494Z"
   },
   {
    "duration": 564,
    "start_time": "2021-10-28T16:26:52.144Z"
   },
   {
    "duration": 3,
    "start_time": "2021-10-28T16:27:14.587Z"
   },
   {
    "duration": 856,
    "start_time": "2021-10-28T16:27:18.201Z"
   },
   {
    "duration": 4,
    "start_time": "2021-10-28T16:27:43.465Z"
   },
   {
    "duration": 7601,
    "start_time": "2021-10-28T16:27:49.212Z"
   },
   {
    "duration": 146,
    "start_time": "2021-10-28T16:28:58.377Z"
   },
   {
    "duration": 4,
    "start_time": "2021-10-28T16:29:00.702Z"
   },
   {
    "duration": 6979,
    "start_time": "2021-10-28T16:29:02.585Z"
   },
   {
    "duration": 131,
    "start_time": "2021-10-28T16:29:25.905Z"
   },
   {
    "duration": 3,
    "start_time": "2021-10-28T16:29:28.258Z"
   },
   {
    "duration": 14281,
    "start_time": "2021-10-28T16:29:30.353Z"
   },
   {
    "duration": 7310,
    "start_time": "2021-10-28T16:30:24.352Z"
   },
   {
    "duration": 4,
    "start_time": "2021-10-28T16:30:56.528Z"
   },
   {
    "duration": 16,
    "start_time": "2021-10-28T16:31:11.661Z"
   },
   {
    "duration": 18,
    "start_time": "2021-10-28T16:31:16.094Z"
   },
   {
    "duration": 17,
    "start_time": "2021-10-28T16:31:28.196Z"
   },
   {
    "duration": 19,
    "start_time": "2021-10-28T16:31:43.504Z"
   },
   {
    "duration": 25,
    "start_time": "2021-10-28T16:32:12.537Z"
   },
   {
    "duration": 28,
    "start_time": "2021-10-28T16:39:57.870Z"
   },
   {
    "duration": 30,
    "start_time": "2021-10-28T16:40:14.352Z"
   },
   {
    "duration": 3,
    "start_time": "2021-10-28T16:40:36.757Z"
   },
   {
    "duration": 90,
    "start_time": "2021-10-28T16:40:38.086Z"
   },
   {
    "duration": 290,
    "start_time": "2021-10-28T16:41:30.811Z"
   },
   {
    "duration": 69,
    "start_time": "2021-10-28T16:41:52.587Z"
   },
   {
    "duration": 277,
    "start_time": "2021-10-28T16:44:46.603Z"
   },
   {
    "duration": 9,
    "start_time": "2021-10-28T16:44:57.843Z"
   },
   {
    "duration": 2,
    "start_time": "2021-10-28T18:06:33.608Z"
   },
   {
    "duration": 159,
    "start_time": "2021-10-28T18:06:33.614Z"
   },
   {
    "duration": 10,
    "start_time": "2021-10-28T18:06:33.775Z"
   },
   {
    "duration": 13,
    "start_time": "2021-10-28T18:06:33.787Z"
   },
   {
    "duration": 8,
    "start_time": "2021-10-28T18:06:33.802Z"
   },
   {
    "duration": 35,
    "start_time": "2021-10-28T18:06:33.811Z"
   },
   {
    "duration": 4,
    "start_time": "2021-10-28T18:06:33.847Z"
   },
   {
    "duration": 25,
    "start_time": "2021-10-28T18:06:33.853Z"
   },
   {
    "duration": 20,
    "start_time": "2021-10-28T18:06:33.880Z"
   },
   {
    "duration": 21,
    "start_time": "2021-10-28T18:06:33.902Z"
   },
   {
    "duration": 56,
    "start_time": "2021-10-28T18:06:33.944Z"
   },
   {
    "duration": 80,
    "start_time": "2021-10-28T18:06:34.002Z"
   },
   {
    "duration": 48,
    "start_time": "2021-10-28T18:06:34.084Z"
   },
   {
    "duration": 48,
    "start_time": "2021-10-28T18:06:34.133Z"
   },
   {
    "duration": 3,
    "start_time": "2021-10-28T18:06:34.182Z"
   },
   {
    "duration": 20,
    "start_time": "2021-10-28T18:06:34.187Z"
   },
   {
    "duration": 62,
    "start_time": "2021-10-28T18:06:34.209Z"
   },
   {
    "duration": 26,
    "start_time": "2021-10-28T18:06:34.273Z"
   },
   {
    "duration": 43,
    "start_time": "2021-10-28T18:06:34.301Z"
   },
   {
    "duration": 3,
    "start_time": "2021-10-28T18:06:34.347Z"
   },
   {
    "duration": 83,
    "start_time": "2021-10-28T18:06:34.352Z"
   },
   {
    "duration": 3,
    "start_time": "2021-10-28T18:06:34.436Z"
   },
   {
    "duration": 20,
    "start_time": "2021-10-28T18:06:34.440Z"
   },
   {
    "duration": 11,
    "start_time": "2021-10-28T18:06:34.463Z"
   },
   {
    "duration": 17,
    "start_time": "2021-10-28T18:06:34.476Z"
   },
   {
    "duration": 8,
    "start_time": "2021-10-28T18:06:34.494Z"
   },
   {
    "duration": 17,
    "start_time": "2021-10-28T18:06:34.504Z"
   },
   {
    "duration": 10,
    "start_time": "2021-10-28T18:08:46.909Z"
   },
   {
    "duration": 10,
    "start_time": "2021-10-28T18:08:47.902Z"
   },
   {
    "duration": 5,
    "start_time": "2021-10-28T18:20:03.979Z"
   },
   {
    "duration": 20,
    "start_time": "2021-10-28T18:20:46.557Z"
   },
   {
    "duration": 20,
    "start_time": "2021-10-28T18:21:39.532Z"
   },
   {
    "duration": 5,
    "start_time": "2021-10-28T18:21:58.176Z"
   },
   {
    "duration": 555,
    "start_time": "2021-10-28T18:22:01.505Z"
   },
   {
    "duration": 4,
    "start_time": "2021-10-28T18:22:09.717Z"
   },
   {
    "duration": 21,
    "start_time": "2021-10-28T18:22:12.022Z"
   },
   {
    "duration": 5,
    "start_time": "2021-10-28T18:22:30.271Z"
   },
   {
    "duration": 23,
    "start_time": "2021-10-28T18:22:32.768Z"
   },
   {
    "duration": 4,
    "start_time": "2021-10-28T18:38:11.232Z"
   },
   {
    "duration": 542,
    "start_time": "2021-10-28T18:38:14.240Z"
   },
   {
    "duration": 87,
    "start_time": "2021-10-28T18:38:36.210Z"
   },
   {
    "duration": 4,
    "start_time": "2021-10-28T18:38:56.104Z"
   },
   {
    "duration": 24,
    "start_time": "2021-10-28T18:38:57.884Z"
   },
   {
    "duration": 4,
    "start_time": "2021-10-28T18:43:29.392Z"
   },
   {
    "duration": 24,
    "start_time": "2021-10-28T18:43:31.871Z"
   },
   {
    "duration": 4,
    "start_time": "2021-10-28T18:44:21.294Z"
   },
   {
    "duration": 699,
    "start_time": "2021-10-28T18:44:25.201Z"
   },
   {
    "duration": 4,
    "start_time": "2021-10-28T18:44:45.324Z"
   },
   {
    "duration": 21,
    "start_time": "2021-10-28T18:44:46.829Z"
   },
   {
    "duration": 20,
    "start_time": "2021-10-28T18:45:38.566Z"
   },
   {
    "duration": 441,
    "start_time": "2021-10-28T19:08:09.575Z"
   },
   {
    "duration": 10,
    "start_time": "2021-10-28T19:08:25.778Z"
   },
   {
    "duration": 11,
    "start_time": "2021-10-28T19:08:28.013Z"
   },
   {
    "duration": 23,
    "start_time": "2021-10-28T19:08:31.097Z"
   },
   {
    "duration": 20,
    "start_time": "2021-10-28T19:08:36.177Z"
   },
   {
    "duration": 12,
    "start_time": "2021-10-28T19:08:50.366Z"
   },
   {
    "duration": 10,
    "start_time": "2021-10-28T19:08:51.498Z"
   },
   {
    "duration": 4,
    "start_time": "2021-10-28T19:08:55.072Z"
   },
   {
    "duration": 22,
    "start_time": "2021-10-28T19:08:57.089Z"
   },
   {
    "duration": 574,
    "start_time": "2021-10-28T19:09:35.977Z"
   },
   {
    "duration": 129,
    "start_time": "2021-10-28T19:09:36.553Z"
   },
   {
    "duration": 19,
    "start_time": "2021-10-28T19:09:36.684Z"
   },
   {
    "duration": 8,
    "start_time": "2021-10-28T19:09:36.705Z"
   },
   {
    "duration": 6,
    "start_time": "2021-10-28T19:09:36.715Z"
   },
   {
    "duration": 36,
    "start_time": "2021-10-28T19:09:36.723Z"
   },
   {
    "duration": 8,
    "start_time": "2021-10-28T19:09:36.761Z"
   },
   {
    "duration": 43,
    "start_time": "2021-10-28T19:09:36.772Z"
   },
   {
    "duration": 28,
    "start_time": "2021-10-28T19:09:36.818Z"
   },
   {
    "duration": 36,
    "start_time": "2021-10-28T19:09:36.848Z"
   },
   {
    "duration": 66,
    "start_time": "2021-10-28T19:09:36.886Z"
   },
   {
    "duration": 64,
    "start_time": "2021-10-28T19:09:36.954Z"
   },
   {
    "duration": 66,
    "start_time": "2021-10-28T19:09:37.020Z"
   },
   {
    "duration": 39,
    "start_time": "2021-10-28T19:09:37.088Z"
   },
   {
    "duration": 16,
    "start_time": "2021-10-28T19:09:37.129Z"
   },
   {
    "duration": 17,
    "start_time": "2021-10-28T19:09:37.147Z"
   },
   {
    "duration": 44,
    "start_time": "2021-10-28T19:09:37.166Z"
   },
   {
    "duration": 27,
    "start_time": "2021-10-28T19:09:37.212Z"
   },
   {
    "duration": 30,
    "start_time": "2021-10-28T19:09:37.244Z"
   },
   {
    "duration": 4,
    "start_time": "2021-10-28T19:09:37.276Z"
   },
   {
    "duration": 90,
    "start_time": "2021-10-28T19:09:37.282Z"
   },
   {
    "duration": 3,
    "start_time": "2021-10-28T19:09:37.374Z"
   },
   {
    "duration": 11,
    "start_time": "2021-10-28T19:09:37.380Z"
   },
   {
    "duration": 22,
    "start_time": "2021-10-28T19:09:37.393Z"
   },
   {
    "duration": 15,
    "start_time": "2021-10-28T19:09:37.417Z"
   },
   {
    "duration": 16,
    "start_time": "2021-10-28T19:09:37.434Z"
   },
   {
    "duration": 23,
    "start_time": "2021-10-28T19:09:37.452Z"
   },
   {
    "duration": 19,
    "start_time": "2021-10-28T19:09:37.477Z"
   },
   {
    "duration": 30,
    "start_time": "2021-10-28T19:09:37.498Z"
   },
   {
    "duration": 4,
    "start_time": "2021-10-28T19:09:37.530Z"
   },
   {
    "duration": 50,
    "start_time": "2021-10-28T19:09:37.535Z"
   },
   {
    "duration": 35,
    "start_time": "2021-10-28T19:09:37.587Z"
   },
   {
    "duration": 28,
    "start_time": "2021-10-28T19:09:37.624Z"
   },
   {
    "duration": 27,
    "start_time": "2021-10-28T19:12:11.887Z"
   },
   {
    "duration": 25,
    "start_time": "2021-10-28T19:12:28.135Z"
   },
   {
    "duration": 10183,
    "start_time": "2021-10-28T19:12:44.891Z"
   },
   {
    "duration": 23,
    "start_time": "2021-10-28T19:13:05.027Z"
   },
   {
    "duration": 4,
    "start_time": "2021-10-28T19:15:44.003Z"
   },
   {
    "duration": 1368,
    "start_time": "2021-10-28T19:15:45.904Z"
   },
   {
    "duration": 4,
    "start_time": "2021-10-28T19:16:43.356Z"
   },
   {
    "duration": 5,
    "start_time": "2021-10-28T19:16:44.798Z"
   },
   {
    "duration": 561,
    "start_time": "2021-10-28T19:16:47.432Z"
   },
   {
    "duration": 4,
    "start_time": "2021-10-28T19:17:20.949Z"
   },
   {
    "duration": 23,
    "start_time": "2021-10-28T19:17:22.270Z"
   },
   {
    "duration": 4,
    "start_time": "2021-10-28T19:17:58.336Z"
   },
   {
    "duration": 9268,
    "start_time": "2021-10-28T19:18:00.299Z"
   },
   {
    "duration": 4,
    "start_time": "2021-10-28T19:18:53.666Z"
   },
   {
    "duration": 22,
    "start_time": "2021-10-28T19:18:56.138Z"
   },
   {
    "duration": 22,
    "start_time": "2021-10-28T19:19:01.755Z"
   },
   {
    "duration": 315,
    "start_time": "2021-10-28T19:19:26.986Z"
   },
   {
    "duration": 24,
    "start_time": "2021-10-28T19:19:35.336Z"
   },
   {
    "duration": 19,
    "start_time": "2021-10-28T19:19:57.496Z"
   },
   {
    "duration": 4,
    "start_time": "2021-10-28T19:21:00.851Z"
   },
   {
    "duration": 25,
    "start_time": "2021-10-28T19:21:04.363Z"
   },
   {
    "duration": 3,
    "start_time": "2021-10-28T19:21:12.803Z"
   },
   {
    "duration": 18,
    "start_time": "2021-10-28T19:21:14.899Z"
   },
   {
    "duration": 13,
    "start_time": "2021-10-28T19:21:21.312Z"
   },
   {
    "duration": 12,
    "start_time": "2021-10-28T19:21:31.468Z"
   },
   {
    "duration": 11,
    "start_time": "2021-10-28T19:21:33.475Z"
   },
   {
    "duration": 4,
    "start_time": "2021-10-28T19:25:08.433Z"
   },
   {
    "duration": 19,
    "start_time": "2021-10-28T19:25:10.777Z"
   },
   {
    "duration": 4,
    "start_time": "2021-10-28T19:26:51.621Z"
   },
   {
    "duration": 18,
    "start_time": "2021-10-28T19:26:53.994Z"
   },
   {
    "duration": 4,
    "start_time": "2021-10-28T19:27:18.887Z"
   },
   {
    "duration": 17,
    "start_time": "2021-10-28T19:27:21.205Z"
   },
   {
    "duration": 3,
    "start_time": "2021-10-28T19:30:56.526Z"
   },
   {
    "duration": 3,
    "start_time": "2021-10-28T19:31:04.556Z"
   },
   {
    "duration": 22,
    "start_time": "2021-10-28T19:31:06.585Z"
   },
   {
    "duration": 78,
    "start_time": "2021-10-28T19:33:44.250Z"
   },
   {
    "duration": 6911,
    "start_time": "2021-10-28T19:33:46.802Z"
   },
   {
    "duration": 5,
    "start_time": "2021-10-28T19:34:16.135Z"
   },
   {
    "duration": 20,
    "start_time": "2021-10-28T19:34:18.932Z"
   },
   {
    "duration": 5,
    "start_time": "2021-10-28T19:35:20.841Z"
   },
   {
    "duration": 22,
    "start_time": "2021-10-28T19:35:25.848Z"
   },
   {
    "duration": 5,
    "start_time": "2021-10-28T19:35:31.190Z"
   },
   {
    "duration": 22,
    "start_time": "2021-10-28T19:35:33.167Z"
   },
   {
    "duration": 98,
    "start_time": "2021-10-28T19:35:39.310Z"
   },
   {
    "duration": 5,
    "start_time": "2021-10-28T19:35:47.124Z"
   },
   {
    "duration": 21,
    "start_time": "2021-10-28T19:35:48.327Z"
   },
   {
    "duration": 4,
    "start_time": "2021-10-28T19:35:53.870Z"
   },
   {
    "duration": 26,
    "start_time": "2021-10-28T19:35:55.318Z"
   },
   {
    "duration": 4,
    "start_time": "2021-10-28T19:37:37.656Z"
   },
   {
    "duration": 556,
    "start_time": "2021-10-28T19:37:38.982Z"
   },
   {
    "duration": 4,
    "start_time": "2021-10-28T19:37:47.324Z"
   },
   {
    "duration": 4,
    "start_time": "2021-10-28T19:38:06.889Z"
   },
   {
    "duration": 20,
    "start_time": "2021-10-28T19:38:09.017Z"
   },
   {
    "duration": 4,
    "start_time": "2021-10-28T19:38:16.081Z"
   },
   {
    "duration": 20,
    "start_time": "2021-10-28T19:38:16.945Z"
   },
   {
    "duration": 4,
    "start_time": "2021-10-28T19:38:59.562Z"
   },
   {
    "duration": 19,
    "start_time": "2021-10-28T19:39:03.686Z"
   },
   {
    "duration": 4,
    "start_time": "2021-10-28T19:39:31.966Z"
   },
   {
    "duration": 569,
    "start_time": "2021-10-28T19:39:34.081Z"
   },
   {
    "duration": 552,
    "start_time": "2021-10-28T19:42:24.798Z"
   },
   {
    "duration": 552,
    "start_time": "2021-10-28T19:43:02.414Z"
   },
   {
    "duration": 4,
    "start_time": "2021-10-28T19:43:06.253Z"
   },
   {
    "duration": 19,
    "start_time": "2021-10-28T19:43:10.154Z"
   },
   {
    "duration": 33,
    "start_time": "2021-10-28T19:43:23.219Z"
   },
   {
    "duration": 21,
    "start_time": "2021-10-28T19:43:31.879Z"
   },
   {
    "duration": 15,
    "start_time": "2021-10-28T19:44:08.775Z"
   },
   {
    "duration": 15,
    "start_time": "2021-10-28T19:44:17.943Z"
   },
   {
    "duration": 15,
    "start_time": "2021-10-28T19:44:22.429Z"
   },
   {
    "duration": 15,
    "start_time": "2021-10-28T19:44:26.487Z"
   },
   {
    "duration": 16,
    "start_time": "2021-10-28T19:44:31.564Z"
   },
   {
    "duration": 101,
    "start_time": "2021-10-28T19:45:50.733Z"
   },
   {
    "duration": 19,
    "start_time": "2021-10-28T19:46:01.950Z"
   },
   {
    "duration": 15,
    "start_time": "2021-10-28T19:46:27.345Z"
   },
   {
    "duration": 32,
    "start_time": "2021-10-28T19:52:15.240Z"
   },
   {
    "duration": 285,
    "start_time": "2021-10-28T19:52:16.754Z"
   },
   {
    "duration": 293,
    "start_time": "2021-10-28T19:52:44.178Z"
   },
   {
    "duration": 19,
    "start_time": "2021-10-28T19:54:41.174Z"
   },
   {
    "duration": 38,
    "start_time": "2021-10-28T19:55:51.233Z"
   },
   {
    "duration": 23,
    "start_time": "2021-10-28T19:56:06.688Z"
   },
   {
    "duration": 26,
    "start_time": "2021-10-28T19:56:36.925Z"
   },
   {
    "duration": 22,
    "start_time": "2021-10-28T19:58:20.707Z"
   },
   {
    "duration": 16,
    "start_time": "2021-10-28T19:58:24.232Z"
   },
   {
    "duration": 34,
    "start_time": "2021-10-28T19:59:27.101Z"
   },
   {
    "duration": 22,
    "start_time": "2021-10-28T20:00:25.261Z"
   },
   {
    "duration": 41,
    "start_time": "2021-10-28T20:00:59.391Z"
   },
   {
    "duration": 295,
    "start_time": "2021-10-28T20:01:56.928Z"
   },
   {
    "duration": 37,
    "start_time": "2021-10-28T20:02:04.312Z"
   },
   {
    "duration": 31,
    "start_time": "2021-10-28T20:03:10.595Z"
   },
   {
    "duration": 29,
    "start_time": "2021-10-28T20:07:51.863Z"
   },
   {
    "duration": 9,
    "start_time": "2021-10-28T20:41:38.162Z"
   },
   {
    "duration": 4,
    "start_time": "2021-10-28T20:41:49.757Z"
   },
   {
    "duration": 5,
    "start_time": "2021-10-28T20:42:20.200Z"
   },
   {
    "duration": 7,
    "start_time": "2021-10-28T20:42:47.284Z"
   },
   {
    "duration": 5,
    "start_time": "2021-10-28T20:42:58.547Z"
   },
   {
    "duration": 6,
    "start_time": "2021-10-28T20:43:09.408Z"
   },
   {
    "duration": 5,
    "start_time": "2021-10-28T20:43:12.710Z"
   },
   {
    "duration": 42,
    "start_time": "2021-10-28T20:59:18.040Z"
   },
   {
    "duration": 24,
    "start_time": "2021-10-28T21:00:42.680Z"
   },
   {
    "duration": 47,
    "start_time": "2021-10-28T21:00:56.856Z"
   },
   {
    "duration": 37,
    "start_time": "2021-10-28T21:02:25.210Z"
   },
   {
    "duration": 3,
    "start_time": "2021-10-28T21:04:20.953Z"
   },
   {
    "duration": 75,
    "start_time": "2021-10-28T21:04:22.465Z"
   },
   {
    "duration": 8,
    "start_time": "2021-10-28T21:04:24.788Z"
   },
   {
    "duration": 5,
    "start_time": "2021-10-28T21:06:24.376Z"
   },
   {
    "duration": 5,
    "start_time": "2021-10-28T21:07:34.279Z"
   },
   {
    "duration": 555,
    "start_time": "2021-10-28T21:18:34.768Z"
   },
   {
    "duration": 136,
    "start_time": "2021-10-28T21:18:39.395Z"
   },
   {
    "duration": 15,
    "start_time": "2021-10-28T21:18:45.122Z"
   },
   {
    "duration": 50,
    "start_time": "2021-10-28T21:19:00.457Z"
   },
   {
    "duration": 23,
    "start_time": "2021-10-28T21:19:20.325Z"
   },
   {
    "duration": 23,
    "start_time": "2021-10-28T21:19:38.125Z"
   },
   {
    "duration": 4,
    "start_time": "2021-10-28T21:29:02.553Z"
   },
   {
    "duration": 25,
    "start_time": "2021-10-28T21:31:36.403Z"
   },
   {
    "duration": 4,
    "start_time": "2021-10-28T21:31:43.824Z"
   },
   {
    "duration": 4,
    "start_time": "2021-10-28T21:31:58.406Z"
   },
   {
    "duration": 3,
    "start_time": "2021-10-28T21:32:09.169Z"
   },
   {
    "duration": 3,
    "start_time": "2021-10-28T21:32:19.203Z"
   },
   {
    "duration": 22,
    "start_time": "2021-10-28T21:32:35.559Z"
   },
   {
    "duration": 17,
    "start_time": "2021-10-28T21:34:01.065Z"
   },
   {
    "duration": 21,
    "start_time": "2021-10-28T21:34:05.637Z"
   },
   {
    "duration": 53,
    "start_time": "2021-10-28T21:34:13.178Z"
   },
   {
    "duration": 66,
    "start_time": "2021-10-28T21:34:33.855Z"
   },
   {
    "duration": 47,
    "start_time": "2021-10-28T21:34:40.867Z"
   },
   {
    "duration": 39,
    "start_time": "2021-10-28T21:34:57.467Z"
   },
   {
    "duration": 40,
    "start_time": "2021-10-28T21:35:43.549Z"
   },
   {
    "duration": 38,
    "start_time": "2021-10-28T21:35:51.411Z"
   },
   {
    "duration": 39,
    "start_time": "2021-10-28T21:36:02.108Z"
   },
   {
    "duration": 37,
    "start_time": "2021-10-28T21:36:11.477Z"
   },
   {
    "duration": 20,
    "start_time": "2021-10-28T21:36:37.021Z"
   },
   {
    "duration": 22,
    "start_time": "2021-10-28T21:36:43.899Z"
   },
   {
    "duration": 21,
    "start_time": "2021-10-28T21:37:02.473Z"
   },
   {
    "duration": 21,
    "start_time": "2021-10-28T21:37:09.562Z"
   },
   {
    "duration": 3,
    "start_time": "2021-10-28T21:37:30.532Z"
   },
   {
    "duration": 3,
    "start_time": "2021-10-28T21:37:39.445Z"
   },
   {
    "duration": 3,
    "start_time": "2021-10-28T21:38:30.637Z"
   },
   {
    "duration": 15,
    "start_time": "2021-10-28T21:38:41.448Z"
   },
   {
    "duration": 36,
    "start_time": "2021-10-28T21:38:55.246Z"
   },
   {
    "duration": 36,
    "start_time": "2021-10-28T21:39:08.664Z"
   },
   {
    "duration": 21,
    "start_time": "2021-10-28T21:39:59.718Z"
   },
   {
    "duration": 28,
    "start_time": "2021-10-28T21:40:35.853Z"
   },
   {
    "duration": 4,
    "start_time": "2021-10-28T21:44:10.036Z"
   },
   {
    "duration": 66,
    "start_time": "2021-10-28T21:45:54.074Z"
   },
   {
    "duration": 63,
    "start_time": "2021-10-28T21:46:40.230Z"
   },
   {
    "duration": 7,
    "start_time": "2021-10-28T21:47:04.898Z"
   },
   {
    "duration": 65,
    "start_time": "2021-10-28T21:47:34.616Z"
   },
   {
    "duration": 65,
    "start_time": "2021-10-28T21:48:05.761Z"
   },
   {
    "duration": 12,
    "start_time": "2021-10-28T21:48:21.201Z"
   },
   {
    "duration": 10,
    "start_time": "2021-10-28T21:50:24.639Z"
   },
   {
    "duration": 9,
    "start_time": "2021-10-28T21:50:29.450Z"
   },
   {
    "duration": 4,
    "start_time": "2021-10-28T21:55:36.760Z"
   },
   {
    "duration": 31,
    "start_time": "2021-10-28T21:55:39.191Z"
   },
   {
    "duration": 28,
    "start_time": "2021-10-28T21:56:49.477Z"
   },
   {
    "duration": 9,
    "start_time": "2021-10-28T22:01:20.552Z"
   },
   {
    "duration": 5,
    "start_time": "2021-10-28T22:01:27.191Z"
   },
   {
    "duration": 5,
    "start_time": "2021-10-28T22:01:49.964Z"
   },
   {
    "duration": 6,
    "start_time": "2021-10-28T22:01:57.377Z"
   },
   {
    "duration": 5,
    "start_time": "2021-10-28T22:02:03.541Z"
   },
   {
    "duration": 5,
    "start_time": "2021-10-28T22:02:20.952Z"
   },
   {
    "duration": 7697,
    "start_time": "2021-10-28T22:16:12.039Z"
   },
   {
    "duration": 9,
    "start_time": "2021-10-28T22:17:11.295Z"
   },
   {
    "duration": 10,
    "start_time": "2021-10-28T22:17:22.584Z"
   },
   {
    "duration": 9,
    "start_time": "2021-10-28T22:18:26.730Z"
   },
   {
    "duration": 5,
    "start_time": "2021-10-28T22:18:43.890Z"
   },
   {
    "duration": 4,
    "start_time": "2021-10-28T22:20:43.341Z"
   },
   {
    "duration": 31,
    "start_time": "2021-10-28T22:20:44.366Z"
   },
   {
    "duration": 4,
    "start_time": "2021-10-28T22:21:06.004Z"
   },
   {
    "duration": 30,
    "start_time": "2021-10-28T22:21:07.188Z"
   },
   {
    "duration": 3,
    "start_time": "2021-10-28T22:22:33.935Z"
   },
   {
    "duration": 31,
    "start_time": "2021-10-28T22:22:34.944Z"
   },
   {
    "duration": 29,
    "start_time": "2021-10-28T22:22:42.017Z"
   },
   {
    "duration": 5,
    "start_time": "2021-10-28T22:27:07.236Z"
   },
   {
    "duration": 13,
    "start_time": "2021-10-28T22:27:13.591Z"
   },
   {
    "duration": 5,
    "start_time": "2021-10-28T22:27:28.737Z"
   },
   {
    "duration": 29,
    "start_time": "2021-10-28T22:27:29.632Z"
   },
   {
    "duration": 30,
    "start_time": "2021-10-28T22:27:32.078Z"
   },
   {
    "duration": 41,
    "start_time": "2021-10-28T22:32:49.607Z"
   },
   {
    "duration": 37,
    "start_time": "2021-10-28T22:33:01.220Z"
   },
   {
    "duration": 3,
    "start_time": "2021-10-28T22:35:01.676Z"
   },
   {
    "duration": 31,
    "start_time": "2021-10-28T22:35:03.447Z"
   },
   {
    "duration": 4,
    "start_time": "2021-10-28T22:37:36.574Z"
   },
   {
    "duration": 31,
    "start_time": "2021-10-28T22:37:38.645Z"
   },
   {
    "duration": 10,
    "start_time": "2021-10-28T22:42:09.106Z"
   },
   {
    "duration": 11,
    "start_time": "2021-10-28T22:43:15.595Z"
   },
   {
    "duration": 23,
    "start_time": "2021-10-28T22:45:39.437Z"
   },
   {
    "duration": 28,
    "start_time": "2021-10-28T22:46:49.731Z"
   },
   {
    "duration": 3,
    "start_time": "2021-10-28T22:47:11.500Z"
   },
   {
    "duration": 33,
    "start_time": "2021-10-28T22:47:12.643Z"
   },
   {
    "duration": 28,
    "start_time": "2021-10-28T22:48:04.521Z"
   },
   {
    "duration": 297,
    "start_time": "2021-10-28T22:52:37.682Z"
   },
   {
    "duration": 51,
    "start_time": "2021-10-28T22:52:49.863Z"
   },
   {
    "duration": 53,
    "start_time": "2021-10-28T22:53:00.954Z"
   },
   {
    "duration": 575,
    "start_time": "2021-10-28T22:53:37.563Z"
   },
   {
    "duration": 133,
    "start_time": "2021-10-28T22:53:38.140Z"
   },
   {
    "duration": 16,
    "start_time": "2021-10-28T22:53:38.275Z"
   },
   {
    "duration": 26,
    "start_time": "2021-10-28T22:53:38.292Z"
   },
   {
    "duration": 3,
    "start_time": "2021-10-28T22:53:38.320Z"
   },
   {
    "duration": 42,
    "start_time": "2021-10-28T22:53:38.324Z"
   },
   {
    "duration": 3,
    "start_time": "2021-10-28T22:53:38.368Z"
   },
   {
    "duration": 28,
    "start_time": "2021-10-28T22:53:38.374Z"
   },
   {
    "duration": 45,
    "start_time": "2021-10-28T22:53:38.404Z"
   },
   {
    "duration": 21,
    "start_time": "2021-10-28T22:53:38.451Z"
   },
   {
    "duration": 73,
    "start_time": "2021-10-28T22:53:38.473Z"
   },
   {
    "duration": 65,
    "start_time": "2021-10-28T22:53:38.547Z"
   },
   {
    "duration": 60,
    "start_time": "2021-10-28T22:53:38.613Z"
   },
   {
    "duration": 37,
    "start_time": "2021-10-28T22:53:38.674Z"
   },
   {
    "duration": 3,
    "start_time": "2021-10-28T22:53:38.712Z"
   },
   {
    "duration": 35,
    "start_time": "2021-10-28T22:53:38.716Z"
   },
   {
    "duration": 36,
    "start_time": "2021-10-28T22:53:38.753Z"
   },
   {
    "duration": 20,
    "start_time": "2021-10-28T22:53:38.791Z"
   },
   {
    "duration": 51,
    "start_time": "2021-10-28T22:53:38.813Z"
   },
   {
    "duration": 3,
    "start_time": "2021-10-28T22:53:38.866Z"
   },
   {
    "duration": 84,
    "start_time": "2021-10-28T22:53:38.870Z"
   },
   {
    "duration": 7,
    "start_time": "2021-10-28T22:53:38.956Z"
   },
   {
    "duration": 11,
    "start_time": "2021-10-28T22:53:38.966Z"
   },
   {
    "duration": 9,
    "start_time": "2021-10-28T22:53:38.979Z"
   },
   {
    "duration": 4,
    "start_time": "2021-10-28T22:53:38.989Z"
   },
   {
    "duration": 61,
    "start_time": "2021-10-28T22:53:38.994Z"
   },
   {
    "duration": 27,
    "start_time": "2021-10-28T22:53:39.057Z"
   },
   {
    "duration": 49,
    "start_time": "2021-10-28T22:53:48.334Z"
   },
   {
    "duration": 390,
    "start_time": "2021-10-28T22:54:33.568Z"
   },
   {
    "duration": 321,
    "start_time": "2021-10-28T22:54:47.922Z"
   },
   {
    "duration": 308,
    "start_time": "2021-10-28T22:54:58.253Z"
   },
   {
    "duration": 627,
    "start_time": "2021-10-28T22:55:15.974Z"
   },
   {
    "duration": 50,
    "start_time": "2021-10-28T22:55:39.684Z"
   },
   {
    "duration": 52,
    "start_time": "2021-10-28T23:00:14.520Z"
   },
   {
    "duration": 26,
    "start_time": "2021-10-28T23:03:42.633Z"
   },
   {
    "duration": 20,
    "start_time": "2021-10-28T23:06:42.704Z"
   },
   {
    "duration": 316,
    "start_time": "2021-10-29T07:49:04.410Z"
   },
   {
    "duration": 275,
    "start_time": "2021-10-29T07:49:09.132Z"
   },
   {
    "duration": 556,
    "start_time": "2021-10-29T07:49:12.879Z"
   },
   {
    "duration": 579,
    "start_time": "2021-10-29T07:49:25.787Z"
   },
   {
    "duration": 140,
    "start_time": "2021-10-29T07:49:27.205Z"
   },
   {
    "duration": 17,
    "start_time": "2021-10-29T07:49:28.355Z"
   },
   {
    "duration": 23,
    "start_time": "2021-10-29T07:50:12.195Z"
   },
   {
    "duration": 24,
    "start_time": "2021-10-29T07:50:32.949Z"
   },
   {
    "duration": 24,
    "start_time": "2021-10-29T07:50:40.899Z"
   },
   {
    "duration": 23,
    "start_time": "2021-10-29T07:50:45.476Z"
   },
   {
    "duration": 389,
    "start_time": "2021-10-29T07:51:29.927Z"
   },
   {
    "duration": 4,
    "start_time": "2021-10-29T07:51:33.644Z"
   },
   {
    "duration": 3,
    "start_time": "2021-10-29T07:51:44.453Z"
   },
   {
    "duration": 3,
    "start_time": "2021-10-29T07:51:49.176Z"
   },
   {
    "duration": 4,
    "start_time": "2021-10-29T07:51:56.773Z"
   },
   {
    "duration": 20,
    "start_time": "2021-10-29T07:52:06.687Z"
   },
   {
    "duration": 3,
    "start_time": "2021-10-29T07:52:19.748Z"
   },
   {
    "duration": 2,
    "start_time": "2021-10-29T07:52:26.285Z"
   },
   {
    "duration": 24,
    "start_time": "2021-10-29T07:52:30.974Z"
   },
   {
    "duration": 21,
    "start_time": "2021-10-29T07:52:41.808Z"
   },
   {
    "duration": 23,
    "start_time": "2021-10-29T07:52:49.933Z"
   },
   {
    "duration": 280,
    "start_time": "2021-10-29T07:52:55.388Z"
   },
   {
    "duration": 22,
    "start_time": "2021-10-29T07:53:00.143Z"
   },
   {
    "duration": 15,
    "start_time": "2021-10-29T07:53:15.472Z"
   },
   {
    "duration": 21,
    "start_time": "2021-10-29T07:53:18.525Z"
   },
   {
    "duration": 56,
    "start_time": "2021-10-29T07:53:22.032Z"
   },
   {
    "duration": 755,
    "start_time": "2021-10-29T10:12:40.493Z"
   },
   {
    "duration": 180,
    "start_time": "2021-10-29T10:12:42.026Z"
   },
   {
    "duration": 24,
    "start_time": "2021-10-29T10:12:43.242Z"
   },
   {
    "duration": 32,
    "start_time": "2021-10-29T10:12:45.890Z"
   },
   {
    "duration": 4,
    "start_time": "2021-10-29T10:13:03.967Z"
   },
   {
    "duration": 31,
    "start_time": "2021-10-29T10:13:08.688Z"
   },
   {
    "duration": 4,
    "start_time": "2021-10-29T10:13:10.147Z"
   },
   {
    "duration": 34,
    "start_time": "2021-10-29T10:13:13.821Z"
   },
   {
    "duration": 23,
    "start_time": "2021-10-29T10:13:18.891Z"
   },
   {
    "duration": 34,
    "start_time": "2021-10-29T10:13:20.282Z"
   },
   {
    "duration": 84,
    "start_time": "2021-10-29T10:13:31.958Z"
   },
   {
    "duration": 100,
    "start_time": "2021-10-29T10:13:35.367Z"
   },
   {
    "duration": 79,
    "start_time": "2021-10-29T10:14:04.623Z"
   },
   {
    "duration": 80,
    "start_time": "2021-10-29T10:14:11.706Z"
   },
   {
    "duration": 707,
    "start_time": "2021-10-29T10:14:28.144Z"
   },
   {
    "duration": 182,
    "start_time": "2021-10-29T10:14:28.854Z"
   },
   {
    "duration": 26,
    "start_time": "2021-10-29T10:14:29.040Z"
   },
   {
    "duration": 33,
    "start_time": "2021-10-29T10:14:29.069Z"
   },
   {
    "duration": 25,
    "start_time": "2021-10-29T10:14:29.105Z"
   },
   {
    "duration": 30,
    "start_time": "2021-10-29T10:14:29.133Z"
   },
   {
    "duration": 7,
    "start_time": "2021-10-29T10:14:29.166Z"
   },
   {
    "duration": 63,
    "start_time": "2021-10-29T10:14:29.176Z"
   },
   {
    "duration": 22,
    "start_time": "2021-10-29T10:14:29.241Z"
   },
   {
    "duration": 36,
    "start_time": "2021-10-29T10:14:29.265Z"
   },
   {
    "duration": 86,
    "start_time": "2021-10-29T10:14:31.903Z"
   },
   {
    "duration": 103,
    "start_time": "2021-10-29T10:14:35.160Z"
   },
   {
    "duration": 88,
    "start_time": "2021-10-29T10:15:03.440Z"
   },
   {
    "duration": 73,
    "start_time": "2021-10-29T10:15:07.411Z"
   },
   {
    "duration": 75,
    "start_time": "2021-10-29T10:15:12.132Z"
   },
   {
    "duration": 57,
    "start_time": "2021-10-29T10:15:22.817Z"
   },
   {
    "duration": 4,
    "start_time": "2021-10-29T10:15:29.461Z"
   },
   {
    "duration": 21,
    "start_time": "2021-10-29T10:15:33.203Z"
   },
   {
    "duration": 57,
    "start_time": "2021-10-29T10:15:35.830Z"
   },
   {
    "duration": 31,
    "start_time": "2021-10-29T10:16:49.080Z"
   },
   {
    "duration": 38,
    "start_time": "2021-10-29T10:18:27.274Z"
   },
   {
    "duration": 4,
    "start_time": "2021-10-29T10:19:49.124Z"
   },
   {
    "duration": 74,
    "start_time": "2021-10-29T10:21:51.560Z"
   },
   {
    "duration": 78,
    "start_time": "2021-10-29T10:22:12.189Z"
   },
   {
    "duration": 5,
    "start_time": "2021-10-29T10:22:31.132Z"
   },
   {
    "duration": 4,
    "start_time": "2021-10-29T10:23:13.248Z"
   },
   {
    "duration": 4,
    "start_time": "2021-10-29T10:23:52.887Z"
   },
   {
    "duration": 563,
    "start_time": "2021-10-29T10:23:54.281Z"
   },
   {
    "duration": 5,
    "start_time": "2021-10-29T10:24:27.495Z"
   },
   {
    "duration": 489,
    "start_time": "2021-10-29T10:24:27.973Z"
   },
   {
    "duration": 5,
    "start_time": "2021-10-29T10:24:42.028Z"
   },
   {
    "duration": 85,
    "start_time": "2021-10-29T10:24:44.434Z"
   },
   {
    "duration": 86,
    "start_time": "2021-10-29T10:24:51.451Z"
   },
   {
    "duration": 13,
    "start_time": "2021-10-29T10:24:53.571Z"
   },
   {
    "duration": 14,
    "start_time": "2021-10-29T10:25:19.066Z"
   },
   {
    "duration": 85,
    "start_time": "2021-10-29T10:26:03.869Z"
   },
   {
    "duration": 12,
    "start_time": "2021-10-29T10:26:06.611Z"
   },
   {
    "duration": 14,
    "start_time": "2021-10-29T10:26:36.945Z"
   },
   {
    "duration": 12,
    "start_time": "2021-10-29T10:26:37.795Z"
   },
   {
    "duration": 6,
    "start_time": "2021-10-29T10:26:53.080Z"
   },
   {
    "duration": 44,
    "start_time": "2021-10-29T10:27:04.601Z"
   },
   {
    "duration": 42,
    "start_time": "2021-10-29T10:28:42.902Z"
   },
   {
    "duration": 39,
    "start_time": "2021-10-29T10:29:39.643Z"
   },
   {
    "duration": 29,
    "start_time": "2021-10-29T10:29:47.832Z"
   },
   {
    "duration": 88,
    "start_time": "2021-10-29T10:33:01.866Z"
   },
   {
    "duration": 131,
    "start_time": "2021-10-29T10:33:11.961Z"
   },
   {
    "duration": 80,
    "start_time": "2021-10-29T10:33:58.496Z"
   },
   {
    "duration": 29,
    "start_time": "2021-10-29T10:34:09.817Z"
   },
   {
    "duration": 30,
    "start_time": "2021-10-29T10:34:24.574Z"
   },
   {
    "duration": 30,
    "start_time": "2021-10-29T10:34:31.215Z"
   },
   {
    "duration": 29,
    "start_time": "2021-10-29T10:35:58.444Z"
   },
   {
    "duration": 31,
    "start_time": "2021-10-29T10:36:46.467Z"
   },
   {
    "duration": 29,
    "start_time": "2021-10-29T10:36:52.652Z"
   },
   {
    "duration": 29,
    "start_time": "2021-10-29T10:36:58.028Z"
   },
   {
    "duration": 6,
    "start_time": "2021-10-29T10:38:02.087Z"
   },
   {
    "duration": 44,
    "start_time": "2021-10-29T10:38:03.713Z"
   },
   {
    "duration": 29,
    "start_time": "2021-10-29T10:38:49.386Z"
   },
   {
    "duration": 70,
    "start_time": "2021-10-29T10:43:41.649Z"
   },
   {
    "duration": 70,
    "start_time": "2021-10-29T10:44:00.620Z"
   },
   {
    "duration": 15,
    "start_time": "2021-10-29T10:44:26.453Z"
   },
   {
    "duration": 82,
    "start_time": "2021-10-29T10:44:33.741Z"
   },
   {
    "duration": 22,
    "start_time": "2021-10-29T10:44:39.192Z"
   },
   {
    "duration": 24,
    "start_time": "2021-10-29T10:44:54.988Z"
   },
   {
    "duration": 75,
    "start_time": "2021-10-29T10:45:01.094Z"
   },
   {
    "duration": 79,
    "start_time": "2021-10-29T10:45:04.286Z"
   },
   {
    "duration": 89,
    "start_time": "2021-10-29T10:46:51.826Z"
   },
   {
    "duration": 8,
    "start_time": "2021-10-29T10:48:34.062Z"
   },
   {
    "duration": 29,
    "start_time": "2021-10-29T10:49:09.376Z"
   },
   {
    "duration": 29,
    "start_time": "2021-10-29T10:49:23.632Z"
   },
   {
    "duration": 15,
    "start_time": "2021-10-29T11:18:33.088Z"
   },
   {
    "duration": 12,
    "start_time": "2021-10-29T11:18:37.682Z"
   },
   {
    "duration": 12,
    "start_time": "2021-10-29T11:18:40.378Z"
   },
   {
    "duration": 9,
    "start_time": "2021-10-29T11:18:47.056Z"
   },
   {
    "duration": 7,
    "start_time": "2021-10-29T11:18:50.811Z"
   },
   {
    "duration": 8,
    "start_time": "2021-10-29T11:19:10.688Z"
   },
   {
    "duration": 8,
    "start_time": "2021-10-29T11:19:27.221Z"
   },
   {
    "duration": 7,
    "start_time": "2021-10-29T11:19:30.420Z"
   },
   {
    "duration": 807,
    "start_time": "2021-10-29T22:43:54.760Z"
   },
   {
    "duration": 196,
    "start_time": "2021-10-29T22:43:55.570Z"
   },
   {
    "duration": 34,
    "start_time": "2021-10-29T22:43:55.769Z"
   },
   {
    "duration": 36,
    "start_time": "2021-10-29T22:43:55.806Z"
   },
   {
    "duration": 5,
    "start_time": "2021-10-29T22:43:55.845Z"
   },
   {
    "duration": 73,
    "start_time": "2021-10-29T22:43:55.853Z"
   },
   {
    "duration": 6,
    "start_time": "2021-10-29T22:43:55.928Z"
   },
   {
    "duration": 34,
    "start_time": "2021-10-29T22:43:55.937Z"
   },
   {
    "duration": 25,
    "start_time": "2021-10-29T22:43:56.003Z"
   },
   {
    "duration": 33,
    "start_time": "2021-10-29T22:43:56.032Z"
   },
   {
    "duration": 120,
    "start_time": "2021-10-29T22:43:56.069Z"
   },
   {
    "duration": 117,
    "start_time": "2021-10-29T22:43:56.200Z"
   },
   {
    "duration": 90,
    "start_time": "2021-10-29T22:43:56.320Z"
   },
   {
    "duration": 59,
    "start_time": "2021-10-29T22:43:56.412Z"
   },
   {
    "duration": 4,
    "start_time": "2021-10-29T22:43:56.473Z"
   },
   {
    "duration": 22,
    "start_time": "2021-10-29T22:43:56.500Z"
   },
   {
    "duration": 76,
    "start_time": "2021-10-29T22:43:56.524Z"
   },
   {
    "duration": 31,
    "start_time": "2021-10-29T22:43:56.603Z"
   },
   {
    "duration": 38,
    "start_time": "2021-10-29T22:43:56.636Z"
   },
   {
    "duration": 25,
    "start_time": "2021-10-29T22:43:56.676Z"
   },
   {
    "duration": 107,
    "start_time": "2021-10-29T22:43:56.704Z"
   },
   {
    "duration": 466,
    "start_time": "2021-10-29T22:43:56.813Z"
   },
   {
    "duration": -6,
    "start_time": "2021-10-29T22:43:57.288Z"
   },
   {
    "duration": -7,
    "start_time": "2021-10-29T22:43:57.291Z"
   },
   {
    "duration": -10,
    "start_time": "2021-10-29T22:43:57.295Z"
   },
   {
    "duration": -11,
    "start_time": "2021-10-29T22:43:57.298Z"
   },
   {
    "duration": -12,
    "start_time": "2021-10-29T22:43:57.300Z"
   },
   {
    "duration": -12,
    "start_time": "2021-10-29T22:43:57.302Z"
   },
   {
    "duration": -13,
    "start_time": "2021-10-29T22:43:57.304Z"
   },
   {
    "duration": -19,
    "start_time": "2021-10-29T22:43:57.311Z"
   },
   {
    "duration": -19,
    "start_time": "2021-10-29T22:43:57.313Z"
   },
   {
    "duration": -20,
    "start_time": "2021-10-29T22:43:57.315Z"
   },
   {
    "duration": 17,
    "start_time": "2021-10-29T22:52:42.737Z"
   },
   {
    "duration": 15,
    "start_time": "2021-10-29T22:52:43.226Z"
   },
   {
    "duration": 6,
    "start_time": "2021-10-29T22:52:43.250Z"
   },
   {
    "duration": 50,
    "start_time": "2021-10-29T22:52:43.259Z"
   },
   {
    "duration": 45,
    "start_time": "2021-10-29T22:52:43.313Z"
   },
   {
    "duration": 61,
    "start_time": "2021-10-29T22:52:43.362Z"
   },
   {
    "duration": 13,
    "start_time": "2021-10-29T22:52:43.426Z"
   },
   {
    "duration": 7,
    "start_time": "2021-10-29T22:52:43.442Z"
   },
   {
    "duration": 51,
    "start_time": "2021-10-29T22:52:43.452Z"
   },
   {
    "duration": 8,
    "start_time": "2021-10-29T22:52:43.506Z"
   },
   {
    "duration": 742,
    "start_time": "2021-10-30T06:46:08.741Z"
   },
   {
    "duration": 154,
    "start_time": "2021-10-30T06:46:10.422Z"
   },
   {
    "duration": 16,
    "start_time": "2021-10-30T06:46:11.361Z"
   },
   {
    "duration": 9,
    "start_time": "2021-10-30T06:46:19.879Z"
   },
   {
    "duration": 24,
    "start_time": "2021-10-30T06:46:22.550Z"
   },
   {
    "duration": 4,
    "start_time": "2021-10-30T06:46:45.669Z"
   },
   {
    "duration": 20,
    "start_time": "2021-10-30T06:47:38.705Z"
   },
   {
    "duration": 3,
    "start_time": "2021-10-30T06:47:40.876Z"
   },
   {
    "duration": 4,
    "start_time": "2021-10-30T06:47:47.693Z"
   },
   {
    "duration": 23,
    "start_time": "2021-10-30T06:47:51.515Z"
   },
   {
    "duration": 17,
    "start_time": "2021-10-30T06:48:46.097Z"
   },
   {
    "duration": 22,
    "start_time": "2021-10-30T06:48:53.294Z"
   },
   {
    "duration": 54,
    "start_time": "2021-10-30T06:49:15.169Z"
   },
   {
    "duration": 65,
    "start_time": "2021-10-30T06:49:17.277Z"
   },
   {
    "duration": 51,
    "start_time": "2021-10-30T06:49:19.373Z"
   },
   {
    "duration": 36,
    "start_time": "2021-10-30T06:49:49.085Z"
   },
   {
    "duration": 3,
    "start_time": "2021-10-30T06:50:12.870Z"
   },
   {
    "duration": 15,
    "start_time": "2021-10-30T06:50:15.447Z"
   },
   {
    "duration": 6325,
    "start_time": "2021-10-30T06:51:41.603Z"
   },
   {
    "duration": 4,
    "start_time": "2021-10-30T06:52:14.320Z"
   },
   {
    "duration": 13,
    "start_time": "2021-10-30T06:52:30.137Z"
   },
   {
    "duration": 4,
    "start_time": "2021-10-30T06:52:32.795Z"
   },
   {
    "duration": 24,
    "start_time": "2021-10-30T06:52:44.092Z"
   },
   {
    "duration": 29,
    "start_time": "2021-10-30T06:52:47.821Z"
   },
   {
    "duration": 3,
    "start_time": "2021-10-30T06:52:54.277Z"
   },
   {
    "duration": 62,
    "start_time": "2021-10-30T06:52:55.480Z"
   },
   {
    "duration": 67,
    "start_time": "2021-10-30T06:53:05.532Z"
   },
   {
    "duration": 544,
    "start_time": "2021-10-30T06:53:06.932Z"
   },
   {
    "duration": 63,
    "start_time": "2021-10-30T06:53:17.762Z"
   },
   {
    "duration": 253,
    "start_time": "2021-10-30T06:53:20.055Z"
   },
   {
    "duration": 469,
    "start_time": "2021-10-30T06:54:08.403Z"
   },
   {
    "duration": 428,
    "start_time": "2021-10-30T06:54:14.167Z"
   },
   {
    "duration": 431,
    "start_time": "2021-10-30T06:54:23.344Z"
   },
   {
    "duration": 423,
    "start_time": "2021-10-30T06:54:40.938Z"
   },
   {
    "duration": 628,
    "start_time": "2021-10-30T06:54:50.172Z"
   },
   {
    "duration": 67,
    "start_time": "2021-10-30T06:55:19.808Z"
   },
   {
    "duration": 276,
    "start_time": "2021-10-30T06:55:22.808Z"
   },
   {
    "duration": 67,
    "start_time": "2021-10-30T06:55:38.985Z"
   },
   {
    "duration": 2,
    "start_time": "2021-10-30T06:57:39.924Z"
   },
   {
    "duration": 147,
    "start_time": "2021-10-30T06:57:39.934Z"
   },
   {
    "duration": 10,
    "start_time": "2021-10-30T06:57:40.083Z"
   },
   {
    "duration": 26,
    "start_time": "2021-10-30T06:57:40.095Z"
   },
   {
    "duration": 3,
    "start_time": "2021-10-30T06:57:40.123Z"
   },
   {
    "duration": 19,
    "start_time": "2021-10-30T06:57:40.144Z"
   },
   {
    "duration": 5,
    "start_time": "2021-10-30T06:57:40.165Z"
   },
   {
    "duration": 23,
    "start_time": "2021-10-30T06:57:40.172Z"
   },
   {
    "duration": 16,
    "start_time": "2021-10-30T06:57:40.197Z"
   },
   {
    "duration": 48,
    "start_time": "2021-10-30T06:57:40.215Z"
   },
   {
    "duration": 53,
    "start_time": "2021-10-30T06:57:40.265Z"
   },
   {
    "duration": 73,
    "start_time": "2021-10-30T06:57:40.320Z"
   },
   {
    "duration": 52,
    "start_time": "2021-10-30T06:57:40.395Z"
   },
   {
    "duration": 38,
    "start_time": "2021-10-30T06:57:40.449Z"
   },
   {
    "duration": 3,
    "start_time": "2021-10-30T06:57:40.488Z"
   },
   {
    "duration": 17,
    "start_time": "2021-10-30T06:57:40.493Z"
   },
   {
    "duration": 57,
    "start_time": "2021-10-30T06:57:40.512Z"
   },
   {
    "duration": 21,
    "start_time": "2021-10-30T06:57:40.571Z"
   },
   {
    "duration": 27,
    "start_time": "2021-10-30T06:57:40.594Z"
   },
   {
    "duration": 3,
    "start_time": "2021-10-30T06:57:50.679Z"
   },
   {
    "duration": 4,
    "start_time": "2021-10-30T06:58:03.989Z"
   },
   {
    "duration": 15,
    "start_time": "2021-10-30T06:58:38.652Z"
   },
   {
    "duration": 81,
    "start_time": "2021-10-30T06:59:31.425Z"
   },
   {
    "duration": 88,
    "start_time": "2021-10-30T06:59:54.187Z"
   },
   {
    "duration": 65,
    "start_time": "2021-10-30T07:00:21.151Z"
   },
   {
    "duration": 258,
    "start_time": "2021-10-30T07:00:29.202Z"
   },
   {
    "duration": 3,
    "start_time": "2021-10-30T07:00:47.261Z"
   },
   {
    "duration": 67,
    "start_time": "2021-10-30T07:00:52.950Z"
   },
   {
    "duration": 588,
    "start_time": "2021-10-30T07:07:05.567Z"
   },
   {
    "duration": 136,
    "start_time": "2021-10-30T07:07:06.157Z"
   },
   {
    "duration": 16,
    "start_time": "2021-10-30T07:07:06.295Z"
   },
   {
    "duration": 31,
    "start_time": "2021-10-30T07:07:06.312Z"
   },
   {
    "duration": 7,
    "start_time": "2021-10-30T07:07:06.344Z"
   },
   {
    "duration": 25,
    "start_time": "2021-10-30T07:07:06.353Z"
   },
   {
    "duration": 4,
    "start_time": "2021-10-30T07:07:06.379Z"
   },
   {
    "duration": 25,
    "start_time": "2021-10-30T07:07:06.385Z"
   },
   {
    "duration": 17,
    "start_time": "2021-10-30T07:07:06.412Z"
   },
   {
    "duration": 30,
    "start_time": "2021-10-30T07:07:06.431Z"
   },
   {
    "duration": 62,
    "start_time": "2021-10-30T07:07:06.463Z"
   },
   {
    "duration": 74,
    "start_time": "2021-10-30T07:07:06.526Z"
   },
   {
    "duration": 54,
    "start_time": "2021-10-30T07:07:06.602Z"
   },
   {
    "duration": 37,
    "start_time": "2021-10-30T07:07:06.657Z"
   },
   {
    "duration": 12,
    "start_time": "2021-10-30T07:07:06.696Z"
   },
   {
    "duration": 23,
    "start_time": "2021-10-30T07:07:06.710Z"
   },
   {
    "duration": 42,
    "start_time": "2021-10-30T07:07:06.734Z"
   },
   {
    "duration": 22,
    "start_time": "2021-10-30T07:07:06.778Z"
   },
   {
    "duration": 26,
    "start_time": "2021-10-30T07:07:06.802Z"
   },
   {
    "duration": 3,
    "start_time": "2021-10-30T07:07:06.845Z"
   },
   {
    "duration": 63,
    "start_time": "2021-10-30T07:07:26.470Z"
   },
   {
    "duration": 119,
    "start_time": "2021-10-30T07:08:03.895Z"
   },
   {
    "duration": 65,
    "start_time": "2021-10-30T07:08:31.941Z"
   },
   {
    "duration": 75,
    "start_time": "2021-10-30T07:08:39.669Z"
   },
   {
    "duration": 330,
    "start_time": "2021-10-30T07:08:43.962Z"
   },
   {
    "duration": 11,
    "start_time": "2021-10-30T07:09:19.946Z"
   },
   {
    "duration": 2,
    "start_time": "2021-10-30T07:37:01.147Z"
   },
   {
    "duration": 145,
    "start_time": "2021-10-30T07:37:01.160Z"
   },
   {
    "duration": 10,
    "start_time": "2021-10-30T07:37:01.307Z"
   },
   {
    "duration": 32,
    "start_time": "2021-10-30T07:37:01.319Z"
   },
   {
    "duration": 40,
    "start_time": "2021-10-30T07:37:01.353Z"
   },
   {
    "duration": 37,
    "start_time": "2021-10-30T07:37:01.395Z"
   },
   {
    "duration": 4,
    "start_time": "2021-10-30T07:37:01.434Z"
   },
   {
    "duration": 29,
    "start_time": "2021-10-30T07:37:01.440Z"
   },
   {
    "duration": 45,
    "start_time": "2021-10-30T07:37:01.471Z"
   },
   {
    "duration": 22,
    "start_time": "2021-10-30T07:37:01.518Z"
   },
   {
    "duration": 71,
    "start_time": "2021-10-30T07:37:01.542Z"
   },
   {
    "duration": 61,
    "start_time": "2021-10-30T07:37:01.614Z"
   },
   {
    "duration": 47,
    "start_time": "2021-10-30T07:37:01.677Z"
   },
   {
    "duration": 51,
    "start_time": "2021-10-30T07:37:01.725Z"
   },
   {
    "duration": 16,
    "start_time": "2021-10-30T07:37:03.756Z"
   },
   {
    "duration": 38,
    "start_time": "2021-10-30T07:37:07.440Z"
   },
   {
    "duration": 577,
    "start_time": "2021-10-30T07:37:40.608Z"
   },
   {
    "duration": 132,
    "start_time": "2021-10-30T07:37:41.187Z"
   },
   {
    "duration": 24,
    "start_time": "2021-10-30T07:37:41.322Z"
   },
   {
    "duration": 23,
    "start_time": "2021-10-30T07:37:41.348Z"
   },
   {
    "duration": 4,
    "start_time": "2021-10-30T07:37:41.373Z"
   },
   {
    "duration": 19,
    "start_time": "2021-10-30T07:37:41.378Z"
   },
   {
    "duration": 4,
    "start_time": "2021-10-30T07:37:41.399Z"
   },
   {
    "duration": 45,
    "start_time": "2021-10-30T07:37:41.404Z"
   },
   {
    "duration": 18,
    "start_time": "2021-10-30T07:37:41.452Z"
   },
   {
    "duration": 22,
    "start_time": "2021-10-30T07:37:41.472Z"
   },
   {
    "duration": 73,
    "start_time": "2021-10-30T07:37:41.496Z"
   },
   {
    "duration": 60,
    "start_time": "2021-10-30T07:37:41.571Z"
   },
   {
    "duration": 57,
    "start_time": "2021-10-30T07:37:41.633Z"
   },
   {
    "duration": 56,
    "start_time": "2021-10-30T07:37:41.691Z"
   },
   {
    "duration": 3,
    "start_time": "2021-10-30T07:37:41.749Z"
   },
   {
    "duration": 12,
    "start_time": "2021-10-30T07:37:41.753Z"
   },
   {
    "duration": 4,
    "start_time": "2021-10-30T07:37:52.082Z"
   },
   {
    "duration": 7,
    "start_time": "2021-10-30T07:37:54.154Z"
   },
   {
    "duration": 38,
    "start_time": "2021-10-30T07:38:05.378Z"
   },
   {
    "duration": 23,
    "start_time": "2021-10-30T07:39:27.798Z"
   },
   {
    "duration": 31,
    "start_time": "2021-10-30T07:39:31.333Z"
   },
   {
    "duration": 3,
    "start_time": "2021-10-30T07:39:43.447Z"
   },
   {
    "duration": 68,
    "start_time": "2021-10-30T07:39:56.718Z"
   },
   {
    "duration": 65,
    "start_time": "2021-10-30T07:40:03.950Z"
   },
   {
    "duration": 8,
    "start_time": "2021-10-30T07:40:06.554Z"
   },
   {
    "duration": 10,
    "start_time": "2021-10-30T07:40:12.702Z"
   },
   {
    "duration": 9,
    "start_time": "2021-10-30T07:40:14.962Z"
   },
   {
    "duration": 591,
    "start_time": "2021-10-30T07:41:47.357Z"
   },
   {
    "duration": 153,
    "start_time": "2021-10-30T07:41:47.950Z"
   },
   {
    "duration": 16,
    "start_time": "2021-10-30T07:41:48.105Z"
   },
   {
    "duration": 39,
    "start_time": "2021-10-30T07:41:48.123Z"
   },
   {
    "duration": 4,
    "start_time": "2021-10-30T07:41:48.164Z"
   },
   {
    "duration": 24,
    "start_time": "2021-10-30T07:41:48.169Z"
   },
   {
    "duration": 6,
    "start_time": "2021-10-30T07:41:48.195Z"
   },
   {
    "duration": 42,
    "start_time": "2021-10-30T07:41:48.203Z"
   },
   {
    "duration": 17,
    "start_time": "2021-10-30T07:41:48.247Z"
   },
   {
    "duration": 22,
    "start_time": "2021-10-30T07:41:48.265Z"
   },
   {
    "duration": 74,
    "start_time": "2021-10-30T07:41:48.289Z"
   },
   {
    "duration": 79,
    "start_time": "2021-10-30T07:41:48.365Z"
   },
   {
    "duration": 51,
    "start_time": "2021-10-30T07:41:48.446Z"
   },
   {
    "duration": 48,
    "start_time": "2021-10-30T07:41:48.498Z"
   },
   {
    "duration": 3,
    "start_time": "2021-10-30T07:41:48.548Z"
   },
   {
    "duration": 9,
    "start_time": "2021-10-30T07:41:48.552Z"
   },
   {
    "duration": 39,
    "start_time": "2021-10-30T07:41:48.563Z"
   },
   {
    "duration": 51,
    "start_time": "2021-10-30T07:41:48.604Z"
   },
   {
    "duration": 28,
    "start_time": "2021-10-30T07:41:48.657Z"
   },
   {
    "duration": 3,
    "start_time": "2021-10-30T07:41:48.686Z"
   },
   {
    "duration": 83,
    "start_time": "2021-10-30T07:41:48.691Z"
   },
   {
    "duration": 8,
    "start_time": "2021-10-30T07:41:48.776Z"
   },
   {
    "duration": 11,
    "start_time": "2021-10-30T07:41:48.788Z"
   },
   {
    "duration": 9,
    "start_time": "2021-10-30T07:41:48.801Z"
   },
   {
    "duration": 4,
    "start_time": "2021-10-30T07:41:48.812Z"
   },
   {
    "duration": 58,
    "start_time": "2021-10-30T07:41:48.817Z"
   },
   {
    "duration": 29,
    "start_time": "2021-10-30T07:41:48.876Z"
   },
   {
    "duration": 47,
    "start_time": "2021-10-30T07:41:48.907Z"
   },
   {
    "duration": 7,
    "start_time": "2021-10-30T07:41:48.956Z"
   },
   {
    "duration": 11,
    "start_time": "2021-10-30T07:41:48.965Z"
   },
   {
    "duration": 8,
    "start_time": "2021-10-30T07:41:48.977Z"
   },
   {
    "duration": 5,
    "start_time": "2021-10-30T07:41:48.986Z"
   },
   {
    "duration": 7417,
    "start_time": "2021-10-30T07:45:14.050Z"
   },
   {
    "duration": -96,
    "start_time": "2021-10-30T07:45:21.565Z"
   },
   {
    "duration": 92,
    "start_time": "2021-10-30T07:45:32.192Z"
   },
   {
    "duration": 22,
    "start_time": "2021-10-30T07:45:38.117Z"
   },
   {
    "duration": 22,
    "start_time": "2021-10-30T07:45:43.729Z"
   },
   {
    "duration": 585,
    "start_time": "2021-10-30T07:46:00.004Z"
   },
   {
    "duration": 139,
    "start_time": "2021-10-30T07:46:00.590Z"
   },
   {
    "duration": 16,
    "start_time": "2021-10-30T07:46:00.730Z"
   },
   {
    "duration": 36,
    "start_time": "2021-10-30T07:46:00.748Z"
   },
   {
    "duration": 5,
    "start_time": "2021-10-30T07:46:00.786Z"
   },
   {
    "duration": 23,
    "start_time": "2021-10-30T07:46:00.793Z"
   },
   {
    "duration": 3,
    "start_time": "2021-10-30T07:46:00.818Z"
   },
   {
    "duration": 36,
    "start_time": "2021-10-30T07:46:00.823Z"
   },
   {
    "duration": 329,
    "start_time": "2021-10-30T07:46:00.861Z"
   },
   {
    "duration": -85,
    "start_time": "2021-10-30T07:46:01.277Z"
   },
   {
    "duration": -99,
    "start_time": "2021-10-30T07:46:01.292Z"
   },
   {
    "duration": -110,
    "start_time": "2021-10-30T07:46:01.304Z"
   },
   {
    "duration": -117,
    "start_time": "2021-10-30T07:46:01.312Z"
   },
   {
    "duration": -128,
    "start_time": "2021-10-30T07:46:01.324Z"
   },
   {
    "duration": -142,
    "start_time": "2021-10-30T07:46:01.339Z"
   },
   {
    "duration": -147,
    "start_time": "2021-10-30T07:46:01.345Z"
   },
   {
    "duration": -158,
    "start_time": "2021-10-30T07:46:01.357Z"
   },
   {
    "duration": -163,
    "start_time": "2021-10-30T07:46:01.363Z"
   },
   {
    "duration": -176,
    "start_time": "2021-10-30T07:46:01.377Z"
   },
   {
    "duration": -188,
    "start_time": "2021-10-30T07:46:01.390Z"
   },
   {
    "duration": -195,
    "start_time": "2021-10-30T07:46:01.398Z"
   },
   {
    "duration": -207,
    "start_time": "2021-10-30T07:46:01.411Z"
   },
   {
    "duration": -218,
    "start_time": "2021-10-30T07:46:01.423Z"
   },
   {
    "duration": -224,
    "start_time": "2021-10-30T07:46:01.430Z"
   },
   {
    "duration": -235,
    "start_time": "2021-10-30T07:46:01.442Z"
   },
   {
    "duration": -246,
    "start_time": "2021-10-30T07:46:01.454Z"
   },
   {
    "duration": -253,
    "start_time": "2021-10-30T07:46:01.462Z"
   },
   {
    "duration": -264,
    "start_time": "2021-10-30T07:46:01.474Z"
   },
   {
    "duration": -277,
    "start_time": "2021-10-30T07:46:01.488Z"
   },
   {
    "duration": -281,
    "start_time": "2021-10-30T07:46:01.494Z"
   },
   {
    "duration": -293,
    "start_time": "2021-10-30T07:46:01.507Z"
   },
   {
    "duration": -300,
    "start_time": "2021-10-30T07:46:01.515Z"
   },
   {
    "duration": 3,
    "start_time": "2021-10-30T07:46:14.302Z"
   },
   {
    "duration": 163,
    "start_time": "2021-10-30T07:46:14.308Z"
   },
   {
    "duration": 10,
    "start_time": "2021-10-30T07:46:14.473Z"
   },
   {
    "duration": 27,
    "start_time": "2021-10-30T07:46:14.485Z"
   },
   {
    "duration": 9,
    "start_time": "2021-10-30T07:46:14.514Z"
   },
   {
    "duration": 37,
    "start_time": "2021-10-30T07:46:14.525Z"
   },
   {
    "duration": 5,
    "start_time": "2021-10-30T07:46:14.564Z"
   },
   {
    "duration": 29,
    "start_time": "2021-10-30T07:46:14.570Z"
   },
   {
    "duration": 298,
    "start_time": "2021-10-30T07:46:14.601Z"
   },
   {
    "duration": -103,
    "start_time": "2021-10-30T07:46:15.004Z"
   },
   {
    "duration": -120,
    "start_time": "2021-10-30T07:46:15.022Z"
   },
   {
    "duration": -137,
    "start_time": "2021-10-30T07:46:15.040Z"
   },
   {
    "duration": -143,
    "start_time": "2021-10-30T07:46:15.047Z"
   },
   {
    "duration": -156,
    "start_time": "2021-10-30T07:46:15.060Z"
   },
   {
    "duration": -161,
    "start_time": "2021-10-30T07:46:15.066Z"
   },
   {
    "duration": -171,
    "start_time": "2021-10-30T07:46:15.077Z"
   },
   {
    "duration": -178,
    "start_time": "2021-10-30T07:46:15.085Z"
   },
   {
    "duration": -188,
    "start_time": "2021-10-30T07:46:15.096Z"
   },
   {
    "duration": -201,
    "start_time": "2021-10-30T07:46:15.110Z"
   },
   {
    "duration": -206,
    "start_time": "2021-10-30T07:46:15.115Z"
   },
   {
    "duration": -216,
    "start_time": "2021-10-30T07:46:15.127Z"
   },
   {
    "duration": -222,
    "start_time": "2021-10-30T07:46:15.134Z"
   },
   {
    "duration": -233,
    "start_time": "2021-10-30T07:46:15.145Z"
   },
   {
    "duration": -238,
    "start_time": "2021-10-30T07:46:15.151Z"
   },
   {
    "duration": -248,
    "start_time": "2021-10-30T07:46:15.162Z"
   },
   {
    "duration": -254,
    "start_time": "2021-10-30T07:46:15.169Z"
   },
   {
    "duration": -267,
    "start_time": "2021-10-30T07:46:15.183Z"
   },
   {
    "duration": -280,
    "start_time": "2021-10-30T07:46:15.196Z"
   },
   {
    "duration": -293,
    "start_time": "2021-10-30T07:46:15.210Z"
   },
   {
    "duration": -297,
    "start_time": "2021-10-30T07:46:15.215Z"
   },
   {
    "duration": -311,
    "start_time": "2021-10-30T07:46:15.229Z"
   },
   {
    "duration": -315,
    "start_time": "2021-10-30T07:46:15.234Z"
   },
   {
    "duration": 279,
    "start_time": "2021-10-30T07:46:57.774Z"
   },
   {
    "duration": 284,
    "start_time": "2021-10-30T07:47:11.798Z"
   },
   {
    "duration": 24,
    "start_time": "2021-10-30T07:47:32.060Z"
   },
   {
    "duration": 33,
    "start_time": "2021-10-30T07:47:40.860Z"
   },
   {
    "duration": 584,
    "start_time": "2021-10-30T07:47:55.655Z"
   },
   {
    "duration": 130,
    "start_time": "2021-10-30T07:47:56.241Z"
   },
   {
    "duration": 15,
    "start_time": "2021-10-30T07:47:56.373Z"
   },
   {
    "duration": 24,
    "start_time": "2021-10-30T07:47:56.390Z"
   },
   {
    "duration": 3,
    "start_time": "2021-10-30T07:47:56.416Z"
   },
   {
    "duration": 40,
    "start_time": "2021-10-30T07:47:56.421Z"
   },
   {
    "duration": 9,
    "start_time": "2021-10-30T07:47:56.463Z"
   },
   {
    "duration": 25,
    "start_time": "2021-10-30T07:47:56.474Z"
   },
   {
    "duration": 25,
    "start_time": "2021-10-30T07:47:56.501Z"
   },
   {
    "duration": 32,
    "start_time": "2021-10-30T07:47:56.528Z"
   },
   {
    "duration": 53,
    "start_time": "2021-10-30T07:47:56.561Z"
   },
   {
    "duration": 83,
    "start_time": "2021-10-30T07:47:56.615Z"
   },
   {
    "duration": 56,
    "start_time": "2021-10-30T07:47:56.700Z"
   },
   {
    "duration": 41,
    "start_time": "2021-10-30T07:47:56.757Z"
   },
   {
    "duration": 2,
    "start_time": "2021-10-30T07:47:56.800Z"
   },
   {
    "duration": 9,
    "start_time": "2021-10-30T07:47:56.804Z"
   },
   {
    "duration": 62,
    "start_time": "2021-10-30T07:47:56.815Z"
   },
   {
    "duration": 26,
    "start_time": "2021-10-30T07:47:56.879Z"
   },
   {
    "duration": 51,
    "start_time": "2021-10-30T07:47:56.907Z"
   },
   {
    "duration": 3,
    "start_time": "2021-10-30T07:47:56.960Z"
   },
   {
    "duration": 81,
    "start_time": "2021-10-30T07:47:56.965Z"
   },
   {
    "duration": 8,
    "start_time": "2021-10-30T07:47:57.048Z"
   },
   {
    "duration": 14,
    "start_time": "2021-10-30T07:47:57.059Z"
   },
   {
    "duration": 10,
    "start_time": "2021-10-30T07:47:57.075Z"
   },
   {
    "duration": 4,
    "start_time": "2021-10-30T07:47:57.087Z"
   },
   {
    "duration": 67,
    "start_time": "2021-10-30T07:47:57.092Z"
   },
   {
    "duration": 29,
    "start_time": "2021-10-30T07:47:57.161Z"
   },
   {
    "duration": 22,
    "start_time": "2021-10-30T07:47:57.192Z"
   },
   {
    "duration": 34,
    "start_time": "2021-10-30T07:47:57.216Z"
   },
   {
    "duration": 9,
    "start_time": "2021-10-30T07:47:57.251Z"
   },
   {
    "duration": 7,
    "start_time": "2021-10-30T07:47:57.262Z"
   },
   {
    "duration": 5,
    "start_time": "2021-10-30T07:47:57.271Z"
   },
   {
    "duration": 4,
    "start_time": "2021-10-30T07:50:01.104Z"
   },
   {
    "duration": 31,
    "start_time": "2021-10-30T07:50:03.714Z"
   },
   {
    "duration": 4,
    "start_time": "2021-10-30T07:50:27.592Z"
   },
   {
    "duration": 42,
    "start_time": "2021-10-30T07:50:29.127Z"
   },
   {
    "duration": 4,
    "start_time": "2021-10-30T07:50:41.134Z"
   },
   {
    "duration": 31,
    "start_time": "2021-10-30T07:50:43.154Z"
   },
   {
    "duration": 32,
    "start_time": "2021-10-30T07:50:48.731Z"
   },
   {
    "duration": 24,
    "start_time": "2021-10-30T07:50:57.054Z"
   },
   {
    "duration": 22,
    "start_time": "2021-10-30T07:51:23.414Z"
   },
   {
    "duration": 588,
    "start_time": "2021-10-30T07:55:27.673Z"
   },
   {
    "duration": 134,
    "start_time": "2021-10-30T07:55:28.263Z"
   },
   {
    "duration": 16,
    "start_time": "2021-10-30T07:55:28.399Z"
   },
   {
    "duration": 37,
    "start_time": "2021-10-30T07:55:28.417Z"
   },
   {
    "duration": 7,
    "start_time": "2021-10-30T07:55:28.455Z"
   },
   {
    "duration": 21,
    "start_time": "2021-10-30T07:55:28.463Z"
   },
   {
    "duration": 4,
    "start_time": "2021-10-30T07:55:28.486Z"
   },
   {
    "duration": 24,
    "start_time": "2021-10-30T07:55:28.492Z"
   },
   {
    "duration": 48,
    "start_time": "2021-10-30T07:55:28.518Z"
   },
   {
    "duration": 21,
    "start_time": "2021-10-30T07:55:28.568Z"
   },
   {
    "duration": 71,
    "start_time": "2021-10-30T07:55:28.591Z"
   },
   {
    "duration": 67,
    "start_time": "2021-10-30T07:55:28.664Z"
   },
   {
    "duration": 59,
    "start_time": "2021-10-30T07:55:28.732Z"
   },
   {
    "duration": 51,
    "start_time": "2021-10-30T07:55:28.793Z"
   },
   {
    "duration": 3,
    "start_time": "2021-10-30T07:55:28.846Z"
   },
   {
    "duration": 17,
    "start_time": "2021-10-30T07:55:28.850Z"
   },
   {
    "duration": 49,
    "start_time": "2021-10-30T07:55:28.868Z"
   },
   {
    "duration": 28,
    "start_time": "2021-10-30T07:55:28.919Z"
   },
   {
    "duration": 30,
    "start_time": "2021-10-30T07:55:28.949Z"
   },
   {
    "duration": 3,
    "start_time": "2021-10-30T07:55:28.981Z"
   },
   {
    "duration": 91,
    "start_time": "2021-10-30T07:55:28.985Z"
   },
   {
    "duration": 8,
    "start_time": "2021-10-30T07:55:29.078Z"
   },
   {
    "duration": 14,
    "start_time": "2021-10-30T07:55:29.089Z"
   },
   {
    "duration": 10,
    "start_time": "2021-10-30T07:55:29.105Z"
   },
   {
    "duration": 4,
    "start_time": "2021-10-30T07:55:29.117Z"
   },
   {
    "duration": 52,
    "start_time": "2021-10-30T07:55:29.123Z"
   },
   {
    "duration": 29,
    "start_time": "2021-10-30T07:55:29.177Z"
   },
   {
    "duration": 46,
    "start_time": "2021-10-30T07:55:29.208Z"
   },
   {
    "duration": 10,
    "start_time": "2021-10-30T07:55:29.256Z"
   },
   {
    "duration": 7,
    "start_time": "2021-10-30T07:55:29.268Z"
   },
   {
    "duration": 12,
    "start_time": "2021-10-30T07:55:29.277Z"
   },
   {
    "duration": 5,
    "start_time": "2021-10-30T07:55:29.291Z"
   },
   {
    "duration": 84,
    "start_time": "2021-10-30T07:56:44.832Z"
   },
   {
    "duration": 209,
    "start_time": "2021-10-31T10:10:27.618Z"
   },
   {
    "duration": 516,
    "start_time": "2021-10-31T10:10:32.252Z"
   },
   {
    "duration": 128,
    "start_time": "2021-10-31T10:10:32.770Z"
   },
   {
    "duration": 16,
    "start_time": "2021-10-31T10:10:32.899Z"
   },
   {
    "duration": 28,
    "start_time": "2021-10-31T10:10:32.917Z"
   },
   {
    "duration": 4,
    "start_time": "2021-10-31T10:10:32.946Z"
   },
   {
    "duration": 39,
    "start_time": "2021-10-31T10:10:32.952Z"
   },
   {
    "duration": 3,
    "start_time": "2021-10-31T10:10:32.993Z"
   },
   {
    "duration": 21,
    "start_time": "2021-10-31T10:10:32.999Z"
   },
   {
    "duration": 24,
    "start_time": "2021-10-31T10:10:33.022Z"
   },
   {
    "duration": 19,
    "start_time": "2021-10-31T10:10:33.048Z"
   },
   {
    "duration": 53,
    "start_time": "2021-10-31T10:10:33.092Z"
   },
   {
    "duration": 90,
    "start_time": "2021-10-31T10:10:33.146Z"
   },
   {
    "duration": 54,
    "start_time": "2021-10-31T10:10:33.238Z"
   },
   {
    "duration": 37,
    "start_time": "2021-10-31T10:10:33.293Z"
   },
   {
    "duration": 3,
    "start_time": "2021-10-31T10:10:33.331Z"
   },
   {
    "duration": 11,
    "start_time": "2021-10-31T10:10:33.335Z"
   },
   {
    "duration": 49,
    "start_time": "2021-10-31T10:10:33.348Z"
   },
   {
    "duration": 21,
    "start_time": "2021-10-31T10:10:33.399Z"
   },
   {
    "duration": 26,
    "start_time": "2021-10-31T10:10:33.422Z"
   },
   {
    "duration": 4,
    "start_time": "2021-10-31T10:10:33.450Z"
   },
   {
    "duration": 86,
    "start_time": "2021-10-31T10:10:33.456Z"
   },
   {
    "duration": 10,
    "start_time": "2021-10-31T10:10:33.544Z"
   },
   {
    "duration": 11,
    "start_time": "2021-10-31T10:10:33.557Z"
   },
   {
    "duration": 26,
    "start_time": "2021-10-31T10:10:33.570Z"
   },
   {
    "duration": 5,
    "start_time": "2021-10-31T10:10:33.598Z"
   },
   {
    "duration": 36,
    "start_time": "2021-10-31T10:10:33.604Z"
   },
   {
    "duration": 54,
    "start_time": "2021-10-31T10:10:33.642Z"
   },
   {
    "duration": 22,
    "start_time": "2021-10-31T10:10:33.698Z"
   },
   {
    "duration": 9,
    "start_time": "2021-10-31T10:10:33.722Z"
   },
   {
    "duration": 7,
    "start_time": "2021-10-31T10:10:33.732Z"
   },
   {
    "duration": 7,
    "start_time": "2021-10-31T10:10:33.741Z"
   },
   {
    "duration": 43,
    "start_time": "2021-10-31T10:10:33.749Z"
   },
   {
    "duration": 8,
    "start_time": "2021-10-31T10:10:52.080Z"
   },
   {
    "duration": 30,
    "start_time": "2021-10-31T10:11:03.921Z"
   },
   {
    "duration": 32,
    "start_time": "2021-10-31T10:11:41.221Z"
   },
   {
    "duration": 31,
    "start_time": "2021-10-31T10:11:50.549Z"
   },
   {
    "duration": 790,
    "start_time": "2021-11-01T15:50:45.424Z"
   },
   {
    "duration": 186,
    "start_time": "2021-11-01T15:50:46.216Z"
   },
   {
    "duration": 29,
    "start_time": "2021-11-01T15:50:46.406Z"
   },
   {
    "duration": 50,
    "start_time": "2021-11-01T15:50:46.440Z"
   },
   {
    "duration": 7,
    "start_time": "2021-11-01T15:50:46.493Z"
   },
   {
    "duration": 27,
    "start_time": "2021-11-01T15:50:46.504Z"
   },
   {
    "duration": 36,
    "start_time": "2021-11-01T15:50:46.534Z"
   },
   {
    "duration": 38,
    "start_time": "2021-11-01T15:50:46.572Z"
   },
   {
    "duration": 61,
    "start_time": "2021-11-01T15:50:46.616Z"
   },
   {
    "duration": 30,
    "start_time": "2021-11-01T15:50:46.680Z"
   },
   {
    "duration": 116,
    "start_time": "2021-11-01T15:50:46.713Z"
   },
   {
    "duration": 115,
    "start_time": "2021-11-01T15:50:46.832Z"
   },
   {
    "duration": 81,
    "start_time": "2021-11-01T15:50:46.950Z"
   },
   {
    "duration": 70,
    "start_time": "2021-11-01T15:50:47.034Z"
   },
   {
    "duration": 4,
    "start_time": "2021-11-01T15:50:47.107Z"
   },
   {
    "duration": 13,
    "start_time": "2021-11-01T15:50:47.113Z"
   },
   {
    "duration": 96,
    "start_time": "2021-11-01T15:50:47.129Z"
   },
   {
    "duration": 52,
    "start_time": "2021-11-01T15:50:47.228Z"
   },
   {
    "duration": 42,
    "start_time": "2021-11-01T15:50:47.282Z"
   },
   {
    "duration": 396,
    "start_time": "2021-11-01T15:51:46.337Z"
   },
   {
    "duration": 22,
    "start_time": "2021-11-01T15:52:11.567Z"
   },
   {
    "duration": 324,
    "start_time": "2021-11-01T15:53:38.037Z"
   },
   {
    "duration": 374,
    "start_time": "2021-11-01T15:54:01.016Z"
   },
   {
    "duration": 322,
    "start_time": "2021-11-01T15:54:07.917Z"
   },
   {
    "duration": 334,
    "start_time": "2021-11-01T15:56:39.711Z"
   },
   {
    "duration": 7272,
    "start_time": "2021-11-01T15:56:51.548Z"
   },
   {
    "duration": 11433,
    "start_time": "2021-11-01T15:57:23.912Z"
   },
   {
    "duration": 131,
    "start_time": "2021-11-01T15:58:15.249Z"
   },
   {
    "duration": 15318,
    "start_time": "2021-11-01T15:58:18.258Z"
   },
   {
    "duration": 789,
    "start_time": "2021-11-01T15:58:50.253Z"
   },
   {
    "duration": 191,
    "start_time": "2021-11-01T15:58:51.044Z"
   },
   {
    "duration": 28,
    "start_time": "2021-11-01T15:58:51.239Z"
   },
   {
    "duration": 55,
    "start_time": "2021-11-01T15:58:51.270Z"
   },
   {
    "duration": 6,
    "start_time": "2021-11-01T15:58:51.327Z"
   },
   {
    "duration": 47,
    "start_time": "2021-11-01T15:58:51.336Z"
   },
   {
    "duration": 6,
    "start_time": "2021-11-01T15:58:51.385Z"
   },
   {
    "duration": 37,
    "start_time": "2021-11-01T15:58:51.394Z"
   },
   {
    "duration": 64,
    "start_time": "2021-11-01T15:58:51.437Z"
   },
   {
    "duration": 31,
    "start_time": "2021-11-01T15:58:51.503Z"
   },
   {
    "duration": 110,
    "start_time": "2021-11-01T15:58:51.536Z"
   },
   {
    "duration": 119,
    "start_time": "2021-11-01T15:58:51.648Z"
   },
   {
    "duration": 80,
    "start_time": "2021-11-01T15:58:51.769Z"
   },
   {
    "duration": 71,
    "start_time": "2021-11-01T15:58:51.851Z"
   },
   {
    "duration": 4,
    "start_time": "2021-11-01T15:58:51.925Z"
   },
   {
    "duration": 37,
    "start_time": "2021-11-01T15:58:51.931Z"
   },
   {
    "duration": 61,
    "start_time": "2021-11-01T15:58:51.971Z"
   },
   {
    "duration": 53,
    "start_time": "2021-11-01T15:58:52.035Z"
   },
   {
    "duration": 40,
    "start_time": "2021-11-01T15:58:52.090Z"
   },
   {
    "duration": 7183,
    "start_time": "2021-11-01T15:59:13.350Z"
   },
   {
    "duration": 21,
    "start_time": "2021-11-01T15:59:56.099Z"
   },
   {
    "duration": 28,
    "start_time": "2021-11-01T16:00:08.029Z"
   },
   {
    "duration": 538,
    "start_time": "2021-11-01T16:00:15.540Z"
   },
   {
    "duration": 27,
    "start_time": "2021-11-01T16:00:30.864Z"
   },
   {
    "duration": 5,
    "start_time": "2021-11-01T16:00:42.264Z"
   },
   {
    "duration": 4,
    "start_time": "2021-11-01T16:00:47.131Z"
   },
   {
    "duration": 88,
    "start_time": "2021-11-01T16:00:50.260Z"
   },
   {
    "duration": 12,
    "start_time": "2021-11-01T16:00:53.780Z"
   },
   {
    "duration": 304,
    "start_time": "2021-11-01T16:03:38.690Z"
   },
   {
    "duration": 330,
    "start_time": "2021-11-01T16:03:53.071Z"
   },
   {
    "duration": 25,
    "start_time": "2021-11-01T16:04:19.258Z"
   },
   {
    "duration": 377,
    "start_time": "2021-11-01T16:04:35.809Z"
   },
   {
    "duration": 6,
    "start_time": "2021-11-01T16:04:46.369Z"
   }
  ],
  "colab": {
   "collapsed_sections": [
    "E0vqbgi9ay0H",
    "VUC88oWjTJw2"
   ],
   "name": "yandex_music_project_2021.2.ipynb",
   "provenance": []
  },
  "kernelspec": {
   "display_name": "Python 3",
   "language": "python",
   "name": "python3"
  },
  "language_info": {
   "codemirror_mode": {
    "name": "ipython",
    "version": 3
   },
   "file_extension": ".py",
   "mimetype": "text/x-python",
   "name": "python",
   "nbconvert_exporter": "python",
   "pygments_lexer": "ipython3",
   "version": "3.9.2"
  },
  "toc": {
   "base_numbering": 1,
   "nav_menu": {},
   "number_sections": true,
   "sideBar": true,
   "skip_h1_title": true,
   "title_cell": "Содержание",
   "title_sidebar": "Contents",
   "toc_cell": false,
   "toc_position": {
    "height": "calc(100% - 180px)",
    "left": "10px",
    "top": "150px",
    "width": "366.4px"
   },
   "toc_section_display": true,
   "toc_window_display": true
  }
 },
 "nbformat": 4,
 "nbformat_minor": 1
}
