{
 "cells": [
  {
   "cell_type": "markdown",
   "metadata": {},
   "source": [
    "# Исследование надёжности заёмщиков\n",
    "\n",
    "Заказчик — кредитный отдел банка. Нужно разобраться, влияет ли семейное положение и количество детей клиента на факт погашения кредита в срок. Входные данные от банка — статистика о платёжеспособности клиентов.\n",
    "\n",
    "Результаты исследования будут учтены при построении модели **кредитного скоринга** — специальной системы, которая оценивает способность потенциального заёмщика вернуть кредит банку."
   ]
  },
  {
   "cell_type": "markdown",
   "metadata": {},
   "source": [
    "## Шаг 1. Откройте файл с данными и изучите общую информацию"
   ]
  },
  {
   "cell_type": "code",
   "execution_count": 1,
   "metadata": {},
   "outputs": [
    {
     "name": "stdout",
     "output_type": "stream",
     "text": [
      "<class 'pandas.core.frame.DataFrame'>\n",
      "RangeIndex: 21525 entries, 0 to 21524\n",
      "Data columns (total 12 columns):\n",
      "children            21525 non-null int64\n",
      "days_employed       19351 non-null float64\n",
      "dob_years           21525 non-null int64\n",
      "education           21525 non-null object\n",
      "education_id        21525 non-null int64\n",
      "family_status       21525 non-null object\n",
      "family_status_id    21525 non-null int64\n",
      "gender              21525 non-null object\n",
      "income_type         21525 non-null object\n",
      "debt                21525 non-null int64\n",
      "total_income        19351 non-null float64\n",
      "purpose             21525 non-null object\n",
      "dtypes: float64(2), int64(5), object(5)\n",
      "memory usage: 2.0+ MB\n"
     ]
    },
    {
     "data": {
      "text/html": [
       "<div>\n",
       "<style scoped>\n",
       "    .dataframe tbody tr th:only-of-type {\n",
       "        vertical-align: middle;\n",
       "    }\n",
       "\n",
       "    .dataframe tbody tr th {\n",
       "        vertical-align: top;\n",
       "    }\n",
       "\n",
       "    .dataframe thead th {\n",
       "        text-align: right;\n",
       "    }\n",
       "</style>\n",
       "<table border=\"1\" class=\"dataframe\">\n",
       "  <thead>\n",
       "    <tr style=\"text-align: right;\">\n",
       "      <th></th>\n",
       "      <th>children</th>\n",
       "      <th>days_employed</th>\n",
       "      <th>dob_years</th>\n",
       "      <th>education_id</th>\n",
       "      <th>family_status_id</th>\n",
       "      <th>debt</th>\n",
       "      <th>total_income</th>\n",
       "    </tr>\n",
       "  </thead>\n",
       "  <tbody>\n",
       "    <tr>\n",
       "      <td>count</td>\n",
       "      <td>21525.000000</td>\n",
       "      <td>19351.000000</td>\n",
       "      <td>21525.000000</td>\n",
       "      <td>21525.000000</td>\n",
       "      <td>21525.000000</td>\n",
       "      <td>21525.000000</td>\n",
       "      <td>1.935100e+04</td>\n",
       "    </tr>\n",
       "    <tr>\n",
       "      <td>mean</td>\n",
       "      <td>0.538908</td>\n",
       "      <td>63046.497661</td>\n",
       "      <td>43.293380</td>\n",
       "      <td>0.817236</td>\n",
       "      <td>0.972544</td>\n",
       "      <td>0.080883</td>\n",
       "      <td>1.674223e+05</td>\n",
       "    </tr>\n",
       "    <tr>\n",
       "      <td>std</td>\n",
       "      <td>1.381587</td>\n",
       "      <td>140827.311974</td>\n",
       "      <td>12.574584</td>\n",
       "      <td>0.548138</td>\n",
       "      <td>1.420324</td>\n",
       "      <td>0.272661</td>\n",
       "      <td>1.029716e+05</td>\n",
       "    </tr>\n",
       "    <tr>\n",
       "      <td>min</td>\n",
       "      <td>-1.000000</td>\n",
       "      <td>-18388.949901</td>\n",
       "      <td>0.000000</td>\n",
       "      <td>0.000000</td>\n",
       "      <td>0.000000</td>\n",
       "      <td>0.000000</td>\n",
       "      <td>2.066726e+04</td>\n",
       "    </tr>\n",
       "    <tr>\n",
       "      <td>25%</td>\n",
       "      <td>0.000000</td>\n",
       "      <td>-2747.423625</td>\n",
       "      <td>33.000000</td>\n",
       "      <td>1.000000</td>\n",
       "      <td>0.000000</td>\n",
       "      <td>0.000000</td>\n",
       "      <td>1.030532e+05</td>\n",
       "    </tr>\n",
       "    <tr>\n",
       "      <td>50%</td>\n",
       "      <td>0.000000</td>\n",
       "      <td>-1203.369529</td>\n",
       "      <td>42.000000</td>\n",
       "      <td>1.000000</td>\n",
       "      <td>0.000000</td>\n",
       "      <td>0.000000</td>\n",
       "      <td>1.450179e+05</td>\n",
       "    </tr>\n",
       "    <tr>\n",
       "      <td>75%</td>\n",
       "      <td>1.000000</td>\n",
       "      <td>-291.095954</td>\n",
       "      <td>53.000000</td>\n",
       "      <td>1.000000</td>\n",
       "      <td>1.000000</td>\n",
       "      <td>0.000000</td>\n",
       "      <td>2.034351e+05</td>\n",
       "    </tr>\n",
       "    <tr>\n",
       "      <td>max</td>\n",
       "      <td>20.000000</td>\n",
       "      <td>401755.400475</td>\n",
       "      <td>75.000000</td>\n",
       "      <td>4.000000</td>\n",
       "      <td>4.000000</td>\n",
       "      <td>1.000000</td>\n",
       "      <td>2.265604e+06</td>\n",
       "    </tr>\n",
       "  </tbody>\n",
       "</table>\n",
       "</div>"
      ],
      "text/plain": [
       "           children  days_employed     dob_years  education_id  \\\n",
       "count  21525.000000   19351.000000  21525.000000  21525.000000   \n",
       "mean       0.538908   63046.497661     43.293380      0.817236   \n",
       "std        1.381587  140827.311974     12.574584      0.548138   \n",
       "min       -1.000000  -18388.949901      0.000000      0.000000   \n",
       "25%        0.000000   -2747.423625     33.000000      1.000000   \n",
       "50%        0.000000   -1203.369529     42.000000      1.000000   \n",
       "75%        1.000000    -291.095954     53.000000      1.000000   \n",
       "max       20.000000  401755.400475     75.000000      4.000000   \n",
       "\n",
       "       family_status_id          debt  total_income  \n",
       "count      21525.000000  21525.000000  1.935100e+04  \n",
       "mean           0.972544      0.080883  1.674223e+05  \n",
       "std            1.420324      0.272661  1.029716e+05  \n",
       "min            0.000000      0.000000  2.066726e+04  \n",
       "25%            0.000000      0.000000  1.030532e+05  \n",
       "50%            0.000000      0.000000  1.450179e+05  \n",
       "75%            1.000000      0.000000  2.034351e+05  \n",
       "max            4.000000      1.000000  2.265604e+06  "
      ]
     },
     "metadata": {},
     "output_type": "display_data"
    }
   ],
   "source": [
    "import pandas as pd\n",
    "from pymystem3 import Mystem\n",
    "\n",
    "m = Mystem() \n",
    "data = pd.read_csv('/datasets/data.csv')\n",
    "data.info()\n",
    "display(data.describe())"
   ]
  },
  {
   "cell_type": "markdown",
   "metadata": {},
   "source": [
    "**Вывод**"
   ]
  },
  {
   "cell_type": "markdown",
   "metadata": {},
   "source": [
    "В исходных данных есть много артефактов и неунифицорованных данных: отрицательный стаж, использование разного регистра в колонке с информацией об образовании заемщика, цели получения кредита тоже сформулированы по-разному -- в таком виде их трудно категоризировать. Также таблица содержит избыточные данные строчных типов, что может значительно увеличивать время обработки.\n",
    "\n",
    "Таким образом исходная таблица требует следующих изменений:\n",
    "* обработать пропуски;\n",
    "* найти и постараться устранить артефакты данных;\n",
    "* заменить вещественные значения на целочисленные;\n",
    "* устранить дубликаты;\n",
    "* привести все строковые записи к единому виду;\n",
    "* добавить столбцы с id для каждой колонки со строковыми значениями;"
   ]
  },
  {
   "cell_type": "markdown",
   "metadata": {},
   "source": [
    "## Шаг 2. Предобработка данных"
   ]
  },
  {
   "cell_type": "markdown",
   "metadata": {},
   "source": [
    "### Обработка пропусков"
   ]
  },
  {
   "cell_type": "code",
   "execution_count": 2,
   "metadata": {},
   "outputs": [
    {
     "name": "stdout",
     "output_type": "stream",
     "text": [
      "children               0\n",
      "days_employed       2174\n",
      "dob_years              0\n",
      "education              0\n",
      "education_id           0\n",
      "family_status          0\n",
      "family_status_id       0\n",
      "gender                 0\n",
      "income_type            0\n",
      "debt                   0\n",
      "total_income        2174\n",
      "purpose                0\n",
      "dtype: int64\n",
      "Уникальные значения для days_employed: [nan] \n",
      "Общее количество строк в таблице: 2174\n",
      "Число нулевых записей в колонке total_income: 0\n",
      "Число нулевых записей в колонке days_employed: 0\n"
     ]
    }
   ],
   "source": [
    "print(data.isna().sum()) # пропусков значительное количество (порядка 10%)\n",
    "# проверим, что пропуски в days_employed и total_income встречаются в одних и тех же строках:\n",
    "data_nan = data[data['total_income'].isna()] # формируем таблицу из строк, содержащих пропущенные значения в \n",
    "                                             # total_income\n",
    "print('Уникальные значения для days_employed:', data_nan['days_employed'].unique(),\n",
    "      '\\nОбщее количество строк в таблице:', len(data_nan))\n",
    "# то есть для всех пропущенных значений days_employed соответсвующая ячейка total_income тоже содержит\n",
    "# пропущенное значение.\n",
    "# посмотрим, есть в данных записи, для которых total_income и days_employed принимали бы знаение 0\n",
    "print('Число нулевых записей в колонке total_income:',data[data['total_income'] == 0]['total_income'].count())\n",
    "print('Число нулевых записей в колонке days_employed:',data[data['days_employed'] == 0]['days_employed'].count())\n",
    "# поскольку в этих колонках не содержится нулей, заменим несуществующие значения нулями\n",
    "data['days_employed'] = data['days_employed'].fillna(0)\n",
    "#**********************************\n",
    "# замена пропусков в total_income\n",
    "#**********************************\n",
    "incm_types = data['income_type'].unique() # получаем список профессий\n",
    "\n",
    "for value in incm_types:\n",
    "    median = data[data['income_type'] == value]['total_income'].median()\n",
    "    data.loc[data['income_type'] == value,'total_income'] = median\n",
    "    \n"
   ]
  },
  {
   "cell_type": "markdown",
   "metadata": {},
   "source": [
    "**Вывод**"
   ]
  },
  {
   "cell_type": "markdown",
   "metadata": {},
   "source": [
    "Столбцы days_employed и total_income содержат пропуски. При этом все строки с пропущенным значением в ячейке days_employed также имеют пропуски в ячеке total_income. Такое могло случиться, если при заполнении \"личного дела клиента\" отсутствовала информация о его трудовой деятельности."
   ]
  },
  {
   "cell_type": "markdown",
   "metadata": {},
   "source": [
    "### Замена типа данных"
   ]
  },
  {
   "cell_type": "code",
   "execution_count": 3,
   "metadata": {},
   "outputs": [
    {
     "name": "stdout",
     "output_type": "stream",
     "text": [
      "Средний трудовой стаж для положительных значений days_employed (годы): 1000\n",
      "Средний трудовой стаж для отрицательных значений days_employed (годы): -6\n",
      "Число клиентов с отрицательным стажем: 15906 \n",
      "*******\n",
      "days_employed > 0:\n",
      " пенсионер      3443\n",
      "безработный       2\n",
      "Name: income_type, dtype: int64 \n",
      "*******\n",
      "days_employed < 0:\n",
      " сотрудник          10014\n",
      "компаньон           4577\n",
      "госслужащий         1312\n",
      "студент                1\n",
      "в декрете              1\n",
      "предприниматель        1\n",
      "Name: income_type, dtype: int64 \n",
      "*******\n",
      "Средний возраст клиентов с очень большим трудовым стажем: 59.1\n",
      "Средний возраст клиентов с отрицательным трудовым стажем: 39.8\n",
      "Метрика для людей с отрицательным стажем: 46.3\n",
      "Метрика для людей с очень большим стажем (с новым коэффициентом): 17.5\n",
      "Средний стаж для людей с очень большим стажем (скорректированный, в годах) 41.7\n"
     ]
    }
   ],
   "source": [
    "#*****************************************************************\n",
    "# посмотрим, чем обусловлен отрицательный стаж в данных\n",
    "#*****************************************************************\n",
    "\n",
    "print('Средний трудовой стаж для положительных значений days_employed (годы):',\n",
    "      int(data[data['days_employed'] > 0]['days_employed'].mean()/365)) # нереалистичные \n",
    "                                                                        # значения для трудового стажа\n",
    "print('Средний трудовой стаж для отрицательных значений days_employed (годы):',\n",
    "      int(data[data['days_employed'] < 0]['days_employed'].mean()/365)) \n",
    "\n",
    "print('Число клиентов с отрицательным стажем:',data[data['days_employed']< 0]['income_type'].count(),'\\n*******')\n",
    "\n",
    "pos_days = data[data['days_employed'] > 0]\n",
    "neg_days = data[data['days_employed'] < 0]\n",
    "\n",
    "# посмотрим также на отметку о занятости:\n",
    "print('days_employed > 0:\\n', pos_days['income_type'].value_counts(),'\\n*******')\n",
    "print('days_employed < 0:\\n', neg_days['income_type'].value_counts(),'\\n*******')\n",
    "\n",
    "# подавляющее число клиентов с очень большим трудовым стажем -- пенсионеры и немного безработных;\n",
    "print('Средний возраст клиентов с очень большим трудовым стажем:',round(pos_days['dob_years'].mean(),1))\n",
    "print('Средний возраст клиентов с отрицательным трудовым стажем:', round(neg_days['dob_years'].mean(),1))\n",
    "\n",
    "# посмотрим на метрику (возраст (годы) - стаж (годы)):\n",
    "print('Метрика для людей с отрицательным стажем:',\n",
    "      round((neg_days['dob_years'] - neg_days['days_employed']/(365)).mean(),1))\n",
    "# значения метрики для людей с отрицательным стажем близко к среднему значению возраста  в выборке\n",
    "# возможно, стаж людей с очень большим стажем  изначально записан не в днях, а секундах?\n",
    "print('Метрика для людей с очень большим стажем (с новым коэффициентом):',\n",
    "      round((pos_days['dob_years'] - pos_days['days_employed']/(365*24)).mean(),1))\n",
    "# посмотрим на среднее значение стажа в этом случае:\n",
    "print('Средний стаж для людей с очень большим стажем (скорректированный, в годах)',\n",
    "      round(pos_days['days_employed'].mean()/(24*365), 1))\n",
    "# кажется, тут проблема преобразования форматов дат: неверно расчитали интервал при переходе от \n",
    "# UTC-секунд к дням (отрицательный стаж) и указали неверные единицы измерения (неожиданно большой стаж)"
   ]
  },
  {
   "cell_type": "code",
   "execution_count": 4,
   "metadata": {},
   "outputs": [
    {
     "data": {
      "text/html": [
       "<div>\n",
       "<style scoped>\n",
       "    .dataframe tbody tr th:only-of-type {\n",
       "        vertical-align: middle;\n",
       "    }\n",
       "\n",
       "    .dataframe tbody tr th {\n",
       "        vertical-align: top;\n",
       "    }\n",
       "\n",
       "    .dataframe thead th {\n",
       "        text-align: right;\n",
       "    }\n",
       "</style>\n",
       "<table border=\"1\" class=\"dataframe\">\n",
       "  <thead>\n",
       "    <tr style=\"text-align: right;\">\n",
       "      <th></th>\n",
       "      <th>children</th>\n",
       "      <th>days_employed</th>\n",
       "      <th>dob_years</th>\n",
       "      <th>education</th>\n",
       "      <th>education_id</th>\n",
       "      <th>family_status</th>\n",
       "      <th>family_status_id</th>\n",
       "      <th>gender</th>\n",
       "      <th>income_type</th>\n",
       "      <th>debt</th>\n",
       "      <th>total_income</th>\n",
       "      <th>purpose</th>\n",
       "    </tr>\n",
       "  </thead>\n",
       "  <tbody>\n",
       "    <tr>\n",
       "      <td>0</td>\n",
       "      <td>1</td>\n",
       "      <td>8437</td>\n",
       "      <td>42</td>\n",
       "      <td>высшее</td>\n",
       "      <td>0</td>\n",
       "      <td>женат / замужем</td>\n",
       "      <td>0</td>\n",
       "      <td>F</td>\n",
       "      <td>сотрудник</td>\n",
       "      <td>0</td>\n",
       "      <td>142594</td>\n",
       "      <td>покупка жилья</td>\n",
       "    </tr>\n",
       "    <tr>\n",
       "      <td>1</td>\n",
       "      <td>1</td>\n",
       "      <td>4024</td>\n",
       "      <td>36</td>\n",
       "      <td>среднее</td>\n",
       "      <td>1</td>\n",
       "      <td>женат / замужем</td>\n",
       "      <td>0</td>\n",
       "      <td>F</td>\n",
       "      <td>сотрудник</td>\n",
       "      <td>0</td>\n",
       "      <td>142594</td>\n",
       "      <td>приобретение автомобиля</td>\n",
       "    </tr>\n",
       "    <tr>\n",
       "      <td>2</td>\n",
       "      <td>0</td>\n",
       "      <td>5623</td>\n",
       "      <td>33</td>\n",
       "      <td>Среднее</td>\n",
       "      <td>1</td>\n",
       "      <td>женат / замужем</td>\n",
       "      <td>0</td>\n",
       "      <td>M</td>\n",
       "      <td>сотрудник</td>\n",
       "      <td>0</td>\n",
       "      <td>142594</td>\n",
       "      <td>покупка жилья</td>\n",
       "    </tr>\n",
       "    <tr>\n",
       "      <td>3</td>\n",
       "      <td>3</td>\n",
       "      <td>4124</td>\n",
       "      <td>32</td>\n",
       "      <td>среднее</td>\n",
       "      <td>1</td>\n",
       "      <td>женат / замужем</td>\n",
       "      <td>0</td>\n",
       "      <td>M</td>\n",
       "      <td>сотрудник</td>\n",
       "      <td>0</td>\n",
       "      <td>142594</td>\n",
       "      <td>дополнительное образование</td>\n",
       "    </tr>\n",
       "    <tr>\n",
       "      <td>4</td>\n",
       "      <td>0</td>\n",
       "      <td>3</td>\n",
       "      <td>53</td>\n",
       "      <td>среднее</td>\n",
       "      <td>1</td>\n",
       "      <td>гражданский брак</td>\n",
       "      <td>1</td>\n",
       "      <td>F</td>\n",
       "      <td>пенсионер</td>\n",
       "      <td>0</td>\n",
       "      <td>118514</td>\n",
       "      <td>сыграть свадьбу</td>\n",
       "    </tr>\n",
       "    <tr>\n",
       "      <td>5</td>\n",
       "      <td>0</td>\n",
       "      <td>926</td>\n",
       "      <td>27</td>\n",
       "      <td>высшее</td>\n",
       "      <td>0</td>\n",
       "      <td>гражданский брак</td>\n",
       "      <td>1</td>\n",
       "      <td>M</td>\n",
       "      <td>компаньон</td>\n",
       "      <td>0</td>\n",
       "      <td>172357</td>\n",
       "      <td>покупка жилья</td>\n",
       "    </tr>\n",
       "    <tr>\n",
       "      <td>6</td>\n",
       "      <td>0</td>\n",
       "      <td>2879</td>\n",
       "      <td>43</td>\n",
       "      <td>высшее</td>\n",
       "      <td>0</td>\n",
       "      <td>женат / замужем</td>\n",
       "      <td>0</td>\n",
       "      <td>F</td>\n",
       "      <td>компаньон</td>\n",
       "      <td>0</td>\n",
       "      <td>172357</td>\n",
       "      <td>операции с жильем</td>\n",
       "    </tr>\n",
       "    <tr>\n",
       "      <td>7</td>\n",
       "      <td>0</td>\n",
       "      <td>152</td>\n",
       "      <td>50</td>\n",
       "      <td>СРЕДНЕЕ</td>\n",
       "      <td>1</td>\n",
       "      <td>женат / замужем</td>\n",
       "      <td>0</td>\n",
       "      <td>M</td>\n",
       "      <td>сотрудник</td>\n",
       "      <td>0</td>\n",
       "      <td>142594</td>\n",
       "      <td>образование</td>\n",
       "    </tr>\n",
       "    <tr>\n",
       "      <td>8</td>\n",
       "      <td>2</td>\n",
       "      <td>6929</td>\n",
       "      <td>35</td>\n",
       "      <td>ВЫСШЕЕ</td>\n",
       "      <td>0</td>\n",
       "      <td>гражданский брак</td>\n",
       "      <td>1</td>\n",
       "      <td>F</td>\n",
       "      <td>сотрудник</td>\n",
       "      <td>0</td>\n",
       "      <td>142594</td>\n",
       "      <td>на проведение свадьбы</td>\n",
       "    </tr>\n",
       "    <tr>\n",
       "      <td>9</td>\n",
       "      <td>0</td>\n",
       "      <td>2188</td>\n",
       "      <td>41</td>\n",
       "      <td>среднее</td>\n",
       "      <td>1</td>\n",
       "      <td>женат / замужем</td>\n",
       "      <td>0</td>\n",
       "      <td>M</td>\n",
       "      <td>сотрудник</td>\n",
       "      <td>0</td>\n",
       "      <td>142594</td>\n",
       "      <td>покупка жилья для семьи</td>\n",
       "    </tr>\n",
       "  </tbody>\n",
       "</table>\n",
       "</div>"
      ],
      "text/plain": [
       "   children  days_employed  dob_years education  education_id  \\\n",
       "0         1           8437         42    высшее             0   \n",
       "1         1           4024         36   среднее             1   \n",
       "2         0           5623         33   Среднее             1   \n",
       "3         3           4124         32   среднее             1   \n",
       "4         0              3         53   среднее             1   \n",
       "5         0            926         27    высшее             0   \n",
       "6         0           2879         43    высшее             0   \n",
       "7         0            152         50   СРЕДНЕЕ             1   \n",
       "8         2           6929         35    ВЫСШЕЕ             0   \n",
       "9         0           2188         41   среднее             1   \n",
       "\n",
       "      family_status  family_status_id gender income_type  debt  total_income  \\\n",
       "0   женат / замужем                 0      F   сотрудник     0        142594   \n",
       "1   женат / замужем                 0      F   сотрудник     0        142594   \n",
       "2   женат / замужем                 0      M   сотрудник     0        142594   \n",
       "3   женат / замужем                 0      M   сотрудник     0        142594   \n",
       "4  гражданский брак                 1      F   пенсионер     0        118514   \n",
       "5  гражданский брак                 1      M   компаньон     0        172357   \n",
       "6   женат / замужем                 0      F   компаньон     0        172357   \n",
       "7   женат / замужем                 0      M   сотрудник     0        142594   \n",
       "8  гражданский брак                 1      F   сотрудник     0        142594   \n",
       "9   женат / замужем                 0      M   сотрудник     0        142594   \n",
       "\n",
       "                      purpose  \n",
       "0               покупка жилья  \n",
       "1     приобретение автомобиля  \n",
       "2               покупка жилья  \n",
       "3  дополнительное образование  \n",
       "4             сыграть свадьбу  \n",
       "5               покупка жилья  \n",
       "6           операции с жильем  \n",
       "7                 образование  \n",
       "8       на проведение свадьбы  \n",
       "9     покупка жилья для семьи  "
      ]
     },
     "metadata": {},
     "output_type": "display_data"
    },
    {
     "name": "stdout",
     "output_type": "stream",
     "text": [
      "<class 'pandas.core.frame.DataFrame'>\n",
      "RangeIndex: 21525 entries, 0 to 21524\n",
      "Data columns (total 12 columns):\n",
      "children            21525 non-null int64\n",
      "days_employed       21525 non-null int64\n",
      "dob_years           21525 non-null int64\n",
      "education           21525 non-null object\n",
      "education_id        21525 non-null int64\n",
      "family_status       21525 non-null object\n",
      "family_status_id    21525 non-null int64\n",
      "gender              21525 non-null object\n",
      "income_type         21525 non-null object\n",
      "debt                21525 non-null int64\n",
      "total_income        21525 non-null int64\n",
      "purpose             21525 non-null object\n",
      "dtypes: int64(7), object(5)\n",
      "memory usage: 2.0+ MB\n",
      "None\n"
     ]
    }
   ],
   "source": [
    "#*****************************************************************\n",
    "# изменим тип данных в колонках days_employed и total_income\n",
    "#*****************************************************************\n",
    "data.loc[data['days_employed'] > 0, 'days_employed'] = pos_days['days_employed']/(24*3600)\n",
    "data.loc[data['days_employed'] < 0, 'days_employed'] = abs(neg_days['days_employed'])\n",
    "data['days_employed'] = data['days_employed'].astype(int)\n",
    "data['total_income'] = data['total_income'].astype(int)\n",
    "display(data.head(10))\n",
    "print(data.info())"
   ]
  },
  {
   "cell_type": "markdown",
   "metadata": {},
   "source": [
    "**Вывод**"
   ]
  },
  {
   "cell_type": "markdown",
   "metadata": {},
   "source": [
    "Столбец days_employed должен содержать информацию о трудовом стаже выраженном в количестве дней. Однако этот столбец содержит отрицательные значения, а средний трудовой стаж для положительных значений составляет порядка 1000 лет.\n",
    "\n",
    "Выяснилось, что клиентами с положительным стажем являются в основном пенсионеры. Также анализ разности между возрастом клиента и его трудовым стажем показал, что данные с положительными значениями стажа, скорее всего, имеют неверные единицы измерения -- часы вместо дней. После учета коэффициента перевода секунд в количество дней средний стаж для положительных значений стал равным 42 года. Таким образом некорректные данные в исходной таблице можно объяснить неверным переводом из секунд в количество дней стажа: для отрицательных значений из даты начала работы в секундах вычли дату последнего рабочего дня, а для положительные значения не домножили на соответвующий коээфициент перевода количества часов в дни.\n",
    "\n",
    "В итоге неверные значения в исходной таблице заменялись с помощью метода .loc, а тип данных в колонках days_employed и total_income -- с помощью метода .astype()."
   ]
  },
  {
   "cell_type": "markdown",
   "metadata": {},
   "source": [
    "### Обработка дубликатов"
   ]
  },
  {
   "cell_type": "code",
   "execution_count": 5,
   "metadata": {
    "scrolled": true
   },
   "outputs": [
    {
     "name": "stdout",
     "output_type": "stream",
     "text": [
      "Явных дубликатов: 624\n",
      "среднее                13750\n",
      "высшее                  4718\n",
      "СРЕДНЕЕ                  772\n",
      "Среднее                  711\n",
      "неоконченное высшее      668\n",
      "Name: education, dtype: int64\n",
      "1    15233\n",
      "0     5260\n",
      "2      744\n",
      "3      282\n",
      "4        6\n",
      "Name: education_id, dtype: int64\n",
      "среднее                15233\n",
      "высшее                  5260\n",
      "неоконченное высшее      744\n",
      "начальное                282\n",
      "ученая степень             6\n",
      "Name: education, dtype: int64\n",
      "Явных дубликатов после унификации регистра в education: 721\n"
     ]
    }
   ],
   "source": [
    "# посмотрим, сколько явных дубликатов содержится в таблице\n",
    "print('Явных дубликатов:', data.duplicated().sum())\n",
    "# пройдемся по колонкам и заметим,что в столбцах education и purpose есть дубликаты:\n",
    "# написанные с применением разного регистра уровни образования и \n",
    "# различные формулировки одной и той же цели (на покупку \n",
    "# автомобиля -- приобретение автомобиля);\n",
    "print(data['education'].value_counts().head())\n",
    "print(data['education_id'].value_counts().head())\n",
    "# сначала разберемся с регистром в колонке education:\n",
    "data['education'] = data['education'].str.lower()\n",
    "print(data['education'].value_counts())\n",
    "# теперь суммы значений в столбцах education и education_id совпадают;\n",
    "# посмотрим, что теперь стало с количеством дубликатов:\n",
    "print('Явных дубликатов после унификации регистра в education:', data.duplicated().sum())\n",
    "data = data.drop_duplicates().reset_index(drop=True)"
   ]
  },
  {
   "cell_type": "markdown",
   "metadata": {},
   "source": [
    "**Вывод**"
   ]
  },
  {
   "cell_type": "markdown",
   "metadata": {},
   "source": [
    "В столбце education содержатся одинаковые значения записанные с применением разного регистра (\"CРЕДНЕЕ\" и \"среднее, например). Если не приводить эти значения к единому виду, то сумма дубликатов исходной таблице составит 54 шт. Однако после замены всех прописных букв на строчные число дубликатов увеличивается на 17 шт.\n",
    "\n",
    "Дубликаты удалялись методом drop_duplicates() с последующим обновлением индексов таблицы."
   ]
  },
  {
   "cell_type": "markdown",
   "metadata": {},
   "source": [
    "### Лемматизация"
   ]
  },
  {
   "cell_type": "code",
   "execution_count": 6,
   "metadata": {},
   "outputs": [
    {
     "name": "stdout",
     "output_type": "stream",
     "text": [
      "purpose\n",
      "недвижимость    10506\n",
      "автомобиль       4193\n",
      "образование      3915\n",
      "свадьба          2190\n",
      "Name: purpose, dtype: int64\n"
     ]
    }
   ],
   "source": [
    "lemmas_list = []\n",
    "for i in range(50):\n",
    "    lemmas_list.append(m.lemmatize(data['purpose'][i]))\n",
    "#print(sorted(lemmas_list))\n",
    "\n",
    "# унифицируем данные в столбце purpose:\n",
    "# добавим дополнительный столбец с кодом цели получения кредита:\n",
    "def purpose_finder(purpose):\n",
    "    lem_purpose= m.lemmatize(purpose)\n",
    "    for word in lem_purpose:\n",
    "        if word == 'свадьба':\n",
    "            return 0\n",
    "        if (word == 'недвижимость') or (word == 'жилье'):\n",
    "            return 1\n",
    "        if word == 'автомобиль':\n",
    "            return 2\n",
    "        if word == 'образование':\n",
    "            return 3\n",
    "    if word not in lem_purpose:\n",
    "        return -1\n",
    "   \n",
    "data['purpose_id'] = data['purpose'].apply(purpose_finder)\n",
    "replacement = ['свадьба', 'недвижимость', 'автомобиль', 'образование']\n",
    "for i in range(4):\n",
    "    data.loc[data['purpose_id'] == i, 'purpose'] = replacement[i]\n",
    "print(data.groupby('purpose')['purpose'].count().sort_values(ascending=False))\n",
    "# операции с недвижимостю -- самая частая цель получения кредита"
   ]
  },
  {
   "cell_type": "markdown",
   "metadata": {},
   "source": [
    "**Вывод**"
   ]
  },
  {
   "cell_type": "markdown",
   "metadata": {},
   "source": [
    "В столбце purpose можно выделить несколько типов целей для получения кредита. Однако цели сформулированы по-разному, что затрудняет анализ. С помощью лемматизации были выделены несколько категорий целей для получения кредитов:\n",
    "* проведение свадьбы;\n",
    "* операции с недвижимостью (покупка, ремонт, строительство и т.д.);\n",
    "* приобретение автомобиля;\n",
    "* получение образования;\n",
    "\n",
    "После замены цели кредитования на одну из 4 категорий, каждой категории был присвоен id и записан в столбце purpose_id в исходной таблице. \n",
    "\n",
    "Исходя из данных обновленной таблицы самой популярной причниной для оформления заема являются операции с недвижимостью."
   ]
  },
  {
   "cell_type": "markdown",
   "metadata": {},
   "source": [
    "### Категоризация данных"
   ]
  },
  {
   "cell_type": "code",
   "execution_count": 9,
   "metadata": {},
   "outputs": [
    {
     "name": "stdout",
     "output_type": "stream",
     "text": [
      " 0     13446\n",
      " 1      4803\n",
      " 2      2052\n",
      " 3       330\n",
      " 20       76\n",
      "-1        47\n",
      " 4        41\n",
      " 5         9\n",
      "Name: children, dtype: int64\n",
      "count     20681.000000\n",
      "mean     146753.618684\n",
      "std       17454.454100\n",
      "min       53829.000000\n",
      "25%      142594.000000\n",
      "50%      142594.000000\n",
      "75%      150447.000000\n",
      "max      499163.000000\n",
      "Name: total_income, dtype: float64\n"
     ]
    }
   ],
   "source": [
    "# Посмотрим на возможное количество детей:\n",
    "print(data['children'].value_counts())\n",
    "# есть странные значения: 20 и -1;\n",
    "# записи со странным количеством детей составляют меньше 1% от общего числа записей в таблице,\n",
    "# так что удалим их:\n",
    "data = data.drop(index=data[data['children'] == 20].index) \n",
    "data = data.drop(index=data[data['children'] == -1].index)\n",
    "def chld(amount):\n",
    "    if amount == 0:\n",
    "        return 0\n",
    "    else:\n",
    "        return 1\n",
    "data['children_id'] = data['children'].apply(chld) \n",
    "\n",
    "# ****************************************\n",
    "# категоризируем доход\n",
    "# ****************************************\n",
    "print(data['total_income'].describe())\n",
    "def income_analyzer(income):\n",
    "    if income <= 110e3:\n",
    "        return 0\n",
    "    if (income > 110e3) & (income <= 170e3):\n",
    "        return 1\n",
    "    if  (income > 170e3) & (income <= 230e3):\n",
    "        return 2\n",
    "    if  (income > 230e3):\n",
    "        return 3\n",
    "data['income_id'] = data['total_income'].apply(income_analyzer)"
   ]
  },
  {
   "cell_type": "code",
   "execution_count": 10,
   "metadata": {},
   "outputs": [
    {
     "data": {
      "text/html": [
       "<div>\n",
       "<style scoped>\n",
       "    .dataframe tbody tr th:only-of-type {\n",
       "        vertical-align: middle;\n",
       "    }\n",
       "\n",
       "    .dataframe tbody tr th {\n",
       "        vertical-align: top;\n",
       "    }\n",
       "\n",
       "    .dataframe thead th {\n",
       "        text-align: right;\n",
       "    }\n",
       "</style>\n",
       "<table border=\"1\" class=\"dataframe\">\n",
       "  <thead>\n",
       "    <tr style=\"text-align: right;\">\n",
       "      <th></th>\n",
       "      <th>education_id</th>\n",
       "      <th>education</th>\n",
       "    </tr>\n",
       "  </thead>\n",
       "  <tbody>\n",
       "    <tr>\n",
       "      <td>0</td>\n",
       "      <td>0</td>\n",
       "      <td>высшее</td>\n",
       "    </tr>\n",
       "    <tr>\n",
       "      <td>1</td>\n",
       "      <td>1</td>\n",
       "      <td>среднее</td>\n",
       "    </tr>\n",
       "    <tr>\n",
       "      <td>2</td>\n",
       "      <td>2</td>\n",
       "      <td>неоконченное высшее</td>\n",
       "    </tr>\n",
       "    <tr>\n",
       "      <td>3</td>\n",
       "      <td>3</td>\n",
       "      <td>начальное</td>\n",
       "    </tr>\n",
       "    <tr>\n",
       "      <td>4</td>\n",
       "      <td>4</td>\n",
       "      <td>ученая степень</td>\n",
       "    </tr>\n",
       "  </tbody>\n",
       "</table>\n",
       "</div>"
      ],
      "text/plain": [
       "   education_id            education\n",
       "0             0               высшее\n",
       "1             1              среднее\n",
       "2             2  неоконченное высшее\n",
       "3             3            начальное\n",
       "4             4       ученая степень"
      ]
     },
     "metadata": {},
     "output_type": "display_data"
    },
    {
     "data": {
      "text/html": [
       "<div>\n",
       "<style scoped>\n",
       "    .dataframe tbody tr th:only-of-type {\n",
       "        vertical-align: middle;\n",
       "    }\n",
       "\n",
       "    .dataframe tbody tr th {\n",
       "        vertical-align: top;\n",
       "    }\n",
       "\n",
       "    .dataframe thead th {\n",
       "        text-align: right;\n",
       "    }\n",
       "</style>\n",
       "<table border=\"1\" class=\"dataframe\">\n",
       "  <thead>\n",
       "    <tr style=\"text-align: right;\">\n",
       "      <th></th>\n",
       "      <th>family_status_id</th>\n",
       "      <th>family_status</th>\n",
       "    </tr>\n",
       "  </thead>\n",
       "  <tbody>\n",
       "    <tr>\n",
       "      <td>0</td>\n",
       "      <td>0</td>\n",
       "      <td>женат / замужем</td>\n",
       "    </tr>\n",
       "    <tr>\n",
       "      <td>1</td>\n",
       "      <td>1</td>\n",
       "      <td>гражданский брак</td>\n",
       "    </tr>\n",
       "    <tr>\n",
       "      <td>2</td>\n",
       "      <td>2</td>\n",
       "      <td>вдовец / вдова</td>\n",
       "    </tr>\n",
       "    <tr>\n",
       "      <td>3</td>\n",
       "      <td>3</td>\n",
       "      <td>в разводе</td>\n",
       "    </tr>\n",
       "    <tr>\n",
       "      <td>4</td>\n",
       "      <td>4</td>\n",
       "      <td>Не женат / не замужем</td>\n",
       "    </tr>\n",
       "  </tbody>\n",
       "</table>\n",
       "</div>"
      ],
      "text/plain": [
       "   family_status_id          family_status\n",
       "0                 0        женат / замужем\n",
       "1                 1       гражданский брак\n",
       "2                 2         вдовец / вдова\n",
       "3                 3              в разводе\n",
       "4                 4  Не женат / не замужем"
      ]
     },
     "metadata": {},
     "output_type": "display_data"
    },
    {
     "data": {
      "text/html": [
       "<div>\n",
       "<style scoped>\n",
       "    .dataframe tbody tr th:only-of-type {\n",
       "        vertical-align: middle;\n",
       "    }\n",
       "\n",
       "    .dataframe tbody tr th {\n",
       "        vertical-align: top;\n",
       "    }\n",
       "\n",
       "    .dataframe thead th {\n",
       "        text-align: right;\n",
       "    }\n",
       "</style>\n",
       "<table border=\"1\" class=\"dataframe\">\n",
       "  <thead>\n",
       "    <tr style=\"text-align: right;\">\n",
       "      <th></th>\n",
       "      <th>purpose_id</th>\n",
       "      <th>purpose</th>\n",
       "    </tr>\n",
       "  </thead>\n",
       "  <tbody>\n",
       "    <tr>\n",
       "      <td>0</td>\n",
       "      <td>1</td>\n",
       "      <td>недвижимость</td>\n",
       "    </tr>\n",
       "    <tr>\n",
       "      <td>1</td>\n",
       "      <td>2</td>\n",
       "      <td>автомобиль</td>\n",
       "    </tr>\n",
       "    <tr>\n",
       "      <td>2</td>\n",
       "      <td>3</td>\n",
       "      <td>образование</td>\n",
       "    </tr>\n",
       "    <tr>\n",
       "      <td>3</td>\n",
       "      <td>0</td>\n",
       "      <td>свадьба</td>\n",
       "    </tr>\n",
       "  </tbody>\n",
       "</table>\n",
       "</div>"
      ],
      "text/plain": [
       "   purpose_id       purpose\n",
       "0           1  недвижимость\n",
       "1           2    автомобиль\n",
       "2           3   образование\n",
       "3           0       свадьба"
      ]
     },
     "metadata": {},
     "output_type": "display_data"
    },
    {
     "data": {
      "text/html": [
       "<div>\n",
       "<style scoped>\n",
       "    .dataframe tbody tr th:only-of-type {\n",
       "        vertical-align: middle;\n",
       "    }\n",
       "\n",
       "    .dataframe tbody tr th {\n",
       "        vertical-align: top;\n",
       "    }\n",
       "\n",
       "    .dataframe thead th {\n",
       "        text-align: right;\n",
       "    }\n",
       "</style>\n",
       "<table border=\"1\" class=\"dataframe\">\n",
       "  <thead>\n",
       "    <tr style=\"text-align: right;\">\n",
       "      <th></th>\n",
       "      <th>income_id</th>\n",
       "      <th>income</th>\n",
       "    </tr>\n",
       "  </thead>\n",
       "  <tbody>\n",
       "    <tr>\n",
       "      <td>0</td>\n",
       "      <td>0</td>\n",
       "      <td>ниже среднего</td>\n",
       "    </tr>\n",
       "    <tr>\n",
       "      <td>1</td>\n",
       "      <td>1</td>\n",
       "      <td>высокий</td>\n",
       "    </tr>\n",
       "    <tr>\n",
       "      <td>2</td>\n",
       "      <td>2</td>\n",
       "      <td>выше среднего</td>\n",
       "    </tr>\n",
       "    <tr>\n",
       "      <td>3</td>\n",
       "      <td>3</td>\n",
       "      <td>средний</td>\n",
       "    </tr>\n",
       "  </tbody>\n",
       "</table>\n",
       "</div>"
      ],
      "text/plain": [
       "   income_id         income\n",
       "0          0  ниже среднего\n",
       "1          1        высокий\n",
       "2          2  выше среднего\n",
       "3          3        средний"
      ]
     },
     "metadata": {},
     "output_type": "display_data"
    },
    {
     "data": {
      "text/html": [
       "<div>\n",
       "<style scoped>\n",
       "    .dataframe tbody tr th:only-of-type {\n",
       "        vertical-align: middle;\n",
       "    }\n",
       "\n",
       "    .dataframe tbody tr th {\n",
       "        vertical-align: top;\n",
       "    }\n",
       "\n",
       "    .dataframe thead th {\n",
       "        text-align: right;\n",
       "    }\n",
       "</style>\n",
       "<table border=\"1\" class=\"dataframe\">\n",
       "  <thead>\n",
       "    <tr style=\"text-align: right;\">\n",
       "      <th></th>\n",
       "      <th>children_id</th>\n",
       "      <th>children</th>\n",
       "    </tr>\n",
       "  </thead>\n",
       "  <tbody>\n",
       "    <tr>\n",
       "      <td>0</td>\n",
       "      <td>1</td>\n",
       "      <td>есть дети</td>\n",
       "    </tr>\n",
       "    <tr>\n",
       "      <td>1</td>\n",
       "      <td>0</td>\n",
       "      <td>нет детей</td>\n",
       "    </tr>\n",
       "  </tbody>\n",
       "</table>\n",
       "</div>"
      ],
      "text/plain": [
       "   children_id   children\n",
       "0            1  есть дети\n",
       "1            0  нет детей"
      ]
     },
     "metadata": {},
     "output_type": "display_data"
    }
   ],
   "source": [
    "# ****************************************\n",
    "# создадим словари\n",
    "# ****************************************\n",
    "education_dict = data[['education_id','education']]\n",
    "education_dict = education_dict.drop_duplicates().reset_index(drop=True)\n",
    "display(education_dict)\n",
    "\n",
    "family_status_dict = data[['family_status_id','family_status']]\n",
    "family_status_dict = family_status_dict.drop_duplicates().reset_index(drop=True)\n",
    "display(family_status_dict)\n",
    "\n",
    "purpose_dict = data[['purpose_id','purpose']]\n",
    "purpose_dict = purpose_dict.drop_duplicates().reset_index(drop=True)\n",
    "display(purpose_dict)\n",
    "\n",
    "income_dict = data[['income_id']]\n",
    "income_dict = income_dict.drop_duplicates().reset_index(drop=True)\n",
    "income_list = ['высокий','выше среднего', 'средний','ниже среднего']                    \n",
    "income_dict['income'] = income_list\n",
    "income_dict = income_dict.sort_values(by='income_id').reset_index(drop=True)\n",
    "display(income_dict)\n",
    "\n",
    "children_dict = data[['children_id']]\n",
    "children_dict = children_dict.drop_duplicates().reset_index(drop=True)\n",
    "children_list = ['есть дети', 'нет детей']\n",
    "children_dict['children'] = children_list\n",
    "display(children_dict)\n",
    "\n",
    "data_small = data[['debt', 'children_id', 'children', 'family_status_id', 'income_id', 'purpose_id']]\n",
    "#display(data_small.head(10))"
   ]
  },
  {
   "cell_type": "markdown",
   "metadata": {},
   "source": [
    "**Вывод**"
   ]
  },
  {
   "cell_type": "markdown",
   "metadata": {},
   "source": [
    "Для удобства дальнейшей работы с данными проводилась категоризация значений исходной таблицы: созданы словари для всех значений имеющих строковый тип, а также для значений суммарного дохода клиента. Таким образом быди выделены следующий словари:\n",
    "\n",
    "1. словарь для уровня дохода клиента;\n",
    "2. словарь для семейного статуса клиента;\n",
    "3. словарь для цели получения кредита;\n",
    "4. словарь уровня образования клиента;\n",
    "5. словарь количества детей в семье у клиента;"
   ]
  },
  {
   "cell_type": "markdown",
   "metadata": {},
   "source": [
    "## Шаг 3. Ответьте на вопросы"
   ]
  },
  {
   "cell_type": "markdown",
   "metadata": {},
   "source": [
    "- Есть ли зависимость между наличием детей и возвратом кредита в срок?"
   ]
  },
  {
   "cell_type": "code",
   "execution_count": 11,
   "metadata": {},
   "outputs": [],
   "source": [
    "# функция для составления сравнительных таблиц\n",
    "def percentage_definder(dataset, key, hypothesis, hypothesis_id):\n",
    "    if hypothesis != 'children':\n",
    "        tmp = dataset[dataset[hypothesis] == hypothesis_id] # создаем промежуточную таблицу из нужных\n",
    "                                                            # столбцов исходной\n",
    "        total_amnt = len(tmp)\n",
    "        return tmp[tmp['debt'] == key]['debt'].count()/total_amnt # считаем отношение количества должников\n",
    "                                                                  # к суммарному количеству клиентов в \n",
    "                                                                  # выбранной категории\n",
    "    \n",
    "    else:\n",
    "        if hypothesis_id == 0: # объединим всех клиентов, имеющих 1 ребенка и более\n",
    "                               # в отдельную категорию\n",
    "            tmp = dataset[dataset[hypothesis] == hypothesis_id]\n",
    "            total_amnt = len(tmp)\n",
    "            return tmp[tmp['debt'] == key]['debt'].count()/total_amnt\n",
    "        else:\n",
    "            tmp = dataset[dataset[hypothesis] >= hypothesis_id]\n",
    "            total_amnt = len(tmp)\n",
    "            return tmp[tmp['debt'] == key]['debt'].count()/total_amnt"
   ]
  },
  {
   "cell_type": "code",
   "execution_count": 12,
   "metadata": {
    "scrolled": true
   },
   "outputs": [
    {
     "data": {
      "text/html": [
       "<div>\n",
       "<style scoped>\n",
       "    .dataframe tbody tr th:only-of-type {\n",
       "        vertical-align: middle;\n",
       "    }\n",
       "\n",
       "    .dataframe tbody tr th {\n",
       "        vertical-align: top;\n",
       "    }\n",
       "\n",
       "    .dataframe thead th {\n",
       "        text-align: right;\n",
       "    }\n",
       "</style>\n",
       "<table border=\"1\" class=\"dataframe\">\n",
       "  <thead>\n",
       "    <tr style=\"text-align: right;\">\n",
       "      <th></th>\n",
       "      <th>Количество клиентов, имеющих задолженности</th>\n",
       "    </tr>\n",
       "  </thead>\n",
       "  <tbody>\n",
       "    <tr>\n",
       "      <td>нет детей в семье</td>\n",
       "      <td>7.9%</td>\n",
       "    </tr>\n",
       "    <tr>\n",
       "      <td>есть ребенок</td>\n",
       "      <td>9.2%</td>\n",
       "    </tr>\n",
       "  </tbody>\n",
       "</table>\n",
       "</div>"
      ],
      "text/plain": [
       "                  Количество клиентов, имеющих задолженности\n",
       "нет детей в семье                                       7.9%\n",
       "есть ребенок                                            9.2%"
      ]
     },
     "metadata": {},
     "output_type": "display_data"
    }
   ],
   "source": [
    "debts_data = data_small[['debt', 'children_id']]\n",
    "debts_amnt = []\n",
    "for i in range(len(children_dict)):\n",
    "    debts_amnt.append('{:.01%}'.format(percentage_definder(debts_data, 1, 'children_id', i))) \n",
    "\n",
    "hypothesis_chld_data = {'Количество клиентов, имеющих задолженности': debts_amnt}\n",
    "hypothesis_chld = pd.DataFrame(hypothesis_chld_data, index=['нет детей в семье', 'есть ребенок'])  \n",
    "display(hypothesis_chld)"
   ]
  },
  {
   "cell_type": "code",
   "execution_count": 13,
   "metadata": {},
   "outputs": [
    {
     "data": {
      "text/html": [
       "<div>\n",
       "<style scoped>\n",
       "    .dataframe tbody tr th:only-of-type {\n",
       "        vertical-align: middle;\n",
       "    }\n",
       "\n",
       "    .dataframe tbody tr th {\n",
       "        vertical-align: top;\n",
       "    }\n",
       "\n",
       "    .dataframe thead th {\n",
       "        text-align: right;\n",
       "    }\n",
       "</style>\n",
       "<table border=\"1\" class=\"dataframe\">\n",
       "  <thead>\n",
       "    <tr style=\"text-align: right;\">\n",
       "      <th>children_id</th>\n",
       "      <th>0</th>\n",
       "      <th>1</th>\n",
       "    </tr>\n",
       "    <tr>\n",
       "      <th>debt</th>\n",
       "      <th></th>\n",
       "      <th></th>\n",
       "    </tr>\n",
       "  </thead>\n",
       "  <tbody>\n",
       "    <tr>\n",
       "      <td>0</td>\n",
       "      <td>92.09</td>\n",
       "      <td>90.75</td>\n",
       "    </tr>\n",
       "    <tr>\n",
       "      <td>1</td>\n",
       "      <td>7.91</td>\n",
       "      <td>9.25</td>\n",
       "    </tr>\n",
       "  </tbody>\n",
       "</table>\n",
       "</div>"
      ],
      "text/plain": [
       "children_id      0      1\n",
       "debt                     \n",
       "0            92.09  90.75\n",
       "1             7.91   9.25"
      ]
     },
     "metadata": {},
     "output_type": "display_data"
    }
   ],
   "source": [
    "# сводная таблица для заависимости между наличием детей и возвратом кредита в срок\n",
    "chld_pivot = data.pivot_table(index='debt', columns='children_id', values='days_employed', aggfunc='count')\n",
    "chld_pivot[0] = round(100*chld_pivot[0]/len(data[data['children_id'] == 0]),2)\n",
    "chld_pivot[1] = round(100*chld_pivot[1]/len(data[data['children_id'] == 1]), 2)\n",
    "display(chld_pivot)"
   ]
  },
  {
   "cell_type": "markdown",
   "metadata": {},
   "source": [
    "**Вывод**"
   ]
  },
  {
   "cell_type": "markdown",
   "metadata": {},
   "source": [
    "Клиентсы с детьми чаще не возвращают кредиты в срок."
   ]
  },
  {
   "cell_type": "markdown",
   "metadata": {},
   "source": [
    "- Есть ли зависимость между семейным положением и возвратом кредита в срок?"
   ]
  },
  {
   "cell_type": "code",
   "execution_count": 14,
   "metadata": {},
   "outputs": [
    {
     "data": {
      "text/html": [
       "<div>\n",
       "<style scoped>\n",
       "    .dataframe tbody tr th:only-of-type {\n",
       "        vertical-align: middle;\n",
       "    }\n",
       "\n",
       "    .dataframe tbody tr th {\n",
       "        vertical-align: top;\n",
       "    }\n",
       "\n",
       "    .dataframe thead th {\n",
       "        text-align: right;\n",
       "    }\n",
       "</style>\n",
       "<table border=\"1\" class=\"dataframe\">\n",
       "  <thead>\n",
       "    <tr style=\"text-align: right;\">\n",
       "      <th></th>\n",
       "      <th>Количество клиентов, имеющих задолженности</th>\n",
       "    </tr>\n",
       "  </thead>\n",
       "  <tbody>\n",
       "    <tr>\n",
       "      <td>не в браке</td>\n",
       "      <td>9.8%</td>\n",
       "    </tr>\n",
       "    <tr>\n",
       "      <td>в гражданском браке</td>\n",
       "      <td>9.6%</td>\n",
       "    </tr>\n",
       "    <tr>\n",
       "      <td>в браке</td>\n",
       "      <td>7.8%</td>\n",
       "    </tr>\n",
       "    <tr>\n",
       "      <td>вдовец/вдова</td>\n",
       "      <td>7.1%</td>\n",
       "    </tr>\n",
       "    <tr>\n",
       "      <td>в разводе</td>\n",
       "      <td>7.1%</td>\n",
       "    </tr>\n",
       "  </tbody>\n",
       "</table>\n",
       "</div>"
      ],
      "text/plain": [
       "                    Количество клиентов, имеющих задолженности\n",
       "не в браке                                                9.8%\n",
       "в гражданском браке                                       9.6%\n",
       "в браке                                                   7.8%\n",
       "вдовец/вдова                                              7.1%\n",
       "в разводе                                                 7.1%"
      ]
     },
     "metadata": {},
     "output_type": "display_data"
    }
   ],
   "source": [
    "debts_data = data_small[['debt', 'family_status_id']]\n",
    "debts_amnt = []\n",
    "for i in range(len(family_status_dict)):\n",
    "    debts_amnt.append('{:.01%}'.format(percentage_definder(debts_data, 1, 'family_status_id', i)))   \n",
    "\n",
    "hypothesis_mrg_data = {'Количество клиентов, имеющих задолженности': debts_amnt}\n",
    "hypothesis_mrg = pd.DataFrame(hypothesis_mrg_data, index=['в браке', 'в гражданском браке','вдовец/вдова',\n",
    "                                                          'в разводе','не в браке']) \n",
    "display(hypothesis_mrg.sort_values(by='Количество клиентов, имеющих задолженности', ascending=False))"
   ]
  },
  {
   "cell_type": "code",
   "execution_count": 15,
   "metadata": {},
   "outputs": [
    {
     "data": {
      "text/html": [
       "<div>\n",
       "<style scoped>\n",
       "    .dataframe tbody tr th:only-of-type {\n",
       "        vertical-align: middle;\n",
       "    }\n",
       "\n",
       "    .dataframe tbody tr th {\n",
       "        vertical-align: top;\n",
       "    }\n",
       "\n",
       "    .dataframe thead th {\n",
       "        text-align: right;\n",
       "    }\n",
       "</style>\n",
       "<table border=\"1\" class=\"dataframe\">\n",
       "  <thead>\n",
       "    <tr style=\"text-align: right;\">\n",
       "      <th>debt</th>\n",
       "      <th>0</th>\n",
       "      <th>1</th>\n",
       "    </tr>\n",
       "    <tr>\n",
       "      <th>family_status_id</th>\n",
       "      <th></th>\n",
       "      <th></th>\n",
       "    </tr>\n",
       "  </thead>\n",
       "  <tbody>\n",
       "    <tr>\n",
       "      <td>0</td>\n",
       "      <td>92</td>\n",
       "      <td>7</td>\n",
       "    </tr>\n",
       "    <tr>\n",
       "      <td>1</td>\n",
       "      <td>90</td>\n",
       "      <td>9</td>\n",
       "    </tr>\n",
       "    <tr>\n",
       "      <td>2</td>\n",
       "      <td>92</td>\n",
       "      <td>7</td>\n",
       "    </tr>\n",
       "    <tr>\n",
       "      <td>3</td>\n",
       "      <td>92</td>\n",
       "      <td>7</td>\n",
       "    </tr>\n",
       "    <tr>\n",
       "      <td>4</td>\n",
       "      <td>90</td>\n",
       "      <td>9</td>\n",
       "    </tr>\n",
       "  </tbody>\n",
       "</table>\n",
       "</div>"
      ],
      "text/plain": [
       "debt               0  1\n",
       "family_status_id       \n",
       "0                 92  7\n",
       "1                 90  9\n",
       "2                 92  7\n",
       "3                 92  7\n",
       "4                 90  9"
      ]
     },
     "metadata": {},
     "output_type": "display_data"
    }
   ],
   "source": [
    "# сводная таблица для заависимости между наличием детей и возвратом кредита в срок\n",
    "mrg_pivot = data.pivot_table(index='family_status_id', columns='debt', values='days_employed', aggfunc='count')\n",
    "\n",
    "for v in range(2):\n",
    "    for i in range(len(family_status_dict)):\n",
    "         mrg_pivot[v][i] = 100*mrg_pivot[v][i]/len(data[data['family_status_id'] == i])\n",
    "display(mrg_pivot)"
   ]
  },
  {
   "cell_type": "markdown",
   "metadata": {},
   "source": [
    "**Вывод**"
   ]
  },
  {
   "cell_type": "markdown",
   "metadata": {},
   "source": [
    "Клиенты не состоящие (и не состоявшие) в официальном браке реже возвращают кредиты в срок."
   ]
  },
  {
   "cell_type": "markdown",
   "metadata": {},
   "source": [
    "- Есть ли зависимость между уровнем дохода и возвратом кредита в срок?"
   ]
  },
  {
   "cell_type": "code",
   "execution_count": 16,
   "metadata": {},
   "outputs": [
    {
     "data": {
      "text/html": [
       "<div>\n",
       "<style scoped>\n",
       "    .dataframe tbody tr th:only-of-type {\n",
       "        vertical-align: middle;\n",
       "    }\n",
       "\n",
       "    .dataframe tbody tr th {\n",
       "        vertical-align: top;\n",
       "    }\n",
       "\n",
       "    .dataframe thead th {\n",
       "        text-align: right;\n",
       "    }\n",
       "</style>\n",
       "<table border=\"1\" class=\"dataframe\">\n",
       "  <thead>\n",
       "    <tr style=\"text-align: right;\">\n",
       "      <th></th>\n",
       "      <th>Количество клиентов, имеющих задолженности</th>\n",
       "    </tr>\n",
       "  </thead>\n",
       "  <tbody>\n",
       "    <tr>\n",
       "      <td>средний</td>\n",
       "      <td>8.7%</td>\n",
       "    </tr>\n",
       "    <tr>\n",
       "      <td>выше среднего</td>\n",
       "      <td>7.4%</td>\n",
       "    </tr>\n",
       "    <tr>\n",
       "      <td>ниже среднего</td>\n",
       "      <td>50.0%</td>\n",
       "    </tr>\n",
       "    <tr>\n",
       "      <td>высокий</td>\n",
       "      <td>0.0%</td>\n",
       "    </tr>\n",
       "  </tbody>\n",
       "</table>\n",
       "</div>"
      ],
      "text/plain": [
       "              Количество клиентов, имеющих задолженности\n",
       "средний                                             8.7%\n",
       "выше среднего                                       7.4%\n",
       "ниже среднего                                      50.0%\n",
       "высокий                                             0.0%"
      ]
     },
     "metadata": {},
     "output_type": "display_data"
    }
   ],
   "source": [
    "debts_data = data_small[['debt', 'income_id']]\n",
    "debts_amnt = []\n",
    "\n",
    "for i in range(len(income_dict)):\n",
    "    debts_amnt.append('{:.01%}'.format(percentage_definder(debts_data, 1, 'income_id', i)))\n",
    "hypothesis_incm_data = {'Количество клиентов, имеющих задолженности': debts_amnt}\n",
    "hypothesis_incm = pd.DataFrame(hypothesis_incm_data, index= ['ниже среднего', 'средний', 'выше среднего', 'высокий'])\n",
    "display(hypothesis_incm.sort_values(by='Количество клиентов, имеющих задолженности', ascending=False))"
   ]
  },
  {
   "cell_type": "code",
   "execution_count": 17,
   "metadata": {},
   "outputs": [
    {
     "data": {
      "text/html": [
       "<div>\n",
       "<style scoped>\n",
       "    .dataframe tbody tr th:only-of-type {\n",
       "        vertical-align: middle;\n",
       "    }\n",
       "\n",
       "    .dataframe tbody tr th {\n",
       "        vertical-align: top;\n",
       "    }\n",
       "\n",
       "    .dataframe thead th {\n",
       "        text-align: right;\n",
       "    }\n",
       "</style>\n",
       "<table border=\"1\" class=\"dataframe\">\n",
       "  <thead>\n",
       "    <tr style=\"text-align: right;\">\n",
       "      <th>debt</th>\n",
       "      <th>0</th>\n",
       "      <th>1</th>\n",
       "    </tr>\n",
       "    <tr>\n",
       "      <th>income_id</th>\n",
       "      <th></th>\n",
       "      <th></th>\n",
       "    </tr>\n",
       "  </thead>\n",
       "  <tbody>\n",
       "    <tr>\n",
       "      <td>0</td>\n",
       "      <td>50.00</td>\n",
       "      <td>50.00</td>\n",
       "    </tr>\n",
       "    <tr>\n",
       "      <td>1</td>\n",
       "      <td>91.32</td>\n",
       "      <td>8.68</td>\n",
       "    </tr>\n",
       "    <tr>\n",
       "      <td>2</td>\n",
       "      <td>92.59</td>\n",
       "      <td>7.41</td>\n",
       "    </tr>\n",
       "    <tr>\n",
       "      <td>3</td>\n",
       "      <td>100.00</td>\n",
       "      <td>NaN</td>\n",
       "    </tr>\n",
       "  </tbody>\n",
       "</table>\n",
       "</div>"
      ],
      "text/plain": [
       "debt            0      1\n",
       "income_id               \n",
       "0           50.00  50.00\n",
       "1           91.32   8.68\n",
       "2           92.59   7.41\n",
       "3          100.00    NaN"
      ]
     },
     "metadata": {},
     "output_type": "display_data"
    }
   ],
   "source": [
    "# сводная таблица для заависимости между семейным положением и возвратом кредита в срок\n",
    "incm_pivot = data.pivot_table(index='income_id', columns='debt', values='days_employed', aggfunc='count')\n",
    "for v in range(2):\n",
    "    for i in range(len(income_dict)):\n",
    "        incm_pivot[v][i] = round(100*incm_pivot[v][i]/len(data[data['income_id'] == i]),2)\n",
    "\n",
    "display(incm_pivot)"
   ]
  },
  {
   "cell_type": "markdown",
   "metadata": {},
   "source": [
    "**Вывод**"
   ]
  },
  {
   "cell_type": "markdown",
   "metadata": {},
   "source": [
    "Половина клиентов с уровнем дохода ниже среднего (146тыс.) имеет задолженности по кредитам."
   ]
  },
  {
   "cell_type": "markdown",
   "metadata": {},
   "source": [
    "- Как разные цели кредита влияют на его возврат в срок?"
   ]
  },
  {
   "cell_type": "code",
   "execution_count": 18,
   "metadata": {},
   "outputs": [
    {
     "data": {
      "text/html": [
       "<div>\n",
       "<style scoped>\n",
       "    .dataframe tbody tr th:only-of-type {\n",
       "        vertical-align: middle;\n",
       "    }\n",
       "\n",
       "    .dataframe tbody tr th {\n",
       "        vertical-align: top;\n",
       "    }\n",
       "\n",
       "    .dataframe thead th {\n",
       "        text-align: right;\n",
       "    }\n",
       "</style>\n",
       "<table border=\"1\" class=\"dataframe\">\n",
       "  <thead>\n",
       "    <tr style=\"text-align: right;\">\n",
       "      <th></th>\n",
       "      <th>Количество клиентов, имеющих задолженности</th>\n",
       "    </tr>\n",
       "  </thead>\n",
       "  <tbody>\n",
       "    <tr>\n",
       "      <td>автомобиль</td>\n",
       "      <td>9.6%</td>\n",
       "    </tr>\n",
       "    <tr>\n",
       "      <td>образование</td>\n",
       "      <td>9.5%</td>\n",
       "    </tr>\n",
       "    <tr>\n",
       "      <td>свадьба</td>\n",
       "      <td>8.4%</td>\n",
       "    </tr>\n",
       "    <tr>\n",
       "      <td>операции с недвижимостью</td>\n",
       "      <td>7.5%</td>\n",
       "    </tr>\n",
       "  </tbody>\n",
       "</table>\n",
       "</div>"
      ],
      "text/plain": [
       "                         Количество клиентов, имеющих задолженности\n",
       "автомобиль                                                     9.6%\n",
       "образование                                                    9.5%\n",
       "свадьба                                                        8.4%\n",
       "операции с недвижимостью                                       7.5%"
      ]
     },
     "metadata": {},
     "output_type": "display_data"
    }
   ],
   "source": [
    "debts_data = data_small[['debt', 'purpose_id']]\n",
    "debts_amnt = []\n",
    "repaids_amnt = []\n",
    "\n",
    "for i in range(len(purpose_dict)):\n",
    "    debts_amnt.append('{:.01%}'.format(percentage_definder(debts_data, 1, 'purpose_id', i)))\n",
    "    repaids_amnt.append('{:.01%}'.format(percentage_definder(debts_data, 0, 'purpose_id', i)))    \n",
    "    \n",
    "hypothesis_prps_data = {'Количество клиентов, имеющих задолженности': debts_amnt}\n",
    "hypothesis_prps = pd.DataFrame(hypothesis_prps_data, index=['свадьба', 'операции с недвижимостью',\n",
    "                                                            'автомобиль', 'образование'])\n",
    "display(hypothesis_prps.sort_values(by='Количество клиентов, имеющих задолженности', ascending=False))"
   ]
  },
  {
   "cell_type": "markdown",
   "metadata": {},
   "source": [
    "**Вывод**"
   ]
  },
  {
   "cell_type": "markdown",
   "metadata": {},
   "source": [
    "Клиенты берущие кредит для оплаты образования и покупки автомобиля чаще не погашают кредит в срок."
   ]
  },
  {
   "cell_type": "markdown",
   "metadata": {},
   "source": [
    "## Шаг 4. Общий вывод"
   ]
  },
  {
   "cell_type": "markdown",
   "metadata": {},
   "source": [
    "Изучалось влияние таких факторов как семейное положение клиента и наличие у него детей на сроки погашения кредита. Для анализа использовалась статистика о платёжеспособности клиентов полученная от банка.\n",
    "\n",
    "В исходной таблице содержались пропуски значений в столбцах days_employed и total_income. Число пропусков (2174) значительное и составляет около 10% от общего числа записей в таблице. Таким образом просто удалить такие строки без потери информации не представляется возможным, поэтому значения в days_employed были заполнены нулями, а d total_income -- медианным значением для соответствующей категории.\n",
    "\n",
    "Столбец days_empoyed содержал некорректные значения для трудового стажа клиентов в днях: часть значенияй колонки были отрицательными, а средний стаж рассчитанный из положительных значений составлял порядка 1000 лет. Чтобы понять причину возникновения таких артефактов сравнивалось значение метрики (возраст клиента - стаж) для двух групп. Выяснилось, что для исходных значений стажа эта разница оказалась значительной. Однако если предположить, что единицы измерения для положительных значений стажа указаны неверно, и домножить эти значения на соответсвующий переводной коэффициент, значения метрик становятся сравнимыми. При анализе столбца также выявлено, что положительные значения стажа имеют  клиенты, чей тип занятости соответсвует категории \"пенсионеры\". Таким образом можно предположить, что причина возникновения этих артефактов -- неверный перевод значений даты из формата unix time в количество дней стажа:\n",
    "* для отрицательных значений неправильно определили временной промежуток, вычтя дату последнего рабочего дня из даты первого рабочего дня;\n",
    "* при заполнении данных о клиентах с положительным стажем, скорее всего, стаж не указывался, тк значения среднего возраста и стажа совпадают, а в группу попали в основном одни пенсионеры (и несущественное число безработных). А затем при выгрузке были указаны неверные единицы измерения -- дни вместо часов;\n",
    "\n",
    "Артефакты были устранены домножением положительных значений стажа и на переводной коэффициент, а от отрицательных значений избавились применением к ним функции abs(); тип значений в столбце был изменен с вещественного на целочисленный методом astype().\n",
    "\n",
    "Для устранения явных дубликатов применялись стандартные методы pandas: isna() и dropna(). Однако чтобы удалить все явные дубликаты сначала пришлось привести значения в столбце education к единому виду: данные в этом столбце были записаны с применением различного регистра (\"CРЕДНЕЕ\" и \"среднее\"). Замена прописных букв на строчные проводилась с помощью метода lower().\n",
    "\n",
    "Проводилась лемматизация целей кредита с помощью функции Mystem из библиотеки pymystem3. Были выявлены четыре леммы:\n",
    "1. свадьба;\n",
    "2. недвижимость;\n",
    "3. автомобиль;\n",
    "4. образование;\n",
    "\n",
    "\n",
    "Для удобства дальнейшего анализа значения столбца purpose заменялись на соответсвущую лемму, также в таблицу был добавлен столбец purpose_id содержащий уникальный id для каждой категории цели получения кредита.\n",
    "\n",
    "Для проверки гипотез о влиянии семейного положения и количества детей у клиента на сроки погашения кредита данные исходной таблицы категоризировались: значениям всех столбцов содержащих строковые значения были присвоены уникальные id. Данные в столбце total_income были также разбиты на три группы: средний доход, низкий и высокий в зависимости от удаленности от медианного значения. В данных по количеству детей были также обнаружены артефакты: -1 ребенок и 20 детей в семье. Их возникновение может быть объяснено невнимательностью оператора при заполнеии формы. Поскольку число артефактов не велико, то эти строки были удалены из датасета методом drop().\n",
    "\n",
    "Далее были составлены несколько словарей:\n",
    "1. словарь с данными об образовании клиента;\n",
    "2. словарь семейного статуса клиента;\n",
    "3. словарь целей кредита;\n",
    "4. словарь уровня дохода клиента;\n",
    "5. словарь количества детей в семье клиента;\n",
    "\n",
    "С помощью обновленной таблицы с категоризированными данными определялись факторы, которые могут влиять на способность потенциального заёмщика вернуть кредит банку. Выяснилось, что:\n",
    "1. клиенты с одним и более ребенком чаще имеют задолженности по кредиту;\n",
    "2. клиенты не состоящие (и не состоявшие) в официальном браке реже возрвращают кредиты в срок;\n",
    "3. клиенты с уровнем дохода ниже среднего чаще других категорий имеют задолженности по кредиту;\n",
    "4. клиенты берущие кредит для оплаты образования и покупки автомобиля чаще не погашают кредит в установленные сроки.\n",
    "\n",
    "Таким образом при построении модели кредитного скоринга стоит учитывать такие факторы как наличие детей в семье клиента, его семейеого положение, цель получения кредита и доход клиента."
   ]
  }
 ],
 "metadata": {
  "ExecuteTimeLog": [
   {
    "duration": 937,
    "start_time": "2021-11-14T21:18:42.202Z"
   },
   {
    "duration": 41,
    "start_time": "2021-11-14T21:18:43.142Z"
   },
   {
    "duration": 43,
    "start_time": "2021-11-14T21:18:43.188Z"
   },
   {
    "duration": 79,
    "start_time": "2021-11-14T21:18:43.235Z"
   },
   {
    "duration": 122,
    "start_time": "2021-11-14T21:18:43.317Z"
   },
   {
    "duration": 5818,
    "start_time": "2021-11-14T21:18:43.442Z"
   },
   {
    "duration": -2033,
    "start_time": "2021-11-14T21:18:51.297Z"
   },
   {
    "duration": -2034,
    "start_time": "2021-11-14T21:18:51.299Z"
   },
   {
    "duration": -2033,
    "start_time": "2021-11-14T21:18:51.300Z"
   },
   {
    "duration": -2032,
    "start_time": "2021-11-14T21:18:51.301Z"
   },
   {
    "duration": -2032,
    "start_time": "2021-11-14T21:18:51.302Z"
   },
   {
    "duration": -2031,
    "start_time": "2021-11-14T21:18:51.303Z"
   },
   {
    "duration": 156,
    "start_time": "2021-11-14T21:29:37.552Z"
   },
   {
    "duration": 7,
    "start_time": "2021-11-14T21:31:13.507Z"
   },
   {
    "duration": 21,
    "start_time": "2021-11-14T21:31:14.223Z"
   },
   {
    "duration": 26,
    "start_time": "2021-11-14T21:33:41.764Z"
   },
   {
    "duration": 21,
    "start_time": "2021-11-14T21:34:00.273Z"
   },
   {
    "duration": 636,
    "start_time": "2021-11-15T06:14:23.551Z"
   },
   {
    "duration": 15,
    "start_time": "2021-11-15T06:14:24.189Z"
   },
   {
    "duration": 27,
    "start_time": "2021-11-15T06:14:24.208Z"
   },
   {
    "duration": 30,
    "start_time": "2021-11-15T06:14:24.236Z"
   },
   {
    "duration": 80,
    "start_time": "2021-11-15T06:14:24.267Z"
   },
   {
    "duration": 3639,
    "start_time": "2021-11-15T06:14:24.348Z"
   },
   {
    "duration": -42,
    "start_time": "2021-11-15T06:14:28.032Z"
   },
   {
    "duration": -47,
    "start_time": "2021-11-15T06:14:28.037Z"
   },
   {
    "duration": -54,
    "start_time": "2021-11-15T06:14:28.045Z"
   },
   {
    "duration": -57,
    "start_time": "2021-11-15T06:14:28.049Z"
   },
   {
    "duration": -59,
    "start_time": "2021-11-15T06:14:28.052Z"
   },
   {
    "duration": -67,
    "start_time": "2021-11-15T06:14:28.061Z"
   },
   {
    "duration": 87,
    "start_time": "2021-11-15T06:14:53.072Z"
   },
   {
    "duration": 18,
    "start_time": "2021-11-15T06:14:53.161Z"
   },
   {
    "duration": 41,
    "start_time": "2021-11-15T06:14:53.182Z"
   },
   {
    "duration": 28,
    "start_time": "2021-11-15T06:14:53.225Z"
   },
   {
    "duration": 85,
    "start_time": "2021-11-15T06:14:53.255Z"
   },
   {
    "duration": 3750,
    "start_time": "2021-11-15T06:14:53.342Z"
   },
   {
    "duration": -21,
    "start_time": "2021-11-15T06:14:57.115Z"
   },
   {
    "duration": -22,
    "start_time": "2021-11-15T06:14:57.117Z"
   },
   {
    "duration": -32,
    "start_time": "2021-11-15T06:14:57.128Z"
   },
   {
    "duration": -37,
    "start_time": "2021-11-15T06:14:57.134Z"
   },
   {
    "duration": -47,
    "start_time": "2021-11-15T06:14:57.145Z"
   },
   {
    "duration": -51,
    "start_time": "2021-11-15T06:14:57.150Z"
   },
   {
    "duration": 676,
    "start_time": "2021-11-15T06:15:32.272Z"
   },
   {
    "duration": 17,
    "start_time": "2021-11-15T06:15:33.322Z"
   },
   {
    "duration": 32,
    "start_time": "2021-11-15T06:15:35.894Z"
   },
   {
    "duration": 26,
    "start_time": "2021-11-15T06:15:38.737Z"
   },
   {
    "duration": 55,
    "start_time": "2021-11-15T06:15:42.347Z"
   },
   {
    "duration": 4163,
    "start_time": "2021-11-15T06:15:45.834Z"
   },
   {
    "duration": 1660,
    "start_time": "2021-11-15T06:19:40.274Z"
   },
   {
    "duration": 464,
    "start_time": "2021-11-15T06:23:26.063Z"
   },
   {
    "duration": 1830,
    "start_time": "2021-11-15T06:23:34.470Z"
   },
   {
    "duration": 18,
    "start_time": "2021-11-15T08:20:33.871Z"
   },
   {
    "duration": 364,
    "start_time": "2021-11-15T08:21:21.618Z"
   },
   {
    "duration": 698,
    "start_time": "2021-11-15T08:21:41.173Z"
   },
   {
    "duration": 18,
    "start_time": "2021-11-15T08:21:41.872Z"
   },
   {
    "duration": 29,
    "start_time": "2021-11-15T08:21:45.781Z"
   },
   {
    "duration": 26,
    "start_time": "2021-11-15T08:21:52.271Z"
   },
   {
    "duration": 28,
    "start_time": "2021-11-15T08:22:20.048Z"
   },
   {
    "duration": 120,
    "start_time": "2021-11-15T08:22:31.518Z"
   },
   {
    "duration": 27,
    "start_time": "2021-11-15T08:22:35.679Z"
   },
   {
    "duration": 3774,
    "start_time": "2021-11-15T08:23:19.031Z"
   },
   {
    "duration": 10499,
    "start_time": "2021-11-15T08:23:38.841Z"
   },
   {
    "duration": 1266,
    "start_time": "2021-11-15T08:23:55.051Z"
   },
   {
    "duration": 1221,
    "start_time": "2021-11-15T08:24:03.339Z"
   },
   {
    "duration": 1592,
    "start_time": "2021-11-15T08:24:11.831Z"
   },
   {
    "duration": 1736,
    "start_time": "2021-11-15T08:24:22.136Z"
   },
   {
    "duration": 1223,
    "start_time": "2021-11-15T08:24:33.591Z"
   },
   {
    "duration": 1206,
    "start_time": "2021-11-15T08:24:58.546Z"
   },
   {
    "duration": 1185,
    "start_time": "2021-11-15T08:25:08.060Z"
   },
   {
    "duration": 1571,
    "start_time": "2021-11-15T08:25:43.224Z"
   },
   {
    "duration": 1217,
    "start_time": "2021-11-15T08:25:52.511Z"
   },
   {
    "duration": 1409,
    "start_time": "2021-11-15T08:26:11.889Z"
   },
   {
    "duration": 1318,
    "start_time": "2021-11-15T08:26:23.142Z"
   },
   {
    "duration": 125,
    "start_time": "2021-11-15T08:27:03.818Z"
   },
   {
    "duration": 1665,
    "start_time": "2021-11-15T08:27:12.738Z"
   },
   {
    "duration": 1719,
    "start_time": "2021-11-15T08:27:42.388Z"
   },
   {
    "duration": 1707,
    "start_time": "2021-11-15T08:27:52.000Z"
   },
   {
    "duration": 1686,
    "start_time": "2021-11-15T08:28:01.136Z"
   },
   {
    "duration": 1328,
    "start_time": "2021-11-15T08:28:26.130Z"
   },
   {
    "duration": 1300,
    "start_time": "2021-11-15T08:28:42.406Z"
   },
   {
    "duration": 1446,
    "start_time": "2021-11-15T08:28:53.016Z"
   },
   {
    "duration": 72,
    "start_time": "2021-11-15T08:38:41.138Z"
   },
   {
    "duration": 1334,
    "start_time": "2021-11-15T08:38:57.119Z"
   },
   {
    "duration": 864,
    "start_time": "2021-11-15T12:24:05.868Z"
   },
   {
    "duration": 114,
    "start_time": "2021-11-15T12:24:18.634Z"
   },
   {
    "duration": 87,
    "start_time": "2021-11-15T12:24:43.300Z"
   },
   {
    "duration": 110,
    "start_time": "2021-11-15T12:25:18.415Z"
   },
   {
    "duration": 105,
    "start_time": "2021-11-15T12:25:25.875Z"
   },
   {
    "duration": 115,
    "start_time": "2021-11-15T12:25:32.465Z"
   },
   {
    "duration": 24,
    "start_time": "2021-11-15T12:51:00.224Z"
   },
   {
    "duration": 414,
    "start_time": "2021-11-15T12:51:29.332Z"
   },
   {
    "duration": 862,
    "start_time": "2021-11-15T12:51:49.532Z"
   },
   {
    "duration": 379,
    "start_time": "2021-11-15T12:51:50.397Z"
   },
   {
    "duration": 393,
    "start_time": "2021-11-15T12:52:08.160Z"
   },
   {
    "duration": 313,
    "start_time": "2021-11-15T12:52:17.348Z"
   },
   {
    "duration": 30,
    "start_time": "2021-11-15T12:52:27.080Z"
   },
   {
    "duration": 401,
    "start_time": "2021-11-15T12:52:45.044Z"
   },
   {
    "duration": 320,
    "start_time": "2021-11-15T12:53:12.201Z"
   },
   {
    "duration": 312,
    "start_time": "2021-11-15T12:53:48.852Z"
   },
   {
    "duration": 309,
    "start_time": "2021-11-15T12:53:55.035Z"
   },
   {
    "duration": 28,
    "start_time": "2021-11-15T12:54:07.535Z"
   },
   {
    "duration": 25,
    "start_time": "2021-11-15T12:54:18.668Z"
   },
   {
    "duration": 24,
    "start_time": "2021-11-15T12:54:25.254Z"
   },
   {
    "duration": 27,
    "start_time": "2021-11-15T12:54:35.505Z"
   },
   {
    "duration": 24,
    "start_time": "2021-11-15T12:54:45.481Z"
   },
   {
    "duration": 28,
    "start_time": "2021-11-15T12:54:53.371Z"
   },
   {
    "duration": 26,
    "start_time": "2021-11-15T12:54:57.119Z"
   },
   {
    "duration": 24,
    "start_time": "2021-11-15T12:55:04.310Z"
   },
   {
    "duration": 24,
    "start_time": "2021-11-15T12:55:07.925Z"
   },
   {
    "duration": 24,
    "start_time": "2021-11-15T12:55:11.558Z"
   },
   {
    "duration": 380,
    "start_time": "2021-11-15T12:55:27.691Z"
   },
   {
    "duration": 309,
    "start_time": "2021-11-15T12:55:36.319Z"
   },
   {
    "duration": 27,
    "start_time": "2021-11-15T12:55:40.027Z"
   },
   {
    "duration": 26,
    "start_time": "2021-11-15T12:55:44.377Z"
   },
   {
    "duration": 24,
    "start_time": "2021-11-15T12:55:47.178Z"
   },
   {
    "duration": 26,
    "start_time": "2021-11-15T12:55:50.722Z"
   },
   {
    "duration": 25,
    "start_time": "2021-11-15T12:55:57.843Z"
   },
   {
    "duration": 1546,
    "start_time": "2021-11-15T12:56:02.217Z"
   },
   {
    "duration": 309,
    "start_time": "2021-11-15T12:56:08.293Z"
   },
   {
    "duration": 310,
    "start_time": "2021-11-15T12:56:11.181Z"
   },
   {
    "duration": 374,
    "start_time": "2021-11-15T12:56:15.912Z"
   },
   {
    "duration": 26,
    "start_time": "2021-11-15T12:56:26.235Z"
   },
   {
    "duration": 26,
    "start_time": "2021-11-15T12:56:33.630Z"
   },
   {
    "duration": 28,
    "start_time": "2021-11-15T12:56:39.328Z"
   },
   {
    "duration": 27,
    "start_time": "2021-11-15T12:56:45.328Z"
   },
   {
    "duration": 26,
    "start_time": "2021-11-15T12:56:48.238Z"
   },
   {
    "duration": 27,
    "start_time": "2021-11-15T12:56:51.198Z"
   },
   {
    "duration": 27,
    "start_time": "2021-11-15T12:56:58.648Z"
   },
   {
    "duration": 28,
    "start_time": "2021-11-15T12:57:05.063Z"
   },
   {
    "duration": 27,
    "start_time": "2021-11-15T12:57:10.470Z"
   },
   {
    "duration": 26,
    "start_time": "2021-11-15T12:57:50.822Z"
   },
   {
    "duration": 158,
    "start_time": "2021-11-15T12:58:54.133Z"
   },
   {
    "duration": 57,
    "start_time": "2021-11-15T12:59:20.656Z"
   },
   {
    "duration": 74,
    "start_time": "2021-11-15T12:59:53.539Z"
   },
   {
    "duration": 76,
    "start_time": "2021-11-15T13:00:17.800Z"
   },
   {
    "duration": 327,
    "start_time": "2021-11-15T13:02:50.380Z"
   },
   {
    "duration": 112,
    "start_time": "2021-11-15T13:24:34.373Z"
   },
   {
    "duration": 94,
    "start_time": "2021-11-15T13:24:34.488Z"
   },
   {
    "duration": 60,
    "start_time": "2021-11-15T13:24:34.586Z"
   },
   {
    "duration": 38,
    "start_time": "2021-11-15T13:24:34.649Z"
   },
   {
    "duration": 94,
    "start_time": "2021-11-15T13:24:34.689Z"
   },
   {
    "duration": 4502,
    "start_time": "2021-11-15T13:24:34.785Z"
   },
   {
    "duration": 383,
    "start_time": "2021-11-15T13:25:57.917Z"
   },
   {
    "duration": 357,
    "start_time": "2021-11-15T13:26:05.943Z"
   },
   {
    "duration": 861,
    "start_time": "2021-11-15T13:26:29.177Z"
   },
   {
    "duration": 78,
    "start_time": "2021-11-15T13:26:30.040Z"
   },
   {
    "duration": 43,
    "start_time": "2021-11-15T13:26:30.130Z"
   },
   {
    "duration": 66,
    "start_time": "2021-11-15T13:26:30.176Z"
   },
   {
    "duration": 95,
    "start_time": "2021-11-15T13:26:30.245Z"
   },
   {
    "duration": 4786,
    "start_time": "2021-11-15T13:26:30.343Z"
   },
   {
    "duration": 520,
    "start_time": "2021-11-15T13:26:35.132Z"
   },
   {
    "duration": -31,
    "start_time": "2021-11-15T13:26:35.686Z"
   },
   {
    "duration": -44,
    "start_time": "2021-11-15T13:26:35.701Z"
   },
   {
    "duration": -51,
    "start_time": "2021-11-15T13:26:35.709Z"
   },
   {
    "duration": -54,
    "start_time": "2021-11-15T13:26:35.713Z"
   },
   {
    "duration": -58,
    "start_time": "2021-11-15T13:26:35.719Z"
   },
   {
    "duration": 372,
    "start_time": "2021-11-15T13:28:26.650Z"
   },
   {
    "duration": 97,
    "start_time": "2021-11-15T13:29:38.642Z"
   },
   {
    "duration": 88,
    "start_time": "2021-11-15T13:30:15.554Z"
   },
   {
    "duration": 113,
    "start_time": "2021-11-15T13:30:45.102Z"
   },
   {
    "duration": 115,
    "start_time": "2021-11-15T13:30:55.230Z"
   },
   {
    "duration": 125,
    "start_time": "2021-11-15T13:31:24.922Z"
   },
   {
    "duration": 90,
    "start_time": "2021-11-15T13:31:44.952Z"
   },
   {
    "duration": 88,
    "start_time": "2021-11-15T13:32:04.346Z"
   },
   {
    "duration": 93,
    "start_time": "2021-11-15T13:32:13.690Z"
   },
   {
    "duration": 86,
    "start_time": "2021-11-15T13:32:39.516Z"
   },
   {
    "duration": 105,
    "start_time": "2021-11-15T13:33:00.632Z"
   },
   {
    "duration": 114,
    "start_time": "2021-11-15T13:33:08.614Z"
   },
   {
    "duration": 105,
    "start_time": "2021-11-15T13:33:20.627Z"
   },
   {
    "duration": 834,
    "start_time": "2021-11-15T13:34:05.161Z"
   },
   {
    "duration": 90,
    "start_time": "2021-11-15T13:34:05.999Z"
   },
   {
    "duration": 51,
    "start_time": "2021-11-15T13:34:06.092Z"
   },
   {
    "duration": 40,
    "start_time": "2021-11-15T13:34:06.145Z"
   },
   {
    "duration": 111,
    "start_time": "2021-11-15T13:34:06.188Z"
   },
   {
    "duration": 4527,
    "start_time": "2021-11-15T13:34:06.302Z"
   },
   {
    "duration": 25,
    "start_time": "2021-11-15T13:34:27.481Z"
   },
   {
    "duration": 25,
    "start_time": "2021-11-15T13:34:45.322Z"
   },
   {
    "duration": 26,
    "start_time": "2021-11-15T13:34:49.671Z"
   },
   {
    "duration": 29,
    "start_time": "2021-11-15T13:34:59.637Z"
   },
   {
    "duration": 29,
    "start_time": "2021-11-15T13:35:29.805Z"
   },
   {
    "duration": 30,
    "start_time": "2021-11-15T13:35:34.872Z"
   },
   {
    "duration": 413,
    "start_time": "2021-11-15T13:35:45.433Z"
   },
   {
    "duration": 36,
    "start_time": "2021-11-15T13:35:48.693Z"
   },
   {
    "duration": 30,
    "start_time": "2021-11-15T13:35:52.323Z"
   },
   {
    "duration": 28,
    "start_time": "2021-11-15T13:36:20.460Z"
   },
   {
    "duration": 25,
    "start_time": "2021-11-15T13:36:25.883Z"
   },
   {
    "duration": 26,
    "start_time": "2021-11-15T13:36:41.433Z"
   },
   {
    "duration": 61,
    "start_time": "2021-11-15T13:37:57.972Z"
   },
   {
    "duration": 37,
    "start_time": "2021-11-15T13:38:34.309Z"
   },
   {
    "duration": 53,
    "start_time": "2021-11-15T13:38:37.523Z"
   },
   {
    "duration": 56,
    "start_time": "2021-11-15T13:38:47.582Z"
   },
   {
    "duration": 52,
    "start_time": "2021-11-15T13:38:55.818Z"
   },
   {
    "duration": 62,
    "start_time": "2021-11-15T13:39:18.447Z"
   },
   {
    "duration": 58,
    "start_time": "2021-11-15T13:40:02.921Z"
   },
   {
    "duration": 7,
    "start_time": "2021-11-15T13:40:22.887Z"
   },
   {
    "duration": 328,
    "start_time": "2021-11-15T13:40:25.266Z"
   },
   {
    "duration": 8,
    "start_time": "2021-11-15T13:41:35.963Z"
   },
   {
    "duration": 18,
    "start_time": "2021-11-15T13:41:41.461Z"
   },
   {
    "duration": 7,
    "start_time": "2021-11-15T13:42:20.301Z"
   },
   {
    "duration": 24,
    "start_time": "2021-11-15T13:42:25.279Z"
   },
   {
    "duration": 20,
    "start_time": "2021-11-15T13:42:31.153Z"
   },
   {
    "duration": 348,
    "start_time": "2021-11-15T13:42:48.426Z"
   },
   {
    "duration": 23,
    "start_time": "2021-11-15T13:42:53.279Z"
   },
   {
    "duration": 24,
    "start_time": "2021-11-15T13:43:30.717Z"
   },
   {
    "duration": 44,
    "start_time": "2021-11-15T13:43:51.493Z"
   },
   {
    "duration": 24,
    "start_time": "2021-11-15T13:44:00.483Z"
   },
   {
    "duration": 27,
    "start_time": "2021-11-15T13:45:10.422Z"
   },
   {
    "duration": 41,
    "start_time": "2021-11-15T13:46:00.046Z"
   },
   {
    "duration": 29,
    "start_time": "2021-11-15T13:46:07.781Z"
   },
   {
    "duration": 28,
    "start_time": "2021-11-15T13:46:19.961Z"
   },
   {
    "duration": 29,
    "start_time": "2021-11-15T13:46:28.774Z"
   },
   {
    "duration": 32,
    "start_time": "2021-11-15T13:46:35.302Z"
   },
   {
    "duration": 28,
    "start_time": "2021-11-15T13:46:40.773Z"
   },
   {
    "duration": 82,
    "start_time": "2021-11-15T13:47:21.863Z"
   },
   {
    "duration": 78,
    "start_time": "2021-11-15T13:49:55.704Z"
   },
   {
    "duration": 44,
    "start_time": "2021-11-15T13:50:09.508Z"
   },
   {
    "duration": 45,
    "start_time": "2021-11-15T13:50:28.555Z"
   },
   {
    "duration": 45,
    "start_time": "2021-11-15T13:50:47.896Z"
   },
   {
    "duration": 62,
    "start_time": "2021-11-15T13:51:20.284Z"
   },
   {
    "duration": 59,
    "start_time": "2021-11-15T13:51:23.743Z"
   },
   {
    "duration": 23,
    "start_time": "2021-11-15T13:51:32.866Z"
   },
   {
    "duration": 358,
    "start_time": "2021-11-15T13:52:20.094Z"
   },
   {
    "duration": 829,
    "start_time": "2021-11-15T13:52:33.269Z"
   },
   {
    "duration": 83,
    "start_time": "2021-11-15T13:52:34.100Z"
   },
   {
    "duration": 50,
    "start_time": "2021-11-15T13:52:34.186Z"
   },
   {
    "duration": 40,
    "start_time": "2021-11-15T13:52:34.239Z"
   },
   {
    "duration": 104,
    "start_time": "2021-11-15T13:52:34.281Z"
   },
   {
    "duration": 4424,
    "start_time": "2021-11-15T13:52:34.387Z"
   },
   {
    "duration": 56,
    "start_time": "2021-11-15T13:52:38.813Z"
   },
   {
    "duration": 81,
    "start_time": "2021-11-15T13:52:38.873Z"
   },
   {
    "duration": 7,
    "start_time": "2021-11-15T13:52:38.957Z"
   },
   {
    "duration": 30,
    "start_time": "2021-11-15T13:52:38.967Z"
   },
   {
    "duration": 47,
    "start_time": "2021-11-15T13:52:39.000Z"
   },
   {
    "duration": 22,
    "start_time": "2021-11-15T13:52:39.050Z"
   },
   {
    "duration": 56,
    "start_time": "2021-11-15T13:52:39.074Z"
   },
   {
    "duration": 43,
    "start_time": "2021-11-15T13:56:39.488Z"
   },
   {
    "duration": 22,
    "start_time": "2021-11-15T13:56:45.800Z"
   },
   {
    "duration": 56,
    "start_time": "2021-11-15T14:06:43.978Z"
   },
   {
    "duration": 438,
    "start_time": "2021-11-15T14:08:56.599Z"
   },
   {
    "duration": 61,
    "start_time": "2021-11-15T14:09:08.396Z"
   },
   {
    "duration": 378,
    "start_time": "2021-11-15T14:09:11.198Z"
   },
   {
    "duration": 60,
    "start_time": "2021-11-15T14:09:44.725Z"
   },
   {
    "duration": 56,
    "start_time": "2021-11-15T14:09:58.645Z"
   },
   {
    "duration": 351,
    "start_time": "2021-11-15T14:10:17.326Z"
   },
   {
    "duration": 373,
    "start_time": "2021-11-15T14:10:44.773Z"
   },
   {
    "duration": 63,
    "start_time": "2021-11-15T14:10:57.704Z"
   },
   {
    "duration": 74,
    "start_time": "2021-11-15T14:11:18.103Z"
   },
   {
    "duration": 68,
    "start_time": "2021-11-15T14:11:42.796Z"
   },
   {
    "duration": 468,
    "start_time": "2021-11-15T14:11:50.422Z"
   },
   {
    "duration": -22,
    "start_time": "2021-11-15T14:12:11.205Z"
   },
   {
    "duration": 70,
    "start_time": "2021-11-15T14:12:24.074Z"
   },
   {
    "duration": -21,
    "start_time": "2021-11-15T14:12:38.167Z"
   },
   {
    "duration": -22,
    "start_time": "2021-11-15T14:12:38.170Z"
   },
   {
    "duration": 7681,
    "start_time": "2021-11-15T14:12:48.854Z"
   },
   {
    "duration": 70,
    "start_time": "2021-11-15T14:13:09.764Z"
   },
   {
    "duration": 962,
    "start_time": "2021-11-15T14:13:18.112Z"
   },
   {
    "duration": 91,
    "start_time": "2021-11-15T14:13:19.077Z"
   },
   {
    "duration": 58,
    "start_time": "2021-11-15T14:13:19.171Z"
   },
   {
    "duration": 41,
    "start_time": "2021-11-15T14:13:19.232Z"
   },
   {
    "duration": 112,
    "start_time": "2021-11-15T14:13:19.276Z"
   },
   {
    "duration": 4499,
    "start_time": "2021-11-15T14:13:19.391Z"
   },
   {
    "duration": 75,
    "start_time": "2021-11-15T14:13:23.893Z"
   },
   {
    "duration": 93,
    "start_time": "2021-11-15T14:13:23.972Z"
   },
   {
    "duration": 7,
    "start_time": "2021-11-15T14:13:24.067Z"
   },
   {
    "duration": 7350,
    "start_time": "2021-11-15T14:13:24.077Z"
   },
   {
    "duration": -59,
    "start_time": "2021-11-15T14:13:31.488Z"
   },
   {
    "duration": -72,
    "start_time": "2021-11-15T14:13:31.503Z"
   },
   {
    "duration": -86,
    "start_time": "2021-11-15T14:13:31.518Z"
   },
   {
    "duration": 15,
    "start_time": "2021-11-15T14:13:57.624Z"
   },
   {
    "duration": 18,
    "start_time": "2021-11-15T14:14:14.123Z"
   },
   {
    "duration": 351,
    "start_time": "2021-11-15T14:14:30.216Z"
   },
   {
    "duration": 18,
    "start_time": "2021-11-15T14:14:33.517Z"
   },
   {
    "duration": 18,
    "start_time": "2021-11-15T14:15:03.567Z"
   },
   {
    "duration": 305,
    "start_time": "2021-11-15T14:15:24.280Z"
   },
   {
    "duration": 25,
    "start_time": "2021-11-15T14:15:42.618Z"
   },
   {
    "duration": 21,
    "start_time": "2021-11-15T14:16:04.316Z"
   },
   {
    "duration": 30,
    "start_time": "2021-11-15T14:16:36.921Z"
   },
   {
    "duration": 398,
    "start_time": "2021-11-15T15:24:03.239Z"
   },
   {
    "duration": 905,
    "start_time": "2021-11-15T15:24:12.488Z"
   },
   {
    "duration": 87,
    "start_time": "2021-11-15T15:24:13.396Z"
   },
   {
    "duration": 63,
    "start_time": "2021-11-15T15:24:13.487Z"
   },
   {
    "duration": 43,
    "start_time": "2021-11-15T15:24:13.553Z"
   },
   {
    "duration": 108,
    "start_time": "2021-11-15T15:24:13.599Z"
   },
   {
    "duration": 4742,
    "start_time": "2021-11-15T15:24:13.729Z"
   },
   {
    "duration": 57,
    "start_time": "2021-11-15T15:24:18.551Z"
   },
   {
    "duration": 327,
    "start_time": "2021-11-15T15:28:32.056Z"
   },
   {
    "duration": 331,
    "start_time": "2021-11-15T15:28:39.458Z"
   },
   {
    "duration": 57,
    "start_time": "2021-11-15T15:28:52.781Z"
   },
   {
    "duration": 319,
    "start_time": "2021-11-15T15:29:43.398Z"
   },
   {
    "duration": 290,
    "start_time": "2021-11-15T15:29:50.260Z"
   },
   {
    "duration": 319,
    "start_time": "2021-11-15T15:30:19.798Z"
   },
   {
    "duration": 298,
    "start_time": "2021-11-15T15:30:34.176Z"
   },
   {
    "duration": 47,
    "start_time": "2021-11-15T15:30:39.344Z"
   },
   {
    "duration": 50,
    "start_time": "2021-11-15T15:30:56.681Z"
   },
   {
    "duration": 307,
    "start_time": "2021-11-15T15:31:26.398Z"
   },
   {
    "duration": 62,
    "start_time": "2021-11-15T15:31:30.862Z"
   },
   {
    "duration": 47,
    "start_time": "2021-11-15T15:32:42.941Z"
   },
   {
    "duration": 368,
    "start_time": "2021-11-15T15:33:12.250Z"
   },
   {
    "duration": 247,
    "start_time": "2021-11-15T15:33:34.291Z"
   },
   {
    "duration": 25,
    "start_time": "2021-11-15T15:33:48.627Z"
   },
   {
    "duration": 23,
    "start_time": "2021-11-15T15:33:55.847Z"
   },
   {
    "duration": 59,
    "start_time": "2021-11-15T15:34:36.446Z"
   },
   {
    "duration": 283,
    "start_time": "2021-11-15T15:34:50.392Z"
   },
   {
    "duration": 7,
    "start_time": "2021-11-15T15:34:55.021Z"
   },
   {
    "duration": 40,
    "start_time": "2021-11-15T15:34:55.899Z"
   },
   {
    "duration": 38,
    "start_time": "2021-11-15T15:35:09.451Z"
   },
   {
    "duration": 45,
    "start_time": "2021-11-15T15:38:17.407Z"
   },
   {
    "duration": 37,
    "start_time": "2021-11-15T15:39:01.072Z"
   },
   {
    "duration": 307,
    "start_time": "2021-11-15T15:39:14.401Z"
   },
   {
    "duration": 38,
    "start_time": "2021-11-15T15:39:27.982Z"
   },
   {
    "duration": 43,
    "start_time": "2021-11-15T15:41:12.261Z"
   },
   {
    "duration": 99,
    "start_time": "2021-11-15T15:41:25.350Z"
   },
   {
    "duration": 31,
    "start_time": "2021-11-15T15:41:27.607Z"
   },
   {
    "duration": 842,
    "start_time": "2021-11-15T15:42:23.475Z"
   },
   {
    "duration": 956,
    "start_time": "2021-11-15T15:42:52.648Z"
   },
   {
    "duration": 63,
    "start_time": "2021-11-15T15:43:32.174Z"
   },
   {
    "duration": 50,
    "start_time": "2021-11-15T15:43:55.682Z"
   },
   {
    "duration": 36,
    "start_time": "2021-11-15T15:44:18.790Z"
   },
   {
    "duration": 294,
    "start_time": "2021-11-15T15:44:33.825Z"
   },
   {
    "duration": 51,
    "start_time": "2021-11-15T15:44:37.591Z"
   },
   {
    "duration": 50,
    "start_time": "2021-11-15T15:45:57.895Z"
   },
   {
    "duration": 316,
    "start_time": "2021-11-15T15:46:19.985Z"
   },
   {
    "duration": 299,
    "start_time": "2021-11-15T15:46:24.903Z"
   },
   {
    "duration": 307,
    "start_time": "2021-11-15T15:47:40.373Z"
   },
   {
    "duration": 283,
    "start_time": "2021-11-15T15:47:48.891Z"
   },
   {
    "duration": 281,
    "start_time": "2021-11-15T15:48:03.599Z"
   },
   {
    "duration": 60,
    "start_time": "2021-11-15T15:48:22.127Z"
   },
   {
    "duration": 46,
    "start_time": "2021-11-15T15:48:26.350Z"
   },
   {
    "duration": 306,
    "start_time": "2021-11-15T15:48:46.617Z"
   },
   {
    "duration": 295,
    "start_time": "2021-11-15T15:49:01.416Z"
   },
   {
    "duration": 336,
    "start_time": "2021-11-15T15:50:40.563Z"
   },
   {
    "duration": 291,
    "start_time": "2021-11-15T15:50:48.952Z"
   },
   {
    "duration": 69,
    "start_time": "2021-11-15T15:52:11.988Z"
   },
   {
    "duration": 66,
    "start_time": "2021-11-15T15:52:42.935Z"
   },
   {
    "duration": 303,
    "start_time": "2021-11-15T15:53:04.408Z"
   },
   {
    "duration": 422,
    "start_time": "2021-11-15T15:53:14.740Z"
   },
   {
    "duration": 319,
    "start_time": "2021-11-15T15:53:23.668Z"
   },
   {
    "duration": 69,
    "start_time": "2021-11-15T15:53:33.311Z"
   },
   {
    "duration": 51,
    "start_time": "2021-11-15T15:53:57.424Z"
   },
   {
    "duration": 305,
    "start_time": "2021-11-15T15:56:15.068Z"
   },
   {
    "duration": 64,
    "start_time": "2021-11-15T16:00:34.817Z"
   },
   {
    "duration": 46,
    "start_time": "2021-11-15T16:00:46.655Z"
   },
   {
    "duration": 322,
    "start_time": "2021-11-15T16:01:26.538Z"
   },
   {
    "duration": 340,
    "start_time": "2021-11-15T16:01:41.272Z"
   },
   {
    "duration": 316,
    "start_time": "2021-11-15T16:04:07.958Z"
   },
   {
    "duration": 94,
    "start_time": "2021-11-15T16:08:22.760Z"
   },
   {
    "duration": 42,
    "start_time": "2021-11-15T16:08:33.234Z"
   },
   {
    "duration": 28,
    "start_time": "2021-11-15T16:09:41.499Z"
   },
   {
    "duration": 18,
    "start_time": "2021-11-15T16:12:36.802Z"
   },
   {
    "duration": 305,
    "start_time": "2021-11-15T16:20:22.103Z"
   },
   {
    "duration": 273,
    "start_time": "2021-11-15T16:20:27.392Z"
   },
   {
    "duration": 17,
    "start_time": "2021-11-15T16:21:20.577Z"
   },
   {
    "duration": 296,
    "start_time": "2021-11-15T16:24:57.536Z"
   },
   {
    "duration": 40,
    "start_time": "2021-11-15T16:25:06.295Z"
   },
   {
    "duration": 7352,
    "start_time": "2021-11-15T16:29:38.657Z"
   },
   {
    "duration": 5299,
    "start_time": "2021-11-15T16:29:57.431Z"
   },
   {
    "duration": 33,
    "start_time": "2021-11-15T16:30:57.318Z"
   },
   {
    "duration": 37,
    "start_time": "2021-11-15T16:31:22.141Z"
   },
   {
    "duration": 8370,
    "start_time": "2021-11-15T16:31:41.591Z"
   },
   {
    "duration": 37,
    "start_time": "2021-11-15T16:32:18.053Z"
   },
   {
    "duration": 42,
    "start_time": "2021-11-15T16:32:39.216Z"
   },
   {
    "duration": 36,
    "start_time": "2021-11-15T16:32:49.462Z"
   },
   {
    "duration": 37,
    "start_time": "2021-11-15T16:33:14.234Z"
   },
   {
    "duration": 5501,
    "start_time": "2021-11-15T16:33:20.610Z"
   },
   {
    "duration": 37,
    "start_time": "2021-11-15T16:33:29.001Z"
   },
   {
    "duration": 38,
    "start_time": "2021-11-15T16:33:39.601Z"
   },
   {
    "duration": 5258,
    "start_time": "2021-11-15T16:34:12.739Z"
   },
   {
    "duration": 40,
    "start_time": "2021-11-15T16:34:19.146Z"
   },
   {
    "duration": 30,
    "start_time": "2021-11-15T16:36:07.637Z"
   },
   {
    "duration": 30,
    "start_time": "2021-11-15T16:36:12.896Z"
   },
   {
    "duration": 332,
    "start_time": "2021-11-15T16:38:41.011Z"
   },
   {
    "duration": 34,
    "start_time": "2021-11-15T16:39:00.265Z"
   },
   {
    "duration": 32,
    "start_time": "2021-11-15T16:39:09.673Z"
   },
   {
    "duration": 5498,
    "start_time": "2021-11-15T16:39:20.121Z"
   },
   {
    "duration": 312,
    "start_time": "2021-11-15T16:39:43.483Z"
   },
   {
    "duration": 90,
    "start_time": "2021-11-15T16:39:49.306Z"
   },
   {
    "duration": 28,
    "start_time": "2021-11-15T16:39:51.223Z"
   },
   {
    "duration": 31,
    "start_time": "2021-11-15T16:40:01.465Z"
   },
   {
    "duration": 5527,
    "start_time": "2021-11-15T16:40:26.608Z"
   },
   {
    "duration": 37,
    "start_time": "2021-11-15T16:40:38.346Z"
   },
   {
    "duration": 30,
    "start_time": "2021-11-15T16:40:42.957Z"
   },
   {
    "duration": 33,
    "start_time": "2021-11-15T16:41:10.975Z"
   },
   {
    "duration": 310,
    "start_time": "2021-11-15T16:41:36.963Z"
   },
   {
    "duration": 37,
    "start_time": "2021-11-15T16:41:43.187Z"
   },
   {
    "duration": 16,
    "start_time": "2021-11-15T16:45:01.927Z"
   },
   {
    "duration": 5835,
    "start_time": "2021-11-15T16:45:16.836Z"
   },
   {
    "duration": 26,
    "start_time": "2021-11-15T16:45:34.313Z"
   },
   {
    "duration": 5480,
    "start_time": "2021-11-15T16:46:01.254Z"
   },
   {
    "duration": 5657,
    "start_time": "2021-11-15T16:46:11.137Z"
   },
   {
    "duration": 109,
    "start_time": "2021-11-15T16:46:54.909Z"
   },
   {
    "duration": 53,
    "start_time": "2021-11-15T16:47:07.829Z"
   },
   {
    "duration": 45,
    "start_time": "2021-11-15T16:47:42.649Z"
   },
   {
    "duration": 98,
    "start_time": "2021-11-15T16:47:49.539Z"
   },
   {
    "duration": 42,
    "start_time": "2021-11-15T16:47:52.725Z"
   },
   {
    "duration": 69,
    "start_time": "2021-11-15T16:48:20.796Z"
   },
   {
    "duration": 53,
    "start_time": "2021-11-15T16:48:32.684Z"
   },
   {
    "duration": 5672,
    "start_time": "2021-11-15T16:49:24.779Z"
   },
   {
    "duration": 6171,
    "start_time": "2021-11-15T16:49:36.330Z"
   },
   {
    "duration": 102,
    "start_time": "2021-11-15T16:49:49.620Z"
   },
   {
    "duration": 6352,
    "start_time": "2021-11-15T16:49:52.989Z"
   },
   {
    "duration": 5891,
    "start_time": "2021-11-15T16:50:30.367Z"
   },
   {
    "duration": 25,
    "start_time": "2021-11-15T16:50:43.275Z"
   },
   {
    "duration": 37,
    "start_time": "2021-11-15T16:52:38.080Z"
   },
   {
    "duration": 27,
    "start_time": "2021-11-15T16:53:11.262Z"
   },
   {
    "duration": 5989,
    "start_time": "2021-11-15T16:53:41.469Z"
   },
   {
    "duration": 6028,
    "start_time": "2021-11-15T16:53:57.660Z"
   },
   {
    "duration": 322,
    "start_time": "2021-11-15T16:54:28.005Z"
   },
   {
    "duration": 31,
    "start_time": "2021-11-15T16:54:48.462Z"
   },
   {
    "duration": 35,
    "start_time": "2021-11-15T16:55:26.693Z"
   },
   {
    "duration": 32,
    "start_time": "2021-11-15T16:55:42.843Z"
   },
   {
    "duration": 32,
    "start_time": "2021-11-15T16:56:04.709Z"
   },
   {
    "duration": 32,
    "start_time": "2021-11-15T16:56:17.310Z"
   },
   {
    "duration": 32,
    "start_time": "2021-11-15T16:57:10.627Z"
   },
   {
    "duration": 32,
    "start_time": "2021-11-15T16:58:18.478Z"
   },
   {
    "duration": 31,
    "start_time": "2021-11-15T16:58:26.391Z"
   },
   {
    "duration": 35,
    "start_time": "2021-11-15T16:58:40.086Z"
   },
   {
    "duration": 98,
    "start_time": "2021-11-15T16:59:25.814Z"
   },
   {
    "duration": 42,
    "start_time": "2021-11-15T16:59:35.165Z"
   },
   {
    "duration": 324,
    "start_time": "2021-11-15T17:00:44.494Z"
   },
   {
    "duration": 43,
    "start_time": "2021-11-15T17:01:00.173Z"
   },
   {
    "duration": 357,
    "start_time": "2021-11-15T17:01:51.108Z"
   },
   {
    "duration": 46,
    "start_time": "2021-11-15T17:01:59.147Z"
   },
   {
    "duration": 41,
    "start_time": "2021-11-15T17:02:23.318Z"
   },
   {
    "duration": 40,
    "start_time": "2021-11-15T17:03:46.837Z"
   },
   {
    "duration": 104,
    "start_time": "2021-11-15T17:05:15.152Z"
   },
   {
    "duration": 106,
    "start_time": "2021-11-15T17:06:01.158Z"
   },
   {
    "duration": 318,
    "start_time": "2021-11-15T17:06:05.417Z"
   },
   {
    "duration": 43,
    "start_time": "2021-11-15T17:06:22.509Z"
   },
   {
    "duration": 7682,
    "start_time": "2021-11-15T17:07:07.066Z"
   },
   {
    "duration": 37,
    "start_time": "2021-11-15T17:07:45.839Z"
   },
   {
    "duration": 39,
    "start_time": "2021-11-15T17:08:01.493Z"
   },
   {
    "duration": 7464,
    "start_time": "2021-11-15T17:09:10.902Z"
   },
   {
    "duration": 8475,
    "start_time": "2021-11-15T17:10:49.612Z"
   },
   {
    "duration": 97,
    "start_time": "2021-11-15T17:11:46.037Z"
   },
   {
    "duration": 91,
    "start_time": "2021-11-15T17:11:56.429Z"
   },
   {
    "duration": 91,
    "start_time": "2021-11-15T17:12:04.201Z"
   },
   {
    "duration": 42,
    "start_time": "2021-11-15T17:12:35.469Z"
   },
   {
    "duration": 7480,
    "start_time": "2021-11-15T17:12:48.681Z"
   },
   {
    "duration": 24,
    "start_time": "2021-11-15T17:12:56.360Z"
   },
   {
    "duration": 7675,
    "start_time": "2021-11-15T17:13:22.230Z"
   },
   {
    "duration": 29,
    "start_time": "2021-11-15T17:13:36.842Z"
   },
   {
    "duration": 32,
    "start_time": "2021-11-15T17:14:16.371Z"
   },
   {
    "duration": 8714,
    "start_time": "2021-11-15T17:14:39.848Z"
   },
   {
    "duration": 30,
    "start_time": "2021-11-15T17:15:01.211Z"
   },
   {
    "duration": 7581,
    "start_time": "2021-11-15T17:15:12.715Z"
   },
   {
    "duration": 29,
    "start_time": "2021-11-15T17:15:30.009Z"
   },
   {
    "duration": 32,
    "start_time": "2021-11-15T17:16:51.743Z"
   },
   {
    "duration": 25,
    "start_time": "2021-11-15T17:16:56.505Z"
   },
   {
    "duration": 41,
    "start_time": "2021-11-15T17:18:26.263Z"
   },
   {
    "duration": 24,
    "start_time": "2021-11-15T17:18:44.454Z"
   },
   {
    "duration": 25,
    "start_time": "2021-11-15T17:19:30.379Z"
   },
   {
    "duration": 44,
    "start_time": "2021-11-15T17:20:58.026Z"
   },
   {
    "duration": 44,
    "start_time": "2021-11-15T17:21:21.193Z"
   },
   {
    "duration": 44,
    "start_time": "2021-11-15T17:21:52.401Z"
   },
   {
    "duration": 45,
    "start_time": "2021-11-15T17:22:09.242Z"
   },
   {
    "duration": 41,
    "start_time": "2021-11-15T17:23:24.041Z"
   },
   {
    "duration": 871,
    "start_time": "2021-11-15T17:26:05.852Z"
   },
   {
    "duration": 76,
    "start_time": "2021-11-15T17:26:06.726Z"
   },
   {
    "duration": 56,
    "start_time": "2021-11-15T17:26:06.805Z"
   },
   {
    "duration": 66,
    "start_time": "2021-11-15T17:26:06.864Z"
   },
   {
    "duration": 82,
    "start_time": "2021-11-15T17:26:06.933Z"
   },
   {
    "duration": 4367,
    "start_time": "2021-11-15T17:26:07.029Z"
   },
   {
    "duration": 67,
    "start_time": "2021-11-15T17:26:11.399Z"
   },
   {
    "duration": 77,
    "start_time": "2021-11-15T17:26:11.469Z"
   },
   {
    "duration": 7,
    "start_time": "2021-11-15T17:26:11.549Z"
   },
   {
    "duration": 25,
    "start_time": "2021-11-15T17:26:11.558Z"
   },
   {
    "duration": 60,
    "start_time": "2021-11-15T17:26:11.585Z"
   },
   {
    "duration": 24,
    "start_time": "2021-11-15T17:26:11.647Z"
   },
   {
    "duration": 67,
    "start_time": "2021-11-15T17:26:11.673Z"
   },
   {
    "duration": 22,
    "start_time": "2021-11-15T17:26:11.742Z"
   },
   {
    "duration": 65,
    "start_time": "2021-11-15T17:26:11.766Z"
   },
   {
    "duration": 32,
    "start_time": "2021-11-15T17:26:11.834Z"
   },
   {
    "duration": 43,
    "start_time": "2021-11-15T17:30:23.266Z"
   },
   {
    "duration": 40,
    "start_time": "2021-11-15T17:30:29.831Z"
   },
   {
    "duration": 40,
    "start_time": "2021-11-15T17:30:34.123Z"
   },
   {
    "duration": 860,
    "start_time": "2021-11-15T17:33:08.562Z"
   },
   {
    "duration": 76,
    "start_time": "2021-11-15T17:33:09.425Z"
   },
   {
    "duration": 58,
    "start_time": "2021-11-15T17:33:09.504Z"
   },
   {
    "duration": 64,
    "start_time": "2021-11-15T17:33:09.565Z"
   },
   {
    "duration": 79,
    "start_time": "2021-11-15T17:33:09.632Z"
   },
   {
    "duration": 4438,
    "start_time": "2021-11-15T17:33:09.729Z"
   },
   {
    "duration": 65,
    "start_time": "2021-11-15T17:33:14.169Z"
   },
   {
    "duration": 62,
    "start_time": "2021-11-15T17:33:14.237Z"
   },
   {
    "duration": 6,
    "start_time": "2021-11-15T17:33:14.329Z"
   },
   {
    "duration": 23,
    "start_time": "2021-11-15T17:33:14.337Z"
   },
   {
    "duration": 34,
    "start_time": "2021-11-15T17:33:14.362Z"
   },
   {
    "duration": 51,
    "start_time": "2021-11-15T17:33:14.398Z"
   },
   {
    "duration": 41,
    "start_time": "2021-11-15T17:33:14.451Z"
   },
   {
    "duration": 49,
    "start_time": "2021-11-15T17:33:14.495Z"
   },
   {
    "duration": 40,
    "start_time": "2021-11-15T17:33:14.546Z"
   },
   {
    "duration": 59,
    "start_time": "2021-11-15T17:33:14.589Z"
   },
   {
    "duration": 882,
    "start_time": "2021-11-15T17:36:33.017Z"
   },
   {
    "duration": 84,
    "start_time": "2021-11-15T17:36:33.902Z"
   },
   {
    "duration": 60,
    "start_time": "2021-11-15T17:36:33.989Z"
   },
   {
    "duration": 40,
    "start_time": "2021-11-15T17:36:34.053Z"
   },
   {
    "duration": 111,
    "start_time": "2021-11-15T17:36:34.095Z"
   },
   {
    "duration": 4640,
    "start_time": "2021-11-15T17:36:34.208Z"
   },
   {
    "duration": 53,
    "start_time": "2021-11-15T17:36:38.850Z"
   },
   {
    "duration": 88,
    "start_time": "2021-11-15T17:36:38.907Z"
   },
   {
    "duration": 6,
    "start_time": "2021-11-15T17:36:38.997Z"
   },
   {
    "duration": 21,
    "start_time": "2021-11-15T17:36:39.030Z"
   },
   {
    "duration": 50,
    "start_time": "2021-11-15T17:36:39.054Z"
   },
   {
    "duration": 36,
    "start_time": "2021-11-15T17:36:39.107Z"
   },
   {
    "duration": 41,
    "start_time": "2021-11-15T17:36:39.145Z"
   },
   {
    "duration": 49,
    "start_time": "2021-11-15T17:36:39.188Z"
   },
   {
    "duration": 43,
    "start_time": "2021-11-15T17:36:39.240Z"
   },
   {
    "duration": 58,
    "start_time": "2021-11-15T17:36:39.285Z"
   },
   {
    "duration": 702,
    "start_time": "2021-11-16T16:13:05.828Z"
   },
   {
    "duration": 58,
    "start_time": "2021-11-16T16:13:06.533Z"
   },
   {
    "duration": 28,
    "start_time": "2021-11-16T16:13:06.593Z"
   },
   {
    "duration": 44,
    "start_time": "2021-11-16T16:13:06.623Z"
   },
   {
    "duration": 62,
    "start_time": "2021-11-16T16:13:06.669Z"
   },
   {
    "duration": 3666,
    "start_time": "2021-11-16T16:13:06.733Z"
   },
   {
    "duration": 41,
    "start_time": "2021-11-16T16:13:10.401Z"
   },
   {
    "duration": 60,
    "start_time": "2021-11-16T16:13:10.444Z"
   },
   {
    "duration": 4,
    "start_time": "2021-11-16T16:13:10.507Z"
   },
   {
    "duration": 23,
    "start_time": "2021-11-16T16:13:10.513Z"
   },
   {
    "duration": 43,
    "start_time": "2021-11-16T16:13:10.537Z"
   },
   {
    "duration": 17,
    "start_time": "2021-11-16T16:13:10.581Z"
   },
   {
    "duration": 30,
    "start_time": "2021-11-16T16:13:10.600Z"
   },
   {
    "duration": 45,
    "start_time": "2021-11-16T16:13:10.632Z"
   },
   {
    "duration": 28,
    "start_time": "2021-11-16T16:13:10.679Z"
   },
   {
    "duration": 22,
    "start_time": "2021-11-16T16:13:10.709Z"
   },
   {
    "duration": 660,
    "start_time": "2021-11-16T16:29:44.409Z"
   },
   {
    "duration": 55,
    "start_time": "2021-11-16T16:29:45.071Z"
   },
   {
    "duration": 43,
    "start_time": "2021-11-16T16:29:45.128Z"
   },
   {
    "duration": 28,
    "start_time": "2021-11-16T16:29:45.173Z"
   },
   {
    "duration": 76,
    "start_time": "2021-11-16T16:29:45.203Z"
   },
   {
    "duration": 3421,
    "start_time": "2021-11-16T16:29:45.281Z"
   },
   {
    "duration": 37,
    "start_time": "2021-11-16T16:29:48.704Z"
   },
   {
    "duration": 61,
    "start_time": "2021-11-16T16:29:48.744Z"
   },
   {
    "duration": 4,
    "start_time": "2021-11-16T16:29:48.807Z"
   },
   {
    "duration": 17,
    "start_time": "2021-11-16T16:29:48.813Z"
   },
   {
    "duration": 50,
    "start_time": "2021-11-16T16:29:48.832Z"
   },
   {
    "duration": 19,
    "start_time": "2021-11-16T16:29:48.884Z"
   },
   {
    "duration": 31,
    "start_time": "2021-11-16T16:29:48.904Z"
   },
   {
    "duration": 42,
    "start_time": "2021-11-16T16:29:48.937Z"
   },
   {
    "duration": 30,
    "start_time": "2021-11-16T16:29:48.980Z"
   },
   {
    "duration": 21,
    "start_time": "2021-11-16T16:29:49.012Z"
   },
   {
    "duration": 8,
    "start_time": "2021-11-16T16:31:56.796Z"
   },
   {
    "duration": 374,
    "start_time": "2021-11-16T16:32:14.814Z"
   },
   {
    "duration": 253,
    "start_time": "2021-11-16T16:33:58.342Z"
   },
   {
    "duration": 4,
    "start_time": "2021-11-16T16:34:12.243Z"
   },
   {
    "duration": 7,
    "start_time": "2021-11-16T16:34:34.434Z"
   },
   {
    "duration": 297,
    "start_time": "2021-11-16T16:34:42.925Z"
   },
   {
    "duration": 255,
    "start_time": "2021-11-16T16:34:47.495Z"
   },
   {
    "duration": 242,
    "start_time": "2021-11-16T16:35:39.880Z"
   },
   {
    "duration": 238,
    "start_time": "2021-11-16T16:35:59.325Z"
   },
   {
    "duration": 287,
    "start_time": "2021-11-16T16:36:03.754Z"
   },
   {
    "duration": 4,
    "start_time": "2021-11-16T16:36:15.405Z"
   },
   {
    "duration": 4,
    "start_time": "2021-11-16T16:36:44.475Z"
   },
   {
    "duration": 365,
    "start_time": "2021-11-16T16:36:58.056Z"
   },
   {
    "duration": 93,
    "start_time": "2021-11-16T16:37:53.358Z"
   },
   {
    "duration": 7,
    "start_time": "2021-11-16T16:37:56.187Z"
   },
   {
    "duration": 309,
    "start_time": "2021-11-16T16:38:10.247Z"
   },
   {
    "duration": 4,
    "start_time": "2021-11-16T16:38:38.768Z"
   },
   {
    "duration": 4,
    "start_time": "2021-11-16T16:38:46.566Z"
   },
   {
    "duration": 5,
    "start_time": "2021-11-16T16:38:56.312Z"
   },
   {
    "duration": 4,
    "start_time": "2021-11-16T16:38:59.443Z"
   },
   {
    "duration": 3,
    "start_time": "2021-11-16T16:43:23.886Z"
   },
   {
    "duration": 3,
    "start_time": "2021-11-16T16:43:41.920Z"
   },
   {
    "duration": 8,
    "start_time": "2021-11-16T16:43:45.565Z"
   },
   {
    "duration": 6,
    "start_time": "2021-11-16T16:43:51.152Z"
   },
   {
    "duration": 261,
    "start_time": "2021-11-16T16:44:06.385Z"
   },
   {
    "duration": 5,
    "start_time": "2021-11-16T16:44:20.239Z"
   },
   {
    "duration": 4,
    "start_time": "2021-11-16T16:44:22.734Z"
   },
   {
    "duration": 4,
    "start_time": "2021-11-16T16:44:25.080Z"
   },
   {
    "duration": 250,
    "start_time": "2021-11-16T16:45:02.232Z"
   },
   {
    "duration": 5,
    "start_time": "2021-11-16T16:45:34.655Z"
   },
   {
    "duration": 304,
    "start_time": "2021-11-16T16:45:47.025Z"
   },
   {
    "duration": 4,
    "start_time": "2021-11-16T16:45:55.987Z"
   },
   {
    "duration": 5,
    "start_time": "2021-11-16T16:49:05.827Z"
   },
   {
    "duration": 3,
    "start_time": "2021-11-16T16:49:28.849Z"
   },
   {
    "duration": 5,
    "start_time": "2021-11-16T16:49:34.785Z"
   },
   {
    "duration": 5,
    "start_time": "2021-11-16T16:50:15.865Z"
   },
   {
    "duration": 250,
    "start_time": "2021-11-16T16:50:25.473Z"
   },
   {
    "duration": 692,
    "start_time": "2021-11-16T16:50:34.961Z"
   },
   {
    "duration": 53,
    "start_time": "2021-11-16T16:50:35.656Z"
   },
   {
    "duration": 27,
    "start_time": "2021-11-16T16:50:35.711Z"
   },
   {
    "duration": 45,
    "start_time": "2021-11-16T16:50:35.740Z"
   },
   {
    "duration": 57,
    "start_time": "2021-11-16T16:50:35.787Z"
   },
   {
    "duration": 3521,
    "start_time": "2021-11-16T16:50:35.864Z"
   },
   {
    "duration": 3,
    "start_time": "2021-11-16T16:50:39.387Z"
   },
   {
    "duration": 312,
    "start_time": "2021-11-16T16:50:39.392Z"
   },
   {
    "duration": -863,
    "start_time": "2021-11-16T16:50:40.569Z"
   },
   {
    "duration": -863,
    "start_time": "2021-11-16T16:50:40.570Z"
   },
   {
    "duration": -864,
    "start_time": "2021-11-16T16:50:40.573Z"
   },
   {
    "duration": -864,
    "start_time": "2021-11-16T16:50:40.574Z"
   },
   {
    "duration": -865,
    "start_time": "2021-11-16T16:50:40.576Z"
   },
   {
    "duration": -866,
    "start_time": "2021-11-16T16:50:40.578Z"
   },
   {
    "duration": -867,
    "start_time": "2021-11-16T16:50:40.580Z"
   },
   {
    "duration": -867,
    "start_time": "2021-11-16T16:50:40.581Z"
   },
   {
    "duration": -868,
    "start_time": "2021-11-16T16:50:40.583Z"
   },
   {
    "duration": -868,
    "start_time": "2021-11-16T16:50:40.584Z"
   },
   {
    "duration": 736,
    "start_time": "2021-11-16T16:51:12.561Z"
   },
   {
    "duration": 58,
    "start_time": "2021-11-16T16:51:13.299Z"
   },
   {
    "duration": 28,
    "start_time": "2021-11-16T16:51:13.359Z"
   },
   {
    "duration": 29,
    "start_time": "2021-11-16T16:51:13.389Z"
   },
   {
    "duration": 68,
    "start_time": "2021-11-16T16:51:13.420Z"
   },
   {
    "duration": 4037,
    "start_time": "2021-11-16T16:51:13.489Z"
   },
   {
    "duration": 3,
    "start_time": "2021-11-16T16:51:17.528Z"
   },
   {
    "duration": 8,
    "start_time": "2021-11-16T16:51:17.534Z"
   },
   {
    "duration": 36,
    "start_time": "2021-11-16T16:51:17.564Z"
   },
   {
    "duration": 78,
    "start_time": "2021-11-16T16:51:17.602Z"
   },
   {
    "duration": 4,
    "start_time": "2021-11-16T16:51:17.682Z"
   },
   {
    "duration": 18,
    "start_time": "2021-11-16T16:51:17.688Z"
   },
   {
    "duration": 55,
    "start_time": "2021-11-16T16:51:17.708Z"
   },
   {
    "duration": 19,
    "start_time": "2021-11-16T16:51:17.765Z"
   },
   {
    "duration": 32,
    "start_time": "2021-11-16T16:51:17.787Z"
   },
   {
    "duration": 49,
    "start_time": "2021-11-16T16:51:17.821Z"
   },
   {
    "duration": 28,
    "start_time": "2021-11-16T16:51:17.872Z"
   },
   {
    "duration": 21,
    "start_time": "2021-11-16T16:51:17.901Z"
   },
   {
    "duration": 5,
    "start_time": "2021-11-16T16:52:42.578Z"
   },
   {
    "duration": 655,
    "start_time": "2021-11-16T16:53:03.003Z"
   },
   {
    "duration": 53,
    "start_time": "2021-11-16T16:53:03.660Z"
   },
   {
    "duration": 28,
    "start_time": "2021-11-16T16:53:03.715Z"
   },
   {
    "duration": 41,
    "start_time": "2021-11-16T16:53:03.745Z"
   },
   {
    "duration": 56,
    "start_time": "2021-11-16T16:53:03.788Z"
   },
   {
    "duration": 3292,
    "start_time": "2021-11-16T16:53:03.863Z"
   },
   {
    "duration": 3,
    "start_time": "2021-11-16T16:53:07.163Z"
   },
   {
    "duration": 10,
    "start_time": "2021-11-16T16:53:07.167Z"
   },
   {
    "duration": 37,
    "start_time": "2021-11-16T16:53:07.179Z"
   },
   {
    "duration": 70,
    "start_time": "2021-11-16T16:53:07.218Z"
   },
   {
    "duration": 4,
    "start_time": "2021-11-16T16:53:07.290Z"
   },
   {
    "duration": 18,
    "start_time": "2021-11-16T16:53:07.296Z"
   },
   {
    "duration": 49,
    "start_time": "2021-11-16T16:53:07.316Z"
   },
   {
    "duration": 18,
    "start_time": "2021-11-16T16:53:07.367Z"
   },
   {
    "duration": 32,
    "start_time": "2021-11-16T16:53:07.388Z"
   },
   {
    "duration": 45,
    "start_time": "2021-11-16T16:53:07.421Z"
   },
   {
    "duration": 29,
    "start_time": "2021-11-16T16:53:07.468Z"
   },
   {
    "duration": 20,
    "start_time": "2021-11-16T16:53:07.499Z"
   },
   {
    "duration": 714,
    "start_time": "2021-11-16T17:02:35.448Z"
   },
   {
    "duration": 59,
    "start_time": "2021-11-16T17:02:36.164Z"
   },
   {
    "duration": 48,
    "start_time": "2021-11-16T17:02:36.227Z"
   },
   {
    "duration": 28,
    "start_time": "2021-11-16T17:02:36.276Z"
   },
   {
    "duration": 80,
    "start_time": "2021-11-16T17:02:36.306Z"
   },
   {
    "duration": 3618,
    "start_time": "2021-11-16T17:02:36.388Z"
   },
   {
    "duration": 3,
    "start_time": "2021-11-16T17:02:40.009Z"
   },
   {
    "duration": 9,
    "start_time": "2021-11-16T17:02:40.016Z"
   },
   {
    "duration": 63,
    "start_time": "2021-11-16T17:02:40.027Z"
   },
   {
    "duration": 47,
    "start_time": "2021-11-16T17:02:40.092Z"
   },
   {
    "duration": 26,
    "start_time": "2021-11-16T17:02:40.140Z"
   },
   {
    "duration": 17,
    "start_time": "2021-11-16T17:02:40.168Z"
   },
   {
    "duration": 25,
    "start_time": "2021-11-16T17:02:40.187Z"
   },
   {
    "duration": 17,
    "start_time": "2021-11-16T17:02:40.213Z"
   },
   {
    "duration": 56,
    "start_time": "2021-11-16T17:02:40.232Z"
   },
   {
    "duration": 17,
    "start_time": "2021-11-16T17:02:40.289Z"
   },
   {
    "duration": 30,
    "start_time": "2021-11-16T17:02:40.307Z"
   },
   {
    "duration": 43,
    "start_time": "2021-11-16T17:02:40.338Z"
   },
   {
    "duration": 696,
    "start_time": "2021-11-16T17:02:48.676Z"
   },
   {
    "duration": 53,
    "start_time": "2021-11-16T17:02:49.374Z"
   },
   {
    "duration": 50,
    "start_time": "2021-11-16T17:02:49.432Z"
   },
   {
    "duration": 28,
    "start_time": "2021-11-16T17:02:49.484Z"
   },
   {
    "duration": 86,
    "start_time": "2021-11-16T17:02:49.514Z"
   },
   {
    "duration": 3474,
    "start_time": "2021-11-16T17:02:49.601Z"
   },
   {
    "duration": 3,
    "start_time": "2021-11-16T17:02:53.077Z"
   },
   {
    "duration": 11,
    "start_time": "2021-11-16T17:02:53.081Z"
   },
   {
    "duration": 44,
    "start_time": "2021-11-16T17:02:53.094Z"
   },
   {
    "duration": 54,
    "start_time": "2021-11-16T17:02:53.140Z"
   },
   {
    "duration": 5,
    "start_time": "2021-11-16T17:02:53.195Z"
   },
   {
    "duration": 21,
    "start_time": "2021-11-16T17:02:53.201Z"
   },
   {
    "duration": 22,
    "start_time": "2021-11-16T17:02:53.223Z"
   },
   {
    "duration": 15,
    "start_time": "2021-11-16T17:02:53.264Z"
   },
   {
    "duration": 30,
    "start_time": "2021-11-16T17:02:53.281Z"
   },
   {
    "duration": 13,
    "start_time": "2021-11-16T17:02:53.313Z"
   },
   {
    "duration": 56,
    "start_time": "2021-11-16T17:02:53.328Z"
   },
   {
    "duration": 21,
    "start_time": "2021-11-16T17:02:53.386Z"
   },
   {
    "duration": 18,
    "start_time": "2021-11-16T17:11:07.540Z"
   },
   {
    "duration": 31,
    "start_time": "2021-11-16T17:11:14.500Z"
   },
   {
    "duration": 22,
    "start_time": "2021-11-16T17:11:42.405Z"
   },
   {
    "duration": 93,
    "start_time": "2021-11-16T17:12:20.202Z"
   },
   {
    "duration": 18,
    "start_time": "2021-11-16T17:12:24.724Z"
   },
   {
    "duration": 31,
    "start_time": "2021-11-16T17:13:01.946Z"
   },
   {
    "duration": 786,
    "start_time": "2021-11-16T17:13:42.576Z"
   },
   {
    "duration": 55,
    "start_time": "2021-11-16T17:13:43.363Z"
   },
   {
    "duration": 42,
    "start_time": "2021-11-16T17:13:43.423Z"
   },
   {
    "duration": 29,
    "start_time": "2021-11-16T17:13:43.467Z"
   },
   {
    "duration": 83,
    "start_time": "2021-11-16T17:13:43.497Z"
   },
   {
    "duration": 3386,
    "start_time": "2021-11-16T17:13:43.582Z"
   },
   {
    "duration": 2,
    "start_time": "2021-11-16T17:13:46.971Z"
   },
   {
    "duration": 8,
    "start_time": "2021-11-16T17:13:46.976Z"
   },
   {
    "duration": 35,
    "start_time": "2021-11-16T17:13:46.985Z"
   },
   {
    "duration": 72,
    "start_time": "2021-11-16T17:13:47.021Z"
   },
   {
    "duration": 6,
    "start_time": "2021-11-16T17:13:47.095Z"
   },
   {
    "duration": 18,
    "start_time": "2021-11-16T17:13:47.102Z"
   },
   {
    "duration": 50,
    "start_time": "2021-11-16T17:13:47.121Z"
   },
   {
    "duration": 16,
    "start_time": "2021-11-16T17:13:47.172Z"
   },
   {
    "duration": 29,
    "start_time": "2021-11-16T17:13:47.190Z"
   },
   {
    "duration": 13,
    "start_time": "2021-11-16T17:13:47.221Z"
   },
   {
    "duration": 29,
    "start_time": "2021-11-16T17:13:47.264Z"
   },
   {
    "duration": 20,
    "start_time": "2021-11-16T17:13:47.295Z"
   },
   {
    "duration": 20,
    "start_time": "2021-11-16T17:14:40.978Z"
   },
   {
    "duration": 30,
    "start_time": "2021-11-16T17:16:03.954Z"
   },
   {
    "duration": 30,
    "start_time": "2021-11-16T17:16:18.354Z"
   },
   {
    "duration": 29,
    "start_time": "2021-11-16T17:16:34.960Z"
   },
   {
    "duration": 692,
    "start_time": "2021-11-16T17:24:45.262Z"
   },
   {
    "duration": 54,
    "start_time": "2021-11-16T17:24:45.956Z"
   },
   {
    "duration": 26,
    "start_time": "2021-11-16T17:24:46.012Z"
   },
   {
    "duration": 46,
    "start_time": "2021-11-16T17:24:46.041Z"
   },
   {
    "duration": 94,
    "start_time": "2021-11-16T17:24:46.089Z"
   },
   {
    "duration": 3409,
    "start_time": "2021-11-16T17:24:46.185Z"
   },
   {
    "duration": 4,
    "start_time": "2021-11-16T17:24:49.596Z"
   },
   {
    "duration": 8,
    "start_time": "2021-11-16T17:24:49.602Z"
   },
   {
    "duration": 57,
    "start_time": "2021-11-16T17:24:49.613Z"
   },
   {
    "duration": 46,
    "start_time": "2021-11-16T17:24:49.672Z"
   },
   {
    "duration": 5,
    "start_time": "2021-11-16T17:24:49.719Z"
   },
   {
    "duration": 41,
    "start_time": "2021-11-16T17:24:49.725Z"
   },
   {
    "duration": 25,
    "start_time": "2021-11-16T17:24:49.768Z"
   },
   {
    "duration": 16,
    "start_time": "2021-11-16T17:24:49.795Z"
   },
   {
    "duration": 28,
    "start_time": "2021-11-16T17:24:49.812Z"
   },
   {
    "duration": 16,
    "start_time": "2021-11-16T17:24:49.864Z"
   },
   {
    "duration": 29,
    "start_time": "2021-11-16T17:24:49.882Z"
   },
   {
    "duration": 20,
    "start_time": "2021-11-16T17:24:49.912Z"
   },
   {
    "duration": 3,
    "start_time": "2021-11-16T17:25:47.220Z"
   },
   {
    "duration": 6,
    "start_time": "2021-11-16T17:25:48.489Z"
   },
   {
    "duration": 4782,
    "start_time": "2021-11-16T17:26:37.662Z"
   },
   {
    "duration": 4308,
    "start_time": "2021-11-16T17:26:52.444Z"
   },
   {
    "duration": 33,
    "start_time": "2021-11-16T17:27:00.110Z"
   },
   {
    "duration": 660,
    "start_time": "2021-11-16T17:27:18.620Z"
   },
   {
    "duration": 56,
    "start_time": "2021-11-16T17:27:19.282Z"
   },
   {
    "duration": 42,
    "start_time": "2021-11-16T17:27:19.342Z"
   },
   {
    "duration": 28,
    "start_time": "2021-11-16T17:27:19.385Z"
   },
   {
    "duration": 85,
    "start_time": "2021-11-16T17:27:19.415Z"
   },
   {
    "duration": 3430,
    "start_time": "2021-11-16T17:27:19.502Z"
   },
   {
    "duration": 3,
    "start_time": "2021-11-16T17:27:22.934Z"
   },
   {
    "duration": 23,
    "start_time": "2021-11-16T17:27:22.940Z"
   },
   {
    "duration": 37,
    "start_time": "2021-11-16T17:27:22.965Z"
   },
   {
    "duration": 65,
    "start_time": "2021-11-16T17:27:23.004Z"
   },
   {
    "duration": 4,
    "start_time": "2021-11-16T17:27:23.071Z"
   },
   {
    "duration": 20,
    "start_time": "2021-11-16T17:27:23.076Z"
   },
   {
    "duration": 25,
    "start_time": "2021-11-16T17:27:23.097Z"
   },
   {
    "duration": 41,
    "start_time": "2021-11-16T17:27:23.124Z"
   },
   {
    "duration": 30,
    "start_time": "2021-11-16T17:27:23.166Z"
   },
   {
    "duration": 14,
    "start_time": "2021-11-16T17:27:23.197Z"
   },
   {
    "duration": 28,
    "start_time": "2021-11-16T17:27:23.212Z"
   },
   {
    "duration": 41,
    "start_time": "2021-11-16T17:27:23.241Z"
   }
  ],
  "kernelspec": {
   "display_name": "Python 3",
   "language": "python",
   "name": "python3"
  },
  "language_info": {
   "codemirror_mode": {
    "name": "ipython",
    "version": 3
   },
   "file_extension": ".py",
   "mimetype": "text/x-python",
   "name": "python",
   "nbconvert_exporter": "python",
   "pygments_lexer": "ipython3",
   "version": "3.9.2"
  },
  "toc": {
   "base_numbering": 1,
   "nav_menu": {},
   "number_sections": true,
   "sideBar": true,
   "skip_h1_title": true,
   "title_cell": "Table of Contents",
   "title_sidebar": "Contents",
   "toc_cell": false,
   "toc_position": {},
   "toc_section_display": true,
   "toc_window_display": false
  }
 },
 "nbformat": 4,
 "nbformat_minor": 2
}
