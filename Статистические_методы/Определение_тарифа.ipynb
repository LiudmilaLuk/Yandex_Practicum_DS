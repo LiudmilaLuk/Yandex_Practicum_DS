{
 "cells": [
  {
   "cell_type": "markdown",
   "metadata": {},
   "source": [
    "# Определение перспективного тарифа для телеком-компании "
   ]
  },
  {
   "cell_type": "markdown",
   "metadata": {
    "toc": true
   },
   "source": [
    "<h1>Содержание<span class=\"tocSkip\"></span></h1>\n",
    "<div class=\"toc\"><ul class=\"toc-item\"><li><span><a href=\"#Цель-проекта\" data-toc-modified-id=\"Цель-проекта-1\"><span class=\"toc-item-num\">1&nbsp;&nbsp;</span>Цель проекта</a></span><ul class=\"toc-item\"><li><span><a href=\"#Описание-тарифов\" data-toc-modified-id=\"Описание-тарифов-1.1\"><span class=\"toc-item-num\">1.1&nbsp;&nbsp;</span>Описание тарифов</a></span></li></ul></li><li><span><a href=\"#Подготовка-данных\" data-toc-modified-id=\"Подготовка-данных-2\"><span class=\"toc-item-num\">2&nbsp;&nbsp;</span>Подготовка данных</a></span><ul class=\"toc-item\"><li><span><a href=\"#Описание-датасетов\" data-toc-modified-id=\"Описание-датасетов-2.1\"><span class=\"toc-item-num\">2.1&nbsp;&nbsp;</span>Описание датасетов</a></span><ul class=\"toc-item\"><li><span><a href=\"#Информация-о-пользователях\" data-toc-modified-id=\"Информация-о-пользователях-2.1.1\"><span class=\"toc-item-num\">2.1.1&nbsp;&nbsp;</span>Информация о пользователях</a></span></li><li><span><a href=\"#Информация-о-тарифах\" data-toc-modified-id=\"Информация-о-тарифах-2.1.2\"><span class=\"toc-item-num\">2.1.2&nbsp;&nbsp;</span>Информация о тарифах</a></span></li><li><span><a href=\"#Информация-о-звонках\" data-toc-modified-id=\"Информация-о-звонках-2.1.3\"><span class=\"toc-item-num\">2.1.3&nbsp;&nbsp;</span>Информация о звонках</a></span></li><li><span><a href=\"#Информация-о-сообщениях\" data-toc-modified-id=\"Информация-о-сообщениях-2.1.4\"><span class=\"toc-item-num\">2.1.4&nbsp;&nbsp;</span>Информация о сообщениях</a></span></li><li><span><a href=\"#Информация-об-использовании-интернет-трафика\" data-toc-modified-id=\"Информация-об-использовании-интернет-трафика-2.1.5\"><span class=\"toc-item-num\">2.1.5&nbsp;&nbsp;</span>Информация об использовании интернет-трафика</a></span></li><li><span><a href=\"#Заключение\" data-toc-modified-id=\"Заключение-2.1.6\"><span class=\"toc-item-num\">2.1.6&nbsp;&nbsp;</span>Заключение</a></span></li></ul></li><li><span><a href=\"#Учет-ежемесячной-активности-пользователей\" data-toc-modified-id=\"Учет-ежемесячной-активности-пользователей-2.2\"><span class=\"toc-item-num\">2.2&nbsp;&nbsp;</span>Учет ежемесячной активности пользователей</a></span><ul class=\"toc-item\"><li><span><a href=\"#Объединение-датасетов\" data-toc-modified-id=\"Объединение-датасетов-2.2.1\"><span class=\"toc-item-num\">2.2.1&nbsp;&nbsp;</span>Объединение датасетов</a></span></li><li><span><a href=\"#Подсчет-ежемесячной-выручки-с-каждого-пользователя\" data-toc-modified-id=\"Подсчет-ежемесячной-выручки-с-каждого-пользователя-2.2.2\"><span class=\"toc-item-num\">2.2.2&nbsp;&nbsp;</span>Подсчет ежемесячной выручки с каждого пользователя</a></span></li><li><span><a href=\"#Заключение\" data-toc-modified-id=\"Заключение-2.2.3\"><span class=\"toc-item-num\">2.2.3&nbsp;&nbsp;</span>Заключение</a></span></li></ul></li></ul></li><li><span><a href=\"#Анализ-данных\" data-toc-modified-id=\"Анализ-данных-3\"><span class=\"toc-item-num\">3&nbsp;&nbsp;</span>Анализ данных</a></span><ul class=\"toc-item\"><li><span><a href=\"#Сравнение-активности-пользователей-тарифов\" data-toc-modified-id=\"Сравнение-активности-пользователей-тарифов-3.1\"><span class=\"toc-item-num\">3.1&nbsp;&nbsp;</span>Сравнение активности пользователей тарифов</a></span><ul class=\"toc-item\"><li><span><a href=\"#Заключение\" data-toc-modified-id=\"Заключение-3.1.1\"><span class=\"toc-item-num\">3.1.1&nbsp;&nbsp;</span>Заключение</a></span></li></ul></li><li><span><a href=\"#Проверка-гипотез\" data-toc-modified-id=\"Проверка-гипотез-3.2\"><span class=\"toc-item-num\">3.2&nbsp;&nbsp;</span>Проверка гипотез</a></span><ul class=\"toc-item\"><li><span><a href=\"#Сравнение-выручки-двух-тарифов\" data-toc-modified-id=\"Сравнение-выручки-двух-тарифов-3.2.1\"><span class=\"toc-item-num\">3.2.1&nbsp;&nbsp;</span>Сравнение выручки двух тарифов</a></span></li><li><span><a href=\"#Заключение\" data-toc-modified-id=\"Заключение-3.2.2\"><span class=\"toc-item-num\">3.2.2&nbsp;&nbsp;</span>Заключение</a></span></li><li><span><a href=\"#Сравнение-выручки-между-Москвой-и-другими-городами\" data-toc-modified-id=\"Сравнение-выручки-между-Москвой-и-другими-городами-3.2.3\"><span class=\"toc-item-num\">3.2.3&nbsp;&nbsp;</span>Сравнение выручки между Москвой и другими городами</a></span></li><li><span><a href=\"#Заключение\" data-toc-modified-id=\"Заключение-3.2.4\"><span class=\"toc-item-num\">3.2.4&nbsp;&nbsp;</span>Заключение</a></span></li></ul></li></ul></li><li><span><a href=\"#Общий-вывод\" data-toc-modified-id=\"Общий-вывод-4\"><span class=\"toc-item-num\">4&nbsp;&nbsp;</span>Общий вывод</a></span></li></ul></div>"
   ]
  },
  {
   "cell_type": "markdown",
   "metadata": {},
   "source": [
    "## Цель проекта"
   ]
  },
  {
   "cell_type": "markdown",
   "metadata": {},
   "source": [
    "Необходимо определить, какой из двух тарифов оператора сотовой связи \"Мегалайн\" приносит большую прибыль. Предварительный анализ проводится на выборке из 500 клиентов собранной за 2018 год. Для этого проверим две гипотезы:\n",
    "* средняя выручка пользователей тарифов «Ультра» и «Смарт» различаются;\n",
    "* средняя выручка пользователей из Москвы отличается от выручки пользователей из других регионов.\n",
    "\n",
    "### Описание тарифов\n",
    "\n",
    "Основная информация о стоимости услуг для тарифных планов \"Смарт\" и \"Ультра\" представлена в таблице:\n",
    "\n",
    "\n",
    "|                       | \"Смарт\" | \"Ультра\" |\n",
    "|-----------------------|---------|----------|\n",
    "| Ежемесячный платеж, руб.| 550 | 1950 |\n",
    "| **Предоплаченный пакет минут, смс и трафика:**|\n",
    "| | | |\n",
    "| Количество минут | 500 | 3000|\n",
    "| Количество сообщений | 50 | 1000|\n",
    "|Количество ГБ интернет-трафика | 15| 30 |\n",
    "| | | |\n",
    "|**Стоимость услуг сверх тарифного плана:**\n",
    "| Стоимость минуты разговора, руб.| 3 | 1 |\n",
    "| Стоимость сообщения, руб.| 3 | 1 |\n",
    "| Стоимость 1 ГБ интернет-трафика, руб.| 200 | 150 |"
   ]
  },
  {
   "cell_type": "markdown",
   "metadata": {},
   "source": [
    "**Примечание:**\n",
    "- Секунды  всегда округляются до минут, а мегабайты — до гигабайт. Каждый звонок округляется отдельно: даже если он длился всего 1 секунду, будет засчитан как 1 минута.\n",
    "- Для веб-трафика отдельные сессии не считаются, вместо этого общая сумма за месяц округляется в бо́льшую сторону: если абонент использует 1025 мегабайт в этом месяце, плата взимается за 2 гигабайта."
   ]
  },
  {
   "cell_type": "markdown",
   "metadata": {},
   "source": [
    "## Подготовка данных\n",
    "### Описание датасетов\n",
    "Данные о пользователях распределены по несколькими датасетам:\n",
    "* <code> /datasets/users.csv </code> содержит информацию о пользователях;\n",
    "* <code> /datasets/tariffs.csv </code> содержит информацию о тарифах используемых пользователями;\n",
    "* <code> /datasets/calls.csv </code> содержит информацию о звонках пользователей;\n",
    "* <code> /datasets/messages.csv </code> содержит информацию о сообщениях пользователей;\n",
    "* <code> /datasets/internet.csv </code> содержит информацию об интернет-трафике пользователей;\n",
    "\n",
    "Посмотрим на каждый из них в отдельности.\n",
    "#### Информация о пользователях"
   ]
  },
  {
   "cell_type": "code",
   "execution_count": 1,
   "metadata": {},
   "outputs": [
    {
     "data": {
      "text/html": [
       "<div>\n",
       "<style scoped>\n",
       "    .dataframe tbody tr th:only-of-type {\n",
       "        vertical-align: middle;\n",
       "    }\n",
       "\n",
       "    .dataframe tbody tr th {\n",
       "        vertical-align: top;\n",
       "    }\n",
       "\n",
       "    .dataframe thead th {\n",
       "        text-align: right;\n",
       "    }\n",
       "</style>\n",
       "<table border=\"1\" class=\"dataframe\">\n",
       "  <thead>\n",
       "    <tr style=\"text-align: right;\">\n",
       "      <th></th>\n",
       "      <th>user_id</th>\n",
       "      <th>age</th>\n",
       "      <th>churn_date</th>\n",
       "      <th>city</th>\n",
       "      <th>first_name</th>\n",
       "      <th>last_name</th>\n",
       "      <th>reg_date</th>\n",
       "      <th>tariff</th>\n",
       "    </tr>\n",
       "  </thead>\n",
       "  <tbody>\n",
       "    <tr>\n",
       "      <td>0</td>\n",
       "      <td>1000</td>\n",
       "      <td>52</td>\n",
       "      <td>NaN</td>\n",
       "      <td>Краснодар</td>\n",
       "      <td>Рафаил</td>\n",
       "      <td>Верещагин</td>\n",
       "      <td>2018-05-25</td>\n",
       "      <td>ultra</td>\n",
       "    </tr>\n",
       "    <tr>\n",
       "      <td>1</td>\n",
       "      <td>1001</td>\n",
       "      <td>41</td>\n",
       "      <td>NaN</td>\n",
       "      <td>Москва</td>\n",
       "      <td>Иван</td>\n",
       "      <td>Ежов</td>\n",
       "      <td>2018-11-01</td>\n",
       "      <td>smart</td>\n",
       "    </tr>\n",
       "    <tr>\n",
       "      <td>2</td>\n",
       "      <td>1002</td>\n",
       "      <td>59</td>\n",
       "      <td>NaN</td>\n",
       "      <td>Стерлитамак</td>\n",
       "      <td>Евгений</td>\n",
       "      <td>Абрамович</td>\n",
       "      <td>2018-06-17</td>\n",
       "      <td>smart</td>\n",
       "    </tr>\n",
       "    <tr>\n",
       "      <td>3</td>\n",
       "      <td>1003</td>\n",
       "      <td>23</td>\n",
       "      <td>NaN</td>\n",
       "      <td>Москва</td>\n",
       "      <td>Белла</td>\n",
       "      <td>Белякова</td>\n",
       "      <td>2018-08-17</td>\n",
       "      <td>ultra</td>\n",
       "    </tr>\n",
       "    <tr>\n",
       "      <td>4</td>\n",
       "      <td>1004</td>\n",
       "      <td>68</td>\n",
       "      <td>NaN</td>\n",
       "      <td>Новокузнецк</td>\n",
       "      <td>Татьяна</td>\n",
       "      <td>Авдеенко</td>\n",
       "      <td>2018-05-14</td>\n",
       "      <td>ultra</td>\n",
       "    </tr>\n",
       "  </tbody>\n",
       "</table>\n",
       "</div>"
      ],
      "text/plain": [
       "   user_id  age churn_date         city first_name  last_name    reg_date  \\\n",
       "0     1000   52        NaN    Краснодар     Рафаил  Верещагин  2018-05-25   \n",
       "1     1001   41        NaN       Москва       Иван       Ежов  2018-11-01   \n",
       "2     1002   59        NaN  Стерлитамак    Евгений  Абрамович  2018-06-17   \n",
       "3     1003   23        NaN       Москва      Белла   Белякова  2018-08-17   \n",
       "4     1004   68        NaN  Новокузнецк    Татьяна   Авдеенко  2018-05-14   \n",
       "\n",
       "  tariff  \n",
       "0  ultra  \n",
       "1  smart  \n",
       "2  smart  \n",
       "3  ultra  \n",
       "4  ultra  "
      ]
     },
     "metadata": {},
     "output_type": "display_data"
    },
    {
     "name": "stdout",
     "output_type": "stream",
     "text": [
      "<class 'pandas.core.frame.DataFrame'>\n",
      "RangeIndex: 500 entries, 0 to 499\n",
      "Data columns (total 8 columns):\n",
      "user_id       500 non-null int64\n",
      "age           500 non-null int64\n",
      "churn_date    38 non-null object\n",
      "city          500 non-null object\n",
      "first_name    500 non-null object\n",
      "last_name     500 non-null object\n",
      "reg_date      500 non-null object\n",
      "tariff        500 non-null object\n",
      "dtypes: int64(2), object(6)\n",
      "memory usage: 31.4+ KB\n"
     ]
    }
   ],
   "source": [
    "# импортируем все необходимые библиотеки для дальнейшего анализа:\n",
    "import pandas as pd\n",
    "from scipy import stats as st\n",
    "import matplotlib.pyplot as plt\n",
    "import numpy as np\n",
    "import seaborn as sns\n",
    "\n",
    "data_users = pd.read_csv('/datasets/users.csv')\n",
    "display(data_users.head())\n",
    "data_users.info()"
   ]
  },
  {
   "cell_type": "markdown",
   "metadata": {},
   "source": [
    "Таблица содержит пропуски, но все они относятся к одному столбцу -- churn_date (дата прекращения пользования тарифом). Пропуски в этом столбце означают, что на момент выгрузки данных тариф еще действовал. Ненулевые значения в этом столбце являются датой. Тип данных в churn_date и reg_date заменим на datetime."
   ]
  },
  {
   "cell_type": "code",
   "execution_count": 2,
   "metadata": {},
   "outputs": [
    {
     "data": {
      "image/png": "[encoded data removed]",
      "text/plain": [
       "<Figure size 432x288 with 1 Axes>"
      ]
     },
     "metadata": {
      "needs_background": "light"
     },
     "output_type": "display_data"
    }
   ],
   "source": [
    "data_users[['churn_date','reg_date']] = data_users[['churn_date','reg_date']].apply(\n",
    "    lambda tmp: pd.to_datetime(tmp))\n",
    "s = sns.distplot(data_users['age'], kde=False, bins=30,\n",
    "                hist_kws=dict(edgecolor='w', linewidth=0.1, alpha=1),\n",
    "                 color='seagreen') # один бин = 2 года\n",
    "s.set(xlabel='Возраст клиента, годы', title='Распределение возрастов клиентов', xlim=(16, 76))\n",
    "plt.grid()\n",
    "plt.show()"
   ]
  },
  {
   "cell_type": "markdown",
   "metadata": {},
   "source": [
    "Распределение по возрастам клиентов равномерное, странных значений незаметно."
   ]
  },
  {
   "cell_type": "markdown",
   "metadata": {},
   "source": [
    "#### Информация о тарифах"
   ]
  },
  {
   "cell_type": "code",
   "execution_count": 3,
   "metadata": {},
   "outputs": [
    {
     "data": {
      "text/html": [
       "<div>\n",
       "<style scoped>\n",
       "    .dataframe tbody tr th:only-of-type {\n",
       "        vertical-align: middle;\n",
       "    }\n",
       "\n",
       "    .dataframe tbody tr th {\n",
       "        vertical-align: top;\n",
       "    }\n",
       "\n",
       "    .dataframe thead th {\n",
       "        text-align: right;\n",
       "    }\n",
       "</style>\n",
       "<table border=\"1\" class=\"dataframe\">\n",
       "  <thead>\n",
       "    <tr style=\"text-align: right;\">\n",
       "      <th></th>\n",
       "      <th>messages_included</th>\n",
       "      <th>mb_per_month_included</th>\n",
       "      <th>minutes_included</th>\n",
       "      <th>rub_monthly_fee</th>\n",
       "      <th>rub_per_gb</th>\n",
       "      <th>rub_per_message</th>\n",
       "      <th>rub_per_minute</th>\n",
       "      <th>tariff_name</th>\n",
       "    </tr>\n",
       "  </thead>\n",
       "  <tbody>\n",
       "    <tr>\n",
       "      <td>0</td>\n",
       "      <td>50</td>\n",
       "      <td>15360</td>\n",
       "      <td>500</td>\n",
       "      <td>550</td>\n",
       "      <td>200</td>\n",
       "      <td>3</td>\n",
       "      <td>3</td>\n",
       "      <td>smart</td>\n",
       "    </tr>\n",
       "    <tr>\n",
       "      <td>1</td>\n",
       "      <td>1000</td>\n",
       "      <td>30720</td>\n",
       "      <td>3000</td>\n",
       "      <td>1950</td>\n",
       "      <td>150</td>\n",
       "      <td>1</td>\n",
       "      <td>1</td>\n",
       "      <td>ultra</td>\n",
       "    </tr>\n",
       "  </tbody>\n",
       "</table>\n",
       "</div>"
      ],
      "text/plain": [
       "   messages_included  mb_per_month_included  minutes_included  \\\n",
       "0                 50                  15360               500   \n",
       "1               1000                  30720              3000   \n",
       "\n",
       "   rub_monthly_fee  rub_per_gb  rub_per_message  rub_per_minute tariff_name  \n",
       "0              550         200                3               3       smart  \n",
       "1             1950         150                1               1       ultra  "
      ]
     },
     "metadata": {},
     "output_type": "display_data"
    },
    {
     "name": "stdout",
     "output_type": "stream",
     "text": [
      "<class 'pandas.core.frame.DataFrame'>\n",
      "RangeIndex: 2 entries, 0 to 1\n",
      "Data columns (total 8 columns):\n",
      "messages_included        2 non-null int64\n",
      "mb_per_month_included    2 non-null int64\n",
      "minutes_included         2 non-null int64\n",
      "rub_monthly_fee          2 non-null int64\n",
      "rub_per_gb               2 non-null int64\n",
      "rub_per_message          2 non-null int64\n",
      "rub_per_minute           2 non-null int64\n",
      "tariff_name              2 non-null object\n",
      "dtypes: int64(7), object(1)\n",
      "memory usage: 256.0+ bytes\n"
     ]
    }
   ],
   "source": [
    "data_tariffs = pd.read_csv('/datasets/tariffs.csv')\n",
    "display(data_tariffs.head())\n",
    "data_tariffs.info()"
   ]
  },
  {
   "cell_type": "markdown",
   "metadata": {},
   "source": [
    "В этой таблице собрана основная информация от тарифах: абонентская плата, число предоплаченных смс и тд."
   ]
  },
  {
   "cell_type": "markdown",
   "metadata": {},
   "source": [
    "#### Информация о звонках"
   ]
  },
  {
   "cell_type": "code",
   "execution_count": 4,
   "metadata": {},
   "outputs": [
    {
     "data": {
      "text/html": [
       "<div>\n",
       "<style scoped>\n",
       "    .dataframe tbody tr th:only-of-type {\n",
       "        vertical-align: middle;\n",
       "    }\n",
       "\n",
       "    .dataframe tbody tr th {\n",
       "        vertical-align: top;\n",
       "    }\n",
       "\n",
       "    .dataframe thead th {\n",
       "        text-align: right;\n",
       "    }\n",
       "</style>\n",
       "<table border=\"1\" class=\"dataframe\">\n",
       "  <thead>\n",
       "    <tr style=\"text-align: right;\">\n",
       "      <th></th>\n",
       "      <th>id</th>\n",
       "      <th>call_date</th>\n",
       "      <th>duration</th>\n",
       "      <th>user_id</th>\n",
       "    </tr>\n",
       "  </thead>\n",
       "  <tbody>\n",
       "    <tr>\n",
       "      <td>0</td>\n",
       "      <td>1000_0</td>\n",
       "      <td>2018-07-25</td>\n",
       "      <td>0.00</td>\n",
       "      <td>1000</td>\n",
       "    </tr>\n",
       "    <tr>\n",
       "      <td>1</td>\n",
       "      <td>1000_1</td>\n",
       "      <td>2018-08-17</td>\n",
       "      <td>0.00</td>\n",
       "      <td>1000</td>\n",
       "    </tr>\n",
       "    <tr>\n",
       "      <td>2</td>\n",
       "      <td>1000_2</td>\n",
       "      <td>2018-06-11</td>\n",
       "      <td>2.85</td>\n",
       "      <td>1000</td>\n",
       "    </tr>\n",
       "    <tr>\n",
       "      <td>3</td>\n",
       "      <td>1000_3</td>\n",
       "      <td>2018-09-21</td>\n",
       "      <td>13.80</td>\n",
       "      <td>1000</td>\n",
       "    </tr>\n",
       "    <tr>\n",
       "      <td>4</td>\n",
       "      <td>1000_4</td>\n",
       "      <td>2018-12-15</td>\n",
       "      <td>5.18</td>\n",
       "      <td>1000</td>\n",
       "    </tr>\n",
       "  </tbody>\n",
       "</table>\n",
       "</div>"
      ],
      "text/plain": [
       "       id   call_date  duration  user_id\n",
       "0  1000_0  2018-07-25      0.00     1000\n",
       "1  1000_1  2018-08-17      0.00     1000\n",
       "2  1000_2  2018-06-11      2.85     1000\n",
       "3  1000_3  2018-09-21     13.80     1000\n",
       "4  1000_4  2018-12-15      5.18     1000"
      ]
     },
     "metadata": {},
     "output_type": "display_data"
    },
    {
     "name": "stdout",
     "output_type": "stream",
     "text": [
      "<class 'pandas.core.frame.DataFrame'>\n",
      "RangeIndex: 202607 entries, 0 to 202606\n",
      "Data columns (total 4 columns):\n",
      "id           202607 non-null object\n",
      "call_date    202607 non-null object\n",
      "duration     202607 non-null float64\n",
      "user_id      202607 non-null int64\n",
      "dtypes: float64(1), int64(1), object(2)\n",
      "memory usage: 6.2+ MB\n"
     ]
    }
   ],
   "source": [
    "data_calls = pd.read_csv('/datasets/calls.csv')\n",
    "display(data_calls.head())\n",
    "data_calls.info()"
   ]
  },
  {
   "cell_type": "markdown",
   "metadata": {},
   "source": [
    "Заменим тип данных в столбце call_date, изменим название столбца id на id_calls и посмотрим на распределение продолжительности звонков:"
   ]
  },
  {
   "cell_type": "code",
   "execution_count": 5,
   "metadata": {},
   "outputs": [
    {
     "data": {
      "image/png": "[encoded data removed]",
      "text/plain": [
       "<Figure size 432x288 with 1 Axes>"
      ]
     },
     "metadata": {
      "needs_background": "light"
     },
     "output_type": "display_data"
    }
   ],
   "source": [
    "data_calls['call_date'] = pd.to_datetime(data_calls['call_date'])\n",
    "data_calls = data_calls.rename(columns={'id': 'id_calls'})\n",
    "\n",
    "s = sns.distplot(data_calls['duration'], kde=False, bins=30,\n",
    "                 hist_kws=dict(edgecolor='w', linewidth=0.1, alpha=1),\n",
    "                 color='seagreen') # один бин = 1 минута\n",
    "s.set(xlabel='Продолжительность звонков, мин.', title='Распределение продолжительности звонков', xlim=(0,30))\n",
    "plt.grid()\n",
    "plt.show()"
   ]
  },
  {
   "cell_type": "markdown",
   "metadata": {},
   "source": [
    "В распределении продолжительности звонков заметен большой пик в нуле. Он соответсвует пропущенным звонкам."
   ]
  },
  {
   "cell_type": "markdown",
   "metadata": {},
   "source": [
    "#### Информация о сообщениях"
   ]
  },
  {
   "cell_type": "code",
   "execution_count": 6,
   "metadata": {},
   "outputs": [
    {
     "data": {
      "text/html": [
       "<div>\n",
       "<style scoped>\n",
       "    .dataframe tbody tr th:only-of-type {\n",
       "        vertical-align: middle;\n",
       "    }\n",
       "\n",
       "    .dataframe tbody tr th {\n",
       "        vertical-align: top;\n",
       "    }\n",
       "\n",
       "    .dataframe thead th {\n",
       "        text-align: right;\n",
       "    }\n",
       "</style>\n",
       "<table border=\"1\" class=\"dataframe\">\n",
       "  <thead>\n",
       "    <tr style=\"text-align: right;\">\n",
       "      <th></th>\n",
       "      <th>id</th>\n",
       "      <th>message_date</th>\n",
       "      <th>user_id</th>\n",
       "    </tr>\n",
       "  </thead>\n",
       "  <tbody>\n",
       "    <tr>\n",
       "      <td>0</td>\n",
       "      <td>1000_0</td>\n",
       "      <td>2018-06-27</td>\n",
       "      <td>1000</td>\n",
       "    </tr>\n",
       "    <tr>\n",
       "      <td>1</td>\n",
       "      <td>1000_1</td>\n",
       "      <td>2018-10-08</td>\n",
       "      <td>1000</td>\n",
       "    </tr>\n",
       "    <tr>\n",
       "      <td>2</td>\n",
       "      <td>1000_2</td>\n",
       "      <td>2018-08-04</td>\n",
       "      <td>1000</td>\n",
       "    </tr>\n",
       "    <tr>\n",
       "      <td>3</td>\n",
       "      <td>1000_3</td>\n",
       "      <td>2018-06-16</td>\n",
       "      <td>1000</td>\n",
       "    </tr>\n",
       "    <tr>\n",
       "      <td>4</td>\n",
       "      <td>1000_4</td>\n",
       "      <td>2018-12-05</td>\n",
       "      <td>1000</td>\n",
       "    </tr>\n",
       "  </tbody>\n",
       "</table>\n",
       "</div>"
      ],
      "text/plain": [
       "       id message_date  user_id\n",
       "0  1000_0   2018-06-27     1000\n",
       "1  1000_1   2018-10-08     1000\n",
       "2  1000_2   2018-08-04     1000\n",
       "3  1000_3   2018-06-16     1000\n",
       "4  1000_4   2018-12-05     1000"
      ]
     },
     "metadata": {},
     "output_type": "display_data"
    },
    {
     "name": "stdout",
     "output_type": "stream",
     "text": [
      "<class 'pandas.core.frame.DataFrame'>\n",
      "RangeIndex: 123036 entries, 0 to 123035\n",
      "Data columns (total 3 columns):\n",
      "id              123036 non-null object\n",
      "message_date    123036 non-null object\n",
      "user_id         123036 non-null int64\n",
      "dtypes: int64(1), object(2)\n",
      "memory usage: 2.8+ MB\n"
     ]
    }
   ],
   "source": [
    "data_messages = pd.read_csv('/datasets/messages.csv')\n",
    "display(data_messages.head())\n",
    "data_messages.info()"
   ]
  },
  {
   "cell_type": "markdown",
   "metadata": {},
   "source": [
    "Изменим тип данных в столбце message_date и заменим название столбца id на id_messages."
   ]
  },
  {
   "cell_type": "code",
   "execution_count": 7,
   "metadata": {},
   "outputs": [],
   "source": [
    "data_messages['message_date'] = pd.to_datetime(data_messages['message_date'])\n",
    "data_messages = data_messages.rename(columns={'id': 'id_messages'})"
   ]
  },
  {
   "cell_type": "code",
   "execution_count": 8,
   "metadata": {},
   "outputs": [
    {
     "data": {
      "image/png": "[encoded data removed]",
      "text/plain": [
       "<Figure size 432x288 with 1 Axes>"
      ]
     },
     "metadata": {
      "needs_background": "light"
     },
     "output_type": "display_data"
    }
   ],
   "source": [
    "s=sns.distplot(data_messages['user_id'], bins=25, kde=False,\n",
    "              hist_kws=dict(edgecolor='w', linewidth=0.1, alpha=1),\n",
    "                 color='seagreen')\n",
    "s.set(xlim=(1000,1500), xlabel='Идентификатор пользователя',\n",
    "      title='Распределение числа отправленных сообщений каждым пользователем')\n",
    "plt.grid()\n",
    "plt.show()"
   ]
  },
  {
   "cell_type": "markdown",
   "metadata": {},
   "source": [
    "В целом, распределение равномерное: нет больших выбросов, некоторые пользователи более активные, некоторые -- менее."
   ]
  },
  {
   "cell_type": "markdown",
   "metadata": {},
   "source": [
    "#### Информация об использовании интернет-трафика"
   ]
  },
  {
   "cell_type": "code",
   "execution_count": 9,
   "metadata": {},
   "outputs": [
    {
     "data": {
      "text/html": [
       "<div>\n",
       "<style scoped>\n",
       "    .dataframe tbody tr th:only-of-type {\n",
       "        vertical-align: middle;\n",
       "    }\n",
       "\n",
       "    .dataframe tbody tr th {\n",
       "        vertical-align: top;\n",
       "    }\n",
       "\n",
       "    .dataframe thead th {\n",
       "        text-align: right;\n",
       "    }\n",
       "</style>\n",
       "<table border=\"1\" class=\"dataframe\">\n",
       "  <thead>\n",
       "    <tr style=\"text-align: right;\">\n",
       "      <th></th>\n",
       "      <th>id</th>\n",
       "      <th>mb_used</th>\n",
       "      <th>session_date</th>\n",
       "      <th>user_id</th>\n",
       "    </tr>\n",
       "  </thead>\n",
       "  <tbody>\n",
       "    <tr>\n",
       "      <td>0</td>\n",
       "      <td>1000_0</td>\n",
       "      <td>112.95</td>\n",
       "      <td>2018-11-25</td>\n",
       "      <td>1000</td>\n",
       "    </tr>\n",
       "    <tr>\n",
       "      <td>1</td>\n",
       "      <td>1000_1</td>\n",
       "      <td>1052.81</td>\n",
       "      <td>2018-09-07</td>\n",
       "      <td>1000</td>\n",
       "    </tr>\n",
       "    <tr>\n",
       "      <td>2</td>\n",
       "      <td>1000_2</td>\n",
       "      <td>1197.26</td>\n",
       "      <td>2018-06-25</td>\n",
       "      <td>1000</td>\n",
       "    </tr>\n",
       "    <tr>\n",
       "      <td>3</td>\n",
       "      <td>1000_3</td>\n",
       "      <td>550.27</td>\n",
       "      <td>2018-08-22</td>\n",
       "      <td>1000</td>\n",
       "    </tr>\n",
       "    <tr>\n",
       "      <td>4</td>\n",
       "      <td>1000_4</td>\n",
       "      <td>302.56</td>\n",
       "      <td>2018-09-24</td>\n",
       "      <td>1000</td>\n",
       "    </tr>\n",
       "    <tr>\n",
       "      <td>5</td>\n",
       "      <td>1000_5</td>\n",
       "      <td>399.97</td>\n",
       "      <td>2018-10-02</td>\n",
       "      <td>1000</td>\n",
       "    </tr>\n",
       "    <tr>\n",
       "      <td>6</td>\n",
       "      <td>1000_6</td>\n",
       "      <td>540.08</td>\n",
       "      <td>2018-09-07</td>\n",
       "      <td>1000</td>\n",
       "    </tr>\n",
       "    <tr>\n",
       "      <td>7</td>\n",
       "      <td>1000_7</td>\n",
       "      <td>415.70</td>\n",
       "      <td>2018-07-11</td>\n",
       "      <td>1000</td>\n",
       "    </tr>\n",
       "    <tr>\n",
       "      <td>8</td>\n",
       "      <td>1000_8</td>\n",
       "      <td>505.40</td>\n",
       "      <td>2018-10-08</td>\n",
       "      <td>1000</td>\n",
       "    </tr>\n",
       "    <tr>\n",
       "      <td>9</td>\n",
       "      <td>1000_9</td>\n",
       "      <td>345.54</td>\n",
       "      <td>2018-09-03</td>\n",
       "      <td>1000</td>\n",
       "    </tr>\n",
       "  </tbody>\n",
       "</table>\n",
       "</div>"
      ],
      "text/plain": [
       "       id  mb_used session_date  user_id\n",
       "0  1000_0   112.95   2018-11-25     1000\n",
       "1  1000_1  1052.81   2018-09-07     1000\n",
       "2  1000_2  1197.26   2018-06-25     1000\n",
       "3  1000_3   550.27   2018-08-22     1000\n",
       "4  1000_4   302.56   2018-09-24     1000\n",
       "5  1000_5   399.97   2018-10-02     1000\n",
       "6  1000_6   540.08   2018-09-07     1000\n",
       "7  1000_7   415.70   2018-07-11     1000\n",
       "8  1000_8   505.40   2018-10-08     1000\n",
       "9  1000_9   345.54   2018-09-03     1000"
      ]
     },
     "metadata": {},
     "output_type": "display_data"
    },
    {
     "name": "stdout",
     "output_type": "stream",
     "text": [
      "0\n",
      "<class 'pandas.core.frame.DataFrame'>\n",
      "Int64Index: 149396 entries, 0 to 149395\n",
      "Data columns (total 4 columns):\n",
      "id              149396 non-null object\n",
      "mb_used         149396 non-null float64\n",
      "session_date    149396 non-null object\n",
      "user_id         149396 non-null int64\n",
      "dtypes: float64(1), int64(1), object(2)\n",
      "memory usage: 5.7+ MB\n"
     ]
    }
   ],
   "source": [
    "data_internet = pd.read_csv('/datasets/internet.csv',  index_col=0)\n",
    "display(data_internet.head(10))\n",
    "print(data_internet.duplicated().sum())\n",
    "data_internet.info()"
   ]
  },
  {
   "cell_type": "markdown",
   "metadata": {},
   "source": [
    "В таблице есть странный столбец \"Unnamed: 0\": в исходных данных есть безымянный столбец с индексами. Перезагрузим таблицу без этого столбца:"
   ]
  },
  {
   "cell_type": "code",
   "execution_count": 10,
   "metadata": {},
   "outputs": [],
   "source": [
    "data_internet = pd.read_csv('/datasets/internet.csv',  index_col=0)"
   ]
  },
  {
   "cell_type": "code",
   "execution_count": 11,
   "metadata": {},
   "outputs": [],
   "source": [
    "data_internet['session_date'] = pd.to_datetime(data_internet['session_date'], format='%Y-%m-%d')\n",
    "data_internet = data_internet.rename(columns={'id': 'id_internet'})"
   ]
  },
  {
   "cell_type": "code",
   "execution_count": 12,
   "metadata": {},
   "outputs": [
    {
     "data": {
      "image/png": "[encoded data removed]",
      "text/plain": [
       "<Figure size 432x288 with 1 Axes>"
      ]
     },
     "metadata": {
      "needs_background": "light"
     },
     "output_type": "display_data"
    }
   ],
   "source": [
    "s = sns.distplot(data_internet['mb_used'],  bins=50, kde=False,\n",
    "                hist_kws=dict(edgecolor='w', linewidth=0.1, alpha=1),\n",
    "                 color='seagreen')\n",
    "s.set(xlim=(0, 1300), xlabel='Объём использованного интернет-трафика, МБ', \n",
    "     title='Распределение объёма используемого интернет-трафика')\n",
    "plt.grid()\n",
    "plt.show()"
   ]
  },
  {
   "cell_type": "code",
   "execution_count": 13,
   "metadata": {},
   "outputs": [
    {
     "data": {
      "image/png": "[encoded data removed]",
      "text/plain": [
       "<Figure size 432x432 with 4 Axes>"
      ]
     },
     "metadata": {
      "needs_background": "light"
     },
     "output_type": "display_data"
    },
    {
     "data": {
      "image/png": "[encoded data removed]",
      "text/plain": [
       "<Figure size 360x360 with 1 Axes>"
      ]
     },
     "metadata": {
      "needs_background": "light"
     },
     "output_type": "display_data"
    }
   ],
   "source": [
    "s = sns.jointplot(x='mb_used', y='user_id', data=data_internet,\n",
    "                  kind='hex', color='g')\n",
    "s.set_axis_labels('Объём используемого трафика, МБ', 'Идентификатор пользователя')\n",
    "s.fig.suptitle(\n",
    "    'Распределение объёма используемого интернет-трафика в зависимости от идентификатора пользователя')\n",
    "plt.colorbar()\n",
    "plt.show()\n",
    "\n",
    "data_internet['monthly_activity'] = data_internet['session_date'].dt.month\n",
    "\n",
    "s = sns.catplot(x='monthly_activity', y='mb_used', kind='bar', ci=None, estimator=sum, data=data_internet,\n",
    "                color='g')\n",
    "s.set(title='Распределение объёма используемого интернет-трафика в зависимости от даты сессии',)\n",
    "s.set_axis_labels('Номер месяца', 'Суммарное количество трафика, МБ')\n",
    "plt.show()"
   ]
  },
  {
   "cell_type": "markdown",
   "metadata": {},
   "source": [
    "Распределение трафика в целом выглядит нормальным, однако здесь тоже присутствует пик в нуле. При этом никакой неоднородности в распределениях нулевого трафика по пользователям не видно: так или иначе, все пользователи имеют дни с нулевым объёмом используемого трафика. Возможно, это пик появляется для тех интернет-сессий,при которых был активирован мобильный интернет, но при этом подключение не использовалось. Возможно, был день, когда интернет не работал у подавляющего большинства пользователей. Попробуем его определить."
   ]
  },
  {
   "cell_type": "code",
   "execution_count": 14,
   "metadata": {},
   "outputs": [
    {
     "data": {
      "image/png": "[encoded data removed]",
      "text/plain": [
       "<Figure size 360x360 with 1 Axes>"
      ]
     },
     "metadata": {
      "needs_background": "light"
     },
     "output_type": "display_data"
    },
    {
     "name": "stdout",
     "output_type": "stream",
     "text": [
      "Число активных пользователей 2018-01-01: 2\n",
      "Число активных пользователей 2018-12-31: 353\n"
     ]
    }
   ],
   "source": [
    "tmp = data_internet.pivot_table(index='session_date', values = 'user_id',\n",
    "                                aggfunc=lambda x: len(x.unique())).reset_index()\n",
    "\n",
    "counter = 0 \n",
    "ticks_list = []\n",
    "for i in range(0, len(tmp['session_date']), 76):\n",
    "    if counter < 5:\n",
    "        ticks_list.append(str(tmp['session_date'][i].date()))\n",
    "        counter+=1\n",
    "        \n",
    "s = sns.catplot(x='session_date', y='user_id', data=tmp, palette='viridis')\n",
    "s.set(xticks=np.arange(1,(tmp['session_date'].count()+15),76))\n",
    "s.set_xticklabels(ticks_list, rotation = -60)\n",
    "s.set(title='Изменение количества активных пользователей в зависимости от даты')\n",
    "s.set_axis_labels('Дата (год-месяц-число)', 'Число активных уникальных пользователей')\n",
    "plt.grid()\n",
    "plt.show()\n",
    "\n",
    "print('Число активных пользователей 2018-01-01:',\n",
    "      tmp['user_id'][0])\n",
    "print('Число активных пользователей 2018-12-31:',\n",
    "      tmp['user_id'][364])"
   ]
  },
  {
   "cell_type": "markdown",
   "metadata": {},
   "source": [
    "Количество пользователей в течение года растет, при этом сильного колебания (падения количества трафика до нуля или проседания точек) в количестве потребляемого трафика незаметно. Значит, выброс в нуле отвечает ситуации, когда у пользователя интернет-соедениение было включено, но не использовалось. И такие моменты равномерно распределены по времени и по id пользователя."
   ]
  },
  {
   "cell_type": "markdown",
   "metadata": {},
   "source": [
    "#### Заключение\n",
    "Мы рассмотрели все 5 исходных датасетов содержащих информацию об активности пользователей и информацию об условиях изучаемых тарифных планов. Во всех таблицах с информацией по активности пользователей (число потраченных минут, количество использованого интернет-трафика и сообщений) был изменен тип переменных в столбцах, содержащих информацию о дате события (дату отключения тарифа, дату отправки сообщения и тд.). Также в таблице <code>/datasets/internet.csv</code> был удален лишний столбец Unnamed:0, который содержал номера индексов строк. В таблицах с информацией об интернет-сессиях пользователя, его звонках и сообщениях столбцы с id соответсвующей активности были переименованы в <code>id_[название активности]</code> для удобства дальнейшего использования.\n",
    "    \n",
    "\n",
    "Количество сообщений отправленное каждым пользователем и возраст пользователей распределены равномерно. Объем используемого трафика и продолжительность звонков имеют формы схожие с нормальным распределением, однако в обоих случаях заметен большой пик в районе 0. Эти пики можно объяснить следующим образом:\n",
    "* нулевая продолжнительность звонков соответсвует пропущенным вызовам;\n",
    "* интернет-сессии с нулевым объёмом соответсвуют случаям, когда доступ в интернет был активирован, но не использовался;\n",
    "\n",
    "Все таблицы (кроме таблицы с данными о тарифе) имеют столбец id_user, по которому их можно совместить для удобства дальнейшего анализа."
   ]
  },
  {
   "cell_type": "markdown",
   "metadata": {},
   "source": [
    "### Учет ежемесячной активности пользователей"
   ]
  },
  {
   "cell_type": "markdown",
   "metadata": {},
   "source": [
    "В дальнейшем хотелось бы оценить, как изменяется активность пользователей со временем. Для удобства оценки добавим в каждую таблицу столбец с номером месяца, в который происходит некоторая активность."
   ]
  },
  {
   "cell_type": "code",
   "execution_count": 15,
   "metadata": {},
   "outputs": [],
   "source": [
    "#data_calls['monthly_activity'] = data_calls['call_date'].dt.month\n",
    "#data_messages['monthly_activity'] = data_messages['message_date'].dt.month\n",
    "#****************************\n",
    "# обновленный вариант:\n",
    "#****************************\n",
    "data_calls['monthly_activity'] = data_calls['call_date'].astype('datetime64[M]')\n",
    "data_messages['monthly_activity'] = data_messages['message_date'].astype('datetime64[M]')\n",
    "data_internet['monthly_activity'] = data_internet['session_date'].astype('datetime64[M]')\n"
   ]
  },
  {
   "cell_type": "markdown",
   "metadata": {},
   "source": [
    "Подсчитаем ежемесячную активность каждого пользователя:"
   ]
  },
  {
   "cell_type": "code",
   "execution_count": 16,
   "metadata": {},
   "outputs": [
    {
     "data": {
      "text/html": [
       "<div>\n",
       "<style scoped>\n",
       "    .dataframe tbody tr th:only-of-type {\n",
       "        vertical-align: middle;\n",
       "    }\n",
       "\n",
       "    .dataframe tbody tr th {\n",
       "        vertical-align: top;\n",
       "    }\n",
       "\n",
       "    .dataframe thead th {\n",
       "        text-align: right;\n",
       "    }\n",
       "</style>\n",
       "<table border=\"1\" class=\"dataframe\">\n",
       "  <thead>\n",
       "    <tr style=\"text-align: right;\">\n",
       "      <th></th>\n",
       "      <th>user_id</th>\n",
       "      <th>monthly_activity</th>\n",
       "      <th>calls_total</th>\n",
       "      <th>duration_total</th>\n",
       "    </tr>\n",
       "  </thead>\n",
       "  <tbody>\n",
       "    <tr>\n",
       "      <td>0</td>\n",
       "      <td>1000</td>\n",
       "      <td>2018-05-01</td>\n",
       "      <td>22</td>\n",
       "      <td>159.0</td>\n",
       "    </tr>\n",
       "    <tr>\n",
       "      <td>1</td>\n",
       "      <td>1000</td>\n",
       "      <td>2018-06-01</td>\n",
       "      <td>43</td>\n",
       "      <td>172.0</td>\n",
       "    </tr>\n",
       "    <tr>\n",
       "      <td>2</td>\n",
       "      <td>1000</td>\n",
       "      <td>2018-07-01</td>\n",
       "      <td>47</td>\n",
       "      <td>340.0</td>\n",
       "    </tr>\n",
       "    <tr>\n",
       "      <td>3</td>\n",
       "      <td>1000</td>\n",
       "      <td>2018-08-01</td>\n",
       "      <td>52</td>\n",
       "      <td>408.0</td>\n",
       "    </tr>\n",
       "    <tr>\n",
       "      <td>4</td>\n",
       "      <td>1000</td>\n",
       "      <td>2018-09-01</td>\n",
       "      <td>58</td>\n",
       "      <td>466.0</td>\n",
       "    </tr>\n",
       "    <tr>\n",
       "      <td>...</td>\n",
       "      <td>...</td>\n",
       "      <td>...</td>\n",
       "      <td>...</td>\n",
       "      <td>...</td>\n",
       "    </tr>\n",
       "    <tr>\n",
       "      <td>3169</td>\n",
       "      <td>1498</td>\n",
       "      <td>2018-10-01</td>\n",
       "      <td>41</td>\n",
       "      <td>247.0</td>\n",
       "    </tr>\n",
       "    <tr>\n",
       "      <td>3170</td>\n",
       "      <td>1499</td>\n",
       "      <td>2018-09-01</td>\n",
       "      <td>9</td>\n",
       "      <td>70.0</td>\n",
       "    </tr>\n",
       "    <tr>\n",
       "      <td>3171</td>\n",
       "      <td>1499</td>\n",
       "      <td>2018-10-01</td>\n",
       "      <td>68</td>\n",
       "      <td>449.0</td>\n",
       "    </tr>\n",
       "    <tr>\n",
       "      <td>3172</td>\n",
       "      <td>1499</td>\n",
       "      <td>2018-11-01</td>\n",
       "      <td>74</td>\n",
       "      <td>612.0</td>\n",
       "    </tr>\n",
       "    <tr>\n",
       "      <td>3173</td>\n",
       "      <td>1499</td>\n",
       "      <td>2018-12-01</td>\n",
       "      <td>69</td>\n",
       "      <td>492.0</td>\n",
       "    </tr>\n",
       "  </tbody>\n",
       "</table>\n",
       "<p>3174 rows × 4 columns</p>\n",
       "</div>"
      ],
      "text/plain": [
       "      user_id monthly_activity  calls_total  duration_total\n",
       "0        1000       2018-05-01           22           159.0\n",
       "1        1000       2018-06-01           43           172.0\n",
       "2        1000       2018-07-01           47           340.0\n",
       "3        1000       2018-08-01           52           408.0\n",
       "4        1000       2018-09-01           58           466.0\n",
       "...       ...              ...          ...             ...\n",
       "3169     1498       2018-10-01           41           247.0\n",
       "3170     1499       2018-09-01            9            70.0\n",
       "3171     1499       2018-10-01           68           449.0\n",
       "3172     1499       2018-11-01           74           612.0\n",
       "3173     1499       2018-12-01           69           492.0\n",
       "\n",
       "[3174 rows x 4 columns]"
      ]
     },
     "metadata": {},
     "output_type": "display_data"
    }
   ],
   "source": [
    "data_calls['duration'] = np.ceil(data_calls['duration']) # округлим значения длительностей до целых минут\n",
    "calls_stat = data_calls.pivot_table(index=['user_id', 'monthly_activity'],\n",
    "                                    values='duration', aggfunc=('count', 'sum')).reset_index()\n",
    "calls_stat = calls_stat.rename(columns={'count': 'calls_total', 'sum': 'duration_total'})\n",
    "messages_stat = data_messages.pivot_table(index=['user_id', 'monthly_activity'],\n",
    "                                    values='message_date', aggfunc='count').reset_index()\n",
    "messages_stat = messages_stat.rename(columns={'message_date': 'message_total'})\n",
    "internet_stat = data_internet.pivot_table(index=['user_id', 'monthly_activity'],\n",
    "                                    values='mb_used', aggfunc=('sum')).reset_index()\n",
    "display(calls_stat)"
   ]
  },
  {
   "cell_type": "markdown",
   "metadata": {},
   "source": [
    "#### Объединение датасетов\n"
   ]
  },
  {
   "cell_type": "markdown",
   "metadata": {},
   "source": [
    "У нас имеется несколько разрозненных таблиц с различной информацией об активности пользователей. Объединим их по столбцу user_id с таблицей, которая содержит информацию о пользователях. \n",
    "\n",
    "Проранжируем все датасеты по количеству уникальных id пользователей:"
   ]
  },
  {
   "cell_type": "code",
   "execution_count": 17,
   "metadata": {},
   "outputs": [
    {
     "name": "stdout",
     "output_type": "stream",
     "text": [
      "500 492 426 497\n"
     ]
    }
   ],
   "source": [
    "users_list = data_users['user_id'].unique().tolist()\n",
    "calls_list = data_calls['user_id'].unique().tolist()\n",
    "messages_list = data_messages['user_id'].unique().tolist()\n",
    "internet_list = data_internet['user_id'].unique().tolist()\n",
    "print(len(users_list), len(calls_list), len(messages_list), len(internet_list))"
   ]
  },
  {
   "cell_type": "markdown",
   "metadata": {},
   "source": [
    "Будем склеивать их в следующем порядке:\n",
    "1. data_users;\n",
    "2. data_internet;\n",
    "3. data_calls;\n",
    "4. data_messages;"
   ]
  },
  {
   "cell_type": "code",
   "execution_count": 18,
   "metadata": {},
   "outputs": [
    {
     "data": {
      "text/html": [
       "<div>\n",
       "<style scoped>\n",
       "    .dataframe tbody tr th:only-of-type {\n",
       "        vertical-align: middle;\n",
       "    }\n",
       "\n",
       "    .dataframe tbody tr th {\n",
       "        vertical-align: top;\n",
       "    }\n",
       "\n",
       "    .dataframe thead th {\n",
       "        text-align: right;\n",
       "    }\n",
       "</style>\n",
       "<table border=\"1\" class=\"dataframe\">\n",
       "  <thead>\n",
       "    <tr style=\"text-align: right;\">\n",
       "      <th></th>\n",
       "      <th>user_id</th>\n",
       "      <th>age</th>\n",
       "      <th>churn_date</th>\n",
       "      <th>city</th>\n",
       "      <th>first_name</th>\n",
       "      <th>last_name</th>\n",
       "      <th>reg_date</th>\n",
       "      <th>tariff</th>\n",
       "      <th>monthly_activity</th>\n",
       "      <th>mb_used</th>\n",
       "      <th>calls_total</th>\n",
       "      <th>duration_total</th>\n",
       "      <th>message_total</th>\n",
       "    </tr>\n",
       "  </thead>\n",
       "  <tbody>\n",
       "    <tr>\n",
       "      <td>0</td>\n",
       "      <td>1000</td>\n",
       "      <td>52.0</td>\n",
       "      <td>NaT</td>\n",
       "      <td>Краснодар</td>\n",
       "      <td>Рафаил</td>\n",
       "      <td>Верещагин</td>\n",
       "      <td>2018-05-25</td>\n",
       "      <td>ultra</td>\n",
       "      <td>2018-05-01</td>\n",
       "      <td>2253.49</td>\n",
       "      <td>22.0</td>\n",
       "      <td>159.0</td>\n",
       "      <td>22.0</td>\n",
       "    </tr>\n",
       "    <tr>\n",
       "      <td>1</td>\n",
       "      <td>1000</td>\n",
       "      <td>52.0</td>\n",
       "      <td>NaT</td>\n",
       "      <td>Краснодар</td>\n",
       "      <td>Рафаил</td>\n",
       "      <td>Верещагин</td>\n",
       "      <td>2018-05-25</td>\n",
       "      <td>ultra</td>\n",
       "      <td>2018-06-01</td>\n",
       "      <td>23233.77</td>\n",
       "      <td>43.0</td>\n",
       "      <td>172.0</td>\n",
       "      <td>60.0</td>\n",
       "    </tr>\n",
       "    <tr>\n",
       "      <td>2</td>\n",
       "      <td>1000</td>\n",
       "      <td>52.0</td>\n",
       "      <td>NaT</td>\n",
       "      <td>Краснодар</td>\n",
       "      <td>Рафаил</td>\n",
       "      <td>Верещагин</td>\n",
       "      <td>2018-05-25</td>\n",
       "      <td>ultra</td>\n",
       "      <td>2018-07-01</td>\n",
       "      <td>14003.64</td>\n",
       "      <td>47.0</td>\n",
       "      <td>340.0</td>\n",
       "      <td>75.0</td>\n",
       "    </tr>\n",
       "    <tr>\n",
       "      <td>3</td>\n",
       "      <td>1000</td>\n",
       "      <td>52.0</td>\n",
       "      <td>NaT</td>\n",
       "      <td>Краснодар</td>\n",
       "      <td>Рафаил</td>\n",
       "      <td>Верещагин</td>\n",
       "      <td>2018-05-25</td>\n",
       "      <td>ultra</td>\n",
       "      <td>2018-08-01</td>\n",
       "      <td>14055.93</td>\n",
       "      <td>52.0</td>\n",
       "      <td>408.0</td>\n",
       "      <td>81.0</td>\n",
       "    </tr>\n",
       "    <tr>\n",
       "      <td>4</td>\n",
       "      <td>1000</td>\n",
       "      <td>52.0</td>\n",
       "      <td>NaT</td>\n",
       "      <td>Краснодар</td>\n",
       "      <td>Рафаил</td>\n",
       "      <td>Верещагин</td>\n",
       "      <td>2018-05-25</td>\n",
       "      <td>ultra</td>\n",
       "      <td>2018-09-01</td>\n",
       "      <td>14568.91</td>\n",
       "      <td>58.0</td>\n",
       "      <td>466.0</td>\n",
       "      <td>57.0</td>\n",
       "    </tr>\n",
       "    <tr>\n",
       "      <td>...</td>\n",
       "      <td>...</td>\n",
       "      <td>...</td>\n",
       "      <td>...</td>\n",
       "      <td>...</td>\n",
       "      <td>...</td>\n",
       "      <td>...</td>\n",
       "      <td>...</td>\n",
       "      <td>...</td>\n",
       "      <td>...</td>\n",
       "      <td>...</td>\n",
       "      <td>...</td>\n",
       "      <td>...</td>\n",
       "      <td>...</td>\n",
       "    </tr>\n",
       "    <tr>\n",
       "      <td>3212</td>\n",
       "      <td>1273</td>\n",
       "      <td>NaN</td>\n",
       "      <td>NaT</td>\n",
       "      <td>NaN</td>\n",
       "      <td>NaN</td>\n",
       "      <td>NaN</td>\n",
       "      <td>NaT</td>\n",
       "      <td>NaN</td>\n",
       "      <td>2018-11-01</td>\n",
       "      <td>NaN</td>\n",
       "      <td>45.0</td>\n",
       "      <td>272.0</td>\n",
       "      <td>29.0</td>\n",
       "    </tr>\n",
       "    <tr>\n",
       "      <td>3213</td>\n",
       "      <td>1273</td>\n",
       "      <td>NaN</td>\n",
       "      <td>NaT</td>\n",
       "      <td>NaN</td>\n",
       "      <td>NaN</td>\n",
       "      <td>NaN</td>\n",
       "      <td>NaT</td>\n",
       "      <td>NaN</td>\n",
       "      <td>2018-12-01</td>\n",
       "      <td>NaN</td>\n",
       "      <td>41.0</td>\n",
       "      <td>260.0</td>\n",
       "      <td>39.0</td>\n",
       "    </tr>\n",
       "    <tr>\n",
       "      <td>3214</td>\n",
       "      <td>1377</td>\n",
       "      <td>NaN</td>\n",
       "      <td>NaT</td>\n",
       "      <td>NaN</td>\n",
       "      <td>NaN</td>\n",
       "      <td>NaN</td>\n",
       "      <td>NaT</td>\n",
       "      <td>NaN</td>\n",
       "      <td>2018-02-01</td>\n",
       "      <td>NaN</td>\n",
       "      <td>23.0</td>\n",
       "      <td>179.0</td>\n",
       "      <td>2.0</td>\n",
       "    </tr>\n",
       "    <tr>\n",
       "      <td>3215</td>\n",
       "      <td>1392</td>\n",
       "      <td>NaN</td>\n",
       "      <td>NaT</td>\n",
       "      <td>NaN</td>\n",
       "      <td>NaN</td>\n",
       "      <td>NaN</td>\n",
       "      <td>NaT</td>\n",
       "      <td>NaN</td>\n",
       "      <td>2018-02-01</td>\n",
       "      <td>NaN</td>\n",
       "      <td>2.0</td>\n",
       "      <td>13.0</td>\n",
       "      <td>3.0</td>\n",
       "    </tr>\n",
       "    <tr>\n",
       "      <td>3216</td>\n",
       "      <td>1446</td>\n",
       "      <td>NaN</td>\n",
       "      <td>NaT</td>\n",
       "      <td>NaN</td>\n",
       "      <td>NaN</td>\n",
       "      <td>NaN</td>\n",
       "      <td>NaT</td>\n",
       "      <td>NaN</td>\n",
       "      <td>2018-08-01</td>\n",
       "      <td>NaN</td>\n",
       "      <td>4.0</td>\n",
       "      <td>50.0</td>\n",
       "      <td>1.0</td>\n",
       "    </tr>\n",
       "  </tbody>\n",
       "</table>\n",
       "<p>3217 rows × 13 columns</p>\n",
       "</div>"
      ],
      "text/plain": [
       "      user_id   age churn_date       city first_name  last_name   reg_date  \\\n",
       "0        1000  52.0        NaT  Краснодар     Рафаил  Верещагин 2018-05-25   \n",
       "1        1000  52.0        NaT  Краснодар     Рафаил  Верещагин 2018-05-25   \n",
       "2        1000  52.0        NaT  Краснодар     Рафаил  Верещагин 2018-05-25   \n",
       "3        1000  52.0        NaT  Краснодар     Рафаил  Верещагин 2018-05-25   \n",
       "4        1000  52.0        NaT  Краснодар     Рафаил  Верещагин 2018-05-25   \n",
       "...       ...   ...        ...        ...        ...        ...        ...   \n",
       "3212     1273   NaN        NaT        NaN        NaN        NaN        NaT   \n",
       "3213     1273   NaN        NaT        NaN        NaN        NaN        NaT   \n",
       "3214     1377   NaN        NaT        NaN        NaN        NaN        NaT   \n",
       "3215     1392   NaN        NaT        NaN        NaN        NaN        NaT   \n",
       "3216     1446   NaN        NaT        NaN        NaN        NaN        NaT   \n",
       "\n",
       "     tariff monthly_activity   mb_used  calls_total  duration_total  \\\n",
       "0     ultra       2018-05-01   2253.49         22.0           159.0   \n",
       "1     ultra       2018-06-01  23233.77         43.0           172.0   \n",
       "2     ultra       2018-07-01  14003.64         47.0           340.0   \n",
       "3     ultra       2018-08-01  14055.93         52.0           408.0   \n",
       "4     ultra       2018-09-01  14568.91         58.0           466.0   \n",
       "...     ...              ...       ...          ...             ...   \n",
       "3212    NaN       2018-11-01       NaN         45.0           272.0   \n",
       "3213    NaN       2018-12-01       NaN         41.0           260.0   \n",
       "3214    NaN       2018-02-01       NaN         23.0           179.0   \n",
       "3215    NaN       2018-02-01       NaN          2.0            13.0   \n",
       "3216    NaN       2018-08-01       NaN          4.0            50.0   \n",
       "\n",
       "      message_total  \n",
       "0              22.0  \n",
       "1              60.0  \n",
       "2              75.0  \n",
       "3              81.0  \n",
       "4              57.0  \n",
       "...             ...  \n",
       "3212           29.0  \n",
       "3213           39.0  \n",
       "3214            2.0  \n",
       "3215            3.0  \n",
       "3216            1.0  \n",
       "\n",
       "[3217 rows x 13 columns]"
      ]
     },
     "metadata": {},
     "output_type": "display_data"
    },
    {
     "data": {
      "text/plain": [
       "(3217, 13)"
      ]
     },
     "execution_count": 18,
     "metadata": {},
     "output_type": "execute_result"
    }
   ],
   "source": [
    "data_merged = data_users.merge(\n",
    "    internet_stat, on=['user_id'], how='outer').merge(\n",
    "    calls_stat, on=['user_id', 'monthly_activity'], how='outer').merge(\n",
    "    messages_stat, on=['user_id', 'monthly_activity'], how='outer')\n",
    "display(data_merged)\n",
    "data_merged.shape"
   ]
  },
  {
   "cell_type": "markdown",
   "metadata": {},
   "source": [
    "Появились пустые значения в именах пользователей и даты их регистрации. При этом в user_id пропусков нет. Заполним пропуски в столбцах с информацией о пользователях, нужные значения найдем в таблице <code>data_users</code> по user_id:"
   ]
  },
  {
   "cell_type": "code",
   "execution_count": 19,
   "metadata": {},
   "outputs": [
    {
     "data": {
      "text/html": [
       "<div>\n",
       "<style scoped>\n",
       "    .dataframe tbody tr th:only-of-type {\n",
       "        vertical-align: middle;\n",
       "    }\n",
       "\n",
       "    .dataframe tbody tr th {\n",
       "        vertical-align: top;\n",
       "    }\n",
       "\n",
       "    .dataframe thead th {\n",
       "        text-align: right;\n",
       "    }\n",
       "</style>\n",
       "<table border=\"1\" class=\"dataframe\">\n",
       "  <thead>\n",
       "    <tr style=\"text-align: right;\">\n",
       "      <th></th>\n",
       "      <th>user_id</th>\n",
       "      <th>age</th>\n",
       "      <th>churn_date</th>\n",
       "      <th>city</th>\n",
       "      <th>first_name</th>\n",
       "      <th>last_name</th>\n",
       "      <th>reg_date</th>\n",
       "      <th>tariff</th>\n",
       "      <th>monthly_activity</th>\n",
       "      <th>mb_used</th>\n",
       "      <th>calls_total</th>\n",
       "      <th>duration_total</th>\n",
       "      <th>message_total</th>\n",
       "    </tr>\n",
       "  </thead>\n",
       "  <tbody>\n",
       "    <tr>\n",
       "      <th>1723</th>\n",
       "      <td>1273</td>\n",
       "      <td>46.0</td>\n",
       "      <td>NaT</td>\n",
       "      <td>Курган</td>\n",
       "      <td>Рэм</td>\n",
       "      <td>Корнилов</td>\n",
       "      <td>2018-05-15</td>\n",
       "      <td>ultra</td>\n",
       "      <td>NaT</td>\n",
       "      <td>NaN</td>\n",
       "      <td>NaN</td>\n",
       "      <td>NaN</td>\n",
       "      <td>NaN</td>\n",
       "    </tr>\n",
       "    <tr>\n",
       "      <th>3206</th>\n",
       "      <td>1273</td>\n",
       "      <td>NaN</td>\n",
       "      <td>NaT</td>\n",
       "      <td>NaN</td>\n",
       "      <td>NaN</td>\n",
       "      <td>NaN</td>\n",
       "      <td>NaT</td>\n",
       "      <td>NaN</td>\n",
       "      <td>2018-05-01</td>\n",
       "      <td>NaN</td>\n",
       "      <td>24.0</td>\n",
       "      <td>220.0</td>\n",
       "      <td>21.0</td>\n",
       "    </tr>\n",
       "    <tr>\n",
       "      <th>3207</th>\n",
       "      <td>1273</td>\n",
       "      <td>NaN</td>\n",
       "      <td>NaT</td>\n",
       "      <td>NaN</td>\n",
       "      <td>NaN</td>\n",
       "      <td>NaN</td>\n",
       "      <td>NaT</td>\n",
       "      <td>NaN</td>\n",
       "      <td>2018-06-01</td>\n",
       "      <td>NaN</td>\n",
       "      <td>40.0</td>\n",
       "      <td>230.0</td>\n",
       "      <td>38.0</td>\n",
       "    </tr>\n",
       "    <tr>\n",
       "      <th>3208</th>\n",
       "      <td>1273</td>\n",
       "      <td>NaN</td>\n",
       "      <td>NaT</td>\n",
       "      <td>NaN</td>\n",
       "      <td>NaN</td>\n",
       "      <td>NaN</td>\n",
       "      <td>NaT</td>\n",
       "      <td>NaN</td>\n",
       "      <td>2018-07-01</td>\n",
       "      <td>NaN</td>\n",
       "      <td>44.0</td>\n",
       "      <td>253.0</td>\n",
       "      <td>37.0</td>\n",
       "    </tr>\n",
       "    <tr>\n",
       "      <th>3209</th>\n",
       "      <td>1273</td>\n",
       "      <td>NaN</td>\n",
       "      <td>NaT</td>\n",
       "      <td>NaN</td>\n",
       "      <td>NaN</td>\n",
       "      <td>NaN</td>\n",
       "      <td>NaT</td>\n",
       "      <td>NaN</td>\n",
       "      <td>2018-08-01</td>\n",
       "      <td>NaN</td>\n",
       "      <td>53.0</td>\n",
       "      <td>253.0</td>\n",
       "      <td>41.0</td>\n",
       "    </tr>\n",
       "    <tr>\n",
       "      <th>3210</th>\n",
       "      <td>1273</td>\n",
       "      <td>NaN</td>\n",
       "      <td>NaT</td>\n",
       "      <td>NaN</td>\n",
       "      <td>NaN</td>\n",
       "      <td>NaN</td>\n",
       "      <td>NaT</td>\n",
       "      <td>NaN</td>\n",
       "      <td>2018-09-01</td>\n",
       "      <td>NaN</td>\n",
       "      <td>33.0</td>\n",
       "      <td>223.0</td>\n",
       "      <td>32.0</td>\n",
       "    </tr>\n",
       "    <tr>\n",
       "      <th>3211</th>\n",
       "      <td>1273</td>\n",
       "      <td>NaN</td>\n",
       "      <td>NaT</td>\n",
       "      <td>NaN</td>\n",
       "      <td>NaN</td>\n",
       "      <td>NaN</td>\n",
       "      <td>NaT</td>\n",
       "      <td>NaN</td>\n",
       "      <td>2018-10-01</td>\n",
       "      <td>NaN</td>\n",
       "      <td>40.0</td>\n",
       "      <td>315.0</td>\n",
       "      <td>35.0</td>\n",
       "    </tr>\n",
       "    <tr>\n",
       "      <th>3212</th>\n",
       "      <td>1273</td>\n",
       "      <td>NaN</td>\n",
       "      <td>NaT</td>\n",
       "      <td>NaN</td>\n",
       "      <td>NaN</td>\n",
       "      <td>NaN</td>\n",
       "      <td>NaT</td>\n",
       "      <td>NaN</td>\n",
       "      <td>2018-11-01</td>\n",
       "      <td>NaN</td>\n",
       "      <td>45.0</td>\n",
       "      <td>272.0</td>\n",
       "      <td>29.0</td>\n",
       "    </tr>\n",
       "    <tr>\n",
       "      <th>3213</th>\n",
       "      <td>1273</td>\n",
       "      <td>NaN</td>\n",
       "      <td>NaT</td>\n",
       "      <td>NaN</td>\n",
       "      <td>NaN</td>\n",
       "      <td>NaN</td>\n",
       "      <td>NaT</td>\n",
       "      <td>NaN</td>\n",
       "      <td>2018-12-01</td>\n",
       "      <td>NaN</td>\n",
       "      <td>41.0</td>\n",
       "      <td>260.0</td>\n",
       "      <td>39.0</td>\n",
       "    </tr>\n",
       "  </tbody>\n",
       "</table>\n",
       "</div>"
      ],
      "text/plain": [
       "      user_id   age churn_date    city first_name last_name   reg_date tariff  \\\n",
       "1723     1273  46.0        NaT  Курган        Рэм  Корнилов 2018-05-15  ultra   \n",
       "3206     1273   NaN        NaT     NaN        NaN       NaN        NaT    NaN   \n",
       "3207     1273   NaN        NaT     NaN        NaN       NaN        NaT    NaN   \n",
       "3208     1273   NaN        NaT     NaN        NaN       NaN        NaT    NaN   \n",
       "3209     1273   NaN        NaT     NaN        NaN       NaN        NaT    NaN   \n",
       "3210     1273   NaN        NaT     NaN        NaN       NaN        NaT    NaN   \n",
       "3211     1273   NaN        NaT     NaN        NaN       NaN        NaT    NaN   \n",
       "3212     1273   NaN        NaT     NaN        NaN       NaN        NaT    NaN   \n",
       "3213     1273   NaN        NaT     NaN        NaN       NaN        NaT    NaN   \n",
       "\n",
       "     monthly_activity  mb_used  calls_total  duration_total  message_total  \n",
       "1723              NaT      NaN          NaN             NaN            NaN  \n",
       "3206       2018-05-01      NaN         24.0           220.0           21.0  \n",
       "3207       2018-06-01      NaN         40.0           230.0           38.0  \n",
       "3208       2018-07-01      NaN         44.0           253.0           37.0  \n",
       "3209       2018-08-01      NaN         53.0           253.0           41.0  \n",
       "3210       2018-09-01      NaN         33.0           223.0           32.0  \n",
       "3211       2018-10-01      NaN         40.0           315.0           35.0  \n",
       "3212       2018-11-01      NaN         45.0           272.0           29.0  \n",
       "3213       2018-12-01      NaN         41.0           260.0           39.0  "
      ]
     },
     "metadata": {},
     "output_type": "display_data"
    }
   ],
   "source": [
    "display(data_merged[data_merged['user_id']== 1273])\n",
    "nan_users = data_merged[data_merged['age'].isna()]['user_id'].unique().tolist()\n",
    "columns_list = ['age', 'city', 'first_name', 'last_name', 'reg_date', 'tariff']\n",
    "for nans in nan_users:\n",
    "    index = data_users.query('user_id == @nans').index.values[0]\n",
    "    for col in columns_list:\n",
    "        new_value = data_users.iloc[index][col]\n",
    "        data_merged.loc[(data_merged['user_id'] == nans), col] = new_value"
   ]
  },
  {
   "cell_type": "code",
   "execution_count": 20,
   "metadata": {},
   "outputs": [
    {
     "data": {
      "text/html": [
       "<div>\n",
       "<style scoped>\n",
       "    .dataframe tbody tr th:only-of-type {\n",
       "        vertical-align: middle;\n",
       "    }\n",
       "\n",
       "    .dataframe tbody tr th {\n",
       "        vertical-align: top;\n",
       "    }\n",
       "\n",
       "    .dataframe thead th {\n",
       "        text-align: right;\n",
       "    }\n",
       "</style>\n",
       "<table border=\"1\" class=\"dataframe\">\n",
       "  <thead>\n",
       "    <tr style=\"text-align: right;\">\n",
       "      <th></th>\n",
       "      <th>user_id</th>\n",
       "      <th>age</th>\n",
       "      <th>churn_date</th>\n",
       "      <th>city</th>\n",
       "      <th>first_name</th>\n",
       "      <th>last_name</th>\n",
       "      <th>reg_date</th>\n",
       "      <th>tariff</th>\n",
       "      <th>monthly_activity</th>\n",
       "      <th>mb_used</th>\n",
       "      <th>calls_total</th>\n",
       "      <th>duration_total</th>\n",
       "      <th>message_total</th>\n",
       "    </tr>\n",
       "  </thead>\n",
       "  <tbody>\n",
       "    <tr>\n",
       "      <th>1723</th>\n",
       "      <td>1273</td>\n",
       "      <td>46.0</td>\n",
       "      <td>NaT</td>\n",
       "      <td>Курган</td>\n",
       "      <td>Рэм</td>\n",
       "      <td>Корнилов</td>\n",
       "      <td>2018-05-15</td>\n",
       "      <td>ultra</td>\n",
       "      <td>NaT</td>\n",
       "      <td>NaN</td>\n",
       "      <td>NaN</td>\n",
       "      <td>NaN</td>\n",
       "      <td>NaN</td>\n",
       "    </tr>\n",
       "    <tr>\n",
       "      <th>3206</th>\n",
       "      <td>1273</td>\n",
       "      <td>46.0</td>\n",
       "      <td>NaT</td>\n",
       "      <td>Курган</td>\n",
       "      <td>Рэм</td>\n",
       "      <td>Корнилов</td>\n",
       "      <td>2018-05-15</td>\n",
       "      <td>ultra</td>\n",
       "      <td>2018-05-01</td>\n",
       "      <td>NaN</td>\n",
       "      <td>24.0</td>\n",
       "      <td>220.0</td>\n",
       "      <td>21.0</td>\n",
       "    </tr>\n",
       "    <tr>\n",
       "      <th>3207</th>\n",
       "      <td>1273</td>\n",
       "      <td>46.0</td>\n",
       "      <td>NaT</td>\n",
       "      <td>Курган</td>\n",
       "      <td>Рэм</td>\n",
       "      <td>Корнилов</td>\n",
       "      <td>2018-05-15</td>\n",
       "      <td>ultra</td>\n",
       "      <td>2018-06-01</td>\n",
       "      <td>NaN</td>\n",
       "      <td>40.0</td>\n",
       "      <td>230.0</td>\n",
       "      <td>38.0</td>\n",
       "    </tr>\n",
       "    <tr>\n",
       "      <th>3208</th>\n",
       "      <td>1273</td>\n",
       "      <td>46.0</td>\n",
       "      <td>NaT</td>\n",
       "      <td>Курган</td>\n",
       "      <td>Рэм</td>\n",
       "      <td>Корнилов</td>\n",
       "      <td>2018-05-15</td>\n",
       "      <td>ultra</td>\n",
       "      <td>2018-07-01</td>\n",
       "      <td>NaN</td>\n",
       "      <td>44.0</td>\n",
       "      <td>253.0</td>\n",
       "      <td>37.0</td>\n",
       "    </tr>\n",
       "    <tr>\n",
       "      <th>3209</th>\n",
       "      <td>1273</td>\n",
       "      <td>46.0</td>\n",
       "      <td>NaT</td>\n",
       "      <td>Курган</td>\n",
       "      <td>Рэм</td>\n",
       "      <td>Корнилов</td>\n",
       "      <td>2018-05-15</td>\n",
       "      <td>ultra</td>\n",
       "      <td>2018-08-01</td>\n",
       "      <td>NaN</td>\n",
       "      <td>53.0</td>\n",
       "      <td>253.0</td>\n",
       "      <td>41.0</td>\n",
       "    </tr>\n",
       "    <tr>\n",
       "      <th>3210</th>\n",
       "      <td>1273</td>\n",
       "      <td>46.0</td>\n",
       "      <td>NaT</td>\n",
       "      <td>Курган</td>\n",
       "      <td>Рэм</td>\n",
       "      <td>Корнилов</td>\n",
       "      <td>2018-05-15</td>\n",
       "      <td>ultra</td>\n",
       "      <td>2018-09-01</td>\n",
       "      <td>NaN</td>\n",
       "      <td>33.0</td>\n",
       "      <td>223.0</td>\n",
       "      <td>32.0</td>\n",
       "    </tr>\n",
       "    <tr>\n",
       "      <th>3211</th>\n",
       "      <td>1273</td>\n",
       "      <td>46.0</td>\n",
       "      <td>NaT</td>\n",
       "      <td>Курган</td>\n",
       "      <td>Рэм</td>\n",
       "      <td>Корнилов</td>\n",
       "      <td>2018-05-15</td>\n",
       "      <td>ultra</td>\n",
       "      <td>2018-10-01</td>\n",
       "      <td>NaN</td>\n",
       "      <td>40.0</td>\n",
       "      <td>315.0</td>\n",
       "      <td>35.0</td>\n",
       "    </tr>\n",
       "    <tr>\n",
       "      <th>3212</th>\n",
       "      <td>1273</td>\n",
       "      <td>46.0</td>\n",
       "      <td>NaT</td>\n",
       "      <td>Курган</td>\n",
       "      <td>Рэм</td>\n",
       "      <td>Корнилов</td>\n",
       "      <td>2018-05-15</td>\n",
       "      <td>ultra</td>\n",
       "      <td>2018-11-01</td>\n",
       "      <td>NaN</td>\n",
       "      <td>45.0</td>\n",
       "      <td>272.0</td>\n",
       "      <td>29.0</td>\n",
       "    </tr>\n",
       "    <tr>\n",
       "      <th>3213</th>\n",
       "      <td>1273</td>\n",
       "      <td>46.0</td>\n",
       "      <td>NaT</td>\n",
       "      <td>Курган</td>\n",
       "      <td>Рэм</td>\n",
       "      <td>Корнилов</td>\n",
       "      <td>2018-05-15</td>\n",
       "      <td>ultra</td>\n",
       "      <td>2018-12-01</td>\n",
       "      <td>NaN</td>\n",
       "      <td>41.0</td>\n",
       "      <td>260.0</td>\n",
       "      <td>39.0</td>\n",
       "    </tr>\n",
       "  </tbody>\n",
       "</table>\n",
       "</div>"
      ],
      "text/plain": [
       "      user_id   age churn_date    city first_name last_name   reg_date tariff  \\\n",
       "1723     1273  46.0        NaT  Курган        Рэм  Корнилов 2018-05-15  ultra   \n",
       "3206     1273  46.0        NaT  Курган        Рэм  Корнилов 2018-05-15  ultra   \n",
       "3207     1273  46.0        NaT  Курган        Рэм  Корнилов 2018-05-15  ultra   \n",
       "3208     1273  46.0        NaT  Курган        Рэм  Корнилов 2018-05-15  ultra   \n",
       "3209     1273  46.0        NaT  Курган        Рэм  Корнилов 2018-05-15  ultra   \n",
       "3210     1273  46.0        NaT  Курган        Рэм  Корнилов 2018-05-15  ultra   \n",
       "3211     1273  46.0        NaT  Курган        Рэм  Корнилов 2018-05-15  ultra   \n",
       "3212     1273  46.0        NaT  Курган        Рэм  Корнилов 2018-05-15  ultra   \n",
       "3213     1273  46.0        NaT  Курган        Рэм  Корнилов 2018-05-15  ultra   \n",
       "\n",
       "     monthly_activity  mb_used  calls_total  duration_total  message_total  \n",
       "1723              NaT      NaN          NaN             NaN            NaN  \n",
       "3206       2018-05-01      NaN         24.0           220.0           21.0  \n",
       "3207       2018-06-01      NaN         40.0           230.0           38.0  \n",
       "3208       2018-07-01      NaN         44.0           253.0           37.0  \n",
       "3209       2018-08-01      NaN         53.0           253.0           41.0  \n",
       "3210       2018-09-01      NaN         33.0           223.0           32.0  \n",
       "3211       2018-10-01      NaN         40.0           315.0           35.0  \n",
       "3212       2018-11-01      NaN         45.0           272.0           29.0  \n",
       "3213       2018-12-01      NaN         41.0           260.0           39.0  "
      ]
     },
     "metadata": {},
     "output_type": "display_data"
    },
    {
     "name": "stdout",
     "output_type": "stream",
     "text": [
      "user_id                0\n",
      "age                    0\n",
      "churn_date          3029\n",
      "city                   0\n",
      "first_name             0\n",
      "last_name              0\n",
      "reg_date               0\n",
      "tariff                 0\n",
      "monthly_activity       3\n",
      "mb_used               14\n",
      "calls_total           43\n",
      "duration_total        43\n",
      "message_total        500\n",
      "dtype: int64\n"
     ]
    },
    {
     "data": {
      "text/html": [
       "<div>\n",
       "<style scoped>\n",
       "    .dataframe tbody tr th:only-of-type {\n",
       "        vertical-align: middle;\n",
       "    }\n",
       "\n",
       "    .dataframe tbody tr th {\n",
       "        vertical-align: top;\n",
       "    }\n",
       "\n",
       "    .dataframe thead th {\n",
       "        text-align: right;\n",
       "    }\n",
       "</style>\n",
       "<table border=\"1\" class=\"dataframe\">\n",
       "  <thead>\n",
       "    <tr style=\"text-align: right;\">\n",
       "      <th></th>\n",
       "      <th>user_id</th>\n",
       "      <th>age</th>\n",
       "      <th>churn_date</th>\n",
       "      <th>city</th>\n",
       "      <th>first_name</th>\n",
       "      <th>last_name</th>\n",
       "      <th>reg_date</th>\n",
       "      <th>tariff</th>\n",
       "      <th>monthly_activity</th>\n",
       "      <th>mb_used</th>\n",
       "      <th>calls_total</th>\n",
       "      <th>duration_total</th>\n",
       "      <th>message_total</th>\n",
       "    </tr>\n",
       "  </thead>\n",
       "  <tbody>\n",
       "    <tr>\n",
       "      <th>827</th>\n",
       "      <td>1128</td>\n",
       "      <td>51.0</td>\n",
       "      <td>2018-12-23</td>\n",
       "      <td>Волжский</td>\n",
       "      <td>Ксения</td>\n",
       "      <td>Агаева</td>\n",
       "      <td>2018-12-15</td>\n",
       "      <td>ultra</td>\n",
       "      <td>NaT</td>\n",
       "      <td>NaN</td>\n",
       "      <td>NaN</td>\n",
       "      <td>NaN</td>\n",
       "      <td>NaN</td>\n",
       "    </tr>\n",
       "    <tr>\n",
       "      <th>1723</th>\n",
       "      <td>1273</td>\n",
       "      <td>46.0</td>\n",
       "      <td>NaT</td>\n",
       "      <td>Курган</td>\n",
       "      <td>Рэм</td>\n",
       "      <td>Корнилов</td>\n",
       "      <td>2018-05-15</td>\n",
       "      <td>ultra</td>\n",
       "      <td>NaT</td>\n",
       "      <td>NaN</td>\n",
       "      <td>NaN</td>\n",
       "      <td>NaN</td>\n",
       "      <td>NaN</td>\n",
       "    </tr>\n",
       "    <tr>\n",
       "      <th>2328</th>\n",
       "      <td>1371</td>\n",
       "      <td>50.0</td>\n",
       "      <td>2018-12-30</td>\n",
       "      <td>Омск</td>\n",
       "      <td>Ириней</td>\n",
       "      <td>Трофимов</td>\n",
       "      <td>2018-12-25</td>\n",
       "      <td>smart</td>\n",
       "      <td>NaT</td>\n",
       "      <td>NaN</td>\n",
       "      <td>NaN</td>\n",
       "      <td>NaN</td>\n",
       "      <td>NaN</td>\n",
       "    </tr>\n",
       "  </tbody>\n",
       "</table>\n",
       "</div>"
      ],
      "text/plain": [
       "      user_id   age churn_date      city first_name last_name   reg_date  \\\n",
       "827      1128  51.0 2018-12-23  Волжский     Ксения    Агаева 2018-12-15   \n",
       "1723     1273  46.0        NaT    Курган        Рэм  Корнилов 2018-05-15   \n",
       "2328     1371  50.0 2018-12-30      Омск     Ириней  Трофимов 2018-12-25   \n",
       "\n",
       "     tariff monthly_activity  mb_used  calls_total  duration_total  \\\n",
       "827   ultra              NaT      NaN          NaN             NaN   \n",
       "1723  ultra              NaT      NaN          NaN             NaN   \n",
       "2328  smart              NaT      NaN          NaN             NaN   \n",
       "\n",
       "      message_total  \n",
       "827             NaN  \n",
       "1723            NaN  \n",
       "2328            NaN  "
      ]
     },
     "metadata": {},
     "output_type": "display_data"
    }
   ],
   "source": [
    "display(data_merged[data_merged['user_id']== 1273])\n",
    "print(data_merged.isna().sum())\n",
    "display(data_merged[data_merged['monthly_activity'].isna()])"
   ]
  },
  {
   "cell_type": "markdown",
   "metadata": {},
   "source": [
    "Есть три строки, для которых нет никаких данных. Удалим их:"
   ]
  },
  {
   "cell_type": "code",
   "execution_count": 21,
   "metadata": {},
   "outputs": [],
   "source": [
    "data_merged = data_merged.dropna(subset=['monthly_activity']).reset_index(drop=True)"
   ]
  },
  {
   "cell_type": "markdown",
   "metadata": {},
   "source": [
    "#### Подсчет ежемесячной выручки с каждого пользователя\n",
    "Подсчитаем, какой ежемесячный доход мы получаем с каждого пользователя:"
   ]
  },
  {
   "cell_type": "code",
   "execution_count": 22,
   "metadata": {},
   "outputs": [
    {
     "data": {
      "text/html": [
       "<div>\n",
       "<style scoped>\n",
       "    .dataframe tbody tr th:only-of-type {\n",
       "        vertical-align: middle;\n",
       "    }\n",
       "\n",
       "    .dataframe tbody tr th {\n",
       "        vertical-align: top;\n",
       "    }\n",
       "\n",
       "    .dataframe thead th {\n",
       "        text-align: right;\n",
       "    }\n",
       "</style>\n",
       "<table border=\"1\" class=\"dataframe\">\n",
       "  <thead>\n",
       "    <tr style=\"text-align: right;\">\n",
       "      <th></th>\n",
       "      <th>messages_included</th>\n",
       "      <th>mb_per_month_included</th>\n",
       "      <th>minutes_included</th>\n",
       "      <th>rub_monthly_fee</th>\n",
       "      <th>rub_per_gb</th>\n",
       "      <th>rub_per_message</th>\n",
       "      <th>rub_per_minute</th>\n",
       "      <th>tariff_name</th>\n",
       "    </tr>\n",
       "  </thead>\n",
       "  <tbody>\n",
       "    <tr>\n",
       "      <th>0</th>\n",
       "      <td>50</td>\n",
       "      <td>15360</td>\n",
       "      <td>500</td>\n",
       "      <td>550</td>\n",
       "      <td>200</td>\n",
       "      <td>3</td>\n",
       "      <td>3</td>\n",
       "      <td>smart</td>\n",
       "    </tr>\n",
       "    <tr>\n",
       "      <th>1</th>\n",
       "      <td>1000</td>\n",
       "      <td>30720</td>\n",
       "      <td>3000</td>\n",
       "      <td>1950</td>\n",
       "      <td>150</td>\n",
       "      <td>1</td>\n",
       "      <td>1</td>\n",
       "      <td>ultra</td>\n",
       "    </tr>\n",
       "  </tbody>\n",
       "</table>\n",
       "</div>"
      ],
      "text/plain": [
       "   messages_included  mb_per_month_included  minutes_included  \\\n",
       "0                 50                  15360               500   \n",
       "1               1000                  30720              3000   \n",
       "\n",
       "   rub_monthly_fee  rub_per_gb  rub_per_message  rub_per_minute tariff_name  \n",
       "0              550         200                3               3       smart  \n",
       "1             1950         150                1               1       ultra  "
      ]
     },
     "metadata": {},
     "output_type": "display_data"
    }
   ],
   "source": [
    "display(data_tariffs.head())\n",
    "#************************************\n",
    "# функция подсчета выручки\n",
    "#************************************\n",
    "def incomes_calc(row):\n",
    "    tariff = row['tariff']\n",
    "    calls = row['duration_total']\n",
    "    messages = row['message_total']\n",
    "    gb = np.ceil(row['mb_used']/1024)# переведём МБ в ГБ и округлим\n",
    "    income_total = 0\n",
    "# получаем значения количества включенных минут, сообщений и трафика, а также их стоимости\n",
    "# сверх предоплаченного пакета\n",
    "    if tariff == 'smart':\n",
    "        index = 0\n",
    "    else:\n",
    "        index = 1\n",
    "        \n",
    "    rub_monthly_fee = data_tariffs['rub_monthly_fee'][index]\n",
    "    rub_per_gb = data_tariffs['rub_per_gb'][index]\n",
    "    rub_per_message = data_tariffs['rub_per_message'][index]\n",
    "    rub_per_minute = data_tariffs['rub_per_minute'][index]\n",
    "    messages_included = data_tariffs['messages_included'][index]\n",
    "    mb_per_month_included = data_tariffs['mb_per_month_included'][index]/1024 # переведём МБ в ГБ\n",
    "    minutes_included = data_tariffs['minutes_included'][index]\n",
    "   \n",
    "    income_total += rub_monthly_fee\n",
    "\n",
    "    income_total += np.where((messages - messages_included) > 0,\n",
    "                            (messages - messages_included)*rub_per_message, 0)\n",
    "    \n",
    "    income_total += np.where((calls - minutes_included) > 0,\n",
    "                             (calls - minutes_included)*rub_per_minute, 0)\n",
    "    \n",
    "    income_total += np.where((gb - mb_per_month_included) > 0,\n",
    "                             (gb - mb_per_month_included)*rub_per_gb, 0)\n",
    "    \n",
    "    return income_total\n",
    "\n",
    "#*****************************************\n",
    "\n"
   ]
  },
  {
   "cell_type": "code",
   "execution_count": 23,
   "metadata": {},
   "outputs": [
    {
     "data": {
      "text/html": [
       "<div>\n",
       "<style scoped>\n",
       "    .dataframe tbody tr th:only-of-type {\n",
       "        vertical-align: middle;\n",
       "    }\n",
       "\n",
       "    .dataframe tbody tr th {\n",
       "        vertical-align: top;\n",
       "    }\n",
       "\n",
       "    .dataframe thead th {\n",
       "        text-align: right;\n",
       "    }\n",
       "</style>\n",
       "<table border=\"1\" class=\"dataframe\">\n",
       "  <thead>\n",
       "    <tr style=\"text-align: right;\">\n",
       "      <th></th>\n",
       "      <th>user_id</th>\n",
       "      <th>age</th>\n",
       "      <th>churn_date</th>\n",
       "      <th>city</th>\n",
       "      <th>first_name</th>\n",
       "      <th>last_name</th>\n",
       "      <th>reg_date</th>\n",
       "      <th>tariff</th>\n",
       "      <th>monthly_activity</th>\n",
       "      <th>mb_used</th>\n",
       "      <th>calls_total</th>\n",
       "      <th>duration_total</th>\n",
       "      <th>message_total</th>\n",
       "      <th>income</th>\n",
       "    </tr>\n",
       "  </thead>\n",
       "  <tbody>\n",
       "    <tr>\n",
       "      <th>0</th>\n",
       "      <td>1000</td>\n",
       "      <td>52.0</td>\n",
       "      <td>NaT</td>\n",
       "      <td>Краснодар</td>\n",
       "      <td>Рафаил</td>\n",
       "      <td>Верещагин</td>\n",
       "      <td>2018-05-25</td>\n",
       "      <td>ultra</td>\n",
       "      <td>2018-05-01</td>\n",
       "      <td>2253.49</td>\n",
       "      <td>22.0</td>\n",
       "      <td>159.0</td>\n",
       "      <td>22.0</td>\n",
       "      <td>1950.0</td>\n",
       "    </tr>\n",
       "    <tr>\n",
       "      <th>1</th>\n",
       "      <td>1000</td>\n",
       "      <td>52.0</td>\n",
       "      <td>NaT</td>\n",
       "      <td>Краснодар</td>\n",
       "      <td>Рафаил</td>\n",
       "      <td>Верещагин</td>\n",
       "      <td>2018-05-25</td>\n",
       "      <td>ultra</td>\n",
       "      <td>2018-06-01</td>\n",
       "      <td>23233.77</td>\n",
       "      <td>43.0</td>\n",
       "      <td>172.0</td>\n",
       "      <td>60.0</td>\n",
       "      <td>1950.0</td>\n",
       "    </tr>\n",
       "    <tr>\n",
       "      <th>2</th>\n",
       "      <td>1000</td>\n",
       "      <td>52.0</td>\n",
       "      <td>NaT</td>\n",
       "      <td>Краснодар</td>\n",
       "      <td>Рафаил</td>\n",
       "      <td>Верещагин</td>\n",
       "      <td>2018-05-25</td>\n",
       "      <td>ultra</td>\n",
       "      <td>2018-07-01</td>\n",
       "      <td>14003.64</td>\n",
       "      <td>47.0</td>\n",
       "      <td>340.0</td>\n",
       "      <td>75.0</td>\n",
       "      <td>1950.0</td>\n",
       "    </tr>\n",
       "    <tr>\n",
       "      <th>3</th>\n",
       "      <td>1000</td>\n",
       "      <td>52.0</td>\n",
       "      <td>NaT</td>\n",
       "      <td>Краснодар</td>\n",
       "      <td>Рафаил</td>\n",
       "      <td>Верещагин</td>\n",
       "      <td>2018-05-25</td>\n",
       "      <td>ultra</td>\n",
       "      <td>2018-08-01</td>\n",
       "      <td>14055.93</td>\n",
       "      <td>52.0</td>\n",
       "      <td>408.0</td>\n",
       "      <td>81.0</td>\n",
       "      <td>1950.0</td>\n",
       "    </tr>\n",
       "    <tr>\n",
       "      <th>4</th>\n",
       "      <td>1000</td>\n",
       "      <td>52.0</td>\n",
       "      <td>NaT</td>\n",
       "      <td>Краснодар</td>\n",
       "      <td>Рафаил</td>\n",
       "      <td>Верещагин</td>\n",
       "      <td>2018-05-25</td>\n",
       "      <td>ultra</td>\n",
       "      <td>2018-09-01</td>\n",
       "      <td>14568.91</td>\n",
       "      <td>58.0</td>\n",
       "      <td>466.0</td>\n",
       "      <td>57.0</td>\n",
       "      <td>1950.0</td>\n",
       "    </tr>\n",
       "    <tr>\n",
       "      <th>...</th>\n",
       "      <td>...</td>\n",
       "      <td>...</td>\n",
       "      <td>...</td>\n",
       "      <td>...</td>\n",
       "      <td>...</td>\n",
       "      <td>...</td>\n",
       "      <td>...</td>\n",
       "      <td>...</td>\n",
       "      <td>...</td>\n",
       "      <td>...</td>\n",
       "      <td>...</td>\n",
       "      <td>...</td>\n",
       "      <td>...</td>\n",
       "      <td>...</td>\n",
       "    </tr>\n",
       "    <tr>\n",
       "      <th>3209</th>\n",
       "      <td>1273</td>\n",
       "      <td>46.0</td>\n",
       "      <td>NaT</td>\n",
       "      <td>Курган</td>\n",
       "      <td>Рэм</td>\n",
       "      <td>Корнилов</td>\n",
       "      <td>2018-05-15</td>\n",
       "      <td>ultra</td>\n",
       "      <td>2018-11-01</td>\n",
       "      <td>NaN</td>\n",
       "      <td>45.0</td>\n",
       "      <td>272.0</td>\n",
       "      <td>29.0</td>\n",
       "      <td>1950.0</td>\n",
       "    </tr>\n",
       "    <tr>\n",
       "      <th>3210</th>\n",
       "      <td>1273</td>\n",
       "      <td>46.0</td>\n",
       "      <td>NaT</td>\n",
       "      <td>Курган</td>\n",
       "      <td>Рэм</td>\n",
       "      <td>Корнилов</td>\n",
       "      <td>2018-05-15</td>\n",
       "      <td>ultra</td>\n",
       "      <td>2018-12-01</td>\n",
       "      <td>NaN</td>\n",
       "      <td>41.0</td>\n",
       "      <td>260.0</td>\n",
       "      <td>39.0</td>\n",
       "      <td>1950.0</td>\n",
       "    </tr>\n",
       "    <tr>\n",
       "      <th>3211</th>\n",
       "      <td>1377</td>\n",
       "      <td>59.0</td>\n",
       "      <td>NaT</td>\n",
       "      <td>Брянск</td>\n",
       "      <td>Альфред</td>\n",
       "      <td>Семин</td>\n",
       "      <td>2018-02-25</td>\n",
       "      <td>ultra</td>\n",
       "      <td>2018-02-01</td>\n",
       "      <td>NaN</td>\n",
       "      <td>23.0</td>\n",
       "      <td>179.0</td>\n",
       "      <td>2.0</td>\n",
       "      <td>1950.0</td>\n",
       "    </tr>\n",
       "    <tr>\n",
       "      <th>3212</th>\n",
       "      <td>1392</td>\n",
       "      <td>54.0</td>\n",
       "      <td>NaT</td>\n",
       "      <td>Челябинск</td>\n",
       "      <td>Алла</td>\n",
       "      <td>Беликова</td>\n",
       "      <td>2018-02-27</td>\n",
       "      <td>ultra</td>\n",
       "      <td>2018-02-01</td>\n",
       "      <td>NaN</td>\n",
       "      <td>2.0</td>\n",
       "      <td>13.0</td>\n",
       "      <td>3.0</td>\n",
       "      <td>1950.0</td>\n",
       "    </tr>\n",
       "    <tr>\n",
       "      <th>3213</th>\n",
       "      <td>1446</td>\n",
       "      <td>64.0</td>\n",
       "      <td>NaT</td>\n",
       "      <td>Липецк</td>\n",
       "      <td>Антонина</td>\n",
       "      <td>Артемчук</td>\n",
       "      <td>2018-08-31</td>\n",
       "      <td>smart</td>\n",
       "      <td>2018-08-01</td>\n",
       "      <td>NaN</td>\n",
       "      <td>4.0</td>\n",
       "      <td>50.0</td>\n",
       "      <td>1.0</td>\n",
       "      <td>550.0</td>\n",
       "    </tr>\n",
       "  </tbody>\n",
       "</table>\n",
       "<p>3214 rows × 14 columns</p>\n",
       "</div>"
      ],
      "text/plain": [
       "      user_id   age churn_date       city first_name  last_name   reg_date  \\\n",
       "0        1000  52.0        NaT  Краснодар     Рафаил  Верещагин 2018-05-25   \n",
       "1        1000  52.0        NaT  Краснодар     Рафаил  Верещагин 2018-05-25   \n",
       "2        1000  52.0        NaT  Краснодар     Рафаил  Верещагин 2018-05-25   \n",
       "3        1000  52.0        NaT  Краснодар     Рафаил  Верещагин 2018-05-25   \n",
       "4        1000  52.0        NaT  Краснодар     Рафаил  Верещагин 2018-05-25   \n",
       "...       ...   ...        ...        ...        ...        ...        ...   \n",
       "3209     1273  46.0        NaT     Курган        Рэм   Корнилов 2018-05-15   \n",
       "3210     1273  46.0        NaT     Курган        Рэм   Корнилов 2018-05-15   \n",
       "3211     1377  59.0        NaT     Брянск    Альфред      Семин 2018-02-25   \n",
       "3212     1392  54.0        NaT  Челябинск       Алла   Беликова 2018-02-27   \n",
       "3213     1446  64.0        NaT     Липецк   Антонина   Артемчук 2018-08-31   \n",
       "\n",
       "     tariff monthly_activity   mb_used  calls_total  duration_total  \\\n",
       "0     ultra       2018-05-01   2253.49         22.0           159.0   \n",
       "1     ultra       2018-06-01  23233.77         43.0           172.0   \n",
       "2     ultra       2018-07-01  14003.64         47.0           340.0   \n",
       "3     ultra       2018-08-01  14055.93         52.0           408.0   \n",
       "4     ultra       2018-09-01  14568.91         58.0           466.0   \n",
       "...     ...              ...       ...          ...             ...   \n",
       "3209  ultra       2018-11-01       NaN         45.0           272.0   \n",
       "3210  ultra       2018-12-01       NaN         41.0           260.0   \n",
       "3211  ultra       2018-02-01       NaN         23.0           179.0   \n",
       "3212  ultra       2018-02-01       NaN          2.0            13.0   \n",
       "3213  smart       2018-08-01       NaN          4.0            50.0   \n",
       "\n",
       "      message_total  income  \n",
       "0              22.0  1950.0  \n",
       "1              60.0  1950.0  \n",
       "2              75.0  1950.0  \n",
       "3              81.0  1950.0  \n",
       "4              57.0  1950.0  \n",
       "...             ...     ...  \n",
       "3209           29.0  1950.0  \n",
       "3210           39.0  1950.0  \n",
       "3211            2.0  1950.0  \n",
       "3212            3.0  1950.0  \n",
       "3213            1.0   550.0  \n",
       "\n",
       "[3214 rows x 14 columns]"
      ]
     },
     "metadata": {},
     "output_type": "display_data"
    },
    {
     "name": "stdout",
     "output_type": "stream",
     "text": [
      "user_id                0\n",
      "age                    0\n",
      "churn_date          3028\n",
      "city                   0\n",
      "first_name             0\n",
      "last_name              0\n",
      "reg_date               0\n",
      "tariff                 0\n",
      "monthly_activity       0\n",
      "mb_used               11\n",
      "calls_total           40\n",
      "duration_total        40\n",
      "message_total        497\n",
      "income                 0\n",
      "dtype: int64\n"
     ]
    },
    {
     "data": {
      "text/html": [
       "<div>\n",
       "<style scoped>\n",
       "    .dataframe tbody tr th:only-of-type {\n",
       "        vertical-align: middle;\n",
       "    }\n",
       "\n",
       "    .dataframe tbody tr th {\n",
       "        vertical-align: top;\n",
       "    }\n",
       "\n",
       "    .dataframe thead th {\n",
       "        text-align: right;\n",
       "    }\n",
       "</style>\n",
       "<table border=\"1\" class=\"dataframe\">\n",
       "  <thead>\n",
       "    <tr style=\"text-align: right;\">\n",
       "      <th></th>\n",
       "      <th>user_id</th>\n",
       "      <th>age</th>\n",
       "      <th>mb_used</th>\n",
       "      <th>calls_total</th>\n",
       "      <th>duration_total</th>\n",
       "      <th>message_total</th>\n",
       "      <th>income</th>\n",
       "    </tr>\n",
       "  </thead>\n",
       "  <tbody>\n",
       "    <tr>\n",
       "      <th>count</th>\n",
       "      <td>3214.000000</td>\n",
       "      <td>3214.000000</td>\n",
       "      <td>3203.000000</td>\n",
       "      <td>3174.000000</td>\n",
       "      <td>3174.000000</td>\n",
       "      <td>2717.000000</td>\n",
       "      <td>3214.000000</td>\n",
       "    </tr>\n",
       "    <tr>\n",
       "      <th>mean</th>\n",
       "      <td>1251.590230</td>\n",
       "      <td>46.641568</td>\n",
       "      <td>17266.708626</td>\n",
       "      <td>63.833333</td>\n",
       "      <td>456.931632</td>\n",
       "      <td>45.283769</td>\n",
       "      <td>1529.076229</td>\n",
       "    </tr>\n",
       "    <tr>\n",
       "      <th>std</th>\n",
       "      <td>144.659172</td>\n",
       "      <td>16.586109</td>\n",
       "      <td>7516.356902</td>\n",
       "      <td>32.678036</td>\n",
       "      <td>238.031270</td>\n",
       "      <td>35.051363</td>\n",
       "      <td>798.251091</td>\n",
       "    </tr>\n",
       "    <tr>\n",
       "      <th>min</th>\n",
       "      <td>1000.000000</td>\n",
       "      <td>18.000000</td>\n",
       "      <td>0.000000</td>\n",
       "      <td>1.000000</td>\n",
       "      <td>0.000000</td>\n",
       "      <td>1.000000</td>\n",
       "      <td>550.000000</td>\n",
       "    </tr>\n",
       "    <tr>\n",
       "      <th>25%</th>\n",
       "      <td>1125.000000</td>\n",
       "      <td>32.000000</td>\n",
       "      <td>12526.905000</td>\n",
       "      <td>41.000000</td>\n",
       "      <td>290.000000</td>\n",
       "      <td>19.000000</td>\n",
       "      <td>750.000000</td>\n",
       "    </tr>\n",
       "    <tr>\n",
       "      <th>50%</th>\n",
       "      <td>1253.000000</td>\n",
       "      <td>46.000000</td>\n",
       "      <td>16963.110000</td>\n",
       "      <td>63.000000</td>\n",
       "      <td>447.000000</td>\n",
       "      <td>38.000000</td>\n",
       "      <td>1653.500000</td>\n",
       "    </tr>\n",
       "    <tr>\n",
       "      <th>75%</th>\n",
       "      <td>1378.750000</td>\n",
       "      <td>62.000000</td>\n",
       "      <td>21432.175000</td>\n",
       "      <td>83.000000</td>\n",
       "      <td>592.000000</td>\n",
       "      <td>63.000000</td>\n",
       "      <td>1950.000000</td>\n",
       "    </tr>\n",
       "    <tr>\n",
       "      <th>max</th>\n",
       "      <td>1499.000000</td>\n",
       "      <td>75.000000</td>\n",
       "      <td>49745.690000</td>\n",
       "      <td>244.000000</td>\n",
       "      <td>1673.000000</td>\n",
       "      <td>224.000000</td>\n",
       "      <td>6770.000000</td>\n",
       "    </tr>\n",
       "  </tbody>\n",
       "</table>\n",
       "</div>"
      ],
      "text/plain": [
       "           user_id          age       mb_used  calls_total  duration_total  \\\n",
       "count  3214.000000  3214.000000   3203.000000  3174.000000     3174.000000   \n",
       "mean   1251.590230    46.641568  17266.708626    63.833333      456.931632   \n",
       "std     144.659172    16.586109   7516.356902    32.678036      238.031270   \n",
       "min    1000.000000    18.000000      0.000000     1.000000        0.000000   \n",
       "25%    1125.000000    32.000000  12526.905000    41.000000      290.000000   \n",
       "50%    1253.000000    46.000000  16963.110000    63.000000      447.000000   \n",
       "75%    1378.750000    62.000000  21432.175000    83.000000      592.000000   \n",
       "max    1499.000000    75.000000  49745.690000   244.000000     1673.000000   \n",
       "\n",
       "       message_total       income  \n",
       "count    2717.000000  3214.000000  \n",
       "mean       45.283769  1529.076229  \n",
       "std        35.051363   798.251091  \n",
       "min         1.000000   550.000000  \n",
       "25%        19.000000   750.000000  \n",
       "50%        38.000000  1653.500000  \n",
       "75%        63.000000  1950.000000  \n",
       "max       224.000000  6770.000000  "
      ]
     },
     "execution_count": 23,
     "metadata": {},
     "output_type": "execute_result"
    }
   ],
   "source": [
    "data_merged['income'] = data_merged.apply(incomes_calc, axis=1) # добавляем новый столбец\n",
    "display(data_merged)\n",
    "print(data_merged.isna().sum())\n",
    "data_merged.describe()"
   ]
  },
  {
   "cell_type": "markdown",
   "metadata": {},
   "source": [
    "В таблице есть пропуски в столбцах с количеством сообщений, количеством использованного интернет-трафика, звонков и их продолжительности. Пропуски появились из-за склейки таблиц: некоторые пользователи могли не использовать что-нибудь из пакета тарифа, поэтому эти значения для них пусты. Заполним пропуски нулями. "
   ]
  },
  {
   "cell_type": "code",
   "execution_count": 24,
   "metadata": {},
   "outputs": [],
   "source": [
    "data_merged['message_total'] = data_merged['message_total'].fillna(0)\n",
    "data_merged['duration_total'] = data_merged['duration_total'].fillna(0)\n",
    "data_merged['calls_total'] = data_merged['calls_total'].fillna(0)\n",
    "data_merged['mb_used'] = data_merged['mb_used'].fillna(0)"
   ]
  },
  {
   "cell_type": "markdown",
   "metadata": {},
   "source": [
    "#### Заключение\n",
    "\n",
    "Для каждой из активностей пользователей (сообщения, звонки, интернет-трафик) расчитаны ежемесячные показатели (общее число смс, длительность звонков и тд) и добавлены в исходные таблицы <code>data_[название_активности]</code>. При подсчете значения длительности разговоров округлялись в большую сторону с помощью метода ceil(). Далее эти три таблицы совмещались с исходной таблицей, содержащей информацию о пользователях. Совмещение проводилось функцией merge по столбцам user_id и monthly_activity, тип совмещения -- 'left'. Итоговая таблица называется <code>data_merged</code>, и далее мы будем работать только с ней. \n",
    "    \n",
    "В таблицу <code>data_merged</code> добавлен столбец содержащий ежемесячный доход от каждого пользователя. Доход рассчитывался с помощью метода apply и функции <code>incomes_calc</code>, данные о стоимости услуг каждого тарифного плана брались из исходной таблицы <code>data_tariffs</code>."
   ]
  },
  {
   "cell_type": "markdown",
   "metadata": {},
   "source": [
    "## Анализ данных"
   ]
  },
  {
   "cell_type": "markdown",
   "metadata": {},
   "source": [
    "### Сравнение активности пользователей тарифов\n",
    "Посмотрим сколько в среднем  минут разговора,сообщений и какой объём интернет-трафика требуется пользователям каждого тарифа в месяц."
   ]
  },
  {
   "cell_type": "code",
   "execution_count": 25,
   "metadata": {},
   "outputs": [
    {
     "name": "stdout",
     "output_type": "stream",
     "text": [
      "Количество пользователей тарифом \"Смарт\": 350\n",
      "Количество пользователей тарифом \"Ультра\": 148\n"
     ]
    },
    {
     "data": {
      "image/png": "[encoded data removed]",
      "text/plain": [
       "<Figure size 1152x360 with 2 Axes>"
      ]
     },
     "metadata": {
      "needs_background": "light"
     },
     "output_type": "display_data"
    },
    {
     "data": {
      "image/png": "[encoded data removed]",
      "text/plain": [
       "<Figure size 1152x360 with 2 Axes>"
      ]
     },
     "metadata": {
      "needs_background": "light"
     },
     "output_type": "display_data"
    },
    {
     "data": {
      "image/png": "[encoded data removed]",
      "text/plain": [
       "<Figure size 1152x360 with 2 Axes>"
      ]
     },
     "metadata": {
      "needs_background": "light"
     },
     "output_type": "display_data"
    }
   ],
   "source": [
    "# отрисуем все распределения для двух тарифов\n",
    "\n",
    "smart_total = len(data_merged.query('tariff==\"smart\"')['user_id'].unique())\n",
    "ultra_total = len(data_merged.query('tariff==\"ultra\"')['user_id'].unique())\n",
    "print('Количество пользователей тарифом \"Смарт\":', smart_total )\n",
    "print('Количество пользователей тарифом \"Ультра\":', ultra_total )\n",
    "\n",
    "ticks_list = ['Январь', 'Февраль', 'Март','Апрель','Май',\n",
    "              'Июнь','Июль','Август','Сентябрь','Октябрь','Ноябрь','Декабрь']\n",
    "fig, axes = plt.subplots(1, 2, figsize=(16, 5))\n",
    "\n",
    "s = sns.barplot(ax=axes[0], x='monthly_activity', y='message_total', ci=None,\n",
    "                color='palegreen',data=data_merged.query('tariff==\"ultra\"'), label='тариф \"Ультра\"')\n",
    "s = sns.barplot(ax=axes[0], x='monthly_activity', y='message_total',color='seagreen', ci=None,\n",
    "                 data=data_merged.query('tariff==\"smart\"'), label='тариф \"Смарт\"')\n",
    "s.set(title='Распределение среднего количества сообщений по месяцам',\n",
    "      xlabel='Номер месяца', ylabel='Среднее количество cообщений за месяц')\n",
    "s.set_xticklabels(ticks_list, rotation = 60)\n",
    "axes[0].legend()\n",
    "\n",
    "box = sns.boxplot(ax=axes[1], x='tariff', y='message_total', palette=\"Greens\",\n",
    "                data=data_merged, )\n",
    "box.set(title='Количество сообщений',\n",
    "      xlabel='Тариф', ylabel='Количество cообщений')\n",
    "box.set_xticklabels(['Ультра', 'Смарт'])\n",
    "axes[1].grid()\n",
    "\n",
    "plt.show()\n",
    "\n",
    "fig, axes = plt.subplots(1, 2, figsize=(16, 5))\n",
    "\n",
    "s = sns.barplot(ax=axes[0],x='monthly_activity', y='duration_total', ci=None,\n",
    "                color='palegreen',data=data_merged.query('tariff==\"ultra\"'), label='тариф \"Ультра\"')\n",
    "s = sns.barplot(ax=axes[0],x='monthly_activity', y='duration_total',color='seagreen', ci=None,\n",
    "                 data=data_merged.query('tariff==\"smart\"'), label='тариф \"Смарт\"')\n",
    "\n",
    "s.set(title='Распределение средней продолжительности звонков по месяцам',\n",
    "      xlabel='Номер месяца', ylabel='Среднее средняя продолжительность звонков за месяц')\n",
    "s.set_xticklabels(ticks_list, rotation = 60)\n",
    "axes[0].legend()\n",
    "\n",
    "box = sns.boxplot(ax=axes[1], x='tariff', y='calls_total', palette=\"Greens\",\n",
    "                data=data_merged, )\n",
    "box.set(title='Продолжительность звонков',\n",
    "      xlabel='Тариф', ylabel='Продолжительность звонков')\n",
    "box.set_xticklabels(['Ультра', 'Смарт'])\n",
    "axes[1].grid()\n",
    "\n",
    "plt.show()\n",
    "\n",
    "fig, axes = plt.subplots(1, 2, figsize=(16, 5))\n",
    "\n",
    "s = sns.barplot(ax=axes[0], x='monthly_activity', y='mb_used', ci=None,\n",
    "                color='palegreen',data=data_merged.query('tariff==\"ultra\"'), label='тариф \"Ультра\"')\n",
    "s = sns.barplot(ax=axes[0], x='monthly_activity', y='mb_used',color='seagreen', ci=None,\n",
    "                 data=data_merged.query('tariff==\"smart\"'), label='тариф \"Смарт\"')\n",
    "s.set(title='Распределение объёма используемого трафика по месяцам',\n",
    "      xlabel='Номер месяца', ylabel='Среднее количество израсходованного трафика за месяц, МБ')\n",
    "s.set_xticklabels(ticks_list, rotation = 60)\n",
    "axes[0].legend()\n",
    "\n",
    "\n",
    "box = sns.boxplot(ax=axes[1], x='tariff', y='mb_used', palette=\"Greens\",\n",
    "                data=data_merged, )\n",
    "box.set(title='Объём используемого трафика',\n",
    "      xlabel='Тариф', ylabel='Объём израсходованного трафика, МБ')\n",
    "box.set_xticklabels(['Ультра', 'Смарт'])\n",
    "axes[1].grid()\n",
    "\n",
    "\n",
    "plt.show()"
   ]
  },
  {
   "cell_type": "markdown",
   "metadata": {},
   "source": [
    "Несмотря на то, что число пользователей тарифа \"Ультра\" почти в 2.5 раза меньше, в среднем они активнее пользуются услугами мобильной компании. \n",
    "\n",
    "Рассмотрим распределения продолжительности разговоров, количества сообщений и потраченного интернет-трафика для каждого из тарифов подробнее."
   ]
  },
  {
   "cell_type": "code",
   "execution_count": 26,
   "metadata": {},
   "outputs": [],
   "source": [
    "# эта функция будет отрисовывать нам графики для определенного тарифа\n",
    "\n",
    "def stat_def(dataset):\n",
    "\n",
    "    distr_list = [['duration_total', 'Распределение продолжительности звонков за месяц', 'Продолжительность звонков, мин.'],\n",
    "                  ['message_total', 'Распределение количества сообщений за месяц', 'Число сообщений'],\n",
    "                  ['mb_used', 'Распределение объёма используемого трафика за месяц', \n",
    "                   'Объёма используемого трафика, мб']\n",
    "                 ]\n",
    "    for lists in distr_list:\n",
    "        s = sns.distplot(dataset.query('tariff==\"smart\"')[lists[0]], kde=False, \n",
    "                         hist_kws=dict(histtype='step',  linewidth=4, alpha=1),\n",
    "               color='seagreen', bins=30, label='Тариф \"Смарт\"')\n",
    "        s = sns.distplot(dataset.query('tariff==\"ultra\"')[lists[0]], kde=False, \n",
    "                         hist_kws=dict(histtype='step',  linewidth=4, alpha=1),\n",
    "               color='palegreen', bins=30, label='Тариф \"Ультра\"')\n",
    "        \n",
    "        s.set(title=lists[1], xlabel=lists[2])\n",
    "        plt.grid()\n",
    "        plt.legend()\n",
    "        plt.show()\n",
    "# тут считаются среднее, дисперсия и стандартное отклонение        \n",
    "        var = [np.var(dataset.query('tariff==\"smart\"')[lists[0]], ddof=1),\n",
    "              np.var(dataset.query('tariff==\"ultra\"')[lists[0]], ddof=1)]\n",
    "        std = [np.std(dataset.query('tariff==\"smart\"')[lists[0]], ddof=1),\n",
    "              np.std(dataset.query('tariff==\"ultra\"')[lists[0]], ddof=1)]\n",
    "        mean = [dataset.query('tariff==\"smart\"')[lists[0]].mean(),\n",
    "               dataset.query('tariff==\"ultra\"')[lists[0]].mean()]\n",
    "        print('Среднее для тарифа \"Смарт\": {0:.2f}\\u00B1{1:.2f};\\nСреднее для тарифа \"Ультра\": \\\n",
    "{2:.2f}\\u00B1{3:.2f};'.format(mean[0],std[0]/np.sqrt(smart_total), mean[1],std[1]/np.sqrt(ultra_total)))\n",
    "        print('Отношение средних: {0:.2}'.format(mean[1]/mean[0]))\n",
    "        print('Дисперсия для тарифа \"Смарт\": {0:.2f};\\nДисперсия для тарифа \"Ультра\": {1:.2f}'.format(\n",
    "            var[0], var[1]))\n",
    "        print('Среднеквадратичное отклонение для тарифа \"Смарт\": {0:.2f};\\n\\\n",
    "Среднеквадратичное отклонение для тарифа \"Ультра\": {1:.2f}'.format(std[0], std[1]))      "
   ]
  },
  {
   "cell_type": "code",
   "execution_count": 27,
   "metadata": {},
   "outputs": [
    {
     "data": {
      "image/png": "[encoded data removed]",
      "text/plain": [
       "<Figure size 432x288 with 1 Axes>"
      ]
     },
     "metadata": {
      "needs_background": "light"
     },
     "output_type": "display_data"
    },
    {
     "name": "stdout",
     "output_type": "stream",
     "text": [
      "Среднее для тарифа \"Смарт\": 417.93±10.17;\n",
      "Среднее для тарифа \"Ультра\": 526.62±26.11;\n",
      "Отношение средних: 1.3\n",
      "Дисперсия для тарифа \"Смарт\": 36219.32;\n",
      "Дисперсия для тарифа \"Ультра\": 100873.63\n",
      "Среднеквадратичное отклонение для тарифа \"Смарт\": 190.31;\n",
      "Среднеквадратичное отклонение для тарифа \"Ультра\": 317.61\n"
     ]
    },
    {
     "data": {
      "image/png": "[encoded data removed]",
      "text/plain": [
       "<Figure size 432x288 with 1 Axes>"
      ]
     },
     "metadata": {
      "needs_background": "light"
     },
     "output_type": "display_data"
    },
    {
     "name": "stdout",
     "output_type": "stream",
     "text": [
      "Среднее для тарифа \"Смарт\": 33.38±1.51;\n",
      "Среднее для тарифа \"Ультра\": 49.36±3.93;\n",
      "Отношение средних: 1.5\n",
      "Дисперсия для тарифа \"Смарт\": 796.81;\n",
      "Дисперсия для тарифа \"Ультра\": 2285.27\n",
      "Среднеквадратичное отклонение для тарифа \"Смарт\": 28.23;\n",
      "Среднеквадратичное отклонение для тарифа \"Ультра\": 47.80\n"
     ]
    },
    {
     "data": {
      "image/png": "[encoded data removed]",
      "text/plain": [
       "<Figure size 432x288 with 1 Axes>"
      ]
     },
     "metadata": {
      "needs_background": "light"
     },
     "output_type": "display_data"
    },
    {
     "name": "stdout",
     "output_type": "stream",
     "text": [
      "Среднее для тарифа \"Смарт\": 16208.39±313.79;\n",
      "Среднее для тарифа \"Ультра\": 19468.81±829.16;\n",
      "Отношение средних: 1.2\n",
      "Дисперсия для тарифа \"Смарт\": 34462496.46;\n",
      "Дисперсия для тарифа \"Ультра\": 101751013.78\n",
      "Среднеквадратичное отклонение для тарифа \"Смарт\": 5870.48;\n",
      "Среднеквадратичное отклонение для тарифа \"Ультра\": 10087.17\n"
     ]
    }
   ],
   "source": [
    "stat_def(data_merged)"
   ]
  },
  {
   "cell_type": "code",
   "execution_count": 28,
   "metadata": {},
   "outputs": [
    {
     "name": "stdout",
     "output_type": "stream",
     "text": [
      "Процент пользователей, не отправляющих сообщения для тарифа \"Ультра\":  18.92\n",
      "Процент пользователей, не отправляющих сообщения для тарифа \"Смарт\":  17.71\n"
     ]
    }
   ],
   "source": [
    "tmp = round(100*len(data_merged.query('tariff==\"ultra\" and message_total == 0')['user_id'].unique())/\n",
    "       len(data_merged.query('tariff==\"ultra\"')['user_id'].unique()),2)\n",
    "print('Процент пользователей, не отправляющих сообщения для тарифа \"Ультра\": ',tmp)\n",
    "tmp = round(100*len(data_merged.query('tariff==\"smart\" and message_total == 0')['user_id'].unique())/\n",
    "       len(data_merged.query('tariff==\"smart\"')['user_id'].unique()), 2)\n",
    "print('Процент пользователей, не отправляющих сообщения для тарифа \"Смарт\": ',tmp)"
   ]
  },
  {
   "cell_type": "markdown",
   "metadata": {},
   "source": [
    "Распределения длитетельности звонков, количества отправленных сообщений и потребляемого интернет-трафика близки к нормальным. Пик около нуля в распределении количества сообщений для пользователей тарифа \"Ультра\" совпадает с аналогичным пиком для пользователей тарифа \"Смарт\": 20% и 18% от общего количества пользователей тарифов \"Ультра\" и \"Смарт\" соответсвенно не пользовались услугой передачи сообщений.\n",
    "\n",
    "\n",
    "Пользователям тарифа \"Ультра\" необходимо в среднем в полтора раза больше минут разговора в месяц, больше сообщений и интернет-трафика чем пользователям тарифа \"Смарт\".\n",
    "\n",
    "#### Заключение\n",
    "Сравнивалась активность пользователей для двух тарифов: \"Смарт\" и \"Ультра\". Тарифом \"Смарт\" пользуется 351 человек, тарифом \"Ультра\" -- 149. Несмотря на значительную разницу в количестве, пользователи второго тарифа более активны, и им в среднем нужно:\n",
    "* минут в 1.3 раза  больше;\n",
    "* сообщений в 1.5 раза  больше;\n",
    "* интернет-трафика в 1.2 раза  больше,\n",
    "\n",
    "чем пользователям тарифа \"Смарт\".\n",
    "\n",
    "Средние количества минут разговора, сообщений и объёма интернет-трафика необходимых пользователям каждого тарифа в месяц для анализируемого периода приведены в таблице; ошибки рассчитывались как стандартные ошибки среднего.\n",
    "\n",
    "|     Тариф:            | \"Смарт\" | \"Ультра\" |\n",
    "|-----------------------|---------|----------|\n",
    "| Среднее количество минут:| 417.93±10.17 |526.62±26.11|\n",
    "| Среднее количество сообщений:| 33.38±1.51|49.36±3.93|\n",
    "| Среднее количество мегабайт трафика:| 16208.39±313.79| 19468.81±829.16|"
   ]
  },
  {
   "cell_type": "markdown",
   "metadata": {},
   "source": [
    "### Проверка гипотез"
   ]
  },
  {
   "cell_type": "markdown",
   "metadata": {},
   "source": [
    "Проверим две гипотезы:\n",
    "1. средняя выручка от пользователей тарифов «Ультра» и «Смарт» различаются;\n",
    "2. средняя выручка от пользователей из Москвы отличается от выручки пользователей из других регионов."
   ]
  },
  {
   "cell_type": "markdown",
   "metadata": {},
   "source": [
    "#### Сравнение выручки двух тарифов\n",
    "Нулевую и альтернативную гипотезу софрмулируем так:\n",
    "* **Гипотеза Н$_{0}$**: выручка от пользователей обоих тарифов примерно одинакова;\n",
    "* **Гипотеза Н$_{1}$**: выручки различаются.\n",
    "\n",
    "Разделим датасет на две части и проведем t-тест для проверки гипотез."
   ]
  },
  {
   "cell_type": "code",
   "execution_count": 29,
   "metadata": {},
   "outputs": [
    {
     "data": {
      "image/png": "[encoded data removed]",
      "text/plain": [
       "<Figure size 1080x1152 with 1 Axes>"
      ]
     },
     "metadata": {
      "needs_background": "light"
     },
     "output_type": "display_data"
    }
   ],
   "source": [
    "# разбиваем исходный датасет на два:\n",
    "smart = data_merged.query('tariff==\"smart\"')\n",
    "ultra = data_merged.query('tariff==\"ultra\"')\n",
    "plt.figure(figsize=(15,16))\n",
    "s = sns.distplot(smart['income'], kde=False, \n",
    "                 hist_kws=dict(histtype='step',  linewidth=4, alpha=1),\n",
    "                 color='seagreen', bins=150, label='Тариф \"Смарт\"')\n",
    "s = sns.distplot(ultra['income'], kde=False, \n",
    "                 hist_kws=dict(histtype='step',  linewidth=4, alpha=1),\n",
    "                 color='palegreen', bins=150, label='Тариф \"Ультра\"')\n",
    "s.set(title='Распределение выручки в зависимости от вида тарифа', xlabel='Сумма выручки за месяц, руб.')\n",
    "\n",
    "plt.grid()\n",
    "plt.legend()\n",
    "\n",
    "plt.show()"
   ]
  },
  {
   "cell_type": "markdown",
   "metadata": {},
   "source": [
    "Чаще всего пользователи остаются в рамках предоплаченных пакетов. Пики после 550р и 1950р удалены друг от друга на 200р (для тарифа \"Смарт\") и 150р (для тарифа \"Ультра\"), что соответствует стоимости дополнительного интернет-трафика."
   ]
  },
  {
   "cell_type": "markdown",
   "metadata": {},
   "source": [
    "Наши выборки относятся к разным генеральным совокупностями,  поэтому с помощью метода <code>ttest_ind (array1, array2)</code>  проверим гипотезу о равенстве выручек по двум тарифам. Так как выборки разного размера, выберем случайным образом из большей число элементов равное числу элементов в меньшей. Пороговое значение установим 0.05, так как проверяемая гипотеза является двухсторонней."
   ]
  },
  {
   "cell_type": "code",
   "execution_count": 30,
   "metadata": {},
   "outputs": [
    {
     "name": "stdout",
     "output_type": "stream",
     "text": [
      "Выборки незначительно различаются между собой, equal = True.\n"
     ]
    }
   ],
   "source": [
    "# тест Бартлетта\n",
    "action_set = data_actual.query('genre==\"Action\"')\n",
    "sport_set = data_actual.query('genre==\"Sports\"')\n",
    "p = st.bartlett(action_set['user_score'], sport_set['user_score'])\n",
    "print(np.where(p.pvalue < 0.05, 'Выборки значительно различаются: equal_var=False', \n",
    "         'Выборки незначительно различаются между собой, equal_var=True'))"
   ]
  },
  {
   "cell_type": "code",
   "execution_count": 31,
   "metadata": {},
   "outputs": [
    {
     "name": "stdout",
     "output_type": "stream",
     "text": [
      "p-value:  1.4229814360764067e-160\n",
      "Отвергаем нулевую гипотезу: сумма выручки все-таки зависит от тарифа.\n",
      "Средняя выручка тарифа \"Смарт\", руб.: 1289.97±26.08;\n",
      "Средняя выручка тарифа \"Ультра\", руб.: 2070.15±11.99;\n"
     ]
    }
   ],
   "source": [
    "results = st.ttest_ind(smart['income'], ultra['income'])\n",
    "print('p-value: ', results.pvalue)\n",
    "alpha = 0.05\n",
    "if results.pvalue < alpha:\n",
    "    print('Отвергаем нулевую гипотезу: сумма выручки все-таки зависит от тарифа.')\n",
    "else:\n",
    "    print('Принимаем нулевую гипотезу: сумма выручки не зависит от тарифа.')\n",
    "\n",
    "ste_smart = np.std(smart['income'], ddof=1)/np.sqrt(smart_n)\n",
    "ste_ultra = np.std(ultra['income'], ddof=1)/np.sqrt(ultra_n)\n",
    "print('Средняя выручка тарифа \"Смарт\", руб.: {0:.2f}\\u00B1{1:.2f};'.format(mean_smart, ste_smart))\n",
    "print('Средняя выручка тарифа \"Ультра\", руб.: {0:.2f}\\u00B1{1:.2f};'.format(mean_ultra, ste_ultra))"
   ]
  },
  {
   "cell_type": "markdown",
   "metadata": {},
   "source": [
    "#### Заключение\n",
    "Проверялась гипотеза, что выручки двух тарифов разнятся. Для сравнения выборок применялся метод <code>ttest_ind (array1, array2)</code>. Нулевая и альтернативная гипотезы были сформулированы так:\n",
    "* Гипотеза Н$_{0}$ : выручка от пользователей обоих тарифов примерно одинакова;\n",
    "* Гипотеза Н$_{1}$ : выручки различаются. Разделим датасет на две части и проведем t-тест для проверки гипотез.\n",
    "\n",
    "Исходный датасет мы разбили на два, в каждый из которых вошли записи о пользоватялеях подключенных к разным тарифам, пороговое значение $\\alpha$ было выбрано 0.05. Значение p-value оказалось ниже порогового, а средние выручки двух тарифов различаются почти в два раза: средняя сумма выручки для тарифа \"Смарт\" составила 1289.97±26.08 руб., а для тарифа \"Ультра\" -- 2070.15±11.99 руб. Значит, нулевую гипотезу можно отвергнуть."
   ]
  },
  {
   "cell_type": "markdown",
   "metadata": {},
   "source": [
    "#### Сравнение выручки между Москвой и другими городами\n",
    "Необходимо проверить гипотезу о том, что средняя выручка от пользователей из Москвы отличается от выручки пользователей из других регионов. Для этого сформулируем нулевую и альтернативную гипотезы:\n",
    "* **Гипотеза Н$_{0}$**: средняя выручка от пользователей из Москвы равна выручке пользователей из других регионов;\n",
    "* **Гипотеза Н$_{1}$**: выручки различаются.\n",
    "\n",
    "Разобьем исходный датасет на два (Москва и регионы), сравним межгрупповые (SSB) и внутригрупповые (SSW) суммы квадратов, чтобы понять, насколько сильно различаются датасеты и проведем t-тест."
   ]
  },
  {
   "cell_type": "code",
   "execution_count": 32,
   "metadata": {},
   "outputs": [
    {
     "data": {
      "image/png": "[encoded data removed]",
      "text/plain": [
       "<Figure size 1080x1152 with 1 Axes>"
      ]
     },
     "metadata": {
      "needs_background": "light"
     },
     "output_type": "display_data"
    }
   ],
   "source": [
    "moscow = data_merged.query('city == \"Москва\"')\n",
    "others = data_merged.query('city != \"Москва\"')\n",
    "\n",
    "plt.figure(figsize=(15,16))\n",
    "\n",
    "s = sns.distplot(moscow['income'], kde=False, \n",
    "                 hist_kws=dict(histtype='step',  linewidth=4, alpha=1),\n",
    "                 color='seagreen', bins=150, label='Москва')\n",
    "s = sns.distplot(others['income'], kde=False, \n",
    "                 hist_kws=dict(histtype='step',  linewidth=4, alpha=1),\n",
    "                 color='palegreen', bins=150, label='другие города')\n",
    "s.set(title='Распределение выручки в зависимости от города', xlabel='Сумма выручки за месяц, руб.')\n",
    "plt.grid()\n",
    "plt.legend()\n",
    "plt.show()"
   ]
  },
  {
   "cell_type": "markdown",
   "metadata": {},
   "source": [
    "Форма распределений схожа с распределенениями из предыдущего шага: два основных пика соответствуют абонентской плате, побочные -- плате за дополнительный интернет-трафик."
   ]
  },
  {
   "cell_type": "code",
   "execution_count": 30,
   "metadata": {},
   "outputs": [
    {
     "name": "stdout",
     "output_type": "stream",
     "text": [
      "Выборки незначительно различаются между собой, equal = True.\n"
     ]
    }
   ],
   "source": [
    "mean_moscow = moscow['income'].mean()\n",
    "mean_others = others['income'].mean()\n",
    "mean = data_merged['income'].mean()\n",
    "moscow_n = len(moscow['income'])\n",
    "others_n = len(others['income'])\n",
    "\n",
    "# тест Бартлетта\n",
    "action_set = data_actual.query('genre==\"Action\"')\n",
    "sport_set = data_actual.query('genre==\"Sports\"')\n",
    "p = st.bartlett(action_set['user_score'], sport_set['user_score'])\n",
    "print(np.where(p.pvalue < 0.05, 'Выборки значительно различаются: equal_var=False', \n",
    "         'Выборки незначительно различаются между собой, equal_var=True'))"
   ]
  },
  {
   "cell_type": "code",
   "execution_count": 34,
   "metadata": {},
   "outputs": [
    {
     "name": "stdout",
     "output_type": "stream",
     "text": [
      "p_value:  0.5440152911670224\n",
      "Принимаем нулевую гипотезу: сумма выручки не зависит от города.\n",
      "Средняя выручка пользователей из Москвы, руб.: 1546.71±30.43;\n",
      "Средняя выручка пользователей из других городов, руб.: 1524.94±15.85;\n"
     ]
    }
   ],
   "source": [
    "# t-тест\n",
    "alpha = 0.05\n",
    "results = st.ttest_ind(moscow['income'], others['income'])# equal_var=True\n",
    "print('p_value: ', results.pvalue)\n",
    "if results.pvalue < alpha:\n",
    "    print()\n",
    "    print('Отвергаем нулевую гипотезу: сумма выручки все-таки зависит от города.')\n",
    "else:\n",
    "    print('Принимаем нулевую гипотезу: сумма выручки не зависит от города.')\n",
    "\n",
    "ste_moscow = np.std(moscow['income'], ddof=1)/np.sqrt(moscow_n)\n",
    "ste_others = np.std(others['income'], ddof=1)/np.sqrt(others_n)\n",
    "print('Средняя выручка пользователей из Москвы, руб.: {0:.2f}\\u00B1{1:.2f};'.format(mean_moscow, ste_moscow))\n",
    "print('Средняя выручка пользователей из других городов, руб.: {0:.2f}\\u00B1{1:.2f};'.format(mean_others, ste_others))"
   ]
  },
  {
   "cell_type": "markdown",
   "metadata": {},
   "source": [
    "#### Заключение\n",
    "Сравнивались гипотезы о размере выручки в зависимости от города пользователя. Гипотезы были сформулированы следующим образом:\n",
    "* Гипотеза Н$_{0}$: средняя выручка пользователей из Москвы примерно равна выручке пользователей из других регионов;\n",
    "* Гипотеза Н$_{1}$: выручки различаются.\n",
    "\n",
    "Сравнение проводилось методом <code>ttest_ind (array1, array2, equal_var)</code>. Чтобы выбрать значение параметра equal_var, применялся тест Бартлетта. Пороговое значение $\\alpha$ было выбрано 0.05. Значение p-value оказалось выше порогового, а средние выручки для Москвы и остальных регионов имеют близкие значения: средняя выручка 1546.71±30.43 руб. для Москвы и 1523.63±15.89 руб. для других городов. Таким образом нулевую гипотезу можно принять."
   ]
  },
  {
   "cell_type": "markdown",
   "metadata": {},
   "source": [
    "## Общий вывод"
   ]
  },
  {
   "cell_type": "markdown",
   "metadata": {},
   "source": [
    "Проводился предварительный анализ тарифов компании \"Мегалайн\" на выборке из 500 клиентов собранной за 2018 год. Необходимо определить, какой из тарифов приносит большую выручку. Проверялись следующие гипотезы:\n",
    "* средняя выручка от пользователей тарифов «Ультра» и «Смарт» различаются;\n",
    "* средняя выручка от пользователей из Москвы отличается от выручки от пользователей из других регионов.\n",
    "\n",
    "В нашем распоряжении имелось несколько датасетов, содержащих в себе информацию о пользователях, количестве звонков и их продолжительности для каждого пользователя, количество сообщений отправленных определенным пользователем и объем интернет-трафика для каждого пользователя. Во всех таблицах был изменен тип переменных в столбцах, содержащих информацию о дате события (дату отключения тарифа, дату отправки сообщения и тд.). Также в таблице <code>/datasets/internet.csv</code> был удален лишний столбец Unnamed:0, который содержал номера индексов строк. В таблицах с информацией об интернет-сессиях пользователя, его звонках и сообщениях столбцы с id соответсвующей активности были переименованы в <code>id_[название активности]</code> для удобства дальнейшего использования.\n",
    "    \n",
    "\n",
    "Количество сообщений отправленное каждым пользователем и возраст пользователей распределены равномерно. Объем используемого трафика и продолжительность звонков имеют формы схожие с нормальным распределением, однако в обоих случаях заметен большой пик в районе 0. Эти пики можно объяснить следующим образом:\n",
    "* нулевая продолжнительность звонков соответсвует пропущенным вызовам;\n",
    "* интернет-сессии с нулевыи объёмом соответсвуют случаям, когда доступ в интернет был активирован, но не использовался;\n",
    "\n",
    "Для каждой из активностей пользователей (сообщения, звонки, интернет-трафик) рассчитаны ежемесячные показатели (общее число смс, длительность звонков и тд) и добавлены в исходные таблицы <code>data_[название_активности]</code>. При подсчете значения длительности разговоров округлялись в большую сторону с помощью метода ceil(). Далее эти три таблицы совмещались с исходной таблицей, содержащей информацию о пользователях. Совмещение проводилось функцией merge по столбцам user_id и monthly_activity, тип совмещения -- 'left'. Итоговая таблица называется <code>data_merged</code>, и далее мы будем работать только с ней. \n",
    "    \n",
    "В таблицу <code>data_merged</code> добавлен столбец содержащий ежемесячная выручка от каждого пользователя. Выручка рассчитывалась с помощью метода apply и функции <code>incomes_calc</code>, данные о стоимости услуг каждого тарифного плана брались из исходной таблицы <code>data_tariffs</code>.\n",
    "\n",
    "Сравнивалась активность пользователей для двух тарифов: \"Смарт\" и \"Ультра\". Тарифом \"Самрт\" пользуется 351 человек, тарифом \"Ультра\" -- 149. Несмотря на значительную разницу в количестве, пользователи второго тарифа более активны, и им в среднем нужно больше:\n",
    "* минут в 1.3 раза;\n",
    "* сообщений в 1.5 раза;\n",
    "* интернет-трафикав 1.2 раза,\n",
    "чем пользователям тарифа \"Смарт\".\n",
    "\n",
    "Проверялась гипотеза, что выручки двух тарифов разнятся. Для сравнения выборок применялся метод <code>ttest_ind (array1, array2, equal_var)</code>. Чтобы выбрать значение параметра equal_var, применялся тест Бартлетта. Нулевая и альтернативная гипотезы были сформулированы так:\n",
    "* Гипотеза Н$_{0}$ : выручка от пользователей обоих тарифов примерно одинакова;\n",
    "* Гипотеза Н$_{1}$ : выручки различаются. Разделим датасет на две части и проведем t-тест для проверки гипотез.\n",
    "\n",
    "Исходный датасет мы разбили на два, в каждый из которых вошли записи о пользователях подключенных к разным тарифам, пороговое значение $\\alpha$ было выбрано 0.05. Значение p-value оказалось ниже порогового, а средние выручки двух тарифов различаются почти в два раза. Значит, нулевую гипотезу можно отвергнуть.\n",
    "\n",
    "Сравнивались гипотезы о размере выручки в зависимости от города пользователя. Гипотезы были сформулированы следующим образом:\n",
    "* Гипотеза Н$_{0}$: средняя выручка от пользователей из Москвы примерно равна выручке от пользователей из других регионов;\n",
    "* Гипотеза Н$_{1}$: выручки различаются.\n",
    "\n",
    "Сравнение проводилось методом <code>ttest_ind (array1, array2, equal_var)</code>. Применялся тест Бартлетта. Пороговое значение $\\alpha$ было выбрано 0.05. Значение p-value оказалось выше порогового, а средние выручки для Москвы и остальных регионов имеют близкие значения. Таким образом нулевую гипотезу можно принять.\n",
    "\n",
    "Можно утверждать, что тариф \"Ультра\" приносит большую выручку компании, а средняя выручка в Москве и регионах находится на одном уровне."
   ]
  }
 ],
 "metadata": {
  "ExecuteTimeLog": [
   {
    "duration": 416,
    "start_time": "2021-12-11T15:37:23.352Z"
   },
   {
    "duration": 366,
    "start_time": "2021-12-11T16:18:04.449Z"
   },
   {
    "duration": 350,
    "start_time": "2021-12-11T16:18:21.603Z"
   },
   {
    "duration": 990,
    "start_time": "2021-12-11T16:18:35.409Z"
   },
   {
    "duration": 15,
    "start_time": "2021-12-11T16:18:46.971Z"
   },
   {
    "duration": 898,
    "start_time": "2021-12-11T16:20:32.653Z"
   },
   {
    "duration": 9,
    "start_time": "2021-12-11T16:21:03.805Z"
   },
   {
    "duration": 7,
    "start_time": "2021-12-11T16:21:42.222Z"
   },
   {
    "duration": 9,
    "start_time": "2021-12-11T16:21:51.543Z"
   },
   {
    "duration": 2895,
    "start_time": "2021-12-11T17:04:53.975Z"
   },
   {
    "duration": 3155,
    "start_time": "2021-12-11T17:05:21.646Z"
   },
   {
    "duration": 51,
    "start_time": "2021-12-11T17:05:39.749Z"
   },
   {
    "duration": 56,
    "start_time": "2021-12-11T17:06:50.458Z"
   },
   {
    "duration": 54,
    "start_time": "2021-12-11T17:07:02.108Z"
   },
   {
    "duration": 47,
    "start_time": "2021-12-11T17:07:17.606Z"
   },
   {
    "duration": 46,
    "start_time": "2021-12-11T17:07:23.333Z"
   },
   {
    "duration": 56,
    "start_time": "2021-12-11T17:07:29.535Z"
   },
   {
    "duration": 354,
    "start_time": "2021-12-11T17:08:32.829Z"
   },
   {
    "duration": 43,
    "start_time": "2021-12-11T17:08:53.677Z"
   },
   {
    "duration": 36,
    "start_time": "2021-12-11T17:11:15.770Z"
   },
   {
    "duration": 41,
    "start_time": "2021-12-11T17:13:19.168Z"
   },
   {
    "duration": 48,
    "start_time": "2021-12-11T17:14:19.525Z"
   },
   {
    "duration": 37,
    "start_time": "2021-12-11T17:14:43.808Z"
   },
   {
    "duration": 353,
    "start_time": "2021-12-11T17:24:21.881Z"
   },
   {
    "duration": 1401,
    "start_time": "2021-12-11T17:24:28.049Z"
   },
   {
    "duration": 2516,
    "start_time": "2021-12-11T17:26:05.086Z"
   },
   {
    "duration": 5,
    "start_time": "2021-12-11T17:27:24.856Z"
   },
   {
    "duration": 408,
    "start_time": "2021-12-11T17:28:35.116Z"
   },
   {
    "duration": 6,
    "start_time": "2021-12-11T17:29:10.589Z"
   },
   {
    "duration": 1170,
    "start_time": "2021-12-11T17:29:42.099Z"
   },
   {
    "duration": 430,
    "start_time": "2021-12-11T17:29:43.270Z"
   },
   {
    "duration": 338,
    "start_time": "2021-12-11T17:30:13.680Z"
   },
   {
    "duration": 5,
    "start_time": "2021-12-11T17:30:19.718Z"
   },
   {
    "duration": 9,
    "start_time": "2021-12-11T17:30:38.897Z"
   },
   {
    "duration": 345,
    "start_time": "2021-12-11T17:31:36.545Z"
   },
   {
    "duration": 354,
    "start_time": "2021-12-11T17:31:46.005Z"
   },
   {
    "duration": 17,
    "start_time": "2021-12-11T17:32:25.706Z"
   },
   {
    "duration": 113,
    "start_time": "2021-12-11T17:32:38.211Z"
   },
   {
    "duration": 1194,
    "start_time": "2021-12-11T17:32:50.723Z"
   },
   {
    "duration": 106,
    "start_time": "2021-12-11T17:32:51.919Z"
   },
   {
    "duration": 12,
    "start_time": "2021-12-11T17:33:20.862Z"
   },
   {
    "duration": 12,
    "start_time": "2021-12-11T17:34:37.478Z"
   },
   {
    "duration": 20,
    "start_time": "2021-12-11T17:34:47.434Z"
   },
   {
    "duration": 19,
    "start_time": "2021-12-11T17:35:18.179Z"
   },
   {
    "duration": 10,
    "start_time": "2021-12-11T17:36:24.544Z"
   },
   {
    "duration": 6,
    "start_time": "2021-12-11T17:37:46.284Z"
   },
   {
    "duration": 8,
    "start_time": "2021-12-11T17:37:54.194Z"
   },
   {
    "duration": 445,
    "start_time": "2021-12-11T17:39:13.249Z"
   },
   {
    "duration": 372,
    "start_time": "2021-12-11T17:39:22.269Z"
   },
   {
    "duration": 11,
    "start_time": "2021-12-11T17:39:37.478Z"
   },
   {
    "duration": 9,
    "start_time": "2021-12-11T17:39:52.459Z"
   },
   {
    "duration": 346,
    "start_time": "2021-12-11T17:40:10.202Z"
   },
   {
    "duration": 8,
    "start_time": "2021-12-11T17:40:25.803Z"
   },
   {
    "duration": 491,
    "start_time": "2021-12-11T17:40:38.957Z"
   },
   {
    "duration": 8,
    "start_time": "2021-12-11T17:41:00.304Z"
   },
   {
    "duration": 14,
    "start_time": "2021-12-11T17:41:41.146Z"
   },
   {
    "duration": 11,
    "start_time": "2021-12-11T17:41:57.701Z"
   },
   {
    "duration": 27,
    "start_time": "2021-12-11T17:44:12.974Z"
   },
   {
    "duration": 24,
    "start_time": "2021-12-11T17:44:27.101Z"
   },
   {
    "duration": 204,
    "start_time": "2021-12-11T17:47:49.787Z"
   },
   {
    "duration": 108,
    "start_time": "2021-12-11T17:53:35.429Z"
   },
   {
    "duration": 30,
    "start_time": "2021-12-11T17:53:40.960Z"
   },
   {
    "duration": 204,
    "start_time": "2021-12-11T17:53:57.151Z"
   },
   {
    "duration": 186,
    "start_time": "2021-12-11T17:54:29.314Z"
   },
   {
    "duration": 187,
    "start_time": "2021-12-11T17:55:10.358Z"
   },
   {
    "duration": 224,
    "start_time": "2021-12-11T17:55:25.494Z"
   },
   {
    "duration": 237,
    "start_time": "2021-12-11T17:55:36.079Z"
   },
   {
    "duration": 231,
    "start_time": "2021-12-11T17:55:48.353Z"
   },
   {
    "duration": 647,
    "start_time": "2021-12-11T17:56:05.787Z"
   },
   {
    "duration": 214,
    "start_time": "2021-12-11T17:56:18.880Z"
   },
   {
    "duration": 352,
    "start_time": "2021-12-11T17:56:43.598Z"
   },
   {
    "duration": 1098,
    "start_time": "2021-12-11T17:57:17.470Z"
   },
   {
    "duration": -903,
    "start_time": "2021-12-11T17:59:54.422Z"
   },
   {
    "duration": 1224,
    "start_time": "2021-12-11T18:00:04.671Z"
   },
   {
    "duration": 6629,
    "start_time": "2021-12-11T18:00:05.897Z"
   },
   {
    "duration": -739,
    "start_time": "2021-12-11T18:00:13.270Z"
   },
   {
    "duration": -751,
    "start_time": "2021-12-11T18:00:13.283Z"
   },
   {
    "duration": -756,
    "start_time": "2021-12-11T18:00:13.289Z"
   },
   {
    "duration": 48,
    "start_time": "2021-12-11T18:00:25.178Z"
   },
   {
    "duration": 3036,
    "start_time": "2021-12-11T18:00:28.386Z"
   },
   {
    "duration": 26,
    "start_time": "2021-12-11T18:00:48.596Z"
   },
   {
    "duration": 169,
    "start_time": "2021-12-11T18:00:53.970Z"
   },
   {
    "duration": 364,
    "start_time": "2021-12-11T18:00:56.605Z"
   },
   {
    "duration": 345,
    "start_time": "2021-12-11T18:01:43.637Z"
   },
   {
    "duration": 354,
    "start_time": "2021-12-11T18:02:05.451Z"
   },
   {
    "duration": 354,
    "start_time": "2021-12-11T18:02:22.538Z"
   },
   {
    "duration": 454,
    "start_time": "2021-12-11T18:04:34.219Z"
   },
   {
    "duration": 344,
    "start_time": "2021-12-11T18:05:01.917Z"
   },
   {
    "duration": 1150,
    "start_time": "2021-12-11T18:05:10.356Z"
   },
   {
    "duration": 5875,
    "start_time": "2021-12-11T18:05:11.508Z"
   },
   {
    "duration": -1555,
    "start_time": "2021-12-11T18:05:18.940Z"
   },
   {
    "duration": -1560,
    "start_time": "2021-12-11T18:05:18.946Z"
   },
   {
    "duration": -1573,
    "start_time": "2021-12-11T18:05:18.960Z"
   },
   {
    "duration": 9,
    "start_time": "2021-12-11T18:05:34.997Z"
   },
   {
    "duration": 1205,
    "start_time": "2021-12-11T18:05:50.293Z"
   },
   {
    "duration": 9,
    "start_time": "2021-12-11T18:05:51.500Z"
   },
   {
    "duration": 27,
    "start_time": "2021-12-11T18:05:51.511Z"
   },
   {
    "duration": 172,
    "start_time": "2021-12-11T18:05:51.540Z"
   },
   {
    "duration": 449,
    "start_time": "2021-12-11T18:05:51.714Z"
   },
   {
    "duration": 46,
    "start_time": "2021-12-11T18:07:03.505Z"
   },
   {
    "duration": 214,
    "start_time": "2021-12-11T18:07:56.328Z"
   },
   {
    "duration": 221,
    "start_time": "2021-12-11T18:08:06.714Z"
   },
   {
    "duration": 334,
    "start_time": "2021-12-11T18:08:13.654Z"
   },
   {
    "duration": 201,
    "start_time": "2021-12-11T18:08:27.860Z"
   },
   {
    "duration": 165,
    "start_time": "2021-12-11T18:09:31.578Z"
   },
   {
    "duration": 353,
    "start_time": "2021-12-11T18:09:56.109Z"
   },
   {
    "duration": 280,
    "start_time": "2021-12-11T18:10:05.243Z"
   },
   {
    "duration": 467,
    "start_time": "2021-12-11T18:10:23.814Z"
   },
   {
    "duration": 213,
    "start_time": "2021-12-11T18:11:09.979Z"
   },
   {
    "duration": 114,
    "start_time": "2021-12-11T18:14:19.811Z"
   },
   {
    "duration": 224,
    "start_time": "2021-12-11T18:18:16.968Z"
   },
   {
    "duration": 213,
    "start_time": "2021-12-11T18:19:44.671Z"
   },
   {
    "duration": 22,
    "start_time": "2021-12-11T18:20:09.776Z"
   },
   {
    "duration": 137,
    "start_time": "2021-12-11T18:21:15.115Z"
   },
   {
    "duration": 1299,
    "start_time": "2021-12-11T18:34:33.088Z"
   },
   {
    "duration": 16,
    "start_time": "2021-12-11T18:45:06.377Z"
   },
   {
    "duration": 364,
    "start_time": "2021-12-11T18:46:05.170Z"
   },
   {
    "duration": 1164,
    "start_time": "2021-12-11T18:46:18.562Z"
   },
   {
    "duration": 214,
    "start_time": "2021-12-11T18:46:19.728Z"
   },
   {
    "duration": 25,
    "start_time": "2021-12-11T18:46:19.944Z"
   },
   {
    "duration": 169,
    "start_time": "2021-12-11T18:46:19.971Z"
   },
   {
    "duration": 275,
    "start_time": "2021-12-11T18:46:20.142Z"
   },
   {
    "duration": 101,
    "start_time": "2021-12-11T18:46:20.419Z"
   },
   {
    "duration": 22,
    "start_time": "2021-12-11T18:46:20.522Z"
   },
   {
    "duration": 144,
    "start_time": "2021-12-11T18:46:20.547Z"
   },
   {
    "duration": 1474,
    "start_time": "2021-12-11T18:46:20.693Z"
   },
   {
    "duration": 43,
    "start_time": "2021-12-11T18:46:22.169Z"
   },
   {
    "duration": 434,
    "start_time": "2021-12-11T18:47:36.032Z"
   },
   {
    "duration": 1108,
    "start_time": "2021-12-11T18:47:47.034Z"
   },
   {
    "duration": 212,
    "start_time": "2021-12-11T18:47:48.144Z"
   },
   {
    "duration": 25,
    "start_time": "2021-12-11T18:47:48.359Z"
   },
   {
    "duration": 175,
    "start_time": "2021-12-11T18:47:48.386Z"
   },
   {
    "duration": 261,
    "start_time": "2021-12-11T18:47:48.562Z"
   },
   {
    "duration": 117,
    "start_time": "2021-12-11T18:47:48.825Z"
   },
   {
    "duration": 36,
    "start_time": "2021-12-11T18:47:48.944Z"
   },
   {
    "duration": 239,
    "start_time": "2021-12-11T18:47:48.983Z"
   },
   {
    "duration": 1538,
    "start_time": "2021-12-11T18:47:49.224Z"
   },
   {
    "duration": 53,
    "start_time": "2021-12-11T18:47:50.764Z"
   },
   {
    "duration": 161,
    "start_time": "2021-12-11T18:48:13.913Z"
   },
   {
    "duration": 117,
    "start_time": "2021-12-11T18:49:00.990Z"
   },
   {
    "duration": 112,
    "start_time": "2021-12-11T18:49:10.877Z"
   },
   {
    "duration": 107,
    "start_time": "2021-12-11T18:49:32.568Z"
   },
   {
    "duration": 108,
    "start_time": "2021-12-11T18:49:45.861Z"
   },
   {
    "duration": 162,
    "start_time": "2021-12-11T18:50:14.187Z"
   },
   {
    "duration": 187,
    "start_time": "2021-12-11T18:50:36.857Z"
   },
   {
    "duration": 74,
    "start_time": "2021-12-11T18:51:01.717Z"
   },
   {
    "duration": 458,
    "start_time": "2021-12-11T18:53:01.883Z"
   },
   {
    "duration": 346,
    "start_time": "2021-12-11T18:53:09.934Z"
   },
   {
    "duration": 1117,
    "start_time": "2021-12-11T18:53:22.546Z"
   },
   {
    "duration": 205,
    "start_time": "2021-12-11T18:53:23.665Z"
   },
   {
    "duration": 25,
    "start_time": "2021-12-11T18:53:23.872Z"
   },
   {
    "duration": 191,
    "start_time": "2021-12-11T18:53:23.899Z"
   },
   {
    "duration": 265,
    "start_time": "2021-12-11T18:53:24.092Z"
   },
   {
    "duration": 112,
    "start_time": "2021-12-11T18:53:24.359Z"
   },
   {
    "duration": 34,
    "start_time": "2021-12-11T18:53:24.472Z"
   },
   {
    "duration": 165,
    "start_time": "2021-12-11T18:53:24.509Z"
   },
   {
    "duration": 1388,
    "start_time": "2021-12-11T18:53:24.675Z"
   },
   {
    "duration": 243,
    "start_time": "2021-12-11T18:53:26.066Z"
   },
   {
    "duration": 902,
    "start_time": "2021-12-11T18:54:09.223Z"
   },
   {
    "duration": 893,
    "start_time": "2021-12-11T18:54:26.406Z"
   },
   {
    "duration": 842,
    "start_time": "2021-12-11T18:54:39.606Z"
   },
   {
    "duration": 226,
    "start_time": "2021-12-11T18:54:45.615Z"
   },
   {
    "duration": 500,
    "start_time": "2021-12-11T19:00:41.065Z"
   },
   {
    "duration": 7124,
    "start_time": "2021-12-11T19:02:46.003Z"
   },
   {
    "duration": 1671,
    "start_time": "2021-12-11T19:04:09.955Z"
   },
   {
    "duration": 1530,
    "start_time": "2021-12-11T19:04:23.932Z"
   },
   {
    "duration": 1671,
    "start_time": "2021-12-11T19:04:36.132Z"
   },
   {
    "duration": 1685,
    "start_time": "2021-12-11T19:05:00.919Z"
   },
   {
    "duration": 1651,
    "start_time": "2021-12-11T19:05:16.426Z"
   },
   {
    "duration": 1572,
    "start_time": "2021-12-11T19:06:32.859Z"
   },
   {
    "duration": 1578,
    "start_time": "2021-12-11T19:06:57.005Z"
   },
   {
    "duration": 445,
    "start_time": "2021-12-11T19:07:46.766Z"
   },
   {
    "duration": 786,
    "start_time": "2021-12-11T19:08:29.568Z"
   },
   {
    "duration": 458,
    "start_time": "2021-12-11T19:08:58.734Z"
   },
   {
    "duration": 445,
    "start_time": "2021-12-11T19:09:17.419Z"
   },
   {
    "duration": 653,
    "start_time": "2021-12-11T19:09:30.561Z"
   },
   {
    "duration": 249,
    "start_time": "2021-12-11T19:10:20.725Z"
   },
   {
    "duration": 346,
    "start_time": "2021-12-11T19:10:55.510Z"
   },
   {
    "duration": 293,
    "start_time": "2021-12-11T19:11:02.600Z"
   },
   {
    "duration": 303,
    "start_time": "2021-12-11T19:11:10.058Z"
   },
   {
    "duration": 559,
    "start_time": "2021-12-11T19:11:37.704Z"
   },
   {
    "duration": 565,
    "start_time": "2021-12-11T19:11:57.072Z"
   },
   {
    "duration": 334,
    "start_time": "2021-12-11T19:12:05.739Z"
   },
   {
    "duration": 428,
    "start_time": "2021-12-11T19:13:02.797Z"
   },
   {
    "duration": 365,
    "start_time": "2021-12-11T19:13:13.454Z"
   },
   {
    "duration": 506,
    "start_time": "2021-12-11T19:15:13.615Z"
   },
   {
    "duration": 433,
    "start_time": "2021-12-11T19:20:12.511Z"
   },
   {
    "duration": 535,
    "start_time": "2021-12-11T19:20:21.256Z"
   },
   {
    "duration": 641,
    "start_time": "2021-12-11T19:20:41.596Z"
   },
   {
    "duration": 818,
    "start_time": "2021-12-11T19:21:01.904Z"
   },
   {
    "duration": 500,
    "start_time": "2021-12-11T19:21:37.518Z"
   },
   {
    "duration": 525,
    "start_time": "2021-12-11T19:21:45.329Z"
   },
   {
    "duration": 704,
    "start_time": "2021-12-11T19:24:00.591Z"
   },
   {
    "duration": 596,
    "start_time": "2021-12-11T19:24:10.419Z"
   },
   {
    "duration": 736,
    "start_time": "2021-12-11T19:33:02.014Z"
   },
   {
    "duration": 777,
    "start_time": "2021-12-11T19:33:15.623Z"
   },
   {
    "duration": 787,
    "start_time": "2021-12-11T19:33:37.444Z"
   },
   {
    "duration": 118,
    "start_time": "2021-12-11T19:34:10.072Z"
   },
   {
    "duration": 1002,
    "start_time": "2021-12-11T19:34:19.073Z"
   },
   {
    "duration": 694,
    "start_time": "2021-12-11T19:34:35.295Z"
   },
   {
    "duration": 2454,
    "start_time": "2021-12-11T19:35:03.051Z"
   },
   {
    "duration": 635,
    "start_time": "2021-12-11T19:35:27.791Z"
   },
   {
    "duration": 963,
    "start_time": "2021-12-11T19:36:21.133Z"
   },
   {
    "duration": 2296,
    "start_time": "2021-12-11T19:36:36.572Z"
   },
   {
    "duration": 2407,
    "start_time": "2021-12-11T19:37:07.604Z"
   },
   {
    "duration": 2325,
    "start_time": "2021-12-11T19:38:15.174Z"
   },
   {
    "duration": 236,
    "start_time": "2021-12-11T19:39:09.632Z"
   },
   {
    "duration": 236,
    "start_time": "2021-12-11T19:39:31.461Z"
   },
   {
    "duration": 285,
    "start_time": "2021-12-11T19:39:45.172Z"
   },
   {
    "duration": 2349,
    "start_time": "2021-12-11T19:40:30.322Z"
   },
   {
    "duration": 169,
    "start_time": "2021-12-11T20:05:02.866Z"
   },
   {
    "duration": 2697,
    "start_time": "2021-12-11T20:06:32.433Z"
   },
   {
    "duration": 445,
    "start_time": "2021-12-11T20:07:03.198Z"
   },
   {
    "duration": 535,
    "start_time": "2021-12-11T20:07:10.444Z"
   },
   {
    "duration": 636,
    "start_time": "2021-12-11T20:07:16.598Z"
   },
   {
    "duration": 429,
    "start_time": "2021-12-11T20:07:22.655Z"
   },
   {
    "duration": 204,
    "start_time": "2021-12-11T20:07:31.948Z"
   },
   {
    "duration": 744,
    "start_time": "2021-12-11T20:07:40.039Z"
   },
   {
    "duration": 971,
    "start_time": "2021-12-11T20:07:54.192Z"
   },
   {
    "duration": 283,
    "start_time": "2021-12-11T20:07:58.503Z"
   },
   {
    "duration": 280,
    "start_time": "2021-12-11T20:08:13.401Z"
   },
   {
    "duration": 226,
    "start_time": "2021-12-11T20:17:27.249Z"
   },
   {
    "duration": 66,
    "start_time": "2021-12-11T20:38:05.646Z"
   },
   {
    "duration": 137,
    "start_time": "2021-12-11T20:38:45.371Z"
   },
   {
    "duration": 1174,
    "start_time": "2021-12-11T20:39:12.078Z"
   },
   {
    "duration": 380,
    "start_time": "2021-12-11T20:41:03.203Z"
   },
   {
    "duration": 342,
    "start_time": "2021-12-11T20:41:12.096Z"
   },
   {
    "duration": 336,
    "start_time": "2021-12-11T20:42:04.443Z"
   },
   {
    "duration": 111,
    "start_time": "2021-12-11T20:42:21.208Z"
   },
   {
    "duration": 124,
    "start_time": "2021-12-11T20:42:27.713Z"
   },
   {
    "duration": 123,
    "start_time": "2021-12-11T20:42:43.904Z"
   },
   {
    "duration": 683,
    "start_time": "2021-12-11T20:42:50.825Z"
   },
   {
    "duration": 374,
    "start_time": "2021-12-11T20:48:12.103Z"
   },
   {
    "duration": 1176,
    "start_time": "2021-12-11T20:48:22.474Z"
   },
   {
    "duration": 209,
    "start_time": "2021-12-11T20:48:23.652Z"
   },
   {
    "duration": 24,
    "start_time": "2021-12-11T20:48:23.863Z"
   },
   {
    "duration": 204,
    "start_time": "2021-12-11T20:48:23.889Z"
   },
   {
    "duration": 260,
    "start_time": "2021-12-11T20:48:24.095Z"
   },
   {
    "duration": 113,
    "start_time": "2021-12-11T20:48:24.358Z"
   },
   {
    "duration": 38,
    "start_time": "2021-12-11T20:48:24.473Z"
   },
   {
    "duration": 274,
    "start_time": "2021-12-11T20:48:24.514Z"
   },
   {
    "duration": 175,
    "start_time": "2021-12-11T20:48:24.789Z"
   },
   {
    "duration": 1500,
    "start_time": "2021-12-11T20:48:24.966Z"
   },
   {
    "duration": 52,
    "start_time": "2021-12-11T20:48:26.468Z"
   },
   {
    "duration": 236,
    "start_time": "2021-12-11T20:48:26.521Z"
   },
   {
    "duration": 2323,
    "start_time": "2021-12-11T20:48:26.759Z"
   },
   {
    "duration": 859,
    "start_time": "2021-12-11T20:48:29.084Z"
   },
   {
    "duration": 389,
    "start_time": "2021-12-11T20:48:41.953Z"
   },
   {
    "duration": 357,
    "start_time": "2021-12-11T20:49:06.778Z"
   },
   {
    "duration": 342,
    "start_time": "2021-12-11T20:51:15.474Z"
   },
   {
    "duration": 342,
    "start_time": "2021-12-11T20:51:23.360Z"
   },
   {
    "duration": 349,
    "start_time": "2021-12-11T20:51:51.491Z"
   },
   {
    "duration": 353,
    "start_time": "2021-12-11T20:52:28.972Z"
   },
   {
    "duration": 337,
    "start_time": "2021-12-11T20:52:50.482Z"
   },
   {
    "duration": 47,
    "start_time": "2021-12-11T20:59:19.033Z"
   },
   {
    "duration": 1160,
    "start_time": "2021-12-11T20:59:52.494Z"
   },
   {
    "duration": 213,
    "start_time": "2021-12-11T20:59:53.656Z"
   },
   {
    "duration": 25,
    "start_time": "2021-12-11T20:59:53.871Z"
   },
   {
    "duration": 210,
    "start_time": "2021-12-11T20:59:53.898Z"
   },
   {
    "duration": 270,
    "start_time": "2021-12-11T20:59:54.110Z"
   },
   {
    "duration": 116,
    "start_time": "2021-12-11T20:59:54.382Z"
   },
   {
    "duration": 23,
    "start_time": "2021-12-11T20:59:54.507Z"
   },
   {
    "duration": 270,
    "start_time": "2021-12-11T20:59:54.533Z"
   },
   {
    "duration": 178,
    "start_time": "2021-12-11T20:59:54.804Z"
   },
   {
    "duration": 1355,
    "start_time": "2021-12-11T20:59:54.984Z"
   },
   {
    "duration": 37,
    "start_time": "2021-12-11T20:59:56.341Z"
   },
   {
    "duration": 247,
    "start_time": "2021-12-11T20:59:56.380Z"
   },
   {
    "duration": 2316,
    "start_time": "2021-12-11T20:59:56.630Z"
   },
   {
    "duration": 118,
    "start_time": "2021-12-11T21:00:29.426Z"
   },
   {
    "duration": 1252,
    "start_time": "2021-12-11T21:00:35.505Z"
   },
   {
    "duration": 239,
    "start_time": "2021-12-11T21:00:36.759Z"
   },
   {
    "duration": 24,
    "start_time": "2021-12-11T21:00:37.000Z"
   },
   {
    "duration": 200,
    "start_time": "2021-12-11T21:00:37.026Z"
   },
   {
    "duration": 281,
    "start_time": "2021-12-11T21:00:37.228Z"
   },
   {
    "duration": 113,
    "start_time": "2021-12-11T21:00:37.511Z"
   },
   {
    "duration": 23,
    "start_time": "2021-12-11T21:00:37.626Z"
   },
   {
    "duration": 304,
    "start_time": "2021-12-11T21:00:37.652Z"
   },
   {
    "duration": 185,
    "start_time": "2021-12-11T21:00:37.958Z"
   },
   {
    "duration": 1368,
    "start_time": "2021-12-11T21:00:38.144Z"
   },
   {
    "duration": 38,
    "start_time": "2021-12-11T21:00:39.514Z"
   },
   {
    "duration": 246,
    "start_time": "2021-12-11T21:00:39.554Z"
   },
   {
    "duration": 2340,
    "start_time": "2021-12-11T21:00:39.807Z"
   },
   {
    "duration": 122,
    "start_time": "2021-12-11T21:00:42.148Z"
   },
   {
    "duration": 460,
    "start_time": "2021-12-11T21:01:08.182Z"
   },
   {
    "duration": 359,
    "start_time": "2021-12-11T21:01:30.992Z"
   },
   {
    "duration": 1130,
    "start_time": "2021-12-11T21:01:39.635Z"
   },
   {
    "duration": 217,
    "start_time": "2021-12-11T21:01:40.767Z"
   },
   {
    "duration": 24,
    "start_time": "2021-12-11T21:01:40.986Z"
   },
   {
    "duration": 214,
    "start_time": "2021-12-11T21:01:41.012Z"
   },
   {
    "duration": 260,
    "start_time": "2021-12-11T21:01:41.228Z"
   },
   {
    "duration": 118,
    "start_time": "2021-12-11T21:01:41.489Z"
   },
   {
    "duration": 23,
    "start_time": "2021-12-11T21:01:41.609Z"
   },
   {
    "duration": 277,
    "start_time": "2021-12-11T21:01:41.635Z"
   },
   {
    "duration": 174,
    "start_time": "2021-12-11T21:01:41.914Z"
   },
   {
    "duration": 1350,
    "start_time": "2021-12-11T21:01:42.090Z"
   },
   {
    "duration": 37,
    "start_time": "2021-12-11T21:01:43.442Z"
   },
   {
    "duration": 261,
    "start_time": "2021-12-11T21:01:43.481Z"
   },
   {
    "duration": 2307,
    "start_time": "2021-12-11T21:01:43.744Z"
   },
   {
    "duration": 447,
    "start_time": "2021-12-11T21:01:46.053Z"
   },
   {
    "duration": 371,
    "start_time": "2021-12-11T21:03:40.041Z"
   },
   {
    "duration": 371,
    "start_time": "2021-12-11T21:04:36.305Z"
   },
   {
    "duration": 384,
    "start_time": "2021-12-11T21:04:49.699Z"
   },
   {
    "duration": 45,
    "start_time": "2021-12-11T21:05:04.238Z"
   },
   {
    "duration": 342,
    "start_time": "2021-12-11T21:05:51.698Z"
   },
   {
    "duration": 368,
    "start_time": "2021-12-11T21:06:00.487Z"
   },
   {
    "duration": 1527,
    "start_time": "2021-12-11T21:06:13.236Z"
   },
   {
    "duration": 217,
    "start_time": "2021-12-11T21:06:14.765Z"
   },
   {
    "duration": 26,
    "start_time": "2021-12-11T21:06:14.985Z"
   },
   {
    "duration": 209,
    "start_time": "2021-12-11T21:06:15.013Z"
   },
   {
    "duration": 272,
    "start_time": "2021-12-11T21:06:15.224Z"
   },
   {
    "duration": 128,
    "start_time": "2021-12-11T21:06:15.498Z"
   },
   {
    "duration": 25,
    "start_time": "2021-12-11T21:06:15.629Z"
   },
   {
    "duration": 287,
    "start_time": "2021-12-11T21:06:15.656Z"
   },
   {
    "duration": 184,
    "start_time": "2021-12-11T21:06:15.946Z"
   },
   {
    "duration": 1390,
    "start_time": "2021-12-11T21:06:16.132Z"
   },
   {
    "duration": 38,
    "start_time": "2021-12-11T21:06:17.524Z"
   },
   {
    "duration": 252,
    "start_time": "2021-12-11T21:06:17.564Z"
   },
   {
    "duration": 2342,
    "start_time": "2021-12-11T21:06:17.818Z"
   },
   {
    "duration": 429,
    "start_time": "2021-12-11T21:06:20.162Z"
   },
   {
    "duration": 459,
    "start_time": "2021-12-11T21:06:34.796Z"
   },
   {
    "duration": 18,
    "start_time": "2021-12-11T21:07:39.615Z"
   },
   {
    "duration": 25,
    "start_time": "2021-12-11T21:08:32.405Z"
   },
   {
    "duration": 26,
    "start_time": "2021-12-11T21:08:51.556Z"
   },
   {
    "duration": 51,
    "start_time": "2021-12-11T21:09:08.445Z"
   },
   {
    "duration": 338,
    "start_time": "2021-12-11T21:11:51.970Z"
   },
   {
    "duration": 1365,
    "start_time": "2021-12-11T21:12:19.112Z"
   },
   {
    "duration": 1204,
    "start_time": "2021-12-11T21:17:41.184Z"
   },
   {
    "duration": 291,
    "start_time": "2021-12-11T21:17:42.391Z"
   },
   {
    "duration": 24,
    "start_time": "2021-12-11T21:17:42.685Z"
   },
   {
    "duration": 196,
    "start_time": "2021-12-11T21:17:42.712Z"
   },
   {
    "duration": 262,
    "start_time": "2021-12-11T21:17:42.910Z"
   },
   {
    "duration": 111,
    "start_time": "2021-12-11T21:17:43.173Z"
   },
   {
    "duration": 31,
    "start_time": "2021-12-11T21:17:43.286Z"
   },
   {
    "duration": 266,
    "start_time": "2021-12-11T21:17:43.319Z"
   },
   {
    "duration": 171,
    "start_time": "2021-12-11T21:17:43.587Z"
   },
   {
    "duration": 1379,
    "start_time": "2021-12-11T21:17:43.760Z"
   },
   {
    "duration": 38,
    "start_time": "2021-12-11T21:17:45.142Z"
   },
   {
    "duration": 249,
    "start_time": "2021-12-11T21:17:45.182Z"
   },
   {
    "duration": 2331,
    "start_time": "2021-12-11T21:17:45.434Z"
   },
   {
    "duration": 815,
    "start_time": "2021-12-11T21:18:20.156Z"
   },
   {
    "duration": 29,
    "start_time": "2021-12-11T21:19:22.852Z"
   },
   {
    "duration": 386,
    "start_time": "2021-12-11T21:19:39.752Z"
   },
   {
    "duration": 34,
    "start_time": "2021-12-11T21:19:47.390Z"
   },
   {
    "duration": 390,
    "start_time": "2021-12-11T21:20:16.356Z"
   },
   {
    "duration": 354,
    "start_time": "2021-12-11T21:20:24.487Z"
   },
   {
    "duration": 485,
    "start_time": "2021-12-11T21:20:39.908Z"
   },
   {
    "duration": 333,
    "start_time": "2021-12-11T21:21:35.585Z"
   },
   {
    "duration": 390,
    "start_time": "2021-12-11T21:21:49.650Z"
   },
   {
    "duration": 368,
    "start_time": "2021-12-11T21:22:01.222Z"
   },
   {
    "duration": 355,
    "start_time": "2021-12-11T21:24:30.179Z"
   },
   {
    "duration": 73,
    "start_time": "2021-12-11T21:30:08.762Z"
   },
   {
    "duration": 76,
    "start_time": "2021-12-11T21:30:35.720Z"
   },
   {
    "duration": 62,
    "start_time": "2021-12-11T21:30:50.353Z"
   },
   {
    "duration": 1163,
    "start_time": "2021-12-11T21:31:08.884Z"
   },
   {
    "duration": 217,
    "start_time": "2021-12-11T21:31:10.049Z"
   },
   {
    "duration": 27,
    "start_time": "2021-12-11T21:31:10.269Z"
   },
   {
    "duration": 216,
    "start_time": "2021-12-11T21:31:10.298Z"
   },
   {
    "duration": 273,
    "start_time": "2021-12-11T21:31:10.516Z"
   },
   {
    "duration": 122,
    "start_time": "2021-12-11T21:31:10.791Z"
   },
   {
    "duration": 25,
    "start_time": "2021-12-11T21:31:10.915Z"
   },
   {
    "duration": 377,
    "start_time": "2021-12-11T21:31:10.942Z"
   },
   {
    "duration": 184,
    "start_time": "2021-12-11T21:31:11.322Z"
   },
   {
    "duration": 1319,
    "start_time": "2021-12-11T21:31:11.508Z"
   },
   {
    "duration": 37,
    "start_time": "2021-12-11T21:31:12.828Z"
   },
   {
    "duration": 245,
    "start_time": "2021-12-11T21:31:12.867Z"
   },
   {
    "duration": 2427,
    "start_time": "2021-12-11T21:31:13.114Z"
   },
   {
    "duration": 481,
    "start_time": "2021-12-11T21:31:15.542Z"
   },
   {
    "duration": 73,
    "start_time": "2021-12-11T21:31:28.955Z"
   },
   {
    "duration": 123,
    "start_time": "2021-12-11T21:32:54.768Z"
   },
   {
    "duration": 333,
    "start_time": "2021-12-11T21:42:09.591Z"
   },
   {
    "duration": 4,
    "start_time": "2021-12-11T21:42:25.884Z"
   },
   {
    "duration": 23,
    "start_time": "2021-12-11T21:45:15.932Z"
   },
   {
    "duration": 25,
    "start_time": "2021-12-11T21:45:37.870Z"
   },
   {
    "duration": 374,
    "start_time": "2021-12-11T21:45:55.721Z"
   },
   {
    "duration": 346,
    "start_time": "2021-12-11T21:46:08.911Z"
   },
   {
    "duration": 365,
    "start_time": "2021-12-11T21:46:19.821Z"
   },
   {
    "duration": 24,
    "start_time": "2021-12-11T21:46:30.617Z"
   },
   {
    "duration": 8974,
    "start_time": "2021-12-11T21:47:00.556Z"
   },
   {
    "duration": 56,
    "start_time": "2021-12-11T21:47:38.442Z"
   },
   {
    "duration": 130,
    "start_time": "2021-12-11T21:48:01.248Z"
   },
   {
    "duration": 75,
    "start_time": "2021-12-11T21:48:12.838Z"
   },
   {
    "duration": 79,
    "start_time": "2021-12-11T21:48:33.110Z"
   },
   {
    "duration": 103,
    "start_time": "2021-12-11T21:48:44.270Z"
   },
   {
    "duration": 462,
    "start_time": "2021-12-11T21:49:03.886Z"
   },
   {
    "duration": 147,
    "start_time": "2021-12-11T21:49:16.559Z"
   },
   {
    "duration": 220,
    "start_time": "2021-12-11T21:49:23.876Z"
   },
   {
    "duration": 140,
    "start_time": "2021-12-11T21:49:30.313Z"
   },
   {
    "duration": 54,
    "start_time": "2021-12-11T21:49:54.305Z"
   },
   {
    "duration": 1479,
    "start_time": "2021-12-11T21:50:01.871Z"
   },
   {
    "duration": 229,
    "start_time": "2021-12-11T21:50:03.352Z"
   },
   {
    "duration": 25,
    "start_time": "2021-12-11T21:50:03.583Z"
   },
   {
    "duration": 201,
    "start_time": "2021-12-11T21:50:03.611Z"
   },
   {
    "duration": 262,
    "start_time": "2021-12-11T21:50:03.814Z"
   },
   {
    "duration": 116,
    "start_time": "2021-12-11T21:50:04.078Z"
   },
   {
    "duration": 31,
    "start_time": "2021-12-11T21:50:04.196Z"
   },
   {
    "duration": 281,
    "start_time": "2021-12-11T21:50:04.230Z"
   },
   {
    "duration": 173,
    "start_time": "2021-12-11T21:50:04.513Z"
   },
   {
    "duration": 1385,
    "start_time": "2021-12-11T21:50:04.687Z"
   },
   {
    "duration": 51,
    "start_time": "2021-12-11T21:50:06.073Z"
   },
   {
    "duration": 241,
    "start_time": "2021-12-11T21:50:06.126Z"
   },
   {
    "duration": 2403,
    "start_time": "2021-12-11T21:50:06.369Z"
   },
   {
    "duration": 152,
    "start_time": "2021-12-11T21:50:08.773Z"
   },
   {
    "duration": 55,
    "start_time": "2021-12-11T21:50:08.927Z"
   },
   {
    "duration": 292,
    "start_time": "2021-12-11T21:53:18.082Z"
   },
   {
    "duration": 289,
    "start_time": "2021-12-11T21:53:34.463Z"
   },
   {
    "duration": 257,
    "start_time": "2021-12-11T21:53:50.526Z"
   },
   {
    "duration": 253,
    "start_time": "2021-12-11T21:54:43.012Z"
   },
   {
    "duration": 13,
    "start_time": "2021-12-11T21:55:39.175Z"
   },
   {
    "duration": 211,
    "start_time": "2021-12-11T21:56:29.901Z"
   },
   {
    "duration": 22,
    "start_time": "2021-12-11T21:58:15.048Z"
   },
   {
    "duration": 423,
    "start_time": "2021-12-11T21:59:31.968Z"
   },
   {
    "duration": 111,
    "start_time": "2021-12-11T21:59:39.678Z"
   },
   {
    "duration": 350,
    "start_time": "2021-12-11T21:59:46.872Z"
   },
   {
    "duration": 345,
    "start_time": "2021-12-11T22:00:05.289Z"
   },
   {
    "duration": 16,
    "start_time": "2021-12-11T22:00:11.717Z"
   },
   {
    "duration": 31,
    "start_time": "2021-12-11T22:00:31.263Z"
   },
   {
    "duration": 62,
    "start_time": "2021-12-11T22:00:41.880Z"
   },
   {
    "duration": 44,
    "start_time": "2021-12-11T22:00:59.220Z"
   },
   {
    "duration": 34,
    "start_time": "2021-12-11T22:01:16.697Z"
   },
   {
    "duration": 33,
    "start_time": "2021-12-11T22:01:25.932Z"
   },
   {
    "duration": 34,
    "start_time": "2021-12-11T22:01:49.758Z"
   },
   {
    "duration": 38,
    "start_time": "2021-12-11T22:02:25.175Z"
   },
   {
    "duration": 39,
    "start_time": "2021-12-11T22:03:03.559Z"
   },
   {
    "duration": 35,
    "start_time": "2021-12-11T22:03:26.999Z"
   },
   {
    "duration": 47,
    "start_time": "2021-12-11T22:04:02.407Z"
   },
   {
    "duration": 60,
    "start_time": "2021-12-11T22:04:35.819Z"
   },
   {
    "duration": 296,
    "start_time": "2021-12-11T22:06:13.099Z"
   },
   {
    "duration": 8718,
    "start_time": "2021-12-11T22:06:17.361Z"
   },
   {
    "duration": 250,
    "start_time": "2021-12-11T22:07:25.747Z"
   },
   {
    "duration": 8923,
    "start_time": "2021-12-11T22:07:32.942Z"
   },
   {
    "duration": 390,
    "start_time": "2021-12-11T22:08:02.544Z"
   },
   {
    "duration": 369,
    "start_time": "2021-12-11T22:08:07.014Z"
   },
   {
    "duration": 232,
    "start_time": "2021-12-11T22:08:15.490Z"
   },
   {
    "duration": 299,
    "start_time": "2021-12-11T22:08:24.349Z"
   },
   {
    "duration": 1185,
    "start_time": "2021-12-11T22:08:43.684Z"
   },
   {
    "duration": 219,
    "start_time": "2021-12-11T22:08:44.871Z"
   },
   {
    "duration": 24,
    "start_time": "2021-12-11T22:08:45.092Z"
   },
   {
    "duration": 217,
    "start_time": "2021-12-11T22:08:45.118Z"
   },
   {
    "duration": 262,
    "start_time": "2021-12-11T22:08:45.337Z"
   },
   {
    "duration": 128,
    "start_time": "2021-12-11T22:08:45.600Z"
   },
   {
    "duration": 22,
    "start_time": "2021-12-11T22:08:45.730Z"
   },
   {
    "duration": 280,
    "start_time": "2021-12-11T22:08:45.755Z"
   },
   {
    "duration": 187,
    "start_time": "2021-12-11T22:08:46.037Z"
   },
   {
    "duration": 1318,
    "start_time": "2021-12-11T22:08:46.226Z"
   },
   {
    "duration": 37,
    "start_time": "2021-12-11T22:08:47.546Z"
   },
   {
    "duration": 262,
    "start_time": "2021-12-11T22:08:47.584Z"
   },
   {
    "duration": 2304,
    "start_time": "2021-12-11T22:08:47.847Z"
   },
   {
    "duration": 355,
    "start_time": "2021-12-11T22:08:50.152Z"
   },
   {
    "duration": 54,
    "start_time": "2021-12-11T22:08:50.508Z"
   },
   {
    "duration": 76,
    "start_time": "2021-12-11T22:08:50.564Z"
   },
   {
    "duration": 73,
    "start_time": "2021-12-11T22:10:21.156Z"
   },
   {
    "duration": 79,
    "start_time": "2021-12-11T22:10:41.227Z"
   },
   {
    "duration": 54,
    "start_time": "2021-12-11T22:11:19.101Z"
   },
   {
    "duration": 198,
    "start_time": "2021-12-11T22:13:32.372Z"
   },
   {
    "duration": 434,
    "start_time": "2021-12-11T22:24:16.052Z"
   },
   {
    "duration": 360,
    "start_time": "2021-12-11T22:24:25.652Z"
   },
   {
    "duration": 51,
    "start_time": "2021-12-11T22:31:56.884Z"
   },
   {
    "duration": 38,
    "start_time": "2021-12-11T22:37:56.446Z"
   },
   {
    "duration": 48,
    "start_time": "2021-12-11T22:38:08.240Z"
   },
   {
    "duration": 10314,
    "start_time": "2021-12-11T22:39:37.009Z"
   },
   {
    "duration": 394,
    "start_time": "2021-12-11T22:40:00.627Z"
   },
   {
    "duration": 510,
    "start_time": "2021-12-11T22:40:47.799Z"
   },
   {
    "duration": 52,
    "start_time": "2021-12-11T22:40:56.236Z"
   },
   {
    "duration": 47,
    "start_time": "2021-12-11T22:41:04.603Z"
   },
   {
    "duration": 42,
    "start_time": "2021-12-11T22:41:19.600Z"
   },
   {
    "duration": 41,
    "start_time": "2021-12-11T22:41:29.139Z"
   },
   {
    "duration": 1137,
    "start_time": "2021-12-11T22:41:48.867Z"
   },
   {
    "duration": 225,
    "start_time": "2021-12-11T22:41:50.006Z"
   },
   {
    "duration": 26,
    "start_time": "2021-12-11T22:41:50.233Z"
   },
   {
    "duration": 221,
    "start_time": "2021-12-11T22:41:50.262Z"
   },
   {
    "duration": 268,
    "start_time": "2021-12-11T22:41:50.485Z"
   },
   {
    "duration": 124,
    "start_time": "2021-12-11T22:41:50.755Z"
   },
   {
    "duration": 37,
    "start_time": "2021-12-11T22:41:50.880Z"
   },
   {
    "duration": 273,
    "start_time": "2021-12-11T22:41:50.920Z"
   },
   {
    "duration": 194,
    "start_time": "2021-12-11T22:41:51.195Z"
   },
   {
    "duration": 1362,
    "start_time": "2021-12-11T22:41:51.391Z"
   },
   {
    "duration": 52,
    "start_time": "2021-12-11T22:41:52.755Z"
   },
   {
    "duration": 241,
    "start_time": "2021-12-11T22:41:52.808Z"
   },
   {
    "duration": 2355,
    "start_time": "2021-12-11T22:41:53.051Z"
   },
   {
    "duration": 54,
    "start_time": "2021-12-11T22:41:55.408Z"
   },
   {
    "duration": 75,
    "start_time": "2021-12-11T22:41:55.464Z"
   },
   {
    "duration": 266,
    "start_time": "2021-12-11T22:41:55.541Z"
   },
   {
    "duration": 67,
    "start_time": "2021-12-11T22:44:15.295Z"
   },
   {
    "duration": 67,
    "start_time": "2021-12-11T22:44:23.468Z"
   },
   {
    "duration": 65,
    "start_time": "2021-12-11T22:44:41.318Z"
   },
   {
    "duration": 72,
    "start_time": "2021-12-11T22:45:03.770Z"
   },
   {
    "duration": 498,
    "start_time": "2021-12-11T22:46:01.388Z"
   },
   {
    "duration": 67,
    "start_time": "2021-12-11T22:46:09.349Z"
   },
   {
    "duration": 93,
    "start_time": "2021-12-11T22:47:35.117Z"
   },
   {
    "duration": 98,
    "start_time": "2021-12-11T22:47:41.737Z"
   },
   {
    "duration": 95,
    "start_time": "2021-12-11T22:47:51.806Z"
   },
   {
    "duration": 96,
    "start_time": "2021-12-11T22:48:00.202Z"
   },
   {
    "duration": 94,
    "start_time": "2021-12-11T22:48:14.208Z"
   },
   {
    "duration": 17,
    "start_time": "2021-12-11T22:54:00.191Z"
   },
   {
    "duration": 14,
    "start_time": "2021-12-11T22:54:12.321Z"
   },
   {
    "duration": 34,
    "start_time": "2021-12-11T22:54:36.183Z"
   },
   {
    "duration": 65,
    "start_time": "2021-12-11T22:54:46.262Z"
   },
   {
    "duration": 41,
    "start_time": "2021-12-11T22:55:32.178Z"
   },
   {
    "duration": 90,
    "start_time": "2021-12-11T22:56:36.601Z"
   },
   {
    "duration": 91,
    "start_time": "2021-12-11T22:57:22.798Z"
   },
   {
    "duration": 475,
    "start_time": "2021-12-11T22:57:58.365Z"
   },
   {
    "duration": 91,
    "start_time": "2021-12-11T22:58:06.538Z"
   },
   {
    "duration": 38,
    "start_time": "2021-12-11T22:58:10.389Z"
   },
   {
    "duration": 33,
    "start_time": "2021-12-11T23:00:19.066Z"
   },
   {
    "duration": 40,
    "start_time": "2021-12-11T23:00:55.731Z"
   },
   {
    "duration": 59,
    "start_time": "2021-12-11T23:01:12.169Z"
   },
   {
    "duration": 71,
    "start_time": "2021-12-11T23:02:36.205Z"
   },
   {
    "duration": 1388,
    "start_time": "2021-12-11T23:02:59.332Z"
   },
   {
    "duration": 257,
    "start_time": "2021-12-11T23:03:00.723Z"
   },
   {
    "duration": 29,
    "start_time": "2021-12-11T23:03:00.983Z"
   },
   {
    "duration": 231,
    "start_time": "2021-12-11T23:03:01.014Z"
   },
   {
    "duration": 275,
    "start_time": "2021-12-11T23:03:01.247Z"
   },
   {
    "duration": 131,
    "start_time": "2021-12-11T23:03:01.524Z"
   },
   {
    "duration": 25,
    "start_time": "2021-12-11T23:03:01.657Z"
   },
   {
    "duration": 279,
    "start_time": "2021-12-11T23:03:01.685Z"
   },
   {
    "duration": 178,
    "start_time": "2021-12-11T23:03:01.966Z"
   },
   {
    "duration": 1503,
    "start_time": "2021-12-11T23:03:02.145Z"
   },
   {
    "duration": 37,
    "start_time": "2021-12-11T23:03:03.650Z"
   },
   {
    "duration": 280,
    "start_time": "2021-12-11T23:03:03.689Z"
   },
   {
    "duration": 2493,
    "start_time": "2021-12-11T23:03:03.972Z"
   },
   {
    "duration": 65,
    "start_time": "2021-12-11T23:03:06.467Z"
   },
   {
    "duration": 127,
    "start_time": "2021-12-11T23:03:06.534Z"
   },
   {
    "duration": 74,
    "start_time": "2021-12-11T23:03:06.663Z"
   },
   {
    "duration": 8,
    "start_time": "2021-12-11T23:15:12.685Z"
   },
   {
    "duration": 421,
    "start_time": "2021-12-11T23:18:22.372Z"
   },
   {
    "duration": 358,
    "start_time": "2021-12-11T23:18:53.461Z"
   },
   {
    "duration": 177,
    "start_time": "2021-12-11T23:19:08.391Z"
   },
   {
    "duration": 367,
    "start_time": "2021-12-11T23:19:24.884Z"
   },
   {
    "duration": 154,
    "start_time": "2021-12-11T23:19:39.820Z"
   },
   {
    "duration": 113,
    "start_time": "2021-12-11T23:19:47.176Z"
   },
   {
    "duration": 370,
    "start_time": "2021-12-11T23:19:51.884Z"
   },
   {
    "duration": 9,
    "start_time": "2021-12-11T23:20:01.868Z"
   },
   {
    "duration": 10,
    "start_time": "2021-12-11T23:20:10.901Z"
   },
   {
    "duration": 26,
    "start_time": "2021-12-11T23:20:15.873Z"
   },
   {
    "duration": 550,
    "start_time": "2021-12-11T23:21:06.752Z"
   },
   {
    "duration": 9,
    "start_time": "2021-12-11T23:21:50.127Z"
   },
   {
    "duration": 107,
    "start_time": "2021-12-11T23:25:26.332Z"
   },
   {
    "duration": 363,
    "start_time": "2021-12-11T23:29:14.718Z"
   },
   {
    "duration": 109,
    "start_time": "2021-12-11T23:29:33.929Z"
   },
   {
    "duration": 109,
    "start_time": "2021-12-11T23:29:48.903Z"
   },
   {
    "duration": 1143,
    "start_time": "2021-12-11T23:30:03.827Z"
   },
   {
    "duration": 210,
    "start_time": "2021-12-11T23:30:04.972Z"
   },
   {
    "duration": 24,
    "start_time": "2021-12-11T23:30:05.184Z"
   },
   {
    "duration": 213,
    "start_time": "2021-12-11T23:30:05.210Z"
   },
   {
    "duration": 262,
    "start_time": "2021-12-11T23:30:05.425Z"
   },
   {
    "duration": 129,
    "start_time": "2021-12-11T23:30:05.689Z"
   },
   {
    "duration": 22,
    "start_time": "2021-12-11T23:30:05.820Z"
   },
   {
    "duration": 275,
    "start_time": "2021-12-11T23:30:05.845Z"
   },
   {
    "duration": 186,
    "start_time": "2021-12-11T23:30:06.122Z"
   },
   {
    "duration": 1291,
    "start_time": "2021-12-11T23:30:06.310Z"
   },
   {
    "duration": 35,
    "start_time": "2021-12-11T23:30:07.606Z"
   },
   {
    "duration": 241,
    "start_time": "2021-12-11T23:30:07.642Z"
   },
   {
    "duration": 2394,
    "start_time": "2021-12-11T23:30:07.885Z"
   },
   {
    "duration": 66,
    "start_time": "2021-12-11T23:30:10.282Z"
   },
   {
    "duration": 124,
    "start_time": "2021-12-11T23:30:10.350Z"
   },
   {
    "duration": 69,
    "start_time": "2021-12-11T23:30:10.476Z"
   },
   {
    "duration": 8,
    "start_time": "2021-12-11T23:30:10.547Z"
   },
   {
    "duration": 118,
    "start_time": "2021-12-11T23:31:38.528Z"
   },
   {
    "duration": 663,
    "start_time": "2021-12-11T23:48:41.326Z"
   },
   {
    "duration": 9531,
    "start_time": "2021-12-11T23:49:32.870Z"
   },
   {
    "duration": 303,
    "start_time": "2021-12-11T23:50:08.131Z"
   },
   {
    "duration": 300,
    "start_time": "2021-12-11T23:52:22.907Z"
   },
   {
    "duration": 289,
    "start_time": "2021-12-11T23:53:22.487Z"
   },
   {
    "duration": 283,
    "start_time": "2021-12-11T23:54:27.073Z"
   },
   {
    "duration": 264,
    "start_time": "2021-12-11T23:54:49.643Z"
   },
   {
    "duration": 328,
    "start_time": "2021-12-11T23:55:19.884Z"
   },
   {
    "duration": 283,
    "start_time": "2021-12-11T23:58:58.226Z"
   },
   {
    "duration": 272,
    "start_time": "2021-12-12T00:08:45.179Z"
   },
   {
    "duration": 1377,
    "start_time": "2021-12-12T09:35:35.909Z"
   },
   {
    "duration": 247,
    "start_time": "2021-12-12T09:35:55.227Z"
   },
   {
    "duration": 49,
    "start_time": "2021-12-12T09:36:00.900Z"
   },
   {
    "duration": 200,
    "start_time": "2021-12-12T09:36:00.950Z"
   },
   {
    "duration": 23,
    "start_time": "2021-12-12T09:36:01.152Z"
   },
   {
    "duration": 202,
    "start_time": "2021-12-12T09:36:01.177Z"
   },
   {
    "duration": 236,
    "start_time": "2021-12-12T09:36:01.388Z"
   },
   {
    "duration": 110,
    "start_time": "2021-12-12T09:36:01.626Z"
   },
   {
    "duration": 20,
    "start_time": "2021-12-12T09:36:01.738Z"
   },
   {
    "duration": 251,
    "start_time": "2021-12-12T09:36:01.760Z"
   },
   {
    "duration": 154,
    "start_time": "2021-12-12T09:36:02.013Z"
   },
   {
    "duration": 1226,
    "start_time": "2021-12-12T09:36:02.168Z"
   },
   {
    "duration": 32,
    "start_time": "2021-12-12T09:36:03.396Z"
   },
   {
    "duration": 232,
    "start_time": "2021-12-12T09:36:03.430Z"
   },
   {
    "duration": 2169,
    "start_time": "2021-12-12T09:36:03.663Z"
   },
   {
    "duration": 60,
    "start_time": "2021-12-12T09:36:05.833Z"
   },
   {
    "duration": 151,
    "start_time": "2021-12-12T09:36:05.894Z"
   },
   {
    "duration": 62,
    "start_time": "2021-12-12T09:36:06.047Z"
   },
   {
    "duration": 277,
    "start_time": "2021-12-12T09:36:06.110Z"
   },
   {
    "duration": 570,
    "start_time": "2021-12-12T09:36:06.389Z"
   },
   {
    "duration": 16537,
    "start_time": "2021-12-12T09:38:43.650Z"
   },
   {
    "duration": 459,
    "start_time": "2021-12-12T09:52:18.437Z"
   },
   {
    "duration": 446,
    "start_time": "2021-12-12T09:52:50.907Z"
   },
   {
    "duration": 226,
    "start_time": "2021-12-12T09:54:11.986Z"
   },
   {
    "duration": 362,
    "start_time": "2021-12-12T09:56:00.176Z"
   },
   {
    "duration": 436,
    "start_time": "2021-12-12T09:56:11.315Z"
   },
   {
    "duration": 367,
    "start_time": "2021-12-12T09:56:18.482Z"
   },
   {
    "duration": 431,
    "start_time": "2021-12-12T09:58:02.743Z"
   },
   {
    "duration": 441,
    "start_time": "2021-12-12T09:59:09.197Z"
   },
   {
    "duration": 671,
    "start_time": "2021-12-12T10:00:21.975Z"
   },
   {
    "duration": 438,
    "start_time": "2021-12-12T10:00:27.812Z"
   },
   {
    "duration": 436,
    "start_time": "2021-12-12T10:00:31.931Z"
   },
   {
    "duration": 340,
    "start_time": "2021-12-12T10:01:39.413Z"
   },
   {
    "duration": 413,
    "start_time": "2021-12-12T10:02:49.971Z"
   },
   {
    "duration": 760,
    "start_time": "2021-12-12T10:05:00.382Z"
   },
   {
    "duration": 849,
    "start_time": "2021-12-12T10:05:14.286Z"
   },
   {
    "duration": 76,
    "start_time": "2021-12-12T10:05:51.679Z"
   },
   {
    "duration": 791,
    "start_time": "2021-12-12T10:05:54.904Z"
   },
   {
    "duration": 819,
    "start_time": "2021-12-12T10:06:23.771Z"
   },
   {
    "duration": 706,
    "start_time": "2021-12-12T10:07:34.609Z"
   },
   {
    "duration": 490,
    "start_time": "2021-12-12T10:08:01.844Z"
   },
   {
    "duration": 580,
    "start_time": "2021-12-12T10:08:35.044Z"
   },
   {
    "duration": 228,
    "start_time": "2021-12-12T10:08:50.144Z"
   },
   {
    "duration": 248,
    "start_time": "2021-12-12T10:09:26.460Z"
   },
   {
    "duration": 578,
    "start_time": "2021-12-12T10:09:45.625Z"
   },
   {
    "duration": 560,
    "start_time": "2021-12-12T10:10:46.709Z"
   },
   {
    "duration": 238,
    "start_time": "2021-12-12T10:10:52.373Z"
   },
   {
    "duration": 479,
    "start_time": "2021-12-12T10:12:37.173Z"
   },
   {
    "duration": 487,
    "start_time": "2021-12-12T10:13:25.761Z"
   },
   {
    "duration": 262,
    "start_time": "2021-12-12T10:13:36.949Z"
   },
   {
    "duration": 266,
    "start_time": "2021-12-12T10:14:13.559Z"
   },
   {
    "duration": 262,
    "start_time": "2021-12-12T10:14:32.396Z"
   },
   {
    "duration": 606,
    "start_time": "2021-12-12T10:16:03.971Z"
   },
   {
    "duration": 619,
    "start_time": "2021-12-12T10:17:00.793Z"
   },
   {
    "duration": 270,
    "start_time": "2021-12-12T10:17:16.277Z"
   },
   {
    "duration": 411,
    "start_time": "2021-12-12T10:17:31.864Z"
   },
   {
    "duration": 281,
    "start_time": "2021-12-12T10:17:35.801Z"
   },
   {
    "duration": 250,
    "start_time": "2021-12-12T10:17:45.502Z"
   },
   {
    "duration": 272,
    "start_time": "2021-12-12T10:17:52.226Z"
   },
   {
    "duration": 1023,
    "start_time": "2021-12-12T10:21:04.230Z"
   },
   {
    "duration": 194,
    "start_time": "2021-12-12T10:21:05.254Z"
   },
   {
    "duration": 23,
    "start_time": "2021-12-12T10:21:05.450Z"
   },
   {
    "duration": 195,
    "start_time": "2021-12-12T10:21:05.475Z"
   },
   {
    "duration": 232,
    "start_time": "2021-12-12T10:21:05.671Z"
   },
   {
    "duration": 107,
    "start_time": "2021-12-12T10:21:05.905Z"
   },
   {
    "duration": 20,
    "start_time": "2021-12-12T10:21:06.014Z"
   },
   {
    "duration": 252,
    "start_time": "2021-12-12T10:21:06.037Z"
   },
   {
    "duration": 158,
    "start_time": "2021-12-12T10:21:06.291Z"
   },
   {
    "duration": 1209,
    "start_time": "2021-12-12T10:21:06.451Z"
   },
   {
    "duration": 39,
    "start_time": "2021-12-12T10:21:07.662Z"
   },
   {
    "duration": 217,
    "start_time": "2021-12-12T10:21:07.702Z"
   },
   {
    "duration": 2132,
    "start_time": "2021-12-12T10:21:07.921Z"
   },
   {
    "duration": 59,
    "start_time": "2021-12-12T10:21:10.054Z"
   },
   {
    "duration": 147,
    "start_time": "2021-12-12T10:21:10.115Z"
   },
   {
    "duration": 59,
    "start_time": "2021-12-12T10:21:10.263Z"
   },
   {
    "duration": 267,
    "start_time": "2021-12-12T10:21:10.324Z"
   },
   {
    "duration": 19880,
    "start_time": "2021-12-12T10:21:10.593Z"
   },
   {
    "duration": 205,
    "start_time": "2021-12-12T10:21:30.489Z"
   },
   {
    "duration": 203,
    "start_time": "2021-12-12T10:21:38.728Z"
   },
   {
    "duration": 276,
    "start_time": "2021-12-12T10:21:45.043Z"
   },
   {
    "duration": 1054,
    "start_time": "2021-12-12T10:21:56.305Z"
   },
   {
    "duration": 230,
    "start_time": "2021-12-12T10:21:57.360Z"
   },
   {
    "duration": 24,
    "start_time": "2021-12-12T10:21:57.592Z"
   },
   {
    "duration": 192,
    "start_time": "2021-12-12T10:21:57.618Z"
   },
   {
    "duration": 312,
    "start_time": "2021-12-12T10:21:57.812Z"
   },
   {
    "duration": 114,
    "start_time": "2021-12-12T10:21:58.125Z"
   },
   {
    "duration": 19,
    "start_time": "2021-12-12T10:21:58.240Z"
   },
   {
    "duration": 317,
    "start_time": "2021-12-12T10:21:58.261Z"
   },
   {
    "duration": 165,
    "start_time": "2021-12-12T10:21:58.588Z"
   },
   {
    "duration": 1381,
    "start_time": "2021-12-12T10:21:58.755Z"
   },
   {
    "duration": 33,
    "start_time": "2021-12-12T10:22:00.138Z"
   },
   {
    "duration": 301,
    "start_time": "2021-12-12T10:22:00.173Z"
   },
   {
    "duration": 2342,
    "start_time": "2021-12-12T10:22:00.475Z"
   },
   {
    "duration": 47,
    "start_time": "2021-12-12T10:22:02.819Z"
   },
   {
    "duration": 108,
    "start_time": "2021-12-12T10:22:02.867Z"
   },
   {
    "duration": 63,
    "start_time": "2021-12-12T10:22:02.977Z"
   },
   {
    "duration": 274,
    "start_time": "2021-12-12T10:22:03.042Z"
   },
   {
    "duration": 24160,
    "start_time": "2021-12-12T10:22:03.318Z"
   },
   {
    "duration": 348,
    "start_time": "2021-12-12T10:22:31.354Z"
   },
   {
    "duration": 279,
    "start_time": "2021-12-12T10:22:39.739Z"
   },
   {
    "duration": 1101,
    "start_time": "2021-12-12T10:22:49.521Z"
   },
   {
    "duration": 190,
    "start_time": "2021-12-12T10:22:50.623Z"
   },
   {
    "duration": 23,
    "start_time": "2021-12-12T10:22:50.815Z"
   },
   {
    "duration": 184,
    "start_time": "2021-12-12T10:22:50.840Z"
   },
   {
    "duration": 233,
    "start_time": "2021-12-12T10:22:51.026Z"
   },
   {
    "duration": 107,
    "start_time": "2021-12-12T10:22:51.261Z"
   },
   {
    "duration": 27,
    "start_time": "2021-12-12T10:22:51.369Z"
   },
   {
    "duration": 238,
    "start_time": "2021-12-12T10:22:51.398Z"
   },
   {
    "duration": 163,
    "start_time": "2021-12-12T10:22:51.638Z"
   },
   {
    "duration": 1243,
    "start_time": "2021-12-12T10:22:51.803Z"
   },
   {
    "duration": 44,
    "start_time": "2021-12-12T10:22:53.048Z"
   },
   {
    "duration": 213,
    "start_time": "2021-12-12T10:22:53.093Z"
   },
   {
    "duration": 2110,
    "start_time": "2021-12-12T10:22:53.307Z"
   },
   {
    "duration": 48,
    "start_time": "2021-12-12T10:22:55.419Z"
   },
   {
    "duration": 162,
    "start_time": "2021-12-12T10:22:55.468Z"
   },
   {
    "duration": 64,
    "start_time": "2021-12-12T10:22:55.632Z"
   },
   {
    "duration": 277,
    "start_time": "2021-12-12T10:22:55.698Z"
   },
   {
    "duration": 17212,
    "start_time": "2021-12-12T10:22:55.977Z"
   },
   {
    "duration": 1164,
    "start_time": "2021-12-12T10:23:53.495Z"
   },
   {
    "duration": 265,
    "start_time": "2021-12-12T10:23:54.661Z"
   },
   {
    "duration": 23,
    "start_time": "2021-12-12T10:23:54.927Z"
   },
   {
    "duration": 196,
    "start_time": "2021-12-12T10:23:54.952Z"
   },
   {
    "duration": 366,
    "start_time": "2021-12-12T10:23:55.150Z"
   },
   {
    "duration": 186,
    "start_time": "2021-12-12T10:23:55.518Z"
   },
   {
    "duration": 30,
    "start_time": "2021-12-12T10:23:55.706Z"
   },
   {
    "duration": 342,
    "start_time": "2021-12-12T10:23:55.739Z"
   },
   {
    "duration": 157,
    "start_time": "2021-12-12T10:23:56.087Z"
   },
   {
    "duration": 1261,
    "start_time": "2021-12-12T10:23:56.245Z"
   },
   {
    "duration": 32,
    "start_time": "2021-12-12T10:23:57.507Z"
   },
   {
    "duration": 301,
    "start_time": "2021-12-12T10:23:57.541Z"
   },
   {
    "duration": 2407,
    "start_time": "2021-12-12T10:23:57.844Z"
   },
   {
    "duration": 62,
    "start_time": "2021-12-12T10:24:00.252Z"
   },
   {
    "duration": 100,
    "start_time": "2021-12-12T10:24:00.316Z"
   },
   {
    "duration": 54,
    "start_time": "2021-12-12T10:24:00.418Z"
   },
   {
    "duration": 277,
    "start_time": "2021-12-12T10:24:00.473Z"
   },
   {
    "duration": 26006,
    "start_time": "2021-12-12T10:24:00.751Z"
   },
   {
    "duration": 306,
    "start_time": "2021-12-12T10:25:45.046Z"
   },
   {
    "duration": 632,
    "start_time": "2021-12-12T10:26:03.027Z"
   },
   {
    "duration": 553,
    "start_time": "2021-12-12T10:26:10.190Z"
   },
   {
    "duration": 302,
    "start_time": "2021-12-12T10:26:31.059Z"
   },
   {
    "duration": 439,
    "start_time": "2021-12-12T10:26:40.381Z"
   },
   {
    "duration": 237,
    "start_time": "2021-12-12T10:26:47.426Z"
   },
   {
    "duration": 302,
    "start_time": "2021-12-12T10:26:54.662Z"
   },
   {
    "duration": 256,
    "start_time": "2021-12-12T10:27:10.026Z"
   },
   {
    "duration": 260,
    "start_time": "2021-12-12T10:27:21.524Z"
   },
   {
    "duration": 289,
    "start_time": "2021-12-12T10:30:37.843Z"
   },
   {
    "duration": 1948,
    "start_time": "2021-12-12T10:32:34.724Z"
   },
   {
    "duration": 1800,
    "start_time": "2021-12-12T10:32:47.592Z"
   },
   {
    "duration": 1408,
    "start_time": "2021-12-12T10:33:30.361Z"
   },
   {
    "duration": 1327,
    "start_time": "2021-12-12T10:33:33.513Z"
   },
   {
    "duration": 266,
    "start_time": "2021-12-12T10:33:47.543Z"
   },
   {
    "duration": 1438,
    "start_time": "2021-12-12T10:33:53.655Z"
   },
   {
    "duration": 1355,
    "start_time": "2021-12-12T10:34:00.933Z"
   },
   {
    "duration": 1313,
    "start_time": "2021-12-12T10:35:18.144Z"
   },
   {
    "duration": 1088,
    "start_time": "2021-12-12T10:35:44.773Z"
   },
   {
    "duration": 190,
    "start_time": "2021-12-12T10:35:45.863Z"
   },
   {
    "duration": 23,
    "start_time": "2021-12-12T10:35:46.055Z"
   },
   {
    "duration": 191,
    "start_time": "2021-12-12T10:35:46.080Z"
   },
   {
    "duration": 231,
    "start_time": "2021-12-12T10:35:46.273Z"
   },
   {
    "duration": 111,
    "start_time": "2021-12-12T10:35:46.506Z"
   },
   {
    "duration": 19,
    "start_time": "2021-12-12T10:35:46.619Z"
   },
   {
    "duration": 202,
    "start_time": "2021-12-12T10:35:46.641Z"
   },
   {
    "duration": 167,
    "start_time": "2021-12-12T10:35:46.845Z"
   },
   {
    "duration": 1223,
    "start_time": "2021-12-12T10:35:47.014Z"
   },
   {
    "duration": 31,
    "start_time": "2021-12-12T10:35:48.240Z"
   },
   {
    "duration": 233,
    "start_time": "2021-12-12T10:35:48.273Z"
   },
   {
    "duration": 1385,
    "start_time": "2021-12-12T10:35:48.508Z"
   },
   {
    "duration": -339,
    "start_time": "2021-12-12T10:35:50.234Z"
   },
   {
    "duration": -350,
    "start_time": "2021-12-12T10:35:50.246Z"
   },
   {
    "duration": -371,
    "start_time": "2021-12-12T10:35:50.269Z"
   },
   {
    "duration": -376,
    "start_time": "2021-12-12T10:35:50.275Z"
   },
   {
    "duration": -390,
    "start_time": "2021-12-12T10:35:50.291Z"
   },
   {
    "duration": 354,
    "start_time": "2021-12-12T10:36:56.435Z"
   },
   {
    "duration": 194,
    "start_time": "2021-12-12T10:37:03.575Z"
   },
   {
    "duration": 206,
    "start_time": "2021-12-12T10:37:10.832Z"
   },
   {
    "duration": 78,
    "start_time": "2021-12-12T10:38:16.276Z"
   },
   {
    "duration": 522,
    "start_time": "2021-12-12T10:38:21.042Z"
   },
   {
    "duration": 314,
    "start_time": "2021-12-12T10:38:37.100Z"
   },
   {
    "duration": 202,
    "start_time": "2021-12-12T10:39:54.901Z"
   },
   {
    "duration": 205,
    "start_time": "2021-12-12T10:39:59.596Z"
   },
   {
    "duration": 207,
    "start_time": "2021-12-12T10:40:04.485Z"
   },
   {
    "duration": 201,
    "start_time": "2021-12-12T10:40:08.605Z"
   },
   {
    "duration": 210,
    "start_time": "2021-12-12T10:40:57.695Z"
   },
   {
    "duration": 197,
    "start_time": "2021-12-12T10:41:12.373Z"
   },
   {
    "duration": 195,
    "start_time": "2021-12-12T10:41:20.128Z"
   },
   {
    "duration": 298,
    "start_time": "2021-12-12T10:41:32.102Z"
   },
   {
    "duration": 249,
    "start_time": "2021-12-12T10:41:44.011Z"
   },
   {
    "duration": 115,
    "start_time": "2021-12-12T10:42:36.242Z"
   },
   {
    "duration": 1226,
    "start_time": "2021-12-12T10:42:41.326Z"
   },
   {
    "duration": 1372,
    "start_time": "2021-12-12T10:43:14.531Z"
   },
   {
    "duration": 1888,
    "start_time": "2021-12-12T10:43:21.826Z"
   },
   {
    "duration": 3342,
    "start_time": "2021-12-12T10:43:47.201Z"
   },
   {
    "duration": 1057,
    "start_time": "2021-12-12T10:44:26.011Z"
   },
   {
    "duration": 1083,
    "start_time": "2021-12-12T10:44:35.841Z"
   },
   {
    "duration": 2113,
    "start_time": "2021-12-12T10:45:54.900Z"
   },
   {
    "duration": 3678,
    "start_time": "2021-12-12T10:46:21.642Z"
   },
   {
    "duration": 51708,
    "start_time": "2021-12-12T10:46:42.180Z"
   },
   {
    "duration": 997,
    "start_time": "2021-12-12T10:47:36.607Z"
   },
   {
    "duration": 1064,
    "start_time": "2021-12-12T10:47:42.664Z"
   },
   {
    "duration": 3336,
    "start_time": "2021-12-12T10:48:59.882Z"
   },
   {
    "duration": 3452,
    "start_time": "2021-12-12T10:49:49.423Z"
   },
   {
    "duration": 3599,
    "start_time": "2021-12-12T10:49:59.666Z"
   },
   {
    "duration": 3152,
    "start_time": "2021-12-12T10:50:26.377Z"
   },
   {
    "duration": 3622,
    "start_time": "2021-12-12T10:50:42.945Z"
   },
   {
    "duration": 3519,
    "start_time": "2021-12-12T10:51:12.535Z"
   },
   {
    "duration": 3536,
    "start_time": "2021-12-12T10:52:33.520Z"
   },
   {
    "duration": 1367,
    "start_time": "2021-12-12T10:53:36.878Z"
   },
   {
    "duration": 1320,
    "start_time": "2021-12-12T10:54:05.525Z"
   },
   {
    "duration": 1305,
    "start_time": "2021-12-12T10:54:18.223Z"
   },
   {
    "duration": 3636,
    "start_time": "2021-12-12T10:54:41.723Z"
   },
   {
    "duration": 3175,
    "start_time": "2021-12-12T10:54:58.630Z"
   },
   {
    "duration": 3420,
    "start_time": "2021-12-12T10:55:27.481Z"
   },
   {
    "duration": 3500,
    "start_time": "2021-12-12T10:55:44.666Z"
   },
   {
    "duration": 3585,
    "start_time": "2021-12-12T10:56:38.597Z"
   },
   {
    "duration": 3603,
    "start_time": "2021-12-12T10:57:10.841Z"
   },
   {
    "duration": 3522,
    "start_time": "2021-12-12T10:57:17.971Z"
   },
   {
    "duration": 3573,
    "start_time": "2021-12-12T10:57:32.839Z"
   },
   {
    "duration": 110,
    "start_time": "2021-12-12T11:41:45.829Z"
   },
   {
    "duration": 4949,
    "start_time": "2021-12-12T11:41:54.204Z"
   },
   {
    "duration": 1298,
    "start_time": "2021-12-12T11:42:17.144Z"
   },
   {
    "duration": 1016,
    "start_time": "2021-12-12T11:44:58.043Z"
   },
   {
    "duration": 196,
    "start_time": "2021-12-12T11:44:59.060Z"
   },
   {
    "duration": 23,
    "start_time": "2021-12-12T11:44:59.257Z"
   },
   {
    "duration": 194,
    "start_time": "2021-12-12T11:44:59.282Z"
   },
   {
    "duration": 228,
    "start_time": "2021-12-12T11:44:59.477Z"
   },
   {
    "duration": 108,
    "start_time": "2021-12-12T11:44:59.706Z"
   },
   {
    "duration": 20,
    "start_time": "2021-12-12T11:44:59.815Z"
   },
   {
    "duration": 212,
    "start_time": "2021-12-12T11:44:59.837Z"
   },
   {
    "duration": 172,
    "start_time": "2021-12-12T11:45:00.051Z"
   },
   {
    "duration": 1221,
    "start_time": "2021-12-12T11:45:00.225Z"
   },
   {
    "duration": 46,
    "start_time": "2021-12-12T11:45:01.448Z"
   },
   {
    "duration": 337,
    "start_time": "2021-12-12T11:45:01.496Z"
   },
   {
    "duration": 1440,
    "start_time": "2021-12-12T11:45:01.835Z"
   },
   {
    "duration": 401,
    "start_time": "2021-12-12T11:45:02.877Z"
   },
   {
    "duration": 397,
    "start_time": "2021-12-12T11:45:02.882Z"
   },
   {
    "duration": 392,
    "start_time": "2021-12-12T11:45:02.889Z"
   },
   {
    "duration": 380,
    "start_time": "2021-12-12T11:45:02.902Z"
   },
   {
    "duration": 1363,
    "start_time": "2021-12-12T11:45:39.423Z"
   },
   {
    "duration": 3344,
    "start_time": "2021-12-12T11:46:55.652Z"
   },
   {
    "duration": 3486,
    "start_time": "2021-12-12T11:47:22.242Z"
   },
   {
    "duration": 139767,
    "start_time": "2021-12-12T11:50:13.223Z"
   },
   {
    "duration": 1823,
    "start_time": "2021-12-12T11:54:20.366Z"
   },
   {
    "duration": 1145,
    "start_time": "2021-12-12T11:55:02.662Z"
   },
   {
    "duration": 1242,
    "start_time": "2021-12-12T11:55:33.035Z"
   },
   {
    "duration": 1670,
    "start_time": "2021-12-12T11:56:19.932Z"
   },
   {
    "duration": 4095,
    "start_time": "2021-12-12T11:56:33.372Z"
   },
   {
    "duration": 21328,
    "start_time": "2021-12-12T11:57:10.459Z"
   },
   {
    "duration": 18174,
    "start_time": "2021-12-12T11:58:55.498Z"
   },
   {
    "duration": 166977,
    "start_time": "2021-12-12T11:59:35.861Z"
   },
   {
    "duration": 4533,
    "start_time": "2021-12-12T12:02:51.725Z"
   },
   {
    "duration": 1252,
    "start_time": "2021-12-12T12:03:09.033Z"
   },
   {
    "duration": 4502,
    "start_time": "2021-12-12T12:04:01.269Z"
   },
   {
    "duration": 79,
    "start_time": "2021-12-12T12:06:13.953Z"
   },
   {
    "duration": 1023,
    "start_time": "2021-12-12T12:06:23.812Z"
   },
   {
    "duration": 1281,
    "start_time": "2021-12-12T12:07:14.813Z"
   },
   {
    "duration": 1287,
    "start_time": "2021-12-12T12:07:25.635Z"
   },
   {
    "duration": 4434,
    "start_time": "2021-12-12T12:07:33.930Z"
   },
   {
    "duration": 4281,
    "start_time": "2021-12-12T12:08:04.603Z"
   },
   {
    "duration": 1365,
    "start_time": "2021-12-12T12:08:26.443Z"
   },
   {
    "duration": 4422,
    "start_time": "2021-12-12T12:08:33.381Z"
   },
   {
    "duration": 242,
    "start_time": "2021-12-12T12:10:26.111Z"
   },
   {
    "duration": 45347,
    "start_time": "2021-12-12T12:10:38.404Z"
   },
   {
    "duration": 229,
    "start_time": "2021-12-12T12:11:36.495Z"
   },
   {
    "duration": 257,
    "start_time": "2021-12-12T12:11:40.679Z"
   },
   {
    "duration": 4462,
    "start_time": "2021-12-12T12:11:49.440Z"
   },
   {
    "duration": 4461,
    "start_time": "2021-12-12T12:12:33.704Z"
   },
   {
    "duration": 4444,
    "start_time": "2021-12-12T12:13:30.940Z"
   },
   {
    "duration": 4622,
    "start_time": "2021-12-12T12:14:01.900Z"
   },
   {
    "duration": 4464,
    "start_time": "2021-12-12T12:14:11.153Z"
   },
   {
    "duration": 4768,
    "start_time": "2021-12-12T12:15:40.898Z"
   },
   {
    "duration": 1184,
    "start_time": "2021-12-12T20:37:08.385Z"
   },
   {
    "duration": 235,
    "start_time": "2021-12-12T20:37:09.570Z"
   },
   {
    "duration": 24,
    "start_time": "2021-12-12T20:37:09.807Z"
   },
   {
    "duration": 212,
    "start_time": "2021-12-12T20:37:09.833Z"
   },
   {
    "duration": 276,
    "start_time": "2021-12-12T20:37:10.046Z"
   },
   {
    "duration": 115,
    "start_time": "2021-12-12T20:37:10.324Z"
   },
   {
    "duration": 21,
    "start_time": "2021-12-12T20:37:10.441Z"
   },
   {
    "duration": 242,
    "start_time": "2021-12-12T20:37:10.464Z"
   },
   {
    "duration": 173,
    "start_time": "2021-12-12T20:37:10.708Z"
   },
   {
    "duration": 1293,
    "start_time": "2021-12-12T20:37:10.883Z"
   },
   {
    "duration": 39,
    "start_time": "2021-12-12T20:37:12.177Z"
   },
   {
    "duration": 274,
    "start_time": "2021-12-12T20:37:12.217Z"
   },
   {
    "duration": 1403,
    "start_time": "2021-12-12T20:37:12.493Z"
   },
   {
    "duration": -23,
    "start_time": "2021-12-12T20:37:13.921Z"
   },
   {
    "duration": -24,
    "start_time": "2021-12-12T20:37:13.923Z"
   },
   {
    "duration": -24,
    "start_time": "2021-12-12T20:37:13.925Z"
   },
   {
    "duration": -25,
    "start_time": "2021-12-12T20:37:13.927Z"
   },
   {
    "duration": 183,
    "start_time": "2021-12-12T20:39:10.034Z"
   },
   {
    "duration": 193,
    "start_time": "2021-12-12T20:46:15.333Z"
   },
   {
    "duration": 270,
    "start_time": "2021-12-12T20:46:36.504Z"
   },
   {
    "duration": 205,
    "start_time": "2021-12-12T20:46:51.541Z"
   },
   {
    "duration": 4818,
    "start_time": "2021-12-12T20:56:45.652Z"
   },
   {
    "duration": 12,
    "start_time": "2021-12-12T20:58:42.761Z"
   },
   {
    "duration": 12,
    "start_time": "2021-12-12T20:58:50.836Z"
   },
   {
    "duration": 176,
    "start_time": "2021-12-12T20:59:05.539Z"
   },
   {
    "duration": 10,
    "start_time": "2021-12-12T20:59:26.812Z"
   },
   {
    "duration": 83,
    "start_time": "2021-12-12T21:01:12.613Z"
   },
   {
    "duration": 204,
    "start_time": "2021-12-12T21:02:00.701Z"
   },
   {
    "duration": 187,
    "start_time": "2021-12-12T21:02:25.413Z"
   },
   {
    "duration": 196,
    "start_time": "2021-12-12T21:03:15.332Z"
   },
   {
    "duration": 20499,
    "start_time": "2021-12-12T21:03:21.526Z"
   },
   {
    "duration": 7986,
    "start_time": "2021-12-12T21:03:54.558Z"
   },
   {
    "duration": 6717,
    "start_time": "2021-12-12T21:05:33.805Z"
   },
   {
    "duration": 12589,
    "start_time": "2021-12-12T21:07:35.910Z"
   },
   {
    "duration": 5592,
    "start_time": "2021-12-12T21:10:05.453Z"
   },
   {
    "duration": 23909,
    "start_time": "2021-12-12T21:11:22.262Z"
   },
   {
    "duration": 21658,
    "start_time": "2021-12-12T21:13:26.449Z"
   },
   {
    "duration": 22245,
    "start_time": "2021-12-12T21:14:02.063Z"
   },
   {
    "duration": 4833,
    "start_time": "2021-12-12T21:15:14.830Z"
   },
   {
    "duration": 174,
    "start_time": "2021-12-12T21:20:15.960Z"
   },
   {
    "duration": 5045,
    "start_time": "2021-12-12T21:20:35.561Z"
   },
   {
    "duration": 17,
    "start_time": "2021-12-12T21:20:46.513Z"
   },
   {
    "duration": 17,
    "start_time": "2021-12-12T21:21:07.009Z"
   },
   {
    "duration": 17,
    "start_time": "2021-12-12T21:21:14.243Z"
   },
   {
    "duration": 18,
    "start_time": "2021-12-12T21:21:17.539Z"
   },
   {
    "duration": 19,
    "start_time": "2021-12-12T21:22:23.660Z"
   },
   {
    "duration": 19,
    "start_time": "2021-12-12T21:22:32.153Z"
   },
   {
    "duration": 20,
    "start_time": "2021-12-12T21:22:45.499Z"
   },
   {
    "duration": 21,
    "start_time": "2021-12-12T21:22:57.984Z"
   },
   {
    "duration": 200,
    "start_time": "2021-12-12T21:24:14.752Z"
   },
   {
    "duration": 20,
    "start_time": "2021-12-12T21:24:21.728Z"
   },
   {
    "duration": 20,
    "start_time": "2021-12-12T21:24:27.833Z"
   },
   {
    "duration": 19,
    "start_time": "2021-12-12T21:25:44.850Z"
   },
   {
    "duration": 20,
    "start_time": "2021-12-12T21:25:56.908Z"
   },
   {
    "duration": 21,
    "start_time": "2021-12-12T21:26:24.298Z"
   },
   {
    "duration": 25,
    "start_time": "2021-12-12T21:27:25.518Z"
   },
   {
    "duration": 30,
    "start_time": "2021-12-12T21:28:12.585Z"
   },
   {
    "duration": 24,
    "start_time": "2021-12-12T21:28:29.491Z"
   },
   {
    "duration": 22,
    "start_time": "2021-12-12T21:28:40.523Z"
   },
   {
    "duration": 24,
    "start_time": "2021-12-12T21:29:17.708Z"
   },
   {
    "duration": 24,
    "start_time": "2021-12-12T21:29:29.825Z"
   },
   {
    "duration": 25,
    "start_time": "2021-12-12T21:29:50.469Z"
   },
   {
    "duration": 26,
    "start_time": "2021-12-12T21:30:03.481Z"
   },
   {
    "duration": 25,
    "start_time": "2021-12-12T21:30:19.580Z"
   },
   {
    "duration": 24,
    "start_time": "2021-12-12T21:30:24.040Z"
   },
   {
    "duration": 23,
    "start_time": "2021-12-12T21:31:51.941Z"
   },
   {
    "duration": 27,
    "start_time": "2021-12-12T21:32:13.584Z"
   },
   {
    "duration": 1379,
    "start_time": "2021-12-12T21:32:36.072Z"
   },
   {
    "duration": 238,
    "start_time": "2021-12-12T21:32:37.453Z"
   },
   {
    "duration": 26,
    "start_time": "2021-12-12T21:32:37.693Z"
   },
   {
    "duration": 216,
    "start_time": "2021-12-12T21:32:37.721Z"
   },
   {
    "duration": 288,
    "start_time": "2021-12-12T21:32:37.939Z"
   },
   {
    "duration": 122,
    "start_time": "2021-12-12T21:32:38.228Z"
   },
   {
    "duration": 22,
    "start_time": "2021-12-12T21:32:38.352Z"
   },
   {
    "duration": 244,
    "start_time": "2021-12-12T21:32:38.376Z"
   },
   {
    "duration": 182,
    "start_time": "2021-12-12T21:32:38.622Z"
   },
   {
    "duration": 1287,
    "start_time": "2021-12-12T21:32:38.806Z"
   },
   {
    "duration": 39,
    "start_time": "2021-12-12T21:32:40.095Z"
   },
   {
    "duration": 288,
    "start_time": "2021-12-12T21:32:40.136Z"
   },
   {
    "duration": 4726,
    "start_time": "2021-12-12T21:32:40.426Z"
   },
   {
    "duration": 31,
    "start_time": "2021-12-12T21:32:47.509Z"
   },
   {
    "duration": 25,
    "start_time": "2021-12-12T21:32:53.021Z"
   },
   {
    "duration": 24,
    "start_time": "2021-12-12T21:36:15.156Z"
   },
   {
    "duration": 25,
    "start_time": "2021-12-12T21:37:09.487Z"
   },
   {
    "duration": 36,
    "start_time": "2021-12-12T21:37:39.308Z"
   },
   {
    "duration": 62,
    "start_time": "2021-12-12T21:39:01.359Z"
   },
   {
    "duration": 37,
    "start_time": "2021-12-12T21:39:11.964Z"
   },
   {
    "duration": 5106,
    "start_time": "2021-12-12T21:39:38.440Z"
   },
   {
    "duration": 27,
    "start_time": "2021-12-12T21:40:13.514Z"
   },
   {
    "duration": 27,
    "start_time": "2021-12-12T21:40:40.628Z"
   },
   {
    "duration": 27,
    "start_time": "2021-12-12T21:41:16.871Z"
   },
   {
    "duration": 26,
    "start_time": "2021-12-12T21:41:37.693Z"
   },
   {
    "duration": 30,
    "start_time": "2021-12-12T21:41:55.018Z"
   },
   {
    "duration": 209,
    "start_time": "2021-12-12T21:44:40.109Z"
   },
   {
    "duration": 35,
    "start_time": "2021-12-12T21:45:04.381Z"
   },
   {
    "duration": 60,
    "start_time": "2021-12-12T21:45:15.675Z"
   },
   {
    "duration": 228,
    "start_time": "2021-12-12T21:45:19.836Z"
   },
   {
    "duration": 7138,
    "start_time": "2021-12-12T21:45:59.222Z"
   },
   {
    "duration": 17204,
    "start_time": "2021-12-12T21:46:35.101Z"
   },
   {
    "duration": 22573,
    "start_time": "2021-12-12T21:47:13.884Z"
   },
   {
    "duration": 22217,
    "start_time": "2021-12-12T21:47:55.989Z"
   },
   {
    "duration": 46,
    "start_time": "2021-12-12T21:48:34.769Z"
   },
   {
    "duration": 3822,
    "start_time": "2021-12-12T21:48:55.629Z"
   },
   {
    "duration": 300,
    "start_time": "2021-12-12T21:51:28.333Z"
   },
   {
    "duration": 204,
    "start_time": "2021-12-12T21:51:51.685Z"
   },
   {
    "duration": 6881,
    "start_time": "2021-12-12T21:52:12.110Z"
   },
   {
    "duration": 12328,
    "start_time": "2021-12-12T21:53:04.883Z"
   },
   {
    "duration": 13143,
    "start_time": "2021-12-12T21:55:34.066Z"
   },
   {
    "duration": 13429,
    "start_time": "2021-12-12T21:56:50.641Z"
   },
   {
    "duration": 14824,
    "start_time": "2021-12-12T21:58:39.963Z"
   },
   {
    "duration": 210,
    "start_time": "2021-12-12T22:01:27.332Z"
   },
   {
    "duration": 15041,
    "start_time": "2021-12-12T22:02:38.323Z"
   },
   {
    "duration": 8367,
    "start_time": "2021-12-12T22:03:15.299Z"
   },
   {
    "duration": -26,
    "start_time": "2021-12-12T22:04:48.626Z"
   },
   {
    "duration": 14808,
    "start_time": "2021-12-12T22:05:25.994Z"
   },
   {
    "duration": 520,
    "start_time": "2021-12-12T22:07:28.722Z"
   },
   {
    "duration": 349,
    "start_time": "2021-12-12T22:09:36.436Z"
   },
   {
    "duration": 7518,
    "start_time": "2021-12-12T22:09:51.860Z"
   },
   {
    "duration": 7826,
    "start_time": "2021-12-12T22:10:06.738Z"
   },
   {
    "duration": 6623,
    "start_time": "2021-12-12T22:10:23.146Z"
   },
   {
    "duration": 6096,
    "start_time": "2021-12-12T22:12:12.052Z"
   },
   {
    "duration": 6147,
    "start_time": "2021-12-12T22:12:36.949Z"
   },
   {
    "duration": 6467,
    "start_time": "2021-12-12T22:14:05.178Z"
   },
   {
    "duration": 6648,
    "start_time": "2021-12-12T22:14:20.043Z"
   },
   {
    "duration": 6301,
    "start_time": "2021-12-12T22:14:49.313Z"
   },
   {
    "duration": 6271,
    "start_time": "2021-12-12T22:15:08.013Z"
   },
   {
    "duration": 6512,
    "start_time": "2021-12-12T22:16:31.995Z"
   },
   {
    "duration": 6264,
    "start_time": "2021-12-12T22:16:45.843Z"
   },
   {
    "duration": 6287,
    "start_time": "2021-12-12T22:16:59.363Z"
   },
   {
    "duration": 8569,
    "start_time": "2021-12-12T22:17:25.300Z"
   },
   {
    "duration": 8062,
    "start_time": "2021-12-12T22:19:08.908Z"
   },
   {
    "duration": 7987,
    "start_time": "2021-12-12T22:19:50.974Z"
   },
   {
    "duration": 8634,
    "start_time": "2021-12-12T22:20:36.995Z"
   },
   {
    "duration": 7893,
    "start_time": "2021-12-12T22:24:58.106Z"
   },
   {
    "duration": 8148,
    "start_time": "2021-12-12T22:25:12.811Z"
   },
   {
    "duration": 6261,
    "start_time": "2021-12-12T22:26:18.098Z"
   },
   {
    "duration": 6385,
    "start_time": "2021-12-12T22:26:36.931Z"
   },
   {
    "duration": 8153,
    "start_time": "2021-12-12T22:27:22.005Z"
   },
   {
    "duration": 8052,
    "start_time": "2021-12-12T22:28:29.182Z"
   },
   {
    "duration": 66,
    "start_time": "2021-12-12T22:29:27.523Z"
   },
   {
    "duration": 8009,
    "start_time": "2021-12-12T22:29:31.634Z"
   },
   {
    "duration": 6596,
    "start_time": "2021-12-12T22:30:29.914Z"
   },
   {
    "duration": 6116,
    "start_time": "2021-12-12T22:30:40.534Z"
   },
   {
    "duration": 6197,
    "start_time": "2021-12-12T22:31:17.667Z"
   },
   {
    "duration": 6430,
    "start_time": "2021-12-12T22:31:43.404Z"
   },
   {
    "duration": 6391,
    "start_time": "2021-12-12T22:32:00.754Z"
   },
   {
    "duration": 6292,
    "start_time": "2021-12-12T22:32:13.378Z"
   },
   {
    "duration": 6213,
    "start_time": "2021-12-12T22:34:14.585Z"
   },
   {
    "duration": 7495,
    "start_time": "2021-12-12T22:35:33.746Z"
   },
   {
    "duration": 7452,
    "start_time": "2021-12-12T22:35:54.622Z"
   },
   {
    "duration": 7561,
    "start_time": "2021-12-12T22:36:39.018Z"
   },
   {
    "duration": 7533,
    "start_time": "2021-12-12T22:36:54.837Z"
   },
   {
    "duration": 7185,
    "start_time": "2021-12-12T22:37:19.890Z"
   },
   {
    "duration": 6712,
    "start_time": "2021-12-12T22:37:47.163Z"
   },
   {
    "duration": 7182,
    "start_time": "2021-12-12T22:38:13.582Z"
   },
   {
    "duration": 6521,
    "start_time": "2021-12-12T22:39:16.526Z"
   },
   {
    "duration": 6481,
    "start_time": "2021-12-12T22:39:55.290Z"
   },
   {
    "duration": 6355,
    "start_time": "2021-12-12T22:40:33.867Z"
   },
   {
    "duration": 6583,
    "start_time": "2021-12-12T22:40:49.420Z"
   },
   {
    "duration": 6438,
    "start_time": "2021-12-12T22:41:05.396Z"
   },
   {
    "duration": 6353,
    "start_time": "2021-12-12T22:41:26.165Z"
   },
   {
    "duration": 185,
    "start_time": "2021-12-12T22:43:39.013Z"
   },
   {
    "duration": 42,
    "start_time": "2021-12-12T22:43:49.068Z"
   },
   {
    "duration": 54,
    "start_time": "2021-12-12T22:44:01.987Z"
   },
   {
    "duration": 165,
    "start_time": "2021-12-12T22:49:27.325Z"
   },
   {
    "duration": 29,
    "start_time": "2021-12-12T22:49:44.875Z"
   },
   {
    "duration": 23,
    "start_time": "2021-12-12T22:50:15.331Z"
   },
   {
    "duration": 19,
    "start_time": "2021-12-12T22:51:02.037Z"
   },
   {
    "duration": 550,
    "start_time": "2021-12-12T22:51:34.777Z"
   },
   {
    "duration": 189,
    "start_time": "2021-12-12T22:52:51.828Z"
   },
   {
    "duration": 56,
    "start_time": "2021-12-12T22:53:04.784Z"
   },
   {
    "duration": 8007,
    "start_time": "2021-12-12T22:53:25.428Z"
   },
   {
    "duration": 21,
    "start_time": "2021-12-12T22:58:02.644Z"
   },
   {
    "duration": 8402,
    "start_time": "2021-12-12T22:59:37.468Z"
   },
   {
    "duration": 8722,
    "start_time": "2021-12-12T23:01:04.540Z"
   },
   {
    "duration": 5212,
    "start_time": "2021-12-12T23:01:55.981Z"
   },
   {
    "duration": 8385,
    "start_time": "2021-12-12T23:02:05.276Z"
   },
   {
    "duration": 8729,
    "start_time": "2021-12-12T23:02:30.805Z"
   },
   {
    "duration": 282,
    "start_time": "2021-12-12T23:03:27.924Z"
   },
   {
    "duration": 7991,
    "start_time": "2021-12-12T23:03:45.893Z"
   },
   {
    "duration": 8354,
    "start_time": "2021-12-12T23:04:07.557Z"
   },
   {
    "duration": 457,
    "start_time": "2021-12-12T23:04:45.252Z"
   },
   {
    "duration": 8104,
    "start_time": "2021-12-12T23:05:56.884Z"
   },
   {
    "duration": 277,
    "start_time": "2021-12-12T23:06:27.539Z"
   },
   {
    "duration": 7588,
    "start_time": "2021-12-12T23:07:14.796Z"
   },
   {
    "duration": 313,
    "start_time": "2021-12-12T23:07:34.684Z"
   },
   {
    "duration": 7207,
    "start_time": "2021-12-12T23:07:45.331Z"
   },
   {
    "duration": 274,
    "start_time": "2021-12-12T23:08:30.843Z"
   },
   {
    "duration": 7652,
    "start_time": "2021-12-12T23:08:47.804Z"
   },
   {
    "duration": 285,
    "start_time": "2021-12-12T23:09:08.259Z"
   },
   {
    "duration": 271,
    "start_time": "2021-12-12T23:09:20.493Z"
   },
   {
    "duration": 6522,
    "start_time": "2021-12-12T23:09:23.812Z"
   },
   {
    "duration": 6321,
    "start_time": "2021-12-12T23:09:40.572Z"
   },
   {
    "duration": 6419,
    "start_time": "2021-12-12T23:10:00.406Z"
   },
   {
    "duration": 6604,
    "start_time": "2021-12-12T23:10:50.140Z"
   },
   {
    "duration": 6378,
    "start_time": "2021-12-12T23:11:51.948Z"
   },
   {
    "duration": 6366,
    "start_time": "2021-12-12T23:13:10.430Z"
   },
   {
    "duration": 6584,
    "start_time": "2021-12-12T23:13:50.672Z"
   },
   {
    "duration": 42,
    "start_time": "2021-12-12T23:18:49.287Z"
   },
   {
    "duration": 1236,
    "start_time": "2021-12-12T23:21:31.298Z"
   },
   {
    "duration": 227,
    "start_time": "2021-12-12T23:21:32.535Z"
   },
   {
    "duration": 26,
    "start_time": "2021-12-12T23:21:32.764Z"
   },
   {
    "duration": 205,
    "start_time": "2021-12-12T23:21:32.792Z"
   },
   {
    "duration": 267,
    "start_time": "2021-12-12T23:21:32.999Z"
   },
   {
    "duration": 126,
    "start_time": "2021-12-12T23:21:33.268Z"
   },
   {
    "duration": 20,
    "start_time": "2021-12-12T23:21:33.396Z"
   },
   {
    "duration": 233,
    "start_time": "2021-12-12T23:21:33.419Z"
   },
   {
    "duration": 179,
    "start_time": "2021-12-12T23:21:33.653Z"
   },
   {
    "duration": 1289,
    "start_time": "2021-12-12T23:21:33.834Z"
   },
   {
    "duration": 36,
    "start_time": "2021-12-12T23:21:35.125Z"
   },
   {
    "duration": 268,
    "start_time": "2021-12-12T23:21:35.163Z"
   },
   {
    "duration": 4896,
    "start_time": "2021-12-12T23:21:35.433Z"
   },
   {
    "duration": 23,
    "start_time": "2021-12-12T23:21:40.331Z"
   },
   {
    "duration": 6320,
    "start_time": "2021-12-12T23:21:40.356Z"
   },
   {
    "duration": 48,
    "start_time": "2021-12-12T23:21:46.678Z"
   },
   {
    "duration": 117,
    "start_time": "2021-12-12T23:21:46.728Z"
   },
   {
    "duration": 73,
    "start_time": "2021-12-12T23:21:46.847Z"
   },
   {
    "duration": 357,
    "start_time": "2021-12-12T23:21:46.921Z"
   },
   {
    "duration": 11,
    "start_time": "2021-12-12T23:23:43.309Z"
   },
   {
    "duration": 15,
    "start_time": "2021-12-12T23:23:49.578Z"
   },
   {
    "duration": 18,
    "start_time": "2021-12-12T23:24:28.090Z"
   },
   {
    "duration": 36,
    "start_time": "2021-12-12T23:25:31.058Z"
   },
   {
    "duration": 66,
    "start_time": "2021-12-12T23:25:38.484Z"
   },
   {
    "duration": 33,
    "start_time": "2021-12-12T23:25:43.689Z"
   },
   {
    "duration": 80,
    "start_time": "2021-12-12T23:25:45.644Z"
   },
   {
    "duration": 65,
    "start_time": "2021-12-12T23:25:49.074Z"
   },
   {
    "duration": 14,
    "start_time": "2021-12-12T23:27:32.451Z"
   },
   {
    "duration": 23,
    "start_time": "2021-12-12T23:28:14.331Z"
   },
   {
    "duration": 26,
    "start_time": "2021-12-12T23:28:50.747Z"
   },
   {
    "duration": 31,
    "start_time": "2021-12-12T23:29:20.316Z"
   },
   {
    "duration": 275,
    "start_time": "2021-12-12T23:30:43.795Z"
   },
   {
    "duration": 188,
    "start_time": "2021-12-12T23:30:59.178Z"
   },
   {
    "duration": 3,
    "start_time": "2021-12-12T23:31:07.658Z"
   },
   {
    "duration": 7,
    "start_time": "2021-12-12T23:31:57.914Z"
   },
   {
    "duration": 211,
    "start_time": "2021-12-12T23:32:38.195Z"
   },
   {
    "duration": 9,
    "start_time": "2021-12-12T23:32:55.671Z"
   },
   {
    "duration": 8,
    "start_time": "2021-12-12T23:33:10.612Z"
   },
   {
    "duration": 8,
    "start_time": "2021-12-12T23:33:22.500Z"
   },
   {
    "duration": 247,
    "start_time": "2021-12-12T23:34:09.989Z"
   },
   {
    "duration": 49,
    "start_time": "2021-12-12T23:34:43.509Z"
   },
   {
    "duration": 72,
    "start_time": "2021-12-12T23:35:17.560Z"
   },
   {
    "duration": 73,
    "start_time": "2021-12-12T23:35:32.456Z"
   },
   {
    "duration": 224,
    "start_time": "2021-12-12T23:35:47.455Z"
   },
   {
    "duration": 75,
    "start_time": "2021-12-12T23:36:40.302Z"
   },
   {
    "duration": 64,
    "start_time": "2021-12-12T23:37:03.470Z"
   },
   {
    "duration": 67,
    "start_time": "2021-12-12T23:37:10.767Z"
   },
   {
    "duration": 69,
    "start_time": "2021-12-12T23:37:41.719Z"
   },
   {
    "duration": 67,
    "start_time": "2021-12-12T23:37:51.782Z"
   },
   {
    "duration": 4803,
    "start_time": "2021-12-12T23:38:30.327Z"
   },
   {
    "duration": 67,
    "start_time": "2021-12-12T23:38:42.848Z"
   },
   {
    "duration": 65,
    "start_time": "2021-12-12T23:38:48.661Z"
   },
   {
    "duration": 1768,
    "start_time": "2021-12-12T23:39:08.790Z"
   },
   {
    "duration": 220,
    "start_time": "2021-12-12T23:39:10.559Z"
   },
   {
    "duration": 25,
    "start_time": "2021-12-12T23:39:10.781Z"
   },
   {
    "duration": 202,
    "start_time": "2021-12-12T23:39:10.808Z"
   },
   {
    "duration": 266,
    "start_time": "2021-12-12T23:39:11.012Z"
   },
   {
    "duration": 121,
    "start_time": "2021-12-12T23:39:11.280Z"
   },
   {
    "duration": 23,
    "start_time": "2021-12-12T23:39:11.403Z"
   },
   {
    "duration": 251,
    "start_time": "2021-12-12T23:39:11.429Z"
   },
   {
    "duration": 179,
    "start_time": "2021-12-12T23:39:11.682Z"
   },
   {
    "duration": 1318,
    "start_time": "2021-12-12T23:39:11.862Z"
   },
   {
    "duration": 43,
    "start_time": "2021-12-12T23:39:13.182Z"
   },
   {
    "duration": 267,
    "start_time": "2021-12-12T23:39:13.227Z"
   },
   {
    "duration": 4760,
    "start_time": "2021-12-12T23:39:13.496Z"
   },
   {
    "duration": 34,
    "start_time": "2021-12-12T23:39:18.258Z"
   },
   {
    "duration": 6464,
    "start_time": "2021-12-12T23:39:18.294Z"
   },
   {
    "duration": 47,
    "start_time": "2021-12-12T23:39:24.760Z"
   },
   {
    "duration": 72,
    "start_time": "2021-12-12T23:39:24.809Z"
   },
   {
    "duration": 77,
    "start_time": "2021-12-12T23:39:24.882Z"
   },
   {
    "duration": 8,
    "start_time": "2021-12-12T23:39:24.960Z"
   },
   {
    "duration": 5264,
    "start_time": "2021-12-12T23:39:24.992Z"
   },
   {
    "duration": 66,
    "start_time": "2021-12-12T23:40:16.255Z"
   },
   {
    "duration": 270,
    "start_time": "2021-12-12T23:40:51.961Z"
   },
   {
    "duration": 204,
    "start_time": "2021-12-12T23:41:30.538Z"
   },
   {
    "duration": 296,
    "start_time": "2021-12-12T23:42:44.292Z"
   },
   {
    "duration": 213,
    "start_time": "2021-12-12T23:42:50.033Z"
   },
   {
    "duration": 1175,
    "start_time": "2021-12-12T23:43:08.686Z"
   },
   {
    "duration": 230,
    "start_time": "2021-12-12T23:43:09.864Z"
   },
   {
    "duration": 28,
    "start_time": "2021-12-12T23:43:10.096Z"
   },
   {
    "duration": 221,
    "start_time": "2021-12-12T23:43:10.126Z"
   },
   {
    "duration": 268,
    "start_time": "2021-12-12T23:43:10.349Z"
   },
   {
    "duration": 121,
    "start_time": "2021-12-12T23:43:10.619Z"
   },
   {
    "duration": 21,
    "start_time": "2021-12-12T23:43:10.742Z"
   },
   {
    "duration": 249,
    "start_time": "2021-12-12T23:43:10.766Z"
   },
   {
    "duration": 185,
    "start_time": "2021-12-12T23:43:11.017Z"
   },
   {
    "duration": 1293,
    "start_time": "2021-12-12T23:43:11.203Z"
   },
   {
    "duration": 34,
    "start_time": "2021-12-12T23:43:12.497Z"
   },
   {
    "duration": 280,
    "start_time": "2021-12-12T23:43:12.533Z"
   },
   {
    "duration": 4637,
    "start_time": "2021-12-12T23:43:12.815Z"
   },
   {
    "duration": 21,
    "start_time": "2021-12-12T23:43:17.453Z"
   },
   {
    "duration": 6323,
    "start_time": "2021-12-12T23:43:17.491Z"
   },
   {
    "duration": 34,
    "start_time": "2021-12-12T23:43:23.816Z"
   },
   {
    "duration": 83,
    "start_time": "2021-12-12T23:43:23.852Z"
   },
   {
    "duration": 260,
    "start_time": "2021-12-12T23:43:23.936Z"
   },
   {
    "duration": 7,
    "start_time": "2021-12-12T23:43:24.198Z"
   },
   {
    "duration": 20546,
    "start_time": "2021-12-12T23:43:24.207Z"
   },
   {
    "duration": 211,
    "start_time": "2021-12-12T23:46:56.812Z"
   },
   {
    "duration": 69,
    "start_time": "2021-12-12T23:51:24.903Z"
   },
   {
    "duration": 257,
    "start_time": "2021-12-12T23:51:32.774Z"
   },
   {
    "duration": 1289,
    "start_time": "2021-12-12T23:52:15.604Z"
   },
   {
    "duration": 43,
    "start_time": "2021-12-12T23:53:44.228Z"
   },
   {
    "duration": 46,
    "start_time": "2021-12-12T23:54:13.667Z"
   },
   {
    "duration": 33,
    "start_time": "2021-12-12T23:55:00.420Z"
   },
   {
    "duration": 21097,
    "start_time": "2021-12-12T23:55:22.372Z"
   },
   {
    "duration": 42,
    "start_time": "2021-12-12T23:56:47.404Z"
   },
   {
    "duration": 20659,
    "start_time": "2021-12-12T23:56:49.635Z"
   },
   {
    "duration": 1645,
    "start_time": "2021-12-13T12:22:20.884Z"
   },
   {
    "duration": 385,
    "start_time": "2021-12-13T12:22:22.532Z"
   },
   {
    "duration": 30,
    "start_time": "2021-12-13T12:22:22.920Z"
   },
   {
    "duration": 317,
    "start_time": "2021-12-13T12:22:22.952Z"
   },
   {
    "duration": 415,
    "start_time": "2021-12-13T12:22:23.271Z"
   },
   {
    "duration": 170,
    "start_time": "2021-12-13T12:22:23.688Z"
   },
   {
    "duration": 31,
    "start_time": "2021-12-13T12:22:23.867Z"
   },
   {
    "duration": 389,
    "start_time": "2021-12-13T12:22:23.903Z"
   },
   {
    "duration": 250,
    "start_time": "2021-12-13T12:22:24.295Z"
   },
   {
    "duration": 2490,
    "start_time": "2021-12-13T12:22:24.547Z"
   },
   {
    "duration": 65,
    "start_time": "2021-12-13T12:22:27.040Z"
   },
   {
    "duration": 448,
    "start_time": "2021-12-13T12:22:27.108Z"
   },
   {
    "duration": 7549,
    "start_time": "2021-12-13T12:22:27.558Z"
   },
   {
    "duration": 27,
    "start_time": "2021-12-13T12:22:35.109Z"
   },
   {
    "duration": 9918,
    "start_time": "2021-12-13T12:22:35.139Z"
   },
   {
    "duration": 51,
    "start_time": "2021-12-13T12:22:45.067Z"
   },
   {
    "duration": 141,
    "start_time": "2021-12-13T12:22:45.120Z"
   },
   {
    "duration": 13,
    "start_time": "2021-12-13T12:22:45.263Z"
   },
   {
    "duration": 93,
    "start_time": "2021-12-13T12:22:45.279Z"
   },
   {
    "duration": 106,
    "start_time": "2021-12-13T12:22:45.375Z"
   },
   {
    "duration": 40697,
    "start_time": "2021-12-13T12:22:45.484Z"
   },
   {
    "duration": 129,
    "start_time": "2021-12-13T12:35:13.760Z"
   },
   {
    "duration": 578,
    "start_time": "2021-12-13T12:35:32.640Z"
   },
   {
    "duration": 8653,
    "start_time": "2021-12-13T12:35:40.327Z"
   },
   {
    "duration": 268,
    "start_time": "2021-12-13T12:35:51.968Z"
   },
   {
    "duration": 8858,
    "start_time": "2021-12-13T12:36:16.748Z"
   },
   {
    "duration": 327,
    "start_time": "2021-12-13T12:38:02.894Z"
   },
   {
    "duration": 268,
    "start_time": "2021-12-13T12:38:08.287Z"
   },
   {
    "duration": 304,
    "start_time": "2021-12-13T12:38:40.566Z"
   },
   {
    "duration": 1011,
    "start_time": "2021-12-13T12:39:03.062Z"
   },
   {
    "duration": 353,
    "start_time": "2021-12-13T12:39:17.534Z"
   },
   {
    "duration": 4189,
    "start_time": "2021-12-13T12:40:51.159Z"
   },
   {
    "duration": 3852,
    "start_time": "2021-12-13T12:42:12.993Z"
   },
   {
    "duration": 64,
    "start_time": "2021-12-13T12:42:43.778Z"
   },
   {
    "duration": 7,
    "start_time": "2021-12-13T12:43:12.602Z"
   },
   {
    "duration": 3897,
    "start_time": "2021-12-13T12:43:27.630Z"
   },
   {
    "duration": 4139,
    "start_time": "2021-12-13T12:44:17.862Z"
   },
   {
    "duration": 553,
    "start_time": "2021-12-13T12:44:41.568Z"
   },
   {
    "duration": 280,
    "start_time": "2021-12-13T12:44:59.063Z"
   },
   {
    "duration": 100,
    "start_time": "2021-12-13T12:45:25.551Z"
   },
   {
    "duration": 281,
    "start_time": "2021-12-13T12:45:32.142Z"
   },
   {
    "duration": 658,
    "start_time": "2021-12-13T12:47:56.904Z"
   },
   {
    "duration": 679,
    "start_time": "2021-12-13T12:48:08.043Z"
   },
   {
    "duration": 284,
    "start_time": "2021-12-13T12:48:45.775Z"
   },
   {
    "duration": 1661,
    "start_time": "2021-12-13T12:50:07.698Z"
   },
   {
    "duration": 551,
    "start_time": "2021-12-13T12:50:09.362Z"
   },
   {
    "duration": 32,
    "start_time": "2021-12-13T12:50:09.917Z"
   },
   {
    "duration": 322,
    "start_time": "2021-12-13T12:50:09.970Z"
   },
   {
    "duration": 474,
    "start_time": "2021-12-13T12:50:10.295Z"
   },
   {
    "duration": 177,
    "start_time": "2021-12-13T12:50:10.773Z"
   },
   {
    "duration": 58,
    "start_time": "2021-12-13T12:50:10.952Z"
   },
   {
    "duration": 431,
    "start_time": "2021-12-13T12:50:11.013Z"
   },
   {
    "duration": 296,
    "start_time": "2021-12-13T12:50:11.447Z"
   },
   {
    "duration": 2903,
    "start_time": "2021-12-13T12:50:11.746Z"
   },
   {
    "duration": 73,
    "start_time": "2021-12-13T12:50:14.652Z"
   },
   {
    "duration": 546,
    "start_time": "2021-12-13T12:50:14.727Z"
   },
   {
    "duration": 7949,
    "start_time": "2021-12-13T12:50:15.276Z"
   },
   {
    "duration": 45,
    "start_time": "2021-12-13T12:50:23.228Z"
   },
   {
    "duration": 11896,
    "start_time": "2021-12-13T12:50:23.276Z"
   },
   {
    "duration": 52,
    "start_time": "2021-12-13T12:50:35.175Z"
   },
   {
    "duration": 149,
    "start_time": "2021-12-13T12:50:35.229Z"
   },
   {
    "duration": 15,
    "start_time": "2021-12-13T12:50:35.382Z"
   },
   {
    "duration": 125,
    "start_time": "2021-12-13T12:50:35.399Z"
   },
   {
    "duration": 100,
    "start_time": "2021-12-13T12:50:35.526Z"
   },
   {
    "duration": 42944,
    "start_time": "2021-12-13T12:50:35.629Z"
   },
   {
    "duration": 695,
    "start_time": "2021-12-13T12:51:18.576Z"
   },
   {
    "duration": 18,
    "start_time": "2021-12-13T12:55:34.807Z"
   },
   {
    "duration": 494,
    "start_time": "2021-12-13T12:55:37.389Z"
   },
   {
    "duration": 611,
    "start_time": "2021-12-13T12:57:06.749Z"
   },
   {
    "duration": 1655,
    "start_time": "2021-12-13T12:57:21.261Z"
   },
   {
    "duration": 706,
    "start_time": "2021-12-13T12:57:48.813Z"
   },
   {
    "duration": 288,
    "start_time": "2021-12-13T12:58:05.190Z"
   },
   {
    "duration": 286,
    "start_time": "2021-12-13T12:59:06.982Z"
   },
   {
    "duration": 698,
    "start_time": "2021-12-13T12:59:14.951Z"
   },
   {
    "duration": 605,
    "start_time": "2021-12-13T12:59:53.562Z"
   },
   {
    "duration": 483,
    "start_time": "2021-12-13T13:00:01.536Z"
   },
   {
    "duration": 300,
    "start_time": "2021-12-13T13:00:37.638Z"
   },
   {
    "duration": 361,
    "start_time": "2021-12-13T13:00:45.334Z"
   },
   {
    "duration": 473,
    "start_time": "2021-12-13T13:00:49.701Z"
   },
   {
    "duration": 490,
    "start_time": "2021-12-13T13:01:11.925Z"
   },
   {
    "duration": 680,
    "start_time": "2021-12-13T13:01:20.110Z"
   },
   {
    "duration": 489,
    "start_time": "2021-12-13T13:02:45.510Z"
   },
   {
    "duration": 514,
    "start_time": "2021-12-13T13:03:27.734Z"
   },
   {
    "duration": 763,
    "start_time": "2021-12-13T13:04:31.985Z"
   },
   {
    "duration": 706,
    "start_time": "2021-12-13T13:11:12.806Z"
   },
   {
    "duration": 6110,
    "start_time": "2021-12-13T13:11:16.271Z"
   },
   {
    "duration": 8472,
    "start_time": "2021-12-13T13:11:51.466Z"
   },
   {
    "duration": 9212,
    "start_time": "2021-12-13T13:12:39.441Z"
   },
   {
    "duration": 4325,
    "start_time": "2021-12-13T13:13:58.063Z"
   },
   {
    "duration": 5915,
    "start_time": "2021-12-13T13:14:18.037Z"
   },
   {
    "duration": 6260,
    "start_time": "2021-12-13T13:14:48.678Z"
   },
   {
    "duration": 5678,
    "start_time": "2021-12-13T13:15:12.296Z"
   },
   {
    "duration": 6052,
    "start_time": "2021-12-13T13:15:25.503Z"
   },
   {
    "duration": 5826,
    "start_time": "2021-12-13T13:15:39.336Z"
   },
   {
    "duration": 327,
    "start_time": "2021-12-13T13:17:05.471Z"
   },
   {
    "duration": 6091,
    "start_time": "2021-12-13T13:22:07.289Z"
   },
   {
    "duration": 5619,
    "start_time": "2021-12-13T13:22:22.456Z"
   },
   {
    "duration": 6184,
    "start_time": "2021-12-13T13:24:03.383Z"
   },
   {
    "duration": 5796,
    "start_time": "2021-12-13T13:24:36.946Z"
   },
   {
    "duration": 6862,
    "start_time": "2021-12-13T13:25:28.368Z"
   },
   {
    "duration": 5820,
    "start_time": "2021-12-13T13:26:02.944Z"
   },
   {
    "duration": 6631,
    "start_time": "2021-12-13T13:27:55.914Z"
   },
   {
    "duration": 6642,
    "start_time": "2021-12-13T13:28:06.725Z"
   },
   {
    "duration": 6475,
    "start_time": "2021-12-13T13:29:09.986Z"
   },
   {
    "duration": 6469,
    "start_time": "2021-12-13T13:29:33.098Z"
   },
   {
    "duration": 11497,
    "start_time": "2021-12-13T13:33:00.387Z"
   },
   {
    "duration": 104,
    "start_time": "2021-12-13T13:36:14.210Z"
   },
   {
    "duration": 107,
    "start_time": "2021-12-13T13:36:27.403Z"
   },
   {
    "duration": 96,
    "start_time": "2021-12-13T13:36:59.915Z"
   },
   {
    "duration": 18046,
    "start_time": "2021-12-13T13:37:52.107Z"
   },
   {
    "duration": 18640,
    "start_time": "2021-12-13T13:39:24.150Z"
   },
   {
    "duration": 19373,
    "start_time": "2021-12-13T13:43:45.115Z"
   },
   {
    "duration": 516,
    "start_time": "2021-12-13T13:44:22.082Z"
   },
   {
    "duration": 18357,
    "start_time": "2021-12-13T13:46:49.314Z"
   },
   {
    "duration": 17857,
    "start_time": "2021-12-13T13:47:11.683Z"
   },
   {
    "duration": 503,
    "start_time": "2021-12-13T13:52:18.236Z"
   },
   {
    "duration": 516,
    "start_time": "2021-12-13T13:53:22.445Z"
   },
   {
    "duration": 657,
    "start_time": "2021-12-13T13:53:26.445Z"
   },
   {
    "duration": 658,
    "start_time": "2021-12-13T13:53:30.996Z"
   },
   {
    "duration": 517,
    "start_time": "2021-12-13T13:54:16.205Z"
   },
   {
    "duration": 493,
    "start_time": "2021-12-13T13:54:40.302Z"
   },
   {
    "duration": 505,
    "start_time": "2021-12-13T13:54:46.503Z"
   },
   {
    "duration": 305,
    "start_time": "2021-12-13T13:54:55.038Z"
   },
   {
    "duration": 675,
    "start_time": "2021-12-13T13:55:00.173Z"
   },
   {
    "duration": 705,
    "start_time": "2021-12-13T13:55:13.268Z"
   },
   {
    "duration": 506,
    "start_time": "2021-12-13T13:55:16.804Z"
   },
   {
    "duration": 410,
    "start_time": "2021-12-13T13:55:20.548Z"
   },
   {
    "duration": 272,
    "start_time": "2021-12-13T15:33:58.830Z"
   },
   {
    "duration": 1231,
    "start_time": "2021-12-13T15:34:06.848Z"
   },
   {
    "duration": 216,
    "start_time": "2021-12-13T15:34:08.081Z"
   },
   {
    "duration": 24,
    "start_time": "2021-12-13T15:34:08.299Z"
   },
   {
    "duration": 212,
    "start_time": "2021-12-13T15:34:08.325Z"
   },
   {
    "duration": 258,
    "start_time": "2021-12-13T15:34:08.538Z"
   },
   {
    "duration": 121,
    "start_time": "2021-12-13T15:34:08.797Z"
   },
   {
    "duration": 21,
    "start_time": "2021-12-13T15:34:08.920Z"
   },
   {
    "duration": 224,
    "start_time": "2021-12-13T15:34:08.943Z"
   },
   {
    "duration": 178,
    "start_time": "2021-12-13T15:34:09.169Z"
   },
   {
    "duration": 1263,
    "start_time": "2021-12-13T15:34:09.349Z"
   },
   {
    "duration": 36,
    "start_time": "2021-12-13T15:34:10.613Z"
   },
   {
    "duration": 253,
    "start_time": "2021-12-13T15:34:10.651Z"
   },
   {
    "duration": 4609,
    "start_time": "2021-12-13T15:34:10.906Z"
   },
   {
    "duration": 19,
    "start_time": "2021-12-13T15:34:15.517Z"
   },
   {
    "duration": 5865,
    "start_time": "2021-12-13T15:34:15.538Z"
   },
   {
    "duration": 33,
    "start_time": "2021-12-13T15:34:21.404Z"
   },
   {
    "duration": 90,
    "start_time": "2021-12-13T15:34:21.439Z"
   },
   {
    "duration": 7,
    "start_time": "2021-12-13T15:34:21.530Z"
   },
   {
    "duration": 62,
    "start_time": "2021-12-13T15:34:21.539Z"
   },
   {
    "duration": 72,
    "start_time": "2021-12-13T15:34:21.603Z"
   },
   {
    "duration": 21288,
    "start_time": "2021-12-13T15:34:21.677Z"
   },
   {
    "duration": 14,
    "start_time": "2021-12-13T15:34:42.967Z"
   },
   {
    "duration": 10069,
    "start_time": "2021-12-13T15:34:42.985Z"
   },
   {
    "duration": 516,
    "start_time": "2021-12-13T15:34:53.062Z"
   },
   {
    "duration": 322,
    "start_time": "2021-12-13T15:35:25.052Z"
   },
   {
    "duration": 272,
    "start_time": "2021-12-13T15:37:02.173Z"
   },
   {
    "duration": 261,
    "start_time": "2021-12-13T15:37:22.909Z"
   },
   {
    "duration": 230,
    "start_time": "2021-12-13T15:37:31.093Z"
   },
   {
    "duration": 223,
    "start_time": "2021-12-13T15:37:41.102Z"
   },
   {
    "duration": 269,
    "start_time": "2021-12-13T15:37:48.285Z"
   },
   {
    "duration": 270,
    "start_time": "2021-12-13T15:38:40.733Z"
   },
   {
    "duration": 307,
    "start_time": "2021-12-13T15:40:08.518Z"
   },
   {
    "duration": 223,
    "start_time": "2021-12-13T15:40:28.798Z"
   },
   {
    "duration": 227,
    "start_time": "2021-12-13T15:41:07.394Z"
   },
   {
    "duration": 329,
    "start_time": "2021-12-13T15:41:17.021Z"
   },
   {
    "duration": 205,
    "start_time": "2021-12-13T15:41:56.829Z"
   },
   {
    "duration": 219,
    "start_time": "2021-12-13T15:42:08.547Z"
   },
   {
    "duration": 207,
    "start_time": "2021-12-13T15:42:18.220Z"
   },
   {
    "duration": 239,
    "start_time": "2021-12-13T15:42:29.301Z"
   },
   {
    "duration": 219,
    "start_time": "2021-12-13T15:44:20.058Z"
   },
   {
    "duration": 219,
    "start_time": "2021-12-13T15:45:06.021Z"
   },
   {
    "duration": 229,
    "start_time": "2021-12-13T15:45:19.341Z"
   },
   {
    "duration": 85,
    "start_time": "2021-12-13T15:45:44.028Z"
   },
   {
    "duration": 241,
    "start_time": "2021-12-13T15:45:51.581Z"
   },
   {
    "duration": 346,
    "start_time": "2021-12-13T15:46:06.605Z"
   },
   {
    "duration": 217,
    "start_time": "2021-12-13T15:46:50.069Z"
   },
   {
    "duration": 429,
    "start_time": "2021-12-13T15:47:14.757Z"
   },
   {
    "duration": 221,
    "start_time": "2021-12-13T15:53:40.854Z"
   },
   {
    "duration": 217,
    "start_time": "2021-12-13T15:53:55.180Z"
   },
   {
    "duration": 230,
    "start_time": "2021-12-13T15:54:33.533Z"
   },
   {
    "duration": 221,
    "start_time": "2021-12-13T15:54:46.456Z"
   },
   {
    "duration": 207,
    "start_time": "2021-12-13T15:54:56.501Z"
   },
   {
    "duration": 215,
    "start_time": "2021-12-13T15:55:02.293Z"
   },
   {
    "duration": 220,
    "start_time": "2021-12-13T15:55:35.062Z"
   },
   {
    "duration": 271,
    "start_time": "2021-12-13T16:02:55.606Z"
   },
   {
    "duration": 4,
    "start_time": "2021-12-13T16:03:05.548Z"
   },
   {
    "duration": 496,
    "start_time": "2021-12-13T16:03:07.934Z"
   },
   {
    "duration": 5,
    "start_time": "2021-12-13T16:03:23.708Z"
   },
   {
    "duration": 621,
    "start_time": "2021-12-13T16:03:24.637Z"
   },
   {
    "duration": 5,
    "start_time": "2021-12-13T16:04:37.364Z"
   },
   {
    "duration": 606,
    "start_time": "2021-12-13T16:04:40.566Z"
   },
   {
    "duration": 4,
    "start_time": "2021-12-13T16:04:56.630Z"
   },
   {
    "duration": 680,
    "start_time": "2021-12-13T16:04:58.637Z"
   },
   {
    "duration": 5,
    "start_time": "2021-12-13T16:05:14.599Z"
   },
   {
    "duration": 536,
    "start_time": "2021-12-13T16:05:16.750Z"
   },
   {
    "duration": 4,
    "start_time": "2021-12-13T16:07:26.557Z"
   },
   {
    "duration": 782,
    "start_time": "2021-12-13T16:07:28.581Z"
   },
   {
    "duration": 3,
    "start_time": "2021-12-13T16:08:29.321Z"
   },
   {
    "duration": 509,
    "start_time": "2021-12-13T16:08:31.215Z"
   },
   {
    "duration": 105,
    "start_time": "2021-12-13T16:08:42.438Z"
   },
   {
    "duration": 30,
    "start_time": "2021-12-13T16:08:44.230Z"
   },
   {
    "duration": 4,
    "start_time": "2021-12-13T16:09:13.238Z"
   },
   {
    "duration": 217,
    "start_time": "2021-12-13T16:09:15.437Z"
   },
   {
    "duration": 107,
    "start_time": "2021-12-13T16:10:24.759Z"
   },
   {
    "duration": 80,
    "start_time": "2021-12-13T16:10:28.950Z"
   },
   {
    "duration": 4,
    "start_time": "2021-12-13T16:11:06.161Z"
   },
   {
    "duration": 6697,
    "start_time": "2021-12-13T16:11:08.421Z"
   },
   {
    "duration": 4,
    "start_time": "2021-12-13T16:11:44.021Z"
   },
   {
    "duration": 24,
    "start_time": "2021-12-13T16:11:45.991Z"
   },
   {
    "duration": 93,
    "start_time": "2021-12-13T16:12:00.606Z"
   },
   {
    "duration": 4,
    "start_time": "2021-12-13T16:12:11.453Z"
   },
   {
    "duration": 28,
    "start_time": "2021-12-13T16:12:12.893Z"
   },
   {
    "duration": 4,
    "start_time": "2021-12-13T16:12:20.303Z"
   },
   {
    "duration": 27,
    "start_time": "2021-12-13T16:12:22.941Z"
   },
   {
    "duration": 28,
    "start_time": "2021-12-13T16:12:45.949Z"
   },
   {
    "duration": 95,
    "start_time": "2021-12-13T16:12:54.103Z"
   },
   {
    "duration": 26,
    "start_time": "2021-12-13T16:13:17.973Z"
   },
   {
    "duration": 4,
    "start_time": "2021-12-13T16:13:28.765Z"
   },
   {
    "duration": 27,
    "start_time": "2021-12-13T16:13:30.789Z"
   },
   {
    "duration": 4,
    "start_time": "2021-12-13T16:13:50.207Z"
   },
   {
    "duration": 26,
    "start_time": "2021-12-13T16:13:51.805Z"
   },
   {
    "duration": 5,
    "start_time": "2021-12-13T16:14:35.242Z"
   },
   {
    "duration": 216,
    "start_time": "2021-12-13T16:14:37.101Z"
   },
   {
    "duration": 5,
    "start_time": "2021-12-13T16:14:55.877Z"
   },
   {
    "duration": 639,
    "start_time": "2021-12-13T16:14:57.582Z"
   },
   {
    "duration": 5,
    "start_time": "2021-12-13T16:15:27.845Z"
   },
   {
    "duration": 948,
    "start_time": "2021-12-13T16:15:29.214Z"
   },
   {
    "duration": 5,
    "start_time": "2021-12-13T16:15:37.470Z"
   },
   {
    "duration": 630,
    "start_time": "2021-12-13T16:15:39.118Z"
   },
   {
    "duration": 4,
    "start_time": "2021-12-13T16:16:44.655Z"
   },
   {
    "duration": 762,
    "start_time": "2021-12-13T16:16:47.789Z"
   },
   {
    "duration": 4,
    "start_time": "2021-12-13T16:18:03.222Z"
   },
   {
    "duration": 1640,
    "start_time": "2021-12-13T16:18:05.061Z"
   },
   {
    "duration": 4,
    "start_time": "2021-12-13T16:18:10.581Z"
   },
   {
    "duration": 5,
    "start_time": "2021-12-13T16:18:16.006Z"
   },
   {
    "duration": 866,
    "start_time": "2021-12-13T16:18:16.605Z"
   },
   {
    "duration": 6,
    "start_time": "2021-12-13T16:21:48.310Z"
   },
   {
    "duration": 748,
    "start_time": "2021-12-13T16:21:49.686Z"
   },
   {
    "duration": 750,
    "start_time": "2021-12-13T16:24:59.445Z"
   },
   {
    "duration": 6,
    "start_time": "2021-12-13T16:25:11.220Z"
   },
   {
    "duration": 767,
    "start_time": "2021-12-13T16:25:12.773Z"
   },
   {
    "duration": 121,
    "start_time": "2021-12-13T16:25:22.581Z"
   },
   {
    "duration": 752,
    "start_time": "2021-12-13T16:25:23.829Z"
   },
   {
    "duration": 65,
    "start_time": "2021-12-13T16:28:30.278Z"
   },
   {
    "duration": 6,
    "start_time": "2021-12-13T16:29:58.774Z"
   },
   {
    "duration": 784,
    "start_time": "2021-12-13T16:30:00.069Z"
   },
   {
    "duration": 719,
    "start_time": "2021-12-13T16:31:06.410Z"
   },
   {
    "duration": 247,
    "start_time": "2021-12-13T16:36:40.358Z"
   },
   {
    "duration": 6,
    "start_time": "2021-12-13T16:37:00.188Z"
   },
   {
    "duration": 1774,
    "start_time": "2021-12-13T16:37:03.301Z"
   },
   {
    "duration": 6,
    "start_time": "2021-12-13T16:37:32.631Z"
   },
   {
    "duration": 1057,
    "start_time": "2021-12-13T16:37:34.821Z"
   },
   {
    "duration": 6,
    "start_time": "2021-12-13T16:38:07.557Z"
   },
   {
    "duration": 1113,
    "start_time": "2021-12-13T16:38:09.829Z"
   },
   {
    "duration": 6,
    "start_time": "2021-12-13T16:39:37.020Z"
   },
   {
    "duration": 960,
    "start_time": "2021-12-13T16:41:47.605Z"
   },
   {
    "duration": 88,
    "start_time": "2021-12-13T16:49:15.814Z"
   },
   {
    "duration": 8,
    "start_time": "2021-12-13T16:49:24.764Z"
   },
   {
    "duration": 1311,
    "start_time": "2021-12-13T16:49:26.053Z"
   },
   {
    "duration": 8,
    "start_time": "2021-12-13T16:50:09.829Z"
   },
   {
    "duration": 1324,
    "start_time": "2021-12-13T16:50:13.693Z"
   },
   {
    "duration": 8,
    "start_time": "2021-12-13T16:50:46.188Z"
   },
   {
    "duration": 1339,
    "start_time": "2021-12-13T16:50:46.861Z"
   },
   {
    "duration": 8,
    "start_time": "2021-12-13T16:50:53.460Z"
   },
   {
    "duration": 1306,
    "start_time": "2021-12-13T16:51:01.214Z"
   },
   {
    "duration": 106,
    "start_time": "2021-12-13T16:51:12.697Z"
   },
   {
    "duration": 1218,
    "start_time": "2021-12-13T16:51:13.717Z"
   },
   {
    "duration": 8,
    "start_time": "2021-12-13T16:51:25.140Z"
   },
   {
    "duration": 1435,
    "start_time": "2021-12-13T16:51:26.828Z"
   },
   {
    "duration": 8,
    "start_time": "2021-12-13T16:51:32.829Z"
   },
   {
    "duration": 1236,
    "start_time": "2021-12-13T16:51:34.613Z"
   },
   {
    "duration": 10,
    "start_time": "2021-12-13T16:51:41.460Z"
   },
   {
    "duration": 1423,
    "start_time": "2021-12-13T16:51:43.325Z"
   },
   {
    "duration": 8,
    "start_time": "2021-12-13T16:52:08.637Z"
   },
   {
    "duration": 1246,
    "start_time": "2021-12-13T16:52:10.525Z"
   },
   {
    "duration": 8,
    "start_time": "2021-12-13T16:53:35.216Z"
   },
   {
    "duration": 1169,
    "start_time": "2021-12-13T16:55:23.501Z"
   },
   {
    "duration": 217,
    "start_time": "2021-12-13T16:55:24.671Z"
   },
   {
    "duration": 25,
    "start_time": "2021-12-13T16:55:24.890Z"
   },
   {
    "duration": 214,
    "start_time": "2021-12-13T16:55:24.917Z"
   },
   {
    "duration": 256,
    "start_time": "2021-12-13T16:55:25.133Z"
   },
   {
    "duration": 125,
    "start_time": "2021-12-13T16:55:25.391Z"
   },
   {
    "duration": 23,
    "start_time": "2021-12-13T16:55:25.518Z"
   },
   {
    "duration": 233,
    "start_time": "2021-12-13T16:55:25.544Z"
   },
   {
    "duration": 197,
    "start_time": "2021-12-13T16:55:25.779Z"
   },
   {
    "duration": 1292,
    "start_time": "2021-12-13T16:55:25.978Z"
   },
   {
    "duration": 39,
    "start_time": "2021-12-13T16:55:27.271Z"
   },
   {
    "duration": 262,
    "start_time": "2021-12-13T16:55:27.312Z"
   },
   {
    "duration": 4672,
    "start_time": "2021-12-13T16:55:27.575Z"
   },
   {
    "duration": 23,
    "start_time": "2021-12-13T16:55:32.249Z"
   },
   {
    "duration": 7130,
    "start_time": "2021-12-13T16:55:32.274Z"
   },
   {
    "duration": 35,
    "start_time": "2021-12-13T16:55:39.406Z"
   },
   {
    "duration": 81,
    "start_time": "2021-12-13T16:55:39.442Z"
   },
   {
    "duration": 8,
    "start_time": "2021-12-13T16:55:39.524Z"
   },
   {
    "duration": 71,
    "start_time": "2021-12-13T16:55:39.533Z"
   },
   {
    "duration": 74,
    "start_time": "2021-12-13T16:55:39.606Z"
   },
   {
    "duration": 21902,
    "start_time": "2021-12-13T16:55:39.682Z"
   },
   {
    "duration": 14,
    "start_time": "2021-12-13T16:56:01.585Z"
   },
   {
    "duration": 9993,
    "start_time": "2021-12-13T16:56:01.602Z"
   },
   {
    "duration": 11,
    "start_time": "2021-12-13T16:56:11.598Z"
   },
   {
    "duration": 1495,
    "start_time": "2021-12-13T16:56:11.611Z"
   },
   {
    "duration": 7,
    "start_time": "2021-12-13T17:03:13.126Z"
   },
   {
    "duration": 803,
    "start_time": "2021-12-13T17:03:14.312Z"
   },
   {
    "duration": 13,
    "start_time": "2021-12-13T17:03:32.720Z"
   },
   {
    "duration": 479,
    "start_time": "2021-12-13T17:03:34.233Z"
   },
   {
    "duration": 8,
    "start_time": "2021-12-13T17:03:43.136Z"
   },
   {
    "duration": 83,
    "start_time": "2021-12-13T17:05:04.200Z"
   },
   {
    "duration": 685,
    "start_time": "2021-12-13T17:05:06.083Z"
   },
   {
    "duration": 131,
    "start_time": "2021-12-13T17:05:14.618Z"
   },
   {
    "duration": 8,
    "start_time": "2021-12-13T17:05:39.840Z"
   },
   {
    "duration": 8,
    "start_time": "2021-12-13T17:05:50.120Z"
   },
   {
    "duration": 8,
    "start_time": "2021-12-13T17:05:55.424Z"
   },
   {
    "duration": 1234,
    "start_time": "2021-12-13T17:06:00.482Z"
   },
   {
    "duration": 8,
    "start_time": "2021-12-13T17:06:24.593Z"
   },
   {
    "duration": 1105,
    "start_time": "2021-12-13T17:06:27.313Z"
   },
   {
    "duration": 9,
    "start_time": "2021-12-13T17:06:34.128Z"
   },
   {
    "duration": 8,
    "start_time": "2021-12-13T17:06:38.712Z"
   },
   {
    "duration": 1109,
    "start_time": "2021-12-13T17:06:40.080Z"
   },
   {
    "duration": 9,
    "start_time": "2021-12-13T17:06:51.960Z"
   },
   {
    "duration": 894,
    "start_time": "2021-12-13T17:06:53.344Z"
   },
   {
    "duration": 126,
    "start_time": "2021-12-13T17:07:01.752Z"
   },
   {
    "duration": 897,
    "start_time": "2021-12-13T17:07:03.392Z"
   },
   {
    "duration": 12,
    "start_time": "2021-12-13T17:11:41.778Z"
   },
   {
    "duration": 81,
    "start_time": "2021-12-13T17:11:45.129Z"
   },
   {
    "duration": 902,
    "start_time": "2021-12-13T17:11:51.800Z"
   },
   {
    "duration": 5,
    "start_time": "2021-12-13T17:12:32.288Z"
   },
   {
    "duration": 8,
    "start_time": "2021-12-13T17:12:44.577Z"
   },
   {
    "duration": 665,
    "start_time": "2021-12-13T17:12:46.712Z"
   },
   {
    "duration": 8,
    "start_time": "2021-12-13T17:12:58.872Z"
   },
   {
    "duration": 924,
    "start_time": "2021-12-13T17:13:01.320Z"
   },
   {
    "duration": 8,
    "start_time": "2021-12-13T17:13:08.448Z"
   },
   {
    "duration": 1056,
    "start_time": "2021-12-13T17:13:09.728Z"
   },
   {
    "duration": 8,
    "start_time": "2021-12-13T17:17:28.337Z"
   },
   {
    "duration": 902,
    "start_time": "2021-12-13T17:17:32.265Z"
   },
   {
    "duration": 8,
    "start_time": "2021-12-13T17:18:20.668Z"
   },
   {
    "duration": 923,
    "start_time": "2021-12-13T17:18:22.945Z"
   },
   {
    "duration": 8,
    "start_time": "2021-12-13T17:18:45.930Z"
   },
   {
    "duration": 770,
    "start_time": "2021-12-13T17:18:48.225Z"
   },
   {
    "duration": 8,
    "start_time": "2021-12-13T17:19:04.620Z"
   },
   {
    "duration": 894,
    "start_time": "2021-12-13T17:19:06.576Z"
   },
   {
    "duration": 8,
    "start_time": "2021-12-13T17:19:13.624Z"
   },
   {
    "duration": 7,
    "start_time": "2021-12-13T17:19:28.561Z"
   },
   {
    "duration": 999,
    "start_time": "2021-12-13T17:19:31.081Z"
   },
   {
    "duration": 8,
    "start_time": "2021-12-13T17:21:18.266Z"
   },
   {
    "duration": 912,
    "start_time": "2021-12-13T17:21:20.689Z"
   },
   {
    "duration": 8,
    "start_time": "2021-12-13T17:22:16.889Z"
   },
   {
    "duration": 9,
    "start_time": "2021-12-13T17:22:21.672Z"
   },
   {
    "duration": 902,
    "start_time": "2021-12-13T17:22:23.817Z"
   },
   {
    "duration": 12,
    "start_time": "2021-12-13T17:23:56.433Z"
   },
   {
    "duration": 907,
    "start_time": "2021-12-13T17:23:57.314Z"
   },
   {
    "duration": 8,
    "start_time": "2021-12-13T17:24:17.893Z"
   },
   {
    "duration": 1024,
    "start_time": "2021-12-13T17:24:20.513Z"
   },
   {
    "duration": 8,
    "start_time": "2021-12-13T17:24:28.466Z"
   },
   {
    "duration": 952,
    "start_time": "2021-12-13T17:24:30.513Z"
   },
   {
    "duration": 12,
    "start_time": "2021-12-13T17:24:46.786Z"
   },
   {
    "duration": 802,
    "start_time": "2021-12-13T17:24:49.585Z"
   },
   {
    "duration": 8,
    "start_time": "2021-12-13T17:25:18.019Z"
   },
   {
    "duration": 936,
    "start_time": "2021-12-13T17:25:20.793Z"
   },
   {
    "duration": 8,
    "start_time": "2021-12-13T17:25:49.141Z"
   },
   {
    "duration": 875,
    "start_time": "2021-12-13T17:25:51.457Z"
   },
   {
    "duration": 112,
    "start_time": "2021-12-13T17:26:31.060Z"
   },
   {
    "duration": 922,
    "start_time": "2021-12-13T17:26:32.010Z"
   },
   {
    "duration": 256,
    "start_time": "2021-12-13T17:32:49.880Z"
   },
   {
    "duration": 17,
    "start_time": "2021-12-13T17:33:07.365Z"
   },
   {
    "duration": 28,
    "start_time": "2021-12-13T17:33:19.098Z"
   },
   {
    "duration": 6424,
    "start_time": "2021-12-13T17:33:42.531Z"
   },
   {
    "duration": 22,
    "start_time": "2021-12-13T17:34:13.571Z"
   },
   {
    "duration": 16,
    "start_time": "2021-12-13T17:34:37.716Z"
   },
   {
    "duration": 26,
    "start_time": "2021-12-13T17:34:43.530Z"
   },
   {
    "duration": 48,
    "start_time": "2021-12-13T17:35:08.620Z"
   },
   {
    "duration": 283,
    "start_time": "2021-12-13T17:36:44.076Z"
   },
   {
    "duration": 23,
    "start_time": "2021-12-13T17:36:51.827Z"
   },
   {
    "duration": 31,
    "start_time": "2021-12-13T17:37:22.907Z"
   },
   {
    "duration": 41,
    "start_time": "2021-12-13T17:37:31.514Z"
   },
   {
    "duration": 51,
    "start_time": "2021-12-13T17:37:43.660Z"
   },
   {
    "duration": 49,
    "start_time": "2021-12-13T17:41:30.740Z"
   },
   {
    "duration": 51,
    "start_time": "2021-12-13T17:41:43.860Z"
   },
   {
    "duration": 50,
    "start_time": "2021-12-13T17:41:54.334Z"
   },
   {
    "duration": 53,
    "start_time": "2021-12-13T17:41:58.307Z"
   },
   {
    "duration": 50,
    "start_time": "2021-12-13T17:42:02.218Z"
   },
   {
    "duration": 47,
    "start_time": "2021-12-13T17:42:05.931Z"
   },
   {
    "duration": 49,
    "start_time": "2021-12-13T17:42:20.531Z"
   },
   {
    "duration": 51,
    "start_time": "2021-12-13T17:42:35.229Z"
   },
   {
    "duration": 50,
    "start_time": "2021-12-13T17:42:42.875Z"
   },
   {
    "duration": 52,
    "start_time": "2021-12-13T17:42:48.324Z"
   },
   {
    "duration": 8,
    "start_time": "2021-12-13T17:57:45.327Z"
   },
   {
    "duration": 899,
    "start_time": "2021-12-13T17:57:46.302Z"
   },
   {
    "duration": 9,
    "start_time": "2021-12-13T17:57:51.397Z"
   },
   {
    "duration": 900,
    "start_time": "2021-12-13T17:57:52.334Z"
   },
   {
    "duration": 8,
    "start_time": "2021-12-13T17:58:13.925Z"
   },
   {
    "duration": 923,
    "start_time": "2021-12-13T17:58:14.789Z"
   },
   {
    "duration": 106,
    "start_time": "2021-12-13T17:58:21.493Z"
   },
   {
    "duration": 913,
    "start_time": "2021-12-13T17:58:22.422Z"
   },
   {
    "duration": 9,
    "start_time": "2021-12-13T17:58:27.868Z"
   },
   {
    "duration": 973,
    "start_time": "2021-12-13T17:58:29.078Z"
   },
   {
    "duration": 9,
    "start_time": "2021-12-13T17:58:33.965Z"
   },
   {
    "duration": 950,
    "start_time": "2021-12-13T17:58:35.646Z"
   },
   {
    "duration": 9,
    "start_time": "2021-12-13T18:00:41.834Z"
   },
   {
    "duration": 1000,
    "start_time": "2021-12-13T18:00:44.510Z"
   },
   {
    "duration": 106,
    "start_time": "2021-12-13T18:01:16.454Z"
   },
   {
    "duration": 1012,
    "start_time": "2021-12-13T18:01:19.077Z"
   },
   {
    "duration": 8,
    "start_time": "2021-12-13T18:01:27.789Z"
   },
   {
    "duration": 906,
    "start_time": "2021-12-13T18:01:30.686Z"
   },
   {
    "duration": 8,
    "start_time": "2021-12-13T18:02:08.597Z"
   },
   {
    "duration": 975,
    "start_time": "2021-12-13T18:02:10.589Z"
   },
   {
    "duration": 8,
    "start_time": "2021-12-13T18:02:26.605Z"
   },
   {
    "duration": 1016,
    "start_time": "2021-12-13T18:02:28.398Z"
   },
   {
    "duration": 1616,
    "start_time": "2021-12-13T20:24:38.687Z"
   },
   {
    "duration": 404,
    "start_time": "2021-12-13T20:24:40.306Z"
   },
   {
    "duration": 32,
    "start_time": "2021-12-13T20:24:40.717Z"
   },
   {
    "duration": 312,
    "start_time": "2021-12-13T20:24:40.752Z"
   },
   {
    "duration": 453,
    "start_time": "2021-12-13T20:24:41.067Z"
   },
   {
    "duration": 173,
    "start_time": "2021-12-13T20:24:41.531Z"
   },
   {
    "duration": 38,
    "start_time": "2021-12-13T20:24:41.717Z"
   },
   {
    "duration": 395,
    "start_time": "2021-12-13T20:24:41.761Z"
   },
   {
    "duration": 289,
    "start_time": "2021-12-13T20:24:42.160Z"
   },
   {
    "duration": 2481,
    "start_time": "2021-12-13T20:24:42.451Z"
   },
   {
    "duration": 50,
    "start_time": "2021-12-13T20:24:44.935Z"
   },
   {
    "duration": 458,
    "start_time": "2021-12-13T20:24:44.987Z"
   },
   {
    "duration": 7517,
    "start_time": "2021-12-13T20:24:45.448Z"
   },
   {
    "duration": 29,
    "start_time": "2021-12-13T20:24:52.968Z"
   },
   {
    "duration": 11158,
    "start_time": "2021-12-13T20:24:53.000Z"
   },
   {
    "duration": 70,
    "start_time": "2021-12-13T20:25:04.161Z"
   },
   {
    "duration": 117,
    "start_time": "2021-12-13T20:25:04.233Z"
   },
   {
    "duration": 9,
    "start_time": "2021-12-13T20:25:04.353Z"
   },
   {
    "duration": 109,
    "start_time": "2021-12-13T20:25:04.365Z"
   },
   {
    "duration": 87,
    "start_time": "2021-12-13T20:25:04.477Z"
   },
   {
    "duration": 40419,
    "start_time": "2021-12-13T20:25:04.566Z"
   },
   {
    "duration": 35,
    "start_time": "2021-12-13T20:25:44.988Z"
   },
   {
    "duration": 18715,
    "start_time": "2021-12-13T20:25:45.034Z"
   },
   {
    "duration": 12,
    "start_time": "2021-12-13T20:26:03.752Z"
   },
   {
    "duration": 1724,
    "start_time": "2021-12-13T20:26:03.767Z"
   },
   {
    "duration": 84,
    "start_time": "2021-12-13T20:26:05.493Z"
   },
   {
    "duration": 333,
    "start_time": "2021-12-13T20:33:20.324Z"
   },
   {
    "duration": 342,
    "start_time": "2021-12-13T20:33:39.756Z"
   },
   {
    "duration": 328,
    "start_time": "2021-12-13T20:33:45.772Z"
   },
   {
    "duration": 351,
    "start_time": "2021-12-13T20:34:43.091Z"
   },
   {
    "duration": 348,
    "start_time": "2021-12-13T20:38:42.378Z"
   },
   {
    "duration": 350,
    "start_time": "2021-12-13T20:39:19.859Z"
   },
   {
    "duration": 462,
    "start_time": "2021-12-13T20:39:39.890Z"
   },
   {
    "duration": 775,
    "start_time": "2021-12-13T20:40:06.964Z"
   },
   {
    "duration": 104,
    "start_time": "2021-12-13T20:40:22.932Z"
   },
   {
    "duration": 396,
    "start_time": "2021-12-13T20:40:34.339Z"
   },
   {
    "duration": 408,
    "start_time": "2021-12-13T20:40:54.322Z"
   },
   {
    "duration": 675,
    "start_time": "2021-12-13T20:49:19.589Z"
   },
   {
    "duration": 668,
    "start_time": "2021-12-13T20:49:36.824Z"
   },
   {
    "duration": 436,
    "start_time": "2021-12-13T20:49:53.588Z"
   },
   {
    "duration": 339,
    "start_time": "2021-12-13T20:52:29.692Z"
   },
   {
    "duration": 400,
    "start_time": "2021-12-13T20:57:38.948Z"
   },
   {
    "duration": 312,
    "start_time": "2021-12-13T20:59:28.126Z"
   },
   {
    "duration": 236,
    "start_time": "2021-12-13T20:59:37.014Z"
   },
   {
    "duration": 233,
    "start_time": "2021-12-13T21:03:41.839Z"
   },
   {
    "duration": 482,
    "start_time": "2021-12-13T21:03:52.910Z"
   },
   {
    "duration": 198,
    "start_time": "2021-12-13T21:04:46.867Z"
   },
   {
    "duration": 353,
    "start_time": "2021-12-13T21:10:27.033Z"
   },
   {
    "duration": 125,
    "start_time": "2021-12-13T21:10:44.293Z"
   },
   {
    "duration": 137,
    "start_time": "2021-12-13T21:10:59.607Z"
   },
   {
    "duration": 239,
    "start_time": "2021-12-13T21:11:10.422Z"
   },
   {
    "duration": 329,
    "start_time": "2021-12-13T21:15:01.877Z"
   },
   {
    "duration": 249,
    "start_time": "2021-12-13T21:19:04.409Z"
   },
   {
    "duration": 7,
    "start_time": "2021-12-13T21:25:14.526Z"
   },
   {
    "duration": 268,
    "start_time": "2021-12-13T21:30:07.825Z"
   },
   {
    "duration": 9,
    "start_time": "2021-12-13T21:30:18.879Z"
   },
   {
    "duration": 11,
    "start_time": "2021-12-13T21:32:51.390Z"
   },
   {
    "duration": 10,
    "start_time": "2021-12-13T21:33:30.499Z"
   },
   {
    "duration": 18,
    "start_time": "2021-12-13T21:33:57.547Z"
   },
   {
    "duration": 1596,
    "start_time": "2021-12-13T21:34:01.924Z"
   },
   {
    "duration": 13,
    "start_time": "2021-12-13T21:47:26.004Z"
   },
   {
    "duration": 15,
    "start_time": "2021-12-13T21:47:40.111Z"
   },
   {
    "duration": 12,
    "start_time": "2021-12-13T21:48:44.157Z"
   },
   {
    "duration": 14,
    "start_time": "2021-12-13T21:48:53.389Z"
   },
   {
    "duration": 13,
    "start_time": "2021-12-13T21:49:05.493Z"
   },
   {
    "duration": 32,
    "start_time": "2021-12-13T22:04:49.692Z"
   },
   {
    "duration": 41,
    "start_time": "2021-12-13T22:05:13.489Z"
   },
   {
    "duration": 380,
    "start_time": "2021-12-13T22:06:37.048Z"
   },
   {
    "duration": 622,
    "start_time": "2021-12-13T22:07:33.579Z"
   },
   {
    "duration": 1044,
    "start_time": "2021-12-13T22:07:38.361Z"
   },
   {
    "duration": 265,
    "start_time": "2021-12-13T22:09:58.668Z"
   },
   {
    "duration": 339,
    "start_time": "2021-12-13T22:10:10.276Z"
   },
   {
    "duration": 247,
    "start_time": "2021-12-13T22:10:28.698Z"
   },
   {
    "duration": 13,
    "start_time": "2021-12-13T22:11:53.738Z"
   },
   {
    "duration": 13,
    "start_time": "2021-12-13T22:13:03.687Z"
   },
   {
    "duration": 278,
    "start_time": "2021-12-13T22:13:24.333Z"
   },
   {
    "duration": 279,
    "start_time": "2021-12-13T22:13:32.458Z"
   },
   {
    "duration": 13,
    "start_time": "2021-12-13T22:13:48.753Z"
   },
   {
    "duration": 13,
    "start_time": "2021-12-13T22:15:04.130Z"
   },
   {
    "duration": 269,
    "start_time": "2021-12-13T22:15:13.472Z"
   },
   {
    "duration": 15,
    "start_time": "2021-12-13T22:15:21.281Z"
   },
   {
    "duration": 13,
    "start_time": "2021-12-13T22:15:29.345Z"
   },
   {
    "duration": 7722,
    "start_time": "2021-12-13T22:55:06.023Z"
   },
   {
    "duration": 14,
    "start_time": "2021-12-13T22:56:07.588Z"
   },
   {
    "duration": 2607,
    "start_time": "2021-12-13T23:00:30.129Z"
   },
   {
    "duration": 3524,
    "start_time": "2021-12-13T23:01:16.221Z"
   },
   {
    "duration": 41794,
    "start_time": "2021-12-13T23:01:34.617Z"
   },
   {
    "duration": 64190,
    "start_time": "2021-12-13T23:04:53.819Z"
   },
   {
    "duration": 1783,
    "start_time": "2021-12-13T23:06:53.384Z"
   },
   {
    "duration": 404,
    "start_time": "2021-12-13T23:06:55.171Z"
   },
   {
    "duration": 32,
    "start_time": "2021-12-13T23:06:55.578Z"
   },
   {
    "duration": 321,
    "start_time": "2021-12-13T23:06:55.617Z"
   },
   {
    "duration": 536,
    "start_time": "2021-12-13T23:06:55.941Z"
   },
   {
    "duration": 176,
    "start_time": "2021-12-13T23:06:56.479Z"
   },
   {
    "duration": 31,
    "start_time": "2021-12-13T23:06:56.657Z"
   },
   {
    "duration": 386,
    "start_time": "2021-12-13T23:06:56.692Z"
   },
   {
    "duration": 268,
    "start_time": "2021-12-13T23:06:57.081Z"
   },
   {
    "duration": 2412,
    "start_time": "2021-12-13T23:06:57.351Z"
   },
   {
    "duration": 66,
    "start_time": "2021-12-13T23:06:59.765Z"
   },
   {
    "duration": 441,
    "start_time": "2021-12-13T23:06:59.834Z"
   },
   {
    "duration": 62964,
    "start_time": "2021-12-13T23:07:05.371Z"
   },
   {
    "duration": 1501,
    "start_time": "2021-12-13T23:09:49.569Z"
   },
   {
    "duration": 389,
    "start_time": "2021-12-13T23:09:51.073Z"
   },
   {
    "duration": 30,
    "start_time": "2021-12-13T23:09:51.464Z"
   },
   {
    "duration": 320,
    "start_time": "2021-12-13T23:09:51.497Z"
   },
   {
    "duration": 442,
    "start_time": "2021-12-13T23:09:51.819Z"
   },
   {
    "duration": 179,
    "start_time": "2021-12-13T23:09:52.263Z"
   },
   {
    "duration": 31,
    "start_time": "2021-12-13T23:09:52.444Z"
   },
   {
    "duration": 395,
    "start_time": "2021-12-13T23:09:52.479Z"
   },
   {
    "duration": 267,
    "start_time": "2021-12-13T23:09:52.877Z"
   },
   {
    "duration": 2447,
    "start_time": "2021-12-13T23:09:53.146Z"
   },
   {
    "duration": 3,
    "start_time": "2021-12-13T23:09:55.596Z"
   },
   {
    "duration": 454,
    "start_time": "2021-12-13T23:09:55.617Z"
   },
   {
    "duration": 58213,
    "start_time": "2021-12-13T23:09:59.716Z"
   },
   {
    "duration": 380,
    "start_time": "2021-12-13T23:11:14.076Z"
   },
   {
    "duration": 1499,
    "start_time": "2021-12-13T23:12:42.971Z"
   },
   {
    "duration": 387,
    "start_time": "2021-12-13T23:12:44.473Z"
   },
   {
    "duration": 30,
    "start_time": "2021-12-13T23:12:44.862Z"
   },
   {
    "duration": 330,
    "start_time": "2021-12-13T23:12:44.895Z"
   },
   {
    "duration": 420,
    "start_time": "2021-12-13T23:12:45.227Z"
   },
   {
    "duration": 186,
    "start_time": "2021-12-13T23:12:45.649Z"
   },
   {
    "duration": 30,
    "start_time": "2021-12-13T23:12:45.837Z"
   },
   {
    "duration": 390,
    "start_time": "2021-12-13T23:12:45.870Z"
   },
   {
    "duration": 389,
    "start_time": "2021-12-13T23:12:46.263Z"
   },
   {
    "duration": 2455,
    "start_time": "2021-12-13T23:12:46.655Z"
   },
   {
    "duration": 13,
    "start_time": "2021-12-13T23:12:49.113Z"
   },
   {
    "duration": 451,
    "start_time": "2021-12-13T23:12:49.128Z"
   },
   {
    "duration": 2335,
    "start_time": "2021-12-13T23:13:02.213Z"
   },
   {
    "duration": 58507,
    "start_time": "2021-12-13T23:13:25.397Z"
   },
   {
    "duration": 287,
    "start_time": "2021-12-13T23:15:07.726Z"
   },
   {
    "duration": 1582,
    "start_time": "2021-12-13T23:15:59.546Z"
   },
   {
    "duration": 421,
    "start_time": "2021-12-13T23:16:01.130Z"
   },
   {
    "duration": 39,
    "start_time": "2021-12-13T23:16:01.554Z"
   },
   {
    "duration": 481,
    "start_time": "2021-12-13T23:16:01.596Z"
   },
   {
    "duration": 685,
    "start_time": "2021-12-13T23:16:02.080Z"
   },
   {
    "duration": 182,
    "start_time": "2021-12-13T23:16:02.769Z"
   },
   {
    "duration": 34,
    "start_time": "2021-12-13T23:16:02.954Z"
   },
   {
    "duration": 387,
    "start_time": "2021-12-13T23:16:03.018Z"
   },
   {
    "duration": 385,
    "start_time": "2021-12-13T23:16:03.408Z"
   },
   {
    "duration": 2482,
    "start_time": "2021-12-13T23:16:03.795Z"
   },
   {
    "duration": 38,
    "start_time": "2021-12-13T23:16:06.280Z"
   },
   {
    "duration": 443,
    "start_time": "2021-12-13T23:16:06.320Z"
   },
   {
    "duration": 55842,
    "start_time": "2021-12-13T23:16:21.413Z"
   },
   {
    "duration": 1541,
    "start_time": "2021-12-13T23:20:17.119Z"
   },
   {
    "duration": 399,
    "start_time": "2021-12-13T23:20:18.663Z"
   },
   {
    "duration": 30,
    "start_time": "2021-12-13T23:20:19.064Z"
   },
   {
    "duration": 299,
    "start_time": "2021-12-13T23:20:19.098Z"
   },
   {
    "duration": 436,
    "start_time": "2021-12-13T23:20:19.399Z"
   },
   {
    "duration": 166,
    "start_time": "2021-12-13T23:20:19.837Z"
   },
   {
    "duration": 39,
    "start_time": "2021-12-13T23:20:20.005Z"
   },
   {
    "duration": 381,
    "start_time": "2021-12-13T23:20:20.047Z"
   },
   {
    "duration": 363,
    "start_time": "2021-12-13T23:20:20.430Z"
   },
   {
    "duration": 2333,
    "start_time": "2021-12-13T23:20:20.795Z"
   },
   {
    "duration": 50,
    "start_time": "2021-12-13T23:20:23.131Z"
   },
   {
    "duration": 437,
    "start_time": "2021-12-13T23:20:23.183Z"
   },
   {
    "duration": 72895,
    "start_time": "2021-12-13T23:20:30.150Z"
   },
   {
    "duration": 393,
    "start_time": "2021-12-13T23:23:13.824Z"
   },
   {
    "duration": 17,
    "start_time": "2021-12-13T23:23:19.038Z"
   },
   {
    "duration": 10613,
    "start_time": "2021-12-13T23:23:22.942Z"
   },
   {
    "duration": 1483,
    "start_time": "2021-12-13T23:23:47.365Z"
   },
   {
    "duration": 474,
    "start_time": "2021-12-13T23:23:48.851Z"
   },
   {
    "duration": 30,
    "start_time": "2021-12-13T23:23:49.328Z"
   },
   {
    "duration": 307,
    "start_time": "2021-12-13T23:23:49.360Z"
   },
   {
    "duration": 428,
    "start_time": "2021-12-13T23:23:49.669Z"
   },
   {
    "duration": 169,
    "start_time": "2021-12-13T23:23:50.100Z"
   },
   {
    "duration": 49,
    "start_time": "2021-12-13T23:23:50.271Z"
   },
   {
    "duration": 371,
    "start_time": "2021-12-13T23:23:50.323Z"
   },
   {
    "duration": 380,
    "start_time": "2021-12-13T23:23:50.696Z"
   },
   {
    "duration": 2305,
    "start_time": "2021-12-13T23:23:51.078Z"
   },
   {
    "duration": 63,
    "start_time": "2021-12-13T23:23:53.386Z"
   },
   {
    "duration": 432,
    "start_time": "2021-12-13T23:23:53.452Z"
   },
   {
    "duration": 59351,
    "start_time": "2021-12-13T23:23:56.546Z"
   },
   {
    "duration": 1489,
    "start_time": "2021-12-13T23:25:58.574Z"
   },
   {
    "duration": 389,
    "start_time": "2021-12-13T23:26:00.066Z"
   },
   {
    "duration": 30,
    "start_time": "2021-12-13T23:26:00.458Z"
   },
   {
    "duration": 301,
    "start_time": "2021-12-13T23:26:00.491Z"
   },
   {
    "duration": 435,
    "start_time": "2021-12-13T23:26:00.794Z"
   },
   {
    "duration": 195,
    "start_time": "2021-12-13T23:26:01.232Z"
   },
   {
    "duration": 36,
    "start_time": "2021-12-13T23:26:01.430Z"
   },
   {
    "duration": 400,
    "start_time": "2021-12-13T23:26:01.470Z"
   },
   {
    "duration": 388,
    "start_time": "2021-12-13T23:26:01.873Z"
   },
   {
    "duration": 2586,
    "start_time": "2021-12-13T23:26:02.264Z"
   },
   {
    "duration": 54,
    "start_time": "2021-12-13T23:26:18.343Z"
   },
   {
    "duration": 401,
    "start_time": "2021-12-13T23:26:24.672Z"
   },
   {
    "duration": 1563,
    "start_time": "2021-12-13T23:27:06.802Z"
   },
   {
    "duration": 391,
    "start_time": "2021-12-13T23:27:08.369Z"
   },
   {
    "duration": 30,
    "start_time": "2021-12-13T23:27:08.763Z"
   },
   {
    "duration": 312,
    "start_time": "2021-12-13T23:27:08.796Z"
   },
   {
    "duration": 450,
    "start_time": "2021-12-13T23:27:09.118Z"
   },
   {
    "duration": 181,
    "start_time": "2021-12-13T23:27:09.570Z"
   },
   {
    "duration": 31,
    "start_time": "2021-12-13T23:27:09.753Z"
   },
   {
    "duration": 383,
    "start_time": "2021-12-13T23:27:09.787Z"
   },
   {
    "duration": 375,
    "start_time": "2021-12-13T23:27:10.173Z"
   },
   {
    "duration": 2409,
    "start_time": "2021-12-13T23:27:10.551Z"
   },
   {
    "duration": 54,
    "start_time": "2021-12-13T23:27:18.626Z"
   },
   {
    "duration": 406,
    "start_time": "2021-12-13T23:27:43.943Z"
   },
   {
    "duration": 58796,
    "start_time": "2021-12-13T23:27:49.052Z"
   },
   {
    "duration": 392,
    "start_time": "2021-12-13T23:28:47.851Z"
   },
   {
    "duration": 1556,
    "start_time": "2021-12-13T23:29:08.238Z"
   },
   {
    "duration": 380,
    "start_time": "2021-12-13T23:29:09.797Z"
   },
   {
    "duration": 41,
    "start_time": "2021-12-13T23:29:10.181Z"
   },
   {
    "duration": 307,
    "start_time": "2021-12-13T23:29:10.224Z"
   },
   {
    "duration": 431,
    "start_time": "2021-12-13T23:29:10.534Z"
   },
   {
    "duration": 169,
    "start_time": "2021-12-13T23:29:10.967Z"
   },
   {
    "duration": 32,
    "start_time": "2021-12-13T23:29:11.139Z"
   },
   {
    "duration": 400,
    "start_time": "2021-12-13T23:29:11.175Z"
   },
   {
    "duration": 380,
    "start_time": "2021-12-13T23:29:11.578Z"
   },
   {
    "duration": 2368,
    "start_time": "2021-12-13T23:29:11.960Z"
   },
   {
    "duration": 56,
    "start_time": "2021-12-13T23:29:18.351Z"
   },
   {
    "duration": 1507,
    "start_time": "2021-12-13T23:31:56.553Z"
   },
   {
    "duration": 379,
    "start_time": "2021-12-13T23:31:58.062Z"
   },
   {
    "duration": 31,
    "start_time": "2021-12-13T23:31:58.443Z"
   },
   {
    "duration": 310,
    "start_time": "2021-12-13T23:31:58.476Z"
   },
   {
    "duration": 435,
    "start_time": "2021-12-13T23:31:58.789Z"
   },
   {
    "duration": 163,
    "start_time": "2021-12-13T23:31:59.226Z"
   },
   {
    "duration": 43,
    "start_time": "2021-12-13T23:31:59.392Z"
   },
   {
    "duration": 378,
    "start_time": "2021-12-13T23:31:59.439Z"
   },
   {
    "duration": 363,
    "start_time": "2021-12-13T23:31:59.819Z"
   },
   {
    "duration": 2524,
    "start_time": "2021-12-13T23:32:00.185Z"
   },
   {
    "duration": 729,
    "start_time": "2021-12-13T23:32:16.582Z"
   },
   {
    "duration": 45,
    "start_time": "2021-12-13T23:32:25.832Z"
   },
   {
    "duration": 59931,
    "start_time": "2021-12-13T23:32:29.158Z"
   },
   {
    "duration": 17,
    "start_time": "2021-12-13T23:33:52.879Z"
   },
   {
    "duration": 1549,
    "start_time": "2021-12-13T23:34:21.107Z"
   },
   {
    "duration": 377,
    "start_time": "2021-12-13T23:34:22.659Z"
   },
   {
    "duration": 32,
    "start_time": "2021-12-13T23:34:23.040Z"
   },
   {
    "duration": 309,
    "start_time": "2021-12-13T23:34:23.075Z"
   },
   {
    "duration": 421,
    "start_time": "2021-12-13T23:34:23.386Z"
   },
   {
    "duration": 162,
    "start_time": "2021-12-13T23:34:23.817Z"
   },
   {
    "duration": 46,
    "start_time": "2021-12-13T23:34:23.981Z"
   },
   {
    "duration": 371,
    "start_time": "2021-12-13T23:34:24.030Z"
   },
   {
    "duration": 361,
    "start_time": "2021-12-13T23:34:24.403Z"
   },
   {
    "duration": 2379,
    "start_time": "2021-12-13T23:34:24.766Z"
   },
   {
    "duration": 11,
    "start_time": "2021-12-13T23:34:36.068Z"
   },
   {
    "duration": 5,
    "start_time": "2021-12-13T23:34:49.360Z"
   },
   {
    "duration": 6,
    "start_time": "2021-12-13T23:35:14.183Z"
   },
   {
    "duration": 21,
    "start_time": "2021-12-13T23:35:30.765Z"
   },
   {
    "duration": 1486,
    "start_time": "2021-12-13T23:38:18.862Z"
   },
   {
    "duration": 378,
    "start_time": "2021-12-13T23:38:20.350Z"
   },
   {
    "duration": 30,
    "start_time": "2021-12-13T23:38:20.731Z"
   },
   {
    "duration": 308,
    "start_time": "2021-12-13T23:38:20.763Z"
   },
   {
    "duration": 519,
    "start_time": "2021-12-13T23:38:21.073Z"
   },
   {
    "duration": 165,
    "start_time": "2021-12-13T23:38:21.594Z"
   },
   {
    "duration": 31,
    "start_time": "2021-12-13T23:38:21.761Z"
   },
   {
    "duration": 383,
    "start_time": "2021-12-13T23:38:21.795Z"
   },
   {
    "duration": 362,
    "start_time": "2021-12-13T23:38:22.181Z"
   },
   {
    "duration": 2693,
    "start_time": "2021-12-13T23:38:22.546Z"
   },
   {
    "duration": 21,
    "start_time": "2021-12-13T23:38:30.433Z"
   },
   {
    "duration": 1526,
    "start_time": "2021-12-13T23:42:07.040Z"
   },
   {
    "duration": 378,
    "start_time": "2021-12-13T23:42:08.568Z"
   },
   {
    "duration": 30,
    "start_time": "2021-12-13T23:42:08.949Z"
   },
   {
    "duration": 351,
    "start_time": "2021-12-13T23:42:08.981Z"
   },
   {
    "duration": 419,
    "start_time": "2021-12-13T23:42:09.334Z"
   },
   {
    "duration": 175,
    "start_time": "2021-12-13T23:42:09.755Z"
   },
   {
    "duration": 30,
    "start_time": "2021-12-13T23:42:09.932Z"
   },
   {
    "duration": 375,
    "start_time": "2021-12-13T23:42:09.965Z"
   },
   {
    "duration": 381,
    "start_time": "2021-12-13T23:42:10.344Z"
   },
   {
    "duration": 2356,
    "start_time": "2021-12-13T23:42:10.728Z"
   },
   {
    "duration": 62,
    "start_time": "2021-12-13T23:42:13.086Z"
   },
   {
    "duration": 422,
    "start_time": "2021-12-13T23:42:13.150Z"
   },
   {
    "duration": 59742,
    "start_time": "2021-12-13T23:42:13.575Z"
   },
   {
    "duration": 13,
    "start_time": "2021-12-13T23:43:13.320Z"
   },
   {
    "duration": 30,
    "start_time": "2021-12-13T23:43:13.336Z"
   },
   {
    "duration": 9303,
    "start_time": "2021-12-13T23:43:13.369Z"
   },
   {
    "duration": 60,
    "start_time": "2021-12-13T23:43:22.675Z"
   },
   {
    "duration": 624,
    "start_time": "2021-12-13T23:43:22.738Z"
   },
   {
    "duration": -32,
    "start_time": "2021-12-13T23:43:23.397Z"
   },
   {
    "duration": -35,
    "start_time": "2021-12-13T23:43:23.401Z"
   },
   {
    "duration": -36,
    "start_time": "2021-12-13T23:43:23.403Z"
   },
   {
    "duration": -37,
    "start_time": "2021-12-13T23:43:23.406Z"
   },
   {
    "duration": -44,
    "start_time": "2021-12-13T23:43:23.414Z"
   },
   {
    "duration": -47,
    "start_time": "2021-12-13T23:43:23.418Z"
   },
   {
    "duration": -48,
    "start_time": "2021-12-13T23:43:23.421Z"
   },
   {
    "duration": -51,
    "start_time": "2021-12-13T23:43:23.425Z"
   },
   {
    "duration": -58,
    "start_time": "2021-12-13T23:43:23.433Z"
   },
   {
    "duration": -59,
    "start_time": "2021-12-13T23:43:23.435Z"
   },
   {
    "duration": -61,
    "start_time": "2021-12-13T23:43:23.439Z"
   },
   {
    "duration": -67,
    "start_time": "2021-12-13T23:43:23.446Z"
   },
   {
    "duration": -70,
    "start_time": "2021-12-13T23:43:23.450Z"
   },
   {
    "duration": -71,
    "start_time": "2021-12-13T23:43:23.452Z"
   },
   {
    "duration": -73,
    "start_time": "2021-12-13T23:43:23.455Z"
   },
   {
    "duration": 843,
    "start_time": "2021-12-13T23:44:34.106Z"
   },
   {
    "duration": 298,
    "start_time": "2021-12-13T23:44:39.305Z"
   },
   {
    "duration": 70,
    "start_time": "2021-12-13T23:44:44.243Z"
   },
   {
    "duration": 111,
    "start_time": "2021-12-13T23:44:46.251Z"
   },
   {
    "duration": 308,
    "start_time": "2021-12-13T23:45:30.953Z"
   },
   {
    "duration": 11,
    "start_time": "2021-12-13T23:46:17.332Z"
   },
   {
    "duration": 248,
    "start_time": "2021-12-13T23:46:19.355Z"
   },
   {
    "duration": 87,
    "start_time": "2021-12-13T23:48:03.275Z"
   },
   {
    "duration": 253,
    "start_time": "2021-12-13T23:48:16.698Z"
   },
   {
    "duration": 262,
    "start_time": "2021-12-13T23:48:34.205Z"
   },
   {
    "duration": 256,
    "start_time": "2021-12-13T23:48:43.988Z"
   },
   {
    "duration": 1525,
    "start_time": "2021-12-13T23:49:39.235Z"
   },
   {
    "duration": 372,
    "start_time": "2021-12-13T23:49:40.763Z"
   },
   {
    "duration": 31,
    "start_time": "2021-12-13T23:49:41.139Z"
   },
   {
    "duration": 321,
    "start_time": "2021-12-13T23:49:41.174Z"
   },
   {
    "duration": 424,
    "start_time": "2021-12-13T23:49:41.497Z"
   },
   {
    "duration": 174,
    "start_time": "2021-12-13T23:49:41.923Z"
   },
   {
    "duration": 44,
    "start_time": "2021-12-13T23:49:42.099Z"
   },
   {
    "duration": 357,
    "start_time": "2021-12-13T23:49:42.146Z"
   },
   {
    "duration": 370,
    "start_time": "2021-12-13T23:49:42.506Z"
   },
   {
    "duration": 3179,
    "start_time": "2021-12-13T23:49:42.878Z"
   },
   {
    "duration": 61,
    "start_time": "2021-12-13T23:49:46.060Z"
   },
   {
    "duration": 416,
    "start_time": "2021-12-13T23:49:46.123Z"
   },
   {
    "duration": 1742,
    "start_time": "2021-12-13T23:49:46.542Z"
   },
   {
    "duration": 31,
    "start_time": "2021-12-13T23:49:48.287Z"
   },
   {
    "duration": 32,
    "start_time": "2021-12-13T23:49:48.321Z"
   },
   {
    "duration": 9183,
    "start_time": "2021-12-13T23:49:48.356Z"
   },
   {
    "duration": 50,
    "start_time": "2021-12-13T23:49:57.542Z"
   },
   {
    "duration": 147,
    "start_time": "2021-12-13T23:49:57.595Z"
   },
   {
    "duration": 9,
    "start_time": "2021-12-13T23:50:02.639Z"
   },
   {
    "duration": 415,
    "start_time": "2021-12-13T23:50:04.934Z"
   },
   {
    "duration": 44,
    "start_time": "2021-12-13T23:50:25.064Z"
   },
   {
    "duration": 675,
    "start_time": "2021-12-13T23:50:37.943Z"
   },
   {
    "duration": 264,
    "start_time": "2021-12-13T23:50:43.078Z"
   },
   {
    "duration": 7,
    "start_time": "2021-12-13T23:51:06.703Z"
   },
   {
    "duration": 412,
    "start_time": "2021-12-13T23:51:10.710Z"
   },
   {
    "duration": 4403,
    "start_time": "2021-12-13T23:51:41.096Z"
   },
   {
    "duration": 15,
    "start_time": "2021-12-13T23:52:47.895Z"
   },
   {
    "duration": 983,
    "start_time": "2021-12-13T23:52:50.217Z"
   },
   {
    "duration": 23,
    "start_time": "2021-12-13T23:53:35.113Z"
   },
   {
    "duration": 329,
    "start_time": "2021-12-13T23:54:02.871Z"
   },
   {
    "duration": 335,
    "start_time": "2021-12-13T23:54:16.920Z"
   },
   {
    "duration": 12,
    "start_time": "2021-12-13T23:54:53.576Z"
   },
   {
    "duration": 9,
    "start_time": "2021-12-13T23:55:05.096Z"
   },
   {
    "duration": 755,
    "start_time": "2021-12-13T23:55:18.857Z"
   },
   {
    "duration": 13,
    "start_time": "2021-12-13T23:55:29.711Z"
   },
   {
    "duration": 10,
    "start_time": "2021-12-13T23:55:50.784Z"
   },
   {
    "duration": 10,
    "start_time": "2021-12-13T23:56:33.224Z"
   },
   {
    "duration": 1509,
    "start_time": "2021-12-13T23:58:55.744Z"
   },
   {
    "duration": 379,
    "start_time": "2021-12-13T23:58:57.255Z"
   },
   {
    "duration": 31,
    "start_time": "2021-12-13T23:58:57.637Z"
   },
   {
    "duration": 310,
    "start_time": "2021-12-13T23:58:57.672Z"
   },
   {
    "duration": 435,
    "start_time": "2021-12-13T23:58:57.985Z"
   },
   {
    "duration": 173,
    "start_time": "2021-12-13T23:58:58.423Z"
   },
   {
    "duration": 47,
    "start_time": "2021-12-13T23:58:58.599Z"
   },
   {
    "duration": 370,
    "start_time": "2021-12-13T23:58:58.650Z"
   },
   {
    "duration": 368,
    "start_time": "2021-12-13T23:58:59.023Z"
   },
   {
    "duration": 2304,
    "start_time": "2021-12-13T23:58:59.393Z"
   },
   {
    "duration": 60,
    "start_time": "2021-12-13T23:59:01.700Z"
   },
   {
    "duration": 433,
    "start_time": "2021-12-13T23:59:01.763Z"
   },
   {
    "duration": 1729,
    "start_time": "2021-12-13T23:59:02.199Z"
   },
   {
    "duration": 13,
    "start_time": "2021-12-13T23:59:03.930Z"
   },
   {
    "duration": 35,
    "start_time": "2021-12-13T23:59:03.946Z"
   },
   {
    "duration": 11066,
    "start_time": "2021-12-13T23:59:03.983Z"
   },
   {
    "duration": 65,
    "start_time": "2021-12-13T23:59:15.052Z"
   },
   {
    "duration": 122,
    "start_time": "2021-12-13T23:59:15.119Z"
   },
   {
    "duration": 10,
    "start_time": "2021-12-13T23:59:15.244Z"
   },
   {
    "duration": 64,
    "start_time": "2021-12-13T23:59:15.257Z"
   },
   {
    "duration": 6,
    "start_time": "2021-12-13T23:59:15.323Z"
   },
   {
    "duration": 675,
    "start_time": "2021-12-13T23:59:15.331Z"
   },
   {
    "duration": 450,
    "start_time": "2021-12-13T23:59:16.019Z"
   },
   {
    "duration": -30,
    "start_time": "2021-12-13T23:59:16.502Z"
   },
   {
    "duration": -34,
    "start_time": "2021-12-13T23:59:16.507Z"
   },
   {
    "duration": -35,
    "start_time": "2021-12-13T23:59:16.510Z"
   },
   {
    "duration": -44,
    "start_time": "2021-12-13T23:59:16.520Z"
   },
   {
    "duration": -46,
    "start_time": "2021-12-13T23:59:16.524Z"
   },
   {
    "duration": -54,
    "start_time": "2021-12-13T23:59:16.533Z"
   },
   {
    "duration": -57,
    "start_time": "2021-12-13T23:59:16.538Z"
   },
   {
    "duration": -60,
    "start_time": "2021-12-13T23:59:16.542Z"
   },
   {
    "duration": -68,
    "start_time": "2021-12-13T23:59:16.551Z"
   },
   {
    "duration": -71,
    "start_time": "2021-12-13T23:59:16.555Z"
   },
   {
    "duration": 267,
    "start_time": "2021-12-14T00:00:17.084Z"
   },
   {
    "duration": 6809,
    "start_time": "2021-12-14T00:00:36.563Z"
   },
   {
    "duration": 1659,
    "start_time": "2021-12-14T00:02:15.073Z"
   },
   {
    "duration": 445,
    "start_time": "2021-12-14T00:02:16.734Z"
   },
   {
    "duration": 36,
    "start_time": "2021-12-14T00:02:17.181Z"
   },
   {
    "duration": 312,
    "start_time": "2021-12-14T00:02:17.220Z"
   },
   {
    "duration": 416,
    "start_time": "2021-12-14T00:02:17.535Z"
   },
   {
    "duration": 176,
    "start_time": "2021-12-14T00:02:17.953Z"
   },
   {
    "duration": 28,
    "start_time": "2021-12-14T00:02:18.132Z"
   },
   {
    "duration": 371,
    "start_time": "2021-12-14T00:02:18.164Z"
   },
   {
    "duration": 361,
    "start_time": "2021-12-14T00:02:18.538Z"
   },
   {
    "duration": 2288,
    "start_time": "2021-12-14T00:02:18.901Z"
   },
   {
    "duration": 60,
    "start_time": "2021-12-14T00:02:21.192Z"
   },
   {
    "duration": 421,
    "start_time": "2021-12-14T00:02:21.254Z"
   },
   {
    "duration": 1848,
    "start_time": "2021-12-14T00:02:21.677Z"
   },
   {
    "duration": 14,
    "start_time": "2021-12-14T00:02:23.527Z"
   },
   {
    "duration": 32,
    "start_time": "2021-12-14T00:02:23.543Z"
   },
   {
    "duration": 9011,
    "start_time": "2021-12-14T00:02:23.577Z"
   },
   {
    "duration": 61,
    "start_time": "2021-12-14T00:02:32.591Z"
   },
   {
    "duration": 125,
    "start_time": "2021-12-14T00:02:32.654Z"
   },
   {
    "duration": 9,
    "start_time": "2021-12-14T00:02:32.782Z"
   },
   {
    "duration": 61,
    "start_time": "2021-12-14T00:02:32.794Z"
   },
   {
    "duration": 674,
    "start_time": "2021-12-14T00:02:32.857Z"
   },
   {
    "duration": 7516,
    "start_time": "2021-12-14T00:02:33.533Z"
   },
   {
    "duration": -28,
    "start_time": "2021-12-14T00:02:41.080Z"
   },
   {
    "duration": -36,
    "start_time": "2021-12-14T00:02:41.089Z"
   },
   {
    "duration": -38,
    "start_time": "2021-12-14T00:02:41.093Z"
   },
   {
    "duration": -42,
    "start_time": "2021-12-14T00:02:41.098Z"
   },
   {
    "duration": -48,
    "start_time": "2021-12-14T00:02:41.105Z"
   },
   {
    "duration": -50,
    "start_time": "2021-12-14T00:02:41.109Z"
   },
   {
    "duration": -52,
    "start_time": "2021-12-14T00:02:41.113Z"
   },
   {
    "duration": -58,
    "start_time": "2021-12-14T00:02:41.120Z"
   },
   {
    "duration": -60,
    "start_time": "2021-12-14T00:02:41.124Z"
   },
   {
    "duration": -63,
    "start_time": "2021-12-14T00:02:41.128Z"
   },
   {
    "duration": 7,
    "start_time": "2021-12-14T00:03:31.202Z"
   },
   {
    "duration": 6,
    "start_time": "2021-12-14T00:03:40.051Z"
   },
   {
    "duration": 1500,
    "start_time": "2021-12-14T00:03:53.356Z"
   },
   {
    "duration": 380,
    "start_time": "2021-12-14T00:03:54.858Z"
   },
   {
    "duration": 30,
    "start_time": "2021-12-14T00:03:55.241Z"
   },
   {
    "duration": 321,
    "start_time": "2021-12-14T00:03:55.274Z"
   },
   {
    "duration": 432,
    "start_time": "2021-12-14T00:03:55.597Z"
   },
   {
    "duration": 186,
    "start_time": "2021-12-14T00:03:56.032Z"
   },
   {
    "duration": 32,
    "start_time": "2021-12-14T00:03:56.221Z"
   },
   {
    "duration": 387,
    "start_time": "2021-12-14T00:03:56.257Z"
   },
   {
    "duration": 380,
    "start_time": "2021-12-14T00:03:56.646Z"
   },
   {
    "duration": 2409,
    "start_time": "2021-12-14T00:03:57.028Z"
   },
   {
    "duration": 50,
    "start_time": "2021-12-14T00:03:59.439Z"
   },
   {
    "duration": 447,
    "start_time": "2021-12-14T00:03:59.492Z"
   },
   {
    "duration": 1851,
    "start_time": "2021-12-14T00:03:59.942Z"
   },
   {
    "duration": 28,
    "start_time": "2021-12-14T00:04:01.796Z"
   },
   {
    "duration": 53,
    "start_time": "2021-12-14T00:04:01.827Z"
   },
   {
    "duration": 9666,
    "start_time": "2021-12-14T00:04:01.883Z"
   },
   {
    "duration": 65,
    "start_time": "2021-12-14T00:04:11.552Z"
   },
   {
    "duration": 122,
    "start_time": "2021-12-14T00:04:11.620Z"
   },
   {
    "duration": 12,
    "start_time": "2021-12-14T00:04:11.744Z"
   },
   {
    "duration": 64,
    "start_time": "2021-12-14T00:04:11.758Z"
   },
   {
    "duration": 712,
    "start_time": "2021-12-14T00:04:11.824Z"
   },
   {
    "duration": 6,
    "start_time": "2021-12-14T00:04:12.539Z"
   },
   {
    "duration": 4705,
    "start_time": "2021-12-14T00:04:12.549Z"
   },
   {
    "duration": 12,
    "start_time": "2021-12-14T00:04:17.257Z"
   },
   {
    "duration": 1007,
    "start_time": "2021-12-14T00:04:17.272Z"
   },
   {
    "duration": 41,
    "start_time": "2021-12-14T00:04:18.281Z"
   },
   {
    "duration": 348,
    "start_time": "2021-12-14T00:04:18.324Z"
   },
   {
    "duration": 12,
    "start_time": "2021-12-14T00:04:18.674Z"
   },
   {
    "duration": 33,
    "start_time": "2021-12-14T00:04:18.689Z"
   },
   {
    "duration": 778,
    "start_time": "2021-12-14T00:04:18.724Z"
   },
   {
    "duration": 18,
    "start_time": "2021-12-14T00:04:19.504Z"
   },
   {
    "duration": 12,
    "start_time": "2021-12-14T00:04:19.525Z"
   },
   {
    "duration": 329,
    "start_time": "2021-12-14T00:06:53.195Z"
   },
   {
    "duration": 794,
    "start_time": "2021-12-14T00:06:59.370Z"
   },
   {
    "duration": 707,
    "start_time": "2021-12-14T00:08:03.666Z"
   },
   {
    "duration": 707,
    "start_time": "2021-12-14T00:08:46.770Z"
   },
   {
    "duration": 711,
    "start_time": "2021-12-14T00:09:24.002Z"
   },
   {
    "duration": 703,
    "start_time": "2021-12-14T00:09:57.154Z"
   },
   {
    "duration": 693,
    "start_time": "2021-12-14T00:10:04.260Z"
   },
   {
    "duration": 715,
    "start_time": "2021-12-14T00:10:17.106Z"
   },
   {
    "duration": 686,
    "start_time": "2021-12-14T00:10:49.898Z"
   },
   {
    "duration": 985,
    "start_time": "2021-12-14T00:13:09.770Z"
   },
   {
    "duration": 778,
    "start_time": "2021-12-14T00:13:14.811Z"
   },
   {
    "duration": 694,
    "start_time": "2021-12-14T00:21:04.127Z"
   },
   {
    "duration": 700,
    "start_time": "2021-12-14T00:21:08.780Z"
   },
   {
    "duration": 5,
    "start_time": "2021-12-14T00:26:57.258Z"
   },
   {
    "duration": 8,
    "start_time": "2021-12-14T00:28:33.775Z"
   },
   {
    "duration": 406,
    "start_time": "2021-12-14T00:29:09.245Z"
   },
   {
    "duration": 9,
    "start_time": "2021-12-14T00:29:23.254Z"
   },
   {
    "duration": 92,
    "start_time": "2021-12-14T00:33:44.447Z"
   },
   {
    "duration": 13,
    "start_time": "2021-12-14T00:33:52.175Z"
   },
   {
    "duration": 14,
    "start_time": "2021-12-14T00:34:07.319Z"
   },
   {
    "duration": 12,
    "start_time": "2021-12-14T00:34:58.522Z"
   },
   {
    "duration": 10,
    "start_time": "2021-12-14T00:35:44.849Z"
   },
   {
    "duration": 9,
    "start_time": "2021-12-14T00:36:06.351Z"
   },
   {
    "duration": 8,
    "start_time": "2021-12-14T00:37:02.736Z"
   },
   {
    "duration": 1491,
    "start_time": "2021-12-14T00:37:11.174Z"
   },
   {
    "duration": 381,
    "start_time": "2021-12-14T00:37:12.668Z"
   },
   {
    "duration": 29,
    "start_time": "2021-12-14T00:37:13.056Z"
   },
   {
    "duration": 309,
    "start_time": "2021-12-14T00:37:13.088Z"
   },
   {
    "duration": 447,
    "start_time": "2021-12-14T00:37:13.400Z"
   },
   {
    "duration": 173,
    "start_time": "2021-12-14T00:37:13.849Z"
   },
   {
    "duration": 31,
    "start_time": "2021-12-14T00:37:14.026Z"
   },
   {
    "duration": 370,
    "start_time": "2021-12-14T00:37:14.060Z"
   },
   {
    "duration": 367,
    "start_time": "2021-12-14T00:37:14.433Z"
   },
   {
    "duration": 2282,
    "start_time": "2021-12-14T00:37:14.803Z"
   },
   {
    "duration": 58,
    "start_time": "2021-12-14T00:37:17.088Z"
   },
   {
    "duration": 430,
    "start_time": "2021-12-14T00:37:17.149Z"
   },
   {
    "duration": 1756,
    "start_time": "2021-12-14T00:37:17.581Z"
   },
   {
    "duration": 13,
    "start_time": "2021-12-14T00:37:19.340Z"
   },
   {
    "duration": 30,
    "start_time": "2021-12-14T00:37:19.356Z"
   },
   {
    "duration": 10681,
    "start_time": "2021-12-14T00:37:19.389Z"
   },
   {
    "duration": 67,
    "start_time": "2021-12-14T00:37:30.074Z"
   },
   {
    "duration": 126,
    "start_time": "2021-12-14T00:37:30.143Z"
   },
   {
    "duration": 13,
    "start_time": "2021-12-14T00:37:30.272Z"
   },
   {
    "duration": 66,
    "start_time": "2021-12-14T00:37:30.288Z"
   },
   {
    "duration": 685,
    "start_time": "2021-12-14T00:37:30.358Z"
   },
   {
    "duration": 7,
    "start_time": "2021-12-14T00:37:31.050Z"
   },
   {
    "duration": 4136,
    "start_time": "2021-12-14T00:37:31.061Z"
   },
   {
    "duration": 23,
    "start_time": "2021-12-14T00:37:35.199Z"
   },
   {
    "duration": 1008,
    "start_time": "2021-12-14T00:37:35.225Z"
   },
   {
    "duration": 26,
    "start_time": "2021-12-14T00:37:36.236Z"
   },
   {
    "duration": 724,
    "start_time": "2021-12-14T00:37:36.265Z"
   },
   {
    "duration": 8,
    "start_time": "2021-12-14T00:37:36.991Z"
   },
   {
    "duration": 423,
    "start_time": "2021-12-14T00:37:37.001Z"
   },
   {
    "duration": -23,
    "start_time": "2021-12-14T00:37:37.449Z"
   },
   {
    "duration": -28,
    "start_time": "2021-12-14T00:37:37.456Z"
   },
   {
    "duration": -31,
    "start_time": "2021-12-14T00:37:37.460Z"
   },
   {
    "duration": 263,
    "start_time": "2021-12-14T00:39:29.788Z"
   },
   {
    "duration": 12,
    "start_time": "2021-12-14T00:39:41.418Z"
   },
   {
    "duration": 10,
    "start_time": "2021-12-14T00:39:45.492Z"
   },
   {
    "duration": 12,
    "start_time": "2021-12-14T00:39:55.427Z"
   },
   {
    "duration": 284,
    "start_time": "2021-12-14T00:40:04.674Z"
   },
   {
    "duration": 690,
    "start_time": "2021-12-14T00:40:08.483Z"
   },
   {
    "duration": 12,
    "start_time": "2021-12-14T00:40:11.467Z"
   },
   {
    "duration": 12,
    "start_time": "2021-12-14T00:40:14.811Z"
   },
   {
    "duration": 1534,
    "start_time": "2021-12-14T00:40:42.137Z"
   },
   {
    "duration": 367,
    "start_time": "2021-12-14T00:40:43.673Z"
   },
   {
    "duration": 32,
    "start_time": "2021-12-14T00:40:44.043Z"
   },
   {
    "duration": 315,
    "start_time": "2021-12-14T00:40:44.078Z"
   },
   {
    "duration": 421,
    "start_time": "2021-12-14T00:40:44.396Z"
   },
   {
    "duration": 175,
    "start_time": "2021-12-14T00:40:44.819Z"
   },
   {
    "duration": 48,
    "start_time": "2021-12-14T00:40:44.996Z"
   },
   {
    "duration": 373,
    "start_time": "2021-12-14T00:40:45.047Z"
   },
   {
    "duration": 363,
    "start_time": "2021-12-14T00:40:45.423Z"
   },
   {
    "duration": 2301,
    "start_time": "2021-12-14T00:40:45.788Z"
   },
   {
    "duration": 59,
    "start_time": "2021-12-14T00:40:48.091Z"
   },
   {
    "duration": 415,
    "start_time": "2021-12-14T00:40:48.152Z"
   },
   {
    "duration": 86,
    "start_time": "2021-12-14T00:40:48.569Z"
   },
   {
    "duration": -26,
    "start_time": "2021-12-14T00:40:48.683Z"
   },
   {
    "duration": -29,
    "start_time": "2021-12-14T00:40:48.688Z"
   },
   {
    "duration": -36,
    "start_time": "2021-12-14T00:40:48.696Z"
   },
   {
    "duration": -40,
    "start_time": "2021-12-14T00:40:48.701Z"
   },
   {
    "duration": -43,
    "start_time": "2021-12-14T00:40:48.705Z"
   },
   {
    "duration": -50,
    "start_time": "2021-12-14T00:40:48.713Z"
   },
   {
    "duration": -68,
    "start_time": "2021-12-14T00:40:48.733Z"
   },
   {
    "duration": -72,
    "start_time": "2021-12-14T00:40:48.738Z"
   },
   {
    "duration": -78,
    "start_time": "2021-12-14T00:40:48.745Z"
   },
   {
    "duration": -82,
    "start_time": "2021-12-14T00:40:48.750Z"
   },
   {
    "duration": -85,
    "start_time": "2021-12-14T00:40:48.755Z"
   },
   {
    "duration": -92,
    "start_time": "2021-12-14T00:40:48.763Z"
   },
   {
    "duration": -95,
    "start_time": "2021-12-14T00:40:48.767Z"
   },
   {
    "duration": -98,
    "start_time": "2021-12-14T00:40:48.771Z"
   },
   {
    "duration": -107,
    "start_time": "2021-12-14T00:40:48.781Z"
   },
   {
    "duration": -109,
    "start_time": "2021-12-14T00:40:48.785Z"
   },
   {
    "duration": -113,
    "start_time": "2021-12-14T00:40:48.790Z"
   },
   {
    "duration": -120,
    "start_time": "2021-12-14T00:40:48.798Z"
   },
   {
    "duration": -123,
    "start_time": "2021-12-14T00:40:48.802Z"
   },
   {
    "duration": -125,
    "start_time": "2021-12-14T00:40:48.806Z"
   },
   {
    "duration": 38379,
    "start_time": "2021-12-14T00:41:20.114Z"
   },
   {
    "duration": 38345,
    "start_time": "2021-12-14T00:42:18.680Z"
   },
   {
    "duration": 13,
    "start_time": "2021-12-14T00:42:57.027Z"
   },
   {
    "duration": 30,
    "start_time": "2021-12-14T00:42:57.043Z"
   },
   {
    "duration": 10146,
    "start_time": "2021-12-14T00:42:57.075Z"
   },
   {
    "duration": 48,
    "start_time": "2021-12-14T00:43:07.223Z"
   },
   {
    "duration": 120,
    "start_time": "2021-12-14T00:43:07.273Z"
   },
   {
    "duration": 22,
    "start_time": "2021-12-14T00:43:07.395Z"
   },
   {
    "duration": 44,
    "start_time": "2021-12-14T00:43:07.421Z"
   },
   {
    "duration": 687,
    "start_time": "2021-12-14T00:43:07.468Z"
   },
   {
    "duration": 7,
    "start_time": "2021-12-14T00:43:08.157Z"
   },
   {
    "duration": 3919,
    "start_time": "2021-12-14T00:43:08.166Z"
   },
   {
    "duration": 12,
    "start_time": "2021-12-14T00:43:12.088Z"
   },
   {
    "duration": 1096,
    "start_time": "2021-12-14T00:43:12.103Z"
   },
   {
    "duration": 32,
    "start_time": "2021-12-14T00:43:13.201Z"
   },
   {
    "duration": 692,
    "start_time": "2021-12-14T00:43:13.235Z"
   },
   {
    "duration": 13,
    "start_time": "2021-12-14T00:43:13.929Z"
   },
   {
    "duration": 9,
    "start_time": "2021-12-14T00:43:13.944Z"
   },
   {
    "duration": 11,
    "start_time": "2021-12-14T00:43:13.955Z"
   },
   {
    "duration": 712,
    "start_time": "2021-12-14T00:43:13.968Z"
   },
   {
    "duration": 12,
    "start_time": "2021-12-14T00:43:14.683Z"
   },
   {
    "duration": 29,
    "start_time": "2021-12-14T00:43:14.698Z"
   },
   {
    "duration": 1510,
    "start_time": "2021-12-14T13:01:34.754Z"
   },
   {
    "duration": 374,
    "start_time": "2021-12-14T13:01:36.446Z"
   },
   {
    "duration": 31,
    "start_time": "2021-12-14T13:01:36.822Z"
   },
   {
    "duration": 298,
    "start_time": "2021-12-14T13:01:36.856Z"
   },
   {
    "duration": 420,
    "start_time": "2021-12-14T13:01:37.157Z"
   },
   {
    "duration": 169,
    "start_time": "2021-12-14T13:01:37.579Z"
   },
   {
    "duration": 30,
    "start_time": "2021-12-14T13:01:37.750Z"
   },
   {
    "duration": 379,
    "start_time": "2021-12-14T13:01:37.782Z"
   },
   {
    "duration": 362,
    "start_time": "2021-12-14T13:01:38.164Z"
   },
   {
    "duration": 2392,
    "start_time": "2021-12-14T13:01:38.529Z"
   },
   {
    "duration": 46,
    "start_time": "2021-12-14T13:01:40.924Z"
   },
   {
    "duration": 439,
    "start_time": "2021-12-14T13:01:40.973Z"
   },
   {
    "duration": 39443,
    "start_time": "2021-12-14T13:01:41.416Z"
   },
   {
    "duration": 14,
    "start_time": "2021-12-14T13:02:20.862Z"
   },
   {
    "duration": 57,
    "start_time": "2021-12-14T13:02:20.879Z"
   },
   {
    "duration": 9495,
    "start_time": "2021-12-14T13:02:20.939Z"
   },
   {
    "duration": 49,
    "start_time": "2021-12-14T13:02:30.437Z"
   },
   {
    "duration": 129,
    "start_time": "2021-12-14T13:02:30.488Z"
   },
   {
    "duration": 12,
    "start_time": "2021-12-14T13:02:30.619Z"
   },
   {
    "duration": 62,
    "start_time": "2021-12-14T13:02:30.633Z"
   },
   {
    "duration": 695,
    "start_time": "2021-12-14T13:02:30.697Z"
   },
   {
    "duration": 6,
    "start_time": "2021-12-14T13:02:31.394Z"
   },
   {
    "duration": 4288,
    "start_time": "2021-12-14T13:02:31.418Z"
   },
   {
    "duration": 13,
    "start_time": "2021-12-14T13:02:35.718Z"
   },
   {
    "duration": 1106,
    "start_time": "2021-12-14T13:02:35.734Z"
   },
   {
    "duration": 25,
    "start_time": "2021-12-14T13:02:36.843Z"
   },
   {
    "duration": 709,
    "start_time": "2021-12-14T13:02:36.871Z"
   },
   {
    "duration": 12,
    "start_time": "2021-12-14T13:02:37.582Z"
   },
   {
    "duration": 22,
    "start_time": "2021-12-14T13:02:37.596Z"
   },
   {
    "duration": 10,
    "start_time": "2021-12-14T13:02:37.620Z"
   },
   {
    "duration": 704,
    "start_time": "2021-12-14T13:02:37.632Z"
   },
   {
    "duration": 12,
    "start_time": "2021-12-14T13:02:38.338Z"
   },
   {
    "duration": 11,
    "start_time": "2021-12-14T13:02:38.352Z"
   },
   {
    "duration": 44,
    "start_time": "2021-12-14T13:07:29.706Z"
   },
   {
    "duration": 259,
    "start_time": "2021-12-14T13:07:58.380Z"
   },
   {
    "duration": 234,
    "start_time": "2021-12-14T13:08:04.599Z"
   },
   {
    "duration": 141,
    "start_time": "2021-12-14T13:08:17.014Z"
   },
   {
    "duration": 287,
    "start_time": "2021-12-14T13:08:35.326Z"
   },
   {
    "duration": 461,
    "start_time": "2021-12-14T13:19:11.070Z"
   },
   {
    "duration": 710,
    "start_time": "2021-12-14T13:20:17.965Z"
   },
   {
    "duration": 8,
    "start_time": "2021-12-14T13:21:21.831Z"
   },
   {
    "duration": 4470,
    "start_time": "2021-12-14T13:24:54.416Z"
   },
   {
    "duration": 991,
    "start_time": "2021-12-14T13:27:23.138Z"
   },
   {
    "duration": 280,
    "start_time": "2021-12-14T13:27:41.414Z"
   },
   {
    "duration": 303,
    "start_time": "2021-12-14T13:28:23.001Z"
   },
   {
    "duration": 754,
    "start_time": "2021-12-14T13:29:09.499Z"
   },
   {
    "duration": 263,
    "start_time": "2021-12-14T13:29:25.546Z"
   },
   {
    "duration": 4237,
    "start_time": "2021-12-14T13:29:32.421Z"
   },
   {
    "duration": 283,
    "start_time": "2021-12-14T13:30:41.963Z"
   },
   {
    "duration": 4098,
    "start_time": "2021-12-14T13:32:44.615Z"
   },
   {
    "duration": 3555,
    "start_time": "2021-12-14T13:33:41.747Z"
   },
   {
    "duration": 3354,
    "start_time": "2021-12-14T13:34:42.226Z"
   },
   {
    "duration": 4367,
    "start_time": "2021-12-14T13:35:47.212Z"
   },
   {
    "duration": 91,
    "start_time": "2021-12-14T13:36:23.479Z"
   },
   {
    "duration": 307,
    "start_time": "2021-12-14T13:36:27.703Z"
   },
   {
    "duration": 3788,
    "start_time": "2021-12-14T13:36:49.680Z"
   },
   {
    "duration": 1247,
    "start_time": "2021-12-14T13:37:16.173Z"
   },
   {
    "duration": 1259,
    "start_time": "2021-12-14T13:38:09.542Z"
   },
   {
    "duration": 1468,
    "start_time": "2021-12-14T13:40:20.087Z"
   },
   {
    "duration": 13,
    "start_time": "2021-12-14T13:57:00.782Z"
   },
   {
    "duration": 1530,
    "start_time": "2021-12-14T14:31:27.112Z"
   },
   {
    "duration": 476,
    "start_time": "2021-12-14T14:31:28.645Z"
   },
   {
    "duration": 30,
    "start_time": "2021-12-14T14:31:29.123Z"
   },
   {
    "duration": 244,
    "start_time": "2021-12-14T14:31:29.156Z"
   },
   {
    "duration": 431,
    "start_time": "2021-12-14T14:31:29.403Z"
   },
   {
    "duration": 139,
    "start_time": "2021-12-14T14:31:29.836Z"
   },
   {
    "duration": 45,
    "start_time": "2021-12-14T14:31:29.977Z"
   },
   {
    "duration": 365,
    "start_time": "2021-12-14T14:31:30.026Z"
   },
   {
    "duration": 317,
    "start_time": "2021-12-14T14:31:30.394Z"
   },
   {
    "duration": 2361,
    "start_time": "2021-12-14T14:31:30.716Z"
   },
   {
    "duration": 69,
    "start_time": "2021-12-14T14:31:33.079Z"
   },
   {
    "duration": 431,
    "start_time": "2021-12-14T14:31:33.151Z"
   },
   {
    "duration": 37827,
    "start_time": "2021-12-14T14:31:33.585Z"
   },
   {
    "duration": 13850,
    "start_time": "2021-12-14T14:32:11.417Z"
   },
   {
    "duration": 62,
    "start_time": "2021-12-14T14:32:25.269Z"
   },
   {
    "duration": 124,
    "start_time": "2021-12-14T14:32:25.333Z"
   },
   {
    "duration": 10,
    "start_time": "2021-12-14T14:32:25.459Z"
   },
   {
    "duration": 58,
    "start_time": "2021-12-14T14:32:25.471Z"
   },
   {
    "duration": 694,
    "start_time": "2021-12-14T14:32:25.531Z"
   },
   {
    "duration": 9,
    "start_time": "2021-12-14T14:32:26.227Z"
   },
   {
    "duration": 1246,
    "start_time": "2021-12-14T14:32:26.238Z"
   },
   {
    "duration": 13,
    "start_time": "2021-12-14T14:32:27.487Z"
   },
   {
    "duration": 1206,
    "start_time": "2021-12-14T14:32:27.518Z"
   },
   {
    "duration": 23,
    "start_time": "2021-12-14T14:32:28.727Z"
   },
   {
    "duration": 718,
    "start_time": "2021-12-14T14:32:28.753Z"
   },
   {
    "duration": 394,
    "start_time": "2021-12-14T14:32:29.474Z"
   },
   {
    "duration": -870,
    "start_time": "2021-12-14T14:32:30.742Z"
   },
   {
    "duration": -874,
    "start_time": "2021-12-14T14:32:30.748Z"
   },
   {
    "duration": -1079,
    "start_time": "2021-12-14T14:32:30.955Z"
   },
   {
    "duration": 256,
    "start_time": "2021-12-14T14:33:45.723Z"
   },
   {
    "duration": 13,
    "start_time": "2021-12-14T14:34:33.100Z"
   },
   {
    "duration": 14,
    "start_time": "2021-12-14T14:35:04.677Z"
   },
   {
    "duration": 683,
    "start_time": "2021-12-14T14:35:05.449Z"
   },
   {
    "duration": 12,
    "start_time": "2021-12-14T14:35:06.135Z"
   },
   {
    "duration": 19,
    "start_time": "2021-12-14T14:35:06.150Z"
   },
   {
    "duration": 1474,
    "start_time": "2021-12-14T14:35:45.756Z"
   },
   {
    "duration": 371,
    "start_time": "2021-12-14T14:35:47.234Z"
   },
   {
    "duration": 31,
    "start_time": "2021-12-14T14:35:47.607Z"
   },
   {
    "duration": 240,
    "start_time": "2021-12-14T14:35:47.640Z"
   },
   {
    "duration": 435,
    "start_time": "2021-12-14T14:35:47.882Z"
   },
   {
    "duration": 136,
    "start_time": "2021-12-14T14:35:48.319Z"
   },
   {
    "duration": 31,
    "start_time": "2021-12-14T14:35:48.457Z"
   },
   {
    "duration": 380,
    "start_time": "2021-12-14T14:35:48.491Z"
   },
   {
    "duration": 306,
    "start_time": "2021-12-14T14:35:48.874Z"
   },
   {
    "duration": 2561,
    "start_time": "2021-12-14T14:35:49.183Z"
   },
   {
    "duration": 50,
    "start_time": "2021-12-14T14:35:51.747Z"
   },
   {
    "duration": 430,
    "start_time": "2021-12-14T14:35:51.799Z"
   },
   {
    "duration": 38911,
    "start_time": "2021-12-14T14:35:52.232Z"
   },
   {
    "duration": 9066,
    "start_time": "2021-12-14T14:36:31.145Z"
   },
   {
    "duration": 48,
    "start_time": "2021-12-14T14:36:40.217Z"
   },
   {
    "duration": 127,
    "start_time": "2021-12-14T14:36:40.268Z"
   },
   {
    "duration": 20,
    "start_time": "2021-12-14T14:36:40.398Z"
   },
   {
    "duration": 43,
    "start_time": "2021-12-14T14:36:40.420Z"
   },
   {
    "duration": 703,
    "start_time": "2021-12-14T14:36:40.465Z"
   },
   {
    "duration": 8,
    "start_time": "2021-12-14T14:36:41.170Z"
   },
   {
    "duration": 1248,
    "start_time": "2021-12-14T14:36:41.181Z"
   },
   {
    "duration": 13,
    "start_time": "2021-12-14T14:36:42.432Z"
   },
   {
    "duration": 1131,
    "start_time": "2021-12-14T14:36:42.449Z"
   },
   {
    "duration": 38,
    "start_time": "2021-12-14T14:36:43.583Z"
   },
   {
    "duration": 696,
    "start_time": "2021-12-14T14:36:43.624Z"
   },
   {
    "duration": 13,
    "start_time": "2021-12-14T14:36:44.322Z"
   },
   {
    "duration": 704,
    "start_time": "2021-12-14T14:36:44.338Z"
   },
   {
    "duration": 12,
    "start_time": "2021-12-14T14:36:45.045Z"
   },
   {
    "duration": 10,
    "start_time": "2021-12-14T14:36:45.059Z"
   },
   {
    "duration": 1399,
    "start_time": "2021-12-14T20:06:41.001Z"
   },
   {
    "duration": 230,
    "start_time": "2021-12-14T20:06:42.402Z"
   },
   {
    "duration": 43,
    "start_time": "2021-12-14T20:06:42.634Z"
   },
   {
    "duration": 252,
    "start_time": "2021-12-14T20:06:42.679Z"
   },
   {
    "duration": 278,
    "start_time": "2021-12-14T20:06:42.933Z"
   },
   {
    "duration": 389,
    "start_time": "2021-12-14T20:06:43.213Z"
   },
   {
    "duration": 24,
    "start_time": "2021-12-14T20:06:43.604Z"
   },
   {
    "duration": 223,
    "start_time": "2021-12-14T20:06:43.644Z"
   },
   {
    "duration": 448,
    "start_time": "2021-12-14T20:06:43.869Z"
   },
   {
    "duration": 1434,
    "start_time": "2021-12-14T20:06:44.318Z"
   },
   {
    "duration": 35,
    "start_time": "2021-12-14T20:06:45.754Z"
   },
   {
    "duration": 260,
    "start_time": "2021-12-14T20:06:45.791Z"
   },
   {
    "duration": 28086,
    "start_time": "2021-12-14T20:06:46.053Z"
   },
   {
    "duration": 8012,
    "start_time": "2021-12-14T20:07:14.144Z"
   },
   {
    "duration": 37,
    "start_time": "2021-12-14T20:07:22.158Z"
   },
   {
    "duration": 83,
    "start_time": "2021-12-14T20:07:22.197Z"
   },
   {
    "duration": 7,
    "start_time": "2021-12-14T20:07:22.282Z"
   },
   {
    "duration": 28,
    "start_time": "2021-12-14T20:07:22.291Z"
   },
   {
    "duration": 395,
    "start_time": "2021-12-14T20:07:22.320Z"
   },
   {
    "duration": 6,
    "start_time": "2021-12-14T20:07:22.716Z"
   },
   {
    "duration": 774,
    "start_time": "2021-12-14T20:07:22.724Z"
   },
   {
    "duration": 12,
    "start_time": "2021-12-14T20:07:23.500Z"
   },
   {
    "duration": 718,
    "start_time": "2021-12-14T20:07:23.515Z"
   },
   {
    "duration": 17,
    "start_time": "2021-12-14T20:07:24.244Z"
   },
   {
    "duration": 439,
    "start_time": "2021-12-14T20:07:24.263Z"
   },
   {
    "duration": 23,
    "start_time": "2021-12-14T20:07:24.704Z"
   },
   {
    "duration": 452,
    "start_time": "2021-12-14T20:07:24.729Z"
   },
   {
    "duration": 9,
    "start_time": "2021-12-14T20:07:25.183Z"
   },
   {
    "duration": 19,
    "start_time": "2021-12-14T20:07:25.194Z"
   },
   {
    "duration": 7830,
    "start_time": "2021-12-14T20:10:45.478Z"
   },
   {
    "duration": 38,
    "start_time": "2021-12-14T20:53:39.073Z"
   },
   {
    "duration": 225,
    "start_time": "2021-12-14T20:53:39.955Z"
   },
   {
    "duration": 24,
    "start_time": "2021-12-14T20:53:40.182Z"
   },
   {
    "duration": 170,
    "start_time": "2021-12-14T20:53:40.209Z"
   },
   {
    "duration": 253,
    "start_time": "2021-12-14T20:53:40.380Z"
   },
   {
    "duration": 103,
    "start_time": "2021-12-14T20:53:40.635Z"
   },
   {
    "duration": 23,
    "start_time": "2021-12-14T20:53:40.744Z"
   },
   {
    "duration": 217,
    "start_time": "2021-12-14T20:53:40.769Z"
   },
   {
    "duration": 191,
    "start_time": "2021-12-14T20:53:40.988Z"
   },
   {
    "duration": 1328,
    "start_time": "2021-12-14T20:53:41.182Z"
   },
   {
    "duration": 41,
    "start_time": "2021-12-14T20:53:42.512Z"
   },
   {
    "duration": 254,
    "start_time": "2021-12-14T20:53:42.555Z"
   },
   {
    "duration": 28945,
    "start_time": "2021-12-14T20:53:42.810Z"
   },
   {
    "duration": 7417,
    "start_time": "2021-12-14T20:54:11.757Z"
   },
   {
    "duration": 34,
    "start_time": "2021-12-14T20:54:19.176Z"
   },
   {
    "duration": 82,
    "start_time": "2021-12-14T20:54:19.212Z"
   },
   {
    "duration": 7,
    "start_time": "2021-12-14T20:54:19.296Z"
   },
   {
    "duration": 42,
    "start_time": "2021-12-14T20:54:19.305Z"
   },
   {
    "duration": 406,
    "start_time": "2021-12-14T20:54:19.349Z"
   },
   {
    "duration": 6,
    "start_time": "2021-12-14T20:54:19.757Z"
   },
   {
    "duration": 786,
    "start_time": "2021-12-14T20:54:19.765Z"
   },
   {
    "duration": 9,
    "start_time": "2021-12-14T20:54:20.554Z"
   },
   {
    "duration": 736,
    "start_time": "2021-12-14T20:54:20.565Z"
   },
   {
    "duration": 15,
    "start_time": "2021-12-14T20:54:21.303Z"
   },
   {
    "duration": 447,
    "start_time": "2021-12-14T20:54:21.319Z"
   },
   {
    "duration": 10,
    "start_time": "2021-12-14T20:54:21.767Z"
   },
   {
    "duration": 552,
    "start_time": "2021-12-14T20:54:21.778Z"
   },
   {
    "duration": 16,
    "start_time": "2021-12-14T20:54:22.333Z"
   },
   {
    "duration": 8,
    "start_time": "2021-12-14T20:54:22.350Z"
   },
   {
    "duration": 2230,
    "start_time": "2021-12-14T20:56:35.298Z"
   },
   {
    "duration": 1275,
    "start_time": "2021-12-14T20:59:22.421Z"
   },
   {
    "duration": 225,
    "start_time": "2021-12-14T20:59:23.698Z"
   },
   {
    "duration": 24,
    "start_time": "2021-12-14T20:59:23.925Z"
   },
   {
    "duration": 183,
    "start_time": "2021-12-14T20:59:23.952Z"
   },
   {
    "duration": 282,
    "start_time": "2021-12-14T20:59:24.137Z"
   },
   {
    "duration": 112,
    "start_time": "2021-12-14T20:59:24.421Z"
   },
   {
    "duration": 36,
    "start_time": "2021-12-14T20:59:24.535Z"
   },
   {
    "duration": 314,
    "start_time": "2021-12-14T20:59:24.573Z"
   },
   {
    "duration": 221,
    "start_time": "2021-12-14T20:59:24.889Z"
   },
   {
    "duration": 1644,
    "start_time": "2021-12-14T20:59:25.113Z"
   },
   {
    "duration": 37,
    "start_time": "2021-12-14T20:59:26.759Z"
   },
   {
    "duration": 296,
    "start_time": "2021-12-14T20:59:26.797Z"
   },
   {
    "duration": 2257,
    "start_time": "2021-12-14T20:59:27.096Z"
   },
   {
    "duration": 7188,
    "start_time": "2021-12-14T20:59:29.356Z"
   },
   {
    "duration": 35,
    "start_time": "2021-12-14T20:59:36.546Z"
   },
   {
    "duration": 87,
    "start_time": "2021-12-14T20:59:36.583Z"
   },
   {
    "duration": 12,
    "start_time": "2021-12-14T20:59:36.673Z"
   },
   {
    "duration": 64,
    "start_time": "2021-12-14T20:59:36.688Z"
   },
   {
    "duration": 409,
    "start_time": "2021-12-14T20:59:36.755Z"
   },
   {
    "duration": 7,
    "start_time": "2021-12-14T20:59:37.165Z"
   },
   {
    "duration": 803,
    "start_time": "2021-12-14T20:59:37.174Z"
   },
   {
    "duration": 9,
    "start_time": "2021-12-14T20:59:37.979Z"
   },
   {
    "duration": 1163,
    "start_time": "2021-12-14T20:59:37.990Z"
   },
   {
    "duration": 17,
    "start_time": "2021-12-14T20:59:39.156Z"
   },
   {
    "duration": 632,
    "start_time": "2021-12-14T20:59:39.175Z"
   },
   {
    "duration": 13,
    "start_time": "2021-12-14T20:59:39.809Z"
   },
   {
    "duration": 637,
    "start_time": "2021-12-14T20:59:39.826Z"
   },
   {
    "duration": 14,
    "start_time": "2021-12-14T20:59:40.465Z"
   },
   {
    "duration": 16,
    "start_time": "2021-12-14T20:59:40.481Z"
   },
   {
    "duration": 39,
    "start_time": "2021-12-14T21:00:57.474Z"
   },
   {
    "duration": 233,
    "start_time": "2021-12-14T21:00:57.515Z"
   },
   {
    "duration": 25,
    "start_time": "2021-12-14T21:00:57.750Z"
   },
   {
    "duration": 176,
    "start_time": "2021-12-14T21:00:57.778Z"
   },
   {
    "duration": 272,
    "start_time": "2021-12-14T21:00:57.956Z"
   },
   {
    "duration": 119,
    "start_time": "2021-12-14T21:00:58.230Z"
   },
   {
    "duration": 23,
    "start_time": "2021-12-14T21:00:58.350Z"
   },
   {
    "duration": 243,
    "start_time": "2021-12-14T21:00:58.375Z"
   },
   {
    "duration": 205,
    "start_time": "2021-12-14T21:00:58.621Z"
   },
   {
    "duration": 1374,
    "start_time": "2021-12-14T21:00:58.829Z"
   },
   {
    "duration": 44,
    "start_time": "2021-12-14T21:01:00.205Z"
   },
   {
    "duration": 271,
    "start_time": "2021-12-14T21:01:00.252Z"
   },
   {
    "duration": 2366,
    "start_time": "2021-12-14T21:01:00.525Z"
   },
   {
    "duration": 5975,
    "start_time": "2021-12-14T21:01:02.893Z"
   },
   {
    "duration": 33,
    "start_time": "2021-12-14T21:01:08.870Z"
   },
   {
    "duration": 85,
    "start_time": "2021-12-14T21:01:08.904Z"
   },
   {
    "duration": 8,
    "start_time": "2021-12-14T21:01:08.991Z"
   },
   {
    "duration": 52,
    "start_time": "2021-12-14T21:01:09.000Z"
   },
   {
    "duration": 432,
    "start_time": "2021-12-14T21:01:09.054Z"
   },
   {
    "duration": 7,
    "start_time": "2021-12-14T21:01:09.488Z"
   },
   {
    "duration": 816,
    "start_time": "2021-12-14T21:01:09.497Z"
   },
   {
    "duration": 10,
    "start_time": "2021-12-14T21:01:10.314Z"
   },
   {
    "duration": 727,
    "start_time": "2021-12-14T21:01:10.326Z"
   },
   {
    "duration": 15,
    "start_time": "2021-12-14T21:01:11.055Z"
   },
   {
    "duration": 440,
    "start_time": "2021-12-14T21:01:11.073Z"
   },
   {
    "duration": 10,
    "start_time": "2021-12-14T21:01:11.515Z"
   },
   {
    "duration": 425,
    "start_time": "2021-12-14T21:01:11.526Z"
   },
   {
    "duration": 8,
    "start_time": "2021-12-14T21:01:11.953Z"
   },
   {
    "duration": 11,
    "start_time": "2021-12-14T21:01:11.963Z"
   },
   {
    "duration": 2194,
    "start_time": "2021-12-14T21:06:52.623Z"
   },
   {
    "duration": 426,
    "start_time": "2021-12-14T21:07:41.841Z"
   },
   {
    "duration": 8,
    "start_time": "2021-12-14T21:07:48.848Z"
   },
   {
    "duration": 9,
    "start_time": "2021-12-14T21:08:49.183Z"
   },
   {
    "duration": 612,
    "start_time": "2021-12-14T21:09:26.116Z"
   },
   {
    "duration": 92,
    "start_time": "2021-12-14T21:11:05.784Z"
   },
   {
    "duration": 463,
    "start_time": "2021-12-14T21:11:10.344Z"
   },
   {
    "duration": 927,
    "start_time": "2021-12-14T21:12:40.477Z"
   },
   {
    "duration": 547,
    "start_time": "2021-12-14T21:12:56.527Z"
   },
   {
    "duration": 800,
    "start_time": "2021-12-14T21:13:12.665Z"
   },
   {
    "duration": 11,
    "start_time": "2021-12-14T21:18:30.563Z"
   },
   {
    "duration": 8,
    "start_time": "2021-12-14T21:21:07.317Z"
   },
   {
    "duration": 1222,
    "start_time": "2021-12-14T21:23:15.324Z"
   },
   {
    "duration": 563,
    "start_time": "2021-12-14T21:23:16.548Z"
   },
   {
    "duration": 154,
    "start_time": "2021-12-14T21:23:16.960Z"
   },
   {
    "duration": 127,
    "start_time": "2021-12-14T21:23:16.988Z"
   },
   {
    "duration": 101,
    "start_time": "2021-12-14T21:23:17.015Z"
   },
   {
    "duration": 93,
    "start_time": "2021-12-14T21:23:17.024Z"
   },
   {
    "duration": 49,
    "start_time": "2021-12-14T21:23:17.069Z"
   },
   {
    "duration": 27,
    "start_time": "2021-12-14T21:23:17.092Z"
   },
   {
    "duration": 18,
    "start_time": "2021-12-14T21:23:17.102Z"
   },
   {
    "duration": -1,
    "start_time": "2021-12-14T21:23:17.122Z"
   },
   {
    "duration": -17,
    "start_time": "2021-12-14T21:23:17.139Z"
   },
   {
    "duration": -38,
    "start_time": "2021-12-14T21:23:17.161Z"
   },
   {
    "duration": -67,
    "start_time": "2021-12-14T21:23:17.191Z"
   },
   {
    "duration": -84,
    "start_time": "2021-12-14T21:23:17.209Z"
   },
   {
    "duration": -100,
    "start_time": "2021-12-14T21:23:17.226Z"
   },
   {
    "duration": -95,
    "start_time": "2021-12-14T21:23:17.240Z"
   },
   {
    "duration": -109,
    "start_time": "2021-12-14T21:23:17.256Z"
   },
   {
    "duration": -123,
    "start_time": "2021-12-14T21:23:17.271Z"
   },
   {
    "duration": -139,
    "start_time": "2021-12-14T21:23:17.288Z"
   },
   {
    "duration": -156,
    "start_time": "2021-12-14T21:23:17.306Z"
   },
   {
    "duration": -170,
    "start_time": "2021-12-14T21:23:17.321Z"
   },
   {
    "duration": -185,
    "start_time": "2021-12-14T21:23:17.337Z"
   },
   {
    "duration": -200,
    "start_time": "2021-12-14T21:23:17.353Z"
   },
   {
    "duration": -215,
    "start_time": "2021-12-14T21:23:17.369Z"
   },
   {
    "duration": -223,
    "start_time": "2021-12-14T21:23:17.378Z"
   },
   {
    "duration": -236,
    "start_time": "2021-12-14T21:23:17.392Z"
   },
   {
    "duration": -250,
    "start_time": "2021-12-14T21:23:17.407Z"
   },
   {
    "duration": -266,
    "start_time": "2021-12-14T21:23:17.424Z"
   },
   {
    "duration": -278,
    "start_time": "2021-12-14T21:23:17.437Z"
   },
   {
    "duration": 1126,
    "start_time": "2021-12-14T21:24:05.483Z"
   },
   {
    "duration": 562,
    "start_time": "2021-12-14T21:24:06.611Z"
   },
   {
    "duration": 483,
    "start_time": "2021-12-14T21:24:06.692Z"
   },
   {
    "duration": 478,
    "start_time": "2021-12-14T21:24:06.698Z"
   },
   {
    "duration": 465,
    "start_time": "2021-12-14T21:24:06.712Z"
   },
   {
    "duration": 460,
    "start_time": "2021-12-14T21:24:06.718Z"
   },
   {
    "duration": 446,
    "start_time": "2021-12-14T21:24:06.732Z"
   },
   {
    "duration": 433,
    "start_time": "2021-12-14T21:24:06.746Z"
   },
   {
    "duration": 346,
    "start_time": "2021-12-14T21:24:06.834Z"
   },
   {
    "duration": 334,
    "start_time": "2021-12-14T21:24:06.847Z"
   },
   {
    "duration": 329,
    "start_time": "2021-12-14T21:24:06.853Z"
   },
   {
    "duration": 316,
    "start_time": "2021-12-14T21:24:06.867Z"
   },
   {
    "duration": 304,
    "start_time": "2021-12-14T21:24:06.880Z"
   },
   {
    "duration": 290,
    "start_time": "2021-12-14T21:24:06.895Z"
   },
   {
    "duration": 285,
    "start_time": "2021-12-14T21:24:06.901Z"
   },
   {
    "duration": 271,
    "start_time": "2021-12-14T21:24:06.915Z"
   },
   {
    "duration": 258,
    "start_time": "2021-12-14T21:24:06.929Z"
   },
   {
    "duration": 252,
    "start_time": "2021-12-14T21:24:06.936Z"
   },
   {
    "duration": 240,
    "start_time": "2021-12-14T21:24:06.949Z"
   },
   {
    "duration": 224,
    "start_time": "2021-12-14T21:24:06.966Z"
   },
   {
    "duration": 207,
    "start_time": "2021-12-14T21:24:06.984Z"
   },
   {
    "duration": 187,
    "start_time": "2021-12-14T21:24:07.005Z"
   },
   {
    "duration": 162,
    "start_time": "2021-12-14T21:24:07.031Z"
   },
   {
    "duration": 145,
    "start_time": "2021-12-14T21:24:07.048Z"
   },
   {
    "duration": 129,
    "start_time": "2021-12-14T21:24:07.065Z"
   },
   {
    "duration": 114,
    "start_time": "2021-12-14T21:24:07.081Z"
   },
   {
    "duration": 98,
    "start_time": "2021-12-14T21:24:07.098Z"
   },
   {
    "duration": 91,
    "start_time": "2021-12-14T21:24:07.106Z"
   },
   {
    "duration": 70,
    "start_time": "2021-12-14T21:24:07.128Z"
   },
   {
    "duration": 1251,
    "start_time": "2021-12-14T21:25:06.852Z"
   },
   {
    "duration": 226,
    "start_time": "2021-12-14T21:25:08.105Z"
   },
   {
    "duration": 34,
    "start_time": "2021-12-14T21:25:08.334Z"
   },
   {
    "duration": 256,
    "start_time": "2021-12-14T21:25:08.370Z"
   },
   {
    "duration": 262,
    "start_time": "2021-12-14T21:25:08.628Z"
   },
   {
    "duration": 100,
    "start_time": "2021-12-14T21:25:08.892Z"
   },
   {
    "duration": 22,
    "start_time": "2021-12-14T21:25:08.994Z"
   },
   {
    "duration": 232,
    "start_time": "2021-12-14T21:25:09.019Z"
   },
   {
    "duration": 199,
    "start_time": "2021-12-14T21:25:09.253Z"
   },
   {
    "duration": 1336,
    "start_time": "2021-12-14T21:25:09.453Z"
   },
   {
    "duration": 38,
    "start_time": "2021-12-14T21:25:10.791Z"
   },
   {
    "duration": 274,
    "start_time": "2021-12-14T21:25:10.832Z"
   },
   {
    "duration": 2187,
    "start_time": "2021-12-14T21:25:11.108Z"
   },
   {
    "duration": 7778,
    "start_time": "2021-12-14T21:25:13.297Z"
   },
   {
    "duration": 34,
    "start_time": "2021-12-14T21:25:21.077Z"
   },
   {
    "duration": 83,
    "start_time": "2021-12-14T21:25:21.112Z"
   },
   {
    "duration": 7,
    "start_time": "2021-12-14T21:25:21.197Z"
   },
   {
    "duration": 51,
    "start_time": "2021-12-14T21:25:21.206Z"
   },
   {
    "duration": 401,
    "start_time": "2021-12-14T21:25:21.259Z"
   },
   {
    "duration": 6,
    "start_time": "2021-12-14T21:25:21.662Z"
   },
   {
    "duration": 800,
    "start_time": "2021-12-14T21:25:21.669Z"
   },
   {
    "duration": 119,
    "start_time": "2021-12-14T21:25:22.472Z"
   },
   {
    "duration": 722,
    "start_time": "2021-12-14T21:25:22.594Z"
   },
   {
    "duration": 32,
    "start_time": "2021-12-14T21:25:23.317Z"
   },
   {
    "duration": 424,
    "start_time": "2021-12-14T21:25:23.350Z"
   },
   {
    "duration": 10,
    "start_time": "2021-12-14T21:25:23.775Z"
   },
   {
    "duration": 423,
    "start_time": "2021-12-14T21:25:23.786Z"
   },
   {
    "duration": 9,
    "start_time": "2021-12-14T21:25:24.210Z"
   },
   {
    "duration": 8,
    "start_time": "2021-12-14T21:25:24.220Z"
   },
   {
    "duration": 1525,
    "start_time": "2021-12-15T16:18:38.271Z"
   },
   {
    "duration": 372,
    "start_time": "2021-12-15T16:18:39.799Z"
   },
   {
    "duration": 29,
    "start_time": "2021-12-15T16:18:40.175Z"
   },
   {
    "duration": 237,
    "start_time": "2021-12-15T16:18:40.208Z"
   },
   {
    "duration": 439,
    "start_time": "2021-12-15T16:18:40.447Z"
   },
   {
    "duration": 137,
    "start_time": "2021-12-15T16:18:40.889Z"
   },
   {
    "duration": 32,
    "start_time": "2021-12-15T16:18:41.028Z"
   },
   {
    "duration": 386,
    "start_time": "2021-12-15T16:18:41.064Z"
   },
   {
    "duration": 300,
    "start_time": "2021-12-15T16:18:41.453Z"
   },
   {
    "duration": 2371,
    "start_time": "2021-12-15T16:18:41.755Z"
   },
   {
    "duration": 46,
    "start_time": "2021-12-15T16:18:44.129Z"
   },
   {
    "duration": 442,
    "start_time": "2021-12-15T16:18:44.178Z"
   },
   {
    "duration": 3329,
    "start_time": "2021-12-15T16:18:44.622Z"
   },
   {
    "duration": 9651,
    "start_time": "2021-12-15T16:18:47.953Z"
   },
   {
    "duration": 57,
    "start_time": "2021-12-15T16:18:57.607Z"
   },
   {
    "duration": 114,
    "start_time": "2021-12-15T16:18:57.666Z"
   },
   {
    "duration": 12,
    "start_time": "2021-12-15T16:18:57.783Z"
   },
   {
    "duration": 61,
    "start_time": "2021-12-15T16:18:57.797Z"
   },
   {
    "duration": 732,
    "start_time": "2021-12-15T16:18:57.861Z"
   },
   {
    "duration": 25,
    "start_time": "2021-12-15T16:18:58.595Z"
   },
   {
    "duration": 1283,
    "start_time": "2021-12-15T16:18:58.623Z"
   },
   {
    "duration": 117,
    "start_time": "2021-12-15T16:18:59.909Z"
   },
   {
    "duration": 1027,
    "start_time": "2021-12-15T16:19:00.031Z"
   },
   {
    "duration": 23,
    "start_time": "2021-12-15T16:19:01.061Z"
   },
   {
    "duration": 745,
    "start_time": "2021-12-15T16:19:01.086Z"
   },
   {
    "duration": 120,
    "start_time": "2021-12-15T16:19:01.833Z"
   },
   {
    "duration": -71,
    "start_time": "2021-12-15T16:19:02.027Z"
   },
   {
    "duration": -77,
    "start_time": "2021-12-15T16:19:02.034Z"
   },
   {
    "duration": -79,
    "start_time": "2021-12-15T16:19:02.038Z"
   },
   {
    "duration": 688,
    "start_time": "2021-12-15T16:20:47.996Z"
   },
   {
    "duration": 13,
    "start_time": "2021-12-15T16:20:49.722Z"
   },
   {
    "duration": 13,
    "start_time": "2021-12-15T16:20:49.978Z"
   },
   {
    "duration": 33,
    "start_time": "2021-12-15T16:24:30.167Z"
   },
   {
    "duration": 25,
    "start_time": "2021-12-15T16:25:34.060Z"
   },
   {
    "duration": 1140,
    "start_time": "2021-12-15T17:24:55.214Z"
   },
   {
    "duration": 193,
    "start_time": "2021-12-15T17:24:56.356Z"
   },
   {
    "duration": 23,
    "start_time": "2021-12-15T17:24:56.551Z"
   },
   {
    "duration": 152,
    "start_time": "2021-12-15T17:24:56.575Z"
   },
   {
    "duration": 229,
    "start_time": "2021-12-15T17:24:56.728Z"
   },
   {
    "duration": 91,
    "start_time": "2021-12-15T17:24:56.958Z"
   },
   {
    "duration": 20,
    "start_time": "2021-12-15T17:24:57.051Z"
   },
   {
    "duration": 206,
    "start_time": "2021-12-15T17:24:57.073Z"
   },
   {
    "duration": 171,
    "start_time": "2021-12-15T17:24:57.281Z"
   },
   {
    "duration": 1316,
    "start_time": "2021-12-15T17:24:57.454Z"
   },
   {
    "duration": 39,
    "start_time": "2021-12-15T17:24:58.772Z"
   },
   {
    "duration": 253,
    "start_time": "2021-12-15T17:24:58.812Z"
   },
   {
    "duration": 2025,
    "start_time": "2021-12-15T17:24:59.067Z"
   },
   {
    "duration": 5487,
    "start_time": "2021-12-15T17:25:01.094Z"
   },
   {
    "duration": 34,
    "start_time": "2021-12-15T17:25:06.587Z"
   },
   {
    "duration": 73,
    "start_time": "2021-12-15T17:25:06.622Z"
   },
   {
    "duration": 6,
    "start_time": "2021-12-15T17:25:06.697Z"
   },
   {
    "duration": 18,
    "start_time": "2021-12-15T17:25:10.428Z"
   },
   {
    "duration": 377,
    "start_time": "2021-12-15T17:25:28.395Z"
   },
   {
    "duration": 12,
    "start_time": "2021-12-15T17:26:08.158Z"
   },
   {
    "duration": 300,
    "start_time": "2021-12-15T17:26:11.178Z"
   },
   {
    "duration": 11,
    "start_time": "2021-12-15T17:26:21.812Z"
   },
   {
    "duration": 242,
    "start_time": "2021-12-15T17:27:23.487Z"
   },
   {
    "duration": 735,
    "start_time": "2021-12-15T17:27:32.918Z"
   },
   {
    "duration": 275,
    "start_time": "2021-12-15T17:27:39.557Z"
   },
   {
    "duration": 13,
    "start_time": "2021-12-15T17:27:49.035Z"
   },
   {
    "duration": 16,
    "start_time": "2021-12-15T17:28:10.277Z"
   },
   {
    "duration": 86,
    "start_time": "2021-12-15T17:29:17.859Z"
   },
   {
    "duration": -34,
    "start_time": "2021-12-15T17:29:26.541Z"
   },
   {
    "duration": 17,
    "start_time": "2021-12-15T17:29:29.985Z"
   },
   {
    "duration": 13,
    "start_time": "2021-12-15T17:30:18.546Z"
   },
   {
    "duration": 20,
    "start_time": "2021-12-15T17:30:54.595Z"
   },
   {
    "duration": 25,
    "start_time": "2021-12-15T17:31:19.164Z"
   },
   {
    "duration": 38,
    "start_time": "2021-12-15T17:31:49.941Z"
   },
   {
    "duration": 48,
    "start_time": "2021-12-15T17:32:11.828Z"
   },
   {
    "duration": 18,
    "start_time": "2021-12-15T17:34:16.239Z"
   },
   {
    "duration": 4,
    "start_time": "2021-12-15T17:40:04.760Z"
   },
   {
    "duration": 11,
    "start_time": "2021-12-15T17:41:35.372Z"
   },
   {
    "duration": 7,
    "start_time": "2021-12-15T17:41:52.977Z"
   },
   {
    "duration": 7076,
    "start_time": "2021-12-15T17:41:56.868Z"
   },
   {
    "duration": 8,
    "start_time": "2021-12-15T17:42:17.101Z"
   },
   {
    "duration": 245,
    "start_time": "2021-12-15T17:45:48.014Z"
   },
   {
    "duration": 247,
    "start_time": "2021-12-15T17:46:27.156Z"
   },
   {
    "duration": 5834,
    "start_time": "2021-12-15T17:47:08.701Z"
   },
   {
    "duration": 7042,
    "start_time": "2021-12-15T17:47:24.173Z"
   },
   {
    "duration": 6804,
    "start_time": "2021-12-15T17:48:48.446Z"
   },
   {
    "duration": 7284,
    "start_time": "2021-12-15T17:49:23.526Z"
   },
   {
    "duration": 7,
    "start_time": "2021-12-15T17:49:47.191Z"
   },
   {
    "duration": 12,
    "start_time": "2021-12-15T17:50:28.204Z"
   },
   {
    "duration": 12,
    "start_time": "2021-12-15T17:50:42.943Z"
   },
   {
    "duration": 11,
    "start_time": "2021-12-15T17:50:46.901Z"
   },
   {
    "duration": 10,
    "start_time": "2021-12-15T17:51:06.326Z"
   },
   {
    "duration": 11,
    "start_time": "2021-12-15T17:51:15.870Z"
   },
   {
    "duration": 6544,
    "start_time": "2021-12-15T17:51:25.861Z"
   },
   {
    "duration": 5935,
    "start_time": "2021-12-15T17:52:14.975Z"
   },
   {
    "duration": 5,
    "start_time": "2021-12-15T17:52:24.751Z"
   },
   {
    "duration": 114,
    "start_time": "2021-12-15T17:52:42.789Z"
   },
   {
    "duration": 1133,
    "start_time": "2021-12-15T17:55:18.499Z"
   },
   {
    "duration": 195,
    "start_time": "2021-12-15T17:55:19.634Z"
   },
   {
    "duration": 24,
    "start_time": "2021-12-15T17:55:19.831Z"
   },
   {
    "duration": 160,
    "start_time": "2021-12-15T17:55:19.857Z"
   },
   {
    "duration": 237,
    "start_time": "2021-12-15T17:55:20.019Z"
   },
   {
    "duration": 90,
    "start_time": "2021-12-15T17:55:20.258Z"
   },
   {
    "duration": 20,
    "start_time": "2021-12-15T17:55:20.350Z"
   },
   {
    "duration": 214,
    "start_time": "2021-12-15T17:55:20.373Z"
   },
   {
    "duration": 181,
    "start_time": "2021-12-15T17:55:20.589Z"
   },
   {
    "duration": 1243,
    "start_time": "2021-12-15T17:55:20.771Z"
   },
   {
    "duration": 32,
    "start_time": "2021-12-15T17:55:22.015Z"
   },
   {
    "duration": 239,
    "start_time": "2021-12-15T17:55:22.049Z"
   },
   {
    "duration": 1944,
    "start_time": "2021-12-15T17:55:22.290Z"
   },
   {
    "duration": 5786,
    "start_time": "2021-12-15T17:55:24.235Z"
   },
   {
    "duration": 34,
    "start_time": "2021-12-15T17:55:30.023Z"
   },
   {
    "duration": 63,
    "start_time": "2021-12-15T17:55:30.087Z"
   },
   {
    "duration": 9,
    "start_time": "2021-12-15T17:55:30.152Z"
   },
   {
    "duration": 44,
    "start_time": "2021-12-15T17:55:30.162Z"
   },
   {
    "duration": 485,
    "start_time": "2021-12-15T17:59:47.648Z"
   },
   {
    "duration": 8,
    "start_time": "2021-12-15T17:59:55.925Z"
   },
   {
    "duration": 15,
    "start_time": "2021-12-15T18:00:25.646Z"
   },
   {
    "duration": 13,
    "start_time": "2021-12-15T18:01:04.075Z"
   },
   {
    "duration": 418,
    "start_time": "2021-12-15T18:01:19.030Z"
   },
   {
    "duration": 1159,
    "start_time": "2021-12-15T18:01:46.971Z"
   },
   {
    "duration": 207,
    "start_time": "2021-12-15T18:01:48.132Z"
   },
   {
    "duration": 24,
    "start_time": "2021-12-15T18:01:48.342Z"
   },
   {
    "duration": 160,
    "start_time": "2021-12-15T18:01:48.368Z"
   },
   {
    "duration": 239,
    "start_time": "2021-12-15T18:01:48.529Z"
   },
   {
    "duration": 91,
    "start_time": "2021-12-15T18:01:48.769Z"
   },
   {
    "duration": 27,
    "start_time": "2021-12-15T18:01:48.861Z"
   },
   {
    "duration": 210,
    "start_time": "2021-12-15T18:01:48.890Z"
   },
   {
    "duration": 176,
    "start_time": "2021-12-15T18:01:49.102Z"
   },
   {
    "duration": 1244,
    "start_time": "2021-12-15T18:01:49.280Z"
   },
   {
    "duration": 33,
    "start_time": "2021-12-15T18:01:50.525Z"
   },
   {
    "duration": 234,
    "start_time": "2021-12-15T18:01:50.560Z"
   },
   {
    "duration": 2195,
    "start_time": "2021-12-15T18:01:50.795Z"
   },
   {
    "duration": 5543,
    "start_time": "2021-12-15T18:01:52.991Z"
   },
   {
    "duration": 33,
    "start_time": "2021-12-15T18:01:58.536Z"
   },
   {
    "duration": 74,
    "start_time": "2021-12-15T18:01:58.570Z"
   },
   {
    "duration": 7,
    "start_time": "2021-12-15T18:01:58.646Z"
   },
   {
    "duration": 36,
    "start_time": "2021-12-15T18:01:58.654Z"
   },
   {
    "duration": 481,
    "start_time": "2021-12-15T18:01:58.691Z"
   },
   {
    "duration": 15,
    "start_time": "2021-12-15T18:02:08.505Z"
   },
   {
    "duration": 1067,
    "start_time": "2021-12-15T18:02:25.223Z"
   },
   {
    "duration": 210,
    "start_time": "2021-12-15T18:02:26.292Z"
   },
   {
    "duration": 24,
    "start_time": "2021-12-15T18:02:26.504Z"
   },
   {
    "duration": 151,
    "start_time": "2021-12-15T18:02:26.529Z"
   },
   {
    "duration": 228,
    "start_time": "2021-12-15T18:02:26.682Z"
   },
   {
    "duration": 94,
    "start_time": "2021-12-15T18:02:26.912Z"
   },
   {
    "duration": 19,
    "start_time": "2021-12-15T18:02:27.007Z"
   },
   {
    "duration": 371,
    "start_time": "2021-12-15T18:02:27.028Z"
   },
   {
    "duration": 223,
    "start_time": "2021-12-15T18:02:27.401Z"
   },
   {
    "duration": 1237,
    "start_time": "2021-12-15T18:02:27.625Z"
   },
   {
    "duration": 38,
    "start_time": "2021-12-15T18:02:28.863Z"
   },
   {
    "duration": 228,
    "start_time": "2021-12-15T18:02:28.903Z"
   },
   {
    "duration": 1996,
    "start_time": "2021-12-15T18:02:29.132Z"
   },
   {
    "duration": 6100,
    "start_time": "2021-12-15T18:02:31.130Z"
   },
   {
    "duration": 33,
    "start_time": "2021-12-15T18:02:37.231Z"
   },
   {
    "duration": 76,
    "start_time": "2021-12-15T18:02:37.266Z"
   },
   {
    "duration": 6,
    "start_time": "2021-12-15T18:02:37.344Z"
   },
   {
    "duration": 39,
    "start_time": "2021-12-15T18:02:37.352Z"
   },
   {
    "duration": 18,
    "start_time": "2021-12-15T18:02:56.700Z"
   },
   {
    "duration": 11,
    "start_time": "2021-12-15T18:04:15.053Z"
   },
   {
    "duration": 369,
    "start_time": "2021-12-15T18:04:50.054Z"
   },
   {
    "duration": 238,
    "start_time": "2021-12-15T18:05:06.411Z"
   },
   {
    "duration": 349,
    "start_time": "2021-12-15T18:05:19.877Z"
   },
   {
    "duration": 1108,
    "start_time": "2021-12-15T18:05:27.027Z"
   },
   {
    "duration": 200,
    "start_time": "2021-12-15T18:05:28.137Z"
   },
   {
    "duration": 23,
    "start_time": "2021-12-15T18:05:28.339Z"
   },
   {
    "duration": 186,
    "start_time": "2021-12-15T18:05:28.364Z"
   },
   {
    "duration": 454,
    "start_time": "2021-12-15T18:05:28.551Z"
   },
   {
    "duration": 289,
    "start_time": "2021-12-15T18:05:29.007Z"
   },
   {
    "duration": 23,
    "start_time": "2021-12-15T18:05:29.298Z"
   },
   {
    "duration": 235,
    "start_time": "2021-12-15T18:05:29.324Z"
   },
   {
    "duration": 177,
    "start_time": "2021-12-15T18:05:29.561Z"
   },
   {
    "duration": 1229,
    "start_time": "2021-12-15T18:05:29.739Z"
   },
   {
    "duration": 37,
    "start_time": "2021-12-15T18:05:30.969Z"
   },
   {
    "duration": 255,
    "start_time": "2021-12-15T18:05:31.008Z"
   },
   {
    "duration": 2189,
    "start_time": "2021-12-15T18:05:31.265Z"
   },
   {
    "duration": 7142,
    "start_time": "2021-12-15T18:05:33.455Z"
   },
   {
    "duration": 34,
    "start_time": "2021-12-15T18:05:40.599Z"
   },
   {
    "duration": 87,
    "start_time": "2021-12-15T18:05:40.635Z"
   },
   {
    "duration": 8,
    "start_time": "2021-12-15T18:05:40.724Z"
   },
   {
    "duration": 23,
    "start_time": "2021-12-15T18:05:40.734Z"
   },
   {
    "duration": 433,
    "start_time": "2021-12-15T18:06:12.849Z"
   },
   {
    "duration": 273,
    "start_time": "2021-12-15T18:06:18.512Z"
   },
   {
    "duration": 251,
    "start_time": "2021-12-15T18:06:24.056Z"
   },
   {
    "duration": 11,
    "start_time": "2021-12-15T18:06:28.985Z"
   },
   {
    "duration": 105,
    "start_time": "2021-12-15T18:07:05.129Z"
   },
   {
    "duration": 405,
    "start_time": "2021-12-15T18:07:08.880Z"
   },
   {
    "duration": 13,
    "start_time": "2021-12-15T18:07:44.276Z"
   },
   {
    "duration": 11,
    "start_time": "2021-12-15T18:08:13.232Z"
   },
   {
    "duration": 1092,
    "start_time": "2021-12-15T18:08:22.542Z"
   },
   {
    "duration": 203,
    "start_time": "2021-12-15T18:08:23.636Z"
   },
   {
    "duration": 23,
    "start_time": "2021-12-15T18:08:23.841Z"
   },
   {
    "duration": 150,
    "start_time": "2021-12-15T18:08:23.865Z"
   },
   {
    "duration": 237,
    "start_time": "2021-12-15T18:08:24.017Z"
   },
   {
    "duration": 88,
    "start_time": "2021-12-15T18:08:24.256Z"
   },
   {
    "duration": 19,
    "start_time": "2021-12-15T18:08:24.345Z"
   },
   {
    "duration": 205,
    "start_time": "2021-12-15T18:08:24.366Z"
   },
   {
    "duration": 316,
    "start_time": "2021-12-15T18:08:24.572Z"
   },
   {
    "duration": 1386,
    "start_time": "2021-12-15T18:08:24.890Z"
   },
   {
    "duration": 39,
    "start_time": "2021-12-15T18:08:26.278Z"
   },
   {
    "duration": 244,
    "start_time": "2021-12-15T18:08:26.318Z"
   },
   {
    "duration": 2042,
    "start_time": "2021-12-15T18:08:26.564Z"
   },
   {
    "duration": 5842,
    "start_time": "2021-12-15T18:08:28.608Z"
   },
   {
    "duration": 45,
    "start_time": "2021-12-15T18:08:34.452Z"
   },
   {
    "duration": 66,
    "start_time": "2021-12-15T18:08:34.498Z"
   },
   {
    "duration": 7,
    "start_time": "2021-12-15T18:08:34.566Z"
   },
   {
    "duration": 24,
    "start_time": "2021-12-15T18:08:34.587Z"
   },
   {
    "duration": 409,
    "start_time": "2021-12-15T18:08:34.612Z"
   },
   {
    "duration": 419,
    "start_time": "2021-12-15T18:08:59.234Z"
   },
   {
    "duration": 257,
    "start_time": "2021-12-15T18:09:26.527Z"
   },
   {
    "duration": 1139,
    "start_time": "2021-12-15T18:09:41.390Z"
   },
   {
    "duration": 199,
    "start_time": "2021-12-15T18:09:42.531Z"
   },
   {
    "duration": 23,
    "start_time": "2021-12-15T18:09:42.732Z"
   },
   {
    "duration": 157,
    "start_time": "2021-12-15T18:09:42.757Z"
   },
   {
    "duration": 238,
    "start_time": "2021-12-15T18:09:42.915Z"
   },
   {
    "duration": 92,
    "start_time": "2021-12-15T18:09:43.155Z"
   },
   {
    "duration": 19,
    "start_time": "2021-12-15T18:09:43.249Z"
   },
   {
    "duration": 212,
    "start_time": "2021-12-15T18:09:43.271Z"
   },
   {
    "duration": 181,
    "start_time": "2021-12-15T18:09:43.488Z"
   },
   {
    "duration": 1627,
    "start_time": "2021-12-15T18:09:43.670Z"
   },
   {
    "duration": 38,
    "start_time": "2021-12-15T18:09:45.300Z"
   },
   {
    "duration": 247,
    "start_time": "2021-12-15T18:09:45.340Z"
   },
   {
    "duration": 2005,
    "start_time": "2021-12-15T18:09:45.589Z"
   },
   {
    "duration": 5626,
    "start_time": "2021-12-15T18:09:47.595Z"
   },
   {
    "duration": 34,
    "start_time": "2021-12-15T18:09:53.222Z"
   },
   {
    "duration": 80,
    "start_time": "2021-12-15T18:09:53.257Z"
   },
   {
    "duration": 8,
    "start_time": "2021-12-15T18:09:53.339Z"
   },
   {
    "duration": 40,
    "start_time": "2021-12-15T18:09:53.348Z"
   },
   {
    "duration": 482,
    "start_time": "2021-12-15T18:09:53.390Z"
   },
   {
    "duration": 7,
    "start_time": "2021-12-15T18:12:48.582Z"
   },
   {
    "duration": 15,
    "start_time": "2021-12-15T18:13:39.435Z"
   },
   {
    "duration": 11,
    "start_time": "2021-12-15T18:14:10.691Z"
   },
   {
    "duration": 1155,
    "start_time": "2021-12-15T18:14:17.980Z"
   },
   {
    "duration": 201,
    "start_time": "2021-12-15T18:14:19.137Z"
   },
   {
    "duration": 23,
    "start_time": "2021-12-15T18:14:19.340Z"
   },
   {
    "duration": 157,
    "start_time": "2021-12-15T18:14:19.364Z"
   },
   {
    "duration": 244,
    "start_time": "2021-12-15T18:14:19.523Z"
   },
   {
    "duration": 95,
    "start_time": "2021-12-15T18:14:19.769Z"
   },
   {
    "duration": 29,
    "start_time": "2021-12-15T18:14:19.865Z"
   },
   {
    "duration": 208,
    "start_time": "2021-12-15T18:14:19.897Z"
   },
   {
    "duration": 172,
    "start_time": "2021-12-15T18:14:20.107Z"
   },
   {
    "duration": 1253,
    "start_time": "2021-12-15T18:14:20.281Z"
   },
   {
    "duration": 40,
    "start_time": "2021-12-15T18:14:21.536Z"
   },
   {
    "duration": 236,
    "start_time": "2021-12-15T18:14:21.578Z"
   },
   {
    "duration": 2031,
    "start_time": "2021-12-15T18:14:21.816Z"
   },
   {
    "duration": 5427,
    "start_time": "2021-12-15T18:14:23.848Z"
   },
   {
    "duration": 41,
    "start_time": "2021-12-15T18:14:29.277Z"
   },
   {
    "duration": 74,
    "start_time": "2021-12-15T18:14:29.320Z"
   },
   {
    "duration": 7,
    "start_time": "2021-12-15T18:14:29.396Z"
   },
   {
    "duration": 22,
    "start_time": "2021-12-15T18:14:29.405Z"
   },
   {
    "duration": 548,
    "start_time": "2021-12-15T18:14:40.281Z"
   },
   {
    "duration": 239,
    "start_time": "2021-12-15T18:15:47.881Z"
   },
   {
    "duration": 16,
    "start_time": "2021-12-15T18:15:51.808Z"
   },
   {
    "duration": 1082,
    "start_time": "2021-12-15T18:17:42.308Z"
   },
   {
    "duration": 198,
    "start_time": "2021-12-15T18:17:43.392Z"
   },
   {
    "duration": 24,
    "start_time": "2021-12-15T18:17:43.592Z"
   },
   {
    "duration": 156,
    "start_time": "2021-12-15T18:17:43.618Z"
   },
   {
    "duration": 231,
    "start_time": "2021-12-15T18:17:43.776Z"
   },
   {
    "duration": 91,
    "start_time": "2021-12-15T18:17:44.009Z"
   },
   {
    "duration": 19,
    "start_time": "2021-12-15T18:17:44.102Z"
   },
   {
    "duration": 309,
    "start_time": "2021-12-15T18:17:44.123Z"
   },
   {
    "duration": 248,
    "start_time": "2021-12-15T18:17:44.434Z"
   },
   {
    "duration": 1248,
    "start_time": "2021-12-15T18:17:44.684Z"
   },
   {
    "duration": 30,
    "start_time": "2021-12-15T18:17:45.934Z"
   },
   {
    "duration": 253,
    "start_time": "2021-12-15T18:17:45.966Z"
   },
   {
    "duration": 2339,
    "start_time": "2021-12-15T18:17:46.220Z"
   },
   {
    "duration": 6258,
    "start_time": "2021-12-15T18:17:48.561Z"
   },
   {
    "duration": 32,
    "start_time": "2021-12-15T18:17:54.820Z"
   },
   {
    "duration": 74,
    "start_time": "2021-12-15T18:17:54.854Z"
   },
   {
    "duration": 7,
    "start_time": "2021-12-15T18:17:54.929Z"
   },
   {
    "duration": 62,
    "start_time": "2021-12-15T18:17:54.938Z"
   },
   {
    "duration": 96,
    "start_time": "2021-12-15T18:18:04.317Z"
   },
   {
    "duration": 97,
    "start_time": "2021-12-15T18:18:13.405Z"
   },
   {
    "duration": 356,
    "start_time": "2021-12-15T18:18:31.696Z"
   },
   {
    "duration": 16,
    "start_time": "2021-12-15T18:18:49.516Z"
   },
   {
    "duration": 14,
    "start_time": "2021-12-15T18:19:15.298Z"
   },
   {
    "duration": 335,
    "start_time": "2021-12-15T19:14:54.026Z"
   },
   {
    "duration": 20,
    "start_time": "2021-12-15T19:15:21.024Z"
   },
   {
    "duration": 255,
    "start_time": "2021-12-15T19:15:36.511Z"
   },
   {
    "duration": 313,
    "start_time": "2021-12-15T19:15:44.543Z"
   },
   {
    "duration": 291,
    "start_time": "2021-12-15T19:15:50.312Z"
   },
   {
    "duration": 1148,
    "start_time": "2021-12-15T19:16:25.950Z"
   },
   {
    "duration": 223,
    "start_time": "2021-12-15T19:16:27.100Z"
   },
   {
    "duration": 24,
    "start_time": "2021-12-15T19:16:27.326Z"
   },
   {
    "duration": 169,
    "start_time": "2021-12-15T19:16:27.352Z"
   },
   {
    "duration": 315,
    "start_time": "2021-12-15T19:16:27.523Z"
   },
   {
    "duration": 154,
    "start_time": "2021-12-15T19:16:27.839Z"
   },
   {
    "duration": 22,
    "start_time": "2021-12-15T19:16:27.995Z"
   },
   {
    "duration": 471,
    "start_time": "2021-12-15T19:16:28.019Z"
   },
   {
    "duration": 280,
    "start_time": "2021-12-15T19:16:28.492Z"
   },
   {
    "duration": 2085,
    "start_time": "2021-12-15T19:16:28.774Z"
   },
   {
    "duration": 52,
    "start_time": "2021-12-15T19:16:30.861Z"
   },
   {
    "duration": 396,
    "start_time": "2021-12-15T19:16:30.916Z"
   },
   {
    "duration": 2135,
    "start_time": "2021-12-15T19:16:31.315Z"
   },
   {
    "duration": 9361,
    "start_time": "2021-12-15T19:16:33.452Z"
   },
   {
    "duration": 40,
    "start_time": "2021-12-15T19:16:42.815Z"
   },
   {
    "duration": 112,
    "start_time": "2021-12-15T19:16:42.857Z"
   },
   {
    "duration": 18,
    "start_time": "2021-12-15T19:16:42.971Z"
   },
   {
    "duration": 27,
    "start_time": "2021-12-15T19:16:42.991Z"
   },
   {
    "duration": 351,
    "start_time": "2021-12-15T19:16:48.044Z"
   },
   {
    "duration": 15,
    "start_time": "2021-12-15T19:17:14.528Z"
   },
   {
    "duration": 10,
    "start_time": "2021-12-15T19:17:25.483Z"
   },
   {
    "duration": 13,
    "start_time": "2021-12-15T19:17:31.131Z"
   },
   {
    "duration": 9,
    "start_time": "2021-12-15T19:17:35.563Z"
   },
   {
    "duration": 10,
    "start_time": "2021-12-15T19:17:46.124Z"
   },
   {
    "duration": 8,
    "start_time": "2021-12-15T19:18:06.275Z"
   },
   {
    "duration": 9,
    "start_time": "2021-12-15T19:19:29.962Z"
   },
   {
    "duration": 10,
    "start_time": "2021-12-15T19:20:09.467Z"
   },
   {
    "duration": 263,
    "start_time": "2021-12-15T19:20:14.412Z"
   },
   {
    "duration": 9,
    "start_time": "2021-12-15T19:20:17.083Z"
   },
   {
    "duration": 284,
    "start_time": "2021-12-15T19:20:44.871Z"
   },
   {
    "duration": 9,
    "start_time": "2021-12-15T19:20:48.403Z"
   },
   {
    "duration": 85,
    "start_time": "2021-12-15T19:21:07.748Z"
   },
   {
    "duration": 8,
    "start_time": "2021-12-15T19:21:09.603Z"
   },
   {
    "duration": 1112,
    "start_time": "2021-12-15T19:21:59.012Z"
   },
   {
    "duration": 206,
    "start_time": "2021-12-15T19:22:00.126Z"
   },
   {
    "duration": 24,
    "start_time": "2021-12-15T19:22:00.334Z"
   },
   {
    "duration": 229,
    "start_time": "2021-12-15T19:22:00.360Z"
   },
   {
    "duration": 422,
    "start_time": "2021-12-15T19:22:00.591Z"
   },
   {
    "duration": 285,
    "start_time": "2021-12-15T19:22:01.015Z"
   },
   {
    "duration": 31,
    "start_time": "2021-12-15T19:22:01.302Z"
   },
   {
    "duration": 359,
    "start_time": "2021-12-15T19:22:01.336Z"
   },
   {
    "duration": 262,
    "start_time": "2021-12-15T19:22:01.698Z"
   },
   {
    "duration": 2151,
    "start_time": "2021-12-15T19:22:01.962Z"
   },
   {
    "duration": 43,
    "start_time": "2021-12-15T19:22:04.115Z"
   },
   {
    "duration": 236,
    "start_time": "2021-12-15T19:22:04.160Z"
   },
   {
    "duration": 1981,
    "start_time": "2021-12-15T19:22:04.398Z"
   },
   {
    "duration": 5342,
    "start_time": "2021-12-15T19:22:06.382Z"
   },
   {
    "duration": 33,
    "start_time": "2021-12-15T19:22:11.725Z"
   },
   {
    "duration": 85,
    "start_time": "2021-12-15T19:22:11.759Z"
   },
   {
    "duration": 11,
    "start_time": "2021-12-15T19:22:11.846Z"
   },
   {
    "duration": 51,
    "start_time": "2021-12-15T19:22:11.859Z"
   },
   {
    "duration": 14,
    "start_time": "2021-12-15T19:22:23.219Z"
   },
   {
    "duration": 6243,
    "start_time": "2021-12-15T19:22:26.324Z"
   },
   {
    "duration": -30,
    "start_time": "2021-12-15T19:22:32.599Z"
   },
   {
    "duration": 9,
    "start_time": "2021-12-15T19:22:40.507Z"
   },
   {
    "duration": 6429,
    "start_time": "2021-12-15T19:22:56.517Z"
   },
   {
    "duration": -35,
    "start_time": "2021-12-15T19:23:02.983Z"
   },
   {
    "duration": 101,
    "start_time": "2021-12-15T19:23:20.792Z"
   },
   {
    "duration": 8,
    "start_time": "2021-12-15T19:23:23.300Z"
   },
   {
    "duration": 92,
    "start_time": "2021-12-15T19:23:40.678Z"
   },
   {
    "duration": 1426,
    "start_time": "2021-12-15T19:24:36.249Z"
   },
   {
    "duration": 313,
    "start_time": "2021-12-15T19:24:37.677Z"
   },
   {
    "duration": 25,
    "start_time": "2021-12-15T19:24:37.992Z"
   },
   {
    "duration": 161,
    "start_time": "2021-12-15T19:24:38.019Z"
   },
   {
    "duration": 247,
    "start_time": "2021-12-15T19:24:38.182Z"
   },
   {
    "duration": 92,
    "start_time": "2021-12-15T19:24:38.431Z"
   },
   {
    "duration": 19,
    "start_time": "2021-12-15T19:24:38.525Z"
   },
   {
    "duration": 215,
    "start_time": "2021-12-15T19:24:38.546Z"
   },
   {
    "duration": 274,
    "start_time": "2021-12-15T19:24:38.763Z"
   },
   {
    "duration": 2124,
    "start_time": "2021-12-15T19:24:39.039Z"
   },
   {
    "duration": 49,
    "start_time": "2021-12-15T19:24:41.165Z"
   },
   {
    "duration": 246,
    "start_time": "2021-12-15T19:24:41.216Z"
   },
   {
    "duration": 2085,
    "start_time": "2021-12-15T19:24:41.464Z"
   },
   {
    "duration": 8348,
    "start_time": "2021-12-15T19:24:43.551Z"
   },
   {
    "duration": 33,
    "start_time": "2021-12-15T19:24:51.902Z"
   },
   {
    "duration": 88,
    "start_time": "2021-12-15T19:24:51.937Z"
   },
   {
    "duration": 7,
    "start_time": "2021-12-15T19:24:52.027Z"
   },
   {
    "duration": 31,
    "start_time": "2021-12-15T19:24:52.036Z"
   },
   {
    "duration": 140,
    "start_time": "2021-12-15T19:25:05.464Z"
   },
   {
    "duration": 11,
    "start_time": "2021-12-15T19:25:09.383Z"
   },
   {
    "duration": 23,
    "start_time": "2021-12-15T19:25:23.975Z"
   },
   {
    "duration": 331,
    "start_time": "2021-12-15T19:26:15.520Z"
   },
   {
    "duration": 21,
    "start_time": "2021-12-15T19:26:19.616Z"
   },
   {
    "duration": 333,
    "start_time": "2021-12-15T19:26:45.489Z"
   },
   {
    "duration": 20,
    "start_time": "2021-12-15T19:26:48.791Z"
   },
   {
    "duration": 309,
    "start_time": "2021-12-15T19:27:00.240Z"
   },
   {
    "duration": 272,
    "start_time": "2021-12-15T19:27:07.440Z"
   },
   {
    "duration": 259,
    "start_time": "2021-12-15T19:27:17.503Z"
   },
   {
    "duration": 22,
    "start_time": "2021-12-15T19:27:20.376Z"
   },
   {
    "duration": 292,
    "start_time": "2021-12-15T19:28:20.801Z"
   },
   {
    "duration": 23,
    "start_time": "2021-12-15T19:28:31.400Z"
   },
   {
    "duration": 64,
    "start_time": "2021-12-15T19:28:47.231Z"
   },
   {
    "duration": 53,
    "start_time": "2021-12-15T19:29:27.737Z"
   },
   {
    "duration": 52,
    "start_time": "2021-12-15T19:29:45.185Z"
   },
   {
    "duration": 193,
    "start_time": "2021-12-15T19:29:50.848Z"
   },
   {
    "duration": 112,
    "start_time": "2021-12-15T19:30:59.906Z"
   },
   {
    "duration": 22,
    "start_time": "2021-12-15T19:31:02.624Z"
   },
   {
    "duration": 30,
    "start_time": "2021-12-15T19:31:10.064Z"
   },
   {
    "duration": 90,
    "start_time": "2021-12-15T19:31:20.144Z"
   },
   {
    "duration": 51,
    "start_time": "2021-12-15T19:31:22.188Z"
   },
   {
    "duration": 29,
    "start_time": "2021-12-15T19:31:32.598Z"
   },
   {
    "duration": 106,
    "start_time": "2021-12-15T19:31:55.487Z"
   },
   {
    "duration": 36,
    "start_time": "2021-12-15T19:31:57.084Z"
   },
   {
    "duration": 144,
    "start_time": "2021-12-15T19:32:35.546Z"
   },
   {
    "duration": 29,
    "start_time": "2021-12-15T19:32:44.216Z"
   },
   {
    "duration": 104,
    "start_time": "2021-12-15T19:33:04.808Z"
   },
   {
    "duration": 34,
    "start_time": "2021-12-15T19:33:06.017Z"
   },
   {
    "duration": 142,
    "start_time": "2021-12-15T19:33:26.194Z"
   },
   {
    "duration": 120,
    "start_time": "2021-12-15T19:33:36.640Z"
   },
   {
    "duration": 8,
    "start_time": "2021-12-15T19:33:47.552Z"
   },
   {
    "duration": 8,
    "start_time": "2021-12-15T19:33:49.192Z"
   },
   {
    "duration": 1166,
    "start_time": "2021-12-15T19:34:01.468Z"
   },
   {
    "duration": 205,
    "start_time": "2021-12-15T19:34:02.636Z"
   },
   {
    "duration": 24,
    "start_time": "2021-12-15T19:34:02.842Z"
   },
   {
    "duration": 161,
    "start_time": "2021-12-15T19:34:02.868Z"
   },
   {
    "duration": 682,
    "start_time": "2021-12-15T19:34:03.031Z"
   },
   {
    "duration": 93,
    "start_time": "2021-12-15T19:34:03.716Z"
   },
   {
    "duration": 21,
    "start_time": "2021-12-15T19:34:03.811Z"
   },
   {
    "duration": 213,
    "start_time": "2021-12-15T19:34:03.834Z"
   },
   {
    "duration": 182,
    "start_time": "2021-12-15T19:34:04.049Z"
   },
   {
    "duration": 1448,
    "start_time": "2021-12-15T19:34:04.233Z"
   },
   {
    "duration": 30,
    "start_time": "2021-12-15T19:34:05.687Z"
   },
   {
    "duration": 377,
    "start_time": "2021-12-15T19:34:05.719Z"
   },
   {
    "duration": 3071,
    "start_time": "2021-12-15T19:34:06.098Z"
   },
   {
    "duration": 7731,
    "start_time": "2021-12-15T19:34:09.171Z"
   },
   {
    "duration": 33,
    "start_time": "2021-12-15T19:34:16.904Z"
   },
   {
    "duration": 82,
    "start_time": "2021-12-15T19:34:16.939Z"
   },
   {
    "duration": 7,
    "start_time": "2021-12-15T19:34:17.023Z"
   },
   {
    "duration": 22,
    "start_time": "2021-12-15T19:34:17.031Z"
   },
   {
    "duration": 50,
    "start_time": "2021-12-15T19:34:26.922Z"
   },
   {
    "duration": 51,
    "start_time": "2021-12-15T19:34:37.939Z"
   },
   {
    "duration": 47,
    "start_time": "2021-12-15T19:34:59.853Z"
   },
   {
    "duration": 55,
    "start_time": "2021-12-15T19:35:04.849Z"
   },
   {
    "duration": 43,
    "start_time": "2021-12-15T19:35:20.857Z"
   },
   {
    "duration": 47,
    "start_time": "2021-12-15T19:35:29.971Z"
   },
   {
    "duration": 43,
    "start_time": "2021-12-15T19:35:36.940Z"
   },
   {
    "duration": 62,
    "start_time": "2021-12-15T19:35:49.369Z"
   },
   {
    "duration": 85,
    "start_time": "2021-12-15T19:36:02.273Z"
   },
   {
    "duration": 25,
    "start_time": "2021-12-15T19:36:05.092Z"
   },
   {
    "duration": 6,
    "start_time": "2021-12-15T19:36:16.499Z"
   },
   {
    "duration": 27,
    "start_time": "2021-12-15T19:36:17.491Z"
   },
   {
    "duration": 1132,
    "start_time": "2021-12-15T19:36:27.090Z"
   },
   {
    "duration": 210,
    "start_time": "2021-12-15T19:36:28.224Z"
   },
   {
    "duration": 24,
    "start_time": "2021-12-15T19:36:28.436Z"
   },
   {
    "duration": 162,
    "start_time": "2021-12-15T19:36:28.462Z"
   },
   {
    "duration": 386,
    "start_time": "2021-12-15T19:36:28.626Z"
   },
   {
    "duration": 131,
    "start_time": "2021-12-15T19:36:29.014Z"
   },
   {
    "duration": 28,
    "start_time": "2021-12-15T19:36:29.147Z"
   },
   {
    "duration": 211,
    "start_time": "2021-12-15T19:36:29.179Z"
   },
   {
    "duration": 184,
    "start_time": "2021-12-15T19:36:29.391Z"
   },
   {
    "duration": 2471,
    "start_time": "2021-12-15T19:36:29.577Z"
   },
   {
    "duration": 56,
    "start_time": "2021-12-15T19:36:32.051Z"
   },
   {
    "duration": 383,
    "start_time": "2021-12-15T19:36:32.109Z"
   },
   {
    "duration": 2203,
    "start_time": "2021-12-15T19:36:32.495Z"
   },
   {
    "duration": 7626,
    "start_time": "2021-12-15T19:36:34.700Z"
   },
   {
    "duration": 33,
    "start_time": "2021-12-15T19:36:42.327Z"
   },
   {
    "duration": 91,
    "start_time": "2021-12-15T19:36:42.362Z"
   },
   {
    "duration": 7,
    "start_time": "2021-12-15T19:36:42.454Z"
   },
   {
    "duration": 43,
    "start_time": "2021-12-15T19:36:42.463Z"
   },
   {
    "duration": 67,
    "start_time": "2021-12-15T19:37:14.057Z"
   },
   {
    "duration": 63,
    "start_time": "2021-12-15T19:37:19.842Z"
   },
   {
    "duration": 61,
    "start_time": "2021-12-15T19:37:26.416Z"
   },
   {
    "duration": 82,
    "start_time": "2021-12-15T19:37:58.551Z"
   },
   {
    "duration": 97,
    "start_time": "2021-12-15T19:38:06.850Z"
   },
   {
    "duration": 64,
    "start_time": "2021-12-15T19:38:36.218Z"
   },
   {
    "duration": 80,
    "start_time": "2021-12-15T19:38:44.304Z"
   },
   {
    "duration": 69,
    "start_time": "2021-12-15T19:38:51.674Z"
   },
   {
    "duration": 4538,
    "start_time": "2021-12-15T19:39:17.722Z"
   },
   {
    "duration": 4777,
    "start_time": "2021-12-15T19:39:25.802Z"
   },
   {
    "duration": 7205,
    "start_time": "2021-12-15T19:39:48.872Z"
   },
   {
    "duration": 54,
    "start_time": "2021-12-15T19:40:23.234Z"
   },
   {
    "duration": 3878,
    "start_time": "2021-12-15T19:40:31.969Z"
   },
   {
    "duration": 268,
    "start_time": "2021-12-15T19:41:00.659Z"
   },
   {
    "duration": 29,
    "start_time": "2021-12-15T19:41:32.209Z"
   },
   {
    "duration": 13,
    "start_time": "2021-12-15T19:41:37.016Z"
   },
   {
    "duration": 40,
    "start_time": "2021-12-15T19:42:40.784Z"
   },
   {
    "duration": 41,
    "start_time": "2021-12-15T19:42:58.362Z"
   },
   {
    "duration": 329,
    "start_time": "2021-12-15T19:43:04.905Z"
   },
   {
    "duration": 14,
    "start_time": "2021-12-15T19:43:35.129Z"
   },
   {
    "duration": 15,
    "start_time": "2021-12-15T19:43:41.394Z"
   },
   {
    "duration": 15,
    "start_time": "2021-12-15T19:44:33.929Z"
   },
   {
    "duration": 30,
    "start_time": "2021-12-15T19:44:48.786Z"
   },
   {
    "duration": 267,
    "start_time": "2021-12-15T19:44:58.913Z"
   },
   {
    "duration": 37,
    "start_time": "2021-12-15T19:45:02.521Z"
   },
   {
    "duration": 103,
    "start_time": "2021-12-15T19:45:09.177Z"
   },
   {
    "duration": 43,
    "start_time": "2021-12-15T19:45:12.162Z"
   },
   {
    "duration": 80,
    "start_time": "2021-12-15T19:45:21.313Z"
   },
   {
    "duration": 60,
    "start_time": "2021-12-15T19:45:48.417Z"
   },
   {
    "duration": 25,
    "start_time": "2021-12-15T19:45:52.012Z"
   },
   {
    "duration": 6,
    "start_time": "2021-12-15T19:46:04.745Z"
   },
   {
    "duration": 6,
    "start_time": "2021-12-15T19:46:11.881Z"
   },
   {
    "duration": 22,
    "start_time": "2021-12-15T19:46:15.149Z"
   },
   {
    "duration": 1147,
    "start_time": "2021-12-15T19:46:26.987Z"
   },
   {
    "duration": 206,
    "start_time": "2021-12-15T19:46:28.136Z"
   },
   {
    "duration": 25,
    "start_time": "2021-12-15T19:46:28.345Z"
   },
   {
    "duration": 235,
    "start_time": "2021-12-15T19:46:28.372Z"
   },
   {
    "duration": 404,
    "start_time": "2021-12-15T19:46:28.609Z"
   },
   {
    "duration": 292,
    "start_time": "2021-12-15T19:46:29.016Z"
   },
   {
    "duration": 27,
    "start_time": "2021-12-15T19:46:29.310Z"
   },
   {
    "duration": 348,
    "start_time": "2021-12-15T19:46:29.340Z"
   },
   {
    "duration": 271,
    "start_time": "2021-12-15T19:46:29.690Z"
   },
   {
    "duration": 2108,
    "start_time": "2021-12-15T19:46:29.963Z"
   },
   {
    "duration": 39,
    "start_time": "2021-12-15T19:46:32.073Z"
   },
   {
    "duration": 246,
    "start_time": "2021-12-15T19:46:32.114Z"
   },
   {
    "duration": 2026,
    "start_time": "2021-12-15T19:46:32.362Z"
   },
   {
    "duration": 5646,
    "start_time": "2021-12-15T19:46:34.389Z"
   },
   {
    "duration": 33,
    "start_time": "2021-12-15T19:46:40.037Z"
   },
   {
    "duration": 77,
    "start_time": "2021-12-15T19:46:40.072Z"
   },
   {
    "duration": 8,
    "start_time": "2021-12-15T19:46:40.150Z"
   },
   {
    "duration": 43,
    "start_time": "2021-12-15T19:46:40.160Z"
   },
   {
    "duration": 79,
    "start_time": "2021-12-15T19:46:48.167Z"
   },
   {
    "duration": 74,
    "start_time": "2021-12-15T19:46:52.814Z"
   },
   {
    "duration": 25,
    "start_time": "2021-12-15T19:46:57.567Z"
   },
   {
    "duration": 17,
    "start_time": "2021-12-15T19:47:26.538Z"
   },
   {
    "duration": 6,
    "start_time": "2021-12-15T19:47:46.951Z"
   },
   {
    "duration": 1560,
    "start_time": "2021-12-15T19:47:54.482Z"
   },
   {
    "duration": 467,
    "start_time": "2021-12-15T19:47:56.088Z"
   },
   {
    "duration": 29,
    "start_time": "2021-12-15T19:47:56.558Z"
   },
   {
    "duration": 165,
    "start_time": "2021-12-15T19:47:56.590Z"
   },
   {
    "duration": 247,
    "start_time": "2021-12-15T19:47:56.757Z"
   },
   {
    "duration": 138,
    "start_time": "2021-12-15T19:47:57.006Z"
   },
   {
    "duration": 24,
    "start_time": "2021-12-15T19:47:57.146Z"
   },
   {
    "duration": 229,
    "start_time": "2021-12-15T19:47:57.172Z"
   },
   {
    "duration": 189,
    "start_time": "2021-12-15T19:47:57.404Z"
   },
   {
    "duration": 1302,
    "start_time": "2021-12-15T19:47:57.595Z"
   },
   {
    "duration": 42,
    "start_time": "2021-12-15T19:47:58.899Z"
   },
   {
    "duration": 388,
    "start_time": "2021-12-15T19:47:58.943Z"
   },
   {
    "duration": 3269,
    "start_time": "2021-12-15T19:47:59.333Z"
   },
   {
    "duration": 8984,
    "start_time": "2021-12-15T19:48:02.604Z"
   },
   {
    "duration": 40,
    "start_time": "2021-12-15T19:48:11.590Z"
   },
   {
    "duration": 115,
    "start_time": "2021-12-15T19:48:11.632Z"
   },
   {
    "duration": 11,
    "start_time": "2021-12-15T19:48:11.748Z"
   },
   {
    "duration": 52,
    "start_time": "2021-12-15T19:48:11.761Z"
   },
   {
    "duration": 67,
    "start_time": "2021-12-15T19:48:17.803Z"
   },
   {
    "duration": 15,
    "start_time": "2021-12-15T19:48:27.115Z"
   },
   {
    "duration": 16,
    "start_time": "2021-12-15T19:48:54.187Z"
   },
   {
    "duration": 18,
    "start_time": "2021-12-15T19:49:01.147Z"
   },
   {
    "duration": 1171,
    "start_time": "2021-12-15T19:49:19.160Z"
   },
   {
    "duration": 205,
    "start_time": "2021-12-15T19:49:20.333Z"
   },
   {
    "duration": 24,
    "start_time": "2021-12-15T19:49:20.540Z"
   },
   {
    "duration": 157,
    "start_time": "2021-12-15T19:49:20.566Z"
   },
   {
    "duration": 252,
    "start_time": "2021-12-15T19:49:20.725Z"
   },
   {
    "duration": 102,
    "start_time": "2021-12-15T19:49:20.979Z"
   },
   {
    "duration": 22,
    "start_time": "2021-12-15T19:49:21.087Z"
   },
   {
    "duration": 318,
    "start_time": "2021-12-15T19:49:21.112Z"
   },
   {
    "duration": 228,
    "start_time": "2021-12-15T19:49:21.432Z"
   },
   {
    "duration": 1363,
    "start_time": "2021-12-15T19:49:21.662Z"
   },
   {
    "duration": 31,
    "start_time": "2021-12-15T19:49:23.027Z"
   },
   {
    "duration": 246,
    "start_time": "2021-12-15T19:49:23.060Z"
   },
   {
    "duration": 2330,
    "start_time": "2021-12-15T19:49:23.308Z"
   },
   {
    "duration": 6939,
    "start_time": "2021-12-15T19:49:25.640Z"
   },
   {
    "duration": 33,
    "start_time": "2021-12-15T19:49:32.588Z"
   },
   {
    "duration": 75,
    "start_time": "2021-12-15T19:49:32.623Z"
   },
   {
    "duration": 7,
    "start_time": "2021-12-15T19:49:32.700Z"
   },
   {
    "duration": 25,
    "start_time": "2021-12-15T19:49:32.709Z"
   },
   {
    "duration": 78,
    "start_time": "2021-12-15T19:49:39.979Z"
   },
   {
    "duration": 15,
    "start_time": "2021-12-15T19:50:11.476Z"
   },
   {
    "duration": 15,
    "start_time": "2021-12-15T19:50:19.676Z"
   },
   {
    "duration": 15,
    "start_time": "2021-12-15T19:50:31.076Z"
   },
   {
    "duration": 14,
    "start_time": "2021-12-15T19:50:42.291Z"
   },
   {
    "duration": 20,
    "start_time": "2021-12-15T19:52:10.164Z"
   },
   {
    "duration": 16,
    "start_time": "2021-12-15T19:52:14.635Z"
   },
   {
    "duration": 33,
    "start_time": "2021-12-15T19:52:42.411Z"
   },
   {
    "duration": 33,
    "start_time": "2021-12-15T19:52:55.724Z"
   },
   {
    "duration": 408,
    "start_time": "2021-12-15T19:57:44.477Z"
   },
   {
    "duration": 251,
    "start_time": "2021-12-15T19:57:52.268Z"
   },
   {
    "duration": 244,
    "start_time": "2021-12-15T19:58:57.308Z"
   },
   {
    "duration": 452,
    "start_time": "2021-12-15T19:58:59.813Z"
   },
   {
    "duration": 239,
    "start_time": "2021-12-15T19:59:13.109Z"
   },
   {
    "duration": 238,
    "start_time": "2021-12-15T19:59:47.692Z"
   },
   {
    "duration": 23,
    "start_time": "2021-12-15T20:00:23.597Z"
   },
   {
    "duration": 11,
    "start_time": "2021-12-15T20:00:33.117Z"
   },
   {
    "duration": 8,
    "start_time": "2021-12-15T20:00:38.261Z"
   },
   {
    "duration": 660,
    "start_time": "2021-12-15T20:00:43.566Z"
   },
   {
    "duration": 7,
    "start_time": "2021-12-15T20:00:55.508Z"
   },
   {
    "duration": 1288,
    "start_time": "2021-12-15T20:01:37.718Z"
   },
   {
    "duration": 220,
    "start_time": "2021-12-15T20:01:39.008Z"
   },
   {
    "duration": 30,
    "start_time": "2021-12-15T20:01:39.231Z"
   },
   {
    "duration": 241,
    "start_time": "2021-12-15T20:01:39.263Z"
   },
   {
    "duration": 243,
    "start_time": "2021-12-15T20:01:39.506Z"
   },
   {
    "duration": 100,
    "start_time": "2021-12-15T20:01:39.751Z"
   },
   {
    "duration": 37,
    "start_time": "2021-12-15T20:01:39.853Z"
   },
   {
    "duration": 216,
    "start_time": "2021-12-15T20:01:39.893Z"
   },
   {
    "duration": 189,
    "start_time": "2021-12-15T20:01:40.112Z"
   },
   {
    "duration": 1249,
    "start_time": "2021-12-15T20:01:40.304Z"
   },
   {
    "duration": 50,
    "start_time": "2021-12-15T20:01:41.555Z"
   },
   {
    "duration": 243,
    "start_time": "2021-12-15T20:01:41.607Z"
   },
   {
    "duration": 2056,
    "start_time": "2021-12-15T20:01:41.851Z"
   },
   {
    "duration": 8654,
    "start_time": "2021-12-15T20:01:43.909Z"
   },
   {
    "duration": 51,
    "start_time": "2021-12-15T20:01:52.564Z"
   },
   {
    "duration": 102,
    "start_time": "2021-12-15T20:01:52.617Z"
   },
   {
    "duration": 10,
    "start_time": "2021-12-15T20:01:52.722Z"
   },
   {
    "duration": 19,
    "start_time": "2021-12-15T20:01:52.734Z"
   },
   {
    "duration": 92,
    "start_time": "2021-12-15T20:01:52.755Z"
   },
   {
    "duration": 48,
    "start_time": "2021-12-15T20:01:52.848Z"
   },
   {
    "duration": 6,
    "start_time": "2021-12-15T20:01:52.899Z"
   },
   {
    "duration": 393,
    "start_time": "2021-12-15T20:01:52.907Z"
   },
   {
    "duration": 5,
    "start_time": "2021-12-15T20:01:53.302Z"
   },
   {
    "duration": 696,
    "start_time": "2021-12-15T20:01:53.308Z"
   },
   {
    "duration": 97,
    "start_time": "2021-12-15T20:01:54.006Z"
   },
   {
    "duration": 871,
    "start_time": "2021-12-15T20:01:54.105Z"
   },
   {
    "duration": 21,
    "start_time": "2021-12-15T20:01:54.988Z"
   },
   {
    "duration": 422,
    "start_time": "2021-12-15T20:01:55.011Z"
   },
   {
    "duration": 11,
    "start_time": "2021-12-15T20:01:55.435Z"
   },
   {
    "duration": 414,
    "start_time": "2021-12-15T20:01:55.447Z"
   },
   {
    "duration": 12,
    "start_time": "2021-12-15T20:01:55.863Z"
   },
   {
    "duration": 18,
    "start_time": "2021-12-15T20:01:55.877Z"
   },
   {
    "duration": 14,
    "start_time": "2021-12-15T20:05:56.925Z"
   },
   {
    "duration": 414,
    "start_time": "2021-12-15T20:06:06.565Z"
   },
   {
    "duration": 15,
    "start_time": "2021-12-15T20:06:12.133Z"
   },
   {
    "duration": 279,
    "start_time": "2021-12-15T20:06:43.021Z"
   },
   {
    "duration": 721,
    "start_time": "2021-12-15T20:06:58.501Z"
   },
   {
    "duration": 21,
    "start_time": "2021-12-15T20:07:07.292Z"
   },
   {
    "duration": 15,
    "start_time": "2021-12-15T20:07:15.116Z"
   },
   {
    "duration": 33,
    "start_time": "2021-12-15T20:07:26.120Z"
   },
   {
    "duration": 26,
    "start_time": "2021-12-15T20:09:29.077Z"
   },
   {
    "duration": 22,
    "start_time": "2021-12-15T20:09:39.822Z"
   },
   {
    "duration": 18,
    "start_time": "2021-12-15T20:09:49.174Z"
   },
   {
    "duration": 22,
    "start_time": "2021-12-15T20:09:59.918Z"
   },
   {
    "duration": 79,
    "start_time": "2021-12-15T20:10:07.254Z"
   },
   {
    "duration": 35,
    "start_time": "2021-12-15T20:10:10.902Z"
   },
   {
    "duration": 260,
    "start_time": "2021-12-15T20:10:18.438Z"
   },
   {
    "duration": 273,
    "start_time": "2021-12-15T20:10:22.205Z"
   },
   {
    "duration": 7,
    "start_time": "2021-12-15T20:14:17.312Z"
   },
   {
    "duration": 9,
    "start_time": "2021-12-15T20:14:29.095Z"
   },
   {
    "duration": 11,
    "start_time": "2021-12-15T20:14:38.153Z"
   },
   {
    "duration": 7,
    "start_time": "2021-12-15T20:14:47.161Z"
   },
   {
    "duration": 24,
    "start_time": "2021-12-15T20:16:04.720Z"
   },
   {
    "duration": 32,
    "start_time": "2021-12-15T20:17:02.759Z"
   },
   {
    "duration": 76,
    "start_time": "2021-12-15T20:17:06.245Z"
   },
   {
    "duration": 8,
    "start_time": "2021-12-15T20:17:12.726Z"
   },
   {
    "duration": 284,
    "start_time": "2021-12-15T20:17:15.568Z"
   },
   {
    "duration": 45,
    "start_time": "2021-12-15T20:17:46.078Z"
   },
   {
    "duration": 76,
    "start_time": "2021-12-15T20:17:49.670Z"
   },
   {
    "duration": 12,
    "start_time": "2021-12-15T20:17:52.150Z"
   },
   {
    "duration": 25,
    "start_time": "2021-12-15T20:17:53.390Z"
   },
   {
    "duration": 92,
    "start_time": "2021-12-15T20:17:55.902Z"
   },
   {
    "duration": 34,
    "start_time": "2021-12-15T20:18:00.599Z"
   },
   {
    "duration": 6,
    "start_time": "2021-12-15T20:18:04.397Z"
   },
   {
    "duration": 359,
    "start_time": "2021-12-15T20:18:05.711Z"
   },
   {
    "duration": 6,
    "start_time": "2021-12-15T20:18:12.021Z"
   },
   {
    "duration": 6,
    "start_time": "2021-12-15T20:22:18.723Z"
   },
   {
    "duration": 247,
    "start_time": "2021-12-15T20:22:44.936Z"
   },
   {
    "duration": 237,
    "start_time": "2021-12-15T20:22:49.585Z"
   },
   {
    "duration": 43,
    "start_time": "2021-12-15T20:24:06.855Z"
   },
   {
    "duration": 75,
    "start_time": "2021-12-15T20:34:36.503Z"
   },
   {
    "duration": 331,
    "start_time": "2021-12-15T20:34:54.376Z"
   },
   {
    "duration": 301,
    "start_time": "2021-12-15T20:35:06.491Z"
   },
   {
    "duration": 246,
    "start_time": "2021-12-15T20:41:15.523Z"
   },
   {
    "duration": 38,
    "start_time": "2021-12-15T20:41:49.224Z"
   },
   {
    "duration": 208,
    "start_time": "2021-12-15T20:41:49.264Z"
   },
   {
    "duration": 27,
    "start_time": "2021-12-15T20:41:49.475Z"
   },
   {
    "duration": 206,
    "start_time": "2021-12-15T20:41:49.504Z"
   },
   {
    "duration": 238,
    "start_time": "2021-12-15T20:41:49.712Z"
   },
   {
    "duration": 103,
    "start_time": "2021-12-15T20:41:49.952Z"
   },
   {
    "duration": 32,
    "start_time": "2021-12-15T20:41:50.057Z"
   },
   {
    "duration": 206,
    "start_time": "2021-12-15T20:41:50.092Z"
   },
   {
    "duration": 179,
    "start_time": "2021-12-15T20:41:50.300Z"
   },
   {
    "duration": 1588,
    "start_time": "2021-12-15T20:41:50.487Z"
   },
   {
    "duration": 31,
    "start_time": "2021-12-15T20:41:52.077Z"
   },
   {
    "duration": 284,
    "start_time": "2021-12-15T20:41:52.110Z"
   },
   {
    "duration": 2336,
    "start_time": "2021-12-15T20:41:52.396Z"
   },
   {
    "duration": 8265,
    "start_time": "2021-12-15T20:41:54.734Z"
   },
   {
    "duration": 44,
    "start_time": "2021-12-15T20:42:03.000Z"
   },
   {
    "duration": 87,
    "start_time": "2021-12-15T20:42:03.046Z"
   },
   {
    "duration": 7,
    "start_time": "2021-12-15T20:42:03.135Z"
   },
   {
    "duration": 17,
    "start_time": "2021-12-15T20:42:03.144Z"
   },
   {
    "duration": 88,
    "start_time": "2021-12-15T20:42:03.162Z"
   },
   {
    "duration": 53,
    "start_time": "2021-12-15T20:42:03.252Z"
   },
   {
    "duration": 6,
    "start_time": "2021-12-15T20:42:03.307Z"
   },
   {
    "duration": 256,
    "start_time": "2021-12-15T20:42:16.066Z"
   },
   {
    "duration": 132,
    "start_time": "2021-12-15T20:42:43.338Z"
   },
   {
    "duration": 346,
    "start_time": "2021-12-15T20:42:49.777Z"
   },
   {
    "duration": 1106,
    "start_time": "2021-12-15T20:43:59.620Z"
   },
   {
    "duration": 203,
    "start_time": "2021-12-15T20:44:00.728Z"
   },
   {
    "duration": 25,
    "start_time": "2021-12-15T20:44:00.933Z"
   },
   {
    "duration": 173,
    "start_time": "2021-12-15T20:44:00.960Z"
   },
   {
    "duration": 318,
    "start_time": "2021-12-15T20:44:01.134Z"
   },
   {
    "duration": 97,
    "start_time": "2021-12-15T20:44:01.453Z"
   },
   {
    "duration": 20,
    "start_time": "2021-12-15T20:44:01.552Z"
   },
   {
    "duration": 219,
    "start_time": "2021-12-15T20:44:01.575Z"
   },
   {
    "duration": 272,
    "start_time": "2021-12-15T20:44:01.796Z"
   },
   {
    "duration": 2095,
    "start_time": "2021-12-15T20:44:02.070Z"
   },
   {
    "duration": 54,
    "start_time": "2021-12-15T20:44:04.167Z"
   },
   {
    "duration": 259,
    "start_time": "2021-12-15T20:44:04.223Z"
   },
   {
    "duration": 2024,
    "start_time": "2021-12-15T20:44:04.488Z"
   },
   {
    "duration": 7346,
    "start_time": "2021-12-15T20:44:06.514Z"
   },
   {
    "duration": 59,
    "start_time": "2021-12-15T20:44:13.862Z"
   },
   {
    "duration": 95,
    "start_time": "2021-12-15T20:44:13.923Z"
   },
   {
    "duration": 7,
    "start_time": "2021-12-15T20:44:14.020Z"
   },
   {
    "duration": 18,
    "start_time": "2021-12-15T20:44:14.029Z"
   },
   {
    "duration": 83,
    "start_time": "2021-12-15T20:44:14.048Z"
   },
   {
    "duration": 27,
    "start_time": "2021-12-15T20:44:14.132Z"
   },
   {
    "duration": 4,
    "start_time": "2021-12-15T20:44:14.161Z"
   },
   {
    "duration": 348,
    "start_time": "2021-12-15T20:44:14.167Z"
   },
   {
    "duration": -7,
    "start_time": "2021-12-15T20:44:14.524Z"
   },
   {
    "duration": -9,
    "start_time": "2021-12-15T20:44:14.528Z"
   },
   {
    "duration": -14,
    "start_time": "2021-12-15T20:44:14.534Z"
   },
   {
    "duration": -17,
    "start_time": "2021-12-15T20:44:14.538Z"
   },
   {
    "duration": -21,
    "start_time": "2021-12-15T20:44:14.543Z"
   },
   {
    "duration": -23,
    "start_time": "2021-12-15T20:44:14.546Z"
   },
   {
    "duration": -25,
    "start_time": "2021-12-15T20:44:14.550Z"
   },
   {
    "duration": -28,
    "start_time": "2021-12-15T20:44:14.554Z"
   },
   {
    "duration": -31,
    "start_time": "2021-12-15T20:44:14.558Z"
   },
   {
    "duration": -34,
    "start_time": "2021-12-15T20:44:14.562Z"
   },
   {
    "duration": 251,
    "start_time": "2021-12-15T20:45:51.252Z"
   },
   {
    "duration": 291,
    "start_time": "2021-12-15T20:46:05.920Z"
   },
   {
    "duration": 10,
    "start_time": "2021-12-15T20:46:08.684Z"
   },
   {
    "duration": 247,
    "start_time": "2021-12-15T20:46:11.468Z"
   },
   {
    "duration": 241,
    "start_time": "2021-12-15T20:48:48.772Z"
   },
   {
    "duration": 44,
    "start_time": "2021-12-15T20:49:13.785Z"
   },
   {
    "duration": 343,
    "start_time": "2021-12-15T20:49:13.831Z"
   },
   {
    "duration": 28,
    "start_time": "2021-12-15T20:49:14.177Z"
   },
   {
    "duration": 158,
    "start_time": "2021-12-15T20:49:14.207Z"
   },
   {
    "duration": 240,
    "start_time": "2021-12-15T20:49:14.366Z"
   },
   {
    "duration": 96,
    "start_time": "2021-12-15T20:49:14.609Z"
   },
   {
    "duration": 20,
    "start_time": "2021-12-15T20:49:14.707Z"
   },
   {
    "duration": 219,
    "start_time": "2021-12-15T20:49:14.729Z"
   },
   {
    "duration": 185,
    "start_time": "2021-12-15T20:49:14.950Z"
   },
   {
    "duration": 1326,
    "start_time": "2021-12-15T20:49:15.137Z"
   },
   {
    "duration": 39,
    "start_time": "2021-12-15T20:49:16.465Z"
   },
   {
    "duration": 299,
    "start_time": "2021-12-15T20:49:16.506Z"
   },
   {
    "duration": 2700,
    "start_time": "2021-12-15T20:49:16.807Z"
   },
   {
    "duration": 8488,
    "start_time": "2021-12-15T20:49:19.509Z"
   },
   {
    "duration": 45,
    "start_time": "2021-12-15T20:49:27.998Z"
   },
   {
    "duration": 104,
    "start_time": "2021-12-15T20:49:28.045Z"
   },
   {
    "duration": 7,
    "start_time": "2021-12-15T20:49:28.151Z"
   },
   {
    "duration": 34,
    "start_time": "2021-12-15T20:49:28.159Z"
   },
   {
    "duration": 64,
    "start_time": "2021-12-15T20:49:28.194Z"
   },
   {
    "duration": 44,
    "start_time": "2021-12-15T20:49:28.260Z"
   },
   {
    "duration": 6,
    "start_time": "2021-12-15T20:49:28.306Z"
   },
   {
    "duration": 10,
    "start_time": "2021-12-15T20:49:28.313Z"
   },
   {
    "duration": 310,
    "start_time": "2021-12-15T20:49:28.326Z"
   },
   {
    "duration": -8,
    "start_time": "2021-12-15T20:49:28.647Z"
   },
   {
    "duration": -14,
    "start_time": "2021-12-15T20:49:28.654Z"
   },
   {
    "duration": -16,
    "start_time": "2021-12-15T20:49:28.657Z"
   },
   {
    "duration": -17,
    "start_time": "2021-12-15T20:49:28.660Z"
   },
   {
    "duration": -20,
    "start_time": "2021-12-15T20:49:28.664Z"
   },
   {
    "duration": -25,
    "start_time": "2021-12-15T20:49:28.670Z"
   },
   {
    "duration": -27,
    "start_time": "2021-12-15T20:49:28.673Z"
   },
   {
    "duration": -29,
    "start_time": "2021-12-15T20:49:28.677Z"
   },
   {
    "duration": -31,
    "start_time": "2021-12-15T20:49:28.680Z"
   },
   {
    "duration": -39,
    "start_time": "2021-12-15T20:49:28.689Z"
   },
   {
    "duration": 231,
    "start_time": "2021-12-15T20:51:22.085Z"
   },
   {
    "duration": 248,
    "start_time": "2021-12-15T20:51:30.998Z"
   },
   {
    "duration": 240,
    "start_time": "2021-12-15T20:52:56.124Z"
   },
   {
    "duration": 1136,
    "start_time": "2021-12-15T20:55:01.902Z"
   },
   {
    "duration": 202,
    "start_time": "2021-12-15T20:55:03.040Z"
   },
   {
    "duration": 25,
    "start_time": "2021-12-15T20:55:03.245Z"
   },
   {
    "duration": 162,
    "start_time": "2021-12-15T20:55:03.272Z"
   },
   {
    "duration": 254,
    "start_time": "2021-12-15T20:55:03.436Z"
   },
   {
    "duration": 94,
    "start_time": "2021-12-15T20:55:03.691Z"
   },
   {
    "duration": 21,
    "start_time": "2021-12-15T20:55:03.787Z"
   },
   {
    "duration": 215,
    "start_time": "2021-12-15T20:55:03.810Z"
   },
   {
    "duration": 270,
    "start_time": "2021-12-15T20:55:04.027Z"
   },
   {
    "duration": 2104,
    "start_time": "2021-12-15T20:55:04.299Z"
   },
   {
    "duration": 46,
    "start_time": "2021-12-15T20:55:06.405Z"
   },
   {
    "duration": 384,
    "start_time": "2021-12-15T20:55:06.453Z"
   },
   {
    "duration": 3066,
    "start_time": "2021-12-15T20:55:06.839Z"
   },
   {
    "duration": 8986,
    "start_time": "2021-12-15T20:55:09.908Z"
   },
   {
    "duration": 39,
    "start_time": "2021-12-15T20:55:18.896Z"
   },
   {
    "duration": 107,
    "start_time": "2021-12-15T20:55:18.937Z"
   },
   {
    "duration": 11,
    "start_time": "2021-12-15T20:55:19.046Z"
   },
   {
    "duration": 35,
    "start_time": "2021-12-15T20:55:19.058Z"
   },
   {
    "duration": 67,
    "start_time": "2021-12-15T20:55:19.095Z"
   },
   {
    "duration": 38,
    "start_time": "2021-12-15T20:55:19.163Z"
   },
   {
    "duration": 4,
    "start_time": "2021-12-15T20:55:19.203Z"
   },
   {
    "duration": 12,
    "start_time": "2021-12-15T20:55:19.209Z"
   },
   {
    "duration": 319,
    "start_time": "2021-12-15T20:55:19.224Z"
   },
   {
    "duration": -9,
    "start_time": "2021-12-15T20:55:19.554Z"
   },
   {
    "duration": -16,
    "start_time": "2021-12-15T20:55:19.563Z"
   },
   {
    "duration": -20,
    "start_time": "2021-12-15T20:55:19.568Z"
   },
   {
    "duration": -23,
    "start_time": "2021-12-15T20:55:19.572Z"
   },
   {
    "duration": -29,
    "start_time": "2021-12-15T20:55:19.579Z"
   },
   {
    "duration": -30,
    "start_time": "2021-12-15T20:55:19.582Z"
   },
   {
    "duration": -34,
    "start_time": "2021-12-15T20:55:19.587Z"
   },
   {
    "duration": -40,
    "start_time": "2021-12-15T20:55:19.594Z"
   },
   {
    "duration": -43,
    "start_time": "2021-12-15T20:55:19.598Z"
   },
   {
    "duration": -46,
    "start_time": "2021-12-15T20:55:19.602Z"
   },
   {
    "duration": 1414,
    "start_time": "2021-12-15T20:55:42.932Z"
   },
   {
    "duration": 208,
    "start_time": "2021-12-15T20:55:44.348Z"
   },
   {
    "duration": 25,
    "start_time": "2021-12-15T20:55:44.558Z"
   },
   {
    "duration": 162,
    "start_time": "2021-12-15T20:55:44.587Z"
   },
   {
    "duration": 244,
    "start_time": "2021-12-15T20:55:44.751Z"
   },
   {
    "duration": 99,
    "start_time": "2021-12-15T20:55:44.996Z"
   },
   {
    "duration": 20,
    "start_time": "2021-12-15T20:55:45.097Z"
   },
   {
    "duration": 218,
    "start_time": "2021-12-15T20:55:45.120Z"
   },
   {
    "duration": 188,
    "start_time": "2021-12-15T20:55:45.340Z"
   },
   {
    "duration": 1615,
    "start_time": "2021-12-15T20:55:45.530Z"
   },
   {
    "duration": 54,
    "start_time": "2021-12-15T20:55:47.146Z"
   },
   {
    "duration": 397,
    "start_time": "2021-12-15T20:55:47.202Z"
   },
   {
    "duration": 2598,
    "start_time": "2021-12-15T20:55:47.613Z"
   },
   {
    "duration": 5550,
    "start_time": "2021-12-15T20:55:50.212Z"
   },
   {
    "duration": 46,
    "start_time": "2021-12-15T20:55:55.764Z"
   },
   {
    "duration": 65,
    "start_time": "2021-12-15T20:55:55.811Z"
   },
   {
    "duration": 17,
    "start_time": "2021-12-15T20:55:55.878Z"
   },
   {
    "duration": 18,
    "start_time": "2021-12-15T20:55:55.897Z"
   },
   {
    "duration": 114,
    "start_time": "2021-12-15T20:55:55.917Z"
   },
   {
    "duration": 55,
    "start_time": "2021-12-15T20:55:56.033Z"
   },
   {
    "duration": 2,
    "start_time": "2021-12-15T20:55:56.090Z"
   },
   {
    "duration": 19,
    "start_time": "2021-12-15T20:55:56.095Z"
   },
   {
    "duration": 386,
    "start_time": "2021-12-15T20:55:56.117Z"
   },
   {
    "duration": 5,
    "start_time": "2021-12-15T20:55:56.505Z"
   },
   {
    "duration": 730,
    "start_time": "2021-12-15T20:55:56.511Z"
   },
   {
    "duration": 95,
    "start_time": "2021-12-15T20:55:57.242Z"
   },
   {
    "duration": 873,
    "start_time": "2021-12-15T20:55:57.339Z"
   },
   {
    "duration": 20,
    "start_time": "2021-12-15T20:55:58.215Z"
   },
   {
    "duration": 520,
    "start_time": "2021-12-15T20:55:58.238Z"
   },
   {
    "duration": 9,
    "start_time": "2021-12-15T20:55:58.759Z"
   },
   {
    "duration": 397,
    "start_time": "2021-12-15T20:55:58.769Z"
   },
   {
    "duration": 8,
    "start_time": "2021-12-15T20:55:59.168Z"
   },
   {
    "duration": 17,
    "start_time": "2021-12-15T20:55:59.177Z"
   },
   {
    "duration": 1368,
    "start_time": "2021-12-15T20:56:21.249Z"
   },
   {
    "duration": 207,
    "start_time": "2021-12-15T20:56:22.619Z"
   },
   {
    "duration": 23,
    "start_time": "2021-12-15T20:56:22.828Z"
   },
   {
    "duration": 158,
    "start_time": "2021-12-15T20:56:22.853Z"
   },
   {
    "duration": 401,
    "start_time": "2021-12-15T20:56:23.014Z"
   },
   {
    "duration": 284,
    "start_time": "2021-12-15T20:56:23.417Z"
   },
   {
    "duration": 20,
    "start_time": "2021-12-15T20:56:23.702Z"
   },
   {
    "duration": 250,
    "start_time": "2021-12-15T20:56:23.724Z"
   },
   {
    "duration": 190,
    "start_time": "2021-12-15T20:56:23.976Z"
   },
   {
    "duration": 1303,
    "start_time": "2021-12-15T20:56:24.168Z"
   },
   {
    "duration": 45,
    "start_time": "2021-12-15T20:56:25.473Z"
   },
   {
    "duration": 246,
    "start_time": "2021-12-15T20:56:25.520Z"
   },
   {
    "duration": 2060,
    "start_time": "2021-12-15T20:56:25.767Z"
   },
   {
    "duration": 7492,
    "start_time": "2021-12-15T20:56:27.829Z"
   },
   {
    "duration": 40,
    "start_time": "2021-12-15T20:56:35.323Z"
   },
   {
    "duration": 103,
    "start_time": "2021-12-15T20:56:35.365Z"
   },
   {
    "duration": 18,
    "start_time": "2021-12-15T20:56:35.470Z"
   },
   {
    "duration": 16,
    "start_time": "2021-12-15T20:56:35.490Z"
   },
   {
    "duration": 109,
    "start_time": "2021-12-15T20:56:35.508Z"
   },
   {
    "duration": 39,
    "start_time": "2021-12-15T20:56:35.619Z"
   },
   {
    "duration": 5,
    "start_time": "2021-12-15T20:56:35.660Z"
   },
   {
    "duration": 10,
    "start_time": "2021-12-15T20:56:35.688Z"
   },
   {
    "duration": 499,
    "start_time": "2021-12-15T20:56:35.702Z"
   },
   {
    "duration": 4,
    "start_time": "2021-12-15T20:56:36.203Z"
   },
   {
    "duration": 707,
    "start_time": "2021-12-15T20:56:36.209Z"
   },
   {
    "duration": 96,
    "start_time": "2021-12-15T20:56:36.918Z"
   },
   {
    "duration": 674,
    "start_time": "2021-12-15T20:56:37.016Z"
   },
   {
    "duration": 20,
    "start_time": "2021-12-15T20:56:37.692Z"
   },
   {
    "duration": 403,
    "start_time": "2021-12-15T20:56:37.714Z"
   },
   {
    "duration": 9,
    "start_time": "2021-12-15T20:56:38.119Z"
   },
   {
    "duration": 400,
    "start_time": "2021-12-15T20:56:38.130Z"
   },
   {
    "duration": 9,
    "start_time": "2021-12-15T20:56:38.532Z"
   },
   {
    "duration": 9,
    "start_time": "2021-12-15T20:56:38.543Z"
   },
   {
    "duration": 1303,
    "start_time": "2021-12-15T20:56:57.641Z"
   },
   {
    "duration": 203,
    "start_time": "2021-12-15T20:56:58.946Z"
   },
   {
    "duration": 24,
    "start_time": "2021-12-15T20:56:59.151Z"
   },
   {
    "duration": 157,
    "start_time": "2021-12-15T20:56:59.177Z"
   },
   {
    "duration": 242,
    "start_time": "2021-12-15T20:56:59.336Z"
   },
   {
    "duration": 108,
    "start_time": "2021-12-15T20:56:59.580Z"
   },
   {
    "duration": 19,
    "start_time": "2021-12-15T20:56:59.689Z"
   },
   {
    "duration": 205,
    "start_time": "2021-12-15T20:56:59.711Z"
   },
   {
    "duration": 192,
    "start_time": "2021-12-15T20:56:59.918Z"
   },
   {
    "duration": 1276,
    "start_time": "2021-12-15T20:57:00.112Z"
   },
   {
    "duration": 43,
    "start_time": "2021-12-15T20:57:01.389Z"
   },
   {
    "duration": 386,
    "start_time": "2021-12-15T20:57:01.434Z"
   },
   {
    "duration": 3419,
    "start_time": "2021-12-15T20:57:01.822Z"
   },
   {
    "duration": 8437,
    "start_time": "2021-12-15T20:57:05.244Z"
   },
   {
    "duration": 48,
    "start_time": "2021-12-15T20:57:13.683Z"
   },
   {
    "duration": 100,
    "start_time": "2021-12-15T20:57:13.733Z"
   },
   {
    "duration": 7,
    "start_time": "2021-12-15T20:57:13.834Z"
   },
   {
    "duration": 22,
    "start_time": "2021-12-15T20:57:13.843Z"
   },
   {
    "duration": 84,
    "start_time": "2021-12-15T20:57:13.867Z"
   },
   {
    "duration": 37,
    "start_time": "2021-12-15T20:57:13.952Z"
   },
   {
    "duration": 6,
    "start_time": "2021-12-15T20:57:13.991Z"
   },
   {
    "duration": 30,
    "start_time": "2021-12-15T20:57:13.998Z"
   },
   {
    "duration": 377,
    "start_time": "2021-12-15T20:57:14.030Z"
   },
   {
    "duration": 5,
    "start_time": "2021-12-15T20:57:14.409Z"
   },
   {
    "duration": 825,
    "start_time": "2021-12-15T20:57:14.415Z"
   },
   {
    "duration": 96,
    "start_time": "2021-12-15T20:57:15.242Z"
   },
   {
    "duration": 698,
    "start_time": "2021-12-15T20:57:15.340Z"
   },
   {
    "duration": 15,
    "start_time": "2021-12-15T20:57:16.040Z"
   },
   {
    "duration": 538,
    "start_time": "2021-12-15T20:57:16.056Z"
   },
   {
    "duration": 11,
    "start_time": "2021-12-15T20:57:16.596Z"
   },
   {
    "duration": 420,
    "start_time": "2021-12-15T20:57:16.609Z"
   },
   {
    "duration": 8,
    "start_time": "2021-12-15T20:57:17.031Z"
   },
   {
    "duration": 9,
    "start_time": "2021-12-15T20:57:17.041Z"
   },
   {
    "duration": 1203,
    "start_time": "2021-12-15T20:59:00.362Z"
   },
   {
    "duration": 337,
    "start_time": "2021-12-15T20:59:01.568Z"
   },
   {
    "duration": 25,
    "start_time": "2021-12-15T20:59:01.907Z"
   },
   {
    "duration": 230,
    "start_time": "2021-12-15T20:59:01.934Z"
   },
   {
    "duration": 347,
    "start_time": "2021-12-15T20:59:02.166Z"
   },
   {
    "duration": 95,
    "start_time": "2021-12-15T20:59:02.515Z"
   },
   {
    "duration": 21,
    "start_time": "2021-12-15T20:59:02.612Z"
   },
   {
    "duration": 224,
    "start_time": "2021-12-15T20:59:02.636Z"
   },
   {
    "duration": 181,
    "start_time": "2021-12-15T20:59:02.862Z"
   },
   {
    "duration": 1593,
    "start_time": "2021-12-15T20:59:03.045Z"
   },
   {
    "duration": 48,
    "start_time": "2021-12-15T20:59:04.640Z"
   },
   {
    "duration": 244,
    "start_time": "2021-12-15T20:59:04.690Z"
   },
   {
    "duration": 2227,
    "start_time": "2021-12-15T20:59:04.936Z"
   },
   {
    "duration": 6747,
    "start_time": "2021-12-15T20:59:07.165Z"
   },
   {
    "duration": 74,
    "start_time": "2021-12-15T20:59:13.914Z"
   },
   {
    "duration": 128,
    "start_time": "2021-12-15T20:59:13.990Z"
   },
   {
    "duration": 10,
    "start_time": "2021-12-15T20:59:14.120Z"
   },
   {
    "duration": 16,
    "start_time": "2021-12-15T20:59:14.132Z"
   },
   {
    "duration": 85,
    "start_time": "2021-12-15T20:59:14.149Z"
   },
   {
    "duration": 25,
    "start_time": "2021-12-15T20:59:14.235Z"
   },
   {
    "duration": 6,
    "start_time": "2021-12-15T20:59:14.261Z"
   },
   {
    "duration": 27,
    "start_time": "2021-12-15T20:59:14.269Z"
   },
   {
    "duration": 646,
    "start_time": "2021-12-15T20:59:14.300Z"
   },
   {
    "duration": 6,
    "start_time": "2021-12-15T20:59:14.949Z"
   },
   {
    "duration": 849,
    "start_time": "2021-12-15T20:59:14.957Z"
   },
   {
    "duration": 96,
    "start_time": "2021-12-15T20:59:15.808Z"
   },
   {
    "duration": 627,
    "start_time": "2021-12-15T20:59:15.905Z"
   },
   {
    "duration": 19,
    "start_time": "2021-12-15T20:59:16.534Z"
   },
   {
    "duration": 1011,
    "start_time": "2021-12-15T20:59:16.554Z"
   },
   {
    "duration": -18,
    "start_time": "2021-12-15T20:59:17.585Z"
   },
   {
    "duration": -22,
    "start_time": "2021-12-15T20:59:17.590Z"
   },
   {
    "duration": -29,
    "start_time": "2021-12-15T20:59:17.598Z"
   },
   {
    "duration": -33,
    "start_time": "2021-12-15T20:59:17.602Z"
   },
   {
    "duration": 11,
    "start_time": "2021-12-15T21:00:00.056Z"
   },
   {
    "duration": 397,
    "start_time": "2021-12-15T21:00:01.759Z"
   },
   {
    "duration": 381,
    "start_time": "2021-12-15T21:00:14.575Z"
   },
   {
    "duration": 645,
    "start_time": "2021-12-15T21:00:21.230Z"
   },
   {
    "duration": 12,
    "start_time": "2021-12-15T21:00:58.422Z"
   },
   {
    "duration": 512,
    "start_time": "2021-12-15T21:01:00.215Z"
   },
   {
    "duration": 11,
    "start_time": "2021-12-15T21:01:22.086Z"
   },
   {
    "duration": 514,
    "start_time": "2021-12-15T21:01:27.062Z"
   },
   {
    "duration": 12,
    "start_time": "2021-12-15T21:02:01.544Z"
   },
   {
    "duration": 466,
    "start_time": "2021-12-15T21:02:03.126Z"
   },
   {
    "duration": 11,
    "start_time": "2021-12-15T21:02:30.766Z"
   },
   {
    "duration": 423,
    "start_time": "2021-12-15T21:02:32.247Z"
   },
   {
    "duration": 11,
    "start_time": "2021-12-15T21:02:40.118Z"
   },
   {
    "duration": 515,
    "start_time": "2021-12-15T21:02:41.487Z"
   },
   {
    "duration": 11,
    "start_time": "2021-12-15T21:02:51.390Z"
   },
   {
    "duration": 715,
    "start_time": "2021-12-15T21:03:33.664Z"
   },
   {
    "duration": 1295,
    "start_time": "2021-12-15T21:04:29.731Z"
   },
   {
    "duration": 235,
    "start_time": "2021-12-15T21:04:31.028Z"
   },
   {
    "duration": 28,
    "start_time": "2021-12-15T21:04:31.266Z"
   },
   {
    "duration": 233,
    "start_time": "2021-12-15T21:04:31.297Z"
   },
   {
    "duration": 374,
    "start_time": "2021-12-15T21:04:31.532Z"
   },
   {
    "duration": 133,
    "start_time": "2021-12-15T21:04:31.908Z"
   },
   {
    "duration": 28,
    "start_time": "2021-12-15T21:04:32.043Z"
   },
   {
    "duration": 218,
    "start_time": "2021-12-15T21:04:32.075Z"
   },
   {
    "duration": 186,
    "start_time": "2021-12-15T21:04:32.295Z"
   },
   {
    "duration": 1251,
    "start_time": "2021-12-15T21:04:32.483Z"
   },
   {
    "duration": 32,
    "start_time": "2021-12-15T21:04:33.736Z"
   },
   {
    "duration": 249,
    "start_time": "2021-12-15T21:04:33.769Z"
   },
   {
    "duration": 2069,
    "start_time": "2021-12-15T21:04:34.020Z"
   },
   {
    "duration": 7915,
    "start_time": "2021-12-15T21:04:36.091Z"
   },
   {
    "duration": 44,
    "start_time": "2021-12-15T21:04:44.008Z"
   },
   {
    "duration": 144,
    "start_time": "2021-12-15T21:04:44.055Z"
   },
   {
    "duration": 10,
    "start_time": "2021-12-15T21:04:44.201Z"
   },
   {
    "duration": 41,
    "start_time": "2021-12-15T21:04:44.213Z"
   },
   {
    "duration": 99,
    "start_time": "2021-12-15T21:04:44.256Z"
   },
   {
    "duration": 42,
    "start_time": "2021-12-15T21:04:44.357Z"
   },
   {
    "duration": 8,
    "start_time": "2021-12-15T21:04:44.401Z"
   },
   {
    "duration": 11,
    "start_time": "2021-12-15T21:04:49.646Z"
   },
   {
    "duration": 617,
    "start_time": "2021-12-15T21:04:51.183Z"
   },
   {
    "duration": 10,
    "start_time": "2021-12-15T21:06:05.263Z"
   },
   {
    "duration": 670,
    "start_time": "2021-12-15T21:06:07.127Z"
   },
   {
    "duration": 9,
    "start_time": "2021-12-15T21:06:17.911Z"
   },
   {
    "duration": 453,
    "start_time": "2021-12-15T21:06:19.350Z"
   },
   {
    "duration": 16,
    "start_time": "2021-12-15T21:06:34.888Z"
   },
   {
    "duration": 515,
    "start_time": "2021-12-15T21:06:36.448Z"
   },
   {
    "duration": 12,
    "start_time": "2021-12-15T21:06:46.158Z"
   },
   {
    "duration": 381,
    "start_time": "2021-12-15T21:06:47.806Z"
   },
   {
    "duration": 10,
    "start_time": "2021-12-15T21:06:59.334Z"
   },
   {
    "duration": 718,
    "start_time": "2021-12-15T21:07:00.911Z"
   },
   {
    "duration": 590,
    "start_time": "2021-12-15T21:07:22.950Z"
   },
   {
    "duration": 11,
    "start_time": "2021-12-15T21:08:45.467Z"
   },
   {
    "duration": 459,
    "start_time": "2021-12-15T21:08:46.905Z"
   },
   {
    "duration": 11,
    "start_time": "2021-12-15T21:09:03.814Z"
   },
   {
    "duration": 382,
    "start_time": "2021-12-15T21:09:08.822Z"
   },
   {
    "duration": 754,
    "start_time": "2021-12-15T21:14:17.744Z"
   },
   {
    "duration": 756,
    "start_time": "2021-12-15T21:14:23.065Z"
   },
   {
    "duration": 796,
    "start_time": "2021-12-15T21:14:39.314Z"
   },
   {
    "duration": 718,
    "start_time": "2021-12-15T21:16:17.063Z"
   },
   {
    "duration": 865,
    "start_time": "2021-12-15T21:18:09.105Z"
   },
   {
    "duration": 868,
    "start_time": "2021-12-15T21:19:24.265Z"
   },
   {
    "duration": 693,
    "start_time": "2021-12-15T21:19:43.720Z"
   },
   {
    "duration": 614,
    "start_time": "2021-12-15T21:19:52.712Z"
   },
   {
    "duration": 911,
    "start_time": "2021-12-15T21:20:01.056Z"
   },
   {
    "duration": 82,
    "start_time": "2021-12-15T21:22:53.169Z"
   },
   {
    "duration": 87,
    "start_time": "2021-12-15T21:23:03.553Z"
   },
   {
    "duration": 1151,
    "start_time": "2021-12-15T21:23:21.779Z"
   },
   {
    "duration": 618,
    "start_time": "2021-12-15T21:24:22.921Z"
   },
   {
    "duration": 858,
    "start_time": "2021-12-15T21:24:40.506Z"
   },
   {
    "duration": 870,
    "start_time": "2021-12-15T21:24:47.490Z"
   },
   {
    "duration": 912,
    "start_time": "2021-12-15T21:25:12.417Z"
   },
   {
    "duration": 881,
    "start_time": "2021-12-15T21:25:46.009Z"
   },
   {
    "duration": 855,
    "start_time": "2021-12-15T21:27:01.973Z"
   },
   {
    "duration": 920,
    "start_time": "2021-12-15T21:29:22.759Z"
   },
   {
    "duration": 867,
    "start_time": "2021-12-15T21:29:33.610Z"
   },
   {
    "duration": 687,
    "start_time": "2021-12-15T21:29:47.634Z"
   },
   {
    "duration": 967,
    "start_time": "2021-12-15T21:31:00.955Z"
   },
   {
    "duration": 850,
    "start_time": "2021-12-15T21:31:09.587Z"
   },
   {
    "duration": 1377,
    "start_time": "2021-12-15T21:32:39.469Z"
   },
   {
    "duration": 1526,
    "start_time": "2021-12-15T21:35:22.399Z"
   },
   {
    "duration": 1411,
    "start_time": "2021-12-15T21:35:45.070Z"
   },
   {
    "duration": 1381,
    "start_time": "2021-12-15T21:35:51.579Z"
   },
   {
    "duration": 1100,
    "start_time": "2021-12-15T21:36:00.539Z"
   },
   {
    "duration": 889,
    "start_time": "2021-12-15T21:36:29.231Z"
   },
   {
    "duration": 873,
    "start_time": "2021-12-15T21:36:36.651Z"
   },
   {
    "duration": 1236,
    "start_time": "2021-12-15T21:37:52.419Z"
   },
   {
    "duration": 1176,
    "start_time": "2021-12-15T21:39:42.822Z"
   },
   {
    "duration": 1044,
    "start_time": "2021-12-15T21:41:54.279Z"
   },
   {
    "duration": 910,
    "start_time": "2021-12-15T21:42:15.092Z"
   },
   {
    "duration": 1408,
    "start_time": "2021-12-15T21:42:35.708Z"
   },
   {
    "duration": 1237,
    "start_time": "2021-12-15T21:43:18.221Z"
   },
   {
    "duration": 1289,
    "start_time": "2021-12-15T21:43:41.036Z"
   },
   {
    "duration": 296,
    "start_time": "2021-12-15T21:46:16.006Z"
   },
   {
    "duration": 11,
    "start_time": "2021-12-15T21:46:36.228Z"
   },
   {
    "duration": 255,
    "start_time": "2021-12-15T21:48:33.102Z"
   },
   {
    "duration": 11,
    "start_time": "2021-12-15T21:48:53.430Z"
   },
   {
    "duration": 12,
    "start_time": "2021-12-15T21:49:05.182Z"
   },
   {
    "duration": 1157,
    "start_time": "2021-12-15T21:53:41.978Z"
   },
   {
    "duration": 220,
    "start_time": "2021-12-15T21:53:43.137Z"
   },
   {
    "duration": 24,
    "start_time": "2021-12-15T21:53:43.359Z"
   },
   {
    "duration": 159,
    "start_time": "2021-12-15T21:53:43.385Z"
   },
   {
    "duration": 247,
    "start_time": "2021-12-15T21:53:43.546Z"
   },
   {
    "duration": 93,
    "start_time": "2021-12-15T21:53:43.794Z"
   },
   {
    "duration": 20,
    "start_time": "2021-12-15T21:53:43.889Z"
   },
   {
    "duration": 216,
    "start_time": "2021-12-15T21:53:43.911Z"
   },
   {
    "duration": 187,
    "start_time": "2021-12-15T21:53:44.129Z"
   },
   {
    "duration": 1264,
    "start_time": "2021-12-15T21:53:44.318Z"
   },
   {
    "duration": 33,
    "start_time": "2021-12-15T21:53:45.587Z"
   },
   {
    "duration": 243,
    "start_time": "2021-12-15T21:53:45.621Z"
   },
   {
    "duration": 2126,
    "start_time": "2021-12-15T21:53:45.866Z"
   },
   {
    "duration": 5805,
    "start_time": "2021-12-15T21:53:47.994Z"
   },
   {
    "duration": 45,
    "start_time": "2021-12-15T21:53:53.800Z"
   },
   {
    "duration": 104,
    "start_time": "2021-12-15T21:53:53.847Z"
   },
   {
    "duration": 8,
    "start_time": "2021-12-15T21:53:53.952Z"
   },
   {
    "duration": 26,
    "start_time": "2021-12-15T21:53:53.961Z"
   },
   {
    "duration": 66,
    "start_time": "2021-12-15T21:53:53.990Z"
   },
   {
    "duration": 41,
    "start_time": "2021-12-15T21:53:54.058Z"
   },
   {
    "duration": 6,
    "start_time": "2021-12-15T21:53:54.101Z"
   },
   {
    "duration": 13,
    "start_time": "2021-12-15T21:53:54.108Z"
   },
   {
    "duration": 475,
    "start_time": "2021-12-15T21:53:54.124Z"
   },
   {
    "duration": 6,
    "start_time": "2021-12-15T21:53:54.602Z"
   },
   {
    "duration": 1341,
    "start_time": "2021-12-15T21:53:54.610Z"
   },
   {
    "duration": 8,
    "start_time": "2021-12-15T21:53:55.953Z"
   },
   {
    "duration": 603,
    "start_time": "2021-12-15T21:53:55.963Z"
   },
   {
    "duration": 24,
    "start_time": "2021-12-15T21:53:56.568Z"
   },
   {
    "duration": 400,
    "start_time": "2021-12-15T21:53:56.593Z"
   },
   {
    "duration": 10,
    "start_time": "2021-12-15T21:53:56.995Z"
   },
   {
    "duration": 13,
    "start_time": "2021-12-15T21:53:57.006Z"
   },
   {
    "duration": 405,
    "start_time": "2021-12-15T21:53:57.020Z"
   },
   {
    "duration": 9,
    "start_time": "2021-12-15T21:53:57.427Z"
   },
   {
    "duration": 42,
    "start_time": "2021-12-15T21:53:57.438Z"
   },
   {
    "duration": 1234,
    "start_time": "2021-12-15T22:05:39.099Z"
   },
   {
    "duration": 198,
    "start_time": "2021-12-15T22:05:40.335Z"
   },
   {
    "duration": 23,
    "start_time": "2021-12-15T22:05:40.535Z"
   },
   {
    "duration": 152,
    "start_time": "2021-12-15T22:05:40.560Z"
   },
   {
    "duration": 232,
    "start_time": "2021-12-15T22:05:40.713Z"
   },
   {
    "duration": 93,
    "start_time": "2021-12-15T22:05:40.946Z"
   },
   {
    "duration": 21,
    "start_time": "2021-12-15T22:05:41.040Z"
   },
   {
    "duration": 215,
    "start_time": "2021-12-15T22:05:41.064Z"
   },
   {
    "duration": 270,
    "start_time": "2021-12-15T22:05:41.282Z"
   },
   {
    "duration": 2046,
    "start_time": "2021-12-15T22:05:41.554Z"
   },
   {
    "duration": 42,
    "start_time": "2021-12-15T22:05:43.602Z"
   },
   {
    "duration": 384,
    "start_time": "2021-12-15T22:05:43.646Z"
   },
   {
    "duration": 2074,
    "start_time": "2021-12-15T22:05:44.032Z"
   },
   {
    "duration": 5546,
    "start_time": "2021-12-15T22:05:46.108Z"
   },
   {
    "duration": 52,
    "start_time": "2021-12-15T22:05:51.656Z"
   },
   {
    "duration": 97,
    "start_time": "2021-12-15T22:05:51.709Z"
   },
   {
    "duration": 7,
    "start_time": "2021-12-15T22:05:51.808Z"
   },
   {
    "duration": 16,
    "start_time": "2021-12-15T22:05:51.816Z"
   },
   {
    "duration": 81,
    "start_time": "2021-12-15T22:05:51.833Z"
   },
   {
    "duration": 27,
    "start_time": "2021-12-15T22:05:51.915Z"
   },
   {
    "duration": 7,
    "start_time": "2021-12-15T22:05:51.944Z"
   },
   {
    "duration": 36,
    "start_time": "2021-12-15T22:05:51.953Z"
   },
   {
    "duration": 457,
    "start_time": "2021-12-15T22:05:51.992Z"
   },
   {
    "duration": 6,
    "start_time": "2021-12-15T22:05:52.451Z"
   },
   {
    "duration": 1298,
    "start_time": "2021-12-15T22:05:52.458Z"
   },
   {
    "duration": 8,
    "start_time": "2021-12-15T22:05:53.758Z"
   },
   {
    "duration": 695,
    "start_time": "2021-12-15T22:05:53.768Z"
   },
   {
    "duration": 32,
    "start_time": "2021-12-15T22:05:54.465Z"
   },
   {
    "duration": 462,
    "start_time": "2021-12-15T22:05:54.501Z"
   },
   {
    "duration": 12,
    "start_time": "2021-12-15T22:05:54.965Z"
   },
   {
    "duration": 8,
    "start_time": "2021-12-15T22:05:54.987Z"
   },
   {
    "duration": 477,
    "start_time": "2021-12-15T22:05:54.997Z"
   },
   {
    "duration": 13,
    "start_time": "2021-12-15T22:05:55.476Z"
   },
   {
    "duration": 10,
    "start_time": "2021-12-15T22:05:55.491Z"
   },
   {
    "duration": 329,
    "start_time": "2021-12-15T22:12:31.238Z"
   },
   {
    "duration": 181,
    "start_time": "2021-12-15T22:12:50.308Z"
   },
   {
    "duration": 1093,
    "start_time": "2021-12-15T22:14:22.039Z"
   },
   {
    "duration": 198,
    "start_time": "2021-12-15T22:14:23.134Z"
   },
   {
    "duration": 23,
    "start_time": "2021-12-15T22:14:23.334Z"
   },
   {
    "duration": 159,
    "start_time": "2021-12-15T22:14:23.359Z"
   },
   {
    "duration": 240,
    "start_time": "2021-12-15T22:14:23.520Z"
   },
   {
    "duration": 92,
    "start_time": "2021-12-15T22:14:23.761Z"
   },
   {
    "duration": 21,
    "start_time": "2021-12-15T22:14:23.854Z"
   },
   {
    "duration": 210,
    "start_time": "2021-12-15T22:14:23.877Z"
   },
   {
    "duration": 182,
    "start_time": "2021-12-15T22:14:24.090Z"
   },
   {
    "duration": 129,
    "start_time": "2021-12-15T22:14:24.274Z"
   },
   {
    "duration": 24,
    "start_time": "2021-12-15T22:14:24.405Z"
   },
   {
    "duration": 246,
    "start_time": "2021-12-15T22:14:24.431Z"
   },
   {
    "duration": 2114,
    "start_time": "2021-12-15T22:14:24.678Z"
   },
   {
    "duration": 5375,
    "start_time": "2021-12-15T22:14:26.793Z"
   },
   {
    "duration": 52,
    "start_time": "2021-12-15T22:14:32.169Z"
   },
   {
    "duration": 91,
    "start_time": "2021-12-15T22:14:32.223Z"
   },
   {
    "duration": 7,
    "start_time": "2021-12-15T22:14:32.316Z"
   },
   {
    "duration": 18,
    "start_time": "2021-12-15T22:14:32.324Z"
   },
   {
    "duration": 80,
    "start_time": "2021-12-15T22:14:32.344Z"
   },
   {
    "duration": 26,
    "start_time": "2021-12-15T22:14:32.425Z"
   },
   {
    "duration": 10,
    "start_time": "2021-12-15T22:14:32.452Z"
   },
   {
    "duration": 26,
    "start_time": "2021-12-15T22:14:32.463Z"
   },
   {
    "duration": 773,
    "start_time": "2021-12-15T22:14:32.493Z"
   },
   {
    "duration": 6,
    "start_time": "2021-12-15T22:14:33.268Z"
   },
   {
    "duration": 1989,
    "start_time": "2021-12-15T22:14:33.288Z"
   },
   {
    "duration": 16,
    "start_time": "2021-12-15T22:14:35.279Z"
   },
   {
    "duration": 873,
    "start_time": "2021-12-15T22:14:35.297Z"
   },
   {
    "duration": 29,
    "start_time": "2021-12-15T22:14:36.172Z"
   },
   {
    "duration": 408,
    "start_time": "2021-12-15T22:14:36.203Z"
   },
   {
    "duration": 7,
    "start_time": "2021-12-15T22:14:36.613Z"
   },
   {
    "duration": 23,
    "start_time": "2021-12-15T22:14:36.622Z"
   },
   {
    "duration": 406,
    "start_time": "2021-12-15T22:14:36.646Z"
   },
   {
    "duration": 8,
    "start_time": "2021-12-15T22:14:37.054Z"
   },
   {
    "duration": 43,
    "start_time": "2021-12-15T22:14:37.064Z"
   },
   {
    "duration": 333,
    "start_time": "2021-12-15T22:16:02.734Z"
   },
   {
    "duration": 33,
    "start_time": "2021-12-15T22:16:06.693Z"
   },
   {
    "duration": 1153,
    "start_time": "2021-12-15T22:16:20.583Z"
   },
   {
    "duration": 330,
    "start_time": "2021-12-15T22:16:21.738Z"
   },
   {
    "duration": 28,
    "start_time": "2021-12-15T22:16:22.071Z"
   },
   {
    "duration": 234,
    "start_time": "2021-12-15T22:16:22.102Z"
   },
   {
    "duration": 381,
    "start_time": "2021-12-15T22:16:22.338Z"
   },
   {
    "duration": 135,
    "start_time": "2021-12-15T22:16:22.721Z"
   },
   {
    "duration": 31,
    "start_time": "2021-12-15T22:16:22.858Z"
   },
   {
    "duration": 301,
    "start_time": "2021-12-15T22:16:22.891Z"
   },
   {
    "duration": 173,
    "start_time": "2021-12-15T22:16:23.194Z"
   },
   {
    "duration": 124,
    "start_time": "2021-12-15T22:16:23.368Z"
   },
   {
    "duration": 24,
    "start_time": "2021-12-15T22:16:23.494Z"
   },
   {
    "duration": 242,
    "start_time": "2021-12-15T22:16:23.520Z"
   },
   {
    "duration": 2048,
    "start_time": "2021-12-15T22:16:23.764Z"
   },
   {
    "duration": 7286,
    "start_time": "2021-12-15T22:16:25.814Z"
   },
   {
    "duration": 43,
    "start_time": "2021-12-15T22:16:33.102Z"
   },
   {
    "duration": 101,
    "start_time": "2021-12-15T22:16:33.146Z"
   },
   {
    "duration": 7,
    "start_time": "2021-12-15T22:16:33.249Z"
   },
   {
    "duration": 46,
    "start_time": "2021-12-15T22:16:33.258Z"
   },
   {
    "duration": 65,
    "start_time": "2021-12-15T22:16:33.306Z"
   },
   {
    "duration": 40,
    "start_time": "2021-12-15T22:16:33.373Z"
   },
   {
    "duration": 8,
    "start_time": "2021-12-15T22:16:33.415Z"
   },
   {
    "duration": 13,
    "start_time": "2021-12-15T22:16:33.424Z"
   },
   {
    "duration": 774,
    "start_time": "2021-12-15T22:16:33.440Z"
   },
   {
    "duration": 6,
    "start_time": "2021-12-15T22:16:34.216Z"
   },
   {
    "duration": 1392,
    "start_time": "2021-12-15T22:16:34.224Z"
   },
   {
    "duration": 8,
    "start_time": "2021-12-15T22:16:35.618Z"
   },
   {
    "duration": 580,
    "start_time": "2021-12-15T22:16:35.627Z"
   },
   {
    "duration": 15,
    "start_time": "2021-12-15T22:16:36.209Z"
   },
   {
    "duration": 399,
    "start_time": "2021-12-15T22:16:36.226Z"
   },
   {
    "duration": 9,
    "start_time": "2021-12-15T22:16:36.627Z"
   },
   {
    "duration": 8,
    "start_time": "2021-12-15T22:16:36.637Z"
   },
   {
    "duration": 402,
    "start_time": "2021-12-15T22:16:36.647Z"
   },
   {
    "duration": 7,
    "start_time": "2021-12-15T22:16:37.051Z"
   },
   {
    "duration": 9,
    "start_time": "2021-12-15T22:16:37.060Z"
   },
   {
    "duration": 16,
    "start_time": "2021-12-15T22:18:30.783Z"
   },
   {
    "duration": 1145,
    "start_time": "2021-12-15T22:24:56.984Z"
   },
   {
    "duration": 206,
    "start_time": "2021-12-15T22:24:58.131Z"
   },
   {
    "duration": 23,
    "start_time": "2021-12-15T22:24:58.339Z"
   },
   {
    "duration": 235,
    "start_time": "2021-12-15T22:24:58.364Z"
   },
   {
    "duration": 371,
    "start_time": "2021-12-15T22:24:58.601Z"
   },
   {
    "duration": 139,
    "start_time": "2021-12-15T22:24:58.974Z"
   },
   {
    "duration": 27,
    "start_time": "2021-12-15T22:24:59.115Z"
   },
   {
    "duration": 326,
    "start_time": "2021-12-15T22:24:59.145Z"
   },
   {
    "duration": 263,
    "start_time": "2021-12-15T22:24:59.473Z"
   },
   {
    "duration": 182,
    "start_time": "2021-12-15T22:24:59.738Z"
   },
   {
    "duration": 37,
    "start_time": "2021-12-15T22:24:59.922Z"
   },
   {
    "duration": 386,
    "start_time": "2021-12-15T22:24:59.962Z"
   },
   {
    "duration": 3130,
    "start_time": "2021-12-15T22:25:00.350Z"
   },
   {
    "duration": 8644,
    "start_time": "2021-12-15T22:25:03.482Z"
   },
   {
    "duration": 49,
    "start_time": "2021-12-15T22:25:12.128Z"
   },
   {
    "duration": 93,
    "start_time": "2021-12-15T22:25:12.179Z"
   },
   {
    "duration": 7,
    "start_time": "2021-12-15T22:25:12.274Z"
   },
   {
    "duration": 36,
    "start_time": "2021-12-15T22:25:12.282Z"
   },
   {
    "duration": 73,
    "start_time": "2021-12-15T22:25:12.319Z"
   },
   {
    "duration": 26,
    "start_time": "2021-12-15T22:25:12.394Z"
   },
   {
    "duration": 6,
    "start_time": "2021-12-15T22:25:12.421Z"
   },
   {
    "duration": 10,
    "start_time": "2021-12-15T22:25:12.428Z"
   },
   {
    "duration": 443,
    "start_time": "2021-12-15T22:25:12.441Z"
   },
   {
    "duration": 5,
    "start_time": "2021-12-15T22:25:12.885Z"
   },
   {
    "duration": 1526,
    "start_time": "2021-12-15T22:25:12.891Z"
   },
   {
    "duration": 8,
    "start_time": "2021-12-15T22:25:14.418Z"
   },
   {
    "duration": 647,
    "start_time": "2021-12-15T22:25:14.428Z"
   },
   {
    "duration": 25,
    "start_time": "2021-12-15T22:25:15.076Z"
   },
   {
    "duration": 594,
    "start_time": "2021-12-15T22:25:15.103Z"
   },
   {
    "duration": 11,
    "start_time": "2021-12-15T22:25:15.699Z"
   },
   {
    "duration": 9,
    "start_time": "2021-12-15T22:25:15.712Z"
   },
   {
    "duration": 593,
    "start_time": "2021-12-15T22:25:15.723Z"
   },
   {
    "duration": 12,
    "start_time": "2021-12-15T22:25:16.318Z"
   },
   {
    "duration": 10,
    "start_time": "2021-12-15T22:25:16.332Z"
   },
   {
    "duration": 1715,
    "start_time": "2021-12-16T09:09:37.869Z"
   },
   {
    "duration": 252,
    "start_time": "2021-12-16T09:09:39.586Z"
   },
   {
    "duration": 31,
    "start_time": "2021-12-16T09:09:39.841Z"
   },
   {
    "duration": 173,
    "start_time": "2021-12-16T09:09:39.874Z"
   },
   {
    "duration": 270,
    "start_time": "2021-12-16T09:09:40.050Z"
   },
   {
    "duration": 105,
    "start_time": "2021-12-16T09:09:40.321Z"
   },
   {
    "duration": 21,
    "start_time": "2021-12-16T09:09:40.428Z"
   },
   {
    "duration": 267,
    "start_time": "2021-12-16T09:09:40.452Z"
   },
   {
    "duration": 219,
    "start_time": "2021-12-16T09:09:40.722Z"
   },
   {
    "duration": 146,
    "start_time": "2021-12-16T09:09:40.943Z"
   },
   {
    "duration": 28,
    "start_time": "2021-12-16T09:09:41.091Z"
   },
   {
    "duration": 389,
    "start_time": "2021-12-16T09:09:41.120Z"
   },
   {
    "duration": 1991,
    "start_time": "2021-12-16T09:09:41.511Z"
   },
   {
    "duration": 4537,
    "start_time": "2021-12-16T09:09:43.504Z"
   },
   {
    "duration": 54,
    "start_time": "2021-12-16T09:09:48.042Z"
   },
   {
    "duration": 120,
    "start_time": "2021-12-16T09:09:48.098Z"
   },
   {
    "duration": 8,
    "start_time": "2021-12-16T09:09:48.220Z"
   },
   {
    "duration": 63,
    "start_time": "2021-12-16T09:09:48.229Z"
   },
   {
    "duration": 39,
    "start_time": "2021-12-16T09:09:48.293Z"
   },
   {
    "duration": 43,
    "start_time": "2021-12-16T09:09:48.334Z"
   },
   {
    "duration": 5,
    "start_time": "2021-12-16T09:09:48.379Z"
   },
   {
    "duration": 38,
    "start_time": "2021-12-16T09:09:48.386Z"
   },
   {
    "duration": 456,
    "start_time": "2021-12-16T09:09:48.427Z"
   },
   {
    "duration": 6,
    "start_time": "2021-12-16T09:09:48.885Z"
   },
   {
    "duration": 1319,
    "start_time": "2021-12-16T09:09:48.893Z"
   },
   {
    "duration": 8,
    "start_time": "2021-12-16T09:09:50.214Z"
   },
   {
    "duration": 801,
    "start_time": "2021-12-16T09:09:50.224Z"
   },
   {
    "duration": 36,
    "start_time": "2021-12-16T09:09:51.027Z"
   },
   {
    "duration": 332,
    "start_time": "2021-12-16T09:09:51.065Z"
   },
   {
    "duration": 12,
    "start_time": "2021-12-16T09:09:51.400Z"
   },
   {
    "duration": 31,
    "start_time": "2021-12-16T09:09:51.414Z"
   },
   {
    "duration": 306,
    "start_time": "2021-12-16T09:09:51.447Z"
   },
   {
    "duration": 17,
    "start_time": "2021-12-16T09:09:51.755Z"
   },
   {
    "duration": 12,
    "start_time": "2021-12-16T09:09:51.775Z"
   },
   {
    "duration": 1180,
    "start_time": "2021-12-16T12:59:41.621Z"
   },
   {
    "duration": 1171,
    "start_time": "2021-12-17T20:30:15.255Z"
   },
   {
    "duration": 205,
    "start_time": "2021-12-17T20:30:16.428Z"
   },
   {
    "duration": 26,
    "start_time": "2021-12-17T20:30:16.636Z"
   },
   {
    "duration": 168,
    "start_time": "2021-12-17T20:30:16.665Z"
   },
   {
    "duration": 251,
    "start_time": "2021-12-17T20:30:16.836Z"
   },
   {
    "duration": 101,
    "start_time": "2021-12-17T20:30:17.089Z"
   },
   {
    "duration": 21,
    "start_time": "2021-12-17T20:30:17.192Z"
   },
   {
    "duration": 223,
    "start_time": "2021-12-17T20:30:17.216Z"
   },
   {
    "duration": 199,
    "start_time": "2021-12-17T20:30:17.441Z"
   },
   {
    "duration": 138,
    "start_time": "2021-12-17T20:30:17.641Z"
   },
   {
    "duration": 29,
    "start_time": "2021-12-17T20:30:17.781Z"
   },
   {
    "duration": 254,
    "start_time": "2021-12-17T20:30:17.812Z"
   },
   {
    "duration": 2351,
    "start_time": "2021-12-17T20:30:18.067Z"
   },
   {
    "duration": 5774,
    "start_time": "2021-12-17T20:30:20.420Z"
   },
   {
    "duration": 46,
    "start_time": "2021-12-17T20:30:26.197Z"
   },
   {
    "duration": 104,
    "start_time": "2021-12-17T20:30:26.245Z"
   },
   {
    "duration": 9,
    "start_time": "2021-12-17T20:30:26.364Z"
   },
   {
    "duration": 56,
    "start_time": "2021-12-17T20:30:30.241Z"
   }
  ],
  "kernelspec": {
   "display_name": "Python 3",
   "language": "python",
   "name": "python3"
  },
  "language_info": {
   "codemirror_mode": {
    "name": "ipython",
    "version": 3
   },
   "file_extension": ".py",
   "mimetype": "text/x-python",
   "name": "python",
   "nbconvert_exporter": "python",
   "pygments_lexer": "ipython3",
   "version": "3.9.2"
  },
  "toc": {
   "base_numbering": "1",
   "nav_menu": {},
   "number_sections": true,
   "sideBar": true,
   "skip_h1_title": true,
   "title_cell": "Содержание",
   "title_sidebar": "Содержание",
   "toc_cell": true,
   "toc_position": {
    "height": "calc(100% - 180px)",
    "left": "10px",
    "top": "150px",
    "width": "366.4px"
   },
   "toc_section_display": true,
   "toc_window_display": true
  }
 },
 "nbformat": 4,
 "nbformat_minor": 2
}
